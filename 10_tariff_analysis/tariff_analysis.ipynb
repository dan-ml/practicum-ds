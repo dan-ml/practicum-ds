{
 "cells": [
  {
   "cell_type": "markdown",
   "id": "8301dee7",
   "metadata": {
    "toc": true
   },
   "source": [
    "<h1>Содержание<span class=\"tocSkip\"></span></h1>\n",
    "<div class=\"toc\"><ul class=\"toc-item\"><li><span><a href=\"#Изучение-данных-из-файлов\" data-toc-modified-id=\"Изучение-данных-из-файлов-1\"><span class=\"toc-item-num\">1&nbsp;&nbsp;</span>Изучение данных из файлов</a></span></li><li><span><a href=\"#Предобработка-и-подготовка-данных\" data-toc-modified-id=\"Предобработка-и-подготовка-данных-2\"><span class=\"toc-item-num\">2&nbsp;&nbsp;</span>Предобработка и подготовка данных</a></span><ul class=\"toc-item\"><li><span><a href=\"#Исправление-проблем-в-таблицах\" data-toc-modified-id=\"Исправление-проблем-в-таблицах-2.1\"><span class=\"toc-item-num\">2.1&nbsp;&nbsp;</span>Исправление проблем в таблицах</a></span><ul class=\"toc-item\"><li><span><a href=\"#Таблица-users\" data-toc-modified-id=\"Таблица-users-2.1.1\"><span class=\"toc-item-num\">2.1.1&nbsp;&nbsp;</span>Таблица users</a></span></li><li><span><a href=\"#Таблица-calls\" data-toc-modified-id=\"Таблица-calls-2.1.2\"><span class=\"toc-item-num\">2.1.2&nbsp;&nbsp;</span>Таблица calls</a></span></li><li><span><a href=\"#Таблица-messages\" data-toc-modified-id=\"Таблица-messages-2.1.3\"><span class=\"toc-item-num\">2.1.3&nbsp;&nbsp;</span>Таблица messages</a></span></li><li><span><a href=\"#Таблица-internet\" data-toc-modified-id=\"Таблица-internet-2.1.4\"><span class=\"toc-item-num\">2.1.4&nbsp;&nbsp;</span>Таблица internet</a></span></li><li><span><a href=\"#Таблица-tariffs\" data-toc-modified-id=\"Таблица-tariffs-2.1.5\"><span class=\"toc-item-num\">2.1.5&nbsp;&nbsp;</span>Таблица tariffs</a></span></li></ul></li><li><span><a href=\"#Добавление-расчётных-данных\" data-toc-modified-id=\"Добавление-расчётных-данных-2.2\"><span class=\"toc-item-num\">2.2&nbsp;&nbsp;</span>Добавление расчётных данных</a></span></li></ul></li><li><span><a href=\"#Анализ-данных\" data-toc-modified-id=\"Анализ-данных-3\"><span class=\"toc-item-num\">3&nbsp;&nbsp;</span>Анализ данных</a></span></li><li><span><a href=\"#Проверка-гипотез\" data-toc-modified-id=\"Проверка-гипотез-4\"><span class=\"toc-item-num\">4&nbsp;&nbsp;</span>Проверка гипотез</a></span><ul class=\"toc-item\"><li><span><a href=\"#Гипотеза-1\" data-toc-modified-id=\"Гипотеза-1-4.1\"><span class=\"toc-item-num\">4.1&nbsp;&nbsp;</span>Гипотеза 1</a></span></li><li><span><a href=\"#Гипотеза-2\" data-toc-modified-id=\"Гипотеза-2-4.2\"><span class=\"toc-item-num\">4.2&nbsp;&nbsp;</span>Гипотеза 2</a></span></li></ul></li><li><span><a href=\"#Общий-вывод\" data-toc-modified-id=\"Общий-вывод-5\"><span class=\"toc-item-num\">5&nbsp;&nbsp;</span>Общий вывод</a></span></li></ul></div>"
   ]
  },
  {
   "cell_type": "markdown",
   "id": "1ae32f55",
   "metadata": {},
   "source": [
    "# Анализ тарифных планов оператора сотовой связи\n",
    "\n",
    "В проекте требуется провести анализ двух тарифных планов от оператора сотовой связи. Цель проведения анализа: определение более прибыльного тарифа для корректировки рекламного бюджета компании. Анализ будет производиться на небольшой выборке в 500 клиентов на основе данных об их действиях за 2018 год.\n",
    "\n",
    "Проект должен включать стандартные шаги по анализу данных: изучение данных из источников, предобработка данных, добавление в данные расчётных значений, исследовательский анализ, формулировка и проверка гипотез, формулировка выводов."
   ]
  },
  {
   "cell_type": "markdown",
   "id": "9f8252c1",
   "metadata": {},
   "source": [
    "## Изучение данных из файлов"
   ]
  },
  {
   "cell_type": "markdown",
   "id": "3c960bdf",
   "metadata": {},
   "source": [
    "Загрузим данные из нескольких файлов и ознакомимся с таблицами. В таблице internet присутствует столбец *Unnamed:0* c номерами строк, поэтому при загрузке данных сделаем этот столбец индексом таблицы.\n",
    "\n",
    "При выводе информации о таблицах сделаем заголовки с названиями таблиц жирным шрифтом с помощью управляющих символов ANSI. Проверим корректность наименования столбцов."
   ]
  },
  {
   "cell_type": "code",
   "execution_count": 1,
   "id": "43a847a5",
   "metadata": {},
   "outputs": [],
   "source": [
    "import pandas as pd\n",
    "import numpy as np\n",
    "import matplotlib.pyplot as plt\n",
    "from scipy import stats as st"
   ]
  },
  {
   "cell_type": "code",
   "execution_count": 2,
   "id": "2c675861",
   "metadata": {},
   "outputs": [],
   "source": [
    "try: \n",
    "    users = pd.read_csv('users.csv')\n",
    "    calls = pd.read_csv('calls.csv')\n",
    "    messages = pd.read_csv('messages.csv')\n",
    "    internet = pd.read_csv('internet.csv', index_col=0)\n",
    "    tariffs = pd.read_csv('tariffs.csv')\n",
    "except:\n",
    "    users = pd.read_csv('/datasets/users.csv')\n",
    "    calls = pd.read_csv('/datasets/calls.csv')\n",
    "    messages = pd.read_csv('/datasets/messages.csv')\n",
    "    internet = pd.read_csv('/datasets/internet.csv', index_col=0)\n",
    "    tariffs = pd.read_csv('/datasets/tariffs.csv')"
   ]
  },
  {
   "cell_type": "code",
   "execution_count": 3,
   "id": "a9c6bd82",
   "metadata": {},
   "outputs": [
    {
     "name": "stdout",
     "output_type": "stream",
     "text": [
      "\u001b[1mТаблица users:\u001b[0m\n",
      "<class 'pandas.core.frame.DataFrame'>\n",
      "RangeIndex: 500 entries, 0 to 499\n",
      "Data columns (total 8 columns):\n",
      " #   Column      Non-Null Count  Dtype \n",
      "---  ------      --------------  ----- \n",
      " 0   user_id     500 non-null    int64 \n",
      " 1   age         500 non-null    int64 \n",
      " 2   churn_date  38 non-null     object\n",
      " 3   city        500 non-null    object\n",
      " 4   first_name  500 non-null    object\n",
      " 5   last_name   500 non-null    object\n",
      " 6   reg_date    500 non-null    object\n",
      " 7   tariff      500 non-null    object\n",
      "dtypes: int64(2), object(6)\n",
      "memory usage: 31.4+ KB\n",
      "\n",
      "\u001b[1mТаблица calls:\u001b[0m\n",
      "<class 'pandas.core.frame.DataFrame'>\n",
      "RangeIndex: 202607 entries, 0 to 202606\n",
      "Data columns (total 4 columns):\n",
      " #   Column     Non-Null Count   Dtype  \n",
      "---  ------     --------------   -----  \n",
      " 0   id         202607 non-null  object \n",
      " 1   call_date  202607 non-null  object \n",
      " 2   duration   202607 non-null  float64\n",
      " 3   user_id    202607 non-null  int64  \n",
      "dtypes: float64(1), int64(1), object(2)\n",
      "memory usage: 6.2+ MB\n",
      "\n",
      "\u001b[1mТаблица messages:\u001b[0m\n",
      "<class 'pandas.core.frame.DataFrame'>\n",
      "RangeIndex: 123036 entries, 0 to 123035\n",
      "Data columns (total 3 columns):\n",
      " #   Column        Non-Null Count   Dtype \n",
      "---  ------        --------------   ----- \n",
      " 0   id            123036 non-null  object\n",
      " 1   message_date  123036 non-null  object\n",
      " 2   user_id       123036 non-null  int64 \n",
      "dtypes: int64(1), object(2)\n",
      "memory usage: 2.8+ MB\n",
      "\n",
      "\u001b[1mТаблица internet:\u001b[0m\n",
      "<class 'pandas.core.frame.DataFrame'>\n",
      "Int64Index: 149396 entries, 0 to 149395\n",
      "Data columns (total 4 columns):\n",
      " #   Column        Non-Null Count   Dtype  \n",
      "---  ------        --------------   -----  \n",
      " 0   id            149396 non-null  object \n",
      " 1   mb_used       149396 non-null  float64\n",
      " 2   session_date  149396 non-null  object \n",
      " 3   user_id       149396 non-null  int64  \n",
      "dtypes: float64(1), int64(1), object(2)\n",
      "memory usage: 5.7+ MB\n",
      "\n",
      "\u001b[1mТаблица tariffs:\u001b[0m\n",
      "<class 'pandas.core.frame.DataFrame'>\n",
      "RangeIndex: 2 entries, 0 to 1\n",
      "Data columns (total 8 columns):\n",
      " #   Column                 Non-Null Count  Dtype \n",
      "---  ------                 --------------  ----- \n",
      " 0   messages_included      2 non-null      int64 \n",
      " 1   mb_per_month_included  2 non-null      int64 \n",
      " 2   minutes_included       2 non-null      int64 \n",
      " 3   rub_monthly_fee        2 non-null      int64 \n",
      " 4   rub_per_gb             2 non-null      int64 \n",
      " 5   rub_per_message        2 non-null      int64 \n",
      " 6   rub_per_minute         2 non-null      int64 \n",
      " 7   tariff_name            2 non-null      object\n",
      "dtypes: int64(7), object(1)\n",
      "memory usage: 256.0+ bytes\n"
     ]
    }
   ],
   "source": [
    "print('\\033[1m'+'Таблица users:'+'\\033[0m')\n",
    "users.info()\n",
    "print('\\n\\033[1m'+'Таблица calls:'+'\\033[0m')\n",
    "calls.info()\n",
    "print('\\n\\033[1m'+'Таблица messages:'+'\\033[0m')\n",
    "messages.info()\n",
    "print('\\n\\033[1m'+'Таблица internet:'+'\\033[0m')\n",
    "internet.info()\n",
    "print('\\n\\033[1m'+'Таблица tariffs:'+'\\033[0m')\n",
    "tariffs.info()"
   ]
  },
  {
   "cell_type": "markdown",
   "id": "612b5be1",
   "metadata": {},
   "source": [
    "В таблице users есть пропуски в столбце churn_date, но они допустимы согласно описанию данных к проекту."
   ]
  },
  {
   "cell_type": "markdown",
   "id": "11a76f4e",
   "metadata": {},
   "source": [
    "Теперь проверим наличие лишних пробелов в названиях столбцов в таблицах."
   ]
  },
  {
   "cell_type": "code",
   "execution_count": 4,
   "id": "e3da6010",
   "metadata": {},
   "outputs": [
    {
     "name": "stdout",
     "output_type": "stream",
     "text": [
      "Таблица users: Index(['user_id', 'age', 'churn_date', 'city', 'first_name', 'last_name',\n",
      "       'reg_date', 'tariff'],\n",
      "      dtype='object')\n",
      "Таблица calls: Index(['id', 'call_date', 'duration', 'user_id'], dtype='object')\n",
      "Таблица messages: Index(['id', 'message_date', 'user_id'], dtype='object')\n",
      "Таблица internet: Index(['id', 'mb_used', 'session_date', 'user_id'], dtype='object')\n",
      "Таблица tariffs: Index(['messages_included', 'mb_per_month_included', 'minutes_included',\n",
      "       'rub_monthly_fee', 'rub_per_gb', 'rub_per_message', 'rub_per_minute',\n",
      "       'tariff_name'],\n",
      "      dtype='object')\n"
     ]
    }
   ],
   "source": [
    "print('Таблица users:', users.columns)\n",
    "print('Таблица calls:', calls.columns)\n",
    "print('Таблица messages:', messages.columns)\n",
    "print('Таблица internet:', internet.columns)\n",
    "print('Таблица tariffs:', tariffs.columns)"
   ]
  },
  {
   "cell_type": "markdown",
   "id": "62552017",
   "metadata": {},
   "source": [
    "С наименованиями столбцов всё в порядке (присутствует \"змеиный регистр\", нет лишних пробелов на концах). Можно приступать к предобработке данных."
   ]
  },
  {
   "cell_type": "markdown",
   "id": "1778880d",
   "metadata": {},
   "source": [
    "## Предобработка и подготовка данных"
   ]
  },
  {
   "cell_type": "markdown",
   "id": "311c5a7c",
   "metadata": {},
   "source": [
    "### Исправление проблем в таблицах"
   ]
  },
  {
   "cell_type": "markdown",
   "id": "36dc4e49",
   "metadata": {},
   "source": [
    "#### Таблица users"
   ]
  },
  {
   "cell_type": "markdown",
   "id": "9416082a",
   "metadata": {},
   "source": [
    "Изучим внимательнее данные в таблицах для исправления потенциальных проблем. Начнём с таблицы users."
   ]
  },
  {
   "cell_type": "code",
   "execution_count": 5,
   "id": "7e9faf62",
   "metadata": {},
   "outputs": [
    {
     "data": {
      "text/html": [
       "<div>\n",
       "<style scoped>\n",
       "    .dataframe tbody tr th:only-of-type {\n",
       "        vertical-align: middle;\n",
       "    }\n",
       "\n",
       "    .dataframe tbody tr th {\n",
       "        vertical-align: top;\n",
       "    }\n",
       "\n",
       "    .dataframe thead th {\n",
       "        text-align: right;\n",
       "    }\n",
       "</style>\n",
       "<table border=\"1\" class=\"dataframe\">\n",
       "  <thead>\n",
       "    <tr style=\"text-align: right;\">\n",
       "      <th></th>\n",
       "      <th>user_id</th>\n",
       "      <th>age</th>\n",
       "      <th>churn_date</th>\n",
       "      <th>city</th>\n",
       "      <th>first_name</th>\n",
       "      <th>last_name</th>\n",
       "      <th>reg_date</th>\n",
       "      <th>tariff</th>\n",
       "    </tr>\n",
       "  </thead>\n",
       "  <tbody>\n",
       "    <tr>\n",
       "      <th>0</th>\n",
       "      <td>1000</td>\n",
       "      <td>52</td>\n",
       "      <td>NaN</td>\n",
       "      <td>Краснодар</td>\n",
       "      <td>Рафаил</td>\n",
       "      <td>Верещагин</td>\n",
       "      <td>2018-05-25</td>\n",
       "      <td>ultra</td>\n",
       "    </tr>\n",
       "    <tr>\n",
       "      <th>1</th>\n",
       "      <td>1001</td>\n",
       "      <td>41</td>\n",
       "      <td>NaN</td>\n",
       "      <td>Москва</td>\n",
       "      <td>Иван</td>\n",
       "      <td>Ежов</td>\n",
       "      <td>2018-11-01</td>\n",
       "      <td>smart</td>\n",
       "    </tr>\n",
       "    <tr>\n",
       "      <th>2</th>\n",
       "      <td>1002</td>\n",
       "      <td>59</td>\n",
       "      <td>NaN</td>\n",
       "      <td>Стерлитамак</td>\n",
       "      <td>Евгений</td>\n",
       "      <td>Абрамович</td>\n",
       "      <td>2018-06-17</td>\n",
       "      <td>smart</td>\n",
       "    </tr>\n",
       "    <tr>\n",
       "      <th>3</th>\n",
       "      <td>1003</td>\n",
       "      <td>23</td>\n",
       "      <td>NaN</td>\n",
       "      <td>Москва</td>\n",
       "      <td>Белла</td>\n",
       "      <td>Белякова</td>\n",
       "      <td>2018-08-17</td>\n",
       "      <td>ultra</td>\n",
       "    </tr>\n",
       "    <tr>\n",
       "      <th>4</th>\n",
       "      <td>1004</td>\n",
       "      <td>68</td>\n",
       "      <td>NaN</td>\n",
       "      <td>Новокузнецк</td>\n",
       "      <td>Татьяна</td>\n",
       "      <td>Авдеенко</td>\n",
       "      <td>2018-05-14</td>\n",
       "      <td>ultra</td>\n",
       "    </tr>\n",
       "  </tbody>\n",
       "</table>\n",
       "</div>"
      ],
      "text/plain": [
       "   user_id  age churn_date         city first_name  last_name    reg_date  \\\n",
       "0     1000   52        NaN    Краснодар     Рафаил  Верещагин  2018-05-25   \n",
       "1     1001   41        NaN       Москва       Иван       Ежов  2018-11-01   \n",
       "2     1002   59        NaN  Стерлитамак    Евгений  Абрамович  2018-06-17   \n",
       "3     1003   23        NaN       Москва      Белла   Белякова  2018-08-17   \n",
       "4     1004   68        NaN  Новокузнецк    Татьяна   Авдеенко  2018-05-14   \n",
       "\n",
       "  tariff  \n",
       "0  ultra  \n",
       "1  smart  \n",
       "2  smart  \n",
       "3  ultra  \n",
       "4  ultra  "
      ]
     },
     "execution_count": 5,
     "metadata": {},
     "output_type": "execute_result"
    }
   ],
   "source": [
    "users.head(5)"
   ]
  },
  {
   "cell_type": "markdown",
   "id": "d562d84a",
   "metadata": {},
   "source": [
    "Столбец churn_date содержит значения NaN, но они оправданы согласно описанию данных. Оставим эти значения как есть. Но тип столбца преобразуем в DateTime. Значения NaN преобразуются в NaT."
   ]
  },
  {
   "cell_type": "code",
   "execution_count": 6,
   "id": "a6f54bb7",
   "metadata": {},
   "outputs": [
    {
     "data": {
      "text/plain": [
       "'datetime64[ns]'"
      ]
     },
     "execution_count": 6,
     "metadata": {},
     "output_type": "execute_result"
    }
   ],
   "source": [
    "users['churn_date'] = pd.to_datetime(users['churn_date'], format='%Y-%m-%d')\n",
    "users.churn_date.dtype.name"
   ]
  },
  {
   "cell_type": "markdown",
   "id": "7135bb5a",
   "metadata": {},
   "source": [
    "Преобразование прошло корректно. Так же преобразуем тип данных в столбце reg_date."
   ]
  },
  {
   "cell_type": "code",
   "execution_count": 7,
   "id": "71fb1b42",
   "metadata": {},
   "outputs": [
    {
     "data": {
      "text/plain": [
       "'datetime64[ns]'"
      ]
     },
     "execution_count": 7,
     "metadata": {},
     "output_type": "execute_result"
    }
   ],
   "source": [
    "users['reg_date'] = pd.to_datetime(users['reg_date'], format='%Y-%m-%d')\n",
    "users.reg_date.dtype.name"
   ]
  },
  {
   "cell_type": "markdown",
   "id": "2411effd",
   "metadata": {},
   "source": [
    "Проверим, какие значения содержатся в столбце tariff. Должно быть два уникальных значения."
   ]
  },
  {
   "cell_type": "code",
   "execution_count": 8,
   "id": "592ce443",
   "metadata": {},
   "outputs": [
    {
     "data": {
      "text/plain": [
       "array(['ultra', 'smart'], dtype=object)"
      ]
     },
     "execution_count": 8,
     "metadata": {},
     "output_type": "execute_result"
    }
   ],
   "source": [
    "users['tariff'].unique()"
   ]
  },
  {
   "cell_type": "markdown",
   "id": "ee665baf",
   "metadata": {},
   "source": [
    "Проблем в столбце нет. \n",
    "\n",
    "Теперь проверим таблицу на наличие явных дубликатов."
   ]
  },
  {
   "cell_type": "code",
   "execution_count": 9,
   "id": "bee2cdea",
   "metadata": {
    "scrolled": true
   },
   "outputs": [
    {
     "data": {
      "text/plain": [
       "0"
      ]
     },
     "execution_count": 9,
     "metadata": {},
     "output_type": "execute_result"
    }
   ],
   "source": [
    "users.duplicated().sum()"
   ]
  },
  {
   "cell_type": "markdown",
   "id": "51160c0c",
   "metadata": {},
   "source": [
    "Явных дубликатов в таблице не выявлено."
   ]
  },
  {
   "cell_type": "markdown",
   "id": "292ac0e2",
   "metadata": {},
   "source": [
    "#### Таблица calls"
   ]
  },
  {
   "cell_type": "code",
   "execution_count": 10,
   "id": "450f6347",
   "metadata": {},
   "outputs": [
    {
     "data": {
      "text/html": [
       "<div>\n",
       "<style scoped>\n",
       "    .dataframe tbody tr th:only-of-type {\n",
       "        vertical-align: middle;\n",
       "    }\n",
       "\n",
       "    .dataframe tbody tr th {\n",
       "        vertical-align: top;\n",
       "    }\n",
       "\n",
       "    .dataframe thead th {\n",
       "        text-align: right;\n",
       "    }\n",
       "</style>\n",
       "<table border=\"1\" class=\"dataframe\">\n",
       "  <thead>\n",
       "    <tr style=\"text-align: right;\">\n",
       "      <th></th>\n",
       "      <th>id</th>\n",
       "      <th>call_date</th>\n",
       "      <th>duration</th>\n",
       "      <th>user_id</th>\n",
       "    </tr>\n",
       "  </thead>\n",
       "  <tbody>\n",
       "    <tr>\n",
       "      <th>0</th>\n",
       "      <td>1000_0</td>\n",
       "      <td>2018-07-25</td>\n",
       "      <td>0.00</td>\n",
       "      <td>1000</td>\n",
       "    </tr>\n",
       "    <tr>\n",
       "      <th>1</th>\n",
       "      <td>1000_1</td>\n",
       "      <td>2018-08-17</td>\n",
       "      <td>0.00</td>\n",
       "      <td>1000</td>\n",
       "    </tr>\n",
       "    <tr>\n",
       "      <th>2</th>\n",
       "      <td>1000_2</td>\n",
       "      <td>2018-06-11</td>\n",
       "      <td>2.85</td>\n",
       "      <td>1000</td>\n",
       "    </tr>\n",
       "    <tr>\n",
       "      <th>3</th>\n",
       "      <td>1000_3</td>\n",
       "      <td>2018-09-21</td>\n",
       "      <td>13.80</td>\n",
       "      <td>1000</td>\n",
       "    </tr>\n",
       "    <tr>\n",
       "      <th>4</th>\n",
       "      <td>1000_4</td>\n",
       "      <td>2018-12-15</td>\n",
       "      <td>5.18</td>\n",
       "      <td>1000</td>\n",
       "    </tr>\n",
       "  </tbody>\n",
       "</table>\n",
       "</div>"
      ],
      "text/plain": [
       "       id   call_date  duration  user_id\n",
       "0  1000_0  2018-07-25      0.00     1000\n",
       "1  1000_1  2018-08-17      0.00     1000\n",
       "2  1000_2  2018-06-11      2.85     1000\n",
       "3  1000_3  2018-09-21     13.80     1000\n",
       "4  1000_4  2018-12-15      5.18     1000"
      ]
     },
     "execution_count": 10,
     "metadata": {},
     "output_type": "execute_result"
    }
   ],
   "source": [
    "calls.head(5)"
   ]
  },
  {
   "cell_type": "markdown",
   "id": "ac65115b",
   "metadata": {},
   "source": [
    "Преобразуем тип столбца call_date в date_time."
   ]
  },
  {
   "cell_type": "code",
   "execution_count": 11,
   "id": "aae8c3cd",
   "metadata": {},
   "outputs": [
    {
     "data": {
      "text/plain": [
       "'datetime64[ns]'"
      ]
     },
     "execution_count": 11,
     "metadata": {},
     "output_type": "execute_result"
    }
   ],
   "source": [
    "calls['call_date'] = pd.to_datetime(calls['call_date'], format='%Y-%m-%d')\n",
    "calls.call_date.dtype.name"
   ]
  },
  {
   "cell_type": "markdown",
   "id": "3153af45",
   "metadata": {},
   "source": [
    "Преобразование прошло корректно. \n",
    "\n",
    "Столбец duration хранит длительность звонков в минутах. Согласно описанию тарифных планов оператора \"Мегалайн\" всегда происходит округление длительности разговора в большую сторону до минут. Поэтому имеет смысл округлить в большую сторону данные в столбце duration. Для такого округления используем метод `np.ceil`. Затем преобразуем тип данных столбца в целочисленный."
   ]
  },
  {
   "cell_type": "code",
   "execution_count": 12,
   "id": "5e18843a",
   "metadata": {
    "scrolled": true
   },
   "outputs": [
    {
     "data": {
      "text/html": [
       "<div>\n",
       "<style scoped>\n",
       "    .dataframe tbody tr th:only-of-type {\n",
       "        vertical-align: middle;\n",
       "    }\n",
       "\n",
       "    .dataframe tbody tr th {\n",
       "        vertical-align: top;\n",
       "    }\n",
       "\n",
       "    .dataframe thead th {\n",
       "        text-align: right;\n",
       "    }\n",
       "</style>\n",
       "<table border=\"1\" class=\"dataframe\">\n",
       "  <thead>\n",
       "    <tr style=\"text-align: right;\">\n",
       "      <th></th>\n",
       "      <th>id</th>\n",
       "      <th>call_date</th>\n",
       "      <th>duration</th>\n",
       "      <th>user_id</th>\n",
       "    </tr>\n",
       "  </thead>\n",
       "  <tbody>\n",
       "    <tr>\n",
       "      <th>0</th>\n",
       "      <td>1000_0</td>\n",
       "      <td>2018-07-25</td>\n",
       "      <td>0</td>\n",
       "      <td>1000</td>\n",
       "    </tr>\n",
       "    <tr>\n",
       "      <th>1</th>\n",
       "      <td>1000_1</td>\n",
       "      <td>2018-08-17</td>\n",
       "      <td>0</td>\n",
       "      <td>1000</td>\n",
       "    </tr>\n",
       "    <tr>\n",
       "      <th>2</th>\n",
       "      <td>1000_2</td>\n",
       "      <td>2018-06-11</td>\n",
       "      <td>3</td>\n",
       "      <td>1000</td>\n",
       "    </tr>\n",
       "    <tr>\n",
       "      <th>3</th>\n",
       "      <td>1000_3</td>\n",
       "      <td>2018-09-21</td>\n",
       "      <td>14</td>\n",
       "      <td>1000</td>\n",
       "    </tr>\n",
       "    <tr>\n",
       "      <th>4</th>\n",
       "      <td>1000_4</td>\n",
       "      <td>2018-12-15</td>\n",
       "      <td>6</td>\n",
       "      <td>1000</td>\n",
       "    </tr>\n",
       "  </tbody>\n",
       "</table>\n",
       "</div>"
      ],
      "text/plain": [
       "       id  call_date  duration  user_id\n",
       "0  1000_0 2018-07-25         0     1000\n",
       "1  1000_1 2018-08-17         0     1000\n",
       "2  1000_2 2018-06-11         3     1000\n",
       "3  1000_3 2018-09-21        14     1000\n",
       "4  1000_4 2018-12-15         6     1000"
      ]
     },
     "execution_count": 12,
     "metadata": {},
     "output_type": "execute_result"
    }
   ],
   "source": [
    "calls['duration'] = np.ceil(calls['duration']).astype('int')\n",
    "calls.head(5)"
   ]
  },
  {
   "cell_type": "markdown",
   "id": "2cebe6e8",
   "metadata": {},
   "source": [
    "Округление и преобразование прошли корректно. Звонки с нулевой длительностью соответствуют пропущенным звонкам согласно описанию данных. \n",
    "\n",
    "Теперь проверим таблицу на наличие явных дубликатов."
   ]
  },
  {
   "cell_type": "code",
   "execution_count": 13,
   "id": "4fdee346",
   "metadata": {
    "scrolled": true
   },
   "outputs": [
    {
     "data": {
      "text/plain": [
       "0"
      ]
     },
     "execution_count": 13,
     "metadata": {},
     "output_type": "execute_result"
    }
   ],
   "source": [
    "calls.duplicated().sum()"
   ]
  },
  {
   "cell_type": "markdown",
   "id": "a6f7a863",
   "metadata": {},
   "source": [
    "Явных дубликатов в таблице не выявлено."
   ]
  },
  {
   "cell_type": "markdown",
   "id": "5e500f18",
   "metadata": {},
   "source": [
    "#### Таблица messages"
   ]
  },
  {
   "cell_type": "code",
   "execution_count": 14,
   "id": "ea60f4df",
   "metadata": {},
   "outputs": [
    {
     "data": {
      "text/html": [
       "<div>\n",
       "<style scoped>\n",
       "    .dataframe tbody tr th:only-of-type {\n",
       "        vertical-align: middle;\n",
       "    }\n",
       "\n",
       "    .dataframe tbody tr th {\n",
       "        vertical-align: top;\n",
       "    }\n",
       "\n",
       "    .dataframe thead th {\n",
       "        text-align: right;\n",
       "    }\n",
       "</style>\n",
       "<table border=\"1\" class=\"dataframe\">\n",
       "  <thead>\n",
       "    <tr style=\"text-align: right;\">\n",
       "      <th></th>\n",
       "      <th>id</th>\n",
       "      <th>message_date</th>\n",
       "      <th>user_id</th>\n",
       "    </tr>\n",
       "  </thead>\n",
       "  <tbody>\n",
       "    <tr>\n",
       "      <th>0</th>\n",
       "      <td>1000_0</td>\n",
       "      <td>2018-06-27</td>\n",
       "      <td>1000</td>\n",
       "    </tr>\n",
       "    <tr>\n",
       "      <th>1</th>\n",
       "      <td>1000_1</td>\n",
       "      <td>2018-10-08</td>\n",
       "      <td>1000</td>\n",
       "    </tr>\n",
       "    <tr>\n",
       "      <th>2</th>\n",
       "      <td>1000_2</td>\n",
       "      <td>2018-08-04</td>\n",
       "      <td>1000</td>\n",
       "    </tr>\n",
       "    <tr>\n",
       "      <th>3</th>\n",
       "      <td>1000_3</td>\n",
       "      <td>2018-06-16</td>\n",
       "      <td>1000</td>\n",
       "    </tr>\n",
       "    <tr>\n",
       "      <th>4</th>\n",
       "      <td>1000_4</td>\n",
       "      <td>2018-12-05</td>\n",
       "      <td>1000</td>\n",
       "    </tr>\n",
       "  </tbody>\n",
       "</table>\n",
       "</div>"
      ],
      "text/plain": [
       "       id message_date  user_id\n",
       "0  1000_0   2018-06-27     1000\n",
       "1  1000_1   2018-10-08     1000\n",
       "2  1000_2   2018-08-04     1000\n",
       "3  1000_3   2018-06-16     1000\n",
       "4  1000_4   2018-12-05     1000"
      ]
     },
     "execution_count": 14,
     "metadata": {},
     "output_type": "execute_result"
    }
   ],
   "source": [
    "messages.head(5)"
   ]
  },
  {
   "cell_type": "markdown",
   "id": "e5d1124b",
   "metadata": {},
   "source": [
    "Преобразуем тип данных столбца message_date в date_time."
   ]
  },
  {
   "cell_type": "code",
   "execution_count": 15,
   "id": "a06dbb10",
   "metadata": {},
   "outputs": [
    {
     "data": {
      "text/plain": [
       "'datetime64[ns]'"
      ]
     },
     "execution_count": 15,
     "metadata": {},
     "output_type": "execute_result"
    }
   ],
   "source": [
    "messages['message_date'] = pd.to_datetime(messages['message_date'], format='%Y-%m-%d')\n",
    "messages.message_date.dtype.name"
   ]
  },
  {
   "cell_type": "markdown",
   "id": "aaa6740a",
   "metadata": {},
   "source": [
    "Проверим таблицу на наличие явных дубликатов."
   ]
  },
  {
   "cell_type": "code",
   "execution_count": 16,
   "id": "66b4d231",
   "metadata": {},
   "outputs": [
    {
     "data": {
      "text/plain": [
       "0"
      ]
     },
     "execution_count": 16,
     "metadata": {},
     "output_type": "execute_result"
    }
   ],
   "source": [
    "messages.duplicated().sum()"
   ]
  },
  {
   "cell_type": "markdown",
   "id": "8ed946b8",
   "metadata": {},
   "source": [
    "Явных дубликатов в таблице не выявлено."
   ]
  },
  {
   "cell_type": "markdown",
   "id": "2e57fbe1",
   "metadata": {},
   "source": [
    "#### Таблица internet"
   ]
  },
  {
   "cell_type": "code",
   "execution_count": 17,
   "id": "e0625d1f",
   "metadata": {},
   "outputs": [
    {
     "data": {
      "text/html": [
       "<div>\n",
       "<style scoped>\n",
       "    .dataframe tbody tr th:only-of-type {\n",
       "        vertical-align: middle;\n",
       "    }\n",
       "\n",
       "    .dataframe tbody tr th {\n",
       "        vertical-align: top;\n",
       "    }\n",
       "\n",
       "    .dataframe thead th {\n",
       "        text-align: right;\n",
       "    }\n",
       "</style>\n",
       "<table border=\"1\" class=\"dataframe\">\n",
       "  <thead>\n",
       "    <tr style=\"text-align: right;\">\n",
       "      <th></th>\n",
       "      <th>id</th>\n",
       "      <th>mb_used</th>\n",
       "      <th>session_date</th>\n",
       "      <th>user_id</th>\n",
       "    </tr>\n",
       "  </thead>\n",
       "  <tbody>\n",
       "    <tr>\n",
       "      <th>149386</th>\n",
       "      <td>1499_147</td>\n",
       "      <td>0.00</td>\n",
       "      <td>2018-10-21</td>\n",
       "      <td>1499</td>\n",
       "    </tr>\n",
       "    <tr>\n",
       "      <th>149387</th>\n",
       "      <td>1499_148</td>\n",
       "      <td>268.19</td>\n",
       "      <td>2018-11-13</td>\n",
       "      <td>1499</td>\n",
       "    </tr>\n",
       "    <tr>\n",
       "      <th>149388</th>\n",
       "      <td>1499_149</td>\n",
       "      <td>778.68</td>\n",
       "      <td>2018-11-24</td>\n",
       "      <td>1499</td>\n",
       "    </tr>\n",
       "    <tr>\n",
       "      <th>149389</th>\n",
       "      <td>1499_150</td>\n",
       "      <td>273.98</td>\n",
       "      <td>2018-11-20</td>\n",
       "      <td>1499</td>\n",
       "    </tr>\n",
       "    <tr>\n",
       "      <th>149390</th>\n",
       "      <td>1499_151</td>\n",
       "      <td>752.72</td>\n",
       "      <td>2018-10-11</td>\n",
       "      <td>1499</td>\n",
       "    </tr>\n",
       "    <tr>\n",
       "      <th>149391</th>\n",
       "      <td>1499_152</td>\n",
       "      <td>318.90</td>\n",
       "      <td>2018-10-03</td>\n",
       "      <td>1499</td>\n",
       "    </tr>\n",
       "    <tr>\n",
       "      <th>149392</th>\n",
       "      <td>1499_153</td>\n",
       "      <td>490.13</td>\n",
       "      <td>2018-12-14</td>\n",
       "      <td>1499</td>\n",
       "    </tr>\n",
       "    <tr>\n",
       "      <th>149393</th>\n",
       "      <td>1499_154</td>\n",
       "      <td>0.00</td>\n",
       "      <td>2018-10-27</td>\n",
       "      <td>1499</td>\n",
       "    </tr>\n",
       "    <tr>\n",
       "      <th>149394</th>\n",
       "      <td>1499_155</td>\n",
       "      <td>1246.32</td>\n",
       "      <td>2018-11-26</td>\n",
       "      <td>1499</td>\n",
       "    </tr>\n",
       "    <tr>\n",
       "      <th>149395</th>\n",
       "      <td>1499_156</td>\n",
       "      <td>544.37</td>\n",
       "      <td>2018-10-26</td>\n",
       "      <td>1499</td>\n",
       "    </tr>\n",
       "  </tbody>\n",
       "</table>\n",
       "</div>"
      ],
      "text/plain": [
       "              id  mb_used session_date  user_id\n",
       "149386  1499_147     0.00   2018-10-21     1499\n",
       "149387  1499_148   268.19   2018-11-13     1499\n",
       "149388  1499_149   778.68   2018-11-24     1499\n",
       "149389  1499_150   273.98   2018-11-20     1499\n",
       "149390  1499_151   752.72   2018-10-11     1499\n",
       "149391  1499_152   318.90   2018-10-03     1499\n",
       "149392  1499_153   490.13   2018-12-14     1499\n",
       "149393  1499_154     0.00   2018-10-27     1499\n",
       "149394  1499_155  1246.32   2018-11-26     1499\n",
       "149395  1499_156   544.37   2018-10-26     1499"
      ]
     },
     "execution_count": 17,
     "metadata": {},
     "output_type": "execute_result"
    }
   ],
   "source": [
    "internet.tail(10)"
   ]
  },
  {
   "cell_type": "markdown",
   "id": "1fbb74cf",
   "metadata": {},
   "source": [
    "В столбце mb_used присутствуют нулевые значения. Их можно воспринимать как неудачные попытки выхода в интернет, когда использования интернет-трафика не было. Удалять строки с этими нулевыми значениями не будем, так как они показывают, были ли у пользователя технические проблемы.\n",
    "\n",
    "Преобразуем тип данных столбца session_date в date_time."
   ]
  },
  {
   "cell_type": "code",
   "execution_count": 18,
   "id": "2b0c7bbe",
   "metadata": {},
   "outputs": [
    {
     "data": {
      "text/plain": [
       "'datetime64[ns]'"
      ]
     },
     "execution_count": 18,
     "metadata": {},
     "output_type": "execute_result"
    }
   ],
   "source": [
    "internet['session_date'] = pd.to_datetime(internet['session_date'], format='%Y-%m-%d')\n",
    "internet.session_date.dtype.name"
   ]
  },
  {
   "cell_type": "markdown",
   "id": "c8c1a2a3",
   "metadata": {},
   "source": [
    "Проверим таблицу на наличие явных дубликатов."
   ]
  },
  {
   "cell_type": "code",
   "execution_count": 19,
   "id": "4c982af5",
   "metadata": {},
   "outputs": [
    {
     "data": {
      "text/plain": [
       "0"
      ]
     },
     "execution_count": 19,
     "metadata": {},
     "output_type": "execute_result"
    }
   ],
   "source": [
    "internet.duplicated().sum()"
   ]
  },
  {
   "cell_type": "markdown",
   "id": "f7794317",
   "metadata": {},
   "source": [
    "Явных дубликатов в таблице не выявлено."
   ]
  },
  {
   "cell_type": "markdown",
   "id": "bbd5a9bd",
   "metadata": {},
   "source": [
    "#### Таблица tariffs"
   ]
  },
  {
   "cell_type": "code",
   "execution_count": 20,
   "id": "d87b616a",
   "metadata": {},
   "outputs": [
    {
     "data": {
      "text/html": [
       "<div>\n",
       "<style scoped>\n",
       "    .dataframe tbody tr th:only-of-type {\n",
       "        vertical-align: middle;\n",
       "    }\n",
       "\n",
       "    .dataframe tbody tr th {\n",
       "        vertical-align: top;\n",
       "    }\n",
       "\n",
       "    .dataframe thead th {\n",
       "        text-align: right;\n",
       "    }\n",
       "</style>\n",
       "<table border=\"1\" class=\"dataframe\">\n",
       "  <thead>\n",
       "    <tr style=\"text-align: right;\">\n",
       "      <th></th>\n",
       "      <th>messages_included</th>\n",
       "      <th>mb_per_month_included</th>\n",
       "      <th>minutes_included</th>\n",
       "      <th>rub_monthly_fee</th>\n",
       "      <th>rub_per_gb</th>\n",
       "      <th>rub_per_message</th>\n",
       "      <th>rub_per_minute</th>\n",
       "      <th>tariff_name</th>\n",
       "    </tr>\n",
       "  </thead>\n",
       "  <tbody>\n",
       "    <tr>\n",
       "      <th>0</th>\n",
       "      <td>50</td>\n",
       "      <td>15360</td>\n",
       "      <td>500</td>\n",
       "      <td>550</td>\n",
       "      <td>200</td>\n",
       "      <td>3</td>\n",
       "      <td>3</td>\n",
       "      <td>smart</td>\n",
       "    </tr>\n",
       "    <tr>\n",
       "      <th>1</th>\n",
       "      <td>1000</td>\n",
       "      <td>30720</td>\n",
       "      <td>3000</td>\n",
       "      <td>1950</td>\n",
       "      <td>150</td>\n",
       "      <td>1</td>\n",
       "      <td>1</td>\n",
       "      <td>ultra</td>\n",
       "    </tr>\n",
       "  </tbody>\n",
       "</table>\n",
       "</div>"
      ],
      "text/plain": [
       "   messages_included  mb_per_month_included  minutes_included  \\\n",
       "0                 50                  15360               500   \n",
       "1               1000                  30720              3000   \n",
       "\n",
       "   rub_monthly_fee  rub_per_gb  rub_per_message  rub_per_minute tariff_name  \n",
       "0              550         200                3               3       smart  \n",
       "1             1950         150                1               1       ultra  "
      ]
     },
     "execution_count": 20,
     "metadata": {},
     "output_type": "execute_result"
    }
   ],
   "source": [
    "tariffs"
   ]
  },
  {
   "cell_type": "markdown",
   "id": "68816914",
   "metadata": {},
   "source": [
    "Следует перевести значения столбца mb_per_month_included в Гигабайты, так как в тарифах учитываются именно они. Потом можно переименовать сам столбец."
   ]
  },
  {
   "cell_type": "code",
   "execution_count": 21,
   "id": "70c73886",
   "metadata": {
    "scrolled": true
   },
   "outputs": [
    {
     "data": {
      "text/html": [
       "<div>\n",
       "<style scoped>\n",
       "    .dataframe tbody tr th:only-of-type {\n",
       "        vertical-align: middle;\n",
       "    }\n",
       "\n",
       "    .dataframe tbody tr th {\n",
       "        vertical-align: top;\n",
       "    }\n",
       "\n",
       "    .dataframe thead th {\n",
       "        text-align: right;\n",
       "    }\n",
       "</style>\n",
       "<table border=\"1\" class=\"dataframe\">\n",
       "  <thead>\n",
       "    <tr style=\"text-align: right;\">\n",
       "      <th></th>\n",
       "      <th>messages_included</th>\n",
       "      <th>gb_per_month_included</th>\n",
       "      <th>minutes_included</th>\n",
       "      <th>rub_monthly_fee</th>\n",
       "      <th>rub_per_gb</th>\n",
       "      <th>rub_per_message</th>\n",
       "      <th>rub_per_minute</th>\n",
       "      <th>tariff_name</th>\n",
       "    </tr>\n",
       "  </thead>\n",
       "  <tbody>\n",
       "    <tr>\n",
       "      <th>0</th>\n",
       "      <td>50</td>\n",
       "      <td>15</td>\n",
       "      <td>500</td>\n",
       "      <td>550</td>\n",
       "      <td>200</td>\n",
       "      <td>3</td>\n",
       "      <td>3</td>\n",
       "      <td>smart</td>\n",
       "    </tr>\n",
       "    <tr>\n",
       "      <th>1</th>\n",
       "      <td>1000</td>\n",
       "      <td>30</td>\n",
       "      <td>3000</td>\n",
       "      <td>1950</td>\n",
       "      <td>150</td>\n",
       "      <td>1</td>\n",
       "      <td>1</td>\n",
       "      <td>ultra</td>\n",
       "    </tr>\n",
       "  </tbody>\n",
       "</table>\n",
       "</div>"
      ],
      "text/plain": [
       "   messages_included  gb_per_month_included  minutes_included  \\\n",
       "0                 50                     15               500   \n",
       "1               1000                     30              3000   \n",
       "\n",
       "   rub_monthly_fee  rub_per_gb  rub_per_message  rub_per_minute tariff_name  \n",
       "0              550         200                3               3       smart  \n",
       "1             1950         150                1               1       ultra  "
      ]
     },
     "execution_count": 21,
     "metadata": {},
     "output_type": "execute_result"
    }
   ],
   "source": [
    "tariffs['mb_per_month_included'] = (tariffs['mb_per_month_included']/1024).astype('int')\n",
    "tariffs.rename(columns={'mb_per_month_included':'gb_per_month_included'}, inplace=True)\n",
    "tariffs"
   ]
  },
  {
   "cell_type": "markdown",
   "id": "d9ba87bb",
   "metadata": {},
   "source": [
    "Проверим таблицу на наличие явных дубликатов."
   ]
  },
  {
   "cell_type": "code",
   "execution_count": 22,
   "id": "14fd2aad",
   "metadata": {},
   "outputs": [
    {
     "data": {
      "text/plain": [
       "0"
      ]
     },
     "execution_count": 22,
     "metadata": {},
     "output_type": "execute_result"
    }
   ],
   "source": [
    "tariffs.duplicated().sum()"
   ]
  },
  {
   "cell_type": "markdown",
   "id": "7c5e3ec6",
   "metadata": {},
   "source": [
    "Явных дубликатов в таблице не выявлено."
   ]
  },
  {
   "cell_type": "markdown",
   "id": "44ad155c",
   "metadata": {},
   "source": [
    "### Добавление расчётных данных"
   ]
  },
  {
   "cell_type": "markdown",
   "id": "b3e09de5",
   "metadata": {},
   "source": [
    "Для каждого пользователя необходимо посчитать количество сделанных звонков и израсходованных минут разговора по месяцам. Для этого сначала создадим в таблице calls отдельный столбец с месяцем звонков. Повторения месяцев для разных годов не будет, так как в таблице содержатся сведения только за 2018 год."
   ]
  },
  {
   "cell_type": "code",
   "execution_count": 23,
   "id": "f1dce0fc",
   "metadata": {},
   "outputs": [
    {
     "data": {
      "text/html": [
       "<div>\n",
       "<style scoped>\n",
       "    .dataframe tbody tr th:only-of-type {\n",
       "        vertical-align: middle;\n",
       "    }\n",
       "\n",
       "    .dataframe tbody tr th {\n",
       "        vertical-align: top;\n",
       "    }\n",
       "\n",
       "    .dataframe thead th {\n",
       "        text-align: right;\n",
       "    }\n",
       "</style>\n",
       "<table border=\"1\" class=\"dataframe\">\n",
       "  <thead>\n",
       "    <tr style=\"text-align: right;\">\n",
       "      <th></th>\n",
       "      <th>id</th>\n",
       "      <th>call_date</th>\n",
       "      <th>duration</th>\n",
       "      <th>user_id</th>\n",
       "      <th>month</th>\n",
       "    </tr>\n",
       "  </thead>\n",
       "  <tbody>\n",
       "    <tr>\n",
       "      <th>0</th>\n",
       "      <td>1000_0</td>\n",
       "      <td>2018-07-25</td>\n",
       "      <td>0</td>\n",
       "      <td>1000</td>\n",
       "      <td>7</td>\n",
       "    </tr>\n",
       "    <tr>\n",
       "      <th>1</th>\n",
       "      <td>1000_1</td>\n",
       "      <td>2018-08-17</td>\n",
       "      <td>0</td>\n",
       "      <td>1000</td>\n",
       "      <td>8</td>\n",
       "    </tr>\n",
       "    <tr>\n",
       "      <th>2</th>\n",
       "      <td>1000_2</td>\n",
       "      <td>2018-06-11</td>\n",
       "      <td>3</td>\n",
       "      <td>1000</td>\n",
       "      <td>6</td>\n",
       "    </tr>\n",
       "  </tbody>\n",
       "</table>\n",
       "</div>"
      ],
      "text/plain": [
       "       id  call_date  duration  user_id  month\n",
       "0  1000_0 2018-07-25         0     1000      7\n",
       "1  1000_1 2018-08-17         0     1000      8\n",
       "2  1000_2 2018-06-11         3     1000      6"
      ]
     },
     "execution_count": 23,
     "metadata": {},
     "output_type": "execute_result"
    }
   ],
   "source": [
    "calls['month'] = calls['call_date'].dt.month\n",
    "calls.head(3)"
   ]
  },
  {
   "cell_type": "markdown",
   "id": "2195d276",
   "metadata": {},
   "source": [
    "Столбец успешно добавился в таблицу. Теперь с помощью сводной таблицы посчитаем количество звонков и сумму израсходованных минут в месяц. В конце переименуем столбцы сводной таблицы."
   ]
  },
  {
   "cell_type": "code",
   "execution_count": 24,
   "id": "8a4f0178",
   "metadata": {},
   "outputs": [
    {
     "data": {
      "text/html": [
       "<div>\n",
       "<style scoped>\n",
       "    .dataframe tbody tr th:only-of-type {\n",
       "        vertical-align: middle;\n",
       "    }\n",
       "\n",
       "    .dataframe tbody tr th {\n",
       "        vertical-align: top;\n",
       "    }\n",
       "\n",
       "    .dataframe thead th {\n",
       "        text-align: right;\n",
       "    }\n",
       "</style>\n",
       "<table border=\"1\" class=\"dataframe\">\n",
       "  <thead>\n",
       "    <tr style=\"text-align: right;\">\n",
       "      <th></th>\n",
       "      <th></th>\n",
       "      <th>monthly_duration</th>\n",
       "      <th>calls_count</th>\n",
       "    </tr>\n",
       "    <tr>\n",
       "      <th>user_id</th>\n",
       "      <th>month</th>\n",
       "      <th></th>\n",
       "      <th></th>\n",
       "    </tr>\n",
       "  </thead>\n",
       "  <tbody>\n",
       "    <tr>\n",
       "      <th rowspan=\"5\" valign=\"top\">1000</th>\n",
       "      <th>5</th>\n",
       "      <td>159</td>\n",
       "      <td>22</td>\n",
       "    </tr>\n",
       "    <tr>\n",
       "      <th>6</th>\n",
       "      <td>172</td>\n",
       "      <td>43</td>\n",
       "    </tr>\n",
       "    <tr>\n",
       "      <th>7</th>\n",
       "      <td>340</td>\n",
       "      <td>47</td>\n",
       "    </tr>\n",
       "    <tr>\n",
       "      <th>8</th>\n",
       "      <td>408</td>\n",
       "      <td>52</td>\n",
       "    </tr>\n",
       "    <tr>\n",
       "      <th>9</th>\n",
       "      <td>466</td>\n",
       "      <td>58</td>\n",
       "    </tr>\n",
       "  </tbody>\n",
       "</table>\n",
       "</div>"
      ],
      "text/plain": [
       "               monthly_duration  calls_count\n",
       "user_id month                               \n",
       "1000    5                   159           22\n",
       "        6                   172           43\n",
       "        7                   340           47\n",
       "        8                   408           52\n",
       "        9                   466           58"
      ]
     },
     "execution_count": 24,
     "metadata": {},
     "output_type": "execute_result"
    }
   ],
   "source": [
    "calls_grouped = (calls.pivot_table(index=['user_id', 'month'], values=['id', 'duration'], \n",
    "                                 aggfunc={'id':'count', 'duration':'sum'}))\n",
    "calls_grouped.columns = ('monthly_duration','calls_count')\n",
    "calls_grouped.head(5)"
   ]
  },
  {
   "cell_type": "markdown",
   "id": "46f84a82",
   "metadata": {},
   "source": [
    "Аналогичные сводные таблицы составим также для сообщений и интернет траффика по месяцам (перед этими действиями добавим в таблицы столбцы с номером месяца). В сводной таблице с объёмом трафика по месяцам переведём мегабайты в гигабайты и округлим в бОльшую сторону (так как в тарифах трафик за месяц округляется до гигабайт)."
   ]
  },
  {
   "cell_type": "code",
   "execution_count": 25,
   "id": "b5ea7ddf",
   "metadata": {},
   "outputs": [
    {
     "data": {
      "text/html": [
       "<div>\n",
       "<style scoped>\n",
       "    .dataframe tbody tr th:only-of-type {\n",
       "        vertical-align: middle;\n",
       "    }\n",
       "\n",
       "    .dataframe tbody tr th {\n",
       "        vertical-align: top;\n",
       "    }\n",
       "\n",
       "    .dataframe thead th {\n",
       "        text-align: right;\n",
       "    }\n",
       "</style>\n",
       "<table border=\"1\" class=\"dataframe\">\n",
       "  <thead>\n",
       "    <tr style=\"text-align: right;\">\n",
       "      <th></th>\n",
       "      <th>id</th>\n",
       "      <th>message_date</th>\n",
       "      <th>user_id</th>\n",
       "      <th>month</th>\n",
       "    </tr>\n",
       "  </thead>\n",
       "  <tbody>\n",
       "    <tr>\n",
       "      <th>0</th>\n",
       "      <td>1000_0</td>\n",
       "      <td>2018-06-27</td>\n",
       "      <td>1000</td>\n",
       "      <td>6</td>\n",
       "    </tr>\n",
       "    <tr>\n",
       "      <th>1</th>\n",
       "      <td>1000_1</td>\n",
       "      <td>2018-10-08</td>\n",
       "      <td>1000</td>\n",
       "      <td>10</td>\n",
       "    </tr>\n",
       "    <tr>\n",
       "      <th>2</th>\n",
       "      <td>1000_2</td>\n",
       "      <td>2018-08-04</td>\n",
       "      <td>1000</td>\n",
       "      <td>8</td>\n",
       "    </tr>\n",
       "  </tbody>\n",
       "</table>\n",
       "</div>"
      ],
      "text/plain": [
       "       id message_date  user_id  month\n",
       "0  1000_0   2018-06-27     1000      6\n",
       "1  1000_1   2018-10-08     1000     10\n",
       "2  1000_2   2018-08-04     1000      8"
      ]
     },
     "metadata": {},
     "output_type": "display_data"
    },
    {
     "data": {
      "text/html": [
       "<div>\n",
       "<style scoped>\n",
       "    .dataframe tbody tr th:only-of-type {\n",
       "        vertical-align: middle;\n",
       "    }\n",
       "\n",
       "    .dataframe tbody tr th {\n",
       "        vertical-align: top;\n",
       "    }\n",
       "\n",
       "    .dataframe thead th {\n",
       "        text-align: right;\n",
       "    }\n",
       "</style>\n",
       "<table border=\"1\" class=\"dataframe\">\n",
       "  <thead>\n",
       "    <tr style=\"text-align: right;\">\n",
       "      <th></th>\n",
       "      <th>id</th>\n",
       "      <th>mb_used</th>\n",
       "      <th>session_date</th>\n",
       "      <th>user_id</th>\n",
       "      <th>month</th>\n",
       "    </tr>\n",
       "  </thead>\n",
       "  <tbody>\n",
       "    <tr>\n",
       "      <th>0</th>\n",
       "      <td>1000_0</td>\n",
       "      <td>112.95</td>\n",
       "      <td>2018-11-25</td>\n",
       "      <td>1000</td>\n",
       "      <td>11</td>\n",
       "    </tr>\n",
       "    <tr>\n",
       "      <th>1</th>\n",
       "      <td>1000_1</td>\n",
       "      <td>1052.81</td>\n",
       "      <td>2018-09-07</td>\n",
       "      <td>1000</td>\n",
       "      <td>9</td>\n",
       "    </tr>\n",
       "    <tr>\n",
       "      <th>2</th>\n",
       "      <td>1000_2</td>\n",
       "      <td>1197.26</td>\n",
       "      <td>2018-06-25</td>\n",
       "      <td>1000</td>\n",
       "      <td>6</td>\n",
       "    </tr>\n",
       "  </tbody>\n",
       "</table>\n",
       "</div>"
      ],
      "text/plain": [
       "       id  mb_used session_date  user_id  month\n",
       "0  1000_0   112.95   2018-11-25     1000     11\n",
       "1  1000_1  1052.81   2018-09-07     1000      9\n",
       "2  1000_2  1197.26   2018-06-25     1000      6"
      ]
     },
     "metadata": {},
     "output_type": "display_data"
    }
   ],
   "source": [
    "messages['month'] = messages['message_date'].dt.month\n",
    "internet['month'] = internet['session_date'].dt.month\n",
    "display(messages.head(3))\n",
    "display(internet.head(3))"
   ]
  },
  {
   "cell_type": "code",
   "execution_count": 26,
   "id": "bcff5734",
   "metadata": {},
   "outputs": [
    {
     "data": {
      "text/html": [
       "<div>\n",
       "<style scoped>\n",
       "    .dataframe tbody tr th:only-of-type {\n",
       "        vertical-align: middle;\n",
       "    }\n",
       "\n",
       "    .dataframe tbody tr th {\n",
       "        vertical-align: top;\n",
       "    }\n",
       "\n",
       "    .dataframe thead th {\n",
       "        text-align: right;\n",
       "    }\n",
       "</style>\n",
       "<table border=\"1\" class=\"dataframe\">\n",
       "  <thead>\n",
       "    <tr style=\"text-align: right;\">\n",
       "      <th></th>\n",
       "      <th></th>\n",
       "      <th>messages_count</th>\n",
       "    </tr>\n",
       "    <tr>\n",
       "      <th>user_id</th>\n",
       "      <th>month</th>\n",
       "      <th></th>\n",
       "    </tr>\n",
       "  </thead>\n",
       "  <tbody>\n",
       "    <tr>\n",
       "      <th rowspan=\"8\" valign=\"top\">1000</th>\n",
       "      <th>5</th>\n",
       "      <td>22</td>\n",
       "    </tr>\n",
       "    <tr>\n",
       "      <th>6</th>\n",
       "      <td>60</td>\n",
       "    </tr>\n",
       "    <tr>\n",
       "      <th>7</th>\n",
       "      <td>75</td>\n",
       "    </tr>\n",
       "    <tr>\n",
       "      <th>8</th>\n",
       "      <td>81</td>\n",
       "    </tr>\n",
       "    <tr>\n",
       "      <th>9</th>\n",
       "      <td>57</td>\n",
       "    </tr>\n",
       "    <tr>\n",
       "      <th>10</th>\n",
       "      <td>73</td>\n",
       "    </tr>\n",
       "    <tr>\n",
       "      <th>11</th>\n",
       "      <td>58</td>\n",
       "    </tr>\n",
       "    <tr>\n",
       "      <th>12</th>\n",
       "      <td>70</td>\n",
       "    </tr>\n",
       "    <tr>\n",
       "      <th rowspan=\"2\" valign=\"top\">1002</th>\n",
       "      <th>6</th>\n",
       "      <td>4</td>\n",
       "    </tr>\n",
       "    <tr>\n",
       "      <th>7</th>\n",
       "      <td>11</td>\n",
       "    </tr>\n",
       "  </tbody>\n",
       "</table>\n",
       "</div>"
      ],
      "text/plain": [
       "               messages_count\n",
       "user_id month                \n",
       "1000    5                  22\n",
       "        6                  60\n",
       "        7                  75\n",
       "        8                  81\n",
       "        9                  57\n",
       "        10                 73\n",
       "        11                 58\n",
       "        12                 70\n",
       "1002    6                   4\n",
       "        7                  11"
      ]
     },
     "metadata": {},
     "output_type": "display_data"
    },
    {
     "data": {
      "text/html": [
       "<div>\n",
       "<style scoped>\n",
       "    .dataframe tbody tr th:only-of-type {\n",
       "        vertical-align: middle;\n",
       "    }\n",
       "\n",
       "    .dataframe tbody tr th {\n",
       "        vertical-align: top;\n",
       "    }\n",
       "\n",
       "    .dataframe thead th {\n",
       "        text-align: right;\n",
       "    }\n",
       "</style>\n",
       "<table border=\"1\" class=\"dataframe\">\n",
       "  <thead>\n",
       "    <tr style=\"text-align: right;\">\n",
       "      <th></th>\n",
       "      <th></th>\n",
       "      <th>monthly_traffic</th>\n",
       "    </tr>\n",
       "    <tr>\n",
       "      <th>user_id</th>\n",
       "      <th>month</th>\n",
       "      <th></th>\n",
       "    </tr>\n",
       "  </thead>\n",
       "  <tbody>\n",
       "    <tr>\n",
       "      <th rowspan=\"8\" valign=\"top\">1000</th>\n",
       "      <th>5</th>\n",
       "      <td>3</td>\n",
       "    </tr>\n",
       "    <tr>\n",
       "      <th>6</th>\n",
       "      <td>23</td>\n",
       "    </tr>\n",
       "    <tr>\n",
       "      <th>7</th>\n",
       "      <td>14</td>\n",
       "    </tr>\n",
       "    <tr>\n",
       "      <th>8</th>\n",
       "      <td>14</td>\n",
       "    </tr>\n",
       "    <tr>\n",
       "      <th>9</th>\n",
       "      <td>15</td>\n",
       "    </tr>\n",
       "    <tr>\n",
       "      <th>10</th>\n",
       "      <td>15</td>\n",
       "    </tr>\n",
       "    <tr>\n",
       "      <th>11</th>\n",
       "      <td>15</td>\n",
       "    </tr>\n",
       "    <tr>\n",
       "      <th>12</th>\n",
       "      <td>10</td>\n",
       "    </tr>\n",
       "    <tr>\n",
       "      <th rowspan=\"2\" valign=\"top\">1001</th>\n",
       "      <th>11</th>\n",
       "      <td>18</td>\n",
       "    </tr>\n",
       "    <tr>\n",
       "      <th>12</th>\n",
       "      <td>14</td>\n",
       "    </tr>\n",
       "  </tbody>\n",
       "</table>\n",
       "</div>"
      ],
      "text/plain": [
       "               monthly_traffic\n",
       "user_id month                 \n",
       "1000    5                    3\n",
       "        6                   23\n",
       "        7                   14\n",
       "        8                   14\n",
       "        9                   15\n",
       "        10                  15\n",
       "        11                  15\n",
       "        12                  10\n",
       "1001    11                  18\n",
       "        12                  14"
      ]
     },
     "metadata": {},
     "output_type": "display_data"
    }
   ],
   "source": [
    "messages_grouped = messages.pivot_table(index=['user_id', 'month'], values='id', aggfunc='count')\n",
    "internet_grouped = internet.pivot_table(index=['user_id', 'month'], values='mb_used', aggfunc='sum')\n",
    "messages_grouped.rename(columns={'id':'messages_count'}, inplace=True)\n",
    "internet_grouped.rename(columns={'mb_used':'monthly_traffic'}, inplace=True)\n",
    "internet_grouped['monthly_traffic'] = np.ceil(internet_grouped['monthly_traffic']/1024).astype('int')\n",
    "display(messages_grouped.head(10))\n",
    "display(internet_grouped.head(10))"
   ]
  },
  {
   "cell_type": "markdown",
   "id": "0de31358",
   "metadata": {},
   "source": [
    "Сводные таблицы составились корректно. Теперь объединим таблицы calls_grouped, messages_grouped и internet_grouped по их мультииндексам."
   ]
  },
  {
   "cell_type": "code",
   "execution_count": 27,
   "id": "688df1a0",
   "metadata": {},
   "outputs": [
    {
     "data": {
      "text/html": [
       "<div>\n",
       "<style scoped>\n",
       "    .dataframe tbody tr th:only-of-type {\n",
       "        vertical-align: middle;\n",
       "    }\n",
       "\n",
       "    .dataframe tbody tr th {\n",
       "        vertical-align: top;\n",
       "    }\n",
       "\n",
       "    .dataframe thead th {\n",
       "        text-align: right;\n",
       "    }\n",
       "</style>\n",
       "<table border=\"1\" class=\"dataframe\">\n",
       "  <thead>\n",
       "    <tr style=\"text-align: right;\">\n",
       "      <th></th>\n",
       "      <th></th>\n",
       "      <th>monthly_duration</th>\n",
       "      <th>calls_count</th>\n",
       "      <th>messages_count</th>\n",
       "      <th>monthly_traffic</th>\n",
       "    </tr>\n",
       "    <tr>\n",
       "      <th>user_id</th>\n",
       "      <th>month</th>\n",
       "      <th></th>\n",
       "      <th></th>\n",
       "      <th></th>\n",
       "      <th></th>\n",
       "    </tr>\n",
       "  </thead>\n",
       "  <tbody>\n",
       "    <tr>\n",
       "      <th rowspan=\"5\" valign=\"top\">1000</th>\n",
       "      <th>5</th>\n",
       "      <td>159.0</td>\n",
       "      <td>22.0</td>\n",
       "      <td>22.0</td>\n",
       "      <td>3.0</td>\n",
       "    </tr>\n",
       "    <tr>\n",
       "      <th>6</th>\n",
       "      <td>172.0</td>\n",
       "      <td>43.0</td>\n",
       "      <td>60.0</td>\n",
       "      <td>23.0</td>\n",
       "    </tr>\n",
       "    <tr>\n",
       "      <th>7</th>\n",
       "      <td>340.0</td>\n",
       "      <td>47.0</td>\n",
       "      <td>75.0</td>\n",
       "      <td>14.0</td>\n",
       "    </tr>\n",
       "    <tr>\n",
       "      <th>8</th>\n",
       "      <td>408.0</td>\n",
       "      <td>52.0</td>\n",
       "      <td>81.0</td>\n",
       "      <td>14.0</td>\n",
       "    </tr>\n",
       "    <tr>\n",
       "      <th>9</th>\n",
       "      <td>466.0</td>\n",
       "      <td>58.0</td>\n",
       "      <td>57.0</td>\n",
       "      <td>15.0</td>\n",
       "    </tr>\n",
       "    <tr>\n",
       "      <th>...</th>\n",
       "      <th>...</th>\n",
       "      <td>...</td>\n",
       "      <td>...</td>\n",
       "      <td>...</td>\n",
       "      <td>...</td>\n",
       "    </tr>\n",
       "    <tr>\n",
       "      <th>1498</th>\n",
       "      <th>10</th>\n",
       "      <td>247.0</td>\n",
       "      <td>41.0</td>\n",
       "      <td>42.0</td>\n",
       "      <td>21.0</td>\n",
       "    </tr>\n",
       "    <tr>\n",
       "      <th rowspan=\"4\" valign=\"top\">1499</th>\n",
       "      <th>9</th>\n",
       "      <td>70.0</td>\n",
       "      <td>9.0</td>\n",
       "      <td>11.0</td>\n",
       "      <td>2.0</td>\n",
       "    </tr>\n",
       "    <tr>\n",
       "      <th>10</th>\n",
       "      <td>449.0</td>\n",
       "      <td>68.0</td>\n",
       "      <td>48.0</td>\n",
       "      <td>18.0</td>\n",
       "    </tr>\n",
       "    <tr>\n",
       "      <th>11</th>\n",
       "      <td>612.0</td>\n",
       "      <td>74.0</td>\n",
       "      <td>59.0</td>\n",
       "      <td>18.0</td>\n",
       "    </tr>\n",
       "    <tr>\n",
       "      <th>12</th>\n",
       "      <td>492.0</td>\n",
       "      <td>69.0</td>\n",
       "      <td>66.0</td>\n",
       "      <td>13.0</td>\n",
       "    </tr>\n",
       "  </tbody>\n",
       "</table>\n",
       "<p>3214 rows × 4 columns</p>\n",
       "</div>"
      ],
      "text/plain": [
       "               monthly_duration  calls_count  messages_count  monthly_traffic\n",
       "user_id month                                                                \n",
       "1000    5                 159.0         22.0            22.0              3.0\n",
       "        6                 172.0         43.0            60.0             23.0\n",
       "        7                 340.0         47.0            75.0             14.0\n",
       "        8                 408.0         52.0            81.0             14.0\n",
       "        9                 466.0         58.0            57.0             15.0\n",
       "...                         ...          ...             ...              ...\n",
       "1498    10                247.0         41.0            42.0             21.0\n",
       "1499    9                  70.0          9.0            11.0              2.0\n",
       "        10                449.0         68.0            48.0             18.0\n",
       "        11                612.0         74.0            59.0             18.0\n",
       "        12                492.0         69.0            66.0             13.0\n",
       "\n",
       "[3214 rows x 4 columns]"
      ]
     },
     "metadata": {},
     "output_type": "display_data"
    },
    {
     "name": "stdout",
     "output_type": "stream",
     "text": [
      "<class 'pandas.core.frame.DataFrame'>\n",
      "MultiIndex: 3214 entries, (1000, 5) to (1499, 12)\n",
      "Data columns (total 4 columns):\n",
      " #   Column            Non-Null Count  Dtype  \n",
      "---  ------            --------------  -----  \n",
      " 0   monthly_duration  3174 non-null   float64\n",
      " 1   calls_count       3174 non-null   float64\n",
      " 2   messages_count    2717 non-null   float64\n",
      " 3   monthly_traffic   3203 non-null   float64\n",
      "dtypes: float64(4)\n",
      "memory usage: 130.4 KB\n"
     ]
    }
   ],
   "source": [
    "users_monthly_data = calls_grouped.join([messages_grouped, internet_grouped], how='outer')\n",
    "display(users_monthly_data)\n",
    "users_monthly_data.info()"
   ]
  },
  {
   "cell_type": "markdown",
   "id": "2527972e",
   "metadata": {},
   "source": [
    "Объединение таблицы прошло успешно. В некоторых столбцах появились пропуски. Это логично, так как не все пользователи, к примеру, пользовались сообщениями. А кто-то не пользовался интернетом. Заполним все эти пропуски нулями."
   ]
  },
  {
   "cell_type": "code",
   "execution_count": 28,
   "id": "9c330bd6",
   "metadata": {},
   "outputs": [
    {
     "name": "stdout",
     "output_type": "stream",
     "text": [
      "<class 'pandas.core.frame.DataFrame'>\n",
      "MultiIndex: 3214 entries, (1000, 5) to (1499, 12)\n",
      "Data columns (total 4 columns):\n",
      " #   Column            Non-Null Count  Dtype  \n",
      "---  ------            --------------  -----  \n",
      " 0   monthly_duration  3214 non-null   float64\n",
      " 1   calls_count       3214 non-null   float64\n",
      " 2   messages_count    3214 non-null   float64\n",
      " 3   monthly_traffic   3214 non-null   float64\n",
      "dtypes: float64(4)\n",
      "memory usage: 130.4 KB\n"
     ]
    }
   ],
   "source": [
    "users_monthly_data.fillna(value=0, inplace=True)\n",
    "users_monthly_data.info()"
   ]
  },
  {
   "cell_type": "markdown",
   "id": "c24ba1ae",
   "metadata": {},
   "source": [
    "Пропуски успешно заполнились нулями. К сожалению, видно, что тип данных у столбцов после объединения таблиц изменился на вещественный. Нужно это исправить и привести все столбцы к целочисленному типу."
   ]
  },
  {
   "cell_type": "code",
   "execution_count": 29,
   "id": "246d58e6",
   "metadata": {},
   "outputs": [
    {
     "name": "stdout",
     "output_type": "stream",
     "text": [
      "<class 'pandas.core.frame.DataFrame'>\n",
      "MultiIndex: 3214 entries, (1000, 5) to (1499, 12)\n",
      "Data columns (total 4 columns):\n",
      " #   Column            Non-Null Count  Dtype\n",
      "---  ------            --------------  -----\n",
      " 0   monthly_duration  3214 non-null   int32\n",
      " 1   calls_count       3214 non-null   int32\n",
      " 2   messages_count    3214 non-null   int32\n",
      " 3   monthly_traffic   3214 non-null   int32\n",
      "dtypes: int32(4)\n",
      "memory usage: 80.2 KB\n"
     ]
    }
   ],
   "source": [
    "users_monthly_data = users_monthly_data.astype('int')\n",
    "users_monthly_data.info()"
   ]
  },
  {
   "cell_type": "markdown",
   "id": "ea9ab99b",
   "metadata": {},
   "source": [
    "Преобразование типа данных прошло верно. Теперь в таблицу users_monthly_data следует добавить столбец со помесячной выручкой от пользователей. Назовём этот столбец monthly_revenue. Для расчёта значений в этом столбце необходимо знать наименование тарифа у конкретного пользователя (эти сведения содержатся в таблице users). По наименованию тарифа можно определить параметры для расчёта выручки из таблицы tariffs. \n",
    "\n",
    "Поэтому необходимо сначала добавить в таблицу столбец tariff (для п. 4 проекта ещё добавим столбец city). Для решения этой задачи создадим датафрейм users_slice, включающий только столбцы user_id, tariff и city из таблицы users. Потом присвоим индексам датафрейма users_slice значения столбца user_id с помощью метода set_index. Так мы подготовим датафрейм users_slice к объединению с датафреймом users_monthly_data с помощью команды join."
   ]
  },
  {
   "cell_type": "code",
   "execution_count": 30,
   "id": "f3afa88b",
   "metadata": {},
   "outputs": [
    {
     "data": {
      "text/html": [
       "<div>\n",
       "<style scoped>\n",
       "    .dataframe tbody tr th:only-of-type {\n",
       "        vertical-align: middle;\n",
       "    }\n",
       "\n",
       "    .dataframe tbody tr th {\n",
       "        vertical-align: top;\n",
       "    }\n",
       "\n",
       "    .dataframe thead th {\n",
       "        text-align: right;\n",
       "    }\n",
       "</style>\n",
       "<table border=\"1\" class=\"dataframe\">\n",
       "  <thead>\n",
       "    <tr style=\"text-align: right;\">\n",
       "      <th></th>\n",
       "      <th></th>\n",
       "      <th>monthly_duration</th>\n",
       "      <th>calls_count</th>\n",
       "      <th>messages_count</th>\n",
       "      <th>monthly_traffic</th>\n",
       "      <th>tariff</th>\n",
       "      <th>city</th>\n",
       "    </tr>\n",
       "    <tr>\n",
       "      <th>user_id</th>\n",
       "      <th>month</th>\n",
       "      <th></th>\n",
       "      <th></th>\n",
       "      <th></th>\n",
       "      <th></th>\n",
       "      <th></th>\n",
       "      <th></th>\n",
       "    </tr>\n",
       "  </thead>\n",
       "  <tbody>\n",
       "    <tr>\n",
       "      <th rowspan=\"8\" valign=\"top\">1000</th>\n",
       "      <th>5</th>\n",
       "      <td>159</td>\n",
       "      <td>22</td>\n",
       "      <td>22</td>\n",
       "      <td>3</td>\n",
       "      <td>ultra</td>\n",
       "      <td>Краснодар</td>\n",
       "    </tr>\n",
       "    <tr>\n",
       "      <th>6</th>\n",
       "      <td>172</td>\n",
       "      <td>43</td>\n",
       "      <td>60</td>\n",
       "      <td>23</td>\n",
       "      <td>ultra</td>\n",
       "      <td>Краснодар</td>\n",
       "    </tr>\n",
       "    <tr>\n",
       "      <th>7</th>\n",
       "      <td>340</td>\n",
       "      <td>47</td>\n",
       "      <td>75</td>\n",
       "      <td>14</td>\n",
       "      <td>ultra</td>\n",
       "      <td>Краснодар</td>\n",
       "    </tr>\n",
       "    <tr>\n",
       "      <th>8</th>\n",
       "      <td>408</td>\n",
       "      <td>52</td>\n",
       "      <td>81</td>\n",
       "      <td>14</td>\n",
       "      <td>ultra</td>\n",
       "      <td>Краснодар</td>\n",
       "    </tr>\n",
       "    <tr>\n",
       "      <th>9</th>\n",
       "      <td>466</td>\n",
       "      <td>58</td>\n",
       "      <td>57</td>\n",
       "      <td>15</td>\n",
       "      <td>ultra</td>\n",
       "      <td>Краснодар</td>\n",
       "    </tr>\n",
       "    <tr>\n",
       "      <th>10</th>\n",
       "      <td>350</td>\n",
       "      <td>57</td>\n",
       "      <td>73</td>\n",
       "      <td>15</td>\n",
       "      <td>ultra</td>\n",
       "      <td>Краснодар</td>\n",
       "    </tr>\n",
       "    <tr>\n",
       "      <th>11</th>\n",
       "      <td>338</td>\n",
       "      <td>43</td>\n",
       "      <td>58</td>\n",
       "      <td>15</td>\n",
       "      <td>ultra</td>\n",
       "      <td>Краснодар</td>\n",
       "    </tr>\n",
       "    <tr>\n",
       "      <th>12</th>\n",
       "      <td>333</td>\n",
       "      <td>46</td>\n",
       "      <td>70</td>\n",
       "      <td>10</td>\n",
       "      <td>ultra</td>\n",
       "      <td>Краснодар</td>\n",
       "    </tr>\n",
       "    <tr>\n",
       "      <th rowspan=\"2\" valign=\"top\">1001</th>\n",
       "      <th>11</th>\n",
       "      <td>430</td>\n",
       "      <td>59</td>\n",
       "      <td>0</td>\n",
       "      <td>18</td>\n",
       "      <td>smart</td>\n",
       "      <td>Москва</td>\n",
       "    </tr>\n",
       "    <tr>\n",
       "      <th>12</th>\n",
       "      <td>414</td>\n",
       "      <td>63</td>\n",
       "      <td>0</td>\n",
       "      <td>14</td>\n",
       "      <td>smart</td>\n",
       "      <td>Москва</td>\n",
       "    </tr>\n",
       "    <tr>\n",
       "      <th rowspan=\"7\" valign=\"top\">1002</th>\n",
       "      <th>6</th>\n",
       "      <td>117</td>\n",
       "      <td>15</td>\n",
       "      <td>4</td>\n",
       "      <td>11</td>\n",
       "      <td>smart</td>\n",
       "      <td>Стерлитамак</td>\n",
       "    </tr>\n",
       "    <tr>\n",
       "      <th>7</th>\n",
       "      <td>214</td>\n",
       "      <td>26</td>\n",
       "      <td>11</td>\n",
       "      <td>18</td>\n",
       "      <td>smart</td>\n",
       "      <td>Стерлитамак</td>\n",
       "    </tr>\n",
       "    <tr>\n",
       "      <th>8</th>\n",
       "      <td>289</td>\n",
       "      <td>42</td>\n",
       "      <td>13</td>\n",
       "      <td>20</td>\n",
       "      <td>smart</td>\n",
       "      <td>Стерлитамак</td>\n",
       "    </tr>\n",
       "    <tr>\n",
       "      <th>9</th>\n",
       "      <td>206</td>\n",
       "      <td>36</td>\n",
       "      <td>4</td>\n",
       "      <td>17</td>\n",
       "      <td>smart</td>\n",
       "      <td>Стерлитамак</td>\n",
       "    </tr>\n",
       "    <tr>\n",
       "      <th>10</th>\n",
       "      <td>212</td>\n",
       "      <td>33</td>\n",
       "      <td>10</td>\n",
       "      <td>14</td>\n",
       "      <td>smart</td>\n",
       "      <td>Стерлитамак</td>\n",
       "    </tr>\n",
       "    <tr>\n",
       "      <th>11</th>\n",
       "      <td>243</td>\n",
       "      <td>32</td>\n",
       "      <td>16</td>\n",
       "      <td>19</td>\n",
       "      <td>smart</td>\n",
       "      <td>Стерлитамак</td>\n",
       "    </tr>\n",
       "    <tr>\n",
       "      <th>12</th>\n",
       "      <td>236</td>\n",
       "      <td>33</td>\n",
       "      <td>12</td>\n",
       "      <td>18</td>\n",
       "      <td>smart</td>\n",
       "      <td>Стерлитамак</td>\n",
       "    </tr>\n",
       "    <tr>\n",
       "      <th rowspan=\"3\" valign=\"top\">1003</th>\n",
       "      <th>8</th>\n",
       "      <td>380</td>\n",
       "      <td>55</td>\n",
       "      <td>37</td>\n",
       "      <td>9</td>\n",
       "      <td>ultra</td>\n",
       "      <td>Москва</td>\n",
       "    </tr>\n",
       "    <tr>\n",
       "      <th>9</th>\n",
       "      <td>961</td>\n",
       "      <td>134</td>\n",
       "      <td>91</td>\n",
       "      <td>13</td>\n",
       "      <td>ultra</td>\n",
       "      <td>Москва</td>\n",
       "    </tr>\n",
       "    <tr>\n",
       "      <th>10</th>\n",
       "      <td>855</td>\n",
       "      <td>108</td>\n",
       "      <td>83</td>\n",
       "      <td>15</td>\n",
       "      <td>ultra</td>\n",
       "      <td>Москва</td>\n",
       "    </tr>\n",
       "  </tbody>\n",
       "</table>\n",
       "</div>"
      ],
      "text/plain": [
       "               monthly_duration  calls_count  messages_count  monthly_traffic  \\\n",
       "user_id month                                                                   \n",
       "1000    5                   159           22              22                3   \n",
       "        6                   172           43              60               23   \n",
       "        7                   340           47              75               14   \n",
       "        8                   408           52              81               14   \n",
       "        9                   466           58              57               15   \n",
       "        10                  350           57              73               15   \n",
       "        11                  338           43              58               15   \n",
       "        12                  333           46              70               10   \n",
       "1001    11                  430           59               0               18   \n",
       "        12                  414           63               0               14   \n",
       "1002    6                   117           15               4               11   \n",
       "        7                   214           26              11               18   \n",
       "        8                   289           42              13               20   \n",
       "        9                   206           36               4               17   \n",
       "        10                  212           33              10               14   \n",
       "        11                  243           32              16               19   \n",
       "        12                  236           33              12               18   \n",
       "1003    8                   380           55              37                9   \n",
       "        9                   961          134              91               13   \n",
       "        10                  855          108              83               15   \n",
       "\n",
       "              tariff         city  \n",
       "user_id month                      \n",
       "1000    5      ultra    Краснодар  \n",
       "        6      ultra    Краснодар  \n",
       "        7      ultra    Краснодар  \n",
       "        8      ultra    Краснодар  \n",
       "        9      ultra    Краснодар  \n",
       "        10     ultra    Краснодар  \n",
       "        11     ultra    Краснодар  \n",
       "        12     ultra    Краснодар  \n",
       "1001    11     smart       Москва  \n",
       "        12     smart       Москва  \n",
       "1002    6      smart  Стерлитамак  \n",
       "        7      smart  Стерлитамак  \n",
       "        8      smart  Стерлитамак  \n",
       "        9      smart  Стерлитамак  \n",
       "        10     smart  Стерлитамак  \n",
       "        11     smart  Стерлитамак  \n",
       "        12     smart  Стерлитамак  \n",
       "1003    8      ultra       Москва  \n",
       "        9      ultra       Москва  \n",
       "        10     ultra       Москва  "
      ]
     },
     "execution_count": 30,
     "metadata": {},
     "output_type": "execute_result"
    }
   ],
   "source": [
    "users_slice = users[['user_id', 'tariff', 'city']]\n",
    "users_slice.set_index('user_id', drop=True, inplace=True)\n",
    "users_monthly_data = users_monthly_data.join(users_slice)\n",
    "users_monthly_data.head(20)"
   ]
  },
  {
   "cell_type": "markdown",
   "id": "a487a3c3",
   "metadata": {},
   "source": [
    "Столбец со значениями тарифов успешно добавился. Только теперь можно создавать столбец monthly_revenue. Для заполнения этого столбца расчётными значениями выручки напишем функцию `revenue_calc` для вычисления выручки и применим её к столбцу monthly_revenue через функцию apply. Также напишем функцию `kill_neg` которая на выходе даёт ноль, если аргумент отрицательный. Эта функция пригодится внутри функции revenue_calc (если, к примеру, пользователь проговорил в месяц 300 минут, а в тариф включено 500, то при расчёте выручки не должна рассчитываться сумма за доп. минуты)."
   ]
  },
  {
   "cell_type": "code",
   "execution_count": 31,
   "id": "d3caadcf",
   "metadata": {
    "scrolled": true
   },
   "outputs": [
    {
     "data": {
      "text/html": [
       "<div>\n",
       "<style scoped>\n",
       "    .dataframe tbody tr th:only-of-type {\n",
       "        vertical-align: middle;\n",
       "    }\n",
       "\n",
       "    .dataframe tbody tr th {\n",
       "        vertical-align: top;\n",
       "    }\n",
       "\n",
       "    .dataframe thead th {\n",
       "        text-align: right;\n",
       "    }\n",
       "</style>\n",
       "<table border=\"1\" class=\"dataframe\">\n",
       "  <thead>\n",
       "    <tr style=\"text-align: right;\">\n",
       "      <th></th>\n",
       "      <th></th>\n",
       "      <th>monthly_duration</th>\n",
       "      <th>calls_count</th>\n",
       "      <th>messages_count</th>\n",
       "      <th>monthly_traffic</th>\n",
       "      <th>tariff</th>\n",
       "      <th>city</th>\n",
       "      <th>monthly_revenue</th>\n",
       "    </tr>\n",
       "    <tr>\n",
       "      <th>user_id</th>\n",
       "      <th>month</th>\n",
       "      <th></th>\n",
       "      <th></th>\n",
       "      <th></th>\n",
       "      <th></th>\n",
       "      <th></th>\n",
       "      <th></th>\n",
       "      <th></th>\n",
       "    </tr>\n",
       "  </thead>\n",
       "  <tbody>\n",
       "    <tr>\n",
       "      <th rowspan=\"8\" valign=\"top\">1000</th>\n",
       "      <th>5</th>\n",
       "      <td>159</td>\n",
       "      <td>22</td>\n",
       "      <td>22</td>\n",
       "      <td>3</td>\n",
       "      <td>ultra</td>\n",
       "      <td>Краснодар</td>\n",
       "      <td>1950</td>\n",
       "    </tr>\n",
       "    <tr>\n",
       "      <th>6</th>\n",
       "      <td>172</td>\n",
       "      <td>43</td>\n",
       "      <td>60</td>\n",
       "      <td>23</td>\n",
       "      <td>ultra</td>\n",
       "      <td>Краснодар</td>\n",
       "      <td>1950</td>\n",
       "    </tr>\n",
       "    <tr>\n",
       "      <th>7</th>\n",
       "      <td>340</td>\n",
       "      <td>47</td>\n",
       "      <td>75</td>\n",
       "      <td>14</td>\n",
       "      <td>ultra</td>\n",
       "      <td>Краснодар</td>\n",
       "      <td>1950</td>\n",
       "    </tr>\n",
       "    <tr>\n",
       "      <th>8</th>\n",
       "      <td>408</td>\n",
       "      <td>52</td>\n",
       "      <td>81</td>\n",
       "      <td>14</td>\n",
       "      <td>ultra</td>\n",
       "      <td>Краснодар</td>\n",
       "      <td>1950</td>\n",
       "    </tr>\n",
       "    <tr>\n",
       "      <th>9</th>\n",
       "      <td>466</td>\n",
       "      <td>58</td>\n",
       "      <td>57</td>\n",
       "      <td>15</td>\n",
       "      <td>ultra</td>\n",
       "      <td>Краснодар</td>\n",
       "      <td>1950</td>\n",
       "    </tr>\n",
       "    <tr>\n",
       "      <th>10</th>\n",
       "      <td>350</td>\n",
       "      <td>57</td>\n",
       "      <td>73</td>\n",
       "      <td>15</td>\n",
       "      <td>ultra</td>\n",
       "      <td>Краснодар</td>\n",
       "      <td>1950</td>\n",
       "    </tr>\n",
       "    <tr>\n",
       "      <th>11</th>\n",
       "      <td>338</td>\n",
       "      <td>43</td>\n",
       "      <td>58</td>\n",
       "      <td>15</td>\n",
       "      <td>ultra</td>\n",
       "      <td>Краснодар</td>\n",
       "      <td>1950</td>\n",
       "    </tr>\n",
       "    <tr>\n",
       "      <th>12</th>\n",
       "      <td>333</td>\n",
       "      <td>46</td>\n",
       "      <td>70</td>\n",
       "      <td>10</td>\n",
       "      <td>ultra</td>\n",
       "      <td>Краснодар</td>\n",
       "      <td>1950</td>\n",
       "    </tr>\n",
       "    <tr>\n",
       "      <th rowspan=\"2\" valign=\"top\">1001</th>\n",
       "      <th>11</th>\n",
       "      <td>430</td>\n",
       "      <td>59</td>\n",
       "      <td>0</td>\n",
       "      <td>18</td>\n",
       "      <td>smart</td>\n",
       "      <td>Москва</td>\n",
       "      <td>1150</td>\n",
       "    </tr>\n",
       "    <tr>\n",
       "      <th>12</th>\n",
       "      <td>414</td>\n",
       "      <td>63</td>\n",
       "      <td>0</td>\n",
       "      <td>14</td>\n",
       "      <td>smart</td>\n",
       "      <td>Москва</td>\n",
       "      <td>550</td>\n",
       "    </tr>\n",
       "  </tbody>\n",
       "</table>\n",
       "</div>"
      ],
      "text/plain": [
       "               monthly_duration  calls_count  messages_count  monthly_traffic  \\\n",
       "user_id month                                                                   \n",
       "1000    5                   159           22              22                3   \n",
       "        6                   172           43              60               23   \n",
       "        7                   340           47              75               14   \n",
       "        8                   408           52              81               14   \n",
       "        9                   466           58              57               15   \n",
       "        10                  350           57              73               15   \n",
       "        11                  338           43              58               15   \n",
       "        12                  333           46              70               10   \n",
       "1001    11                  430           59               0               18   \n",
       "        12                  414           63               0               14   \n",
       "\n",
       "              tariff       city  monthly_revenue  \n",
       "user_id month                                     \n",
       "1000    5      ultra  Краснодар             1950  \n",
       "        6      ultra  Краснодар             1950  \n",
       "        7      ultra  Краснодар             1950  \n",
       "        8      ultra  Краснодар             1950  \n",
       "        9      ultra  Краснодар             1950  \n",
       "        10     ultra  Краснодар             1950  \n",
       "        11     ultra  Краснодар             1950  \n",
       "        12     ultra  Краснодар             1950  \n",
       "1001    11     smart     Москва             1150  \n",
       "        12     smart     Москва              550  "
      ]
     },
     "execution_count": 31,
     "metadata": {},
     "output_type": "execute_result"
    }
   ],
   "source": [
    "def kill_neg(value):\n",
    "    if value<0:\n",
    "        return 0\n",
    "    else:\n",
    "        return value\n",
    "\n",
    "def revenue_calc(data_row):\n",
    "    if data_row.tariff=='smart':\n",
    "        return ((kill_neg(data_row.monthly_duration-tariffs.loc[0,'minutes_included']))*tariffs.loc[0,'rub_per_minute']+\n",
    "                (kill_neg(data_row.monthly_traffic-tariffs.loc[0,'gb_per_month_included']))*tariffs.loc[0,'rub_per_gb']+\n",
    "                (kill_neg(data_row.messages_count-tariffs.loc[0,'messages_included']))*tariffs.loc[0,'rub_per_message']+\n",
    "                tariffs.loc[0,'rub_monthly_fee'])\n",
    "    elif data_row.tariff=='ultra':\n",
    "        return ((kill_neg(data_row.monthly_duration-tariffs.loc[1,'minutes_included']))*tariffs.loc[1,'rub_per_minute']+\n",
    "                (kill_neg(data_row.monthly_traffic-tariffs.loc[1,'gb_per_month_included']))*tariffs.loc[1,'rub_per_gb']+\n",
    "                (kill_neg(data_row.messages_count-tariffs.loc[1,'messages_included']))*tariffs.loc[1,'rub_per_message']+\n",
    "                tariffs.loc[1,'rub_monthly_fee'])\n",
    "    else:\n",
    "        return 0\n",
    "\n",
    "users_monthly_data['monthly_revenue'] = users_monthly_data.apply(revenue_calc, axis=1)\n",
    "users_monthly_data.head(10)"
   ]
  },
  {
   "cell_type": "markdown",
   "id": "40f2d343",
   "metadata": {},
   "source": [
    "Расчёт помесячной выручки с каждого пользователя произведён корректно."
   ]
  },
  {
   "cell_type": "markdown",
   "id": "4144fc80",
   "metadata": {},
   "source": [
    "## Анализ данных"
   ]
  },
  {
   "cell_type": "markdown",
   "id": "a681f872",
   "metadata": {},
   "source": [
    "Изучим распределение количества минут, количества сообщений и интернет траффика для пользователей каждого тарифа в месяц. Для этого посчитаем средние значения, стандартное отклонение и дисперсию, а также построим гистограммы. Отдельно посчитаем среднюю выручку для каждого тарифа.\n",
    "\n",
    "Для получения расчётных значений создадим сводную таблицу с группировкой по названию тарифа и применим необходимые расчётные функции.\n",
    "\n",
    "Так как в проекте рассматривается выборка из генеральной совокупности пользователей, то стандартное отклонение и дисперсию необходим рассчитывать для n-1 элементов. При использовании функций std и var из библиотеки Pandas по умолчанию расчёт производится именно для n-1 элементов, отдельная передача параметров в функции необязательна."
   ]
  },
  {
   "cell_type": "code",
   "execution_count": 32,
   "id": "2e56fb60",
   "metadata": {},
   "outputs": [
    {
     "data": {
      "text/html": [
       "<div>\n",
       "<style scoped>\n",
       "    .dataframe tbody tr th:only-of-type {\n",
       "        vertical-align: middle;\n",
       "    }\n",
       "\n",
       "    .dataframe tbody tr th {\n",
       "        vertical-align: top;\n",
       "    }\n",
       "\n",
       "    .dataframe thead tr th {\n",
       "        text-align: left;\n",
       "    }\n",
       "\n",
       "    .dataframe thead tr:last-of-type th {\n",
       "        text-align: right;\n",
       "    }\n",
       "</style>\n",
       "<table border=\"1\" class=\"dataframe\">\n",
       "  <thead>\n",
       "    <tr>\n",
       "      <th></th>\n",
       "      <th colspan=\"3\" halign=\"left\">monthly_duration</th>\n",
       "      <th colspan=\"3\" halign=\"left\">messages_count</th>\n",
       "      <th colspan=\"3\" halign=\"left\">monthly_traffic</th>\n",
       "      <th colspan=\"2\" halign=\"left\">monthly_revenue</th>\n",
       "    </tr>\n",
       "    <tr>\n",
       "      <th></th>\n",
       "      <th>mean</th>\n",
       "      <th>std</th>\n",
       "      <th>var</th>\n",
       "      <th>mean</th>\n",
       "      <th>std</th>\n",
       "      <th>var</th>\n",
       "      <th>mean</th>\n",
       "      <th>std</th>\n",
       "      <th>var</th>\n",
       "      <th>mean</th>\n",
       "      <th>sum</th>\n",
       "    </tr>\n",
       "    <tr>\n",
       "      <th>tariff</th>\n",
       "      <th></th>\n",
       "      <th></th>\n",
       "      <th></th>\n",
       "      <th></th>\n",
       "      <th></th>\n",
       "      <th></th>\n",
       "      <th></th>\n",
       "      <th></th>\n",
       "      <th></th>\n",
       "      <th></th>\n",
       "      <th></th>\n",
       "    </tr>\n",
       "  </thead>\n",
       "  <tbody>\n",
       "    <tr>\n",
       "      <th>smart</th>\n",
       "      <td>417.934948</td>\n",
       "      <td>190.313730</td>\n",
       "      <td>36219.315784</td>\n",
       "      <td>33.384029</td>\n",
       "      <td>28.227876</td>\n",
       "      <td>796.812958</td>\n",
       "      <td>16.328847</td>\n",
       "      <td>5.747061</td>\n",
       "      <td>33.028705</td>\n",
       "      <td>1289.973531</td>\n",
       "      <td>2875351.0</td>\n",
       "    </tr>\n",
       "    <tr>\n",
       "      <th>ultra</th>\n",
       "      <td>526.623350</td>\n",
       "      <td>317.606098</td>\n",
       "      <td>100873.633397</td>\n",
       "      <td>49.363452</td>\n",
       "      <td>47.804457</td>\n",
       "      <td>2285.266143</td>\n",
       "      <td>19.494416</td>\n",
       "      <td>9.853511</td>\n",
       "      <td>97.091686</td>\n",
       "      <td>2070.152284</td>\n",
       "      <td>2039100.0</td>\n",
       "    </tr>\n",
       "  </tbody>\n",
       "</table>\n",
       "</div>"
      ],
      "text/plain": [
       "       monthly_duration                            messages_count             \\\n",
       "                   mean         std            var           mean        std   \n",
       "tariff                                                                         \n",
       "smart        417.934948  190.313730   36219.315784      33.384029  28.227876   \n",
       "ultra        526.623350  317.606098  100873.633397      49.363452  47.804457   \n",
       "\n",
       "                    monthly_traffic                      monthly_revenue  \\\n",
       "                var            mean       std        var            mean   \n",
       "tariff                                                                     \n",
       "smart    796.812958       16.328847  5.747061  33.028705     1289.973531   \n",
       "ultra   2285.266143       19.494416  9.853511  97.091686     2070.152284   \n",
       "\n",
       "                   \n",
       "              sum  \n",
       "tariff             \n",
       "smart   2875351.0  \n",
       "ultra   2039100.0  "
      ]
     },
     "execution_count": 32,
     "metadata": {},
     "output_type": "execute_result"
    }
   ],
   "source": [
    "tariff_stat_values = users_monthly_data.pivot_table(index='tariff', \n",
    "                                                values=['monthly_duration','messages_count','monthly_traffic','monthly_revenue'],\n",
    "                                                aggfunc={'monthly_duration':['mean', 'std', 'var'],\n",
    "                                                'messages_count':['mean', 'std', 'var'],\n",
    "                                                'monthly_traffic':['mean', 'std', 'var'],\n",
    "                                                'monthly_revenue':['mean', 'sum']\n",
    "                                                     })\n",
    "tariff_stat_values = tariff_stat_values[['monthly_duration','messages_count','monthly_traffic','monthly_revenue']]\n",
    "tariff_stat_values"
   ]
  },
  {
   "cell_type": "markdown",
   "id": "0c9005c8",
   "metadata": {},
   "source": [
    "Теперь построим гистограммы для исследования распределений в рассматриваемых данных. Для разделения данных по тарифам создадим два среза."
   ]
  },
  {
   "cell_type": "code",
   "execution_count": 33,
   "id": "5958c6ec",
   "metadata": {},
   "outputs": [],
   "source": [
    "user_data_smart = users_monthly_data.query('tariff==\"smart\"')\n",
    "user_data_ultra = users_monthly_data.query('tariff==\"ultra\"')"
   ]
  },
  {
   "cell_type": "markdown",
   "id": "83f48351",
   "metadata": {},
   "source": [
    "Теперь построим гистограммы для исследуемых параметров. Для наглядности совместим гистограммы для двух тарифов на одном графике по каждому исследуемому параметру."
   ]
  },
  {
   "cell_type": "code",
   "execution_count": 34,
   "id": "dc870dd9",
   "metadata": {},
   "outputs": [
    {
     "data": {
      "image/png": "[encoded data removed]",
      "text/plain": [
       "<Figure size 864x360 with 1 Axes>"
      ]
     },
     "metadata": {
      "needs_background": "light"
     },
     "output_type": "display_data"
    },
    {
     "data": {
      "image/png": "[encoded data removed]",
      "text/plain": [
       "<Figure size 864x360 with 1 Axes>"
      ]
     },
     "metadata": {
      "needs_background": "light"
     },
     "output_type": "display_data"
    },
    {
     "data": {
      "image/png": "[encoded data removed]",
      "text/plain": [
       "<Figure size 864x360 with 1 Axes>"
      ]
     },
     "metadata": {
      "needs_background": "light"
     },
     "output_type": "display_data"
    }
   ],
   "source": [
    "fig1, ax1 = plt.subplots(figsize=(12,5))\n",
    "user_data_smart.hist(column='monthly_duration', bins=180, color='b', ax=ax1, label='Тариф Smart')\n",
    "user_data_ultra.hist(column='monthly_duration', bins=180, color='r', ax=ax1, label='Тариф Ultra')\n",
    "plt.title('Распределение используемого абонентами количества минут в месяц (для двух тарифов)')\n",
    "plt.xlabel('Количество минут разговора')\n",
    "plt.legend()\n",
    "plt.show()\n",
    "\n",
    "fig1, ax1 = plt.subplots(figsize=(12,5))\n",
    "user_data_smart.hist(column='messages_count', bins=112, color='b', ax=ax1, label='Тариф Smart')\n",
    "user_data_ultra.hist(column='messages_count', bins=112, color='r', ax=ax1, label='Тариф Ultra')\n",
    "plt.title('Распределение используемого абонентами количества сообщений в месяц (для двух тарифов)')\n",
    "plt.xlabel('Количество сообщений')\n",
    "plt.legend()\n",
    "plt.show()\n",
    "\n",
    "fig1, ax1 = plt.subplots(figsize=(12,5))\n",
    "user_data_smart.hist(column='monthly_traffic', bins=49, color='b', ax=ax1, label='Тариф Smart')\n",
    "user_data_ultra.hist(column='monthly_traffic', bins=49, color='r', ax=ax1, label='Тариф Ultra')\n",
    "plt.title('Распределение используемого абонентами интернет траффика в месяц (для двух тарифов)')\n",
    "plt.xlabel('Объём интернет траффика (Гб)')\n",
    "plt.legend()\n",
    "plt.show()"
   ]
  },
  {
   "cell_type": "markdown",
   "id": "c6c7c897",
   "metadata": {},
   "source": [
    "**Выводы**:\n",
    "1. Тариф Smart: \n",
    "    - пользователи в среднем тратят в месяц 418 минут разговора, отправляют 33 сообщения и тратят 16 Гб интернет-траффика;\n",
    "    - пользователи в среднем превышают включенный в тариф пакет интернет трафика на 1 Гб;\n",
    "    - распределения использованного количества минут и объёма интернет трафика близки к нормальному. Распределение количества сообщений имеет большой разброс и положительную скошенность (скошено вправо), а нулевое значение имеет высокое количественное значение. Это не является аномалией, так как многие пользователи могут не пользоваться сообщениями по причине использования интернет-мессенджеров.\n",
    "2. Тариф Ultra: \n",
    "    - пользователи в среднем тратят в месяц 527 минут разговора, отправляют 49 сообщений и тратят 19 Гб интернет-траффика;\n",
    "    - превышения включенных в тариф пакетов минут, сообщений и траффика в среднем нет;\n",
    "    - распределения использованного количества минут и объёма интернет трафика близки к нормальному. Распределение количества сообщений имеет большой разброс и положительную скошенность (скошено вправо), а нулевое значение имеет высокое количественное значение;\n",
    "    - в целом все распределения имеют бОльшие разбросы, чем в тарифе Smart. Это ожидаемо, так как в тарифе Ultra пакеты с минутами, сообщениями и трафиком больше. В тарифе Utra больше человек не используют минуты разговора, что свидетельствует о том, что тариф в этом случае нужен пользователям для доступа в интернет."
   ]
  },
  {
   "cell_type": "markdown",
   "id": "b58a0cb0",
   "metadata": {},
   "source": [
    "## Проверка гипотез"
   ]
  },
  {
   "cell_type": "markdown",
   "id": "a3295fb2",
   "metadata": {},
   "source": [
    "### Гипотеза 1"
   ]
  },
  {
   "cell_type": "markdown",
   "id": "a7ab9c6b",
   "metadata": {},
   "source": [
    "Требуется проверить, что средняя выручка пользователей тарифов «Ультра» и «Смарт» различается. Сформулируем нулевую и альтернативную гипотезы:\n",
    "- нулевая гипотеза: средняя выручка пользователей тарифов Ultra и Smart равна;\n",
    "- альтернативная гипотеза: средняя выручка пользователей тарифов Ultra и Smart различается.\n",
    "\n",
    "Для проверки гипотезы воспользуемся t-критерием Стьюдента и применим метод `ttest_ind`. Все выборки содержат более 30 элементов. Параметр equal_var установим в значение False, так как выборки пользователей разных тарифов имеют разный размер (соответственно могут различаться дисперсии). Датафреймы с выборками по каждому тарифу были созданы ранее в п. 3."
   ]
  },
  {
   "cell_type": "code",
   "execution_count": 35,
   "id": "7b758c1e",
   "metadata": {},
   "outputs": [
    {
     "name": "stdout",
     "output_type": "stream",
     "text": [
      "p-значение: 4.2606313931076085e-250\n",
      "Отвергаем нулевую гипотезу\n"
     ]
    }
   ],
   "source": [
    "alpha = 0.05\n",
    "results = st.ttest_ind(user_data_smart.monthly_revenue, user_data_ultra.monthly_revenue, equal_var=False)\n",
    "print('p-значение:', results.pvalue)\n",
    "\n",
    "if results.pvalue < alpha:\n",
    "    print(\"Отвергаем нулевую гипотезу\")\n",
    "else:\n",
    "    print(\"Не получилось отвергнуть нулевую гипотезу\")"
   ]
  },
  {
   "cell_type": "markdown",
   "id": "0bde7308",
   "metadata": {},
   "source": [
    "**Вывод**: нулевая гипотеза о том, что средняя выручка пользователей тарифов Ultra и Smart равна, отвергается в пользу альтернативной. А именно, средняя выручка пользователей тарифов Ultra и Smart различается."
   ]
  },
  {
   "cell_type": "markdown",
   "id": "a1e99f21",
   "metadata": {},
   "source": [
    "### Гипотеза 2"
   ]
  },
  {
   "cell_type": "markdown",
   "id": "d9dd4c6d",
   "metadata": {},
   "source": [
    "Требуется проверить, что средняя выручка пользователей из Москвы отличается от выручки пользователей из других регионов. Сформулируем нулевую и альтернативную гипотезы:\n",
    "- нулевая гипотеза: средняя выручка пользователей из Москвы равна средней выручке пользователей из других регионов;\n",
    "- альтернативная гипотеза: средняя выручка пользователей из Москвы отличается от средней выручки пользователей из других регионов.\n",
    "\n",
    "Для начала создадим два датафрейма с данными для пользователей из Москвы и других регионов. \n",
    "\n",
    "После этого выполним проверку гипотезы с t-критерием Стьюдента с применением метода `ttest_ind`. Количество элементов в выборках более 30. Установим параметр equal_var в значение False, так как выборки пользователей из Москвы и других регионов имеют разный размер (соответственно могут различаться дисперсии)."
   ]
  },
  {
   "cell_type": "code",
   "execution_count": 36,
   "id": "34f8275d",
   "metadata": {},
   "outputs": [],
   "source": [
    "user_data_moscow = users_monthly_data.query(\"city=='Москва'\")\n",
    "user_data_other_reg = users_monthly_data.query(\"city!='Москва'\")"
   ]
  },
  {
   "cell_type": "code",
   "execution_count": 37,
   "id": "c2be331c",
   "metadata": {},
   "outputs": [
    {
     "name": "stdout",
     "output_type": "stream",
     "text": [
      "p-значение: 0.5257376663729298\n",
      "Не получилось отвергнуть нулевую гипотезу\n"
     ]
    }
   ],
   "source": [
    "alpha = 0.05\n",
    "results = st.ttest_ind(user_data_moscow.monthly_revenue, user_data_other_reg.monthly_revenue, equal_var=False)\n",
    "print('p-значение:', results.pvalue)\n",
    "\n",
    "if results.pvalue < alpha:\n",
    "    print(\"Отвергаем нулевую гипотезу\")\n",
    "else:\n",
    "    print(\"Не получилось отвергнуть нулевую гипотезу\")"
   ]
  },
  {
   "cell_type": "markdown",
   "id": "b01d5359",
   "metadata": {},
   "source": [
    "**Вывод**: нулевая гипотеза о том, что средняя выручка пользователей из Москвы равна средней выручке пользователей из других регионов не отвергается."
   ]
  },
  {
   "cell_type": "markdown",
   "id": "1e876f1e",
   "metadata": {},
   "source": [
    "## Общий вывод"
   ]
  },
  {
   "cell_type": "markdown",
   "id": "d77bec4b",
   "metadata": {},
   "source": [
    "Был проведён анализ тарифных планов Smart и Ультра от оператора мобильной связи Мегалайн. В результате были сделаны следующие выводы:\n",
    "- пользователи тарифа Smart в среднем не укладываются во включенный в тариф пакет интернет траффика и нечасто пользуются отправкой сообщений. Пользователи тарифа Ultra в среднем укладываются во включенные в тариф пакеты интернет траффика, минут и сообщений. Но так же нечасто пользуются сообщениями;\n",
    "- отвергнута гипотеза о том, что средняя выручка пользователей тарифов Ultra и Smart равна;\n",
    "- гипотеза о том, что средняя выручка пользователей из Москвы равна средней выручке пользователей из других регионов не отвергается;\n",
    "- исходя из средней выручки тариф Ultra лучше, так как у него выше абонентская плата и, соответственно, выручка. Но стоит учесть тот факт, что не все пользователи готовы платить больше за другой тариф, если им не нужны большие пакеты минут, сообщений или интернет-траффика. Тариф Smart необходимо оставить в линейке тарифов, но стоит увеличить пакет интернет траффика в нём и абоненсткую плату."
   ]
  }
 ],
 "metadata": {
  "kernelspec": {
   "display_name": "Python 3 (ipykernel)",
   "language": "python",
   "name": "python3"
  },
  "language_info": {
   "codemirror_mode": {
    "name": "ipython",
    "version": 3
   },
   "file_extension": ".py",
   "mimetype": "text/x-python",
   "name": "python",
   "nbconvert_exporter": "python",
   "pygments_lexer": "ipython3",
   "version": "3.9.12"
  },
  "toc": {
   "base_numbering": 1,
   "nav_menu": {},
   "number_sections": true,
   "sideBar": true,
   "skip_h1_title": true,
   "title_cell": "Содержание",
   "title_sidebar": "Содержание",
   "toc_cell": true,
   "toc_position": {
    "height": "calc(100% - 180px)",
    "left": "10px",
    "top": "150px",
    "width": "259.667px"
   },
   "toc_section_display": true,
   "toc_window_display": true
  }
 },
 "nbformat": 4,
 "nbformat_minor": 5
}
