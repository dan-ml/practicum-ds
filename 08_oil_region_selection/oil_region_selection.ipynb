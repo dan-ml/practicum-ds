{
 "cells": [
  {
   "cell_type": "markdown",
   "metadata": {
    "toc": true
   },
   "source": [
    "<h1>Содержание<span class=\"tocSkip\"></span></h1>\n",
    "<div class=\"toc\"><ul class=\"toc-item\"><li><span><a href=\"#Загрузка-и-предобработка-данных\" data-toc-modified-id=\"Загрузка-и-предобработка-данных-1\"><span class=\"toc-item-num\">1&nbsp;&nbsp;</span>Загрузка и предобработка данных</a></span></li><li><span><a href=\"#Обучение-и-проверка-моделей\" data-toc-modified-id=\"Обучение-и-проверка-моделей-2\"><span class=\"toc-item-num\">2&nbsp;&nbsp;</span>Обучение и проверка моделей</a></span><ul class=\"toc-item\"><li><span><a href=\"#Подготовка-признаков,-разбиение-данных-на-выборки\" data-toc-modified-id=\"Подготовка-признаков,-разбиение-данных-на-выборки-2.1\"><span class=\"toc-item-num\">2.1&nbsp;&nbsp;</span>Подготовка признаков, разбиение данных на выборки</a></span></li><li><span><a href=\"#Построение-константных-моделей\" data-toc-modified-id=\"Построение-константных-моделей-2.2\"><span class=\"toc-item-num\">2.2&nbsp;&nbsp;</span>Построение константных моделей</a></span></li><li><span><a href=\"#Построение-моделей-линейной-регрессии\" data-toc-modified-id=\"Построение-моделей-линейной-регрессии-2.3\"><span class=\"toc-item-num\">2.3&nbsp;&nbsp;</span>Построение моделей линейной регрессии</a></span></li></ul></li><li><span><a href=\"#Подготовка-к-расчёту-прибыли\" data-toc-modified-id=\"Подготовка-к-расчёту-прибыли-3\"><span class=\"toc-item-num\">3&nbsp;&nbsp;</span>Подготовка к расчёту прибыли</a></span></li><li><span><a href=\"#Расчёт-прибыли-и-рисков\" data-toc-modified-id=\"Расчёт-прибыли-и-рисков-4\"><span class=\"toc-item-num\">4&nbsp;&nbsp;</span>Расчёт прибыли и рисков</a></span><ul class=\"toc-item\"><li><span><a href=\"#Расчёт-прибыли-и-рисков-для-первого-региона\" data-toc-modified-id=\"Расчёт-прибыли-и-рисков-для-первого-региона-4.1\"><span class=\"toc-item-num\">4.1&nbsp;&nbsp;</span>Расчёт прибыли и рисков для первого региона</a></span></li><li><span><a href=\"#Расчёт-прибыли-и-рисков-для-второго-региона\" data-toc-modified-id=\"Расчёт-прибыли-и-рисков-для-второго-региона-4.2\"><span class=\"toc-item-num\">4.2&nbsp;&nbsp;</span>Расчёт прибыли и рисков для второго региона</a></span></li><li><span><a href=\"#Расчёт-прибыли-и-рисков-для-третьего-региона\" data-toc-modified-id=\"Расчёт-прибыли-и-рисков-для-третьего-региона-4.3\"><span class=\"toc-item-num\">4.3&nbsp;&nbsp;</span>Расчёт прибыли и рисков для третьего региона</a></span></li><li><span><a href=\"#Выбор-региона-для-разработки-скважин\" data-toc-modified-id=\"Выбор-региона-для-разработки-скважин-4.4\"><span class=\"toc-item-num\">4.4&nbsp;&nbsp;</span>Выбор региона для разработки скважин</a></span></li></ul></li><li><span><a href=\"#Общий-вывод\" data-toc-modified-id=\"Общий-вывод-5\"><span class=\"toc-item-num\">5&nbsp;&nbsp;</span>Общий вывод</a></span></li></ul></div>"
   ]
  },
  {
   "cell_type": "markdown",
   "metadata": {},
   "source": [
    "# Выбор региона для бурения нефтяных скважин"
   ]
  },
  {
   "cell_type": "markdown",
   "metadata": {},
   "source": [
    "В добывающей компании \"ГлавРосГосНефть\" планируется принять решение, где бурить новую скважину. Для анализа предоставлены пробы нефти в трёх регионах (с 100 тыс. месторождений в каждом), где измерили качество нефти и объём её запасов. \n",
    "\n",
    "В проекте необходимо построить модель машинного обучения, которая поможет определить регион, где добыча нефти принесёт наибольшую прибыль. Далее для каждого региона проанализировать возможную прибыль и риски техникой *Bootstrap*. В итоге, нужно предложить регион для разработки скважин и обосновать свой выбор. \n",
    "\n",
    "Дополнительные условия задачи:\n",
    "- для обучения модели подходит только линейная регрессия;\n",
    "- при разведке региона исследуют 500 точек, из которых с помощью машинного обучения выбирают 200 лучших для разработки;\n",
    "- бюджет на разработку скважин в регионе — 10 млрд рублей;\n",
    "- при нынешних ценах один баррель сырья приносит 450 рублей дохода;\n",
    "- после оценки рисков должны остаться те регионы, в которых вероятность убытков меньше 2.5%. Среди них выбирают регион с наибольшей средней прибылью."
   ]
  },
  {
   "cell_type": "markdown",
   "metadata": {},
   "source": [
    "## Загрузка и предобработка данных"
   ]
  },
  {
   "cell_type": "code",
   "execution_count": 1,
   "metadata": {},
   "outputs": [],
   "source": [
    "import pandas as pd\n",
    "import numpy as np\n",
    "from sklearn.dummy import DummyRegressor\n",
    "from sklearn.linear_model import LinearRegression\n",
    "from sklearn.metrics import mean_squared_error\n",
    "from sklearn.metrics import mean_absolute_error\n",
    "from sklearn.metrics import r2_score\n",
    "from sklearn.model_selection import GridSearchCV\n",
    "from sklearn.model_selection import train_test_split\n",
    "from sklearn.preprocessing import StandardScaler"
   ]
  },
  {
   "cell_type": "markdown",
   "metadata": {},
   "source": [
    "Загрузим данные из файлов и ознакомимся с таблицами.\n",
    "\n",
    "**ПЕРВЫЙ** регион для геологоразведки:"
   ]
  },
  {
   "cell_type": "code",
   "execution_count": 2,
   "metadata": {},
   "outputs": [
    {
     "name": "stdout",
     "output_type": "stream",
     "text": [
      "<class 'pandas.core.frame.DataFrame'>\n",
      "RangeIndex: 100000 entries, 0 to 99999\n",
      "Data columns (total 5 columns):\n",
      " #   Column   Non-Null Count   Dtype  \n",
      "---  ------   --------------   -----  \n",
      " 0   id       100000 non-null  object \n",
      " 1   f0       100000 non-null  float64\n",
      " 2   f1       100000 non-null  float64\n",
      " 3   f2       100000 non-null  float64\n",
      " 4   product  100000 non-null  float64\n",
      "dtypes: float64(4), object(1)\n",
      "memory usage: 3.8+ MB\n"
     ]
    }
   ],
   "source": [
    "try:\n",
    "    geo_data_1 = pd.read_csv('geo_data_0.csv')\n",
    "except:\n",
    "    geo_data_1 = pd.read_csv('/datasets/geo_data_0.csv')\n",
    "geo_data_1.info()"
   ]
  },
  {
   "cell_type": "code",
   "execution_count": 3,
   "metadata": {
    "scrolled": true
   },
   "outputs": [
    {
     "data": {
      "text/html": [
       "<div>\n",
       "<style scoped>\n",
       "    .dataframe tbody tr th:only-of-type {\n",
       "        vertical-align: middle;\n",
       "    }\n",
       "\n",
       "    .dataframe tbody tr th {\n",
       "        vertical-align: top;\n",
       "    }\n",
       "\n",
       "    .dataframe thead th {\n",
       "        text-align: right;\n",
       "    }\n",
       "</style>\n",
       "<table border=\"1\" class=\"dataframe\">\n",
       "  <thead>\n",
       "    <tr style=\"text-align: right;\">\n",
       "      <th></th>\n",
       "      <th>id</th>\n",
       "      <th>f0</th>\n",
       "      <th>f1</th>\n",
       "      <th>f2</th>\n",
       "      <th>product</th>\n",
       "    </tr>\n",
       "  </thead>\n",
       "  <tbody>\n",
       "    <tr>\n",
       "      <th>0</th>\n",
       "      <td>txEyH</td>\n",
       "      <td>0.705745</td>\n",
       "      <td>-0.497823</td>\n",
       "      <td>1.221170</td>\n",
       "      <td>105.280062</td>\n",
       "    </tr>\n",
       "    <tr>\n",
       "      <th>1</th>\n",
       "      <td>2acmU</td>\n",
       "      <td>1.334711</td>\n",
       "      <td>-0.340164</td>\n",
       "      <td>4.365080</td>\n",
       "      <td>73.037750</td>\n",
       "    </tr>\n",
       "    <tr>\n",
       "      <th>2</th>\n",
       "      <td>409Wp</td>\n",
       "      <td>1.022732</td>\n",
       "      <td>0.151990</td>\n",
       "      <td>1.419926</td>\n",
       "      <td>85.265647</td>\n",
       "    </tr>\n",
       "    <tr>\n",
       "      <th>3</th>\n",
       "      <td>iJLyR</td>\n",
       "      <td>-0.032172</td>\n",
       "      <td>0.139033</td>\n",
       "      <td>2.978566</td>\n",
       "      <td>168.620776</td>\n",
       "    </tr>\n",
       "    <tr>\n",
       "      <th>4</th>\n",
       "      <td>Xdl7t</td>\n",
       "      <td>1.988431</td>\n",
       "      <td>0.155413</td>\n",
       "      <td>4.751769</td>\n",
       "      <td>154.036647</td>\n",
       "    </tr>\n",
       "  </tbody>\n",
       "</table>\n",
       "</div>"
      ],
      "text/plain": [
       "      id        f0        f1        f2     product\n",
       "0  txEyH  0.705745 -0.497823  1.221170  105.280062\n",
       "1  2acmU  1.334711 -0.340164  4.365080   73.037750\n",
       "2  409Wp  1.022732  0.151990  1.419926   85.265647\n",
       "3  iJLyR -0.032172  0.139033  2.978566  168.620776\n",
       "4  Xdl7t  1.988431  0.155413  4.751769  154.036647"
      ]
     },
     "execution_count": 3,
     "metadata": {},
     "output_type": "execute_result"
    }
   ],
   "source": [
    "geo_data_1.head()"
   ]
  },
  {
   "cell_type": "markdown",
   "metadata": {},
   "source": [
    "С именами столбцов в таблице всё в порядке, пропусков в столбцах нет, типы данных верные. \n",
    "\n",
    "Проверим на наличие явных выбросов столбец product, который будет в будущем являться целевым признаком. Для проверки используем метод Z-оценки, в котором посмотрим насколько далеко от среднего находятся крайние (мин. и макс.) значения из всего столбца. Если для проверяемого числа z_score<=|3|, то это число не считается выборосом."
   ]
  },
  {
   "cell_type": "code",
   "execution_count": 4,
   "metadata": {},
   "outputs": [
    {
     "data": {
      "text/plain": [
       "count    100000.000000\n",
       "mean         92.500000\n",
       "std          44.288691\n",
       "min           0.000000\n",
       "25%          56.497507\n",
       "50%          91.849972\n",
       "75%         128.564089\n",
       "max         185.364347\n",
       "Name: product, dtype: float64"
      ]
     },
     "execution_count": 4,
     "metadata": {},
     "output_type": "execute_result"
    }
   ],
   "source": [
    "geo_data_1['product'].describe()"
   ]
  },
  {
   "cell_type": "code",
   "execution_count": 5,
   "metadata": {},
   "outputs": [
    {
     "data": {
      "text/plain": [
       "-2.0885692854225972"
      ]
     },
     "metadata": {},
     "output_type": "display_data"
    },
    {
     "data": {
      "text/plain": [
       "2.0967959322920438"
      ]
     },
     "metadata": {},
     "output_type": "display_data"
    }
   ],
   "source": [
    "z_score1 = (geo_data_1['product'].min() - geo_data_1['product'].mean())/geo_data_1['product'].std()\n",
    "z_score2 = (geo_data_1['product'].max() - geo_data_1['product'].mean())/geo_data_1['product'].std()\n",
    "display(z_score1, z_score2)"
   ]
  },
  {
   "cell_type": "markdown",
   "metadata": {},
   "source": [
    "Выбросов в столбце product нет. Значения столбцов f0, f1, f2 невозможно трактовать технически, так как к ним нет подробного описания. В связи с этим, будем считать что данные подготовлены правильно соответствующими специалистами.\n",
    "\n",
    "**ВТОРОЙ** регион для геологоразведки:"
   ]
  },
  {
   "cell_type": "code",
   "execution_count": 6,
   "metadata": {},
   "outputs": [
    {
     "name": "stdout",
     "output_type": "stream",
     "text": [
      "<class 'pandas.core.frame.DataFrame'>\n",
      "RangeIndex: 100000 entries, 0 to 99999\n",
      "Data columns (total 5 columns):\n",
      " #   Column   Non-Null Count   Dtype  \n",
      "---  ------   --------------   -----  \n",
      " 0   id       100000 non-null  object \n",
      " 1   f0       100000 non-null  float64\n",
      " 2   f1       100000 non-null  float64\n",
      " 3   f2       100000 non-null  float64\n",
      " 4   product  100000 non-null  float64\n",
      "dtypes: float64(4), object(1)\n",
      "memory usage: 3.8+ MB\n"
     ]
    }
   ],
   "source": [
    "try:\n",
    "    geo_data_2 = pd.read_csv('geo_data_1.csv')\n",
    "except:\n",
    "    geo_data_2 = pd.read_csv('/datasets/geo_data_1.csv')\n",
    "geo_data_2.info()"
   ]
  },
  {
   "cell_type": "code",
   "execution_count": 7,
   "metadata": {},
   "outputs": [
    {
     "data": {
      "text/html": [
       "<div>\n",
       "<style scoped>\n",
       "    .dataframe tbody tr th:only-of-type {\n",
       "        vertical-align: middle;\n",
       "    }\n",
       "\n",
       "    .dataframe tbody tr th {\n",
       "        vertical-align: top;\n",
       "    }\n",
       "\n",
       "    .dataframe thead th {\n",
       "        text-align: right;\n",
       "    }\n",
       "</style>\n",
       "<table border=\"1\" class=\"dataframe\">\n",
       "  <thead>\n",
       "    <tr style=\"text-align: right;\">\n",
       "      <th></th>\n",
       "      <th>id</th>\n",
       "      <th>f0</th>\n",
       "      <th>f1</th>\n",
       "      <th>f2</th>\n",
       "      <th>product</th>\n",
       "    </tr>\n",
       "  </thead>\n",
       "  <tbody>\n",
       "    <tr>\n",
       "      <th>0</th>\n",
       "      <td>kBEdx</td>\n",
       "      <td>-15.001348</td>\n",
       "      <td>-8.276000</td>\n",
       "      <td>-0.005876</td>\n",
       "      <td>3.179103</td>\n",
       "    </tr>\n",
       "    <tr>\n",
       "      <th>1</th>\n",
       "      <td>62mP7</td>\n",
       "      <td>14.272088</td>\n",
       "      <td>-3.475083</td>\n",
       "      <td>0.999183</td>\n",
       "      <td>26.953261</td>\n",
       "    </tr>\n",
       "    <tr>\n",
       "      <th>2</th>\n",
       "      <td>vyE1P</td>\n",
       "      <td>6.263187</td>\n",
       "      <td>-5.948386</td>\n",
       "      <td>5.001160</td>\n",
       "      <td>134.766305</td>\n",
       "    </tr>\n",
       "    <tr>\n",
       "      <th>3</th>\n",
       "      <td>KcrkZ</td>\n",
       "      <td>-13.081196</td>\n",
       "      <td>-11.506057</td>\n",
       "      <td>4.999415</td>\n",
       "      <td>137.945408</td>\n",
       "    </tr>\n",
       "    <tr>\n",
       "      <th>4</th>\n",
       "      <td>AHL4O</td>\n",
       "      <td>12.702195</td>\n",
       "      <td>-8.147433</td>\n",
       "      <td>5.004363</td>\n",
       "      <td>134.766305</td>\n",
       "    </tr>\n",
       "  </tbody>\n",
       "</table>\n",
       "</div>"
      ],
      "text/plain": [
       "      id         f0         f1        f2     product\n",
       "0  kBEdx -15.001348  -8.276000 -0.005876    3.179103\n",
       "1  62mP7  14.272088  -3.475083  0.999183   26.953261\n",
       "2  vyE1P   6.263187  -5.948386  5.001160  134.766305\n",
       "3  KcrkZ -13.081196 -11.506057  4.999415  137.945408\n",
       "4  AHL4O  12.702195  -8.147433  5.004363  134.766305"
      ]
     },
     "execution_count": 7,
     "metadata": {},
     "output_type": "execute_result"
    }
   ],
   "source": [
    "geo_data_2.head()"
   ]
  },
  {
   "cell_type": "markdown",
   "metadata": {},
   "source": [
    "С именами столбцов в таблице всё в порядке, пропусков в столбцах нет, типы данных верные. \n",
    "\n",
    "Проверим на наличие явных выбросов столбец product, который будет в будущем являться целевым признаком. Для проверки так же используем метод Z-оценки."
   ]
  },
  {
   "cell_type": "code",
   "execution_count": 8,
   "metadata": {},
   "outputs": [
    {
     "data": {
      "text/plain": [
       "count    100000.000000\n",
       "mean         68.825000\n",
       "std          45.944423\n",
       "min           0.000000\n",
       "25%          26.953261\n",
       "50%          57.085625\n",
       "75%         107.813044\n",
       "max         137.945408\n",
       "Name: product, dtype: float64"
      ]
     },
     "execution_count": 8,
     "metadata": {},
     "output_type": "execute_result"
    }
   ],
   "source": [
    "geo_data_2['product'].describe()"
   ]
  },
  {
   "cell_type": "code",
   "execution_count": 9,
   "metadata": {},
   "outputs": [
    {
     "data": {
      "text/plain": [
       "-1.498005539373688"
      ]
     },
     "metadata": {},
     "output_type": "display_data"
    },
    {
     "data": {
      "text/plain": [
       "1.5044352151056233"
      ]
     },
     "metadata": {},
     "output_type": "display_data"
    }
   ],
   "source": [
    "z_score1 = (geo_data_2['product'].min() - geo_data_2['product'].mean())/geo_data_2['product'].std()\n",
    "z_score2 = (geo_data_2['product'].max() - geo_data_2['product'].mean())/geo_data_2['product'].std()\n",
    "display(z_score1, z_score2)"
   ]
  },
  {
   "cell_type": "markdown",
   "metadata": {},
   "source": [
    "Выбросов в столбце product нет. Значения столбцов f0, f1, f2, как уже было сказано, проверять не будем и доверимся специалистам по подготовке данных.\n",
    "\n",
    "**ТРЕТИЙ** регион для геологоразведки:"
   ]
  },
  {
   "cell_type": "code",
   "execution_count": 10,
   "metadata": {},
   "outputs": [
    {
     "name": "stdout",
     "output_type": "stream",
     "text": [
      "<class 'pandas.core.frame.DataFrame'>\n",
      "RangeIndex: 100000 entries, 0 to 99999\n",
      "Data columns (total 5 columns):\n",
      " #   Column   Non-Null Count   Dtype  \n",
      "---  ------   --------------   -----  \n",
      " 0   id       100000 non-null  object \n",
      " 1   f0       100000 non-null  float64\n",
      " 2   f1       100000 non-null  float64\n",
      " 3   f2       100000 non-null  float64\n",
      " 4   product  100000 non-null  float64\n",
      "dtypes: float64(4), object(1)\n",
      "memory usage: 3.8+ MB\n"
     ]
    }
   ],
   "source": [
    "try:\n",
    "    geo_data_3 = pd.read_csv('geo_data_2.csv')\n",
    "except:\n",
    "    geo_data_3 = pd.read_csv('/datasets/geo_data_2.csv')\n",
    "geo_data_3.info()"
   ]
  },
  {
   "cell_type": "code",
   "execution_count": 11,
   "metadata": {
    "scrolled": true
   },
   "outputs": [
    {
     "data": {
      "text/html": [
       "<div>\n",
       "<style scoped>\n",
       "    .dataframe tbody tr th:only-of-type {\n",
       "        vertical-align: middle;\n",
       "    }\n",
       "\n",
       "    .dataframe tbody tr th {\n",
       "        vertical-align: top;\n",
       "    }\n",
       "\n",
       "    .dataframe thead th {\n",
       "        text-align: right;\n",
       "    }\n",
       "</style>\n",
       "<table border=\"1\" class=\"dataframe\">\n",
       "  <thead>\n",
       "    <tr style=\"text-align: right;\">\n",
       "      <th></th>\n",
       "      <th>id</th>\n",
       "      <th>f0</th>\n",
       "      <th>f1</th>\n",
       "      <th>f2</th>\n",
       "      <th>product</th>\n",
       "    </tr>\n",
       "  </thead>\n",
       "  <tbody>\n",
       "    <tr>\n",
       "      <th>0</th>\n",
       "      <td>fwXo0</td>\n",
       "      <td>-1.146987</td>\n",
       "      <td>0.963328</td>\n",
       "      <td>-0.828965</td>\n",
       "      <td>27.758673</td>\n",
       "    </tr>\n",
       "    <tr>\n",
       "      <th>1</th>\n",
       "      <td>WJtFt</td>\n",
       "      <td>0.262778</td>\n",
       "      <td>0.269839</td>\n",
       "      <td>-2.530187</td>\n",
       "      <td>56.069697</td>\n",
       "    </tr>\n",
       "    <tr>\n",
       "      <th>2</th>\n",
       "      <td>ovLUW</td>\n",
       "      <td>0.194587</td>\n",
       "      <td>0.289035</td>\n",
       "      <td>-5.586433</td>\n",
       "      <td>62.871910</td>\n",
       "    </tr>\n",
       "    <tr>\n",
       "      <th>3</th>\n",
       "      <td>q6cA6</td>\n",
       "      <td>2.236060</td>\n",
       "      <td>-0.553760</td>\n",
       "      <td>0.930038</td>\n",
       "      <td>114.572842</td>\n",
       "    </tr>\n",
       "    <tr>\n",
       "      <th>4</th>\n",
       "      <td>WPMUX</td>\n",
       "      <td>-0.515993</td>\n",
       "      <td>1.716266</td>\n",
       "      <td>5.899011</td>\n",
       "      <td>149.600746</td>\n",
       "    </tr>\n",
       "  </tbody>\n",
       "</table>\n",
       "</div>"
      ],
      "text/plain": [
       "      id        f0        f1        f2     product\n",
       "0  fwXo0 -1.146987  0.963328 -0.828965   27.758673\n",
       "1  WJtFt  0.262778  0.269839 -2.530187   56.069697\n",
       "2  ovLUW  0.194587  0.289035 -5.586433   62.871910\n",
       "3  q6cA6  2.236060 -0.553760  0.930038  114.572842\n",
       "4  WPMUX -0.515993  1.716266  5.899011  149.600746"
      ]
     },
     "execution_count": 11,
     "metadata": {},
     "output_type": "execute_result"
    }
   ],
   "source": [
    "geo_data_3.head()"
   ]
  },
  {
   "cell_type": "markdown",
   "metadata": {},
   "source": [
    "С именами столбцов в таблице всё в порядке, пропусков в столбцах нет, типы данных верные. \n",
    "\n",
    "Проверим на наличие явных выбросов столбец product, который будет в будущем являться целевым признаком. Для проверки так же используем метод Z-оценки."
   ]
  },
  {
   "cell_type": "code",
   "execution_count": 12,
   "metadata": {},
   "outputs": [
    {
     "data": {
      "text/plain": [
       "count    100000.000000\n",
       "mean         95.000000\n",
       "std          44.749921\n",
       "min           0.000000\n",
       "25%          59.450441\n",
       "50%          94.925613\n",
       "75%         130.595027\n",
       "max         190.029838\n",
       "Name: product, dtype: float64"
      ]
     },
     "execution_count": 12,
     "metadata": {},
     "output_type": "execute_result"
    }
   ],
   "source": [
    "geo_data_3['product'].describe()"
   ]
  },
  {
   "cell_type": "code",
   "execution_count": 13,
   "metadata": {},
   "outputs": [
    {
     "data": {
      "text/plain": [
       "-2.1229087723667903"
      ]
     },
     "metadata": {},
     "output_type": "display_data"
    },
    {
     "data": {
      "text/plain": [
       "2.1235755521652444"
      ]
     },
     "metadata": {},
     "output_type": "display_data"
    }
   ],
   "source": [
    "z_score1 = (geo_data_3['product'].min() - geo_data_3['product'].mean())/geo_data_3['product'].std()\n",
    "z_score2 = (geo_data_3['product'].max() - geo_data_3['product'].mean())/geo_data_3['product'].std()\n",
    "display(z_score1, z_score2)"
   ]
  },
  {
   "cell_type": "markdown",
   "metadata": {},
   "source": [
    "Выбросов в столбце product нет. Значения столбцов f0, f1, f2, как уже было сказано, проверять не будем и доверимся специалистам по подготовке данных. \n",
    "\n",
    "Загрузка и подготовка (предобработка) данных на этом завершены. Подготовка признаков для обучения модели будет представлена в разделе 2."
   ]
  },
  {
   "cell_type": "markdown",
   "metadata": {},
   "source": [
    "## Обучение и проверка моделей"
   ]
  },
  {
   "cell_type": "markdown",
   "metadata": {},
   "source": [
    "### Подготовка признаков, разбиение данных на выборки"
   ]
  },
  {
   "cell_type": "markdown",
   "metadata": {},
   "source": [
    "Перед обучением моделей необходимо подготовить признаки и создать обучающую и валидационную выборки. \n",
    "\n",
    "Из таблиц следует удалить столбец id, так как он не нужен при обучении моделей."
   ]
  },
  {
   "cell_type": "code",
   "execution_count": 14,
   "metadata": {},
   "outputs": [
    {
     "data": {
      "text/plain": [
       "(100000, 4)"
      ]
     },
     "metadata": {},
     "output_type": "display_data"
    },
    {
     "data": {
      "text/plain": [
       "(100000, 4)"
      ]
     },
     "metadata": {},
     "output_type": "display_data"
    },
    {
     "data": {
      "text/plain": [
       "(100000, 4)"
      ]
     },
     "metadata": {},
     "output_type": "display_data"
    }
   ],
   "source": [
    "geo_data_1_p = geo_data_1.drop(columns=['id'])\n",
    "geo_data_2_p = geo_data_2.drop(columns=['id'])\n",
    "geo_data_3_p = geo_data_3.drop(columns=['id'])\n",
    "display(geo_data_1_p.shape)\n",
    "display(geo_data_2_p.shape)\n",
    "display(geo_data_3_p.shape)"
   ]
  },
  {
   "cell_type": "markdown",
   "metadata": {},
   "source": [
    "Столбцы удалены успешно (было по 5, теперь по 4).\n",
    "\n",
    "Таблицы теперь содержат только количественные данные, поэтому не требуется использовать прямое кодирование. \n",
    "\n",
    "Теперь можно приступать к разделению данных на обучающие и валидационные выборки. Выполним данную процедуру последовательно для каждого региона, после каждого разделения проверим его правильность."
   ]
  },
  {
   "cell_type": "code",
   "execution_count": 15,
   "metadata": {
    "scrolled": true
   },
   "outputs": [
    {
     "data": {
      "text/plain": [
       "(75000, 4)"
      ]
     },
     "metadata": {},
     "output_type": "display_data"
    },
    {
     "data": {
      "text/plain": [
       "(25000, 4)"
      ]
     },
     "metadata": {},
     "output_type": "display_data"
    }
   ],
   "source": [
    "train_data_1, valid_data_1 = train_test_split(geo_data_1_p, test_size=0.25, random_state=123)\n",
    "\n",
    "display(train_data_1.shape)\n",
    "display(valid_data_1.shape)"
   ]
  },
  {
   "cell_type": "code",
   "execution_count": 16,
   "metadata": {},
   "outputs": [
    {
     "data": {
      "text/plain": [
       "(75000, 4)"
      ]
     },
     "metadata": {},
     "output_type": "display_data"
    },
    {
     "data": {
      "text/plain": [
       "(25000, 4)"
      ]
     },
     "metadata": {},
     "output_type": "display_data"
    }
   ],
   "source": [
    "train_data_2, valid_data_2 = train_test_split(geo_data_2_p, test_size=0.25, random_state=123)\n",
    "\n",
    "display(train_data_2.shape)\n",
    "display(valid_data_2.shape)"
   ]
  },
  {
   "cell_type": "code",
   "execution_count": 17,
   "metadata": {},
   "outputs": [
    {
     "data": {
      "text/plain": [
       "(75000, 4)"
      ]
     },
     "metadata": {},
     "output_type": "display_data"
    },
    {
     "data": {
      "text/plain": [
       "(25000, 4)"
      ]
     },
     "metadata": {},
     "output_type": "display_data"
    }
   ],
   "source": [
    "train_data_3, valid_data_3 = train_test_split(geo_data_3_p, test_size=0.25, random_state=123)\n",
    "\n",
    "display(train_data_3.shape)\n",
    "display(valid_data_3.shape)"
   ]
  },
  {
   "cell_type": "markdown",
   "metadata": {},
   "source": [
    "Все разделения прошли успешно. Теперь выделим из выборок обычные и целевые признаки. Выполним операции последовательно для всех трёх регионов."
   ]
  },
  {
   "cell_type": "code",
   "execution_count": 18,
   "metadata": {},
   "outputs": [],
   "source": [
    "train_features_1 = train_data_1.drop(columns=['product'])\n",
    "train_target_1 = train_data_1['product']\n",
    "valid_features_1 = valid_data_1.drop(columns=['product'])\n",
    "valid_target_1 = valid_data_1['product']\n",
    "\n",
    "train_features_2 = train_data_2.drop(columns=['product'])\n",
    "train_target_2 = train_data_2['product']\n",
    "valid_features_2 = valid_data_2.drop(columns=['product'])\n",
    "valid_target_2 = valid_data_2['product']\n",
    "\n",
    "train_features_3 = train_data_3.drop(columns=['product'])\n",
    "train_target_3 = train_data_3['product']\n",
    "valid_features_3 = valid_data_3.drop(columns=['product'])\n",
    "valid_target_3 = valid_data_3['product']"
   ]
  },
  {
   "cell_type": "markdown",
   "metadata": {},
   "source": [
    "Теперь после разделения данных на выборки и по типам признаков следует выполнить масштабирование признаков. Преобразователь масштаба будет обучаться на обучающей выборке, а затем применяться к обоим выборкам (обучающей и валидационной). Масштабирование применяется только для обычных признаков (целевой признак не следует масштабировать). Выполним операции последовательно для всех трёх регионов."
   ]
  },
  {
   "cell_type": "code",
   "execution_count": 19,
   "metadata": {
    "scrolled": true
   },
   "outputs": [],
   "source": [
    "scaler = StandardScaler()\n",
    "\n",
    "scaler.fit(train_features_1)\n",
    "train_features_1 = scaler.transform(train_features_1)\n",
    "valid_features_1 = scaler.transform(valid_features_1)\n",
    "\n",
    "scaler.fit(train_features_2)\n",
    "train_features_2 = scaler.transform(train_features_2)\n",
    "valid_features_2 = scaler.transform(valid_features_2)\n",
    "\n",
    "scaler.fit(train_features_3)\n",
    "train_features_3 = scaler.transform(train_features_3)\n",
    "valid_features_3 = scaler.transform(valid_features_3)"
   ]
  },
  {
   "cell_type": "markdown",
   "metadata": {},
   "source": [
    "### Построение константных моделей"
   ]
  },
  {
   "cell_type": "markdown",
   "metadata": {},
   "source": [
    "Теперь можно приступать к построению модели. Но начнём этот этап с построения не реальной, а константной модели. В случае задачи регрессии она будет предсказывать всегда среднее значение целевого признака, полученное на обучающей выборке. По результатам работы модели посчитаем три метрики регрессии: RMSE, MAE и R2. Полученные результаты помогут в дальнейшем оценить качество реальной модели.\n",
    "\n",
    "Модели будем строить последовательно для каждого региона. Для моделей достаточно использовать одну переменную, так как при каждом следующем вызове метода fit обучение модели будет происходить заново.\n",
    "\n",
    "Константная модель для ПЕРВОГО региона:"
   ]
  },
  {
   "cell_type": "code",
   "execution_count": 20,
   "metadata": {},
   "outputs": [
    {
     "name": "stdout",
     "output_type": "stream",
     "text": [
      "Константная модель (регион 1) имеет значение RMSE: 44.41093\n",
      "Константная модель (регион 1) имеет значение MAE: 37.87439\n",
      "Константная модель (регион 1) имеет значение R2: -0.00011\n"
     ]
    }
   ],
   "source": [
    "dummy_model = DummyRegressor()\n",
    "dummy_model.fit(train_features_1, train_target_1)\n",
    "dummy_predictions = dummy_model.predict(valid_features_1)\n",
    "mse = mean_squared_error(valid_target_1, dummy_predictions)\n",
    "rmse = mse**0.5\n",
    "mae = mean_absolute_error(valid_target_1, dummy_predictions)\n",
    "r2 = r2_score(valid_target_1, dummy_predictions)\n",
    "print(f'Константная модель (регион 1) имеет значение RMSE: {rmse:.5f}')\n",
    "print(f'Константная модель (регион 1) имеет значение MAE: {mae:.5f}')\n",
    "print(f'Константная модель (регион 1) имеет значение R2: {r2:.5f}')"
   ]
  },
  {
   "cell_type": "markdown",
   "metadata": {},
   "source": [
    "Константная модель для ВТОРОГО региона:"
   ]
  },
  {
   "cell_type": "code",
   "execution_count": 21,
   "metadata": {},
   "outputs": [
    {
     "name": "stdout",
     "output_type": "stream",
     "text": [
      "Константная модель (регион 2) имеет значение RMSE: 45.82281\n",
      "Константная модель (регион 2) имеет значение MAE: 40.14500\n",
      "Константная модель (регион 2) имеет значение R2: -0.00017\n"
     ]
    }
   ],
   "source": [
    "dummy_model.fit(train_features_2, train_target_2)\n",
    "dummy_predictions = dummy_model.predict(valid_features_2)\n",
    "mse = mean_squared_error(valid_target_2, dummy_predictions)\n",
    "rmse = mse**0.5\n",
    "mae = mean_absolute_error(valid_target_2, dummy_predictions)\n",
    "r2 = r2_score(valid_target_2, dummy_predictions)\n",
    "print(f'Константная модель (регион 2) имеет значение RMSE: {rmse:.5f}')\n",
    "print(f'Константная модель (регион 2) имеет значение MAE: {mae:.5f}')\n",
    "print(f'Константная модель (регион 2) имеет значение R2: {r2:.5f}')"
   ]
  },
  {
   "cell_type": "markdown",
   "metadata": {},
   "source": [
    "Константная модель для ТРЕТЬЕГО региона:"
   ]
  },
  {
   "cell_type": "code",
   "execution_count": 22,
   "metadata": {},
   "outputs": [
    {
     "name": "stdout",
     "output_type": "stream",
     "text": [
      "Константная модель (регион 3) имеет значение RMSE: 44.67360\n",
      "Константная модель (регион 3) имеет значение MAE: 37.74345\n",
      "Константная модель (регион 3) имеет значение R2: -0.00001\n"
     ]
    }
   ],
   "source": [
    "dummy_model.fit(train_features_3, train_target_3)\n",
    "dummy_predictions = dummy_model.predict(valid_features_3)\n",
    "mse = mean_squared_error(valid_target_3, dummy_predictions)\n",
    "rmse = mse**0.5\n",
    "mae = mean_absolute_error(valid_target_3, dummy_predictions)\n",
    "r2 = r2_score(valid_target_3, dummy_predictions)\n",
    "print(f'Константная модель (регион 3) имеет значение RMSE: {rmse:.5f}')\n",
    "print(f'Константная модель (регион 3) имеет значение MAE: {mae:.5f}')\n",
    "print(f'Константная модель (регион 3) имеет значение R2: {r2:.5f}')"
   ]
  },
  {
   "cell_type": "markdown",
   "metadata": {},
   "source": [
    "**Вывод:** значения метрик регрессии для каждой константной модели успешно получены. Значения R2 получились вполне ожидаемые согласно теоретическим изысканиям (близкие к нулю числа говорят о том, что модель предсказывает почти такие же значения, что и среднее). Значения метрик RMSE и MAE должны уменьшиться при построении реальной модели, а значение R2 должно увеличиться."
   ]
  },
  {
   "cell_type": "markdown",
   "metadata": {},
   "source": [
    "### Построение моделей линейной регрессии"
   ]
  },
  {
   "cell_type": "markdown",
   "metadata": {},
   "source": [
    "Выполним построение моделей линейной регрессии последовательно для каждого региона. По результатам работы каждой модели посчитаем три метрики регрессии: RMSE, MAE и R2. Также посчитаем средний запас предсказанного сырья.\n",
    "\n",
    "Модель линейной регрессии для ПЕРВОГО региона:"
   ]
  },
  {
   "cell_type": "code",
   "execution_count": 23,
   "metadata": {},
   "outputs": [
    {
     "name": "stdout",
     "output_type": "stream",
     "text": [
      "Модель линейной регрессии (регион 1) имеет значение RMSE: 37.64786\n",
      "Модель линейной регрессии (регион 1) имеет значение MAE: 30.98421\n",
      "Модель линейной регрессии (регион 1) имеет значение R2: 0.28130\n",
      "Средний запас предсказанного сырья: 92.549 тыс. баррелей\n"
     ]
    }
   ],
   "source": [
    "model_1 = LinearRegression()\n",
    "model_1.fit(train_features_1, train_target_1)\n",
    "valid_predictions_1 = model_1.predict(valid_features_1)\n",
    "mse = mean_squared_error(valid_target_1, valid_predictions_1)\n",
    "rmse = mse**0.5\n",
    "mae = mean_absolute_error(valid_target_1, valid_predictions_1)\n",
    "r2 = r2_score(valid_target_1, valid_predictions_1)\n",
    "print(f'Модель линейной регрессии (регион 1) имеет значение RMSE: {rmse:.5f}')\n",
    "print(f'Модель линейной регрессии (регион 1) имеет значение MAE: {mae:.5f}')\n",
    "print(f'Модель линейной регрессии (регион 1) имеет значение R2: {r2:.5f}')\n",
    "print(f'Средний запас предсказанного сырья: {sum(valid_predictions_1)/len(valid_predictions_1):.3f} тыс. баррелей')"
   ]
  },
  {
   "cell_type": "markdown",
   "metadata": {},
   "source": [
    "Модель линейной регрессии для ВТОРОГО региона:"
   ]
  },
  {
   "cell_type": "code",
   "execution_count": 24,
   "metadata": {},
   "outputs": [
    {
     "name": "stdout",
     "output_type": "stream",
     "text": [
      "Модель линейной регрессии (регион 2) имеет значение RMSE: 0.89541\n",
      "Модель линейной регрессии (регион 2) имеет значение MAE: 0.72106\n",
      "Модель линейной регрессии (регион 2) имеет значение R2: 0.99962\n",
      "Средний запас предсказанного сырья: 69.280 тыс. баррелей\n"
     ]
    }
   ],
   "source": [
    "model_2 = LinearRegression()\n",
    "model_2.fit(train_features_2, train_target_2)\n",
    "valid_predictions_2 = model_2.predict(valid_features_2)\n",
    "mse = mean_squared_error(valid_target_2, valid_predictions_2)\n",
    "rmse = mse**0.5\n",
    "mae = mean_absolute_error(valid_target_2, valid_predictions_2)\n",
    "r2 = r2_score(valid_target_2, valid_predictions_2)\n",
    "print(f'Модель линейной регрессии (регион 2) имеет значение RMSE: {rmse:.5f}')\n",
    "print(f'Модель линейной регрессии (регион 2) имеет значение MAE: {mae:.5f}')\n",
    "print(f'Модель линейной регрессии (регион 2) имеет значение R2: {r2:.5f}')\n",
    "print(f'Средний запас предсказанного сырья: {sum(valid_predictions_2)/len(valid_predictions_2):.3f} тыс. баррелей')"
   ]
  },
  {
   "cell_type": "markdown",
   "metadata": {},
   "source": [
    "Модель линейной регрессии для ТРЕТЬЕГО региона:"
   ]
  },
  {
   "cell_type": "code",
   "execution_count": 25,
   "metadata": {},
   "outputs": [
    {
     "name": "stdout",
     "output_type": "stream",
     "text": [
      "Модель линейной регрессии (регион 3) имеет значение RMSE: 40.12803\n",
      "Модель линейной регрессии (регион 3) имеет значение MAE: 32.80763\n",
      "Модель линейной регрессии (регион 3) имеет значение R2: 0.19314\n",
      "Средний запас предсказанного сырья: 95.099 тыс. баррелей\n"
     ]
    }
   ],
   "source": [
    "model_3 = LinearRegression()\n",
    "model_3.fit(train_features_3, train_target_3)\n",
    "valid_predictions_3 = model_3.predict(valid_features_3)\n",
    "mse = mean_squared_error(valid_target_3, valid_predictions_3)\n",
    "rmse = mse**0.5\n",
    "mae = mean_absolute_error(valid_target_3, valid_predictions_3)\n",
    "r2 = r2_score(valid_target_3, valid_predictions_3)\n",
    "print(f'Модель линейной регрессии (регион 3) имеет значение RMSE: {rmse:.5f}')\n",
    "print(f'Модель линейной регрессии (регион 3) имеет значение MAE: {mae:.5f}')\n",
    "print(f'Модель линейной регрессии (регион 3) имеет значение R2: {r2:.5f}')\n",
    "print(f'Средний запас предсказанного сырья: {sum(valid_predictions_3)/len(valid_predictions_3):.3f} тыс. баррелей')"
   ]
  },
  {
   "cell_type": "markdown",
   "metadata": {},
   "source": [
    "**Вывод:** по результатам работы всех трёх моделей линейной регрессии выявлено значительное улучшение метрик качества (RMSE, MAE, R2), относительно константной модели. При этом, модель для второго региона получилась близкой к идеальной. Вероятно, это произошло из-за специфики исходных данных для обучения. Полученные значения среднего запаса предсказанного сырья во всех моделях близки к средним значениям целевого признака в исходных данных.\n",
    "\n",
    "Наибольший средний запас предсказанного сырья - в третьем регионе, а наименьший - во втором. Но руководствоваться этими фактами при выборе региона пока нельзя, так как при разработке придётся выбрать ограниченное небольшое число точек, и не факт, что в той ситуации будут аналогичные результаты по запасам сырья."
   ]
  },
  {
   "cell_type": "markdown",
   "metadata": {},
   "source": [
    "## Подготовка к расчёту прибыли"
   ]
  },
  {
   "cell_type": "markdown",
   "metadata": {},
   "source": [
    "Введём некоторые константы, исходя из условий задачи, которые пригодятся в дальнейшей работе."
   ]
  },
  {
   "cell_type": "code",
   "execution_count": 26,
   "metadata": {},
   "outputs": [],
   "source": [
    "#бюджет на разработку скважин в регионе\n",
    "DEVELOP_BUDGET = 1e10\n",
    "\n",
    "#количество исследуемых точек для разработки при разведке региона\n",
    "TOTAL_NUM = 500\n",
    "\n",
    "#количество выбираемых точек для разработки с помощью машинного обучения\n",
    "BEST_NUM = 200\n",
    "\n",
    "#стоимость одной тысячи баррелей нефти (руб.)\n",
    "PRICE_1K = 450000\n",
    "\n",
    "#ширина доверительного интервала\n",
    "CONF_INTERVAL = 0.95\n",
    "\n",
    "#предельная вероятность убытков\n",
    "P_LOSS = 0.025"
   ]
  },
  {
   "cell_type": "markdown",
   "metadata": {},
   "source": [
    "Рассчитаем достаточный объём сырья для безубыточной разработки новой скважины."
   ]
  },
  {
   "cell_type": "code",
   "execution_count": 27,
   "metadata": {},
   "outputs": [
    {
     "name": "stdout",
     "output_type": "stream",
     "text": [
      "Достаточный объём сырья для безубыточной разработки новой скважины: 111.111 тыс. баррелей\n"
     ]
    }
   ],
   "source": [
    "enough_vol_1 = DEVELOP_BUDGET/BEST_NUM/PRICE_1K\n",
    "print(f'Достаточный объём сырья для безубыточной разработки новой скважины: {enough_vol_1:.3f} тыс. баррелей')"
   ]
  },
  {
   "cell_type": "markdown",
   "metadata": {},
   "source": [
    "**Вывод:** полученное значение достаточного объёма сырья для безубыточной разработки новой скважины превышает значения средних запасов предсказанного сырья в каждом регионе. Это значит, что необходимо грамотно выбирать точки для разработки, ориентируясь на наибольшие запасы сырья в каждой из них."
   ]
  },
  {
   "cell_type": "markdown",
   "metadata": {},
   "source": [
    "Далее напишем функцию для расчёта прибыли по выбранным скважинам и предсказаниям модели. В функции выбираются лучшие точки для разработки, а затем рассчитывается прибыль (суммарная выручка минус затраты на разработку). Для удобства выполним перевод результата в тысячи рублей."
   ]
  },
  {
   "cell_type": "code",
   "execution_count": 28,
   "metadata": {},
   "outputs": [],
   "source": [
    "def revenue(target, predictions, count):\n",
    "    predictions_sorted = predictions.sort_values(ascending=False)\n",
    "    selected = target[predictions_sorted.index][:count]\n",
    "    return (PRICE_1K*selected.sum()-DEVELOP_BUDGET)/1000"
   ]
  },
  {
   "cell_type": "markdown",
   "metadata": {},
   "source": [
    "## Расчёт прибыли и рисков "
   ]
  },
  {
   "cell_type": "markdown",
   "metadata": {},
   "source": [
    "### Расчёт прибыли и рисков для первого региона"
   ]
  },
  {
   "cell_type": "markdown",
   "metadata": {},
   "source": [
    "Теперь с помощью техники Bootstrap посчитаем прибыль и риски для каждого региона. Перед использованием Bootstrap необходимо преобразовать предсказания моделей в тип Series. При создании сэмплов учтём, что размер сэмпла должен быть 500 значений. Тогда коэффициент frac равен: TOTAL_NUM / размер валидационной выборки с целевыми признаками. Количества исследуемых и выбираемых точек разработки указаны ранее как константы. Параметр replace в функции sample установим в True, так как это одно из требований техники Bootstrap.\n",
    "\n",
    "При расчёте доверительного интервала будем использовать квантили, соответствующие границам доверительного интервала. Для расчёта риска убытков посчитаем вероятность наличия отрицательных значений в массиве суммарных прибылей, сформированном в результате техники Bootstrap."
   ]
  },
  {
   "cell_type": "code",
   "execution_count": 29,
   "metadata": {},
   "outputs": [],
   "source": [
    "valid_predictions_1 = pd.Series(valid_predictions_1, valid_target_1.index)\n",
    "\n",
    "state = np.random.RandomState(123)\n",
    "values_1 = []\n",
    "for i in range(1000):\n",
    "    target_subsample = valid_target_1.sample(n=TOTAL_NUM, replace=True, random_state=state)\n",
    "    predictions_subsample = valid_predictions_1[target_subsample.index]\n",
    "    values_1.append(revenue(target_subsample, predictions_subsample, BEST_NUM))\n",
    "\n",
    "values_1 = pd.Series(values_1)\n"
   ]
  },
  {
   "cell_type": "code",
   "execution_count": 30,
   "metadata": {},
   "outputs": [
    {
     "data": {
      "text/plain": [
       "count    1.000000e+03\n",
       "mean     5.047787e+05\n",
       "std      2.758224e+05\n",
       "min     -3.291439e+05\n",
       "25%      3.252039e+05\n",
       "50%      5.119039e+05\n",
       "75%      6.851818e+05\n",
       "max      1.353771e+06\n",
       "dtype: float64"
      ]
     },
     "execution_count": 30,
     "metadata": {},
     "output_type": "execute_result"
    }
   ],
   "source": [
    "values_1.describe()"
   ]
  },
  {
   "cell_type": "code",
   "execution_count": 31,
   "metadata": {},
   "outputs": [
    {
     "name": "stdout",
     "output_type": "stream",
     "text": [
      "Средняя суммарная прибыль на выбранных точках (регион 1): 504779 тыс. руб.\n",
      "95-% доверительный интервал для суммарной прибыли (регион 1): [-51833, 1029933] тыс. руб.\n",
      "Риск убытков (регион 1): 4.00 %\n"
     ]
    }
   ],
   "source": [
    "print(f'Средняя суммарная прибыль на выбранных точках (регион 1): {values_1.mean():.0f} тыс. руб.')\n",
    "\n",
    "left_border = values_1.quantile(round((1-CONF_INTERVAL)/2, 4)) #нижняя граница доверительного интервала\n",
    "right_border = values_1.quantile(round(CONF_INTERVAL+(1-CONF_INTERVAL)/2, 4)) #верхняя граница доверительного интервала\n",
    "print(f'95-% доверительный интервал для суммарной прибыли (регион 1): [{left_border:.0f}, {right_border:.0f}] тыс. руб.')\n",
    "\n",
    "risk = (values_1<0).mean()*100\n",
    "print(f'Риск убытков (регион 1): {risk:.2f} %')"
   ]
  },
  {
   "cell_type": "markdown",
   "metadata": {},
   "source": [
    "**Вывод по региону 1:** в 95-% доверительный интервал попадают отрицательные значения прибыли. Это значит, что нельзя утверждать, что с вероятностью 95% прибыль будет положительная и не будет убытка. Риск убытков в регионе получился равным 4 %, что не удовлетворяет требованиям в условии задачи. "
   ]
  },
  {
   "cell_type": "markdown",
   "metadata": {},
   "source": [
    "### Расчёт прибыли и рисков для второго региона"
   ]
  },
  {
   "cell_type": "code",
   "execution_count": 32,
   "metadata": {},
   "outputs": [],
   "source": [
    "valid_predictions_2 = pd.Series(valid_predictions_2, valid_target_2.index)\n",
    "\n",
    "state = np.random.RandomState(123)\n",
    "values_2 = []\n",
    "for i in range(1000):\n",
    "    target_subsample = valid_target_2.sample(n=TOTAL_NUM, replace=True, random_state=state)\n",
    "    predictions_subsample = valid_predictions_2[target_subsample.index]\n",
    "    values_2.append(revenue(target_subsample, predictions_subsample, BEST_NUM))\n",
    "\n",
    "values_2 = pd.Series(values_2)"
   ]
  },
  {
   "cell_type": "code",
   "execution_count": 33,
   "metadata": {},
   "outputs": [
    {
     "data": {
      "text/plain": [
       "count    1.000000e+03\n",
       "mean     5.388796e+05\n",
       "std      2.158523e+05\n",
       "min     -2.529129e+05\n",
       "25%      4.038706e+05\n",
       "50%      5.443956e+05\n",
       "75%      6.759949e+05\n",
       "max      1.202563e+06\n",
       "dtype: float64"
      ]
     },
     "execution_count": 33,
     "metadata": {},
     "output_type": "execute_result"
    }
   ],
   "source": [
    "values_2.describe()"
   ]
  },
  {
   "cell_type": "code",
   "execution_count": 34,
   "metadata": {
    "scrolled": true
   },
   "outputs": [
    {
     "name": "stdout",
     "output_type": "stream",
     "text": [
      "Средняя суммарная прибыль на выбранных точках (регион 2): 538880 тыс. руб.\n",
      "95-% доверительный интервал для суммарной прибыли (регион 2): [104974, 963565] тыс. руб.\n",
      "Риск убытков (регион 2): 0.50 %\n"
     ]
    }
   ],
   "source": [
    "print(f'Средняя суммарная прибыль на выбранных точках (регион 2): {values_2.mean():.0f} тыс. руб.')\n",
    "\n",
    "left_border = values_2.quantile(round((1-CONF_INTERVAL)/2, 4)) #нижняя граница доверительного интервала\n",
    "right_border = values_2.quantile(round(CONF_INTERVAL+(1-CONF_INTERVAL)/2, 4)) #верхняя граница доверительного интервала\n",
    "print(f'95-% доверительный интервал для суммарной прибыли (регион 2): [{left_border:.0f}, {right_border:.0f}] тыс. руб.')\n",
    "\n",
    "risk = (values_2<0).mean()*100\n",
    "print(f'Риск убытков (регион 2): {risk:.2f} %')"
   ]
  },
  {
   "cell_type": "markdown",
   "metadata": {},
   "source": [
    "**Вывод по региону 2:** в 95-% доверительный интервал попадают только положительные значения прибыли. Можно утверждать, что с вероятностью 95% прибыль будет положительная и не будет убытка. Риск убытков в регионе получился равным 0,5 %, что удовлетворяет требованию в условии задачи. "
   ]
  },
  {
   "cell_type": "markdown",
   "metadata": {},
   "source": [
    "### Расчёт прибыли и рисков для третьего региона"
   ]
  },
  {
   "cell_type": "code",
   "execution_count": 35,
   "metadata": {},
   "outputs": [],
   "source": [
    "valid_predictions_3 = pd.Series(valid_predictions_3, valid_target_3.index)\n",
    "\n",
    "state = np.random.RandomState(123)\n",
    "values_3 = []\n",
    "for i in range(1000):\n",
    "    target_subsample = valid_target_3.sample(n=TOTAL_NUM, replace=True, random_state=state)\n",
    "    predictions_subsample = valid_predictions_3[target_subsample.index]\n",
    "    values_3.append(revenue(target_subsample, predictions_subsample, BEST_NUM))\n",
    "\n",
    "values_3 = pd.Series(values_3)\n"
   ]
  },
  {
   "cell_type": "code",
   "execution_count": 36,
   "metadata": {},
   "outputs": [
    {
     "data": {
      "text/plain": [
       "count    1.000000e+03\n",
       "mean     3.642223e+05\n",
       "std      2.806695e+05\n",
       "min     -4.866129e+05\n",
       "25%      1.868107e+05\n",
       "50%      3.635256e+05\n",
       "75%      5.520833e+05\n",
       "max      1.201520e+06\n",
       "dtype: float64"
      ]
     },
     "execution_count": 36,
     "metadata": {},
     "output_type": "execute_result"
    }
   ],
   "source": [
    "values_3.describe()"
   ]
  },
  {
   "cell_type": "code",
   "execution_count": 37,
   "metadata": {
    "scrolled": true
   },
   "outputs": [
    {
     "name": "stdout",
     "output_type": "stream",
     "text": [
      "Средняя суммарная прибыль на выбранных точках (регион 3): 364222 тыс. руб.\n",
      "95-% доверительный интервал для суммарной прибыли (регион 3): [-220914, 906490] тыс. руб.\n",
      "Риск убытков (регион 3): 9.50 %\n"
     ]
    }
   ],
   "source": [
    "print(f'Средняя суммарная прибыль на выбранных точках (регион 3): {values_3.mean():.0f} тыс. руб.')\n",
    "\n",
    "left_border = values_3.quantile(round((1-CONF_INTERVAL)/2, 4)) #нижняя граница доверительного интервала\n",
    "right_border = values_3.quantile(round(CONF_INTERVAL+(1-CONF_INTERVAL)/2, 4)) #верхняя граница доверительного интервала\n",
    "print(f'95-% доверительный интервал для суммарной прибыли (регион 3): [{left_border:.0f}, {right_border:.0f}] тыс. руб.')\n",
    "\n",
    "risk = (values_3<0).mean()*100\n",
    "print(f'Риск убытков (регион 3): {risk:.2f} %')"
   ]
  },
  {
   "cell_type": "markdown",
   "metadata": {},
   "source": [
    "**Вывод по региону 3:** в 95-% доверительный интервал попадают отрицательные значения прибыли. Это значит, что нельзя утверждать, что с вероятностью 95% прибыль будет положительная и не будет убытка. Риск убытков в регионе получился равным 9,5 %, что не удовлетворяет требованиям в условии задачи."
   ]
  },
  {
   "cell_type": "markdown",
   "metadata": {},
   "source": [
    "### Выбор региона для разработки скважин"
   ]
  },
  {
   "cell_type": "markdown",
   "metadata": {},
   "source": [
    "Третий регион сразу исключается из выбора - в нём слишком высокий риск убытков, наименьшая средняя суммарная прибыль в выбранных точках, а также присутствуют отрицательные значения в 95-% доверительном интервале для прибыли.\n",
    "\n",
    "Первый регион показал промежуточное значение средней суммарной прибыли, но полученный риск убытков не удовлетворяет требованиям задачи. Также присутствуют отрицательные значения в 95-% доверительном интервале для прибыли.\n",
    "\n",
    "Второй регион показал самое высокое значение средней суммарной прибыли, риск убытков удовлетворяет требованиям задачи, 95-% доверительный интервал не содержит отрицательных значений прибыли. Убытки в этом регионе возможны, но их вероятность крайне низкая.\n",
    "\n",
    "На основе вышеизложенного, для разработки месторождения предлагаем именно **второй** регион."
   ]
  },
  {
   "cell_type": "markdown",
   "metadata": {},
   "source": [
    "## Общий вывод"
   ]
  },
  {
   "cell_type": "markdown",
   "metadata": {},
   "source": [
    "В проекте были изучены исходные данные и выполнена их базовая предобработка. После этого было произведено разделение данных на обучающую и валидационную выборки, а также подготовлены признаки для дальнейшего обучения моделей. При подготовке признаков выполнено их масштабирование, удалены лишние для обучения моделей данные. \n",
    "\n",
    "На первом этапе перед построением реальных моделей были исследованы константные модели регрессии, предсказывающие средние значения целевого признака. Были получены значения метрик качества (RSME, MAE, R2), которые необходимо улучшить в реальных моделях.\n",
    "\n",
    "На втором этапе была построены отдельные модели линейной регрессии для данных каждого региона. По результатам работы всех трёх моделей линейной регрессии выявлено значительное улучшение метрик качества (RMSE, MAE, R2), относительно константной модели. При этом, модель для второго региона получилась близкой к идеальной. \n",
    "\n",
    "При подготовке к расчёту прибыли был определён достаточный объём сырья для безубыточной разработки новой скважины и написана функция для расчёта прибыли по выбранным скважинам и предсказаниям модели.\n",
    "\n",
    "Далее был произведён непосредственно расчёт прибыли и рисков для каждого региона с использованием техники Bootstrap. На основе полученных данных выяснилось, что для разработки месторождения лучше всего подходит второй регион."
   ]
  }
 ],
 "metadata": {
  "ExecuteTimeLog": [
   {
    "duration": 1525,
    "start_time": "2022-07-15T03:57:06.105Z"
   },
   {
    "duration": 426,
    "start_time": "2022-07-15T03:57:13.565Z"
   },
   {
    "duration": 12,
    "start_time": "2022-07-15T03:57:16.145Z"
   },
   {
    "duration": 12,
    "start_time": "2022-07-15T03:57:36.280Z"
   },
   {
    "duration": 9,
    "start_time": "2022-07-15T03:57:50.191Z"
   },
   {
    "duration": 264,
    "start_time": "2022-07-15T04:02:57.564Z"
   },
   {
    "duration": 9,
    "start_time": "2022-07-15T04:03:01.386Z"
   },
   {
    "duration": 10,
    "start_time": "2022-07-15T04:03:13.054Z"
   },
   {
    "duration": 8,
    "start_time": "2022-07-15T04:03:14.645Z"
   },
   {
    "duration": 240,
    "start_time": "2022-07-15T04:03:21.791Z"
   },
   {
    "duration": 13,
    "start_time": "2022-07-15T04:03:25.255Z"
   },
   {
    "duration": 10,
    "start_time": "2022-07-15T04:03:32.214Z"
   },
   {
    "duration": 8,
    "start_time": "2022-07-15T04:03:50.249Z"
   },
   {
    "duration": 15,
    "start_time": "2022-07-15T04:04:28.559Z"
   },
   {
    "duration": 11,
    "start_time": "2022-07-15T04:05:03.273Z"
   },
   {
    "duration": 11,
    "start_time": "2022-07-15T04:05:08.457Z"
   },
   {
    "duration": 12,
    "start_time": "2022-07-15T04:05:34.982Z"
   },
   {
    "duration": 13,
    "start_time": "2022-07-15T04:05:35.828Z"
   },
   {
    "duration": 14,
    "start_time": "2022-07-15T04:05:49.928Z"
   },
   {
    "duration": 13,
    "start_time": "2022-07-15T04:06:50.358Z"
   },
   {
    "duration": 101,
    "start_time": "2022-07-15T04:07:06.910Z"
   },
   {
    "duration": 80,
    "start_time": "2022-07-15T04:07:30.144Z"
   },
   {
    "duration": 15,
    "start_time": "2022-07-15T04:07:50.200Z"
   },
   {
    "duration": 31,
    "start_time": "2022-07-15T04:09:49.356Z"
   },
   {
    "duration": 7,
    "start_time": "2022-07-15T04:11:59.030Z"
   },
   {
    "duration": 6,
    "start_time": "2022-07-15T04:12:01.006Z"
   },
   {
    "duration": 11,
    "start_time": "2022-07-15T04:12:35.164Z"
   },
   {
    "duration": 19,
    "start_time": "2022-07-15T04:14:30.808Z"
   },
   {
    "duration": 19,
    "start_time": "2022-07-15T04:15:04.274Z"
   },
   {
    "duration": 18,
    "start_time": "2022-07-15T04:15:24.850Z"
   },
   {
    "duration": 3,
    "start_time": "2022-07-15T04:25:01.554Z"
   },
   {
    "duration": 3,
    "start_time": "2022-07-15T04:26:58.661Z"
   },
   {
    "duration": 14,
    "start_time": "2022-07-15T04:41:34.285Z"
   },
   {
    "duration": 5,
    "start_time": "2022-07-15T04:41:39.180Z"
   },
   {
    "duration": 1436,
    "start_time": "2022-07-15T04:41:42.875Z"
   },
   {
    "duration": 6,
    "start_time": "2022-07-15T04:41:50.790Z"
   },
   {
    "duration": 6,
    "start_time": "2022-07-15T04:42:20.741Z"
   },
   {
    "duration": 4,
    "start_time": "2022-07-15T04:42:26.947Z"
   },
   {
    "duration": 6,
    "start_time": "2022-07-15T04:44:16.933Z"
   },
   {
    "duration": 8,
    "start_time": "2022-07-15T04:44:22.785Z"
   },
   {
    "duration": 4,
    "start_time": "2022-07-15T04:44:39.909Z"
   },
   {
    "duration": 1522,
    "start_time": "2022-07-15T04:48:03.288Z"
   },
   {
    "duration": 180,
    "start_time": "2022-07-15T04:48:04.812Z"
   },
   {
    "duration": 13,
    "start_time": "2022-07-15T04:48:04.994Z"
   },
   {
    "duration": 43,
    "start_time": "2022-07-15T04:48:05.009Z"
   },
   {
    "duration": 11,
    "start_time": "2022-07-15T04:48:05.053Z"
   },
   {
    "duration": 190,
    "start_time": "2022-07-15T04:48:05.065Z"
   },
   {
    "duration": 17,
    "start_time": "2022-07-15T04:48:05.256Z"
   },
   {
    "duration": 37,
    "start_time": "2022-07-15T04:48:05.276Z"
   },
   {
    "duration": 21,
    "start_time": "2022-07-15T04:48:05.315Z"
   },
   {
    "duration": 207,
    "start_time": "2022-07-15T04:48:05.341Z"
   },
   {
    "duration": 10,
    "start_time": "2022-07-15T04:48:05.550Z"
   },
   {
    "duration": 21,
    "start_time": "2022-07-15T04:48:05.562Z"
   },
   {
    "duration": 17,
    "start_time": "2022-07-15T04:48:05.585Z"
   },
   {
    "duration": 23,
    "start_time": "2022-07-15T04:48:05.603Z"
   },
   {
    "duration": 22,
    "start_time": "2022-07-15T04:48:05.628Z"
   },
   {
    "duration": 16,
    "start_time": "2022-07-15T04:48:05.652Z"
   },
   {
    "duration": 36,
    "start_time": "2022-07-15T04:48:05.670Z"
   },
   {
    "duration": 23,
    "start_time": "2022-07-15T04:48:05.708Z"
   },
   {
    "duration": 46,
    "start_time": "2022-07-15T04:48:05.735Z"
   },
   {
    "duration": 9,
    "start_time": "2022-07-15T04:48:05.783Z"
   },
   {
    "duration": 15,
    "start_time": "2022-07-15T04:48:05.794Z"
   },
   {
    "duration": 12,
    "start_time": "2022-07-15T04:48:05.811Z"
   },
   {
    "duration": 81,
    "start_time": "2022-07-15T04:48:05.826Z"
   },
   {
    "duration": 110,
    "start_time": "2022-07-15T04:48:05.910Z"
   },
   {
    "duration": 180,
    "start_time": "2022-07-15T04:48:06.022Z"
   },
   {
    "duration": 108,
    "start_time": "2022-07-15T04:48:06.204Z"
   },
   {
    "duration": 5,
    "start_time": "2022-07-15T04:48:06.315Z"
   },
   {
    "duration": 10,
    "start_time": "2022-07-15T04:48:06.323Z"
   },
   {
    "duration": 1577,
    "start_time": "2022-07-15T04:48:06.335Z"
   },
   {
    "duration": 9,
    "start_time": "2022-07-15T04:48:16.919Z"
   },
   {
    "duration": 10,
    "start_time": "2022-07-15T04:49:47.898Z"
   },
   {
    "duration": 4,
    "start_time": "2022-07-15T04:51:56.685Z"
   },
   {
    "duration": 3,
    "start_time": "2022-07-15T04:52:08.337Z"
   },
   {
    "duration": 1333,
    "start_time": "2022-07-15T04:52:51.119Z"
   },
   {
    "duration": 7,
    "start_time": "2022-07-15T04:53:08.541Z"
   },
   {
    "duration": 11,
    "start_time": "2022-07-15T04:53:11.249Z"
   },
   {
    "duration": 7,
    "start_time": "2022-07-15T04:54:28.207Z"
   },
   {
    "duration": 5,
    "start_time": "2022-07-15T04:54:33.846Z"
   },
   {
    "duration": 101,
    "start_time": "2022-07-15T04:55:37.094Z"
   },
   {
    "duration": 1368,
    "start_time": "2022-07-15T04:58:32.651Z"
   },
   {
    "duration": 7,
    "start_time": "2022-07-15T04:58:34.024Z"
   },
   {
    "duration": 10,
    "start_time": "2022-07-15T04:58:37.927Z"
   },
   {
    "duration": 1370,
    "start_time": "2022-07-15T05:10:40.814Z"
   },
   {
    "duration": 15,
    "start_time": "2022-07-15T05:10:42.186Z"
   },
   {
    "duration": 1123,
    "start_time": "2022-07-15T05:11:31.235Z"
   },
   {
    "duration": 10,
    "start_time": "2022-07-15T05:11:32.402Z"
   },
   {
    "duration": 1109,
    "start_time": "2022-07-15T05:11:41.866Z"
   },
   {
    "duration": 9,
    "start_time": "2022-07-15T05:11:42.977Z"
   },
   {
    "duration": 5,
    "start_time": "2022-07-15T05:12:08.126Z"
   },
   {
    "duration": 4,
    "start_time": "2022-07-15T05:15:10.197Z"
   },
   {
    "duration": 4,
    "start_time": "2022-07-15T05:16:01.745Z"
   },
   {
    "duration": 7,
    "start_time": "2022-07-15T05:17:27.654Z"
   },
   {
    "duration": 1904,
    "start_time": "2022-07-15T16:08:57.387Z"
   },
   {
    "duration": 557,
    "start_time": "2022-07-15T16:08:59.293Z"
   },
   {
    "duration": 14,
    "start_time": "2022-07-15T16:08:59.852Z"
   },
   {
    "duration": 12,
    "start_time": "2022-07-15T16:08:59.867Z"
   },
   {
    "duration": 12,
    "start_time": "2022-07-15T16:08:59.881Z"
   },
   {
    "duration": 376,
    "start_time": "2022-07-15T16:08:59.895Z"
   },
   {
    "duration": 9,
    "start_time": "2022-07-15T16:09:00.273Z"
   },
   {
    "duration": 14,
    "start_time": "2022-07-15T16:09:00.283Z"
   },
   {
    "duration": 15,
    "start_time": "2022-07-15T16:09:00.299Z"
   },
   {
    "duration": 333,
    "start_time": "2022-07-15T16:09:00.316Z"
   },
   {
    "duration": 10,
    "start_time": "2022-07-15T16:09:00.651Z"
   },
   {
    "duration": 19,
    "start_time": "2022-07-15T16:09:00.663Z"
   },
   {
    "duration": 14,
    "start_time": "2022-07-15T16:09:00.684Z"
   },
   {
    "duration": 34,
    "start_time": "2022-07-15T16:09:00.701Z"
   },
   {
    "duration": 18,
    "start_time": "2022-07-15T16:09:00.736Z"
   },
   {
    "duration": 23,
    "start_time": "2022-07-15T16:09:00.756Z"
   },
   {
    "duration": 16,
    "start_time": "2022-07-15T16:09:00.781Z"
   },
   {
    "duration": 65,
    "start_time": "2022-07-15T16:09:00.798Z"
   },
   {
    "duration": 61,
    "start_time": "2022-07-15T16:09:00.864Z"
   },
   {
    "duration": 32,
    "start_time": "2022-07-15T16:09:00.926Z"
   },
   {
    "duration": 40,
    "start_time": "2022-07-15T16:09:00.960Z"
   },
   {
    "duration": 25,
    "start_time": "2022-07-15T16:09:01.007Z"
   },
   {
    "duration": 75,
    "start_time": "2022-07-15T16:09:01.036Z"
   },
   {
    "duration": 190,
    "start_time": "2022-07-15T16:09:01.113Z"
   },
   {
    "duration": 200,
    "start_time": "2022-07-15T16:09:01.305Z"
   },
   {
    "duration": 134,
    "start_time": "2022-07-15T16:09:01.509Z"
   },
   {
    "duration": 30,
    "start_time": "2022-07-15T16:09:01.645Z"
   },
   {
    "duration": 13,
    "start_time": "2022-07-15T16:09:01.677Z"
   },
   {
    "duration": 1561,
    "start_time": "2022-07-15T16:09:01.691Z"
   },
   {
    "duration": 11,
    "start_time": "2022-07-15T16:09:09.597Z"
   },
   {
    "duration": 13,
    "start_time": "2022-07-15T16:09:17.496Z"
   }
  ],
  "kernelspec": {
   "display_name": "Python 3 (ipykernel)",
   "language": "python",
   "name": "python3"
  },
  "language_info": {
   "codemirror_mode": {
    "name": "ipython",
    "version": 3
   },
   "file_extension": ".py",
   "mimetype": "text/x-python",
   "name": "python",
   "nbconvert_exporter": "python",
   "pygments_lexer": "ipython3",
   "version": "3.9.12"
  },
  "toc": {
   "base_numbering": 1,
   "nav_menu": {},
   "number_sections": true,
   "sideBar": true,
   "skip_h1_title": true,
   "title_cell": "Содержание",
   "title_sidebar": "Содержание",
   "toc_cell": true,
   "toc_position": {
    "height": "calc(100% - 180px)",
    "left": "10px",
    "top": "150px",
    "width": "300px"
   },
   "toc_section_display": true,
   "toc_window_display": true
  }
 },
 "nbformat": 4,
 "nbformat_minor": 2
}
