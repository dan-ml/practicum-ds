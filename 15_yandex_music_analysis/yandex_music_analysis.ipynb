{
 "cells": [
  {
   "cell_type": "markdown",
   "metadata": {
    "toc": true
   },
   "source": [
    "<h1>Содержание<span class=\"tocSkip\"></span></h1>\n",
    "<div class=\"toc\"><ul class=\"toc-item\"><li><span><a href=\"#Загрузка-и-обзор-данных\" data-toc-modified-id=\"Загрузка-и-обзор-данных-1\"><span class=\"toc-item-num\">1&nbsp;&nbsp;</span>Загрузка и обзор данных</a></span></li><li><span><a href=\"#Предобработка-данных\" data-toc-modified-id=\"Предобработка-данных-2\"><span class=\"toc-item-num\">2&nbsp;&nbsp;</span>Предобработка данных</a></span><ul class=\"toc-item\"><li><span><a href=\"#Названия-столбцов\" data-toc-modified-id=\"Названия-столбцов-2.1\"><span class=\"toc-item-num\">2.1&nbsp;&nbsp;</span>Названия столбцов</a></span></li><li><span><a href=\"#Пропуски-значений\" data-toc-modified-id=\"Пропуски-значений-2.2\"><span class=\"toc-item-num\">2.2&nbsp;&nbsp;</span>Пропуски значений</a></span></li><li><span><a href=\"#Дубликаты\" data-toc-modified-id=\"Дубликаты-2.3\"><span class=\"toc-item-num\">2.3&nbsp;&nbsp;</span>Дубликаты</a></span></li></ul></li><li><span><a href=\"#Проверка-гипотез\" data-toc-modified-id=\"Проверка-гипотез-3\"><span class=\"toc-item-num\">3&nbsp;&nbsp;</span>Проверка гипотез</a></span><ul class=\"toc-item\"><li><span><a href=\"#Сравнение-поведения-пользователей-двух-столиц\" data-toc-modified-id=\"Сравнение-поведения-пользователей-двух-столиц-3.1\"><span class=\"toc-item-num\">3.1&nbsp;&nbsp;</span>Сравнение поведения пользователей двух столиц</a></span></li><li><span><a href=\"#Музыка-в-начале-и-в-конце-недели\" data-toc-modified-id=\"Музыка-в-начале-и-в-конце-недели-3.2\"><span class=\"toc-item-num\">3.2&nbsp;&nbsp;</span>Музыка в начале и в конце недели</a></span></li><li><span><a href=\"#Жанровые-предпочтения-в-Москве-и-Петербурге\" data-toc-modified-id=\"Жанровые-предпочтения-в-Москве-и-Петербурге-3.3\"><span class=\"toc-item-num\">3.3&nbsp;&nbsp;</span>Жанровые предпочтения в Москве и Петербурге</a></span></li></ul></li><li><span><a href=\"#Общий-вывод\" data-toc-modified-id=\"Общий-вывод-4\"><span class=\"toc-item-num\">4&nbsp;&nbsp;</span>Общий вывод</a></span></li></ul></div>"
   ]
  },
  {
   "cell_type": "markdown",
   "metadata": {
    "id": "E0vqbgi9ay0H"
   },
   "source": [
    "# Исследование пользователей сервиса Яндекс.Музыка"
   ]
  },
  {
   "cell_type": "markdown",
   "metadata": {
    "id": "VUC88oWjTJw2"
   },
   "source": [
    "В проекте требуется исследовать поведение пользователей сервиса Яндекс.Музыка применительно к двум городам: Москва и Санкт-Петербург. Цель исследования — проверить три гипотезы:\n",
    "1. Активность пользователей зависит от дня недели. Причём в Москве и Санкт-Петербурге это проявляется по-разному.\n",
    "2. В понедельник утром в Москве преобладают одни жанры, а в Санкт-Петербурге — другие. Так же и вечером пятницы преобладают разные жанры — в зависимости от города. \n",
    "3. Москва и Санкт-Петербург предпочитают разные жанры музыки. В Москве чаще слушают поп-музыку, в Санкт-Петербурге — русский рэп.\n",
    "\n",
    "Проект должен включать следующие шаги: изучение данных из источника, предобработка данных, проверка гипотез."
   ]
  },
  {
   "cell_type": "markdown",
   "metadata": {
    "id": "Ml1hmfXC_Zcs"
   },
   "source": [
    "## Загрузка и обзор данных"
   ]
  },
  {
   "cell_type": "code",
   "execution_count": 1,
   "metadata": {
    "id": "AXN7PHPN_Zcs"
   },
   "outputs": [],
   "source": [
    "import pandas as pd"
   ]
  },
  {
   "cell_type": "markdown",
   "metadata": {},
   "source": [
    "Загрузим данные из файла и ознакомимся с таблицей."
   ]
  },
  {
   "cell_type": "code",
   "execution_count": 2,
   "metadata": {
    "id": "fFVu7vqh_Zct"
   },
   "outputs": [],
   "source": [
    "try:\n",
    "    df = pd.read_csv('yandex_music_project.csv')\n",
    "except:\n",
    "    df = pd.read_csv('/datasets/yandex_music_project.csv')"
   ]
  },
  {
   "cell_type": "code",
   "execution_count": 3,
   "metadata": {
    "id": "oWTVX3gW_Zct",
    "scrolled": false
   },
   "outputs": [
    {
     "data": {
      "text/html": [
       "<div>\n",
       "<style scoped>\n",
       "    .dataframe tbody tr th:only-of-type {\n",
       "        vertical-align: middle;\n",
       "    }\n",
       "\n",
       "    .dataframe tbody tr th {\n",
       "        vertical-align: top;\n",
       "    }\n",
       "\n",
       "    .dataframe thead th {\n",
       "        text-align: right;\n",
       "    }\n",
       "</style>\n",
       "<table border=\"1\" class=\"dataframe\">\n",
       "  <thead>\n",
       "    <tr style=\"text-align: right;\">\n",
       "      <th></th>\n",
       "      <th>userID</th>\n",
       "      <th>Track</th>\n",
       "      <th>artist</th>\n",
       "      <th>genre</th>\n",
       "      <th>City</th>\n",
       "      <th>time</th>\n",
       "      <th>Day</th>\n",
       "    </tr>\n",
       "  </thead>\n",
       "  <tbody>\n",
       "    <tr>\n",
       "      <th>0</th>\n",
       "      <td>FFB692EC</td>\n",
       "      <td>Kamigata To Boots</td>\n",
       "      <td>The Mass Missile</td>\n",
       "      <td>rock</td>\n",
       "      <td>Saint-Petersburg</td>\n",
       "      <td>20:28:33</td>\n",
       "      <td>Wednesday</td>\n",
       "    </tr>\n",
       "    <tr>\n",
       "      <th>1</th>\n",
       "      <td>55204538</td>\n",
       "      <td>Delayed Because of Accident</td>\n",
       "      <td>Andreas Rönnberg</td>\n",
       "      <td>rock</td>\n",
       "      <td>Moscow</td>\n",
       "      <td>14:07:09</td>\n",
       "      <td>Friday</td>\n",
       "    </tr>\n",
       "    <tr>\n",
       "      <th>2</th>\n",
       "      <td>20EC38</td>\n",
       "      <td>Funiculì funiculà</td>\n",
       "      <td>Mario Lanza</td>\n",
       "      <td>pop</td>\n",
       "      <td>Saint-Petersburg</td>\n",
       "      <td>20:58:07</td>\n",
       "      <td>Wednesday</td>\n",
       "    </tr>\n",
       "    <tr>\n",
       "      <th>3</th>\n",
       "      <td>A3DD03C9</td>\n",
       "      <td>Dragons in the Sunset</td>\n",
       "      <td>Fire + Ice</td>\n",
       "      <td>folk</td>\n",
       "      <td>Saint-Petersburg</td>\n",
       "      <td>08:37:09</td>\n",
       "      <td>Monday</td>\n",
       "    </tr>\n",
       "    <tr>\n",
       "      <th>4</th>\n",
       "      <td>E2DC1FAE</td>\n",
       "      <td>Soul People</td>\n",
       "      <td>Space Echo</td>\n",
       "      <td>dance</td>\n",
       "      <td>Moscow</td>\n",
       "      <td>08:34:34</td>\n",
       "      <td>Monday</td>\n",
       "    </tr>\n",
       "    <tr>\n",
       "      <th>5</th>\n",
       "      <td>842029A1</td>\n",
       "      <td>Преданная</td>\n",
       "      <td>IMPERVTOR</td>\n",
       "      <td>rusrap</td>\n",
       "      <td>Saint-Petersburg</td>\n",
       "      <td>13:09:41</td>\n",
       "      <td>Friday</td>\n",
       "    </tr>\n",
       "    <tr>\n",
       "      <th>6</th>\n",
       "      <td>4CB90AA5</td>\n",
       "      <td>True</td>\n",
       "      <td>Roman Messer</td>\n",
       "      <td>dance</td>\n",
       "      <td>Moscow</td>\n",
       "      <td>13:00:07</td>\n",
       "      <td>Wednesday</td>\n",
       "    </tr>\n",
       "    <tr>\n",
       "      <th>7</th>\n",
       "      <td>F03E1C1F</td>\n",
       "      <td>Feeling This Way</td>\n",
       "      <td>Polina Griffith</td>\n",
       "      <td>dance</td>\n",
       "      <td>Moscow</td>\n",
       "      <td>20:47:49</td>\n",
       "      <td>Wednesday</td>\n",
       "    </tr>\n",
       "    <tr>\n",
       "      <th>8</th>\n",
       "      <td>8FA1D3BE</td>\n",
       "      <td>И вновь продолжается бой</td>\n",
       "      <td>NaN</td>\n",
       "      <td>ruspop</td>\n",
       "      <td>Moscow</td>\n",
       "      <td>09:17:40</td>\n",
       "      <td>Friday</td>\n",
       "    </tr>\n",
       "    <tr>\n",
       "      <th>9</th>\n",
       "      <td>E772D5C0</td>\n",
       "      <td>Pessimist</td>\n",
       "      <td>NaN</td>\n",
       "      <td>dance</td>\n",
       "      <td>Saint-Petersburg</td>\n",
       "      <td>21:20:49</td>\n",
       "      <td>Wednesday</td>\n",
       "    </tr>\n",
       "  </tbody>\n",
       "</table>\n",
       "</div>"
      ],
      "text/plain": [
       "     userID                        Track            artist   genre  \\\n",
       "0  FFB692EC            Kamigata To Boots  The Mass Missile    rock   \n",
       "1  55204538  Delayed Because of Accident  Andreas Rönnberg    rock   \n",
       "2    20EC38            Funiculì funiculà       Mario Lanza     pop   \n",
       "3  A3DD03C9        Dragons in the Sunset        Fire + Ice    folk   \n",
       "4  E2DC1FAE                  Soul People        Space Echo   dance   \n",
       "5  842029A1                    Преданная         IMPERVTOR  rusrap   \n",
       "6  4CB90AA5                         True      Roman Messer   dance   \n",
       "7  F03E1C1F             Feeling This Way   Polina Griffith   dance   \n",
       "8  8FA1D3BE     И вновь продолжается бой               NaN  ruspop   \n",
       "9  E772D5C0                    Pessimist               NaN   dance   \n",
       "\n",
       "             City        time        Day  \n",
       "0  Saint-Petersburg  20:28:33  Wednesday  \n",
       "1            Moscow  14:07:09     Friday  \n",
       "2  Saint-Petersburg  20:58:07  Wednesday  \n",
       "3  Saint-Petersburg  08:37:09     Monday  \n",
       "4            Moscow  08:34:34     Monday  \n",
       "5  Saint-Petersburg  13:09:41     Friday  \n",
       "6            Moscow  13:00:07  Wednesday  \n",
       "7            Moscow  20:47:49  Wednesday  \n",
       "8            Moscow  09:17:40     Friday  \n",
       "9  Saint-Petersburg  21:20:49  Wednesday  "
      ]
     },
     "execution_count": 3,
     "metadata": {},
     "output_type": "execute_result"
    }
   ],
   "source": [
    "df.head(10)"
   ]
  },
  {
   "cell_type": "code",
   "execution_count": 4,
   "metadata": {
    "id": "DSf2kIb-_Zct"
   },
   "outputs": [
    {
     "name": "stdout",
     "output_type": "stream",
     "text": [
      "<class 'pandas.core.frame.DataFrame'>\n",
      "RangeIndex: 65079 entries, 0 to 65078\n",
      "Data columns (total 7 columns):\n",
      " #   Column    Non-Null Count  Dtype \n",
      "---  ------    --------------  ----- \n",
      " 0     userID  65079 non-null  object\n",
      " 1   Track     63848 non-null  object\n",
      " 2   artist    57876 non-null  object\n",
      " 3   genre     63881 non-null  object\n",
      " 4     City    65079 non-null  object\n",
      " 5   time      65079 non-null  object\n",
      " 6   Day       65079 non-null  object\n",
      "dtypes: object(7)\n",
      "memory usage: 3.5+ MB\n"
     ]
    }
   ],
   "source": [
    "df.info()"
   ]
  },
  {
   "cell_type": "markdown",
   "metadata": {
    "id": "TaQ2Iwbr_Zct"
   },
   "source": [
    "В таблице семь столбцов. Тип данных во всех столбцах — `object`.\n",
    "\n",
    "В названиях колонок видны три нарушения стиля:\n",
    "1. Строчные буквы сочетаются с прописными.\n",
    "2. Встречаются пробелы.\n",
    "3. Столбец `userID` написан в \"верблюжьем\" регистре.\n",
    "\n",
    "Количество значений в столбцах различается. Значит, в данных есть пропущенные значения."
   ]
  },
  {
   "cell_type": "markdown",
   "metadata": {
    "id": "MCB6-dXG_Zct"
   },
   "source": [
    "**Вывод:** в каждой строке таблицы — данные о прослушанном треке. Часть колонок описывает саму композицию: название, исполнителя и жанр. Остальные данные рассказывают о пользователе: из какого он города, когда он слушал музыку. \n",
    "\n",
    "Предварительно можно утверждать, что, данных достаточно для проверки гипотез. Но встречаются пропуски в данных, а в названиях колонок — расхождения с хорошим стилем."
   ]
  },
  {
   "cell_type": "markdown",
   "metadata": {
    "id": "SjYF6Ub9_Zct"
   },
   "source": [
    "## Предобработка данных"
   ]
  },
  {
   "cell_type": "markdown",
   "metadata": {
    "id": "dIaKXr29_Zct"
   },
   "source": [
    "### Названия столбцов"
   ]
  },
  {
   "cell_type": "code",
   "execution_count": 5,
   "metadata": {
    "id": "oKOTdF_Q_Zct"
   },
   "outputs": [
    {
     "data": {
      "text/plain": [
       "Index(['  userID', 'Track', 'artist', 'genre', '  City  ', 'time', 'Day'], dtype='object')"
      ]
     },
     "execution_count": 5,
     "metadata": {},
     "output_type": "execute_result"
    }
   ],
   "source": [
    "df.columns"
   ]
  },
  {
   "cell_type": "markdown",
   "metadata": {},
   "source": [
    "Исправим названия колонок в соответствии с хорошим стилем."
   ]
  },
  {
   "cell_type": "code",
   "execution_count": 6,
   "metadata": {
    "id": "ISlFqs5y_Zct"
   },
   "outputs": [],
   "source": [
    "df = df.rename(\n",
    "    columns={\n",
    "        '  userID': 'user_id',\n",
    "        'Track': 'track',\n",
    "        '  City  ': 'city',\n",
    "        'Day': 'day'\n",
    "    }\n",
    ")"
   ]
  },
  {
   "cell_type": "code",
   "execution_count": 7,
   "metadata": {
    "id": "d4NOAmTW_Zct"
   },
   "outputs": [
    {
     "data": {
      "text/plain": [
       "Index(['user_id', 'track', 'artist', 'genre', 'city', 'time', 'day'], dtype='object')"
      ]
     },
     "execution_count": 7,
     "metadata": {},
     "output_type": "execute_result"
    }
   ],
   "source": [
    "df.columns"
   ]
  },
  {
   "cell_type": "markdown",
   "metadata": {
    "id": "5ISfbcfY_Zct"
   },
   "source": [
    "### Пропуски значений"
   ]
  },
  {
   "cell_type": "markdown",
   "metadata": {},
   "source": [
    "Проверим, сколько пропусков имеется в столбцах."
   ]
  },
  {
   "cell_type": "code",
   "execution_count": 8,
   "metadata": {
    "id": "RskX29qr_Zct"
   },
   "outputs": [
    {
     "data": {
      "text/plain": [
       "user_id       0\n",
       "track      1231\n",
       "artist     7203\n",
       "genre      1198\n",
       "city          0\n",
       "time          0\n",
       "day           0\n",
       "dtype: int64"
      ]
     },
     "execution_count": 8,
     "metadata": {},
     "output_type": "execute_result"
    }
   ],
   "source": [
    "df.isna().sum()"
   ]
  },
  {
   "cell_type": "markdown",
   "metadata": {
    "id": "qubhgnlO_Zct"
   },
   "source": [
    "Пропуски в столбцах `track` и `artist` не важны в текущем проекте и их можно заменить явными обозначениями. Но пропуски в `genre` могут помешать сравнению музыкальных вкусов в Москве и Санкт-Петербурге. На практике было бы правильно установить причину пропусков и восстановить данные. Но такой возможности в учебном проекте нет, поэтому придётся заполнить эти пропуски явными обозначениями. В качестве явного обозначения используем слово *unknown*."
   ]
  },
  {
   "cell_type": "code",
   "execution_count": 9,
   "metadata": {
    "id": "KplB5qWs_Zct"
   },
   "outputs": [],
   "source": [
    "columns_to_replace = ['track', 'artist', 'genre']\n",
    "for column in columns_to_replace:\n",
    "    df[column] = df[column].fillna('unknown')"
   ]
  },
  {
   "cell_type": "code",
   "execution_count": 10,
   "metadata": {
    "id": "Tq4nYRX4_Zct"
   },
   "outputs": [
    {
     "data": {
      "text/plain": [
       "user_id    0\n",
       "track      0\n",
       "artist     0\n",
       "genre      0\n",
       "city       0\n",
       "time       0\n",
       "day        0\n",
       "dtype: int64"
      ]
     },
     "execution_count": 10,
     "metadata": {},
     "output_type": "execute_result"
    }
   ],
   "source": [
    "df.isna().sum()"
   ]
  },
  {
   "cell_type": "markdown",
   "metadata": {
    "id": "BWKRtBJ3_Zct"
   },
   "source": [
    "### Дубликаты"
   ]
  },
  {
   "cell_type": "markdown",
   "metadata": {},
   "source": [
    "Посчитаем количество строк-дубликатов в таблице."
   ]
  },
  {
   "cell_type": "code",
   "execution_count": 11,
   "metadata": {
    "id": "36eES_S0_Zct"
   },
   "outputs": [
    {
     "data": {
      "text/plain": [
       "3826"
      ]
     },
     "execution_count": 11,
     "metadata": {},
     "output_type": "execute_result"
    }
   ],
   "source": [
    "df.duplicated().sum()"
   ]
  },
  {
   "cell_type": "markdown",
   "metadata": {
    "id": "Ot25h6XR_Zct"
   },
   "source": [
    "Удалим дубликаты и сбросим индексы в таблице."
   ]
  },
  {
   "cell_type": "code",
   "execution_count": 12,
   "metadata": {
    "id": "exFHq6tt_Zct"
   },
   "outputs": [],
   "source": [
    "df = df.drop_duplicates().reset_index(drop=True)"
   ]
  },
  {
   "cell_type": "code",
   "execution_count": 13,
   "metadata": {
    "id": "-8PuNWQ0_Zct"
   },
   "outputs": [
    {
     "data": {
      "text/plain": [
       "0"
      ]
     },
     "execution_count": 13,
     "metadata": {},
     "output_type": "execute_result"
    }
   ],
   "source": [
    "df.duplicated().sum()"
   ]
  },
  {
   "cell_type": "markdown",
   "metadata": {
    "id": "QlFBsxAr_Zct"
   },
   "source": [
    "В столбце `genre` могут быть неявные дубликаты, когда название одного и того же жанра записано по-разному.\n",
    "\n",
    "Выведем на экран список уникальных жанров в столбце."
   ]
  },
  {
   "cell_type": "code",
   "execution_count": 14,
   "metadata": {
    "id": "JIUcqzZN_Zct"
   },
   "outputs": [
    {
     "data": {
      "text/plain": [
       "array(['acid', 'acoustic', 'action', 'adult', 'africa', 'afrikaans',\n",
       "       'alternative', 'alternativepunk', 'ambient', 'americana',\n",
       "       'animated', 'anime', 'arabesk', 'arabic', 'arena',\n",
       "       'argentinetango', 'art', 'audiobook', 'author', 'avantgarde',\n",
       "       'axé', 'baile', 'balkan', 'beats', 'bigroom', 'black', 'bluegrass',\n",
       "       'blues', 'bollywood', 'bossa', 'brazilian', 'breakbeat', 'breaks',\n",
       "       'broadway', 'cantautori', 'cantopop', 'canzone', 'caribbean',\n",
       "       'caucasian', 'celtic', 'chamber', 'chanson', 'children', 'chill',\n",
       "       'chinese', 'choral', 'christian', 'christmas', 'classical',\n",
       "       'classicmetal', 'club', 'colombian', 'comedy', 'conjazz',\n",
       "       'contemporary', 'country', 'cuban', 'dance', 'dancehall',\n",
       "       'dancepop', 'dark', 'death', 'deep', 'deutschrock', 'deutschspr',\n",
       "       'dirty', 'disco', 'dnb', 'documentary', 'downbeat', 'downtempo',\n",
       "       'drum', 'dub', 'dubstep', 'eastern', 'easy', 'electronic',\n",
       "       'electropop', 'emo', 'entehno', 'epicmetal', 'estrada', 'ethnic',\n",
       "       'eurofolk', 'european', 'experimental', 'extrememetal', 'fado',\n",
       "       'fairytail', 'film', 'fitness', 'flamenco', 'folk', 'folklore',\n",
       "       'folkmetal', 'folkrock', 'folktronica', 'forró', 'frankreich',\n",
       "       'französisch', 'french', 'funk', 'future', 'gangsta', 'garage',\n",
       "       'german', 'ghazal', 'gitarre', 'glitch', 'gospel', 'gothic',\n",
       "       'grime', 'grunge', 'gypsy', 'handsup', \"hard'n'heavy\", 'hardcore',\n",
       "       'hardstyle', 'hardtechno', 'hip', 'hip-hop', 'hiphop',\n",
       "       'historisch', 'holiday', 'hop', 'horror', 'house', 'hymn', 'idm',\n",
       "       'independent', 'indian', 'indie', 'indipop', 'industrial',\n",
       "       'inspirational', 'instrumental', 'international', 'irish', 'jam',\n",
       "       'japanese', 'jazz', 'jewish', 'jpop', 'jungle', 'k-pop',\n",
       "       'karadeniz', 'karaoke', 'kayokyoku', 'korean', 'laiko', 'latin',\n",
       "       'latino', 'leftfield', 'local', 'lounge', 'loungeelectronic',\n",
       "       'lovers', 'malaysian', 'mandopop', 'marschmusik', 'meditative',\n",
       "       'mediterranean', 'melodic', 'metal', 'metalcore', 'mexican',\n",
       "       'middle', 'minimal', 'miscellaneous', 'modern', 'mood', 'mpb',\n",
       "       'muslim', 'native', 'neoklassik', 'neue', 'new', 'newage',\n",
       "       'newwave', 'nu', 'nujazz', 'numetal', 'oceania', 'old', 'opera',\n",
       "       'orchestral', 'other', 'piano', 'podcasts', 'pop', 'popdance',\n",
       "       'popelectronic', 'popeurodance', 'poprussian', 'post',\n",
       "       'posthardcore', 'postrock', 'power', 'progmetal', 'progressive',\n",
       "       'psychedelic', 'punjabi', 'punk', 'quebecois', 'ragga', 'ram',\n",
       "       'rancheras', 'rap', 'rave', 'reggae', 'reggaeton', 'regional',\n",
       "       'relax', 'religious', 'retro', 'rhythm', 'rnb', 'rnr', 'rock',\n",
       "       'rockabilly', 'rockalternative', 'rockindie', 'rockother',\n",
       "       'romance', 'roots', 'ruspop', 'rusrap', 'rusrock', 'russian',\n",
       "       'salsa', 'samba', 'scenic', 'schlager', 'self', 'sertanejo',\n",
       "       'shanson', 'shoegazing', 'showtunes', 'singer', 'ska', 'skarock',\n",
       "       'slow', 'smooth', 'soft', 'soul', 'soulful', 'sound', 'soundtrack',\n",
       "       'southern', 'specialty', 'speech', 'spiritual', 'sport',\n",
       "       'stonerrock', 'surf', 'swing', 'synthpop', 'synthrock',\n",
       "       'sängerportrait', 'tango', 'tanzorchester', 'taraftar', 'tatar',\n",
       "       'tech', 'techno', 'teen', 'thrash', 'top', 'traditional',\n",
       "       'tradjazz', 'trance', 'tribal', 'trip', 'triphop', 'tropical',\n",
       "       'türk', 'türkçe', 'ukrrock', 'unknown', 'urban', 'uzbek',\n",
       "       'variété', 'vi', 'videogame', 'vocal', 'western', 'world',\n",
       "       'worldbeat', 'ïîï', 'электроника'], dtype=object)"
      ]
     },
     "execution_count": 14,
     "metadata": {},
     "output_type": "execute_result"
    }
   ],
   "source": [
    "df['genre'].sort_values().unique()"
   ]
  },
  {
   "cell_type": "markdown",
   "metadata": {
    "id": "qej-Qmuo_Zct"
   },
   "source": [
    "Видны неявные дубликаты для жанра *hiphop*: *hip, hop, hip-hop*.\n",
    "\n",
    "Создадим функцию, которая заменит список из неверных названий жанров на одно корректное значение."
   ]
  },
  {
   "cell_type": "code",
   "execution_count": 15,
   "metadata": {
    "id": "ErNDkmns_Zct"
   },
   "outputs": [],
   "source": [
    "def replace_wrong_genres(wrong_genres, correct_genre):\n",
    "    for wrong_genre in wrong_genres:\n",
    "        df['genre'] = df['genre'].replace(wrong_genre,correct_genre)"
   ]
  },
  {
   "cell_type": "markdown",
   "metadata": {
    "id": "aDoBJxbA_Zct"
   },
   "source": [
    "Вызовем функцию и заменим значения неявных дубликатов на одно верное - *hiphop*."
   ]
  },
  {
   "cell_type": "code",
   "execution_count": 16,
   "metadata": {
    "id": "YN5i2hpmSo09"
   },
   "outputs": [],
   "source": [
    "wrong_genres = ['hip','hop','hip-hop']\n",
    "replace_wrong_genres(wrong_genres,'hiphop')"
   ]
  },
  {
   "cell_type": "markdown",
   "metadata": {},
   "source": [
    "Проверим, заменились ли в столбце неявные дубликаты."
   ]
  },
  {
   "cell_type": "code",
   "execution_count": 17,
   "metadata": {
    "id": "wvixALnFG15m"
   },
   "outputs": [
    {
     "name": "stdout",
     "output_type": "stream",
     "text": [
      "0\n",
      "0\n",
      "0\n"
     ]
    }
   ],
   "source": [
    "for genre in wrong_genres:\n",
    "    print(df['genre'].to_list().count(genre))"
   ]
  },
  {
   "cell_type": "code",
   "execution_count": 18,
   "metadata": {},
   "outputs": [
    {
     "data": {
      "text/plain": [
       "3056"
      ]
     },
     "execution_count": 18,
     "metadata": {},
     "output_type": "execute_result"
    }
   ],
   "source": [
    "df['genre'].to_list().count('hiphop')"
   ]
  },
  {
   "cell_type": "markdown",
   "metadata": {
    "id": "jz6a9-7HQUDd"
   },
   "source": [
    "**Вывод:** предобработка обнаружила три проблемы в данных:\n",
    "\n",
    "- нарушения в стиле названий столбцов;\n",
    "- пропущенные значения;\n",
    "- дубликаты — явные и неявные.\n",
    "\n",
    "Все перечисленные проблемы устранены."
   ]
  },
  {
   "cell_type": "markdown",
   "metadata": {
    "id": "WttZHXH0SqKk"
   },
   "source": [
    "## Проверка гипотез"
   ]
  },
  {
   "cell_type": "markdown",
   "metadata": {
    "id": "Im936VVi_Zcu"
   },
   "source": [
    "### Сравнение поведения пользователей двух столиц"
   ]
  },
  {
   "cell_type": "markdown",
   "metadata": {
    "id": "nwt_MuaL_Zcu"
   },
   "source": [
    "Первая гипотеза утверждает, что пользователи по-разному слушают музыку в Москве и Санкт-Петербурге. Для проверки гипотезы нужно:\n",
    "\n",
    "* разделить пользователей Москвы и Санкт-Петербурга;\n",
    "* сравнить, сколько треков послушала каждая группа пользователей в понедельник, среду и пятницу."
   ]
  },
  {
   "cell_type": "markdown",
   "metadata": {},
   "source": [
    "Сгруппируем данные по городу и просуммируем количество прослушиваний."
   ]
  },
  {
   "cell_type": "code",
   "execution_count": 19,
   "metadata": {
    "id": "0_Qs96oh_Zcu"
   },
   "outputs": [
    {
     "data": {
      "text/plain": [
       "city\n",
       "Moscow              42741\n",
       "Saint-Petersburg    18512\n",
       "Name: user_id, dtype: int64"
      ]
     },
     "execution_count": 19,
     "metadata": {},
     "output_type": "execute_result"
    }
   ],
   "source": [
    "df.groupby('city')['user_id'].count()"
   ]
  },
  {
   "cell_type": "markdown",
   "metadata": {
    "id": "dzli3w8o_Zcu"
   },
   "source": [
    "В Москве прослушиваний больше, чем в Петербурге. Из этого не следует, что московские пользователи чаще слушают музыку. Просто самих пользователей в Москве больше.\n",
    "\n",
    "Теперь сгруппируем данные по дню недели и подсчитаем прослушивания в понедельник, среду и пятницу."
   ]
  },
  {
   "cell_type": "code",
   "execution_count": 20,
   "metadata": {
    "id": "uZMKjiJz_Zcu"
   },
   "outputs": [
    {
     "data": {
      "text/plain": [
       "day\n",
       "Friday       21840\n",
       "Monday       21354\n",
       "Wednesday    18059\n",
       "Name: user_id, dtype: int64"
      ]
     },
     "execution_count": 20,
     "metadata": {},
     "output_type": "execute_result"
    }
   ],
   "source": [
    "df.groupby('day')['user_id'].count()"
   ]
  },
  {
   "cell_type": "markdown",
   "metadata": {
    "id": "cC2tNrlL_Zcu"
   },
   "source": [
    "В среднем пользователи из двух городов менее активны по средам. Но картина может измениться, если рассмотреть каждый город в отдельности.\n",
    "\n",
    "Напишем функцию, которая будет определять количество пользователей для заданного дня недели и города."
   ]
  },
  {
   "cell_type": "code",
   "execution_count": 21,
   "metadata": {
    "id": "Nz3GdQB1_Zcu"
   },
   "outputs": [],
   "source": [
    "def number_tracks(day, city):\n",
    "    track_list = df[df['day']==day]\n",
    "    track_list = track_list[track_list['city']==city]\n",
    "    track_list_count = track_list['user_id'].count()\n",
    "    return track_list_count"
   ]
  },
  {
   "cell_type": "markdown",
   "metadata": {
    "id": "ytf7xFrFJQ2r"
   },
   "source": [
    "Вызовем функцию несколько раз, чтобы получить данные для каждого города в каждый из трёх дней."
   ]
  },
  {
   "cell_type": "markdown",
   "metadata": {},
   "source": [
    "Названия переменных созданы по следующему правилу: \n",
    "\n",
    "`nxy`, где \n",
    "\n",
    "`x` - номер города (1 - Москва, 2 - Санкт-Петербург), \n",
    "\n",
    "`y` - последовательный номер дня в неделе (1 - Понедельник, 2 - Среда, 3 - Пятница)"
   ]
  },
  {
   "cell_type": "code",
   "execution_count": 22,
   "metadata": {
    "id": "rJcRATNQ_Zcu"
   },
   "outputs": [],
   "source": [
    "n11 = number_tracks('Monday', 'Moscow')\n",
    "n21 = number_tracks('Monday', 'Saint-Petersburg')\n",
    "n12 = number_tracks('Wednesday', 'Moscow')\n",
    "n22 = number_tracks('Wednesday', 'Saint-Petersburg')\n",
    "n13 = number_tracks('Friday', 'Moscow')\n",
    "n23 = number_tracks('Friday', 'Saint-Petersburg')"
   ]
  },
  {
   "cell_type": "markdown",
   "metadata": {
    "id": "7QXffbO-_Zcu"
   },
   "source": [
    "Создадим таблицу, в которой будут храниться полученные данных о количестве прослушиваний."
   ]
  },
  {
   "cell_type": "code",
   "execution_count": 23,
   "metadata": {
    "id": "APAcLpOr_Zcu"
   },
   "outputs": [
    {
     "data": {
      "text/html": [
       "<div>\n",
       "<style scoped>\n",
       "    .dataframe tbody tr th:only-of-type {\n",
       "        vertical-align: middle;\n",
       "    }\n",
       "\n",
       "    .dataframe tbody tr th {\n",
       "        vertical-align: top;\n",
       "    }\n",
       "\n",
       "    .dataframe thead th {\n",
       "        text-align: right;\n",
       "    }\n",
       "</style>\n",
       "<table border=\"1\" class=\"dataframe\">\n",
       "  <thead>\n",
       "    <tr style=\"text-align: right;\">\n",
       "      <th></th>\n",
       "      <th>city</th>\n",
       "      <th>monday</th>\n",
       "      <th>wednesday</th>\n",
       "      <th>friday</th>\n",
       "    </tr>\n",
       "  </thead>\n",
       "  <tbody>\n",
       "    <tr>\n",
       "      <th>0</th>\n",
       "      <td>Moscow</td>\n",
       "      <td>15740</td>\n",
       "      <td>11056</td>\n",
       "      <td>15945</td>\n",
       "    </tr>\n",
       "    <tr>\n",
       "      <th>1</th>\n",
       "      <td>Saint-Petersburg</td>\n",
       "      <td>5614</td>\n",
       "      <td>7003</td>\n",
       "      <td>5895</td>\n",
       "    </tr>\n",
       "  </tbody>\n",
       "</table>\n",
       "</div>"
      ],
      "text/plain": [
       "               city  monday  wednesday  friday\n",
       "0            Moscow   15740      11056   15945\n",
       "1  Saint-Petersburg    5614       7003    5895"
      ]
     },
     "metadata": {},
     "output_type": "display_data"
    }
   ],
   "source": [
    "columns = ['city', 'monday', 'wednesday', 'friday']\n",
    "data = [\n",
    "    ['Moscow', n11, n12, n13],\n",
    "    ['Saint-Petersburg', n21, n22, n23]\n",
    "]\n",
    "df_hypothesis1 = pd.DataFrame(data=data, columns=columns)\n",
    "display(df_hypothesis1)"
   ]
  },
  {
   "cell_type": "markdown",
   "metadata": {
    "id": "-EgPIHYu_Zcu"
   },
   "source": [
    "**Вывод:** данные показывают разницу поведения пользователей:\n",
    "\n",
    "- в Москве пик прослушиваний приходится на понедельник и пятницу, а в среду заметен спад;\n",
    "- В Петербурге, наоборот, больше слушают музыку по средам. Активность в понедельник и пятницу здесь почти в равной мере уступает среде.\n",
    "\n",
    "Значит, данные говорят в пользу первой гипотезы."
   ]
  },
  {
   "cell_type": "markdown",
   "metadata": {
    "id": "atZAxtq4_Zcu"
   },
   "source": [
    "### Музыка в начале и в конце недели"
   ]
  },
  {
   "cell_type": "markdown",
   "metadata": {
    "id": "eXrQqXFH_Zcu"
   },
   "source": [
    "Согласно второй гипотезе, утром в понедельник в Москве преобладают одни жанры, а в Петербурге — другие. Так же и вечером пятницы преобладают разные жанры — в зависимости от города."
   ]
  },
  {
   "cell_type": "markdown",
   "metadata": {
    "id": "S8UcW6Hw_Zcu"
   },
   "source": [
    "Сохраните таблицы с данными в две переменные: по Москве — в `moscow_general`, а по Санкт-Петербургу — в `spb_general`."
   ]
  },
  {
   "cell_type": "code",
   "execution_count": 24,
   "metadata": {
    "id": "qeaFfM_P_Zcu"
   },
   "outputs": [],
   "source": [
    "moscow_general = df[df['city']=='Moscow']\n",
    "spb_general = df[df['city']=='Saint-Petersburg']"
   ]
  },
  {
   "cell_type": "markdown",
   "metadata": {
    "id": "MEJV-CX2_Zcu"
   },
   "source": [
    "Напишем функцию, которая должна вернуть информацию о топ-10 жанров тех треков, которые прослушивали в указанный день, в промежутке между двумя отметками времени."
   ]
  },
  {
   "cell_type": "code",
   "execution_count": 25,
   "metadata": {
    "id": "laJT9BYl_Zcu"
   },
   "outputs": [],
   "source": [
    "def genre_weekday(table, day, time1, time2):\n",
    "    genre_df = table[table['day']==day]\n",
    "    genre_df = genre_df[genre_df['time']>time1]\n",
    "    genre_df = genre_df[genre_df['time']<time2]\n",
    "    genre_df_count = genre_df.groupby('genre')['user_id'].count()\n",
    "    genre_df_sorted = genre_df_count.sort_values(ascending=False)\n",
    "    return genre_df_sorted.head(10)"
   ]
  },
  {
   "cell_type": "markdown",
   "metadata": {
    "id": "la2s2_PF_Zcu"
   },
   "source": [
    "Cравним результаты работы функции для Москвы и Санкт-Петербурга в понедельник утром (с 7:00 до 11:00) и в пятницу вечером (с 17:00 до 23:00)."
   ]
  },
  {
   "cell_type": "code",
   "execution_count": 26,
   "metadata": {
    "id": "yz7itPUQ_Zcu"
   },
   "outputs": [
    {
     "data": {
      "text/plain": [
       "genre\n",
       "pop            781\n",
       "dance          549\n",
       "electronic     480\n",
       "rock           474\n",
       "hiphop         286\n",
       "ruspop         186\n",
       "world          181\n",
       "rusrap         175\n",
       "alternative    164\n",
       "unknown        161\n",
       "Name: user_id, dtype: int64"
      ]
     },
     "execution_count": 26,
     "metadata": {},
     "output_type": "execute_result"
    }
   ],
   "source": [
    "genre_weekday(moscow_general, 'Monday', '07:00','11:00')"
   ]
  },
  {
   "cell_type": "code",
   "execution_count": 27,
   "metadata": {
    "id": "kwUcHPdy_Zcu"
   },
   "outputs": [
    {
     "data": {
      "text/plain": [
       "genre\n",
       "pop            218\n",
       "dance          182\n",
       "rock           162\n",
       "electronic     147\n",
       "hiphop          80\n",
       "ruspop          64\n",
       "alternative     58\n",
       "rusrap          55\n",
       "jazz            44\n",
       "classical       40\n",
       "Name: user_id, dtype: int64"
      ]
     },
     "execution_count": 27,
     "metadata": {},
     "output_type": "execute_result"
    }
   ],
   "source": [
    "genre_weekday(spb_general, 'Monday', '07:00','11:00')"
   ]
  },
  {
   "cell_type": "code",
   "execution_count": 28,
   "metadata": {
    "id": "EzXVRE1o_Zcu"
   },
   "outputs": [
    {
     "data": {
      "text/plain": [
       "genre\n",
       "pop            713\n",
       "rock           517\n",
       "dance          495\n",
       "electronic     482\n",
       "hiphop         273\n",
       "world          208\n",
       "ruspop         170\n",
       "alternative    163\n",
       "classical      163\n",
       "rusrap         142\n",
       "Name: user_id, dtype: int64"
      ]
     },
     "execution_count": 28,
     "metadata": {},
     "output_type": "execute_result"
    }
   ],
   "source": [
    "genre_weekday(moscow_general, 'Friday', '17:00','23:00')"
   ]
  },
  {
   "cell_type": "code",
   "execution_count": 29,
   "metadata": {
    "id": "JZaEKu5v_Zcu"
   },
   "outputs": [
    {
     "data": {
      "text/plain": [
       "genre\n",
       "pop            256\n",
       "electronic     216\n",
       "rock           216\n",
       "dance          210\n",
       "hiphop          97\n",
       "alternative     63\n",
       "jazz            61\n",
       "classical       60\n",
       "rusrap          59\n",
       "world           54\n",
       "Name: user_id, dtype: int64"
      ]
     },
     "execution_count": 29,
     "metadata": {},
     "output_type": "execute_result"
    }
   ],
   "source": [
    "genre_weekday(spb_general, 'Friday', '17:00','23:00')"
   ]
  },
  {
   "cell_type": "markdown",
   "metadata": {
    "id": "wrCe4MNX_Zcu"
   },
   "source": [
    "**Вывод:** если сравнить топ-10 жанров в понедельник утром, можно сделать такие выводы:\n",
    "\n",
    "1. В Москве и Петербурге слушают похожую музыку. Единственное отличие — в московский рейтинг вошёл жанр “world”, а в петербургский — джаз и классика.\n",
    "\n",
    "2. В Москве пропущенных значений оказалось так много, что значение `'unknown'` заняло десятое место среди самых популярных жанров. Значит, пропущенные значения занимают существенную долю в данных и угрожают достоверности исследования.\n",
    "\n",
    "Вечер пятницы не меняет эту картину. Некоторые жанры поднимаются немного выше, другие спускаются, но в целом топ-10 остаётся тем же самым.\n",
    "\n",
    "Таким образом, вторая гипотеза подтвердилась лишь частично:\n",
    "* пользователи слушают похожую музыку в начале недели и в конце;\n",
    "* разница между Москвой и Петербургом не слишком выражена. В Москве чаще слушают русскую популярную музыку, в Петербурге — джаз.\n",
    "\n",
    "Однако пропуски в данных ставят под сомнение этот результат. В Москве их так много, что рейтинг топ-10 мог бы выглядеть иначе, если бы не утерянные  данные о жанрах."
   ]
  },
  {
   "cell_type": "markdown",
   "metadata": {
    "id": "JolODAqr_Zcu"
   },
   "source": [
    "### Жанровые предпочтения в Москве и Петербурге\n",
    "\n",
    "Третья гипотеза: Санкт-Петербург — столица рэпа, музыку этого жанра там слушают чаще, чем в Москве.  А Москва — город контрастов, в котором, тем не менее, преобладает поп-музыка."
   ]
  },
  {
   "cell_type": "markdown",
   "metadata": {
    "id": "DlegSvaT_Zcu"
   },
   "source": [
    "Сгруппируем таблицу `moscow_general` по жанру и посчитаем прослушивания треков каждого жанра, затем отсортируем результат в порядке убывания."
   ]
  },
  {
   "cell_type": "code",
   "execution_count": 30,
   "metadata": {
    "id": "r19lIPke_Zcu"
   },
   "outputs": [],
   "source": [
    "moscow_genres = moscow_general.groupby('genre')['genre'].count().sort_values(ascending=False)"
   ]
  },
  {
   "cell_type": "code",
   "execution_count": 31,
   "metadata": {
    "id": "WhCSooF8_Zcv"
   },
   "outputs": [
    {
     "data": {
      "text/plain": [
       "genre\n",
       "pop            5892\n",
       "dance          4435\n",
       "rock           3965\n",
       "electronic     3786\n",
       "hiphop         2096\n",
       "classical      1616\n",
       "world          1432\n",
       "alternative    1379\n",
       "ruspop         1372\n",
       "rusrap         1161\n",
       "Name: genre, dtype: int64"
      ]
     },
     "execution_count": 31,
     "metadata": {},
     "output_type": "execute_result"
    }
   ],
   "source": [
    "moscow_genres.head(10)"
   ]
  },
  {
   "cell_type": "markdown",
   "metadata": {
    "id": "cnPG2vnN_Zcv"
   },
   "source": [
    "Теперь проведём аналогичные действия для Петербурга."
   ]
  },
  {
   "cell_type": "code",
   "execution_count": 32,
   "metadata": {
    "id": "gluLIpE7_Zcv"
   },
   "outputs": [],
   "source": [
    "spb_genres = spb_general.groupby('genre')['genre'].count().sort_values(ascending=False)"
   ]
  },
  {
   "cell_type": "code",
   "execution_count": 33,
   "metadata": {
    "id": "uaGJHjVU_Zcv"
   },
   "outputs": [
    {
     "data": {
      "text/plain": [
       "genre\n",
       "pop            2431\n",
       "dance          1932\n",
       "rock           1879\n",
       "electronic     1736\n",
       "hiphop          960\n",
       "alternative     649\n",
       "classical       646\n",
       "rusrap          564\n",
       "ruspop          538\n",
       "world           515\n",
       "Name: genre, dtype: int64"
      ]
     },
     "execution_count": 33,
     "metadata": {},
     "output_type": "execute_result"
    }
   ],
   "source": [
    "spb_genres.head(10)"
   ]
  },
  {
   "cell_type": "markdown",
   "metadata": {
    "id": "nVhnJEm__Zcv"
   },
   "source": [
    "**Вывод:** третья гипотеза частично подтвердилась:\n",
    "* поп-музыка — самый популярный жанр в Москве, как и предполагала гипотеза. Более того, в топ-10 жанров встречается близкий жанр — русская популярная музыка;\n",
    "* вопреки ожиданиям, рэп одинаково популярен в Москве и Петербурге. "
   ]
  },
  {
   "cell_type": "markdown",
   "metadata": {
    "id": "ykKQ0N65_Zcv"
   },
   "source": [
    "## Общий вывод"
   ]
  },
  {
   "cell_type": "markdown",
   "metadata": {
    "id": "tjUwbHb3_Zcv"
   },
   "source": [
    "В проекте была проведена предобработка данных, а затем проверены три гипотезы, в результате чего сделаны выводы:\n",
    "\n",
    "1. День недели по-разному влияет на активность пользователей в Москве и Петербурге. Первая гипотеза полностью подтвердилась.\n",
    "\n",
    "\n",
    "2. Музыкальные предпочтения не сильно меняются в течение недели — будь то Москва или Санкт-Петербург. Небольшие различия заметны в начале недели, по понедельникам:\n",
    "    - в Москве слушают музыку жанра “world”;\n",
    "    - в Санкт-Петербурге — джаз и классику.\n",
    "\n",
    "  Таким образом, вторая гипотеза подтвердилась лишь частично. Этот результат мог оказаться иным, если бы не пропуски в данных.\n",
    "  \n",
    "\n",
    "3. Во вкусах пользователей Москвы и Санкт-Петербурга больше общего, чем различий. Вопреки ожиданиям, предпочтения жанров в Санкт-Петербурге напоминают московские. Третья гипотеза не подтвердилась. Если различия в предпочтениях и существуют, на основной массе пользователей они незаметны."
   ]
  }
 ],
 "metadata": {
  "ExecuteTimeLog": [
   {
    "duration": 4,
    "start_time": "2022-02-13T16:26:18.353Z"
   },
   {
    "duration": 753,
    "start_time": "2022-02-13T17:48:10.587Z"
   },
   {
    "duration": 184,
    "start_time": "2022-02-13T17:48:11.343Z"
   },
   {
    "duration": 26,
    "start_time": "2022-02-13T17:49:34.694Z"
   },
   {
    "duration": 32,
    "start_time": "2022-02-13T17:50:26.686Z"
   },
   {
    "duration": 6,
    "start_time": "2022-02-13T17:58:04.459Z"
   },
   {
    "duration": 6,
    "start_time": "2022-02-13T17:58:13.535Z"
   },
   {
    "duration": 4,
    "start_time": "2022-02-13T17:58:20.195Z"
   },
   {
    "duration": 4,
    "start_time": "2022-02-13T18:04:26.331Z"
   },
   {
    "duration": 4,
    "start_time": "2022-02-13T18:04:34.590Z"
   },
   {
    "duration": 4,
    "start_time": "2022-02-13T18:05:13.232Z"
   },
   {
    "duration": 5,
    "start_time": "2022-02-13T18:05:19.663Z"
   },
   {
    "duration": 4,
    "start_time": "2022-02-13T18:05:24.588Z"
   },
   {
    "duration": 466,
    "start_time": "2022-02-13T18:05:24.595Z"
   },
   {
    "duration": 16,
    "start_time": "2022-02-13T18:05:25.064Z"
   },
   {
    "duration": 516,
    "start_time": "2022-02-13T18:05:25.085Z"
   },
   {
    "duration": 239,
    "start_time": "2022-02-13T18:05:25.605Z"
   },
   {
    "duration": 241,
    "start_time": "2022-02-13T18:05:25.847Z"
   },
   {
    "duration": 186,
    "start_time": "2022-02-13T18:05:26.091Z"
   },
   {
    "duration": 290,
    "start_time": "2022-02-13T18:05:26.280Z"
   },
   {
    "duration": 213,
    "start_time": "2022-02-13T18:05:26.575Z"
   },
   {
    "duration": 300,
    "start_time": "2022-02-13T18:05:26.791Z"
   },
   {
    "duration": 254,
    "start_time": "2022-02-13T18:05:27.094Z"
   },
   {
    "duration": 226,
    "start_time": "2022-02-13T18:05:27.350Z"
   },
   {
    "duration": 297,
    "start_time": "2022-02-13T18:05:27.579Z"
   },
   {
    "duration": 400,
    "start_time": "2022-02-13T18:05:27.879Z"
   },
   {
    "duration": 366,
    "start_time": "2022-02-13T18:05:28.281Z"
   },
   {
    "duration": 470,
    "start_time": "2022-02-13T18:05:28.650Z"
   },
   {
    "duration": 327,
    "start_time": "2022-02-13T18:05:29.123Z"
   },
   {
    "duration": 342,
    "start_time": "2022-02-13T18:05:29.453Z"
   },
   {
    "duration": 361,
    "start_time": "2022-02-13T18:05:29.799Z"
   },
   {
    "duration": 321,
    "start_time": "2022-02-13T18:05:30.164Z"
   },
   {
    "duration": 279,
    "start_time": "2022-02-13T18:05:30.489Z"
   },
   {
    "duration": 292,
    "start_time": "2022-02-13T18:05:30.771Z"
   },
   {
    "duration": 414,
    "start_time": "2022-02-13T18:05:31.067Z"
   },
   {
    "duration": 321,
    "start_time": "2022-02-13T18:05:31.485Z"
   },
   {
    "duration": 205,
    "start_time": "2022-02-13T18:05:31.809Z"
   },
   {
    "duration": 179,
    "start_time": "2022-02-13T18:05:32.017Z"
   },
   {
    "duration": 207,
    "start_time": "2022-02-13T18:05:32.204Z"
   },
   {
    "duration": 203,
    "start_time": "2022-02-13T18:05:32.415Z"
   },
   {
    "duration": 217,
    "start_time": "2022-02-13T18:05:32.621Z"
   },
   {
    "duration": 215,
    "start_time": "2022-02-13T18:05:32.842Z"
   },
   {
    "duration": 320,
    "start_time": "2022-02-13T18:05:33.060Z"
   },
   {
    "duration": 171,
    "start_time": "2022-02-13T18:05:33.383Z"
   },
   {
    "duration": 292,
    "start_time": "2022-02-13T18:05:33.558Z"
   },
   {
    "duration": 208,
    "start_time": "2022-02-13T18:05:33.853Z"
   },
   {
    "duration": 205,
    "start_time": "2022-02-13T18:05:34.065Z"
   },
   {
    "duration": 204,
    "start_time": "2022-02-13T18:05:34.273Z"
   },
   {
    "duration": 209,
    "start_time": "2022-02-13T18:05:34.481Z"
   },
   {
    "duration": 253,
    "start_time": "2022-02-13T18:05:34.692Z"
   },
   {
    "duration": 5,
    "start_time": "2022-02-13T18:06:46.721Z"
   },
   {
    "duration": 5,
    "start_time": "2022-02-13T18:06:58.378Z"
   },
   {
    "duration": 173,
    "start_time": "2022-02-13T18:06:58.386Z"
   },
   {
    "duration": 195,
    "start_time": "2022-02-13T18:06:58.564Z"
   },
   {
    "duration": 290,
    "start_time": "2022-02-13T18:06:58.763Z"
   },
   {
    "duration": 173,
    "start_time": "2022-02-13T18:06:59.056Z"
   },
   {
    "duration": 202,
    "start_time": "2022-02-13T18:06:59.232Z"
   },
   {
    "duration": 182,
    "start_time": "2022-02-13T18:06:59.436Z"
   },
   {
    "duration": 277,
    "start_time": "2022-02-13T18:06:59.621Z"
   },
   {
    "duration": 306,
    "start_time": "2022-02-13T18:06:59.904Z"
   },
   {
    "duration": 299,
    "start_time": "2022-02-13T18:07:00.214Z"
   },
   {
    "duration": 259,
    "start_time": "2022-02-13T18:07:00.516Z"
   },
   {
    "duration": 325,
    "start_time": "2022-02-13T18:07:00.778Z"
   },
   {
    "duration": 356,
    "start_time": "2022-02-13T18:07:01.106Z"
   },
   {
    "duration": 302,
    "start_time": "2022-02-13T18:07:01.465Z"
   },
   {
    "duration": 263,
    "start_time": "2022-02-13T18:07:01.770Z"
   },
   {
    "duration": 281,
    "start_time": "2022-02-13T18:07:02.036Z"
   },
   {
    "duration": 302,
    "start_time": "2022-02-13T18:07:02.320Z"
   },
   {
    "duration": 228,
    "start_time": "2022-02-13T18:07:02.626Z"
   },
   {
    "duration": 316,
    "start_time": "2022-02-13T18:07:02.857Z"
   },
   {
    "duration": 178,
    "start_time": "2022-02-13T18:07:03.175Z"
   },
   {
    "duration": 178,
    "start_time": "2022-02-13T18:07:03.355Z"
   },
   {
    "duration": 183,
    "start_time": "2022-02-13T18:07:03.535Z"
   },
   {
    "duration": 191,
    "start_time": "2022-02-13T18:07:03.720Z"
   },
   {
    "duration": 192,
    "start_time": "2022-02-13T18:07:03.914Z"
   },
   {
    "duration": 270,
    "start_time": "2022-02-13T18:07:04.108Z"
   },
   {
    "duration": 187,
    "start_time": "2022-02-13T18:07:04.381Z"
   },
   {
    "duration": 253,
    "start_time": "2022-02-13T18:07:04.573Z"
   },
   {
    "duration": 182,
    "start_time": "2022-02-13T18:07:04.829Z"
   },
   {
    "duration": 284,
    "start_time": "2022-02-13T18:07:05.013Z"
   },
   {
    "duration": 266,
    "start_time": "2022-02-13T18:07:05.300Z"
   },
   {
    "duration": 221,
    "start_time": "2022-02-13T18:07:05.569Z"
   },
   {
    "duration": 234,
    "start_time": "2022-02-13T18:07:05.793Z"
   },
   {
    "duration": 4,
    "start_time": "2022-02-13T18:07:12.799Z"
   },
   {
    "duration": 385,
    "start_time": "2022-02-13T18:07:12.806Z"
   },
   {
    "duration": 67,
    "start_time": "2022-02-13T18:07:13.196Z"
   },
   {
    "duration": 336,
    "start_time": "2022-02-13T18:07:13.267Z"
   },
   {
    "duration": 266,
    "start_time": "2022-02-13T18:07:13.606Z"
   },
   {
    "duration": 194,
    "start_time": "2022-02-13T18:07:13.875Z"
   },
   {
    "duration": 5,
    "start_time": "2022-02-13T18:07:29.742Z"
   },
   {
    "duration": 32,
    "start_time": "2022-02-13T18:09:39.182Z"
   },
   {
    "duration": 36,
    "start_time": "2022-02-13T18:09:46.301Z"
   },
   {
    "duration": 45,
    "start_time": "2022-02-13T18:10:06.156Z"
   },
   {
    "duration": 32,
    "start_time": "2022-02-13T18:10:28.618Z"
   },
   {
    "duration": 94,
    "start_time": "2022-02-13T18:12:03.452Z"
   },
   {
    "duration": 34,
    "start_time": "2022-02-13T18:12:26.394Z"
   },
   {
    "duration": 31,
    "start_time": "2022-02-13T18:12:41.322Z"
   },
   {
    "duration": 4,
    "start_time": "2022-02-13T18:28:21.552Z"
   },
   {
    "duration": 435,
    "start_time": "2022-02-13T18:28:21.558Z"
   },
   {
    "duration": 111,
    "start_time": "2022-02-13T18:28:21.996Z"
   },
   {
    "duration": 309,
    "start_time": "2022-02-13T18:28:22.111Z"
   },
   {
    "duration": 188,
    "start_time": "2022-02-13T18:28:22.423Z"
   },
   {
    "duration": 289,
    "start_time": "2022-02-13T18:28:22.613Z"
   },
   {
    "duration": 176,
    "start_time": "2022-02-13T18:28:22.905Z"
   },
   {
    "duration": 191,
    "start_time": "2022-02-13T18:28:23.084Z"
   },
   {
    "duration": 293,
    "start_time": "2022-02-13T18:28:23.279Z"
   },
   {
    "duration": 207,
    "start_time": "2022-02-13T18:28:23.575Z"
   },
   {
    "duration": 131,
    "start_time": "2022-02-13T18:29:49.650Z"
   },
   {
    "duration": 83,
    "start_time": "2022-02-13T18:30:16.269Z"
   },
   {
    "duration": 124,
    "start_time": "2022-02-13T18:30:26.403Z"
   },
   {
    "duration": 87,
    "start_time": "2022-02-13T18:31:40.310Z"
   },
   {
    "duration": 4,
    "start_time": "2022-02-13T18:31:47.711Z"
   },
   {
    "duration": 507,
    "start_time": "2022-02-13T18:31:47.718Z"
   },
   {
    "duration": 170,
    "start_time": "2022-02-13T18:31:48.229Z"
   },
   {
    "duration": 366,
    "start_time": "2022-02-13T18:31:48.402Z"
   },
   {
    "duration": 264,
    "start_time": "2022-02-13T18:31:48.771Z"
   },
   {
    "duration": 345,
    "start_time": "2022-02-13T18:31:49.038Z"
   },
   {
    "duration": 335,
    "start_time": "2022-02-13T18:31:49.386Z"
   },
   {
    "duration": 355,
    "start_time": "2022-02-13T18:31:49.723Z"
   },
   {
    "duration": 320,
    "start_time": "2022-02-13T18:31:50.083Z"
   },
   {
    "duration": 296,
    "start_time": "2022-02-13T18:31:50.407Z"
   },
   {
    "duration": 363,
    "start_time": "2022-02-13T18:31:50.707Z"
   },
   {
    "duration": 344,
    "start_time": "2022-02-13T18:31:51.072Z"
   },
   {
    "duration": 319,
    "start_time": "2022-02-13T18:31:51.419Z"
   },
   {
    "duration": 124,
    "start_time": "2022-02-13T18:33:01.248Z"
   },
   {
    "duration": 4,
    "start_time": "2022-02-13T18:33:47.653Z"
   },
   {
    "duration": 483,
    "start_time": "2022-02-13T18:33:47.660Z"
   },
   {
    "duration": 22,
    "start_time": "2022-02-13T18:33:48.147Z"
   },
   {
    "duration": 293,
    "start_time": "2022-02-13T18:33:48.171Z"
   },
   {
    "duration": 173,
    "start_time": "2022-02-13T18:33:48.466Z"
   },
   {
    "duration": 210,
    "start_time": "2022-02-13T18:33:48.641Z"
   },
   {
    "duration": 149,
    "start_time": "2022-02-13T18:33:48.854Z"
   },
   {
    "duration": 197,
    "start_time": "2022-02-13T18:33:49.005Z"
   },
   {
    "duration": 282,
    "start_time": "2022-02-13T18:33:49.206Z"
   },
   {
    "duration": 206,
    "start_time": "2022-02-13T18:33:49.491Z"
   },
   {
    "duration": 389,
    "start_time": "2022-02-13T18:33:49.699Z"
   },
   {
    "duration": 201,
    "start_time": "2022-02-13T18:33:50.090Z"
   },
   {
    "duration": 173,
    "start_time": "2022-02-13T18:33:50.293Z"
   },
   {
    "duration": 61,
    "start_time": "2022-02-13T18:36:38.114Z"
   },
   {
    "duration": 60,
    "start_time": "2022-02-13T18:36:49.649Z"
   },
   {
    "duration": 59,
    "start_time": "2022-02-13T18:37:04.945Z"
   },
   {
    "duration": 58,
    "start_time": "2022-02-13T18:37:23.111Z"
   },
   {
    "duration": 4,
    "start_time": "2022-02-13T18:48:10.951Z"
   },
   {
    "duration": 364,
    "start_time": "2022-02-13T18:48:10.958Z"
   },
   {
    "duration": 17,
    "start_time": "2022-02-13T18:48:11.325Z"
   },
   {
    "duration": 204,
    "start_time": "2022-02-13T18:48:11.345Z"
   },
   {
    "duration": 187,
    "start_time": "2022-02-13T18:48:11.552Z"
   },
   {
    "duration": 189,
    "start_time": "2022-02-13T18:48:11.741Z"
   },
   {
    "duration": 257,
    "start_time": "2022-02-13T18:48:11.932Z"
   },
   {
    "duration": 184,
    "start_time": "2022-02-13T18:48:12.192Z"
   },
   {
    "duration": 136,
    "start_time": "2022-02-13T18:48:12.380Z"
   },
   {
    "duration": 219,
    "start_time": "2022-02-13T18:48:12.519Z"
   },
   {
    "duration": 336,
    "start_time": "2022-02-13T18:48:12.740Z"
   },
   {
    "duration": 143,
    "start_time": "2022-02-13T18:48:13.079Z"
   },
   {
    "duration": 177,
    "start_time": "2022-02-13T18:48:13.224Z"
   },
   {
    "duration": 182,
    "start_time": "2022-02-13T18:48:13.403Z"
   },
   {
    "duration": 255,
    "start_time": "2022-02-13T18:48:13.587Z"
   },
   {
    "duration": 214,
    "start_time": "2022-02-13T18:48:13.845Z"
   },
   {
    "duration": 244,
    "start_time": "2022-02-13T18:48:14.061Z"
   },
   {
    "duration": 24,
    "start_time": "2022-02-13T18:54:59.302Z"
   },
   {
    "duration": 17,
    "start_time": "2022-02-13T18:55:35.647Z"
   },
   {
    "duration": 14,
    "start_time": "2022-02-13T18:55:44.966Z"
   },
   {
    "duration": 21,
    "start_time": "2022-02-13T18:57:04.866Z"
   },
   {
    "duration": 24,
    "start_time": "2022-02-13T18:57:15.608Z"
   },
   {
    "duration": 25,
    "start_time": "2022-02-13T18:57:33.801Z"
   },
   {
    "duration": 110,
    "start_time": "2022-02-13T18:58:35.203Z"
   },
   {
    "duration": 101,
    "start_time": "2022-02-13T18:59:01.682Z"
   },
   {
    "duration": 133,
    "start_time": "2022-02-13T18:59:28.600Z"
   },
   {
    "duration": 88,
    "start_time": "2022-02-13T18:59:36.795Z"
   },
   {
    "duration": 93,
    "start_time": "2022-02-13T19:00:03.278Z"
   },
   {
    "duration": 19,
    "start_time": "2022-02-13T19:00:14.517Z"
   },
   {
    "duration": 7,
    "start_time": "2022-02-13T19:15:50.928Z"
   },
   {
    "duration": 4,
    "start_time": "2022-02-13T19:22:49.179Z"
   },
   {
    "duration": 394,
    "start_time": "2022-02-13T19:22:49.185Z"
   },
   {
    "duration": 19,
    "start_time": "2022-02-13T19:22:49.582Z"
   },
   {
    "duration": 221,
    "start_time": "2022-02-13T19:22:49.604Z"
   },
   {
    "duration": 263,
    "start_time": "2022-02-13T19:22:49.828Z"
   },
   {
    "duration": 270,
    "start_time": "2022-02-13T19:22:50.094Z"
   },
   {
    "duration": 148,
    "start_time": "2022-02-13T19:22:50.367Z"
   },
   {
    "duration": 214,
    "start_time": "2022-02-13T19:22:50.518Z"
   },
   {
    "duration": 167,
    "start_time": "2022-02-13T19:22:50.739Z"
   },
   {
    "duration": 174,
    "start_time": "2022-02-13T19:22:50.911Z"
   },
   {
    "duration": 313,
    "start_time": "2022-02-13T19:22:51.089Z"
   },
   {
    "duration": 215,
    "start_time": "2022-02-13T19:22:51.405Z"
   },
   {
    "duration": 162,
    "start_time": "2022-02-13T19:22:51.624Z"
   },
   {
    "duration": 151,
    "start_time": "2022-02-13T19:22:51.789Z"
   },
   {
    "duration": 89,
    "start_time": "2022-02-13T19:22:51.943Z"
   },
   {
    "duration": 198,
    "start_time": "2022-02-13T19:22:52.035Z"
   },
   {
    "duration": 258,
    "start_time": "2022-02-13T19:22:52.237Z"
   },
   {
    "duration": 92,
    "start_time": "2022-02-13T19:22:52.499Z"
   },
   {
    "duration": 213,
    "start_time": "2022-02-13T19:22:52.595Z"
   },
   {
    "duration": 135,
    "start_time": "2022-02-13T19:22:52.811Z"
   },
   {
    "duration": 185,
    "start_time": "2022-02-13T19:22:52.949Z"
   },
   {
    "duration": 194,
    "start_time": "2022-02-13T19:22:53.137Z"
   },
   {
    "duration": 178,
    "start_time": "2022-02-13T19:22:53.334Z"
   },
   {
    "duration": 191,
    "start_time": "2022-02-13T19:22:53.514Z"
   },
   {
    "duration": 172,
    "start_time": "2022-02-13T19:22:53.708Z"
   },
   {
    "duration": 183,
    "start_time": "2022-02-13T19:22:53.883Z"
   },
   {
    "duration": 4,
    "start_time": "2022-02-13T19:37:10.035Z"
   },
   {
    "duration": 432,
    "start_time": "2022-02-13T19:37:10.041Z"
   },
   {
    "duration": 159,
    "start_time": "2022-02-13T19:37:10.478Z"
   },
   {
    "duration": 257,
    "start_time": "2022-02-13T19:37:10.639Z"
   },
   {
    "duration": 232,
    "start_time": "2022-02-13T19:37:10.899Z"
   },
   {
    "duration": 233,
    "start_time": "2022-02-13T19:37:11.134Z"
   },
   {
    "duration": 212,
    "start_time": "2022-02-13T19:37:11.369Z"
   },
   {
    "duration": 384,
    "start_time": "2022-02-13T19:37:11.584Z"
   },
   {
    "duration": 370,
    "start_time": "2022-02-13T19:37:11.972Z"
   },
   {
    "duration": 207,
    "start_time": "2022-02-13T19:37:12.345Z"
   },
   {
    "duration": 277,
    "start_time": "2022-02-13T19:37:12.555Z"
   },
   {
    "duration": 197,
    "start_time": "2022-02-13T19:37:12.834Z"
   },
   {
    "duration": 219,
    "start_time": "2022-02-13T19:37:13.034Z"
   },
   {
    "duration": 190,
    "start_time": "2022-02-13T19:37:13.256Z"
   },
   {
    "duration": 186,
    "start_time": "2022-02-13T19:37:13.449Z"
   },
   {
    "duration": 307,
    "start_time": "2022-02-13T19:37:13.638Z"
   },
   {
    "duration": 245,
    "start_time": "2022-02-13T19:37:13.948Z"
   },
   {
    "duration": 180,
    "start_time": "2022-02-13T19:37:14.196Z"
   },
   {
    "duration": 295,
    "start_time": "2022-02-13T19:37:14.379Z"
   },
   {
    "duration": 218,
    "start_time": "2022-02-13T19:37:14.677Z"
   },
   {
    "duration": 421,
    "start_time": "2022-02-13T19:37:14.897Z"
   },
   {
    "duration": 290,
    "start_time": "2022-02-13T19:37:15.321Z"
   },
   {
    "duration": 281,
    "start_time": "2022-02-13T19:37:15.614Z"
   },
   {
    "duration": 320,
    "start_time": "2022-02-13T19:37:15.898Z"
   },
   {
    "duration": 537,
    "start_time": "2022-02-13T19:37:16.221Z"
   },
   {
    "duration": 2285,
    "start_time": "2022-02-13T19:37:14.476Z"
   },
   {
    "duration": 2284,
    "start_time": "2022-02-13T19:37:14.479Z"
   },
   {
    "duration": 20,
    "start_time": "2022-02-13T19:37:29.136Z"
   },
   {
    "duration": 23,
    "start_time": "2022-02-13T19:37:32.220Z"
   },
   {
    "duration": 396,
    "start_time": "2022-02-13T19:37:35.731Z"
   },
   {
    "duration": 13,
    "start_time": "2022-02-13T19:37:59.826Z"
   },
   {
    "duration": 375,
    "start_time": "2022-02-14T00:26:17.122Z"
   },
   {
    "duration": 567,
    "start_time": "2022-02-14T00:26:38.993Z"
   },
   {
    "duration": 122,
    "start_time": "2022-02-14T00:26:39.561Z"
   },
   {
    "duration": 16,
    "start_time": "2022-02-14T00:26:39.686Z"
   },
   {
    "duration": 33,
    "start_time": "2022-02-14T00:26:39.704Z"
   },
   {
    "duration": 9,
    "start_time": "2022-02-14T00:26:39.739Z"
   },
   {
    "duration": 35,
    "start_time": "2022-02-14T00:26:39.750Z"
   },
   {
    "duration": 3,
    "start_time": "2022-02-14T00:26:39.787Z"
   },
   {
    "duration": 38,
    "start_time": "2022-02-14T00:26:39.792Z"
   },
   {
    "duration": 21,
    "start_time": "2022-02-14T00:26:39.833Z"
   },
   {
    "duration": 32,
    "start_time": "2022-02-14T00:26:39.856Z"
   },
   {
    "duration": 61,
    "start_time": "2022-02-14T00:26:39.890Z"
   },
   {
    "duration": 62,
    "start_time": "2022-02-14T00:26:39.953Z"
   },
   {
    "duration": 44,
    "start_time": "2022-02-14T00:26:40.016Z"
   },
   {
    "duration": 44,
    "start_time": "2022-02-14T00:26:40.061Z"
   },
   {
    "duration": 7,
    "start_time": "2022-02-14T00:26:40.107Z"
   },
   {
    "duration": 26,
    "start_time": "2022-02-14T00:26:40.115Z"
   },
   {
    "duration": 54,
    "start_time": "2022-02-14T00:26:40.142Z"
   },
   {
    "duration": 15,
    "start_time": "2022-02-14T00:26:40.197Z"
   },
   {
    "duration": 27,
    "start_time": "2022-02-14T00:26:40.214Z"
   },
   {
    "duration": 8,
    "start_time": "2022-02-14T00:26:40.242Z"
   },
   {
    "duration": 36,
    "start_time": "2022-02-14T00:26:40.251Z"
   },
   {
    "duration": 15,
    "start_time": "2022-02-14T00:26:40.288Z"
   },
   {
    "duration": 31,
    "start_time": "2022-02-14T00:26:40.304Z"
   },
   {
    "duration": 22,
    "start_time": "2022-02-14T00:26:40.336Z"
   },
   {
    "duration": 36,
    "start_time": "2022-02-14T00:26:40.360Z"
   },
   {
    "duration": 22,
    "start_time": "2022-02-14T00:26:40.397Z"
   },
   {
    "duration": 13,
    "start_time": "2022-02-14T00:26:40.422Z"
   },
   {
    "duration": 25,
    "start_time": "2022-02-14T00:26:40.436Z"
   },
   {
    "duration": 16,
    "start_time": "2022-02-14T00:26:40.462Z"
   },
   {
    "duration": 10,
    "start_time": "2022-02-14T00:26:54.951Z"
   },
   {
    "duration": 3,
    "start_time": "2022-02-14T00:34:14.919Z"
   },
   {
    "duration": 18,
    "start_time": "2022-02-14T00:37:53.815Z"
   },
   {
    "duration": 12,
    "start_time": "2022-02-14T00:37:56.627Z"
   },
   {
    "duration": 17,
    "start_time": "2022-02-14T00:37:58.507Z"
   },
   {
    "duration": 13,
    "start_time": "2022-02-14T00:38:00.075Z"
   },
   {
    "duration": 3,
    "start_time": "2022-02-14T00:40:28.652Z"
   },
   {
    "duration": 135,
    "start_time": "2022-02-14T00:40:28.657Z"
   },
   {
    "duration": 10,
    "start_time": "2022-02-14T00:40:28.794Z"
   },
   {
    "duration": 21,
    "start_time": "2022-02-14T00:40:28.806Z"
   },
   {
    "duration": 3,
    "start_time": "2022-02-14T00:40:28.829Z"
   },
   {
    "duration": 16,
    "start_time": "2022-02-14T00:40:28.833Z"
   },
   {
    "duration": 3,
    "start_time": "2022-02-14T00:40:28.872Z"
   },
   {
    "duration": 22,
    "start_time": "2022-02-14T00:40:28.877Z"
   },
   {
    "duration": 16,
    "start_time": "2022-02-14T00:40:28.901Z"
   },
   {
    "duration": 19,
    "start_time": "2022-02-14T00:40:28.919Z"
   },
   {
    "duration": 72,
    "start_time": "2022-02-14T00:40:28.940Z"
   },
   {
    "duration": 62,
    "start_time": "2022-02-14T00:40:29.014Z"
   },
   {
    "duration": 44,
    "start_time": "2022-02-14T00:40:29.077Z"
   },
   {
    "duration": 49,
    "start_time": "2022-02-14T00:40:29.123Z"
   },
   {
    "duration": 2,
    "start_time": "2022-02-14T00:40:29.174Z"
   },
   {
    "duration": 9,
    "start_time": "2022-02-14T00:40:29.178Z"
   },
   {
    "duration": 36,
    "start_time": "2022-02-14T00:40:29.189Z"
   },
   {
    "duration": 10,
    "start_time": "2022-02-14T00:40:29.227Z"
   },
   {
    "duration": 35,
    "start_time": "2022-02-14T00:40:29.238Z"
   },
   {
    "duration": 3,
    "start_time": "2022-02-14T00:40:29.274Z"
   },
   {
    "duration": 20,
    "start_time": "2022-02-14T00:40:29.278Z"
   },
   {
    "duration": 12,
    "start_time": "2022-02-14T00:40:29.299Z"
   },
   {
    "duration": 12,
    "start_time": "2022-02-14T00:40:29.312Z"
   },
   {
    "duration": 12,
    "start_time": "2022-02-14T00:40:29.325Z"
   },
   {
    "duration": 33,
    "start_time": "2022-02-14T00:40:29.339Z"
   },
   {
    "duration": 13,
    "start_time": "2022-02-14T00:40:29.374Z"
   },
   {
    "duration": 7,
    "start_time": "2022-02-14T00:40:29.390Z"
   },
   {
    "duration": 15,
    "start_time": "2022-02-14T00:40:29.399Z"
   },
   {
    "duration": 12,
    "start_time": "2022-02-14T00:40:29.416Z"
   },
   {
    "duration": 3,
    "start_time": "2022-02-14T00:40:29.429Z"
   },
   {
    "duration": 42,
    "start_time": "2022-02-14T00:40:29.434Z"
   },
   {
    "duration": 12,
    "start_time": "2022-02-14T00:40:29.477Z"
   },
   {
    "duration": 14,
    "start_time": "2022-02-14T00:40:29.490Z"
   },
   {
    "duration": 11,
    "start_time": "2022-02-14T00:40:29.505Z"
   },
   {
    "duration": 322,
    "start_time": "2022-02-14T18:27:31.553Z"
   },
   {
    "duration": 698,
    "start_time": "2022-02-14T18:27:42.470Z"
   },
   {
    "duration": 185,
    "start_time": "2022-02-14T18:27:43.171Z"
   },
   {
    "duration": 27,
    "start_time": "2022-02-14T18:27:43.360Z"
   },
   {
    "duration": 76,
    "start_time": "2022-02-14T18:27:43.391Z"
   },
   {
    "duration": 5,
    "start_time": "2022-02-14T18:27:43.469Z"
   },
   {
    "duration": 31,
    "start_time": "2022-02-14T18:27:43.476Z"
   },
   {
    "duration": 6,
    "start_time": "2022-02-14T18:27:43.533Z"
   },
   {
    "duration": 54,
    "start_time": "2022-02-14T18:27:43.542Z"
   },
   {
    "duration": 59,
    "start_time": "2022-02-14T18:27:43.602Z"
   },
   {
    "duration": 37,
    "start_time": "2022-02-14T18:27:43.664Z"
   },
   {
    "duration": 103,
    "start_time": "2022-02-14T18:27:43.704Z"
   },
   {
    "duration": 108,
    "start_time": "2022-02-14T18:27:43.809Z"
   },
   {
    "duration": 83,
    "start_time": "2022-02-14T18:27:43.920Z"
   },
   {
    "duration": 94,
    "start_time": "2022-02-14T18:27:44.006Z"
   },
   {
    "duration": 4,
    "start_time": "2022-02-14T18:27:44.103Z"
   },
   {
    "duration": 35,
    "start_time": "2022-02-14T18:27:44.110Z"
   },
   {
    "duration": 62,
    "start_time": "2022-02-14T18:27:44.147Z"
   },
   {
    "duration": 38,
    "start_time": "2022-02-14T18:27:44.212Z"
   },
   {
    "duration": 15,
    "start_time": "2022-02-14T18:27:44.252Z"
   },
   {
    "duration": 13,
    "start_time": "2022-02-14T18:27:44.270Z"
   },
   {
    "duration": 50,
    "start_time": "2022-02-14T18:27:44.286Z"
   },
   {
    "duration": 17,
    "start_time": "2022-02-14T18:27:44.339Z"
   },
   {
    "duration": 24,
    "start_time": "2022-02-14T18:27:44.359Z"
   },
   {
    "duration": 48,
    "start_time": "2022-02-14T18:27:44.387Z"
   },
   {
    "duration": 27,
    "start_time": "2022-02-14T18:27:44.438Z"
   },
   {
    "duration": 25,
    "start_time": "2022-02-14T18:27:44.468Z"
   },
   {
    "duration": 38,
    "start_time": "2022-02-14T18:27:44.499Z"
   },
   {
    "duration": 26,
    "start_time": "2022-02-14T18:27:44.541Z"
   },
   {
    "duration": 18,
    "start_time": "2022-02-14T18:27:44.571Z"
   },
   {
    "duration": 7,
    "start_time": "2022-02-14T18:27:44.592Z"
   },
   {
    "duration": 57,
    "start_time": "2022-02-14T18:27:44.601Z"
   },
   {
    "duration": 17,
    "start_time": "2022-02-14T18:27:44.660Z"
   },
   {
    "duration": 22,
    "start_time": "2022-02-14T18:27:44.680Z"
   },
   {
    "duration": 40,
    "start_time": "2022-02-14T18:27:44.704Z"
   },
   {
    "duration": 11,
    "start_time": "2022-02-14T18:27:44.747Z"
   },
   {
    "duration": 6,
    "start_time": "2022-02-14T18:28:21.431Z"
   },
   {
    "duration": 7,
    "start_time": "2022-02-14T18:32:46.317Z"
   },
   {
    "duration": 7,
    "start_time": "2022-02-14T18:32:48.156Z"
   },
   {
    "duration": 3,
    "start_time": "2022-02-14T18:34:33.664Z"
   },
   {
    "duration": 191,
    "start_time": "2022-02-14T18:34:33.683Z"
   },
   {
    "duration": 15,
    "start_time": "2022-02-14T18:34:33.877Z"
   },
   {
    "duration": 54,
    "start_time": "2022-02-14T18:34:33.895Z"
   },
   {
    "duration": 4,
    "start_time": "2022-02-14T18:34:33.952Z"
   },
   {
    "duration": 29,
    "start_time": "2022-02-14T18:34:33.958Z"
   },
   {
    "duration": 4,
    "start_time": "2022-02-14T18:34:33.989Z"
   },
   {
    "duration": 69,
    "start_time": "2022-02-14T18:34:33.996Z"
   },
   {
    "duration": 33,
    "start_time": "2022-02-14T18:34:34.067Z"
   },
   {
    "duration": 58,
    "start_time": "2022-02-14T18:34:34.105Z"
   },
   {
    "duration": 88,
    "start_time": "2022-02-14T18:34:34.167Z"
   },
   {
    "duration": 136,
    "start_time": "2022-02-14T18:34:34.258Z"
   },
   {
    "duration": 89,
    "start_time": "2022-02-14T18:34:34.397Z"
   },
   {
    "duration": 67,
    "start_time": "2022-02-14T18:34:34.489Z"
   },
   {
    "duration": 3,
    "start_time": "2022-02-14T18:34:34.559Z"
   },
   {
    "duration": 19,
    "start_time": "2022-02-14T18:34:34.565Z"
   },
   {
    "duration": 95,
    "start_time": "2022-02-14T18:34:34.587Z"
   },
   {
    "duration": 14,
    "start_time": "2022-02-14T18:34:34.685Z"
   },
   {
    "duration": 39,
    "start_time": "2022-02-14T18:34:34.702Z"
   },
   {
    "duration": 4,
    "start_time": "2022-02-14T18:34:34.743Z"
   },
   {
    "duration": 27,
    "start_time": "2022-02-14T18:34:34.750Z"
   },
   {
    "duration": 18,
    "start_time": "2022-02-14T18:34:34.780Z"
   },
   {
    "duration": 43,
    "start_time": "2022-02-14T18:34:34.801Z"
   },
   {
    "duration": 15,
    "start_time": "2022-02-14T18:34:34.847Z"
   },
   {
    "duration": 22,
    "start_time": "2022-02-14T18:34:34.865Z"
   },
   {
    "duration": 52,
    "start_time": "2022-02-14T18:34:34.890Z"
   },
   {
    "duration": 12,
    "start_time": "2022-02-14T18:34:34.944Z"
   },
   {
    "duration": 20,
    "start_time": "2022-02-14T18:34:34.962Z"
   },
   {
    "duration": 47,
    "start_time": "2022-02-14T18:34:34.985Z"
   },
   {
    "duration": 5,
    "start_time": "2022-02-14T18:34:35.035Z"
   },
   {
    "duration": 36,
    "start_time": "2022-02-14T18:34:35.042Z"
   },
   {
    "duration": 16,
    "start_time": "2022-02-14T18:34:35.080Z"
   },
   {
    "duration": 51,
    "start_time": "2022-02-14T18:34:35.098Z"
   },
   {
    "duration": 20,
    "start_time": "2022-02-14T18:34:35.152Z"
   },
   {
    "duration": 11,
    "start_time": "2022-02-14T18:34:35.175Z"
   },
   {
    "duration": 6,
    "start_time": "2022-02-14T18:34:35.188Z"
   },
   {
    "duration": 8,
    "start_time": "2022-02-14T18:34:35.233Z"
   },
   {
    "duration": 20,
    "start_time": "2022-02-14T18:34:35.243Z"
   },
   {
    "duration": 616,
    "start_time": "2022-02-23T20:22:02.617Z"
   },
   {
    "duration": 166,
    "start_time": "2022-02-23T20:22:03.234Z"
   },
   {
    "duration": 18,
    "start_time": "2022-02-23T20:22:03.403Z"
   },
   {
    "duration": 48,
    "start_time": "2022-02-23T20:22:03.423Z"
   },
   {
    "duration": 12,
    "start_time": "2022-02-23T20:22:03.473Z"
   },
   {
    "duration": 53,
    "start_time": "2022-02-23T20:22:03.487Z"
   },
   {
    "duration": 19,
    "start_time": "2022-02-23T20:22:03.542Z"
   },
   {
    "duration": 46,
    "start_time": "2022-02-23T20:22:03.563Z"
   },
   {
    "duration": 36,
    "start_time": "2022-02-23T20:22:03.611Z"
   },
   {
    "duration": 34,
    "start_time": "2022-02-23T20:22:03.649Z"
   },
   {
    "duration": 99,
    "start_time": "2022-02-23T20:22:03.685Z"
   },
   {
    "duration": 84,
    "start_time": "2022-02-23T20:22:03.786Z"
   },
   {
    "duration": 58,
    "start_time": "2022-02-23T20:22:03.872Z"
   },
   {
    "duration": 56,
    "start_time": "2022-02-23T20:22:03.932Z"
   },
   {
    "duration": 15,
    "start_time": "2022-02-23T20:22:03.989Z"
   },
   {
    "duration": 46,
    "start_time": "2022-02-23T20:22:04.006Z"
   },
   {
    "duration": 79,
    "start_time": "2022-02-23T20:22:04.054Z"
   },
   {
    "duration": 53,
    "start_time": "2022-02-23T20:22:04.136Z"
   },
   {
    "duration": 41,
    "start_time": "2022-02-23T20:22:04.192Z"
   },
   {
    "duration": 11,
    "start_time": "2022-02-23T20:22:04.236Z"
   },
   {
    "duration": 41,
    "start_time": "2022-02-23T20:22:04.249Z"
   },
   {
    "duration": 43,
    "start_time": "2022-02-23T20:22:04.292Z"
   },
   {
    "duration": 39,
    "start_time": "2022-02-23T20:22:04.340Z"
   },
   {
    "duration": 58,
    "start_time": "2022-02-23T20:22:04.381Z"
   },
   {
    "duration": 32,
    "start_time": "2022-02-23T20:22:04.441Z"
   },
   {
    "duration": 39,
    "start_time": "2022-02-23T20:22:04.476Z"
   },
   {
    "duration": 54,
    "start_time": "2022-02-23T20:22:04.517Z"
   },
   {
    "duration": 51,
    "start_time": "2022-02-23T20:22:04.573Z"
   },
   {
    "duration": 45,
    "start_time": "2022-02-23T20:22:04.626Z"
   },
   {
    "duration": 37,
    "start_time": "2022-02-23T20:22:04.673Z"
   },
   {
    "duration": 59,
    "start_time": "2022-02-23T20:22:04.711Z"
   },
   {
    "duration": 41,
    "start_time": "2022-02-23T20:22:04.772Z"
   },
   {
    "duration": 52,
    "start_time": "2022-02-23T20:22:04.815Z"
   },
   {
    "duration": 40,
    "start_time": "2022-02-23T20:22:04.869Z"
   },
   {
    "duration": 41,
    "start_time": "2022-02-23T20:22:04.910Z"
   },
   {
    "duration": 30,
    "start_time": "2022-02-23T20:22:04.953Z"
   },
   {
    "duration": 43,
    "start_time": "2022-02-23T20:22:04.985Z"
   },
   {
    "duration": 32,
    "start_time": "2022-02-23T20:22:05.030Z"
   },
   {
    "duration": 12,
    "start_time": "2022-02-23T20:27:46.788Z"
   },
   {
    "duration": 5,
    "start_time": "2022-02-23T20:29:52.295Z"
   },
   {
    "duration": 22,
    "start_time": "2022-02-23T20:34:48.352Z"
   },
   {
    "duration": 3,
    "start_time": "2022-02-23T20:35:34.350Z"
   },
   {
    "duration": 164,
    "start_time": "2022-02-23T20:35:34.355Z"
   },
   {
    "duration": 11,
    "start_time": "2022-02-23T20:35:34.521Z"
   },
   {
    "duration": 38,
    "start_time": "2022-02-23T20:35:34.534Z"
   },
   {
    "duration": 4,
    "start_time": "2022-02-23T20:35:34.574Z"
   },
   {
    "duration": 22,
    "start_time": "2022-02-23T20:35:34.579Z"
   },
   {
    "duration": 4,
    "start_time": "2022-02-23T20:35:34.603Z"
   },
   {
    "duration": 26,
    "start_time": "2022-02-23T20:36:04.863Z"
   },
   {
    "duration": 25,
    "start_time": "2022-02-23T20:36:31.661Z"
   },
   {
    "duration": 25,
    "start_time": "2022-02-23T20:37:17.002Z"
   },
   {
    "duration": 2,
    "start_time": "2022-02-23T20:37:54.911Z"
   },
   {
    "duration": 165,
    "start_time": "2022-02-23T20:37:54.915Z"
   },
   {
    "duration": 11,
    "start_time": "2022-02-23T20:37:55.082Z"
   },
   {
    "duration": 28,
    "start_time": "2022-02-23T20:37:55.095Z"
   },
   {
    "duration": 5,
    "start_time": "2022-02-23T20:37:55.125Z"
   },
   {
    "duration": 46,
    "start_time": "2022-02-23T20:37:55.131Z"
   },
   {
    "duration": 5,
    "start_time": "2022-02-23T20:37:55.179Z"
   },
   {
    "duration": 31,
    "start_time": "2022-02-23T20:37:55.186Z"
   },
   {
    "duration": 21,
    "start_time": "2022-02-23T20:37:55.219Z"
   },
   {
    "duration": 25,
    "start_time": "2022-02-23T20:38:07.270Z"
   },
   {
    "duration": 23,
    "start_time": "2022-02-23T20:38:22.022Z"
   },
   {
    "duration": 18,
    "start_time": "2022-02-23T20:38:25.077Z"
   },
   {
    "duration": 25,
    "start_time": "2022-02-23T20:38:28.716Z"
   },
   {
    "duration": 592,
    "start_time": "2022-02-23T20:38:48.327Z"
   },
   {
    "duration": 148,
    "start_time": "2022-02-23T20:38:48.921Z"
   },
   {
    "duration": 18,
    "start_time": "2022-02-23T20:38:49.071Z"
   },
   {
    "duration": 30,
    "start_time": "2022-02-23T20:38:49.091Z"
   },
   {
    "duration": 4,
    "start_time": "2022-02-23T20:38:49.123Z"
   },
   {
    "duration": 46,
    "start_time": "2022-02-23T20:38:49.129Z"
   },
   {
    "duration": 4,
    "start_time": "2022-02-23T20:38:49.177Z"
   },
   {
    "duration": 26,
    "start_time": "2022-02-23T20:38:49.183Z"
   },
   {
    "duration": 18,
    "start_time": "2022-02-23T20:38:49.211Z"
   },
   {
    "duration": 46,
    "start_time": "2022-02-23T20:38:49.230Z"
   },
   {
    "duration": 24,
    "start_time": "2022-02-23T20:39:43.385Z"
   },
   {
    "duration": 25,
    "start_time": "2022-02-23T20:39:46.672Z"
   },
   {
    "duration": 698,
    "start_time": "2022-02-23T20:40:00.203Z"
   },
   {
    "duration": 162,
    "start_time": "2022-02-23T20:40:00.903Z"
   },
   {
    "duration": 20,
    "start_time": "2022-02-23T20:40:01.070Z"
   },
   {
    "duration": 40,
    "start_time": "2022-02-23T20:40:01.093Z"
   },
   {
    "duration": 15,
    "start_time": "2022-02-23T20:40:01.135Z"
   },
   {
    "duration": 36,
    "start_time": "2022-02-23T20:40:01.152Z"
   },
   {
    "duration": 16,
    "start_time": "2022-02-23T20:40:01.191Z"
   },
   {
    "duration": 31,
    "start_time": "2022-02-23T20:40:01.209Z"
   },
   {
    "duration": 27,
    "start_time": "2022-02-23T20:40:01.242Z"
   },
   {
    "duration": 43,
    "start_time": "2022-02-23T20:40:01.271Z"
   },
   {
    "duration": 77,
    "start_time": "2022-02-23T20:40:01.316Z"
   },
   {
    "duration": 96,
    "start_time": "2022-02-23T20:40:01.395Z"
   },
   {
    "duration": 63,
    "start_time": "2022-02-23T20:40:01.493Z"
   },
   {
    "duration": 56,
    "start_time": "2022-02-23T20:40:01.558Z"
   },
   {
    "duration": 27,
    "start_time": "2022-02-23T20:40:01.616Z"
   },
   {
    "duration": 25,
    "start_time": "2022-02-23T20:40:01.645Z"
   },
   {
    "duration": 53,
    "start_time": "2022-02-23T20:40:01.672Z"
   },
   {
    "duration": 13,
    "start_time": "2022-02-23T20:40:01.728Z"
   },
   {
    "duration": 28,
    "start_time": "2022-02-23T20:40:01.743Z"
   },
   {
    "duration": 3,
    "start_time": "2022-02-23T20:40:01.773Z"
   },
   {
    "duration": 31,
    "start_time": "2022-02-23T20:40:01.777Z"
   },
   {
    "duration": 16,
    "start_time": "2022-02-23T20:40:01.812Z"
   },
   {
    "duration": 17,
    "start_time": "2022-02-23T20:40:01.830Z"
   },
   {
    "duration": 30,
    "start_time": "2022-02-23T20:40:01.849Z"
   },
   {
    "duration": 21,
    "start_time": "2022-02-23T20:40:01.881Z"
   },
   {
    "duration": 15,
    "start_time": "2022-02-23T20:40:01.904Z"
   },
   {
    "duration": 16,
    "start_time": "2022-02-23T20:40:01.921Z"
   },
   {
    "duration": 35,
    "start_time": "2022-02-23T20:40:01.939Z"
   },
   {
    "duration": 16,
    "start_time": "2022-02-23T20:40:01.976Z"
   },
   {
    "duration": 6,
    "start_time": "2022-02-23T20:40:01.994Z"
   },
   {
    "duration": 33,
    "start_time": "2022-02-23T20:40:02.002Z"
   },
   {
    "duration": 15,
    "start_time": "2022-02-23T20:40:02.037Z"
   },
   {
    "duration": 30,
    "start_time": "2022-02-23T20:40:02.054Z"
   },
   {
    "duration": 14,
    "start_time": "2022-02-23T20:40:02.086Z"
   },
   {
    "duration": 10,
    "start_time": "2022-02-23T20:40:02.102Z"
   },
   {
    "duration": 5,
    "start_time": "2022-02-23T20:40:02.114Z"
   },
   {
    "duration": 14,
    "start_time": "2022-02-23T20:40:02.120Z"
   },
   {
    "duration": 35,
    "start_time": "2022-02-23T20:40:02.136Z"
   },
   {
    "duration": 58,
    "start_time": "2022-02-23T20:46:15.896Z"
   },
   {
    "duration": 3,
    "start_time": "2022-02-23T20:46:31.004Z"
   },
   {
    "duration": 172,
    "start_time": "2022-02-23T20:46:31.009Z"
   },
   {
    "duration": 11,
    "start_time": "2022-02-23T20:46:31.184Z"
   },
   {
    "duration": 32,
    "start_time": "2022-02-23T20:46:31.198Z"
   },
   {
    "duration": 7,
    "start_time": "2022-02-23T20:46:31.232Z"
   },
   {
    "duration": 44,
    "start_time": "2022-02-23T20:46:31.241Z"
   },
   {
    "duration": 4,
    "start_time": "2022-02-23T20:46:31.287Z"
   },
   {
    "duration": 29,
    "start_time": "2022-02-23T20:46:31.294Z"
   },
   {
    "duration": 21,
    "start_time": "2022-02-23T20:46:31.325Z"
   },
   {
    "duration": 44,
    "start_time": "2022-02-23T20:46:31.348Z"
   },
   {
    "duration": 77,
    "start_time": "2022-02-23T20:46:31.394Z"
   },
   {
    "duration": 57,
    "start_time": "2022-02-23T20:46:54.197Z"
   },
   {
    "duration": 3,
    "start_time": "2022-02-23T20:48:27.832Z"
   },
   {
    "duration": 179,
    "start_time": "2022-02-23T20:48:27.838Z"
   },
   {
    "duration": 11,
    "start_time": "2022-02-23T20:48:28.020Z"
   },
   {
    "duration": 40,
    "start_time": "2022-02-23T20:48:28.033Z"
   },
   {
    "duration": 4,
    "start_time": "2022-02-23T20:48:28.075Z"
   },
   {
    "duration": 25,
    "start_time": "2022-02-23T20:48:28.080Z"
   },
   {
    "duration": 4,
    "start_time": "2022-02-23T20:48:28.107Z"
   },
   {
    "duration": 31,
    "start_time": "2022-02-23T20:48:28.114Z"
   },
   {
    "duration": 40,
    "start_time": "2022-02-23T20:48:28.147Z"
   },
   {
    "duration": 25,
    "start_time": "2022-02-23T20:48:28.189Z"
   },
   {
    "duration": 80,
    "start_time": "2022-02-23T20:48:28.215Z"
   },
   {
    "duration": 78,
    "start_time": "2022-02-23T20:48:28.297Z"
   },
   {
    "duration": 57,
    "start_time": "2022-02-23T20:48:28.377Z"
   },
   {
    "duration": 42,
    "start_time": "2022-02-23T20:48:50.581Z"
   },
   {
    "duration": 12,
    "start_time": "2022-02-23T20:50:00.313Z"
   },
   {
    "duration": 11,
    "start_time": "2022-02-23T20:50:14.503Z"
   },
   {
    "duration": 5,
    "start_time": "2022-02-23T20:52:02.353Z"
   },
   {
    "duration": 5,
    "start_time": "2022-02-23T20:52:12.952Z"
   },
   {
    "duration": 672,
    "start_time": "2022-02-23T20:53:02.537Z"
   },
   {
    "duration": 169,
    "start_time": "2022-02-23T20:53:03.212Z"
   },
   {
    "duration": 19,
    "start_time": "2022-02-23T20:53:03.383Z"
   },
   {
    "duration": 30,
    "start_time": "2022-02-23T20:53:03.404Z"
   },
   {
    "duration": 7,
    "start_time": "2022-02-23T20:53:03.436Z"
   },
   {
    "duration": 39,
    "start_time": "2022-02-23T20:53:03.445Z"
   },
   {
    "duration": 9,
    "start_time": "2022-02-23T20:53:03.486Z"
   },
   {
    "duration": 31,
    "start_time": "2022-02-23T20:53:03.498Z"
   },
   {
    "duration": 37,
    "start_time": "2022-02-23T20:53:03.532Z"
   },
   {
    "duration": 26,
    "start_time": "2022-02-23T20:53:03.571Z"
   },
   {
    "duration": 83,
    "start_time": "2022-02-23T20:53:03.599Z"
   },
   {
    "duration": 94,
    "start_time": "2022-02-23T20:53:03.684Z"
   },
   {
    "duration": 63,
    "start_time": "2022-02-23T20:53:03.781Z"
   },
   {
    "duration": 86,
    "start_time": "2022-02-23T20:53:03.847Z"
   },
   {
    "duration": 5,
    "start_time": "2022-02-23T20:53:03.934Z"
   },
   {
    "duration": 34,
    "start_time": "2022-02-23T20:53:03.940Z"
   },
   {
    "duration": 47,
    "start_time": "2022-02-23T20:53:03.976Z"
   },
   {
    "duration": 14,
    "start_time": "2022-02-23T20:53:04.025Z"
   },
   {
    "duration": 33,
    "start_time": "2022-02-23T20:53:04.041Z"
   },
   {
    "duration": 6,
    "start_time": "2022-02-23T20:53:04.076Z"
   },
   {
    "duration": 25,
    "start_time": "2022-02-23T20:53:04.084Z"
   },
   {
    "duration": 15,
    "start_time": "2022-02-23T20:53:04.110Z"
   },
   {
    "duration": 53,
    "start_time": "2022-02-23T20:53:04.128Z"
   },
   {
    "duration": 13,
    "start_time": "2022-02-23T20:53:04.184Z"
   },
   {
    "duration": 17,
    "start_time": "2022-02-23T20:53:04.199Z"
   },
   {
    "duration": 16,
    "start_time": "2022-02-23T20:53:04.218Z"
   },
   {
    "duration": 9,
    "start_time": "2022-02-23T20:53:04.270Z"
   },
   {
    "duration": 17,
    "start_time": "2022-02-23T20:53:04.281Z"
   },
   {
    "duration": 10,
    "start_time": "2022-02-23T20:53:04.300Z"
   },
   {
    "duration": 4,
    "start_time": "2022-02-23T20:53:04.312Z"
   },
   {
    "duration": 62,
    "start_time": "2022-02-23T20:53:04.318Z"
   },
   {
    "duration": 16,
    "start_time": "2022-02-23T20:53:04.382Z"
   },
   {
    "duration": 19,
    "start_time": "2022-02-23T20:53:04.400Z"
   },
   {
    "duration": 52,
    "start_time": "2022-02-23T20:53:04.420Z"
   },
   {
    "duration": 8,
    "start_time": "2022-02-23T20:53:04.474Z"
   },
   {
    "duration": 9,
    "start_time": "2022-02-23T20:53:04.484Z"
   },
   {
    "duration": 9,
    "start_time": "2022-02-23T20:53:04.495Z"
   },
   {
    "duration": 5,
    "start_time": "2022-02-23T20:53:04.506Z"
   }
  ],
  "colab": {
   "collapsed_sections": [
    "E0vqbgi9ay0H",
    "VUC88oWjTJw2"
   ],
   "name": "yandex_music_project_2021.2.ipynb",
   "provenance": []
  },
  "kernelspec": {
   "display_name": "Python 3 (ipykernel)",
   "language": "python",
   "name": "python3"
  },
  "language_info": {
   "codemirror_mode": {
    "name": "ipython",
    "version": 3
   },
   "file_extension": ".py",
   "mimetype": "text/x-python",
   "name": "python",
   "nbconvert_exporter": "python",
   "pygments_lexer": "ipython3",
   "version": "3.9.12"
  },
  "toc": {
   "base_numbering": 1,
   "nav_menu": {
    "height": "213px",
    "width": "461px"
   },
   "number_sections": true,
   "sideBar": true,
   "skip_h1_title": true,
   "title_cell": "Содержание",
   "title_sidebar": "Содержание",
   "toc_cell": true,
   "toc_position": {},
   "toc_section_display": true,
   "toc_window_display": true
  }
 },
 "nbformat": 4,
 "nbformat_minor": 1
}
