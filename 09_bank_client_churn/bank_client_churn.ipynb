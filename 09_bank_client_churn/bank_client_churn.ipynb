{
 "cells": [
  {
   "cell_type": "markdown",
   "id": "e7305036",
   "metadata": {
    "toc": true
   },
   "source": [
    "<h1>Содержание<span class=\"tocSkip\"></span></h1>\n",
    "<div class=\"toc\"><ul class=\"toc-item\"><li><span><a href=\"#Изучение-данных-из-файла,-предобработка\" data-toc-modified-id=\"Изучение-данных-из-файла,-предобработка-1\"><span class=\"toc-item-num\">1&nbsp;&nbsp;</span>Изучение данных из файла, предобработка</a></span></li><li><span><a href=\"#Подготовка-признаков\" data-toc-modified-id=\"Подготовка-признаков-2\"><span class=\"toc-item-num\">2&nbsp;&nbsp;</span>Подготовка признаков</a></span></li><li><span><a href=\"#Разбиение-данных-на-обучающую-и-тестовую-выборки\" data-toc-modified-id=\"Разбиение-данных-на-обучающую-и-тестовую-выборки-3\"><span class=\"toc-item-num\">3&nbsp;&nbsp;</span>Разбиение данных на обучающую и тестовую выборки</a></span></li><li><span><a href=\"#Построение-константной-модели\" data-toc-modified-id=\"Построение-константной-модели-4\"><span class=\"toc-item-num\">4&nbsp;&nbsp;</span>Построение константной модели</a></span></li><li><span><a href=\"#Построение-модели-без-учёта-дисбаланса-классов\" data-toc-modified-id=\"Построение-модели-без-учёта-дисбаланса-классов-5\"><span class=\"toc-item-num\">5&nbsp;&nbsp;</span>Построение модели без учёта дисбаланса классов</a></span></li><li><span><a href=\"#Построение-моделей-с-учётом-дисбаланса-классов\" data-toc-modified-id=\"Построение-моделей-с-учётом-дисбаланса-классов-6\"><span class=\"toc-item-num\">6&nbsp;&nbsp;</span>Построение моделей с учётом дисбаланса классов</a></span><ul class=\"toc-item\"><li><span><a href=\"#Модель-логистической-регрессии\" data-toc-modified-id=\"Модель-логистической-регрессии-6.1\"><span class=\"toc-item-num\">6.1&nbsp;&nbsp;</span>Модель логистической регрессии</a></span></li><li><span><a href=\"#Модель-&quot;Дерево-решений&quot;\" data-toc-modified-id=\"Модель-&quot;Дерево-решений&quot;-6.2\"><span class=\"toc-item-num\">6.2&nbsp;&nbsp;</span>Модель \"Дерево решений\"</a></span></li><li><span><a href=\"#Модель-&quot;Случайный-лес&quot;\" data-toc-modified-id=\"Модель-&quot;Случайный-лес&quot;-6.3\"><span class=\"toc-item-num\">6.3&nbsp;&nbsp;</span>Модель \"Случайный лес\"</a></span></li></ul></li><li><span><a href=\"#Общий-вывод\" data-toc-modified-id=\"Общий-вывод-7\"><span class=\"toc-item-num\">7&nbsp;&nbsp;</span>Общий вывод</a></span></li></ul></div>"
   ]
  },
  {
   "cell_type": "markdown",
   "id": "31f1b547",
   "metadata": {},
   "source": [
    "# Прогнозирование оттока клиентов банка"
   ]
  },
  {
   "cell_type": "markdown",
   "id": "7852c4dc",
   "metadata": {},
   "source": [
    "Из «Бета-Банка» стали уходить клиенты. Нужно спрогнозировать, уйдёт клиент из банка в ближайшее время или нет. Для анализа предоставлены исторические данные о поведении клиентов и расторжении договоров с банком.\n",
    "\n",
    "В проекте необходимо построить модель с предельно большим значением F1-меры (не менее 0,59). Дополнительно следует измерить метрику AUC-ROC и сравнить её значение с F1-мерой."
   ]
  },
  {
   "cell_type": "markdown",
   "id": "d5b1293d",
   "metadata": {},
   "source": [
    "## Изучение данных из файла, предобработка"
   ]
  },
  {
   "cell_type": "code",
   "execution_count": 1,
   "id": "c4c0ae7b",
   "metadata": {},
   "outputs": [],
   "source": [
    "import pandas as pd\n",
    "import numpy as np\n",
    "import matplotlib.pyplot as plt\n",
    "from sklearn.tree import DecisionTreeClassifier\n",
    "from sklearn.ensemble import RandomForestClassifier\n",
    "from sklearn.linear_model import LogisticRegression\n",
    "from sklearn.dummy import DummyClassifier\n",
    "from sklearn.model_selection import GridSearchCV\n",
    "from sklearn.model_selection import train_test_split\n",
    "from sklearn.metrics import confusion_matrix\n",
    "from sklearn.preprocessing import StandardScaler \n",
    "from sklearn.utils import shuffle\n",
    "from sklearn.metrics import precision_recall_curve, roc_curve\n",
    "from sklearn.metrics import f1_score, accuracy_score, roc_auc_score"
   ]
  },
  {
   "cell_type": "markdown",
   "id": "46659f24",
   "metadata": {},
   "source": [
    "Загрузим данные из файла и ознакомимся с таблицей. После первого просмотра данных выяснилось, что в них имеется столбец RowNumber, содержащий номера строк, начиная с 1. Имеет смысл при загрузке данных сделать этот столбец индексным. "
   ]
  },
  {
   "cell_type": "code",
   "execution_count": 2,
   "id": "55ebfd53",
   "metadata": {},
   "outputs": [
    {
     "name": "stdout",
     "output_type": "stream",
     "text": [
      "<class 'pandas.core.frame.DataFrame'>\n",
      "Int64Index: 10000 entries, 1 to 10000\n",
      "Data columns (total 13 columns):\n",
      " #   Column           Non-Null Count  Dtype  \n",
      "---  ------           --------------  -----  \n",
      " 0   CustomerId       10000 non-null  int64  \n",
      " 1   Surname          10000 non-null  object \n",
      " 2   CreditScore      10000 non-null  int64  \n",
      " 3   Geography        10000 non-null  object \n",
      " 4   Gender           10000 non-null  object \n",
      " 5   Age              10000 non-null  int64  \n",
      " 6   Tenure           9091 non-null   float64\n",
      " 7   Balance          10000 non-null  float64\n",
      " 8   NumOfProducts    10000 non-null  int64  \n",
      " 9   HasCrCard        10000 non-null  int64  \n",
      " 10  IsActiveMember   10000 non-null  int64  \n",
      " 11  EstimatedSalary  10000 non-null  float64\n",
      " 12  Exited           10000 non-null  int64  \n",
      "dtypes: float64(3), int64(7), object(3)\n",
      "memory usage: 1.1+ MB\n"
     ]
    }
   ],
   "source": [
    "try:\n",
    "    main_data = pd.read_csv('Churn.csv', index_col='RowNumber')\n",
    "except:\n",
    "    main_data = pd.read_csv('/datasets/Churn.csv', index_col='RowNumber')\n",
    "main_data.info()"
   ]
  },
  {
   "cell_type": "markdown",
   "id": "c3d249f2",
   "metadata": {},
   "source": [
    "В таблице следует изменить названия столбцов с применением змеиного регистра. В столбце Tenure имеются пропуски, которые необходимо заполнить перед обучением будущих моделей.\n",
    "\n",
    "Начнём с изменения названий столбцов и индексов. Воспользуемся одним регулярным выражением и командами для работы со строками."
   ]
  },
  {
   "cell_type": "code",
   "execution_count": 3,
   "id": "4de28141",
   "metadata": {},
   "outputs": [],
   "source": [
    "main_data.columns = main_data.columns.str.replace(r\"([A-Z])\", r\" \\1\", regex=True).str.lower().str.replace(' ', '_').str[1:]\n",
    "main_data.index.name = 'row_number'"
   ]
  },
  {
   "cell_type": "markdown",
   "id": "ff52b108",
   "metadata": {},
   "source": [
    "Посмотрим непосредственно на сами данные."
   ]
  },
  {
   "cell_type": "code",
   "execution_count": 4,
   "id": "3b4564ca",
   "metadata": {},
   "outputs": [
    {
     "data": {
      "text/html": [
       "<div>\n",
       "<style scoped>\n",
       "    .dataframe tbody tr th:only-of-type {\n",
       "        vertical-align: middle;\n",
       "    }\n",
       "\n",
       "    .dataframe tbody tr th {\n",
       "        vertical-align: top;\n",
       "    }\n",
       "\n",
       "    .dataframe thead th {\n",
       "        text-align: right;\n",
       "    }\n",
       "</style>\n",
       "<table border=\"1\" class=\"dataframe\">\n",
       "  <thead>\n",
       "    <tr style=\"text-align: right;\">\n",
       "      <th></th>\n",
       "      <th>customer_id</th>\n",
       "      <th>surname</th>\n",
       "      <th>credit_score</th>\n",
       "      <th>geography</th>\n",
       "      <th>gender</th>\n",
       "      <th>age</th>\n",
       "      <th>tenure</th>\n",
       "      <th>balance</th>\n",
       "      <th>num_of_products</th>\n",
       "      <th>has_cr_card</th>\n",
       "      <th>is_active_member</th>\n",
       "      <th>estimated_salary</th>\n",
       "      <th>exited</th>\n",
       "    </tr>\n",
       "    <tr>\n",
       "      <th>row_number</th>\n",
       "      <th></th>\n",
       "      <th></th>\n",
       "      <th></th>\n",
       "      <th></th>\n",
       "      <th></th>\n",
       "      <th></th>\n",
       "      <th></th>\n",
       "      <th></th>\n",
       "      <th></th>\n",
       "      <th></th>\n",
       "      <th></th>\n",
       "      <th></th>\n",
       "      <th></th>\n",
       "    </tr>\n",
       "  </thead>\n",
       "  <tbody>\n",
       "    <tr>\n",
       "      <th>1</th>\n",
       "      <td>15634602</td>\n",
       "      <td>Hargrave</td>\n",
       "      <td>619</td>\n",
       "      <td>France</td>\n",
       "      <td>Female</td>\n",
       "      <td>42</td>\n",
       "      <td>2.0</td>\n",
       "      <td>0.00</td>\n",
       "      <td>1</td>\n",
       "      <td>1</td>\n",
       "      <td>1</td>\n",
       "      <td>101348.88</td>\n",
       "      <td>1</td>\n",
       "    </tr>\n",
       "    <tr>\n",
       "      <th>2</th>\n",
       "      <td>15647311</td>\n",
       "      <td>Hill</td>\n",
       "      <td>608</td>\n",
       "      <td>Spain</td>\n",
       "      <td>Female</td>\n",
       "      <td>41</td>\n",
       "      <td>1.0</td>\n",
       "      <td>83807.86</td>\n",
       "      <td>1</td>\n",
       "      <td>0</td>\n",
       "      <td>1</td>\n",
       "      <td>112542.58</td>\n",
       "      <td>0</td>\n",
       "    </tr>\n",
       "    <tr>\n",
       "      <th>3</th>\n",
       "      <td>15619304</td>\n",
       "      <td>Onio</td>\n",
       "      <td>502</td>\n",
       "      <td>France</td>\n",
       "      <td>Female</td>\n",
       "      <td>42</td>\n",
       "      <td>8.0</td>\n",
       "      <td>159660.80</td>\n",
       "      <td>3</td>\n",
       "      <td>1</td>\n",
       "      <td>0</td>\n",
       "      <td>113931.57</td>\n",
       "      <td>1</td>\n",
       "    </tr>\n",
       "    <tr>\n",
       "      <th>4</th>\n",
       "      <td>15701354</td>\n",
       "      <td>Boni</td>\n",
       "      <td>699</td>\n",
       "      <td>France</td>\n",
       "      <td>Female</td>\n",
       "      <td>39</td>\n",
       "      <td>1.0</td>\n",
       "      <td>0.00</td>\n",
       "      <td>2</td>\n",
       "      <td>0</td>\n",
       "      <td>0</td>\n",
       "      <td>93826.63</td>\n",
       "      <td>0</td>\n",
       "    </tr>\n",
       "    <tr>\n",
       "      <th>5</th>\n",
       "      <td>15737888</td>\n",
       "      <td>Mitchell</td>\n",
       "      <td>850</td>\n",
       "      <td>Spain</td>\n",
       "      <td>Female</td>\n",
       "      <td>43</td>\n",
       "      <td>2.0</td>\n",
       "      <td>125510.82</td>\n",
       "      <td>1</td>\n",
       "      <td>1</td>\n",
       "      <td>1</td>\n",
       "      <td>79084.10</td>\n",
       "      <td>0</td>\n",
       "    </tr>\n",
       "    <tr>\n",
       "      <th>6</th>\n",
       "      <td>15574012</td>\n",
       "      <td>Chu</td>\n",
       "      <td>645</td>\n",
       "      <td>Spain</td>\n",
       "      <td>Male</td>\n",
       "      <td>44</td>\n",
       "      <td>8.0</td>\n",
       "      <td>113755.78</td>\n",
       "      <td>2</td>\n",
       "      <td>1</td>\n",
       "      <td>0</td>\n",
       "      <td>149756.71</td>\n",
       "      <td>1</td>\n",
       "    </tr>\n",
       "    <tr>\n",
       "      <th>7</th>\n",
       "      <td>15592531</td>\n",
       "      <td>Bartlett</td>\n",
       "      <td>822</td>\n",
       "      <td>France</td>\n",
       "      <td>Male</td>\n",
       "      <td>50</td>\n",
       "      <td>7.0</td>\n",
       "      <td>0.00</td>\n",
       "      <td>2</td>\n",
       "      <td>1</td>\n",
       "      <td>1</td>\n",
       "      <td>10062.80</td>\n",
       "      <td>0</td>\n",
       "    </tr>\n",
       "    <tr>\n",
       "      <th>8</th>\n",
       "      <td>15656148</td>\n",
       "      <td>Obinna</td>\n",
       "      <td>376</td>\n",
       "      <td>Germany</td>\n",
       "      <td>Female</td>\n",
       "      <td>29</td>\n",
       "      <td>4.0</td>\n",
       "      <td>115046.74</td>\n",
       "      <td>4</td>\n",
       "      <td>1</td>\n",
       "      <td>0</td>\n",
       "      <td>119346.88</td>\n",
       "      <td>1</td>\n",
       "    </tr>\n",
       "    <tr>\n",
       "      <th>9</th>\n",
       "      <td>15792365</td>\n",
       "      <td>He</td>\n",
       "      <td>501</td>\n",
       "      <td>France</td>\n",
       "      <td>Male</td>\n",
       "      <td>44</td>\n",
       "      <td>4.0</td>\n",
       "      <td>142051.07</td>\n",
       "      <td>2</td>\n",
       "      <td>0</td>\n",
       "      <td>1</td>\n",
       "      <td>74940.50</td>\n",
       "      <td>0</td>\n",
       "    </tr>\n",
       "    <tr>\n",
       "      <th>10</th>\n",
       "      <td>15592389</td>\n",
       "      <td>H?</td>\n",
       "      <td>684</td>\n",
       "      <td>France</td>\n",
       "      <td>Male</td>\n",
       "      <td>27</td>\n",
       "      <td>2.0</td>\n",
       "      <td>134603.88</td>\n",
       "      <td>1</td>\n",
       "      <td>1</td>\n",
       "      <td>1</td>\n",
       "      <td>71725.73</td>\n",
       "      <td>0</td>\n",
       "    </tr>\n",
       "  </tbody>\n",
       "</table>\n",
       "</div>"
      ],
      "text/plain": [
       "            customer_id   surname  credit_score geography  gender  age  \\\n",
       "row_number                                                               \n",
       "1              15634602  Hargrave           619    France  Female   42   \n",
       "2              15647311      Hill           608     Spain  Female   41   \n",
       "3              15619304      Onio           502    France  Female   42   \n",
       "4              15701354      Boni           699    France  Female   39   \n",
       "5              15737888  Mitchell           850     Spain  Female   43   \n",
       "6              15574012       Chu           645     Spain    Male   44   \n",
       "7              15592531  Bartlett           822    France    Male   50   \n",
       "8              15656148    Obinna           376   Germany  Female   29   \n",
       "9              15792365        He           501    France    Male   44   \n",
       "10             15592389        H?           684    France    Male   27   \n",
       "\n",
       "            tenure    balance  num_of_products  has_cr_card  is_active_member  \\\n",
       "row_number                                                                      \n",
       "1              2.0       0.00                1            1                 1   \n",
       "2              1.0   83807.86                1            0                 1   \n",
       "3              8.0  159660.80                3            1                 0   \n",
       "4              1.0       0.00                2            0                 0   \n",
       "5              2.0  125510.82                1            1                 1   \n",
       "6              8.0  113755.78                2            1                 0   \n",
       "7              7.0       0.00                2            1                 1   \n",
       "8              4.0  115046.74                4            1                 0   \n",
       "9              4.0  142051.07                2            0                 1   \n",
       "10             2.0  134603.88                1            1                 1   \n",
       "\n",
       "            estimated_salary  exited  \n",
       "row_number                            \n",
       "1                  101348.88       1  \n",
       "2                  112542.58       0  \n",
       "3                  113931.57       1  \n",
       "4                   93826.63       0  \n",
       "5                   79084.10       0  \n",
       "6                  149756.71       1  \n",
       "7                   10062.80       0  \n",
       "8                  119346.88       1  \n",
       "9                   74940.50       0  \n",
       "10                  71725.73       0  "
      ]
     },
     "execution_count": 4,
     "metadata": {},
     "output_type": "execute_result"
    }
   ],
   "source": [
    "main_data.head(10)"
   ]
  },
  {
   "cell_type": "markdown",
   "id": "24147507",
   "metadata": {},
   "source": [
    "Столбец Tenure помимо наличия пропусков имеет также вещественный тип данных, но при этом дробная часть чисел никак не используется. Нужно преобразовать тип данных столбца в целочисленный.\n",
    "Сначал заполним пропуски. Для заполнения используем медианное значение по столбцу."
   ]
  },
  {
   "cell_type": "code",
   "execution_count": 5,
   "id": "b5e71b2e",
   "metadata": {},
   "outputs": [
    {
     "data": {
      "text/plain": [
       "0"
      ]
     },
     "execution_count": 5,
     "metadata": {},
     "output_type": "execute_result"
    }
   ],
   "source": [
    "main_data['tenure'].fillna(main_data['tenure'].median(), inplace=True)\n",
    "main_data['tenure'].isna().sum()"
   ]
  },
  {
   "cell_type": "markdown",
   "id": "0eeda85b",
   "metadata": {},
   "source": [
    "Пропуски успешно заполнились медианными значениями. Теперь преобразуем тип данных столбца."
   ]
  },
  {
   "cell_type": "code",
   "execution_count": 6,
   "id": "717afd61",
   "metadata": {
    "scrolled": true
   },
   "outputs": [
    {
     "data": {
      "text/plain": [
       "row_number\n",
       "1    2\n",
       "2    1\n",
       "3    8\n",
       "4    1\n",
       "5    2\n",
       "Name: tenure, dtype: int32"
      ]
     },
     "execution_count": 6,
     "metadata": {},
     "output_type": "execute_result"
    }
   ],
   "source": [
    "main_data['tenure'] = main_data['tenure'].astype('int')\n",
    "main_data['tenure'].head(5)"
   ]
  },
  {
   "cell_type": "markdown",
   "id": "96bcd228",
   "metadata": {},
   "source": [
    "Преобразование типа данных прошло успешно."
   ]
  },
  {
   "cell_type": "markdown",
   "id": "7e99ef50",
   "metadata": {},
   "source": [
    "В четырёх столбцах должно содержаться только не более двух уникальных значений. Проверим это."
   ]
  },
  {
   "cell_type": "code",
   "execution_count": 7,
   "id": "a03b540b",
   "metadata": {},
   "outputs": [
    {
     "data": {
      "text/plain": [
       "array(['Female', 'Male'], dtype=object)"
      ]
     },
     "metadata": {},
     "output_type": "display_data"
    },
    {
     "data": {
      "text/plain": [
       "array([1, 0], dtype=int64)"
      ]
     },
     "metadata": {},
     "output_type": "display_data"
    },
    {
     "data": {
      "text/plain": [
       "array([1, 0], dtype=int64)"
      ]
     },
     "metadata": {},
     "output_type": "display_data"
    },
    {
     "data": {
      "text/plain": [
       "array([1, 0], dtype=int64)"
      ]
     },
     "metadata": {},
     "output_type": "display_data"
    }
   ],
   "source": [
    "display(main_data['gender'].unique())\n",
    "display(main_data['has_cr_card'].unique())\n",
    "display(main_data['is_active_member'].unique())\n",
    "display(main_data['exited'].unique())"
   ]
  },
  {
   "cell_type": "markdown",
   "id": "7aacd57d",
   "metadata": {},
   "source": [
    "C уникальными значениями в рассмотренных столбцах всё в порядке.\n",
    "\n",
    "Проверим также некоторые столбцы на наличие аномальных значений."
   ]
  },
  {
   "cell_type": "code",
   "execution_count": 8,
   "id": "e507791e",
   "metadata": {},
   "outputs": [
    {
     "data": {
      "text/plain": [
       "count    10000.000000\n",
       "mean       650.528800\n",
       "std         96.653299\n",
       "min        350.000000\n",
       "25%        584.000000\n",
       "50%        652.000000\n",
       "75%        718.000000\n",
       "max        850.000000\n",
       "Name: credit_score, dtype: float64"
      ]
     },
     "metadata": {},
     "output_type": "display_data"
    },
    {
     "data": {
      "text/plain": [
       "count     10000.000000\n",
       "mean      76485.889288\n",
       "std       62397.405202\n",
       "min           0.000000\n",
       "25%           0.000000\n",
       "50%       97198.540000\n",
       "75%      127644.240000\n",
       "max      250898.090000\n",
       "Name: balance, dtype: float64"
      ]
     },
     "metadata": {},
     "output_type": "display_data"
    },
    {
     "data": {
      "text/plain": [
       "count     10000.000000\n",
       "mean     100090.239881\n",
       "std       57510.492818\n",
       "min          11.580000\n",
       "25%       51002.110000\n",
       "50%      100193.915000\n",
       "75%      149388.247500\n",
       "max      199992.480000\n",
       "Name: estimated_salary, dtype: float64"
      ]
     },
     "metadata": {},
     "output_type": "display_data"
    }
   ],
   "source": [
    "display(main_data['credit_score'].describe())\n",
    "display(main_data['balance'].describe())\n",
    "display(main_data['estimated_salary'].describe())"
   ]
  },
  {
   "cell_type": "markdown",
   "id": "959b8686",
   "metadata": {},
   "source": [
    "Явных аномалий в столбцах не замечено. Предобработка данных на этом этапе закончена."
   ]
  },
  {
   "cell_type": "markdown",
   "id": "b1f9771f",
   "metadata": {},
   "source": [
    "## Подготовка признаков"
   ]
  },
  {
   "cell_type": "markdown",
   "id": "ab6d7416",
   "metadata": {},
   "source": [
    "В таблице имеются столбцы с категориальными признаками. Необходимо их преобразовать с помощью техники прямого кодирования. При этом не стоит забывать про дамми-ловушку.\n",
    "\n",
    "Перед выполнением прямого кодирования из таблицы следует удалить столбец surname. Он не несёт никакой практической пользы в дальнейшем при обучении моделей, а при прямом кодировании от столбца surname в таблице появится огромное число других столбцов (по числу уникальных значений столбца). Также удалим столбец customer_id, так как он тоже не несёт смысла для обучения моделей."
   ]
  },
  {
   "cell_type": "code",
   "execution_count": 9,
   "id": "dec9a2fb",
   "metadata": {},
   "outputs": [],
   "source": [
    "main_data_p = main_data.drop(['surname','customer_id'], axis=1)\n",
    "main_data_p = pd.get_dummies(main_data_p, drop_first=True)"
   ]
  },
  {
   "cell_type": "code",
   "execution_count": 10,
   "id": "f11c4e84",
   "metadata": {},
   "outputs": [
    {
     "name": "stdout",
     "output_type": "stream",
     "text": [
      "<class 'pandas.core.frame.DataFrame'>\n",
      "Int64Index: 10000 entries, 1 to 10000\n",
      "Data columns (total 12 columns):\n",
      " #   Column             Non-Null Count  Dtype  \n",
      "---  ------             --------------  -----  \n",
      " 0   credit_score       10000 non-null  int64  \n",
      " 1   age                10000 non-null  int64  \n",
      " 2   tenure             10000 non-null  int32  \n",
      " 3   balance            10000 non-null  float64\n",
      " 4   num_of_products    10000 non-null  int64  \n",
      " 5   has_cr_card        10000 non-null  int64  \n",
      " 6   is_active_member   10000 non-null  int64  \n",
      " 7   estimated_salary   10000 non-null  float64\n",
      " 8   exited             10000 non-null  int64  \n",
      " 9   geography_Germany  10000 non-null  uint8  \n",
      " 10  geography_Spain    10000 non-null  uint8  \n",
      " 11  gender_Male        10000 non-null  uint8  \n",
      "dtypes: float64(2), int32(1), int64(6), uint8(3)\n",
      "memory usage: 771.5 KB\n"
     ]
    }
   ],
   "source": [
    "main_data_p.info()"
   ]
  },
  {
   "cell_type": "markdown",
   "id": "6ee7b8c4",
   "metadata": {},
   "source": [
    "Прямое кодирование прошло успешно, избыточные столбцы при этом удалились. Так как в дальнейшем одна из моделей будет линейной, то нужно выполнить масштабирование количественных признаков. Но делать это нужно после разделения на выборки. Масштабирование будет выполнено в разделе 3.\n",
    "\n",
    "Исследуем баланс классов в столбце с целевым признаком."
   ]
  },
  {
   "cell_type": "code",
   "execution_count": 11,
   "id": "71b2d968",
   "metadata": {},
   "outputs": [
    {
     "data": {
      "text/plain": [
       "0    7963\n",
       "1    2037\n",
       "Name: exited, dtype: int64"
      ]
     },
     "execution_count": 11,
     "metadata": {},
     "output_type": "execute_result"
    }
   ],
   "source": [
    "main_data_p['exited'].value_counts()"
   ]
  },
  {
   "cell_type": "markdown",
   "id": "d853dab1",
   "metadata": {},
   "source": [
    "Нулевых значений почти в четыре раза больше, чем единичных. Это нужно учесть в дальнейшем при подготовке выборок (использовать стратификацию по целевому признаку) и при обучении моделей (учесть баланс классов). \n",
    "\n",
    "На этом подготовка и исследование признаков завершены."
   ]
  },
  {
   "cell_type": "markdown",
   "id": "7ebc90d5",
   "metadata": {},
   "source": [
    "## Разбиение данных на обучающую и тестовую выборки"
   ]
  },
  {
   "cell_type": "markdown",
   "id": "a3fff79a",
   "metadata": {},
   "source": [
    "Так как для исследований нет отдельной спрятанной тестовой выборки, то придётся исходный набор данных делить на две выборки: обучающую и тестовую в соотношении 80%:20%. Валидационную выборку выделять нет необходимости, так как при создании моделей либо не будет подбора гиперпараметров, либо будет использоваться функция GridSearchCV, которая будет выделять валидационные выборки самостоятельно. \n",
    "\n",
    "Для получения выборок используем функцию train_test_split. Будем использовать стратификацию по целевым признакам, так как они распределены неравномерно в исходной таблице."
   ]
  },
  {
   "cell_type": "code",
   "execution_count": 12,
   "id": "d71e668e",
   "metadata": {},
   "outputs": [],
   "source": [
    "train_data, test_data = train_test_split(\n",
    "    main_data_p,test_size=0.2,train_size=0.8, stratify=main_data_p['exited'], random_state=123)"
   ]
  },
  {
   "cell_type": "code",
   "execution_count": 13,
   "id": "0d6affec",
   "metadata": {},
   "outputs": [
    {
     "name": "stdout",
     "output_type": "stream",
     "text": [
      "(8000, 12)\n",
      "(2000, 12)\n"
     ]
    }
   ],
   "source": [
    "print(train_data.shape)\n",
    "print(test_data.shape)"
   ]
  },
  {
   "cell_type": "markdown",
   "id": "f1ae5de8",
   "metadata": {},
   "source": [
    "Разбиение данных на выборки прошло успешно. Теперь выделим из выборок обычные и целевые признаки."
   ]
  },
  {
   "cell_type": "code",
   "execution_count": 14,
   "id": "d065eab9",
   "metadata": {},
   "outputs": [],
   "source": [
    "train_valid_features = train_data.drop(columns=['exited'])\n",
    "train_valid_target = train_data['exited']\n",
    "test_features = test_data.drop(columns=['exited'])\n",
    "test_target = test_data['exited']"
   ]
  },
  {
   "cell_type": "markdown",
   "id": "2c3a87f2",
   "metadata": {},
   "source": [
    "Теперь выполним масштабирование количественных признаков. Преобразователь масштаба будет обучаться на обучающей выборке, а затем применяться к обоим выборкам (к обучающей, а также к тестовой). Масштабирование применяется только для обычных признаков (целевые признаки не следует масштабировать)."
   ]
  },
  {
   "cell_type": "code",
   "execution_count": 15,
   "id": "a755b07e",
   "metadata": {},
   "outputs": [
    {
     "data": {
      "text/html": [
       "<div>\n",
       "<style scoped>\n",
       "    .dataframe tbody tr th:only-of-type {\n",
       "        vertical-align: middle;\n",
       "    }\n",
       "\n",
       "    .dataframe tbody tr th {\n",
       "        vertical-align: top;\n",
       "    }\n",
       "\n",
       "    .dataframe thead th {\n",
       "        text-align: right;\n",
       "    }\n",
       "</style>\n",
       "<table border=\"1\" class=\"dataframe\">\n",
       "  <thead>\n",
       "    <tr style=\"text-align: right;\">\n",
       "      <th></th>\n",
       "      <th>credit_score</th>\n",
       "      <th>age</th>\n",
       "      <th>tenure</th>\n",
       "      <th>balance</th>\n",
       "      <th>num_of_products</th>\n",
       "      <th>has_cr_card</th>\n",
       "      <th>is_active_member</th>\n",
       "      <th>estimated_salary</th>\n",
       "      <th>geography_Germany</th>\n",
       "      <th>geography_Spain</th>\n",
       "      <th>gender_Male</th>\n",
       "    </tr>\n",
       "    <tr>\n",
       "      <th>row_number</th>\n",
       "      <th></th>\n",
       "      <th></th>\n",
       "      <th></th>\n",
       "      <th></th>\n",
       "      <th></th>\n",
       "      <th></th>\n",
       "      <th></th>\n",
       "      <th></th>\n",
       "      <th></th>\n",
       "      <th></th>\n",
       "      <th></th>\n",
       "    </tr>\n",
       "  </thead>\n",
       "  <tbody>\n",
       "    <tr>\n",
       "      <th>9386</th>\n",
       "      <td>0.382227</td>\n",
       "      <td>0.487923</td>\n",
       "      <td>1.091605</td>\n",
       "      <td>0.308125</td>\n",
       "      <td>0.825039</td>\n",
       "      <td>1</td>\n",
       "      <td>1</td>\n",
       "      <td>-1.712869</td>\n",
       "      <td>1</td>\n",
       "      <td>0</td>\n",
       "      <td>1</td>\n",
       "    </tr>\n",
       "    <tr>\n",
       "      <th>2156</th>\n",
       "      <td>0.101876</td>\n",
       "      <td>-0.379067</td>\n",
       "      <td>0.365743</td>\n",
       "      <td>0.394675</td>\n",
       "      <td>-0.914174</td>\n",
       "      <td>1</td>\n",
       "      <td>0</td>\n",
       "      <td>-1.409809</td>\n",
       "      <td>0</td>\n",
       "      <td>0</td>\n",
       "      <td>0</td>\n",
       "    </tr>\n",
       "    <tr>\n",
       "      <th>769</th>\n",
       "      <td>0.351077</td>\n",
       "      <td>0.198926</td>\n",
       "      <td>-1.085979</td>\n",
       "      <td>0.699392</td>\n",
       "      <td>0.825039</td>\n",
       "      <td>0</td>\n",
       "      <td>0</td>\n",
       "      <td>0.349622</td>\n",
       "      <td>0</td>\n",
       "      <td>1</td>\n",
       "      <td>1</td>\n",
       "    </tr>\n",
       "  </tbody>\n",
       "</table>\n",
       "</div>"
      ],
      "text/plain": [
       "            credit_score       age    tenure   balance  num_of_products  \\\n",
       "row_number                                                                \n",
       "9386            0.382227  0.487923  1.091605  0.308125         0.825039   \n",
       "2156            0.101876 -0.379067  0.365743  0.394675        -0.914174   \n",
       "769             0.351077  0.198926 -1.085979  0.699392         0.825039   \n",
       "\n",
       "            has_cr_card  is_active_member  estimated_salary  \\\n",
       "row_number                                                    \n",
       "9386                  1                 1         -1.712869   \n",
       "2156                  1                 0         -1.409809   \n",
       "769                   0                 0          0.349622   \n",
       "\n",
       "            geography_Germany  geography_Spain  gender_Male  \n",
       "row_number                                                   \n",
       "9386                        1                0            1  \n",
       "2156                        0                0            0  \n",
       "769                         0                1            1  "
      ]
     },
     "metadata": {},
     "output_type": "display_data"
    },
    {
     "data": {
      "text/html": [
       "<div>\n",
       "<style scoped>\n",
       "    .dataframe tbody tr th:only-of-type {\n",
       "        vertical-align: middle;\n",
       "    }\n",
       "\n",
       "    .dataframe tbody tr th {\n",
       "        vertical-align: top;\n",
       "    }\n",
       "\n",
       "    .dataframe thead th {\n",
       "        text-align: right;\n",
       "    }\n",
       "</style>\n",
       "<table border=\"1\" class=\"dataframe\">\n",
       "  <thead>\n",
       "    <tr style=\"text-align: right;\">\n",
       "      <th></th>\n",
       "      <th>credit_score</th>\n",
       "      <th>age</th>\n",
       "      <th>tenure</th>\n",
       "      <th>balance</th>\n",
       "      <th>num_of_products</th>\n",
       "      <th>has_cr_card</th>\n",
       "      <th>is_active_member</th>\n",
       "      <th>estimated_salary</th>\n",
       "      <th>geography_Germany</th>\n",
       "      <th>geography_Spain</th>\n",
       "      <th>gender_Male</th>\n",
       "    </tr>\n",
       "    <tr>\n",
       "      <th>row_number</th>\n",
       "      <th></th>\n",
       "      <th></th>\n",
       "      <th></th>\n",
       "      <th></th>\n",
       "      <th></th>\n",
       "      <th></th>\n",
       "      <th></th>\n",
       "      <th></th>\n",
       "      <th></th>\n",
       "      <th></th>\n",
       "      <th></th>\n",
       "    </tr>\n",
       "  </thead>\n",
       "  <tbody>\n",
       "    <tr>\n",
       "      <th>2376</th>\n",
       "      <td>1.711299</td>\n",
       "      <td>0.006262</td>\n",
       "      <td>0.365743</td>\n",
       "      <td>-1.220239</td>\n",
       "      <td>-0.914174</td>\n",
       "      <td>1</td>\n",
       "      <td>1</td>\n",
       "      <td>-0.261602</td>\n",
       "      <td>0</td>\n",
       "      <td>1</td>\n",
       "      <td>0</td>\n",
       "    </tr>\n",
       "    <tr>\n",
       "      <th>2822</th>\n",
       "      <td>0.662579</td>\n",
       "      <td>-0.571732</td>\n",
       "      <td>1.817466</td>\n",
       "      <td>0.432377</td>\n",
       "      <td>0.825039</td>\n",
       "      <td>1</td>\n",
       "      <td>1</td>\n",
       "      <td>-0.879423</td>\n",
       "      <td>0</td>\n",
       "      <td>1</td>\n",
       "      <td>0</td>\n",
       "    </tr>\n",
       "    <tr>\n",
       "      <th>6970</th>\n",
       "      <td>-0.323842</td>\n",
       "      <td>-0.090071</td>\n",
       "      <td>0.365743</td>\n",
       "      <td>-1.220239</td>\n",
       "      <td>0.825039</td>\n",
       "      <td>1</td>\n",
       "      <td>1</td>\n",
       "      <td>0.303177</td>\n",
       "      <td>0</td>\n",
       "      <td>1</td>\n",
       "      <td>0</td>\n",
       "    </tr>\n",
       "  </tbody>\n",
       "</table>\n",
       "</div>"
      ],
      "text/plain": [
       "            credit_score       age    tenure   balance  num_of_products  \\\n",
       "row_number                                                                \n",
       "2376            1.711299  0.006262  0.365743 -1.220239        -0.914174   \n",
       "2822            0.662579 -0.571732  1.817466  0.432377         0.825039   \n",
       "6970           -0.323842 -0.090071  0.365743 -1.220239         0.825039   \n",
       "\n",
       "            has_cr_card  is_active_member  estimated_salary  \\\n",
       "row_number                                                    \n",
       "2376                  1                 1         -0.261602   \n",
       "2822                  1                 1         -0.879423   \n",
       "6970                  1                 1          0.303177   \n",
       "\n",
       "            geography_Germany  geography_Spain  gender_Male  \n",
       "row_number                                                   \n",
       "2376                        0                1            0  \n",
       "2822                        0                1            0  \n",
       "6970                        0                1            0  "
      ]
     },
     "metadata": {},
     "output_type": "display_data"
    }
   ],
   "source": [
    "numeric = ['credit_score','age', 'tenure','balance','num_of_products','estimated_salary']\n",
    "scaler = StandardScaler()\n",
    "\n",
    "scaler.fit(train_valid_features[numeric])\n",
    "train_valid_features[numeric] = scaler.transform(train_valid_features[numeric])\n",
    "test_features[numeric] = scaler.transform(test_features[numeric])\n",
    "\n",
    "display(train_valid_features.head(3))\n",
    "display(test_features.head(3))"
   ]
  },
  {
   "cell_type": "markdown",
   "id": "9b03e02a",
   "metadata": {},
   "source": [
    "Масштабирование прошло успешно."
   ]
  },
  {
   "cell_type": "markdown",
   "id": "9fd292d0",
   "metadata": {},
   "source": [
    "## Построение константной модели"
   ]
  },
  {
   "cell_type": "markdown",
   "id": "369a7eaf",
   "metadata": {},
   "source": [
    "Чтобы лучше осознавать адекватность построения будущих моделей, посчитаем метрики качества для константной модели, которая будет всегда предсказывать единичные значения."
   ]
  },
  {
   "cell_type": "code",
   "execution_count": 16,
   "id": "824c41ed",
   "metadata": {
    "scrolled": true
   },
   "outputs": [
    {
     "name": "stdout",
     "output_type": "stream",
     "text": [
      "Константная модель имеет значение accuracy: 0.20350\n",
      "Константная модель имеет значение F1-меры: 0.33818\n",
      "Константная модель имеет значение AUC-ROC: 0.50000\n"
     ]
    }
   ],
   "source": [
    "dummy_model = DummyClassifier(strategy='constant', constant=1, random_state=123)\n",
    "dummy_model.fit(train_valid_features, train_valid_target)\n",
    "test_predictions = dummy_model.predict(test_features)\n",
    "score1 = accuracy_score(test_target, test_predictions)\n",
    "score2 = f1_score(test_target, test_predictions)\n",
    "test_probabilities_one = dummy_model.predict_proba(test_features)[:,1]\n",
    "score3 = roc_auc_score(test_target, test_probabilities_one)\n",
    "print(f'Константная модель имеет значение accuracy: {score1:.5f}')\n",
    "print(f'Константная модель имеет значение F1-меры: {score2:.5f}')\n",
    "print(f'Константная модель имеет значение AUC-ROC: {score3:.5f}')"
   ]
  },
  {
   "cell_type": "markdown",
   "id": "667082b5",
   "metadata": {},
   "source": [
    "**Вывод:** при построении константной модели, предсказывающей всегда единичные значения, получились ожидаемо крайне низкие значения метрик качества. Планируемые к построению в дальнейшем реальные модели должны значительно превысить значения рассмотренных метрики качества, особенно F1-меру."
   ]
  },
  {
   "cell_type": "markdown",
   "id": "ea1ba3af",
   "metadata": {},
   "source": [
    "## Построение модели без учёта дисбаланса классов"
   ]
  },
  {
   "cell_type": "markdown",
   "id": "f99dac96",
   "metadata": {},
   "source": [
    "Построим модель логистической регрессии без учёта дисбаланса классов. Так как в этой модели не будет подбора гиперпараметров, то обучать её можно сразу на обучающей выборке. Предсказания модели будем получать по тестовой выборке. \n",
    "\n",
    "Так как в дальнейшем код создания и обучения модели будет повторяться, напишем функцию."
   ]
  },
  {
   "cell_type": "code",
   "execution_count": 17,
   "id": "a61ae155",
   "metadata": {},
   "outputs": [
    {
     "name": "stdout",
     "output_type": "stream",
     "text": [
      "Модель логистической регрессии имеет значение accuracy: 0.81100\n",
      "Модель логистической регрессии имеет значение F1-меры: 0.33684\n",
      "Модель логистической регрессии имеет значение AUC-ROC: 0.75764\n"
     ]
    }
   ],
   "source": [
    "def logistic_regression_routine(train_features, train_target, class_weight):\n",
    "    model = LogisticRegression(class_weight=class_weight, solver='liblinear', random_state=123)\n",
    "    model.fit(train_features, train_target)\n",
    "    test_predictions = model.predict(test_features)\n",
    "    score1 = accuracy_score(test_target, test_predictions)\n",
    "    score2 = f1_score(test_target, test_predictions)\n",
    "    test_probabilities_one = model.predict_proba(test_features)[:,1]\n",
    "    score3 = roc_auc_score(test_target, test_probabilities_one)\n",
    "    print(f'Модель логистической регрессии имеет значение accuracy: {score1:.5f}')\n",
    "    print(f'Модель логистической регрессии имеет значение F1-меры: {score2:.5f}')\n",
    "    print(f'Модель логистической регрессии имеет значение AUC-ROC: {score3:.5f}')\n",
    "\n",
    "logistic_regression_routine(train_valid_features, train_valid_target, None)"
   ]
  },
  {
   "cell_type": "markdown",
   "id": "39b1e5c9",
   "metadata": {},
   "source": [
    "**Вывод:** при построении модели логистической регрессии без учёта дисбаланса классов получилось неудовлетворительное значение F1-меры, практически равное аналогичному значению для константной модели. Поэтому целесообразно учитывать дисбаланс классов."
   ]
  },
  {
   "cell_type": "markdown",
   "id": "f72c7815",
   "metadata": {},
   "source": [
    "## Построение моделей с учётом дисбаланса классов"
   ]
  },
  {
   "cell_type": "markdown",
   "id": "b5cb48d4",
   "metadata": {},
   "source": [
    "### Модель логистической регрессии"
   ]
  },
  {
   "cell_type": "markdown",
   "id": "d0231a41",
   "metadata": {},
   "source": [
    "Рассмотрим заново модель логистической регрессии. Вначале попробуем учесть вес классов через параметр class_weight."
   ]
  },
  {
   "cell_type": "code",
   "execution_count": 18,
   "id": "5eafea8d",
   "metadata": {},
   "outputs": [
    {
     "name": "stdout",
     "output_type": "stream",
     "text": [
      "Модель логистической регрессии имеет значение accuracy: 0.69500\n",
      "Модель логистической регрессии имеет значение F1-меры: 0.47049\n",
      "Модель логистической регрессии имеет значение AUC-ROC: 0.76154\n"
     ]
    }
   ],
   "source": [
    "logistic_regression_routine(train_valid_features, train_valid_target, 'balanced')"
   ]
  },
  {
   "cell_type": "markdown",
   "id": "d740252e",
   "metadata": {},
   "source": [
    "Взвешивание классов помогло, но ещё далеко до требуемого значения 0.59 для F1-меры. Надо применять ещё другие методы.\n",
    "\n",
    "Попробуем выполнить увеличение обучающей выборки, добавив объекты с единичными значениями целевого признака. После этого заново обучим модель и посмотрим на результаты."
   ]
  },
  {
   "cell_type": "code",
   "execution_count": 19,
   "id": "e21b07ce",
   "metadata": {},
   "outputs": [
    {
     "name": "stdout",
     "output_type": "stream",
     "text": [
      "(12890, 11)\n",
      "(12890,)\n",
      "1    6520\n",
      "0    6370\n",
      "Name: exited, dtype: int64\n"
     ]
    }
   ],
   "source": [
    "def upsample(features, target, repeat):\n",
    "    features_zeros = features[target == 0]\n",
    "    features_ones = features[target == 1]\n",
    "    target_zeros = target[target == 0]\n",
    "    target_ones = target[target == 1]\n",
    "    features_upsampled = pd.concat([features_zeros] + [features_ones] * repeat)\n",
    "    target_upsampled = pd.concat([target_zeros] + [target_ones] * repeat)\n",
    "    features_upsampled, target_upsampled = shuffle(features_upsampled, target_upsampled, random_state=12345)\n",
    "    return features_upsampled, target_upsampled\n",
    "\n",
    "features_upsampled, target_upsampled = upsample(train_valid_features, train_valid_target, 4)\n",
    "print(features_upsampled.shape)\n",
    "print(target_upsampled.shape)\n",
    "print(target_upsampled.value_counts())"
   ]
  },
  {
   "cell_type": "markdown",
   "id": "01bcfe58",
   "metadata": {},
   "source": [
    "Увеличение обучающей выборки прошло успешно. Теперь обучим модель. "
   ]
  },
  {
   "cell_type": "code",
   "execution_count": 20,
   "id": "b8a0789f",
   "metadata": {},
   "outputs": [
    {
     "name": "stdout",
     "output_type": "stream",
     "text": [
      "Модель логистической регрессии имеет значение accuracy: 0.69450\n",
      "Модель логистической регрессии имеет значение F1-меры: 0.47008\n",
      "Модель логистической регрессии имеет значение AUC-ROC: 0.76154\n"
     ]
    }
   ],
   "source": [
    "logistic_regression_routine(features_upsampled, target_upsampled, 'balanced')"
   ]
  },
  {
   "cell_type": "markdown",
   "id": "d3b237c9",
   "metadata": {},
   "source": [
    "Метрики качества практически не изменились. Попробуем уменьшить обучающую выборку, удалив объекты с нулевым значением целевого признака."
   ]
  },
  {
   "cell_type": "code",
   "execution_count": 21,
   "id": "c58f3578",
   "metadata": {},
   "outputs": [
    {
     "name": "stdout",
     "output_type": "stream",
     "text": [
      "(3222, 11)\n",
      "(3222,)\n",
      "1    1630\n",
      "0    1592\n",
      "Name: exited, dtype: int64\n"
     ]
    }
   ],
   "source": [
    "def downsample(features, target, fraction):\n",
    "    features_zeros = features[target == 0]\n",
    "    features_ones = features[target == 1]\n",
    "    target_zeros = target[target == 0]\n",
    "    target_ones = target[target == 1]\n",
    "\n",
    "    features_downsampled = pd.concat(\n",
    "        [features_zeros.sample(frac=fraction, random_state=12345)] + [features_ones])\n",
    "    target_downsampled = pd.concat(\n",
    "        [target_zeros.sample(frac=fraction, random_state=12345)] + [target_ones])\n",
    "    \n",
    "    features_downsampled, target_downsampled = shuffle(\n",
    "        features_downsampled, target_downsampled, random_state=12345)\n",
    "    \n",
    "    return features_downsampled, target_downsampled\n",
    "\n",
    "features_downsampled, target_downsampled = downsample(train_valid_features, train_valid_target, 0.25)\n",
    "print(features_downsampled.shape)\n",
    "print(target_downsampled.shape)\n",
    "print(target_downsampled.value_counts())"
   ]
  },
  {
   "cell_type": "markdown",
   "id": "5ee9cad5",
   "metadata": {},
   "source": [
    "Уменьшение выборки прошло корректно. Теперь обучим модель."
   ]
  },
  {
   "cell_type": "code",
   "execution_count": 22,
   "id": "fc1d0cdc",
   "metadata": {},
   "outputs": [
    {
     "name": "stdout",
     "output_type": "stream",
     "text": [
      "Модель логистической регрессии имеет значение accuracy: 0.70450\n",
      "Модель логистической регрессии имеет значение F1-меры: 0.48474\n",
      "Модель логистической регрессии имеет значение AUC-ROC: 0.76176\n"
     ]
    }
   ],
   "source": [
    "logistic_regression_routine(features_downsampled, target_downsampled, 'balanced')"
   ]
  },
  {
   "cell_type": "markdown",
   "id": "a21abb4b",
   "metadata": {},
   "source": [
    "Есть незначительное улучшение в метриках качества, но результат по-прежнему неудовлетворительный. Попробуем теперь изменить порог классификации. Для обучения при этом будет использовать уменьшенные выборки, так как с ними был лучший результат."
   ]
  },
  {
   "cell_type": "code",
   "execution_count": 23,
   "id": "94d61abe",
   "metadata": {},
   "outputs": [
    {
     "name": "stdout",
     "output_type": "stream",
     "text": [
      "Порог = 0.40 | F1-мера = 0.46653\n",
      "Порог = 0.40 | Accuracy = 0.62150\n",
      "\n",
      "Порог = 0.42 | F1-мера = 0.46793\n",
      "Порог = 0.42 | Accuracy = 0.63500\n",
      "\n",
      "Порог = 0.44 | F1-мера = 0.47328\n",
      "Порог = 0.44 | Accuracy = 0.65500\n",
      "\n",
      "Порог = 0.46 | F1-мера = 0.47861\n",
      "Порог = 0.46 | Accuracy = 0.67100\n",
      "\n",
      "Порог = 0.48 | F1-мера = 0.48465\n",
      "Порог = 0.48 | Accuracy = 0.68950\n",
      "\n",
      "Порог = 0.50 | F1-мера = 0.48474\n",
      "Порог = 0.50 | Accuracy = 0.70450\n",
      "\n",
      "Порог = 0.52 | F1-мера = 0.47834\n",
      "Порог = 0.52 | Accuracy = 0.71100\n",
      "\n",
      "Порог = 0.54 | F1-мера = 0.47413\n",
      "Порог = 0.54 | Accuracy = 0.72050\n",
      "\n",
      "Порог = 0.56 | F1-мера = 0.47233\n",
      "Порог = 0.56 | Accuracy = 0.73300\n",
      "\n",
      "Порог = 0.58 | F1-мера = 0.47727\n",
      "Порог = 0.58 | Accuracy = 0.74700\n",
      "\n",
      "Порог = 0.60 | F1-мера = 0.47391\n",
      "Порог = 0.60 | Accuracy = 0.75800\n",
      "\n",
      "Порог = 0.62 | F1-мера = 0.46606\n",
      "Порог = 0.62 | Accuracy = 0.76400\n",
      "\n",
      "Порог = 0.64 | F1-мера = 0.47393\n",
      "Порог = 0.64 | Accuracy = 0.77800\n",
      "\n",
      "Порог = 0.66 | F1-мера = 0.47525\n",
      "Порог = 0.66 | Accuracy = 0.78800\n",
      "\n",
      "Порог = 0.68 | F1-мера = 0.46034\n",
      "Порог = 0.68 | Accuracy = 0.79250\n",
      "\n",
      "Порог = 0.70 | F1-мера = 0.45013\n",
      "Порог = 0.70 | Accuracy = 0.79600\n",
      "\n",
      "Порог = 0.72 | F1-мера = 0.43759\n",
      "Порог = 0.72 | Accuracy = 0.79950\n",
      "\n",
      "Порог = 0.74 | F1-мера = 0.41481\n",
      "Порог = 0.74 | Accuracy = 0.80250\n",
      "\n",
      "Порог = 0.76 | F1-мера = 0.39130\n",
      "Порог = 0.76 | Accuracy = 0.80400\n",
      "\n",
      "Порог = 0.78 | F1-мера = 0.35447\n",
      "Порог = 0.78 | Accuracy = 0.80150\n",
      "\n",
      "Порог = 0.80 | F1-мера = 0.33904\n",
      "Порог = 0.80 | Accuracy = 0.80700\n",
      "\n"
     ]
    }
   ],
   "source": [
    "model = LogisticRegression(class_weight='balanced', solver='liblinear', random_state=123)\n",
    "model.fit(features_downsampled, target_downsampled)\n",
    "test_probabilities_one = model.predict_proba(test_features)[:,1]\n",
    "for threshold in np.arange(0.4, 0.81, 0.02):\n",
    "    test_predicted = test_probabilities_one > threshold\n",
    "    f1_score1 = f1_score(test_target, test_predicted)\n",
    "    accuracy_score1 = accuracy_score(test_target, test_predicted)\n",
    "    print(f'Порог = {threshold:.2f} | F1-мера = {f1_score1:.5f}')\n",
    "    print(f'Порог = {threshold:.2f} | Accuracy = {accuracy_score1:.5f}\\n')"
   ]
  },
  {
   "cell_type": "markdown",
   "id": "12caea60",
   "metadata": {},
   "source": [
    "Изменение порога не приводит к требуемым результатам. Самые лучшие результаты - при стандартном пороге, равном 0.5. \n",
    "\n",
    "**Вывод:** при построении модели логистической регрессии наилучшие значения метрик качества были получены при учёте дисбаланса классов в гиперпараметре class_weight, а также при обучении модели на уменьшенной выборке. Результаты наилучшие для рассмотренной модели, но неудовлетворительные в рамках решения поставленной в проекте задачи. Следует рассмотреть другие модели."
   ]
  },
  {
   "cell_type": "markdown",
   "id": "dc7d164c",
   "metadata": {},
   "source": [
    "### Модель \"Дерево решений\""
   ]
  },
  {
   "cell_type": "markdown",
   "id": "f2fdb313",
   "metadata": {},
   "source": [
    "Перед экспериментами с дисбалансом классов в модели \"Дерево решений\" необходимо сначала подобрать её оптимальные гиперпараметры. Для подбора гиперпараметров воспользуемся функцией GridSearchCV. Так как в проекте требуется получить максимальное значение метрики F1, то укажем её в параметре scoring. Именно по значению этой метрики функция GridSearchCV будет подбирать гиперпараметры.\n",
    "\n",
    "Используем для подбора четыре разных параметра модели, в том числе class_weight, отвечающий за взвешивание классов."
   ]
  },
  {
   "cell_type": "code",
   "execution_count": 24,
   "id": "477811c5",
   "metadata": {},
   "outputs": [
    {
     "name": "stdout",
     "output_type": "stream",
     "text": [
      "CPU times: total: 1.56 s\n",
      "Wall time: 6.06 s\n"
     ]
    },
    {
     "data": {
      "text/plain": [
       "GridSearchCV(cv=5, estimator=DecisionTreeClassifier(random_state=123),\n",
       "             n_jobs=-1,\n",
       "             param_grid={'class_weight': ['balanced', None],\n",
       "                         'max_depth': range(1, 10),\n",
       "                         'min_samples_leaf': range(1, 12),\n",
       "                         'min_samples_split': range(2, 7, 2)},\n",
       "             scoring='f1')"
      ]
     },
     "execution_count": 24,
     "metadata": {},
     "output_type": "execute_result"
    }
   ],
   "source": [
    "%%time\n",
    "\n",
    "estimator = DecisionTreeClassifier(random_state=123)\n",
    "parameters = {'max_depth': range(1,10),\n",
    "              'min_samples_split': range(2,7,2),\n",
    "              'min_samples_leaf': range (1,12),\n",
    "              'class_weight':['balanced', None]\n",
    "             }\n",
    "clf1 = GridSearchCV(estimator, parameters, scoring='f1', cv=5, n_jobs=-1)\n",
    "clf1.fit(train_valid_features, train_valid_target)"
   ]
  },
  {
   "cell_type": "code",
   "execution_count": 25,
   "id": "7870a1bd",
   "metadata": {},
   "outputs": [
    {
     "data": {
      "text/plain": [
       "{'class_weight': 'balanced',\n",
       " 'max_depth': 8,\n",
       " 'min_samples_leaf': 8,\n",
       " 'min_samples_split': 2}"
      ]
     },
     "metadata": {},
     "output_type": "display_data"
    },
    {
     "data": {
      "text/plain": [
       "DecisionTreeClassifier(class_weight='balanced', max_depth=8, min_samples_leaf=8,\n",
       "                       random_state=123)"
      ]
     },
     "metadata": {},
     "output_type": "display_data"
    },
    {
     "data": {
      "text/plain": [
       "0.5727878756319179"
      ]
     },
     "metadata": {},
     "output_type": "display_data"
    }
   ],
   "source": [
    "display(clf1.best_params_)\n",
    "display(clf1.best_estimator_)\n",
    "display(clf1.best_score_)"
   ]
  },
  {
   "cell_type": "markdown",
   "id": "36cdaeef",
   "metadata": {},
   "source": [
    "Теперь создадим модель \"Дерево решений\" с подобранными гиперпараметрами и посчитаем получившиеся метрики качества. Снова создадим функцию, так как в дальнейшем аналогичный код будет вызываться повторно.\n",
    "\n",
    "При подборе гиперпараметров лучшее значение целевой метрики получилось при учёте взвешивания классов. Поэтому далее тоже будем его учитывать."
   ]
  },
  {
   "cell_type": "code",
   "execution_count": 26,
   "id": "fd17cdf5",
   "metadata": {},
   "outputs": [
    {
     "name": "stdout",
     "output_type": "stream",
     "text": [
      "Модель \"Дерево решений\" имеет значение accuracy: 0.77850\n",
      "Модель \"Дерево решений\" имеет значение F1-меры: 0.56948\n",
      "Модель \"Дерево решений\" имеет значение AUC-ROC: 0.83190\n"
     ]
    }
   ],
   "source": [
    "def tree_decision_routine(train_features, train_target):\n",
    "    model = clf1.best_estimator_\n",
    "    model.fit(train_features, train_target)\n",
    "    test_predictions = model.predict(test_features)\n",
    "    score1 = accuracy_score(test_target, test_predictions)\n",
    "    score2 = f1_score(test_target, test_predictions)\n",
    "    test_probabilities_one = model.predict_proba(test_features)[:,1]\n",
    "    score3 = roc_auc_score(test_target, test_probabilities_one)\n",
    "    print(f'Модель \"Дерево решений\" имеет значение accuracy: {score1:.5f}')\n",
    "    print(f'Модель \"Дерево решений\" имеет значение F1-меры: {score2:.5f}')\n",
    "    print(f'Модель \"Дерево решений\" имеет значение AUC-ROC: {score3:.5f}')\n",
    "\n",
    "tree_decision_routine(train_valid_features, train_valid_target)    "
   ]
  },
  {
   "cell_type": "markdown",
   "id": "e5bf2589",
   "metadata": {},
   "source": [
    "Метрика F1 стала лучше (в сравнении с логистической регрессией), но требуемое значение 0.59 ещё не достигнуто.\n",
    "\n",
    "Попробуем учесть дисбаланс классов с помощью техники увеличения выборки. Ранее в разделе 6.1 увеличенные выборки уже были созданы, поэтому просто используем их."
   ]
  },
  {
   "cell_type": "code",
   "execution_count": 27,
   "id": "a312ba22",
   "metadata": {},
   "outputs": [
    {
     "name": "stdout",
     "output_type": "stream",
     "text": [
      "Модель \"Дерево решений\" имеет значение accuracy: 0.79000\n",
      "Модель \"Дерево решений\" имеет значение F1-меры: 0.57404\n",
      "Модель \"Дерево решений\" имеет значение AUC-ROC: 0.82955\n"
     ]
    }
   ],
   "source": [
    "tree_decision_routine(features_upsampled, target_upsampled) "
   ]
  },
  {
   "cell_type": "markdown",
   "id": "ce01f306",
   "metadata": {},
   "source": [
    "Метрики качества кроме AUC-ROC немного улучшились. Попробуем использовать технику уменьшения выборки."
   ]
  },
  {
   "cell_type": "code",
   "execution_count": 28,
   "id": "38352d55",
   "metadata": {},
   "outputs": [
    {
     "name": "stdout",
     "output_type": "stream",
     "text": [
      "Модель \"Дерево решений\" имеет значение accuracy: 0.76100\n",
      "Модель \"Дерево решений\" имеет значение F1-меры: 0.55327\n",
      "Модель \"Дерево решений\" имеет значение AUC-ROC: 0.82132\n"
     ]
    }
   ],
   "source": [
    "tree_decision_routine(features_downsampled, target_downsampled) "
   ]
  },
  {
   "cell_type": "markdown",
   "id": "36ef441d",
   "metadata": {},
   "source": [
    "Значения всех метрик качества ухудшились. Теперь попробуем изменить порог классификации."
   ]
  },
  {
   "cell_type": "code",
   "execution_count": 29,
   "id": "48319b92",
   "metadata": {},
   "outputs": [
    {
     "name": "stdout",
     "output_type": "stream",
     "text": [
      "Порог = 0.40 | F1-мера = 0.53922\n",
      "Порог = 0.40 | Accuracy = 0.71800\n",
      "\n",
      "Порог = 0.42 | F1-мера = 0.54836\n",
      "Порог = 0.42 | Accuracy = 0.73150\n",
      "\n",
      "Порог = 0.44 | F1-мера = 0.56050\n",
      "Порог = 0.44 | Accuracy = 0.75300\n",
      "\n",
      "Порог = 0.46 | F1-мера = 0.56261\n",
      "Порог = 0.46 | Accuracy = 0.75900\n",
      "\n",
      "Порог = 0.48 | F1-мера = 0.56261\n",
      "Порог = 0.48 | Accuracy = 0.75900\n",
      "\n",
      "Порог = 0.50 | F1-мера = 0.56948\n",
      "Порог = 0.50 | Accuracy = 0.77850\n",
      "\n",
      "Порог = 0.52 | F1-мера = 0.56751\n",
      "Порог = 0.52 | Accuracy = 0.77900\n",
      "\n",
      "Порог = 0.54 | F1-мера = 0.57570\n",
      "Порог = 0.54 | Accuracy = 0.78700\n",
      "\n",
      "Порог = 0.56 | F1-мера = 0.59306\n",
      "Порог = 0.56 | Accuracy = 0.80650\n",
      "\n",
      "Порог = 0.58 | F1-мера = 0.60236\n",
      "Порог = 0.58 | Accuracy = 0.81450\n",
      "\n",
      "Порог = 0.60 | F1-мера = 0.60430\n",
      "Порог = 0.60 | Accuracy = 0.81600\n",
      "\n",
      "Порог = 0.62 | F1-мера = 0.60304\n",
      "Порог = 0.62 | Accuracy = 0.81700\n",
      "\n",
      "Порог = 0.64 | F1-мера = 0.59801\n",
      "Порог = 0.64 | Accuracy = 0.81850\n",
      "\n",
      "Порог = 0.66 | F1-мера = 0.59705\n",
      "Порог = 0.66 | Accuracy = 0.82250\n",
      "\n",
      "Порог = 0.68 | F1-мера = 0.59629\n",
      "Порог = 0.68 | Accuracy = 0.82600\n",
      "\n",
      "Порог = 0.70 | F1-мера = 0.61303\n",
      "Порог = 0.70 | Accuracy = 0.84850\n",
      "\n",
      "Порог = 0.72 | F1-мера = 0.61230\n",
      "Порог = 0.72 | Accuracy = 0.85500\n",
      "\n",
      "Порог = 0.74 | F1-мера = 0.61012\n",
      "Порог = 0.74 | Accuracy = 0.85750\n",
      "\n",
      "Порог = 0.76 | F1-мера = 0.61348\n",
      "Порог = 0.76 | Accuracy = 0.85950\n",
      "\n",
      "Порог = 0.78 | F1-мера = 0.59856\n",
      "Порог = 0.78 | Accuracy = 0.86050\n",
      "\n",
      "Порог = 0.80 | F1-мера = 0.58841\n",
      "Порог = 0.80 | Accuracy = 0.86150\n",
      "\n"
     ]
    }
   ],
   "source": [
    "model = clf1.best_estimator_\n",
    "model.fit(train_valid_features, train_valid_target)\n",
    "test_probabilities_one = model.predict_proba(test_features)[:,1]\n",
    "for threshold in np.arange(0.4, 0.81, 0.02):\n",
    "    test_predicted = test_probabilities_one > threshold\n",
    "    f1_score1 = f1_score(test_target, test_predicted)\n",
    "    accuracy_score1 = accuracy_score(test_target, test_predicted)\n",
    "    print(f'Порог = {threshold:.2f} | F1-мера = {f1_score1:.5f}')\n",
    "    print(f'Порог = {threshold:.2f} | Accuracy = {accuracy_score1:.5f}\\n')"
   ]
  },
  {
   "cell_type": "markdown",
   "id": "1a40dbe5",
   "metadata": {},
   "source": [
    "Значения двух метрик качества максимальны при пороге 0,76."
   ]
  },
  {
   "cell_type": "markdown",
   "id": "8091f363",
   "metadata": {},
   "source": [
    "**Вывод:** при построении модели \"Дерево решений\" наилучшие значения метрик качества были получены при подборе гиперпараметров, при учёте взвешивания классов, а также при увеличении порога классификации до 0,76. При увеличении порога достигается требуемое значение F1-меры. Рассмотрим далее последнюю модель."
   ]
  },
  {
   "cell_type": "markdown",
   "id": "9172ed81",
   "metadata": {},
   "source": [
    "### Модель \"Случайный лес\""
   ]
  },
  {
   "cell_type": "markdown",
   "id": "e8172905",
   "metadata": {},
   "source": [
    "Рассмотрим модель \"Случайный лес\" и подберём её оптимальные гиперпараметры функцией GridSearchCV. Так как в проекте требуется получить максимальное значение метрики F1, то укажем её в параметре scoring. Именно по значению этой метрики функция GridSearchCV будет подбирать гиперпараметры. Для ускорения обучения модели применим гиперпараметр n_jobs=-1, что означает использование всех ядер и потоков процессора.\n",
    "\n",
    "Используем для подбора три параметра модели, в том числе class_weight, отвечающий за дисбаланс классов."
   ]
  },
  {
   "cell_type": "code",
   "execution_count": 30,
   "id": "cd0bc441",
   "metadata": {},
   "outputs": [
    {
     "name": "stdout",
     "output_type": "stream",
     "text": [
      "CPU times: total: 1.97 s\n",
      "Wall time: 19.3 s\n"
     ]
    },
    {
     "data": {
      "text/plain": [
       "GridSearchCV(cv=5,\n",
       "             estimator=RandomForestClassifier(n_jobs=-1, random_state=123),\n",
       "             n_jobs=-1,\n",
       "             param_grid={'class_weight': ['balanced', None],\n",
       "                         'max_depth': range(5, 17),\n",
       "                         'n_estimators': range(40, 121, 20)},\n",
       "             scoring='f1')"
      ]
     },
     "execution_count": 30,
     "metadata": {},
     "output_type": "execute_result"
    }
   ],
   "source": [
    "%%time\n",
    "\n",
    "estimator = RandomForestClassifier(n_jobs=-1, random_state=123)\n",
    "parameters = {'n_estimators': range(40, 121, 20),\n",
    "              'max_depth': range(5,17,1),\n",
    "              'class_weight': ['balanced', None]\n",
    "             }\n",
    "clf2 = GridSearchCV(estimator, parameters, scoring='f1', cv=5, n_jobs=-1)\n",
    "clf2.fit(train_valid_features, train_valid_target)"
   ]
  },
  {
   "cell_type": "code",
   "execution_count": 31,
   "id": "311af473",
   "metadata": {},
   "outputs": [
    {
     "data": {
      "text/plain": [
       "{'class_weight': 'balanced', 'max_depth': 10, 'n_estimators': 100}"
      ]
     },
     "metadata": {},
     "output_type": "display_data"
    },
    {
     "data": {
      "text/plain": [
       "RandomForestClassifier(class_weight='balanced', max_depth=10, n_jobs=-1,\n",
       "                       random_state=123)"
      ]
     },
     "metadata": {},
     "output_type": "display_data"
    },
    {
     "data": {
      "text/plain": [
       "0.6182799238154446"
      ]
     },
     "metadata": {},
     "output_type": "display_data"
    }
   ],
   "source": [
    "display(clf2.best_params_)\n",
    "display(clf2.best_estimator_)\n",
    "display(clf2.best_score_)"
   ]
  },
  {
   "cell_type": "markdown",
   "id": "e7187054",
   "metadata": {},
   "source": [
    "Теперь создадим модель \"Случайный лес\" с подобранными гиперпараметрами и посчитаем получившиеся метрики качества. Снова создадим функцию, так как в дальнейшем аналогичный код будет вызываться повторно.\n",
    "\n",
    "При подборе гиперпараметров лучшее значение целевой метрики получилось при учёте взвешивания классов. Поэтому далее тоже будем его учитывать."
   ]
  },
  {
   "cell_type": "code",
   "execution_count": 32,
   "id": "520af755",
   "metadata": {},
   "outputs": [
    {
     "name": "stdout",
     "output_type": "stream",
     "text": [
      "Модель \"Случайный лес\" имеет значение accuracy: 0.84150\n",
      "Модель \"Случайный лес\" имеет значение F1-меры: 0.63011\n",
      "Модель \"Случайный лес\" имеет значение AUC-ROC: 0.86569\n"
     ]
    }
   ],
   "source": [
    "def random_forest_routine(train_features, train_target):\n",
    "    model = clf2.best_estimator_\n",
    "    model.fit(train_features, train_target)\n",
    "    test_predictions = model.predict(test_features)\n",
    "    score1 = accuracy_score(test_target, test_predictions)\n",
    "    score2 = f1_score(test_target, test_predictions)\n",
    "    test_probabilities_one = model.predict_proba(test_features)[:,1]\n",
    "    score3 = roc_auc_score(test_target, test_probabilities_one)\n",
    "    print(f'Модель \"Случайный лес\" имеет значение accuracy: {score1:.5f}')\n",
    "    print(f'Модель \"Случайный лес\" имеет значение F1-меры: {score2:.5f}')\n",
    "    print(f'Модель \"Случайный лес\" имеет значение AUC-ROC: {score3:.5f}')\n",
    "\n",
    "random_forest_routine(train_valid_features, train_valid_target)  "
   ]
  },
  {
   "cell_type": "markdown",
   "id": "d561037e",
   "metadata": {},
   "source": [
    "Результат отличный! Высокие значение всех рассмотренных метрик качества. "
   ]
  },
  {
   "cell_type": "markdown",
   "id": "c0711b72",
   "metadata": {},
   "source": [
    "Исследуем работу модели при её обучении на увеличенной выборке."
   ]
  },
  {
   "cell_type": "code",
   "execution_count": 33,
   "id": "79c5fb05",
   "metadata": {},
   "outputs": [
    {
     "name": "stdout",
     "output_type": "stream",
     "text": [
      "Модель \"Случайный лес\" имеет значение accuracy: 0.82150\n",
      "Модель \"Случайный лес\" имеет значение F1-меры: 0.61069\n",
      "Модель \"Случайный лес\" имеет значение AUC-ROC: 0.86396\n"
     ]
    }
   ],
   "source": [
    "random_forest_routine(features_upsampled, target_upsampled) "
   ]
  },
  {
   "cell_type": "markdown",
   "id": "dc0ea447",
   "metadata": {},
   "source": [
    "Метрики качества ухудшились. Попробуем обучить модель на уменьшенной выборке."
   ]
  },
  {
   "cell_type": "code",
   "execution_count": 34,
   "id": "e7e77e88",
   "metadata": {},
   "outputs": [
    {
     "name": "stdout",
     "output_type": "stream",
     "text": [
      "Модель \"Случайный лес\" имеет значение accuracy: 0.79450\n",
      "Модель \"Случайный лес\" имеет значение F1-меры: 0.59902\n",
      "Модель \"Случайный лес\" имеет значение AUC-ROC: 0.86208\n"
     ]
    }
   ],
   "source": [
    "random_forest_routine(features_downsampled, target_downsampled)"
   ]
  },
  {
   "cell_type": "markdown",
   "id": "15924517",
   "metadata": {},
   "source": [
    "Все метрики ухудшились, уменьшение выборки в данном случае не применимо. Попробуем теперь изменять порог классификации."
   ]
  },
  {
   "cell_type": "code",
   "execution_count": 35,
   "id": "32085e0d",
   "metadata": {},
   "outputs": [
    {
     "name": "stdout",
     "output_type": "stream",
     "text": [
      "Порог = 0.40 | F1-мера = 0.61297\n",
      "Порог = 0.40 | Accuracy = 0.80300\n",
      "\n",
      "Порог = 0.42 | F1-мера = 0.60941\n",
      "Порог = 0.42 | Accuracy = 0.80900\n",
      "\n",
      "Порог = 0.44 | F1-мера = 0.61424\n",
      "Порог = 0.44 | Accuracy = 0.81850\n",
      "\n",
      "Порог = 0.46 | F1-мера = 0.61742\n",
      "Порог = 0.46 | Accuracy = 0.82650\n",
      "\n",
      "Порог = 0.48 | F1-мера = 0.61905\n",
      "Порог = 0.48 | Accuracy = 0.83200\n",
      "\n",
      "Порог = 0.50 | F1-мера = 0.63011\n",
      "Порог = 0.50 | Accuracy = 0.84150\n",
      "\n",
      "Порог = 0.52 | F1-мера = 0.62394\n",
      "Порог = 0.52 | Accuracy = 0.84450\n",
      "\n",
      "Порог = 0.54 | F1-мера = 0.62750\n",
      "Порог = 0.54 | Accuracy = 0.85100\n",
      "\n",
      "Порог = 0.56 | F1-мера = 0.62468\n",
      "Порог = 0.56 | Accuracy = 0.85400\n",
      "\n",
      "Порог = 0.58 | F1-мера = 0.62078\n",
      "Порог = 0.58 | Accuracy = 0.85950\n",
      "\n",
      "Порог = 0.60 | F1-мера = 0.61646\n",
      "Порог = 0.60 | Accuracy = 0.86250\n",
      "\n",
      "Порог = 0.62 | F1-мера = 0.60719\n",
      "Порог = 0.62 | Accuracy = 0.86350\n",
      "\n",
      "Порог = 0.64 | F1-мера = 0.58457\n",
      "Порог = 0.64 | Accuracy = 0.86000\n",
      "\n",
      "Порог = 0.66 | F1-мера = 0.57315\n",
      "Порог = 0.66 | Accuracy = 0.85850\n",
      "\n",
      "Порог = 0.68 | F1-мера = 0.55194\n",
      "Порог = 0.68 | Accuracy = 0.85550\n",
      "\n",
      "Порог = 0.70 | F1-мера = 0.54603\n",
      "Порог = 0.70 | Accuracy = 0.85700\n",
      "\n",
      "Порог = 0.72 | F1-мера = 0.52769\n",
      "Порог = 0.72 | Accuracy = 0.85500\n",
      "\n",
      "Порог = 0.74 | F1-мера = 0.50756\n",
      "Порог = 0.74 | Accuracy = 0.85350\n",
      "\n",
      "Порог = 0.76 | F1-мера = 0.48611\n",
      "Порог = 0.76 | Accuracy = 0.85200\n",
      "\n",
      "Порог = 0.78 | F1-мера = 0.46237\n",
      "Порог = 0.78 | Accuracy = 0.85000\n",
      "\n",
      "Порог = 0.80 | F1-мера = 0.42910\n",
      "Порог = 0.80 | Accuracy = 0.84700\n",
      "\n"
     ]
    }
   ],
   "source": [
    "model = clf2.best_estimator_\n",
    "model.fit(train_valid_features, train_valid_target)\n",
    "test_probabilities_one = model.predict_proba(test_features)[:,1]\n",
    "for threshold in np.arange(0.4, 0.81, 0.02):\n",
    "    test_predicted = test_probabilities_one > threshold\n",
    "    f1_score1 = f1_score(test_target, test_predicted)\n",
    "    accuracy_score1 = accuracy_score(test_target, test_predicted)\n",
    "    print(f'Порог = {threshold:.2f} | F1-мера = {f1_score1:.5f}')\n",
    "    print(f'Порог = {threshold:.2f} | Accuracy = {accuracy_score1:.5f}\\n')"
   ]
  },
  {
   "cell_type": "markdown",
   "id": "2ac925c1",
   "metadata": {},
   "source": [
    "Максимальное значение F1-меры достигается при стандартном пороге 0,5. Брать на вооружение технику изменения порога в данном случае не стоит.\n",
    "\n",
    "Таким образом, для модели \"Случайный лес\" наилучшие результаты получены при подборе гиперпараметров и учёте взвешивания классов. В качестве итоговой модели выбираем именно эту модель. Построим для модели ROC- и PR-кривые."
   ]
  },
  {
   "cell_type": "code",
   "execution_count": 36,
   "id": "c28ebfab",
   "metadata": {},
   "outputs": [
    {
     "data": {
      "image/png": "[encoded data removed]",
      "text/plain": [
       "<Figure size 1080x432 with 2 Axes>"
      ]
     },
     "metadata": {
      "needs_background": "light"
     },
     "output_type": "display_data"
    }
   ],
   "source": [
    "model = clf2.best_estimator_\n",
    "model.fit(train_valid_features, train_valid_target)\n",
    "test_probabilities_one = model.predict_proba(test_features)[:,1]\n",
    "\n",
    "fpr, tpr, thresholds1 = roc_curve(test_target, test_probabilities_one)\n",
    "precision, recall, thresholds2 = precision_recall_curve(test_target, test_probabilities_one)\n",
    "\n",
    "plt.figure(figsize=(15, 6))\n",
    "plt.subplot(121)\n",
    "plt.plot(fpr, tpr, linestyle='-')\n",
    "plt.plot([0, 1], [0, 1], linestyle='--')\n",
    "plt.xlim(0,1)\n",
    "plt.ylim(0,1)\n",
    "plt.xlabel('False Positive Rate')\n",
    "plt.ylabel('True Positive Rate')\n",
    "plt.title('ROC-кривая')\n",
    "\n",
    "plt.subplot(122)\n",
    "plt.step(recall, precision, where='post')\n",
    "plt.xlabel('Recall')\n",
    "plt.ylabel('Precision')\n",
    "plt.title('Кривая Precision-Recall')\n",
    "plt.show()"
   ]
  },
  {
   "cell_type": "markdown",
   "id": "7386c2b3",
   "metadata": {},
   "source": [
    "**Вывод:** при построении модели \"Случайный лес\" наилучшие значения метрик качества были получены при подборе гиперпараметров и при учёте взвешивания классов. На тестовой выборке получено значение F1-меры равное 0,63. Это значение превышает требуемое в проекте с запасом. Также получились высокие значения других рассмотренных метрик качества (0,84 для accuracy и более 0,86 для AUC-ROC). "
   ]
  },
  {
   "cell_type": "markdown",
   "id": "4383c28c",
   "metadata": {},
   "source": [
    "## Общий вывод"
   ]
  },
  {
   "cell_type": "markdown",
   "id": "ac285f9f",
   "metadata": {},
   "source": [
    "В проекте была выполнена базовая предобработка данных из источника. Также были подготовлены признаки для дальнейшего построения моделей. При подготовке признаков были применены техники прямого кодирования и масштабирования признаков. Далее было произведено разбиение исходных данных на обучающую и тестовую выборки с использованием стратификации по целевому признаку.\n",
    "\n",
    "На первом этапе перед построением реальных моделей была исследована константная модель, предсказывающая единичные значения целевого признака. Полученные результаты совпали с ожидаемыми в теории значениями, а полученное значение F1-меры показало число, которое точно необходимо превысить в реальных моделях.\n",
    "\n",
    "На втором этапе была построена модель логистической регрессии без учёта дисбаланса классов. В результате получилось неудовлетворительное значение F1-меры, практически равное аналогичному значению для константной модели.\n",
    "\n",
    "На третьем этапе были рассмотрены три разные модели с попытками учёта дисбаланса классов:\n",
    "- при построении модели логистической регрессии наилучшие значения метрик качества были получены при учёте взвешивания классов в гиперпараметре class_weight, а также при обучении модели на уменьшенной выборке. Результаты наилучшие для рассмотренной модели, но неудовлетворительные в рамках решения поставленной в проекте задачи;\n",
    "- при построении модели \"Дерево решений\" наилучшие значения метрик качества были получены при подборе гиперпараметров, при учёте взвешивания классов, а также при увеличении порога классификации до 0,76. При увеличении порога достигается требуемое значение F1-меры.;\n",
    "- при построении модели \"Случайный лес\" наилучшие значения метрик качества были получены при подборе гиперпараметров и при учёте взвешивания классов. На тестовой выборке получено значение F1-меры равное 0,63. Это значение превышает требуемое в проекте с запасом. Также получились высокие значения других рассмотренных метрик качества (0,84 для accuracy и более 0,86 для AUC-ROC). \n",
    "\n",
    "Для модели \"Случайный лес\", показавшей наилучшие результаты, были построены ROC- и PR-кривые, которые подтвердили высокое качество модели. "
   ]
  }
 ],
 "metadata": {
  "kernelspec": {
   "display_name": "Python 3 (ipykernel)",
   "language": "python",
   "name": "python3"
  },
  "language_info": {
   "codemirror_mode": {
    "name": "ipython",
    "version": 3
   },
   "file_extension": ".py",
   "mimetype": "text/x-python",
   "name": "python",
   "nbconvert_exporter": "python",
   "pygments_lexer": "ipython3",
   "version": "3.9.12"
  },
  "toc": {
   "base_numbering": 1,
   "nav_menu": {},
   "number_sections": true,
   "sideBar": true,
   "skip_h1_title": true,
   "title_cell": "Содержание",
   "title_sidebar": "Содержание",
   "toc_cell": true,
   "toc_position": {
    "height": "calc(100% - 180px)",
    "left": "10px",
    "top": "150px",
    "width": "249px"
   },
   "toc_section_display": true,
   "toc_window_display": true
  }
 },
 "nbformat": 4,
 "nbformat_minor": 5
}
