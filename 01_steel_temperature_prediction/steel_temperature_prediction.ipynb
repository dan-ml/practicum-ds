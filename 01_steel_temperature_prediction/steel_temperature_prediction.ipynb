{
 "cells": [
  {
   "cell_type": "markdown",
   "id": "f0f861dc",
   "metadata": {
    "toc": true
   },
   "source": [
    "<h1>Содержание<span class=\"tocSkip\"></span></h1>\n",
    "<div class=\"toc\"><ul class=\"toc-item\"><li><span><a href=\"#Планы-работы\" data-toc-modified-id=\"Планы-работы-1\"><span class=\"toc-item-num\">1&nbsp;&nbsp;</span>Планы работы</a></span></li><li><span><a href=\"#Знакомство-с-данными\" data-toc-modified-id=\"Знакомство-с-данными-2\"><span class=\"toc-item-num\">2&nbsp;&nbsp;</span>Знакомство с данными</a></span><ul class=\"toc-item\"><li><span><a href=\"#Загрузка-и-импорт-библиотек-и-функций\" data-toc-modified-id=\"Загрузка-и-импорт-библиотек-и-функций-2.1\"><span class=\"toc-item-num\">2.1&nbsp;&nbsp;</span>Загрузка и импорт библиотек и функций</a></span></li><li><span><a href=\"#Загрузка-и-изучение-данных-из-файлов\" data-toc-modified-id=\"Загрузка-и-изучение-данных-из-файлов-2.2\"><span class=\"toc-item-num\">2.2&nbsp;&nbsp;</span>Загрузка и изучение данных из файлов</a></span></li></ul></li><li><span><a href=\"#Исследовательский-анализ-данных\" data-toc-modified-id=\"Исследовательский-анализ-данных-3\"><span class=\"toc-item-num\">3&nbsp;&nbsp;</span>Исследовательский анализ данных</a></span><ul class=\"toc-item\"><li><span><a href=\"#Анализ-данных-об-электродах\" data-toc-modified-id=\"Анализ-данных-об-электродах-3.1\"><span class=\"toc-item-num\">3.1&nbsp;&nbsp;</span>Анализ данных об электродах</a></span></li><li><span><a href=\"#Анализ-данных-о-подаче-сыпучих-материалов-(объём)\" data-toc-modified-id=\"Анализ-данных-о-подаче-сыпучих-материалов-(объём)-3.2\"><span class=\"toc-item-num\">3.2&nbsp;&nbsp;</span>Анализ данных о подаче сыпучих материалов (объём)</a></span></li><li><span><a href=\"#Анализ-данных-о-продувке-сплава-газом\" data-toc-modified-id=\"Анализ-данных-о-продувке-сплава-газом-3.3\"><span class=\"toc-item-num\">3.3&nbsp;&nbsp;</span>Анализ данных о продувке сплава газом</a></span></li><li><span><a href=\"#Анализ-данных-о-добавлении-проволочных-материалов\" data-toc-modified-id=\"Анализ-данных-о-добавлении-проволочных-материалов-3.4\"><span class=\"toc-item-num\">3.4&nbsp;&nbsp;</span>Анализ данных о добавлении проволочных материалов</a></span></li><li><span><a href=\"#Анализ-данных-об-измерении-температуры\" data-toc-modified-id=\"Анализ-данных-об-измерении-температуры-3.5\"><span class=\"toc-item-num\">3.5&nbsp;&nbsp;</span>Анализ данных об измерении температуры</a></span></li><li><span><a href=\"#Объединение-нескольких-таблиц-в-одну\" data-toc-modified-id=\"Объединение-нескольких-таблиц-в-одну-3.6\"><span class=\"toc-item-num\">3.6&nbsp;&nbsp;</span>Объединение нескольких таблиц в одну</a></span></li><li><span><a href=\"#Вывод-по-разделу\" data-toc-modified-id=\"Вывод-по-разделу-3.7\"><span class=\"toc-item-num\">3.7&nbsp;&nbsp;</span>Вывод по разделу</a></span></li></ul></li><li><span><a href=\"#Построение-моделей\" data-toc-modified-id=\"Построение-моделей-4\"><span class=\"toc-item-num\">4&nbsp;&nbsp;</span>Построение моделей</a></span><ul class=\"toc-item\"><li><span><a href=\"#Подготовка-признаков-и-разделение-данных-на-выборки\" data-toc-modified-id=\"Подготовка-признаков-и-разделение-данных-на-выборки-4.1\"><span class=\"toc-item-num\">4.1&nbsp;&nbsp;</span>Подготовка признаков и разделение данных на выборки</a></span></li><li><span><a href=\"#Модель-&quot;Случайный-лес&quot;\" data-toc-modified-id=\"Модель-&quot;Случайный-лес&quot;-4.2\"><span class=\"toc-item-num\">4.2&nbsp;&nbsp;</span>Модель \"Случайный лес\"</a></span></li><li><span><a href=\"#Модель-градиентного-бустинга-CatBoost\" data-toc-modified-id=\"Модель-градиентного-бустинга-CatBoost-4.3\"><span class=\"toc-item-num\">4.3&nbsp;&nbsp;</span>Модель градиентного бустинга CatBoost</a></span></li><li><span><a href=\"#Проверка-наилучшей-модели-на-тестовой-выборке\" data-toc-modified-id=\"Проверка-наилучшей-модели-на-тестовой-выборке-4.4\"><span class=\"toc-item-num\">4.4&nbsp;&nbsp;</span>Проверка наилучшей модели на тестовой выборке</a></span></li><li><span><a href=\"#Вывод-по-разделу\" data-toc-modified-id=\"Вывод-по-разделу-4.5\"><span class=\"toc-item-num\">4.5&nbsp;&nbsp;</span>Вывод по разделу</a></span></li></ul></li><li><span><a href=\"#Общий-вывод\" data-toc-modified-id=\"Общий-вывод-5\"><span class=\"toc-item-num\">5&nbsp;&nbsp;</span>Общий вывод</a></span></li><li><span><a href=\"#Отчёт-по-проекту\" data-toc-modified-id=\"Отчёт-по-проекту-6\"><span class=\"toc-item-num\">6&nbsp;&nbsp;</span>Отчёт по проекту</a></span></li></ul></div>"
   ]
  },
  {
   "cell_type": "markdown",
   "id": "95440f69",
   "metadata": {},
   "source": [
    "# Предсказание температуры стали"
   ]
  },
  {
   "cell_type": "markdown",
   "id": "11da1fef",
   "metadata": {},
   "source": [
    "Чтобы оптимизировать производственные расходы, металлургический комбинат ООО «Так закаляем сталь» решил уменьшить потребление электроэнергии на этапе обработки стали. В проекте требуется построить модель, которая предскажет температуру стали. Значение метрики MAE для модели не должно превышать 8,7.\n",
    "\n",
    "Проект должен состоять из следующих частей:\n",
    "\n",
    "1. план работы;\n",
    "2. знакомство с данными;\n",
    "3. предобработка и исследовательский анализ данных;\n",
    "4. построение моделей и выбор наилучшей из них;\n",
    "5. формулировка вывода и составление отчёта."
   ]
  },
  {
   "cell_type": "markdown",
   "id": "4a0c80b1",
   "metadata": {},
   "source": [
    "## Планы работы\n",
    "\n",
    "1. загрузка данных из файлов, отображение общей информации о таблицах;\n",
    "2. анализ данных об электродах:\n",
    "    - поиск и устранение (при необходимости) аномальных значений активной и реактивной мощности;\n",
    "    - расчёт значений затраченной энергии для каждой итерации нагрева на основе сведений о мощности и времени нагрева;\n",
    "    - расчёт суммарной затраченной энергии на нагрев для каждого номера партии;\n",
    "3. анализ данных об объёме сыпучих материалов: поиск и устранение (при необходимости) аномальных значений, заполнение пропусков;\n",
    "4. анализ данных об инертном газе: поиск и устранение (при необходимости) аномальных значений;\n",
    "5. анализ данных об объеме проволочных материалов: поиск и устранение (при необходимости) аномальных значений, заполнение пропусков;\n",
    "6. анализ данных об измерении температуры: \n",
    "    - поиск и устранение (при необходимости) аномальных значений;\n",
    "    - удаление строк с пропусками;\n",
    "    - определение для каждой партии начальной и конечной температур;\n",
    "7. объединение таблиц, полученных в пунктах 2-6, по номеру партии в единую таблицу. Исключение лишних для обучения моделей столбцов;\n",
    "8. подготовка признаков:\n",
    "    - выделение из данных обычных признаков и целевого признака. В качестве целевого признака выбрать конечную температуру для каждой партии;\n",
    "    - разделение данных на тестовую и обучающую выборки в соотношении 1:3;\n",
    "9. построение модели \"Случайный лес\", подбор оптимальных гиперпараметров с помощью функции GridSearchCV;\n",
    "10. построение модели градиентного бустинга (LightGBM или CatBoost), подбор оптимальных гиперпараметров с помощью функции GridSearchCV;\n",
    "11. выбор наилучшей модели, проверка её работы на тестовой выборке;\n",
    "12. написание общего вывода и составление отчёта."
   ]
  },
  {
   "cell_type": "markdown",
   "id": "dab13b1f",
   "metadata": {},
   "source": [
    "## Знакомство с данными"
   ]
  },
  {
   "cell_type": "markdown",
   "id": "2ea13f03",
   "metadata": {},
   "source": [
    "### Загрузка и импорт библиотек и функций"
   ]
  },
  {
   "cell_type": "code",
   "execution_count": 1,
   "id": "018e0800",
   "metadata": {},
   "outputs": [],
   "source": [
    "import pandas as pd\n",
    "import matplotlib.pyplot as plt\n",
    "from sklearn.ensemble import RandomForestRegressor\n",
    "from catboost import CatBoostRegressor\n",
    "from sklearn.model_selection import GridSearchCV\n",
    "from sklearn.model_selection import train_test_split\n",
    "from sklearn.metrics import mean_absolute_error"
   ]
  },
  {
   "cell_type": "markdown",
   "id": "99dc15c8",
   "metadata": {},
   "source": [
    "### Загрузка и изучение данных из файлов"
   ]
  },
  {
   "cell_type": "markdown",
   "id": "8e90a52d",
   "metadata": {},
   "source": [
    "Загрузим данные из файлов и ознакомимся с таблицами."
   ]
  },
  {
   "cell_type": "code",
   "execution_count": 2,
   "id": "ea4745df",
   "metadata": {},
   "outputs": [],
   "source": [
    "try:\n",
    "    data_arc = pd.read_csv('data_arc.csv')\n",
    "    data_bulk = pd.read_csv('data_bulk.csv')\n",
    "    data_bulk_time = pd.read_csv('data_bulk_time.csv')\n",
    "    data_gas = pd.read_csv('data_gas.csv')\n",
    "    data_temp = pd.read_csv('data_temp.csv')\n",
    "    data_wire = pd.read_csv('data_wire.csv')\n",
    "    data_wire_time = pd.read_csv('data_wire_time.csv')\n",
    "except:\n",
    "    data_arc = pd.read_csv('/datasets/final_steel/data_arc.csv')\n",
    "    data_bulk = pd.read_csv('/datasets/final_steel/data_bulk.csv')\n",
    "    data_bulk_time = pd.read_csv('/datasets/final_steel/data_bulk_time.csv')\n",
    "    data_gas = pd.read_csv('/datasets/final_steel/data_gas.csv')\n",
    "    data_temp = pd.read_csv('/datasets/final_steel/data_temp.csv')\n",
    "    data_wire = pd.read_csv('/datasets/final_steel/data_wire.csv')\n",
    "    data_wire_time = pd.read_csv('/datasets/final_steel/data_wire_time.csv')"
   ]
  },
  {
   "cell_type": "markdown",
   "id": "ec6c51ff",
   "metadata": {},
   "source": [
    "**1)** Отобразим сведения о таблице и непосредственно данные об электродах."
   ]
  },
  {
   "cell_type": "code",
   "execution_count": 3,
   "id": "ce4c83d4",
   "metadata": {},
   "outputs": [
    {
     "name": "stdout",
     "output_type": "stream",
     "text": [
      "<class 'pandas.core.frame.DataFrame'>\n",
      "RangeIndex: 14876 entries, 0 to 14875\n",
      "Data columns (total 5 columns):\n",
      " #   Column                Non-Null Count  Dtype  \n",
      "---  ------                --------------  -----  \n",
      " 0   key                   14876 non-null  int64  \n",
      " 1   Начало нагрева дугой  14876 non-null  object \n",
      " 2   Конец нагрева дугой   14876 non-null  object \n",
      " 3   Активная мощность     14876 non-null  float64\n",
      " 4   Реактивная мощность   14876 non-null  float64\n",
      "dtypes: float64(2), int64(1), object(2)\n",
      "memory usage: 581.2+ KB\n"
     ]
    }
   ],
   "source": [
    "data_arc.info()"
   ]
  },
  {
   "cell_type": "code",
   "execution_count": 4,
   "id": "a5175caa",
   "metadata": {
    "scrolled": true
   },
   "outputs": [
    {
     "data": {
      "text/html": [
       "<div>\n",
       "<style scoped>\n",
       "    .dataframe tbody tr th:only-of-type {\n",
       "        vertical-align: middle;\n",
       "    }\n",
       "\n",
       "    .dataframe tbody tr th {\n",
       "        vertical-align: top;\n",
       "    }\n",
       "\n",
       "    .dataframe thead th {\n",
       "        text-align: right;\n",
       "    }\n",
       "</style>\n",
       "<table border=\"1\" class=\"dataframe\">\n",
       "  <thead>\n",
       "    <tr style=\"text-align: right;\">\n",
       "      <th></th>\n",
       "      <th>key</th>\n",
       "      <th>Начало нагрева дугой</th>\n",
       "      <th>Конец нагрева дугой</th>\n",
       "      <th>Активная мощность</th>\n",
       "      <th>Реактивная мощность</th>\n",
       "    </tr>\n",
       "  </thead>\n",
       "  <tbody>\n",
       "    <tr>\n",
       "      <th>0</th>\n",
       "      <td>1</td>\n",
       "      <td>2019-05-03 11:02:14</td>\n",
       "      <td>2019-05-03 11:06:02</td>\n",
       "      <td>0.976059</td>\n",
       "      <td>0.687084</td>\n",
       "    </tr>\n",
       "    <tr>\n",
       "      <th>1</th>\n",
       "      <td>1</td>\n",
       "      <td>2019-05-03 11:07:28</td>\n",
       "      <td>2019-05-03 11:10:33</td>\n",
       "      <td>0.805607</td>\n",
       "      <td>0.520285</td>\n",
       "    </tr>\n",
       "    <tr>\n",
       "      <th>2</th>\n",
       "      <td>1</td>\n",
       "      <td>2019-05-03 11:11:44</td>\n",
       "      <td>2019-05-03 11:14:36</td>\n",
       "      <td>0.744363</td>\n",
       "      <td>0.498805</td>\n",
       "    </tr>\n",
       "    <tr>\n",
       "      <th>3</th>\n",
       "      <td>1</td>\n",
       "      <td>2019-05-03 11:18:14</td>\n",
       "      <td>2019-05-03 11:24:19</td>\n",
       "      <td>1.659363</td>\n",
       "      <td>1.062669</td>\n",
       "    </tr>\n",
       "    <tr>\n",
       "      <th>4</th>\n",
       "      <td>1</td>\n",
       "      <td>2019-05-03 11:26:09</td>\n",
       "      <td>2019-05-03 11:28:37</td>\n",
       "      <td>0.692755</td>\n",
       "      <td>0.414397</td>\n",
       "    </tr>\n",
       "    <tr>\n",
       "      <th>5</th>\n",
       "      <td>2</td>\n",
       "      <td>2019-05-03 11:34:14</td>\n",
       "      <td>2019-05-03 11:36:31</td>\n",
       "      <td>0.438063</td>\n",
       "      <td>0.283043</td>\n",
       "    </tr>\n",
       "    <tr>\n",
       "      <th>6</th>\n",
       "      <td>2</td>\n",
       "      <td>2019-05-03 11:38:50</td>\n",
       "      <td>2019-05-03 11:44:28</td>\n",
       "      <td>1.296415</td>\n",
       "      <td>0.892914</td>\n",
       "    </tr>\n",
       "    <tr>\n",
       "      <th>7</th>\n",
       "      <td>2</td>\n",
       "      <td>2019-05-03 11:46:19</td>\n",
       "      <td>2019-05-03 11:48:25</td>\n",
       "      <td>0.490377</td>\n",
       "      <td>0.305281</td>\n",
       "    </tr>\n",
       "    <tr>\n",
       "      <th>8</th>\n",
       "      <td>2</td>\n",
       "      <td>2019-05-03 11:49:48</td>\n",
       "      <td>2019-05-03 11:53:18</td>\n",
       "      <td>0.827743</td>\n",
       "      <td>0.516874</td>\n",
       "    </tr>\n",
       "    <tr>\n",
       "      <th>9</th>\n",
       "      <td>3</td>\n",
       "      <td>2019-05-03 12:06:54</td>\n",
       "      <td>2019-05-03 12:11:34</td>\n",
       "      <td>1.062053</td>\n",
       "      <td>0.671494</td>\n",
       "    </tr>\n",
       "  </tbody>\n",
       "</table>\n",
       "</div>"
      ],
      "text/plain": [
       "   key Начало нагрева дугой  Конец нагрева дугой  Активная мощность  \\\n",
       "0    1  2019-05-03 11:02:14  2019-05-03 11:06:02           0.976059   \n",
       "1    1  2019-05-03 11:07:28  2019-05-03 11:10:33           0.805607   \n",
       "2    1  2019-05-03 11:11:44  2019-05-03 11:14:36           0.744363   \n",
       "3    1  2019-05-03 11:18:14  2019-05-03 11:24:19           1.659363   \n",
       "4    1  2019-05-03 11:26:09  2019-05-03 11:28:37           0.692755   \n",
       "5    2  2019-05-03 11:34:14  2019-05-03 11:36:31           0.438063   \n",
       "6    2  2019-05-03 11:38:50  2019-05-03 11:44:28           1.296415   \n",
       "7    2  2019-05-03 11:46:19  2019-05-03 11:48:25           0.490377   \n",
       "8    2  2019-05-03 11:49:48  2019-05-03 11:53:18           0.827743   \n",
       "9    3  2019-05-03 12:06:54  2019-05-03 12:11:34           1.062053   \n",
       "\n",
       "   Реактивная мощность  \n",
       "0             0.687084  \n",
       "1             0.520285  \n",
       "2             0.498805  \n",
       "3             1.062669  \n",
       "4             0.414397  \n",
       "5             0.283043  \n",
       "6             0.892914  \n",
       "7             0.305281  \n",
       "8             0.516874  \n",
       "9             0.671494  "
      ]
     },
     "execution_count": 4,
     "metadata": {},
     "output_type": "execute_result"
    }
   ],
   "source": [
    "data_arc.head(10)"
   ]
  },
  {
   "cell_type": "markdown",
   "id": "90e574f5",
   "metadata": {},
   "source": [
    "**2)** Отобразим сведения о таблице и непосредственно данные о подаче сыпучих материалов (объём)."
   ]
  },
  {
   "cell_type": "code",
   "execution_count": 5,
   "id": "98cce1b1",
   "metadata": {},
   "outputs": [
    {
     "name": "stdout",
     "output_type": "stream",
     "text": [
      "<class 'pandas.core.frame.DataFrame'>\n",
      "RangeIndex: 3129 entries, 0 to 3128\n",
      "Data columns (total 16 columns):\n",
      " #   Column   Non-Null Count  Dtype  \n",
      "---  ------   --------------  -----  \n",
      " 0   key      3129 non-null   int64  \n",
      " 1   Bulk 1   252 non-null    float64\n",
      " 2   Bulk 2   22 non-null     float64\n",
      " 3   Bulk 3   1298 non-null   float64\n",
      " 4   Bulk 4   1014 non-null   float64\n",
      " 5   Bulk 5   77 non-null     float64\n",
      " 6   Bulk 6   576 non-null    float64\n",
      " 7   Bulk 7   25 non-null     float64\n",
      " 8   Bulk 8   1 non-null      float64\n",
      " 9   Bulk 9   19 non-null     float64\n",
      " 10  Bulk 10  176 non-null    float64\n",
      " 11  Bulk 11  177 non-null    float64\n",
      " 12  Bulk 12  2450 non-null   float64\n",
      " 13  Bulk 13  18 non-null     float64\n",
      " 14  Bulk 14  2806 non-null   float64\n",
      " 15  Bulk 15  2248 non-null   float64\n",
      "dtypes: float64(15), int64(1)\n",
      "memory usage: 391.2 KB\n"
     ]
    }
   ],
   "source": [
    "data_bulk.info()"
   ]
  },
  {
   "cell_type": "code",
   "execution_count": 6,
   "id": "c2ed2129",
   "metadata": {
    "scrolled": true
   },
   "outputs": [
    {
     "data": {
      "text/html": [
       "<div>\n",
       "<style scoped>\n",
       "    .dataframe tbody tr th:only-of-type {\n",
       "        vertical-align: middle;\n",
       "    }\n",
       "\n",
       "    .dataframe tbody tr th {\n",
       "        vertical-align: top;\n",
       "    }\n",
       "\n",
       "    .dataframe thead th {\n",
       "        text-align: right;\n",
       "    }\n",
       "</style>\n",
       "<table border=\"1\" class=\"dataframe\">\n",
       "  <thead>\n",
       "    <tr style=\"text-align: right;\">\n",
       "      <th></th>\n",
       "      <th>key</th>\n",
       "      <th>Bulk 1</th>\n",
       "      <th>Bulk 2</th>\n",
       "      <th>Bulk 3</th>\n",
       "      <th>Bulk 4</th>\n",
       "      <th>Bulk 5</th>\n",
       "      <th>Bulk 6</th>\n",
       "      <th>Bulk 7</th>\n",
       "      <th>Bulk 8</th>\n",
       "      <th>Bulk 9</th>\n",
       "      <th>Bulk 10</th>\n",
       "      <th>Bulk 11</th>\n",
       "      <th>Bulk 12</th>\n",
       "      <th>Bulk 13</th>\n",
       "      <th>Bulk 14</th>\n",
       "      <th>Bulk 15</th>\n",
       "    </tr>\n",
       "  </thead>\n",
       "  <tbody>\n",
       "    <tr>\n",
       "      <th>0</th>\n",
       "      <td>1</td>\n",
       "      <td>NaN</td>\n",
       "      <td>NaN</td>\n",
       "      <td>NaN</td>\n",
       "      <td>43.0</td>\n",
       "      <td>NaN</td>\n",
       "      <td>NaN</td>\n",
       "      <td>NaN</td>\n",
       "      <td>NaN</td>\n",
       "      <td>NaN</td>\n",
       "      <td>NaN</td>\n",
       "      <td>NaN</td>\n",
       "      <td>206.0</td>\n",
       "      <td>NaN</td>\n",
       "      <td>150.0</td>\n",
       "      <td>154.0</td>\n",
       "    </tr>\n",
       "    <tr>\n",
       "      <th>1</th>\n",
       "      <td>2</td>\n",
       "      <td>NaN</td>\n",
       "      <td>NaN</td>\n",
       "      <td>NaN</td>\n",
       "      <td>73.0</td>\n",
       "      <td>NaN</td>\n",
       "      <td>NaN</td>\n",
       "      <td>NaN</td>\n",
       "      <td>NaN</td>\n",
       "      <td>NaN</td>\n",
       "      <td>NaN</td>\n",
       "      <td>NaN</td>\n",
       "      <td>206.0</td>\n",
       "      <td>NaN</td>\n",
       "      <td>149.0</td>\n",
       "      <td>154.0</td>\n",
       "    </tr>\n",
       "    <tr>\n",
       "      <th>2</th>\n",
       "      <td>3</td>\n",
       "      <td>NaN</td>\n",
       "      <td>NaN</td>\n",
       "      <td>NaN</td>\n",
       "      <td>34.0</td>\n",
       "      <td>NaN</td>\n",
       "      <td>NaN</td>\n",
       "      <td>NaN</td>\n",
       "      <td>NaN</td>\n",
       "      <td>NaN</td>\n",
       "      <td>NaN</td>\n",
       "      <td>NaN</td>\n",
       "      <td>205.0</td>\n",
       "      <td>NaN</td>\n",
       "      <td>152.0</td>\n",
       "      <td>153.0</td>\n",
       "    </tr>\n",
       "    <tr>\n",
       "      <th>3</th>\n",
       "      <td>4</td>\n",
       "      <td>NaN</td>\n",
       "      <td>NaN</td>\n",
       "      <td>NaN</td>\n",
       "      <td>81.0</td>\n",
       "      <td>NaN</td>\n",
       "      <td>NaN</td>\n",
       "      <td>NaN</td>\n",
       "      <td>NaN</td>\n",
       "      <td>NaN</td>\n",
       "      <td>NaN</td>\n",
       "      <td>NaN</td>\n",
       "      <td>207.0</td>\n",
       "      <td>NaN</td>\n",
       "      <td>153.0</td>\n",
       "      <td>154.0</td>\n",
       "    </tr>\n",
       "    <tr>\n",
       "      <th>4</th>\n",
       "      <td>5</td>\n",
       "      <td>NaN</td>\n",
       "      <td>NaN</td>\n",
       "      <td>NaN</td>\n",
       "      <td>78.0</td>\n",
       "      <td>NaN</td>\n",
       "      <td>NaN</td>\n",
       "      <td>NaN</td>\n",
       "      <td>NaN</td>\n",
       "      <td>NaN</td>\n",
       "      <td>NaN</td>\n",
       "      <td>NaN</td>\n",
       "      <td>203.0</td>\n",
       "      <td>NaN</td>\n",
       "      <td>151.0</td>\n",
       "      <td>152.0</td>\n",
       "    </tr>\n",
       "  </tbody>\n",
       "</table>\n",
       "</div>"
      ],
      "text/plain": [
       "   key  Bulk 1  Bulk 2  Bulk 3  Bulk 4  Bulk 5  Bulk 6  Bulk 7  Bulk 8  \\\n",
       "0    1     NaN     NaN     NaN    43.0     NaN     NaN     NaN     NaN   \n",
       "1    2     NaN     NaN     NaN    73.0     NaN     NaN     NaN     NaN   \n",
       "2    3     NaN     NaN     NaN    34.0     NaN     NaN     NaN     NaN   \n",
       "3    4     NaN     NaN     NaN    81.0     NaN     NaN     NaN     NaN   \n",
       "4    5     NaN     NaN     NaN    78.0     NaN     NaN     NaN     NaN   \n",
       "\n",
       "   Bulk 9  Bulk 10  Bulk 11  Bulk 12  Bulk 13  Bulk 14  Bulk 15  \n",
       "0     NaN      NaN      NaN    206.0      NaN    150.0    154.0  \n",
       "1     NaN      NaN      NaN    206.0      NaN    149.0    154.0  \n",
       "2     NaN      NaN      NaN    205.0      NaN    152.0    153.0  \n",
       "3     NaN      NaN      NaN    207.0      NaN    153.0    154.0  \n",
       "4     NaN      NaN      NaN    203.0      NaN    151.0    152.0  "
      ]
     },
     "execution_count": 6,
     "metadata": {},
     "output_type": "execute_result"
    }
   ],
   "source": [
    "data_bulk.head()"
   ]
  },
  {
   "cell_type": "markdown",
   "id": "bfc7f475",
   "metadata": {},
   "source": [
    "**3)** Отобразим сведения о таблице и непосредственно данные о подаче сыпучих материалов (время)."
   ]
  },
  {
   "cell_type": "code",
   "execution_count": 7,
   "id": "ae0f96f9",
   "metadata": {},
   "outputs": [
    {
     "name": "stdout",
     "output_type": "stream",
     "text": [
      "<class 'pandas.core.frame.DataFrame'>\n",
      "RangeIndex: 3129 entries, 0 to 3128\n",
      "Data columns (total 16 columns):\n",
      " #   Column   Non-Null Count  Dtype \n",
      "---  ------   --------------  ----- \n",
      " 0   key      3129 non-null   int64 \n",
      " 1   Bulk 1   252 non-null    object\n",
      " 2   Bulk 2   22 non-null     object\n",
      " 3   Bulk 3   1298 non-null   object\n",
      " 4   Bulk 4   1014 non-null   object\n",
      " 5   Bulk 5   77 non-null     object\n",
      " 6   Bulk 6   576 non-null    object\n",
      " 7   Bulk 7   25 non-null     object\n",
      " 8   Bulk 8   1 non-null      object\n",
      " 9   Bulk 9   19 non-null     object\n",
      " 10  Bulk 10  176 non-null    object\n",
      " 11  Bulk 11  177 non-null    object\n",
      " 12  Bulk 12  2450 non-null   object\n",
      " 13  Bulk 13  18 non-null     object\n",
      " 14  Bulk 14  2806 non-null   object\n",
      " 15  Bulk 15  2248 non-null   object\n",
      "dtypes: int64(1), object(15)\n",
      "memory usage: 391.2+ KB\n"
     ]
    }
   ],
   "source": [
    "data_bulk_time.info()"
   ]
  },
  {
   "cell_type": "code",
   "execution_count": 8,
   "id": "ee91a180",
   "metadata": {},
   "outputs": [
    {
     "data": {
      "text/html": [
       "<div>\n",
       "<style scoped>\n",
       "    .dataframe tbody tr th:only-of-type {\n",
       "        vertical-align: middle;\n",
       "    }\n",
       "\n",
       "    .dataframe tbody tr th {\n",
       "        vertical-align: top;\n",
       "    }\n",
       "\n",
       "    .dataframe thead th {\n",
       "        text-align: right;\n",
       "    }\n",
       "</style>\n",
       "<table border=\"1\" class=\"dataframe\">\n",
       "  <thead>\n",
       "    <tr style=\"text-align: right;\">\n",
       "      <th></th>\n",
       "      <th>key</th>\n",
       "      <th>Bulk 1</th>\n",
       "      <th>Bulk 2</th>\n",
       "      <th>Bulk 3</th>\n",
       "      <th>Bulk 4</th>\n",
       "      <th>Bulk 5</th>\n",
       "      <th>Bulk 6</th>\n",
       "      <th>Bulk 7</th>\n",
       "      <th>Bulk 8</th>\n",
       "      <th>Bulk 9</th>\n",
       "      <th>Bulk 10</th>\n",
       "      <th>Bulk 11</th>\n",
       "      <th>Bulk 12</th>\n",
       "      <th>Bulk 13</th>\n",
       "      <th>Bulk 14</th>\n",
       "      <th>Bulk 15</th>\n",
       "    </tr>\n",
       "  </thead>\n",
       "  <tbody>\n",
       "    <tr>\n",
       "      <th>0</th>\n",
       "      <td>1</td>\n",
       "      <td>NaN</td>\n",
       "      <td>NaN</td>\n",
       "      <td>NaN</td>\n",
       "      <td>2019-05-03 11:21:30</td>\n",
       "      <td>NaN</td>\n",
       "      <td>NaN</td>\n",
       "      <td>NaN</td>\n",
       "      <td>NaN</td>\n",
       "      <td>NaN</td>\n",
       "      <td>NaN</td>\n",
       "      <td>NaN</td>\n",
       "      <td>2019-05-03 11:03:52</td>\n",
       "      <td>NaN</td>\n",
       "      <td>2019-05-03 11:03:52</td>\n",
       "      <td>2019-05-03 11:03:52</td>\n",
       "    </tr>\n",
       "    <tr>\n",
       "      <th>1</th>\n",
       "      <td>2</td>\n",
       "      <td>NaN</td>\n",
       "      <td>NaN</td>\n",
       "      <td>NaN</td>\n",
       "      <td>2019-05-03 11:46:38</td>\n",
       "      <td>NaN</td>\n",
       "      <td>NaN</td>\n",
       "      <td>NaN</td>\n",
       "      <td>NaN</td>\n",
       "      <td>NaN</td>\n",
       "      <td>NaN</td>\n",
       "      <td>NaN</td>\n",
       "      <td>2019-05-03 11:40:20</td>\n",
       "      <td>NaN</td>\n",
       "      <td>2019-05-03 11:40:20</td>\n",
       "      <td>2019-05-03 11:40:20</td>\n",
       "    </tr>\n",
       "    <tr>\n",
       "      <th>2</th>\n",
       "      <td>3</td>\n",
       "      <td>NaN</td>\n",
       "      <td>NaN</td>\n",
       "      <td>NaN</td>\n",
       "      <td>2019-05-03 12:31:06</td>\n",
       "      <td>NaN</td>\n",
       "      <td>NaN</td>\n",
       "      <td>NaN</td>\n",
       "      <td>NaN</td>\n",
       "      <td>NaN</td>\n",
       "      <td>NaN</td>\n",
       "      <td>NaN</td>\n",
       "      <td>2019-05-03 12:09:40</td>\n",
       "      <td>NaN</td>\n",
       "      <td>2019-05-03 12:09:40</td>\n",
       "      <td>2019-05-03 12:09:40</td>\n",
       "    </tr>\n",
       "    <tr>\n",
       "      <th>3</th>\n",
       "      <td>4</td>\n",
       "      <td>NaN</td>\n",
       "      <td>NaN</td>\n",
       "      <td>NaN</td>\n",
       "      <td>2019-05-03 12:48:43</td>\n",
       "      <td>NaN</td>\n",
       "      <td>NaN</td>\n",
       "      <td>NaN</td>\n",
       "      <td>NaN</td>\n",
       "      <td>NaN</td>\n",
       "      <td>NaN</td>\n",
       "      <td>NaN</td>\n",
       "      <td>2019-05-03 12:41:24</td>\n",
       "      <td>NaN</td>\n",
       "      <td>2019-05-03 12:41:24</td>\n",
       "      <td>2019-05-03 12:41:24</td>\n",
       "    </tr>\n",
       "    <tr>\n",
       "      <th>4</th>\n",
       "      <td>5</td>\n",
       "      <td>NaN</td>\n",
       "      <td>NaN</td>\n",
       "      <td>NaN</td>\n",
       "      <td>2019-05-03 13:18:50</td>\n",
       "      <td>NaN</td>\n",
       "      <td>NaN</td>\n",
       "      <td>NaN</td>\n",
       "      <td>NaN</td>\n",
       "      <td>NaN</td>\n",
       "      <td>NaN</td>\n",
       "      <td>NaN</td>\n",
       "      <td>2019-05-03 13:12:56</td>\n",
       "      <td>NaN</td>\n",
       "      <td>2019-05-03 13:12:56</td>\n",
       "      <td>2019-05-03 13:12:56</td>\n",
       "    </tr>\n",
       "  </tbody>\n",
       "</table>\n",
       "</div>"
      ],
      "text/plain": [
       "   key Bulk 1 Bulk 2 Bulk 3               Bulk 4 Bulk 5 Bulk 6 Bulk 7 Bulk 8  \\\n",
       "0    1    NaN    NaN    NaN  2019-05-03 11:21:30    NaN    NaN    NaN    NaN   \n",
       "1    2    NaN    NaN    NaN  2019-05-03 11:46:38    NaN    NaN    NaN    NaN   \n",
       "2    3    NaN    NaN    NaN  2019-05-03 12:31:06    NaN    NaN    NaN    NaN   \n",
       "3    4    NaN    NaN    NaN  2019-05-03 12:48:43    NaN    NaN    NaN    NaN   \n",
       "4    5    NaN    NaN    NaN  2019-05-03 13:18:50    NaN    NaN    NaN    NaN   \n",
       "\n",
       "  Bulk 9 Bulk 10 Bulk 11              Bulk 12 Bulk 13              Bulk 14  \\\n",
       "0    NaN     NaN     NaN  2019-05-03 11:03:52     NaN  2019-05-03 11:03:52   \n",
       "1    NaN     NaN     NaN  2019-05-03 11:40:20     NaN  2019-05-03 11:40:20   \n",
       "2    NaN     NaN     NaN  2019-05-03 12:09:40     NaN  2019-05-03 12:09:40   \n",
       "3    NaN     NaN     NaN  2019-05-03 12:41:24     NaN  2019-05-03 12:41:24   \n",
       "4    NaN     NaN     NaN  2019-05-03 13:12:56     NaN  2019-05-03 13:12:56   \n",
       "\n",
       "               Bulk 15  \n",
       "0  2019-05-03 11:03:52  \n",
       "1  2019-05-03 11:40:20  \n",
       "2  2019-05-03 12:09:40  \n",
       "3  2019-05-03 12:41:24  \n",
       "4  2019-05-03 13:12:56  "
      ]
     },
     "execution_count": 8,
     "metadata": {},
     "output_type": "execute_result"
    }
   ],
   "source": [
    "data_bulk_time.head()"
   ]
  },
  {
   "cell_type": "markdown",
   "id": "c89cfe27",
   "metadata": {},
   "source": [
    "**4)** Отобразим сведения о таблице и непосредственно данные о продувке сплава газом."
   ]
  },
  {
   "cell_type": "code",
   "execution_count": 9,
   "id": "8b2c5f59",
   "metadata": {},
   "outputs": [
    {
     "name": "stdout",
     "output_type": "stream",
     "text": [
      "<class 'pandas.core.frame.DataFrame'>\n",
      "RangeIndex: 3239 entries, 0 to 3238\n",
      "Data columns (total 2 columns):\n",
      " #   Column  Non-Null Count  Dtype  \n",
      "---  ------  --------------  -----  \n",
      " 0   key     3239 non-null   int64  \n",
      " 1   Газ 1   3239 non-null   float64\n",
      "dtypes: float64(1), int64(1)\n",
      "memory usage: 50.7 KB\n"
     ]
    }
   ],
   "source": [
    "data_gas.info()"
   ]
  },
  {
   "cell_type": "code",
   "execution_count": 10,
   "id": "0438c4a4",
   "metadata": {
    "scrolled": true
   },
   "outputs": [
    {
     "data": {
      "text/html": [
       "<div>\n",
       "<style scoped>\n",
       "    .dataframe tbody tr th:only-of-type {\n",
       "        vertical-align: middle;\n",
       "    }\n",
       "\n",
       "    .dataframe tbody tr th {\n",
       "        vertical-align: top;\n",
       "    }\n",
       "\n",
       "    .dataframe thead th {\n",
       "        text-align: right;\n",
       "    }\n",
       "</style>\n",
       "<table border=\"1\" class=\"dataframe\">\n",
       "  <thead>\n",
       "    <tr style=\"text-align: right;\">\n",
       "      <th></th>\n",
       "      <th>key</th>\n",
       "      <th>Газ 1</th>\n",
       "    </tr>\n",
       "  </thead>\n",
       "  <tbody>\n",
       "    <tr>\n",
       "      <th>0</th>\n",
       "      <td>1</td>\n",
       "      <td>29.749986</td>\n",
       "    </tr>\n",
       "    <tr>\n",
       "      <th>1</th>\n",
       "      <td>2</td>\n",
       "      <td>12.555561</td>\n",
       "    </tr>\n",
       "    <tr>\n",
       "      <th>2</th>\n",
       "      <td>3</td>\n",
       "      <td>28.554793</td>\n",
       "    </tr>\n",
       "    <tr>\n",
       "      <th>3</th>\n",
       "      <td>4</td>\n",
       "      <td>18.841219</td>\n",
       "    </tr>\n",
       "    <tr>\n",
       "      <th>4</th>\n",
       "      <td>5</td>\n",
       "      <td>5.413692</td>\n",
       "    </tr>\n",
       "  </tbody>\n",
       "</table>\n",
       "</div>"
      ],
      "text/plain": [
       "   key      Газ 1\n",
       "0    1  29.749986\n",
       "1    2  12.555561\n",
       "2    3  28.554793\n",
       "3    4  18.841219\n",
       "4    5   5.413692"
      ]
     },
     "execution_count": 10,
     "metadata": {},
     "output_type": "execute_result"
    }
   ],
   "source": [
    "data_gas.head()"
   ]
  },
  {
   "cell_type": "markdown",
   "id": "259f37d4",
   "metadata": {},
   "source": [
    "**5)** Отобразим сведения о таблице и непосредственно данные об измерении температуры."
   ]
  },
  {
   "cell_type": "code",
   "execution_count": 11,
   "id": "d1cd9e34",
   "metadata": {},
   "outputs": [
    {
     "name": "stdout",
     "output_type": "stream",
     "text": [
      "<class 'pandas.core.frame.DataFrame'>\n",
      "RangeIndex: 15907 entries, 0 to 15906\n",
      "Data columns (total 3 columns):\n",
      " #   Column        Non-Null Count  Dtype  \n",
      "---  ------        --------------  -----  \n",
      " 0   key           15907 non-null  int64  \n",
      " 1   Время замера  15907 non-null  object \n",
      " 2   Температура   13006 non-null  float64\n",
      "dtypes: float64(1), int64(1), object(1)\n",
      "memory usage: 372.9+ KB\n"
     ]
    }
   ],
   "source": [
    "data_temp.info()"
   ]
  },
  {
   "cell_type": "code",
   "execution_count": 12,
   "id": "da7568cc",
   "metadata": {
    "scrolled": true
   },
   "outputs": [
    {
     "data": {
      "text/html": [
       "<div>\n",
       "<style scoped>\n",
       "    .dataframe tbody tr th:only-of-type {\n",
       "        vertical-align: middle;\n",
       "    }\n",
       "\n",
       "    .dataframe tbody tr th {\n",
       "        vertical-align: top;\n",
       "    }\n",
       "\n",
       "    .dataframe thead th {\n",
       "        text-align: right;\n",
       "    }\n",
       "</style>\n",
       "<table border=\"1\" class=\"dataframe\">\n",
       "  <thead>\n",
       "    <tr style=\"text-align: right;\">\n",
       "      <th></th>\n",
       "      <th>key</th>\n",
       "      <th>Время замера</th>\n",
       "      <th>Температура</th>\n",
       "    </tr>\n",
       "  </thead>\n",
       "  <tbody>\n",
       "    <tr>\n",
       "      <th>0</th>\n",
       "      <td>1</td>\n",
       "      <td>2019-05-03 11:16:18</td>\n",
       "      <td>1571.0</td>\n",
       "    </tr>\n",
       "    <tr>\n",
       "      <th>1</th>\n",
       "      <td>1</td>\n",
       "      <td>2019-05-03 11:25:53</td>\n",
       "      <td>1604.0</td>\n",
       "    </tr>\n",
       "    <tr>\n",
       "      <th>2</th>\n",
       "      <td>1</td>\n",
       "      <td>2019-05-03 11:29:11</td>\n",
       "      <td>1618.0</td>\n",
       "    </tr>\n",
       "    <tr>\n",
       "      <th>3</th>\n",
       "      <td>1</td>\n",
       "      <td>2019-05-03 11:30:01</td>\n",
       "      <td>1601.0</td>\n",
       "    </tr>\n",
       "    <tr>\n",
       "      <th>4</th>\n",
       "      <td>1</td>\n",
       "      <td>2019-05-03 11:30:39</td>\n",
       "      <td>1613.0</td>\n",
       "    </tr>\n",
       "    <tr>\n",
       "      <th>5</th>\n",
       "      <td>2</td>\n",
       "      <td>2019-05-03 11:37:27</td>\n",
       "      <td>1581.0</td>\n",
       "    </tr>\n",
       "    <tr>\n",
       "      <th>6</th>\n",
       "      <td>2</td>\n",
       "      <td>2019-05-03 11:38:00</td>\n",
       "      <td>1577.0</td>\n",
       "    </tr>\n",
       "    <tr>\n",
       "      <th>7</th>\n",
       "      <td>2</td>\n",
       "      <td>2019-05-03 11:49:38</td>\n",
       "      <td>1589.0</td>\n",
       "    </tr>\n",
       "    <tr>\n",
       "      <th>8</th>\n",
       "      <td>2</td>\n",
       "      <td>2019-05-03 11:55:50</td>\n",
       "      <td>1604.0</td>\n",
       "    </tr>\n",
       "    <tr>\n",
       "      <th>9</th>\n",
       "      <td>2</td>\n",
       "      <td>2019-05-03 11:58:24</td>\n",
       "      <td>1608.0</td>\n",
       "    </tr>\n",
       "  </tbody>\n",
       "</table>\n",
       "</div>"
      ],
      "text/plain": [
       "   key         Время замера  Температура\n",
       "0    1  2019-05-03 11:16:18       1571.0\n",
       "1    1  2019-05-03 11:25:53       1604.0\n",
       "2    1  2019-05-03 11:29:11       1618.0\n",
       "3    1  2019-05-03 11:30:01       1601.0\n",
       "4    1  2019-05-03 11:30:39       1613.0\n",
       "5    2  2019-05-03 11:37:27       1581.0\n",
       "6    2  2019-05-03 11:38:00       1577.0\n",
       "7    2  2019-05-03 11:49:38       1589.0\n",
       "8    2  2019-05-03 11:55:50       1604.0\n",
       "9    2  2019-05-03 11:58:24       1608.0"
      ]
     },
     "execution_count": 12,
     "metadata": {},
     "output_type": "execute_result"
    }
   ],
   "source": [
    "data_temp.head(10)"
   ]
  },
  {
   "cell_type": "markdown",
   "id": "ba508179",
   "metadata": {},
   "source": [
    "**6)** Отобразим сведения о таблице и непосредственно данные о проволочных материалах (объём)."
   ]
  },
  {
   "cell_type": "code",
   "execution_count": 13,
   "id": "224fbf62",
   "metadata": {},
   "outputs": [
    {
     "name": "stdout",
     "output_type": "stream",
     "text": [
      "<class 'pandas.core.frame.DataFrame'>\n",
      "RangeIndex: 3081 entries, 0 to 3080\n",
      "Data columns (total 10 columns):\n",
      " #   Column  Non-Null Count  Dtype  \n",
      "---  ------  --------------  -----  \n",
      " 0   key     3081 non-null   int64  \n",
      " 1   Wire 1  3055 non-null   float64\n",
      " 2   Wire 2  1079 non-null   float64\n",
      " 3   Wire 3  63 non-null     float64\n",
      " 4   Wire 4  14 non-null     float64\n",
      " 5   Wire 5  1 non-null      float64\n",
      " 6   Wire 6  73 non-null     float64\n",
      " 7   Wire 7  11 non-null     float64\n",
      " 8   Wire 8  19 non-null     float64\n",
      " 9   Wire 9  29 non-null     float64\n",
      "dtypes: float64(9), int64(1)\n",
      "memory usage: 240.8 KB\n"
     ]
    }
   ],
   "source": [
    "data_wire.info()"
   ]
  },
  {
   "cell_type": "code",
   "execution_count": 14,
   "id": "4a84eb4f",
   "metadata": {
    "scrolled": true
   },
   "outputs": [
    {
     "data": {
      "text/html": [
       "<div>\n",
       "<style scoped>\n",
       "    .dataframe tbody tr th:only-of-type {\n",
       "        vertical-align: middle;\n",
       "    }\n",
       "\n",
       "    .dataframe tbody tr th {\n",
       "        vertical-align: top;\n",
       "    }\n",
       "\n",
       "    .dataframe thead th {\n",
       "        text-align: right;\n",
       "    }\n",
       "</style>\n",
       "<table border=\"1\" class=\"dataframe\">\n",
       "  <thead>\n",
       "    <tr style=\"text-align: right;\">\n",
       "      <th></th>\n",
       "      <th>key</th>\n",
       "      <th>Wire 1</th>\n",
       "      <th>Wire 2</th>\n",
       "      <th>Wire 3</th>\n",
       "      <th>Wire 4</th>\n",
       "      <th>Wire 5</th>\n",
       "      <th>Wire 6</th>\n",
       "      <th>Wire 7</th>\n",
       "      <th>Wire 8</th>\n",
       "      <th>Wire 9</th>\n",
       "    </tr>\n",
       "  </thead>\n",
       "  <tbody>\n",
       "    <tr>\n",
       "      <th>0</th>\n",
       "      <td>1</td>\n",
       "      <td>60.059998</td>\n",
       "      <td>NaN</td>\n",
       "      <td>NaN</td>\n",
       "      <td>NaN</td>\n",
       "      <td>NaN</td>\n",
       "      <td>NaN</td>\n",
       "      <td>NaN</td>\n",
       "      <td>NaN</td>\n",
       "      <td>NaN</td>\n",
       "    </tr>\n",
       "    <tr>\n",
       "      <th>1</th>\n",
       "      <td>2</td>\n",
       "      <td>96.052315</td>\n",
       "      <td>NaN</td>\n",
       "      <td>NaN</td>\n",
       "      <td>NaN</td>\n",
       "      <td>NaN</td>\n",
       "      <td>NaN</td>\n",
       "      <td>NaN</td>\n",
       "      <td>NaN</td>\n",
       "      <td>NaN</td>\n",
       "    </tr>\n",
       "    <tr>\n",
       "      <th>2</th>\n",
       "      <td>3</td>\n",
       "      <td>91.160157</td>\n",
       "      <td>NaN</td>\n",
       "      <td>NaN</td>\n",
       "      <td>NaN</td>\n",
       "      <td>NaN</td>\n",
       "      <td>NaN</td>\n",
       "      <td>NaN</td>\n",
       "      <td>NaN</td>\n",
       "      <td>NaN</td>\n",
       "    </tr>\n",
       "    <tr>\n",
       "      <th>3</th>\n",
       "      <td>4</td>\n",
       "      <td>89.063515</td>\n",
       "      <td>NaN</td>\n",
       "      <td>NaN</td>\n",
       "      <td>NaN</td>\n",
       "      <td>NaN</td>\n",
       "      <td>NaN</td>\n",
       "      <td>NaN</td>\n",
       "      <td>NaN</td>\n",
       "      <td>NaN</td>\n",
       "    </tr>\n",
       "    <tr>\n",
       "      <th>4</th>\n",
       "      <td>5</td>\n",
       "      <td>89.238236</td>\n",
       "      <td>9.11456</td>\n",
       "      <td>NaN</td>\n",
       "      <td>NaN</td>\n",
       "      <td>NaN</td>\n",
       "      <td>NaN</td>\n",
       "      <td>NaN</td>\n",
       "      <td>NaN</td>\n",
       "      <td>NaN</td>\n",
       "    </tr>\n",
       "  </tbody>\n",
       "</table>\n",
       "</div>"
      ],
      "text/plain": [
       "   key     Wire 1   Wire 2  Wire 3  Wire 4  Wire 5  Wire 6  Wire 7  Wire 8  \\\n",
       "0    1  60.059998      NaN     NaN     NaN     NaN     NaN     NaN     NaN   \n",
       "1    2  96.052315      NaN     NaN     NaN     NaN     NaN     NaN     NaN   \n",
       "2    3  91.160157      NaN     NaN     NaN     NaN     NaN     NaN     NaN   \n",
       "3    4  89.063515      NaN     NaN     NaN     NaN     NaN     NaN     NaN   \n",
       "4    5  89.238236  9.11456     NaN     NaN     NaN     NaN     NaN     NaN   \n",
       "\n",
       "   Wire 9  \n",
       "0     NaN  \n",
       "1     NaN  \n",
       "2     NaN  \n",
       "3     NaN  \n",
       "4     NaN  "
      ]
     },
     "execution_count": 14,
     "metadata": {},
     "output_type": "execute_result"
    }
   ],
   "source": [
    "data_wire.head()"
   ]
  },
  {
   "cell_type": "markdown",
   "id": "0deb605c",
   "metadata": {},
   "source": [
    "**7)** Отобразим сведения о таблице и непосредственно данные о проволочных материалах (время)."
   ]
  },
  {
   "cell_type": "code",
   "execution_count": 15,
   "id": "c747545b",
   "metadata": {},
   "outputs": [
    {
     "name": "stdout",
     "output_type": "stream",
     "text": [
      "<class 'pandas.core.frame.DataFrame'>\n",
      "RangeIndex: 3081 entries, 0 to 3080\n",
      "Data columns (total 10 columns):\n",
      " #   Column  Non-Null Count  Dtype \n",
      "---  ------  --------------  ----- \n",
      " 0   key     3081 non-null   int64 \n",
      " 1   Wire 1  3055 non-null   object\n",
      " 2   Wire 2  1079 non-null   object\n",
      " 3   Wire 3  63 non-null     object\n",
      " 4   Wire 4  14 non-null     object\n",
      " 5   Wire 5  1 non-null      object\n",
      " 6   Wire 6  73 non-null     object\n",
      " 7   Wire 7  11 non-null     object\n",
      " 8   Wire 8  19 non-null     object\n",
      " 9   Wire 9  29 non-null     object\n",
      "dtypes: int64(1), object(9)\n",
      "memory usage: 240.8+ KB\n"
     ]
    }
   ],
   "source": [
    "data_wire_time.info()"
   ]
  },
  {
   "cell_type": "code",
   "execution_count": 16,
   "id": "fbf70e50",
   "metadata": {
    "scrolled": true
   },
   "outputs": [
    {
     "data": {
      "text/html": [
       "<div>\n",
       "<style scoped>\n",
       "    .dataframe tbody tr th:only-of-type {\n",
       "        vertical-align: middle;\n",
       "    }\n",
       "\n",
       "    .dataframe tbody tr th {\n",
       "        vertical-align: top;\n",
       "    }\n",
       "\n",
       "    .dataframe thead th {\n",
       "        text-align: right;\n",
       "    }\n",
       "</style>\n",
       "<table border=\"1\" class=\"dataframe\">\n",
       "  <thead>\n",
       "    <tr style=\"text-align: right;\">\n",
       "      <th></th>\n",
       "      <th>key</th>\n",
       "      <th>Wire 1</th>\n",
       "      <th>Wire 2</th>\n",
       "      <th>Wire 3</th>\n",
       "      <th>Wire 4</th>\n",
       "      <th>Wire 5</th>\n",
       "      <th>Wire 6</th>\n",
       "      <th>Wire 7</th>\n",
       "      <th>Wire 8</th>\n",
       "      <th>Wire 9</th>\n",
       "    </tr>\n",
       "  </thead>\n",
       "  <tbody>\n",
       "    <tr>\n",
       "      <th>0</th>\n",
       "      <td>1</td>\n",
       "      <td>2019-05-03 11:11:41</td>\n",
       "      <td>NaN</td>\n",
       "      <td>NaN</td>\n",
       "      <td>NaN</td>\n",
       "      <td>NaN</td>\n",
       "      <td>NaN</td>\n",
       "      <td>NaN</td>\n",
       "      <td>NaN</td>\n",
       "      <td>NaN</td>\n",
       "    </tr>\n",
       "    <tr>\n",
       "      <th>1</th>\n",
       "      <td>2</td>\n",
       "      <td>2019-05-03 11:46:10</td>\n",
       "      <td>NaN</td>\n",
       "      <td>NaN</td>\n",
       "      <td>NaN</td>\n",
       "      <td>NaN</td>\n",
       "      <td>NaN</td>\n",
       "      <td>NaN</td>\n",
       "      <td>NaN</td>\n",
       "      <td>NaN</td>\n",
       "    </tr>\n",
       "    <tr>\n",
       "      <th>2</th>\n",
       "      <td>3</td>\n",
       "      <td>2019-05-03 12:13:47</td>\n",
       "      <td>NaN</td>\n",
       "      <td>NaN</td>\n",
       "      <td>NaN</td>\n",
       "      <td>NaN</td>\n",
       "      <td>NaN</td>\n",
       "      <td>NaN</td>\n",
       "      <td>NaN</td>\n",
       "      <td>NaN</td>\n",
       "    </tr>\n",
       "    <tr>\n",
       "      <th>3</th>\n",
       "      <td>4</td>\n",
       "      <td>2019-05-03 12:48:05</td>\n",
       "      <td>NaN</td>\n",
       "      <td>NaN</td>\n",
       "      <td>NaN</td>\n",
       "      <td>NaN</td>\n",
       "      <td>NaN</td>\n",
       "      <td>NaN</td>\n",
       "      <td>NaN</td>\n",
       "      <td>NaN</td>\n",
       "    </tr>\n",
       "    <tr>\n",
       "      <th>4</th>\n",
       "      <td>5</td>\n",
       "      <td>2019-05-03 13:18:15</td>\n",
       "      <td>2019-05-03 13:32:06</td>\n",
       "      <td>NaN</td>\n",
       "      <td>NaN</td>\n",
       "      <td>NaN</td>\n",
       "      <td>NaN</td>\n",
       "      <td>NaN</td>\n",
       "      <td>NaN</td>\n",
       "      <td>NaN</td>\n",
       "    </tr>\n",
       "    <tr>\n",
       "      <th>5</th>\n",
       "      <td>6</td>\n",
       "      <td>2019-05-03 13:59:02</td>\n",
       "      <td>2019-05-03 13:59:54</td>\n",
       "      <td>NaN</td>\n",
       "      <td>NaN</td>\n",
       "      <td>NaN</td>\n",
       "      <td>NaN</td>\n",
       "      <td>NaN</td>\n",
       "      <td>NaN</td>\n",
       "      <td>NaN</td>\n",
       "    </tr>\n",
       "  </tbody>\n",
       "</table>\n",
       "</div>"
      ],
      "text/plain": [
       "   key               Wire 1               Wire 2 Wire 3 Wire 4 Wire 5 Wire 6  \\\n",
       "0    1  2019-05-03 11:11:41                  NaN    NaN    NaN    NaN    NaN   \n",
       "1    2  2019-05-03 11:46:10                  NaN    NaN    NaN    NaN    NaN   \n",
       "2    3  2019-05-03 12:13:47                  NaN    NaN    NaN    NaN    NaN   \n",
       "3    4  2019-05-03 12:48:05                  NaN    NaN    NaN    NaN    NaN   \n",
       "4    5  2019-05-03 13:18:15  2019-05-03 13:32:06    NaN    NaN    NaN    NaN   \n",
       "5    6  2019-05-03 13:59:02  2019-05-03 13:59:54    NaN    NaN    NaN    NaN   \n",
       "\n",
       "  Wire 7 Wire 8 Wire 9  \n",
       "0    NaN    NaN    NaN  \n",
       "1    NaN    NaN    NaN  \n",
       "2    NaN    NaN    NaN  \n",
       "3    NaN    NaN    NaN  \n",
       "4    NaN    NaN    NaN  \n",
       "5    NaN    NaN    NaN  "
      ]
     },
     "execution_count": 16,
     "metadata": {},
     "output_type": "execute_result"
    }
   ],
   "source": [
    "data_wire_time.head(6)"
   ]
  },
  {
   "cell_type": "markdown",
   "id": "cd830c46",
   "metadata": {},
   "source": [
    "## Исследовательский анализ данных"
   ]
  },
  {
   "cell_type": "markdown",
   "id": "1cfa9d51",
   "metadata": {},
   "source": [
    "### Анализ данных об электродах"
   ]
  },
  {
   "cell_type": "markdown",
   "id": "09c22dd8",
   "metadata": {},
   "source": [
    "Исходя из общей информации о таблице с данными об электродах видно, что в ней нет пропусков. Уточним, есть ли информация обо всех партиях."
   ]
  },
  {
   "cell_type": "code",
   "execution_count": 17,
   "id": "2c44657b",
   "metadata": {},
   "outputs": [
    {
     "data": {
      "text/plain": [
       "3241"
      ]
     },
     "execution_count": 17,
     "metadata": {},
     "output_type": "execute_result"
    }
   ],
   "source": [
    "data_arc['key'].max()"
   ]
  },
  {
   "cell_type": "code",
   "execution_count": 18,
   "id": "4c6f7f41",
   "metadata": {},
   "outputs": [
    {
     "data": {
      "text/plain": [
       "3214"
      ]
     },
     "execution_count": 18,
     "metadata": {},
     "output_type": "execute_result"
    }
   ],
   "source": [
    "data_arc['key'].nunique()"
   ]
  },
  {
   "cell_type": "markdown",
   "id": "3dcbc0f7",
   "metadata": {},
   "source": [
    "Данные по некоторым партиям отсутствуют. Максимальный номер партии 3241, а всего в таблице сведения только о 3214 партиях.\n",
    "\n",
    "Посмотрим описание данных об электродах, чтобы узнать есть ли аномалии в значениях активной и реактивной мощности."
   ]
  },
  {
   "cell_type": "code",
   "execution_count": 19,
   "id": "abb4d617",
   "metadata": {},
   "outputs": [
    {
     "data": {
      "text/html": [
       "<div>\n",
       "<style scoped>\n",
       "    .dataframe tbody tr th:only-of-type {\n",
       "        vertical-align: middle;\n",
       "    }\n",
       "\n",
       "    .dataframe tbody tr th {\n",
       "        vertical-align: top;\n",
       "    }\n",
       "\n",
       "    .dataframe thead th {\n",
       "        text-align: right;\n",
       "    }\n",
       "</style>\n",
       "<table border=\"1\" class=\"dataframe\">\n",
       "  <thead>\n",
       "    <tr style=\"text-align: right;\">\n",
       "      <th></th>\n",
       "      <th>key</th>\n",
       "      <th>Активная мощность</th>\n",
       "      <th>Реактивная мощность</th>\n",
       "    </tr>\n",
       "  </thead>\n",
       "  <tbody>\n",
       "    <tr>\n",
       "      <th>count</th>\n",
       "      <td>14876.000000</td>\n",
       "      <td>14876.000000</td>\n",
       "      <td>14876.000000</td>\n",
       "    </tr>\n",
       "    <tr>\n",
       "      <th>mean</th>\n",
       "      <td>1615.220422</td>\n",
       "      <td>0.670441</td>\n",
       "      <td>0.452592</td>\n",
       "    </tr>\n",
       "    <tr>\n",
       "      <th>std</th>\n",
       "      <td>934.571502</td>\n",
       "      <td>0.408159</td>\n",
       "      <td>5.878702</td>\n",
       "    </tr>\n",
       "    <tr>\n",
       "      <th>min</th>\n",
       "      <td>1.000000</td>\n",
       "      <td>0.030002</td>\n",
       "      <td>-715.504924</td>\n",
       "    </tr>\n",
       "    <tr>\n",
       "      <th>25%</th>\n",
       "      <td>806.000000</td>\n",
       "      <td>0.395297</td>\n",
       "      <td>0.290991</td>\n",
       "    </tr>\n",
       "    <tr>\n",
       "      <th>50%</th>\n",
       "      <td>1617.000000</td>\n",
       "      <td>0.555517</td>\n",
       "      <td>0.415962</td>\n",
       "    </tr>\n",
       "    <tr>\n",
       "      <th>75%</th>\n",
       "      <td>2429.000000</td>\n",
       "      <td>0.857034</td>\n",
       "      <td>0.637371</td>\n",
       "    </tr>\n",
       "    <tr>\n",
       "      <th>max</th>\n",
       "      <td>3241.000000</td>\n",
       "      <td>3.731596</td>\n",
       "      <td>2.676388</td>\n",
       "    </tr>\n",
       "  </tbody>\n",
       "</table>\n",
       "</div>"
      ],
      "text/plain": [
       "                key  Активная мощность  Реактивная мощность\n",
       "count  14876.000000       14876.000000         14876.000000\n",
       "mean    1615.220422           0.670441             0.452592\n",
       "std      934.571502           0.408159             5.878702\n",
       "min        1.000000           0.030002          -715.504924\n",
       "25%      806.000000           0.395297             0.290991\n",
       "50%     1617.000000           0.555517             0.415962\n",
       "75%     2429.000000           0.857034             0.637371\n",
       "max     3241.000000           3.731596             2.676388"
      ]
     },
     "execution_count": 19,
     "metadata": {},
     "output_type": "execute_result"
    }
   ],
   "source": [
    "data_arc.describe()"
   ]
  },
  {
   "cell_type": "markdown",
   "id": "faef1e73",
   "metadata": {},
   "source": [
    "Замечены странные отрицательные значения реактивной мощности. Физически эти значения возможны, но посмотрим для какой партии они указаны."
   ]
  },
  {
   "cell_type": "code",
   "execution_count": 20,
   "id": "2607ed75",
   "metadata": {},
   "outputs": [
    {
     "data": {
      "text/html": [
       "<div>\n",
       "<style scoped>\n",
       "    .dataframe tbody tr th:only-of-type {\n",
       "        vertical-align: middle;\n",
       "    }\n",
       "\n",
       "    .dataframe tbody tr th {\n",
       "        vertical-align: top;\n",
       "    }\n",
       "\n",
       "    .dataframe thead th {\n",
       "        text-align: right;\n",
       "    }\n",
       "</style>\n",
       "<table border=\"1\" class=\"dataframe\">\n",
       "  <thead>\n",
       "    <tr style=\"text-align: right;\">\n",
       "      <th></th>\n",
       "      <th>key</th>\n",
       "      <th>Начало нагрева дугой</th>\n",
       "      <th>Конец нагрева дугой</th>\n",
       "      <th>Активная мощность</th>\n",
       "      <th>Реактивная мощность</th>\n",
       "    </tr>\n",
       "  </thead>\n",
       "  <tbody>\n",
       "    <tr>\n",
       "      <th>9780</th>\n",
       "      <td>2116</td>\n",
       "      <td>2019-07-24 00:44:48</td>\n",
       "      <td>2019-07-24 00:46:37</td>\n",
       "      <td>0.495782</td>\n",
       "      <td>-715.504924</td>\n",
       "    </tr>\n",
       "  </tbody>\n",
       "</table>\n",
       "</div>"
      ],
      "text/plain": [
       "       key Начало нагрева дугой  Конец нагрева дугой  Активная мощность  \\\n",
       "9780  2116  2019-07-24 00:44:48  2019-07-24 00:46:37           0.495782   \n",
       "\n",
       "      Реактивная мощность  \n",
       "9780          -715.504924  "
      ]
     },
     "execution_count": 20,
     "metadata": {},
     "output_type": "execute_result"
    }
   ],
   "source": [
    "data_arc[data_arc['Реактивная мощность']<0]"
   ]
  },
  {
   "cell_type": "markdown",
   "id": "b993eb05",
   "metadata": {},
   "source": [
    "Выведем всю информацию по нагревам для партии 2116."
   ]
  },
  {
   "cell_type": "code",
   "execution_count": 21,
   "id": "5c52e3c2",
   "metadata": {},
   "outputs": [
    {
     "data": {
      "text/html": [
       "<div>\n",
       "<style scoped>\n",
       "    .dataframe tbody tr th:only-of-type {\n",
       "        vertical-align: middle;\n",
       "    }\n",
       "\n",
       "    .dataframe tbody tr th {\n",
       "        vertical-align: top;\n",
       "    }\n",
       "\n",
       "    .dataframe thead th {\n",
       "        text-align: right;\n",
       "    }\n",
       "</style>\n",
       "<table border=\"1\" class=\"dataframe\">\n",
       "  <thead>\n",
       "    <tr style=\"text-align: right;\">\n",
       "      <th></th>\n",
       "      <th>key</th>\n",
       "      <th>Начало нагрева дугой</th>\n",
       "      <th>Конец нагрева дугой</th>\n",
       "      <th>Активная мощность</th>\n",
       "      <th>Реактивная мощность</th>\n",
       "    </tr>\n",
       "  </thead>\n",
       "  <tbody>\n",
       "    <tr>\n",
       "      <th>9778</th>\n",
       "      <td>2116</td>\n",
       "      <td>2019-07-24 00:29:52</td>\n",
       "      <td>2019-07-24 00:31:54</td>\n",
       "      <td>0.433266</td>\n",
       "      <td>0.306141</td>\n",
       "    </tr>\n",
       "    <tr>\n",
       "      <th>9779</th>\n",
       "      <td>2116</td>\n",
       "      <td>2019-07-24 00:35:50</td>\n",
       "      <td>2019-07-24 00:38:05</td>\n",
       "      <td>0.620265</td>\n",
       "      <td>0.408352</td>\n",
       "    </tr>\n",
       "    <tr>\n",
       "      <th>9780</th>\n",
       "      <td>2116</td>\n",
       "      <td>2019-07-24 00:44:48</td>\n",
       "      <td>2019-07-24 00:46:37</td>\n",
       "      <td>0.495782</td>\n",
       "      <td>-715.504924</td>\n",
       "    </tr>\n",
       "    <tr>\n",
       "      <th>9781</th>\n",
       "      <td>2116</td>\n",
       "      <td>2019-07-24 00:51:51</td>\n",
       "      <td>2019-07-24 00:52:58</td>\n",
       "      <td>0.299368</td>\n",
       "      <td>0.198796</td>\n",
       "    </tr>\n",
       "  </tbody>\n",
       "</table>\n",
       "</div>"
      ],
      "text/plain": [
       "       key Начало нагрева дугой  Конец нагрева дугой  Активная мощность  \\\n",
       "9778  2116  2019-07-24 00:29:52  2019-07-24 00:31:54           0.433266   \n",
       "9779  2116  2019-07-24 00:35:50  2019-07-24 00:38:05           0.620265   \n",
       "9780  2116  2019-07-24 00:44:48  2019-07-24 00:46:37           0.495782   \n",
       "9781  2116  2019-07-24 00:51:51  2019-07-24 00:52:58           0.299368   \n",
       "\n",
       "      Реактивная мощность  \n",
       "9778             0.306141  \n",
       "9779             0.408352  \n",
       "9780          -715.504924  \n",
       "9781             0.198796  "
      ]
     },
     "execution_count": 21,
     "metadata": {},
     "output_type": "execute_result"
    }
   ],
   "source": [
    "data_arc[data_arc['key']==2116]"
   ]
  },
  {
   "cell_type": "markdown",
   "id": "8b28522e",
   "metadata": {},
   "source": [
    "Видно, что отрицательное значение реактивной мощности явно аномальное. Строку с ним удалять не будем, а просто заменим его на среднее по другим измерениям для данной партии."
   ]
  },
  {
   "cell_type": "code",
   "execution_count": 22,
   "id": "bca38c56",
   "metadata": {},
   "outputs": [],
   "source": [
    "data_arc.loc[9780, 'Реактивная мощность'] = (\n",
    "    data_arc.loc[(data_arc['key']==2116) & (data_arc['Реактивная мощность']>0), 'Реактивная мощность'].mean())"
   ]
  },
  {
   "cell_type": "code",
   "execution_count": 23,
   "id": "433522cf",
   "metadata": {},
   "outputs": [
    {
     "data": {
      "text/html": [
       "<div>\n",
       "<style scoped>\n",
       "    .dataframe tbody tr th:only-of-type {\n",
       "        vertical-align: middle;\n",
       "    }\n",
       "\n",
       "    .dataframe tbody tr th {\n",
       "        vertical-align: top;\n",
       "    }\n",
       "\n",
       "    .dataframe thead th {\n",
       "        text-align: right;\n",
       "    }\n",
       "</style>\n",
       "<table border=\"1\" class=\"dataframe\">\n",
       "  <thead>\n",
       "    <tr style=\"text-align: right;\">\n",
       "      <th></th>\n",
       "      <th>key</th>\n",
       "      <th>Начало нагрева дугой</th>\n",
       "      <th>Конец нагрева дугой</th>\n",
       "      <th>Активная мощность</th>\n",
       "      <th>Реактивная мощность</th>\n",
       "    </tr>\n",
       "  </thead>\n",
       "  <tbody>\n",
       "    <tr>\n",
       "      <th>9778</th>\n",
       "      <td>2116</td>\n",
       "      <td>2019-07-24 00:29:52</td>\n",
       "      <td>2019-07-24 00:31:54</td>\n",
       "      <td>0.433266</td>\n",
       "      <td>0.306141</td>\n",
       "    </tr>\n",
       "    <tr>\n",
       "      <th>9779</th>\n",
       "      <td>2116</td>\n",
       "      <td>2019-07-24 00:35:50</td>\n",
       "      <td>2019-07-24 00:38:05</td>\n",
       "      <td>0.620265</td>\n",
       "      <td>0.408352</td>\n",
       "    </tr>\n",
       "    <tr>\n",
       "      <th>9780</th>\n",
       "      <td>2116</td>\n",
       "      <td>2019-07-24 00:44:48</td>\n",
       "      <td>2019-07-24 00:46:37</td>\n",
       "      <td>0.495782</td>\n",
       "      <td>0.304429</td>\n",
       "    </tr>\n",
       "    <tr>\n",
       "      <th>9781</th>\n",
       "      <td>2116</td>\n",
       "      <td>2019-07-24 00:51:51</td>\n",
       "      <td>2019-07-24 00:52:58</td>\n",
       "      <td>0.299368</td>\n",
       "      <td>0.198796</td>\n",
       "    </tr>\n",
       "  </tbody>\n",
       "</table>\n",
       "</div>"
      ],
      "text/plain": [
       "       key Начало нагрева дугой  Конец нагрева дугой  Активная мощность  \\\n",
       "9778  2116  2019-07-24 00:29:52  2019-07-24 00:31:54           0.433266   \n",
       "9779  2116  2019-07-24 00:35:50  2019-07-24 00:38:05           0.620265   \n",
       "9780  2116  2019-07-24 00:44:48  2019-07-24 00:46:37           0.495782   \n",
       "9781  2116  2019-07-24 00:51:51  2019-07-24 00:52:58           0.299368   \n",
       "\n",
       "      Реактивная мощность  \n",
       "9778             0.306141  \n",
       "9779             0.408352  \n",
       "9780             0.304429  \n",
       "9781             0.198796  "
      ]
     },
     "execution_count": 23,
     "metadata": {},
     "output_type": "execute_result"
    }
   ],
   "source": [
    "data_arc[data_arc['key']==2116]"
   ]
  },
  {
   "cell_type": "markdown",
   "id": "cedc0ee8",
   "metadata": {},
   "source": [
    "Аномалия устранена успешно. \n",
    "\n",
    "Теперь посмотрим гистограммы частот значений активной и реактивной мощностей. Мощности измеряются в разных величинах (вероятно, мегаватты и мегавары), но их порядок схожий, поэтому можно отобразить оба графика на одной координатной плоскости."
   ]
  },
  {
   "cell_type": "code",
   "execution_count": 24,
   "id": "707483a5",
   "metadata": {},
   "outputs": [
    {
     "data": {
      "image/png": "[encoded data removed]",
      "text/plain": [
       "<Figure size 1008x432 with 1 Axes>"
      ]
     },
     "metadata": {
      "needs_background": "light"
     },
     "output_type": "display_data"
    }
   ],
   "source": [
    "plt.figure(figsize=(14, 6))\n",
    "plt.hist(data_arc['Активная мощность'], bins=200, label='Активная мощность')\n",
    "plt.hist(data_arc['Реактивная мощность'], bins=200, label='Реактивная мощность', alpha=0.8)\n",
    "plt.xlabel('Значение мощности')\n",
    "plt.ylabel('Частота')\n",
    "plt.legend()\n",
    "plt.title('Распределение значений активной и реактивной мощностей')\n",
    "plt.show()"
   ]
  },
  {
   "cell_type": "markdown",
   "id": "33ef96aa",
   "metadata": {},
   "source": [
    "Построим теперь диаграммы размаха."
   ]
  },
  {
   "cell_type": "code",
   "execution_count": 25,
   "id": "a7f4b820",
   "metadata": {},
   "outputs": [
    {
     "data": {
      "image/png": "[encoded data removed]",
      "text/plain": [
       "<Figure size 1080x216 with 1 Axes>"
      ]
     },
     "metadata": {
      "needs_background": "light"
     },
     "output_type": "display_data"
    }
   ],
   "source": [
    "plt.figure(figsize=(15, 3))\n",
    "temp_data = data_arc[['Активная мощность','Реактивная мощность']]\n",
    "medianprops=dict(color='black')\n",
    "bp = plt.boxplot(temp_data, labels=temp_data.columns, vert=False, widths=0.5, patch_artist=True, medianprops=medianprops)\n",
    "colors = ['skyblue', 'orange'] \n",
    "for patch, color in zip(bp['boxes'], colors): \n",
    "    patch.set_facecolor(color) \n",
    "plt.xlabel('Значение мощности')\n",
    "plt.title('Диаграммы размаха значений активной и реактивной мощностей')\n",
    "plt.show()"
   ]
  },
  {
   "cell_type": "markdown",
   "id": "0217491b",
   "metadata": {},
   "source": [
    "Распределения обоих мощностей схожи, данные скошены вправо (медиана меньше среднего значения). По диаграммам размаха высокие значения мощности лежат за пределами \"усов\", но в исходных данных задачи нет сведений, которые позволяют считать их аномалиями. Поэтому будем считать, что поиск аномалий в данных об электродах окончен.\n",
    "\n",
    "В связи с тем, что в задача ставит цель уменьшения потребления энергии, то целесообразно получить расчётное значение потреблённой энергии на основе данных о мощности и времени нагрева. Расчёт произведём по формуле, включающей расчёт полной мощности:\n",
    "\n",
    "$$\n",
    "E = \\sqrt{P^2 + Q^2}*t \n",
    "$$\n",
    "\n",
    "где P - активная мощность, Q - реактивная мощность, t - время нагрева."
   ]
  },
  {
   "cell_type": "markdown",
   "id": "75c74242",
   "metadata": {},
   "source": [
    "Для нахождения времени нагрева нужно вычесть из времени конца нагрева время начала. Перед этим следует перевести тип данных столбцов со временем из object в datetime."
   ]
  },
  {
   "cell_type": "code",
   "execution_count": 26,
   "id": "ca437619",
   "metadata": {},
   "outputs": [],
   "source": [
    "data_arc['Начало нагрева дугой'] = pd.to_datetime(data_arc['Начало нагрева дугой'])\n",
    "data_arc['Конец нагрева дугой'] = pd.to_datetime(data_arc['Конец нагрева дугой'])"
   ]
  },
  {
   "cell_type": "code",
   "execution_count": 27,
   "id": "39702f30",
   "metadata": {},
   "outputs": [],
   "source": [
    "data_arc['Время нагрева'] = data_arc['Конец нагрева дугой'] - data_arc['Начало нагрева дугой']"
   ]
  },
  {
   "cell_type": "markdown",
   "id": "e32c0c1e",
   "metadata": {},
   "source": [
    "Разницу во времени необходимо перевести в секунды для использования в расчётах."
   ]
  },
  {
   "cell_type": "code",
   "execution_count": 28,
   "id": "c7a615d9",
   "metadata": {},
   "outputs": [],
   "source": [
    "data_arc['Время нагрева'] = data_arc['Время нагрева'].apply(lambda x: x.seconds)"
   ]
  },
  {
   "cell_type": "code",
   "execution_count": 29,
   "id": "b4972037",
   "metadata": {},
   "outputs": [
    {
     "data": {
      "text/html": [
       "<div>\n",
       "<style scoped>\n",
       "    .dataframe tbody tr th:only-of-type {\n",
       "        vertical-align: middle;\n",
       "    }\n",
       "\n",
       "    .dataframe tbody tr th {\n",
       "        vertical-align: top;\n",
       "    }\n",
       "\n",
       "    .dataframe thead th {\n",
       "        text-align: right;\n",
       "    }\n",
       "</style>\n",
       "<table border=\"1\" class=\"dataframe\">\n",
       "  <thead>\n",
       "    <tr style=\"text-align: right;\">\n",
       "      <th></th>\n",
       "      <th>key</th>\n",
       "      <th>Начало нагрева дугой</th>\n",
       "      <th>Конец нагрева дугой</th>\n",
       "      <th>Активная мощность</th>\n",
       "      <th>Реактивная мощность</th>\n",
       "      <th>Время нагрева</th>\n",
       "    </tr>\n",
       "  </thead>\n",
       "  <tbody>\n",
       "    <tr>\n",
       "      <th>0</th>\n",
       "      <td>1</td>\n",
       "      <td>2019-05-03 11:02:14</td>\n",
       "      <td>2019-05-03 11:06:02</td>\n",
       "      <td>0.976059</td>\n",
       "      <td>0.687084</td>\n",
       "      <td>228</td>\n",
       "    </tr>\n",
       "    <tr>\n",
       "      <th>1</th>\n",
       "      <td>1</td>\n",
       "      <td>2019-05-03 11:07:28</td>\n",
       "      <td>2019-05-03 11:10:33</td>\n",
       "      <td>0.805607</td>\n",
       "      <td>0.520285</td>\n",
       "      <td>185</td>\n",
       "    </tr>\n",
       "    <tr>\n",
       "      <th>2</th>\n",
       "      <td>1</td>\n",
       "      <td>2019-05-03 11:11:44</td>\n",
       "      <td>2019-05-03 11:14:36</td>\n",
       "      <td>0.744363</td>\n",
       "      <td>0.498805</td>\n",
       "      <td>172</td>\n",
       "    </tr>\n",
       "  </tbody>\n",
       "</table>\n",
       "</div>"
      ],
      "text/plain": [
       "   key Начало нагрева дугой Конец нагрева дугой  Активная мощность  \\\n",
       "0    1  2019-05-03 11:02:14 2019-05-03 11:06:02           0.976059   \n",
       "1    1  2019-05-03 11:07:28 2019-05-03 11:10:33           0.805607   \n",
       "2    1  2019-05-03 11:11:44 2019-05-03 11:14:36           0.744363   \n",
       "\n",
       "   Реактивная мощность  Время нагрева  \n",
       "0             0.687084            228  \n",
       "1             0.520285            185  \n",
       "2             0.498805            172  "
      ]
     },
     "execution_count": 29,
     "metadata": {},
     "output_type": "execute_result"
    }
   ],
   "source": [
    "data_arc.head(3)"
   ]
  },
  {
   "cell_type": "markdown",
   "id": "288b26d7",
   "metadata": {},
   "source": [
    "Теперь можно приступать к расчёту энергии. В формуле время в секундах нужно перевести в часы, так как конечные единицы будут в вольт-ампер-часах. После получения результата выяснилось, что значения получились маленькие, поэтому для удобства перейдём с мега-вольт-ампер-часов в кило-вольт-ампер-часы."
   ]
  },
  {
   "cell_type": "code",
   "execution_count": 30,
   "id": "8f539333",
   "metadata": {},
   "outputs": [],
   "source": [
    "data_arc['Потребленная энергия(кВАч)'] = ((data_arc['Активная мощность']**2 + data_arc['Реактивная мощность']**2)**0.5 * \n",
    "                                     data_arc['Время нагрева']/3600*1000)                            "
   ]
  },
  {
   "cell_type": "code",
   "execution_count": 31,
   "id": "d428ba48",
   "metadata": {
    "scrolled": true
   },
   "outputs": [
    {
     "data": {
      "text/html": [
       "<div>\n",
       "<style scoped>\n",
       "    .dataframe tbody tr th:only-of-type {\n",
       "        vertical-align: middle;\n",
       "    }\n",
       "\n",
       "    .dataframe tbody tr th {\n",
       "        vertical-align: top;\n",
       "    }\n",
       "\n",
       "    .dataframe thead th {\n",
       "        text-align: right;\n",
       "    }\n",
       "</style>\n",
       "<table border=\"1\" class=\"dataframe\">\n",
       "  <thead>\n",
       "    <tr style=\"text-align: right;\">\n",
       "      <th></th>\n",
       "      <th>key</th>\n",
       "      <th>Начало нагрева дугой</th>\n",
       "      <th>Конец нагрева дугой</th>\n",
       "      <th>Активная мощность</th>\n",
       "      <th>Реактивная мощность</th>\n",
       "      <th>Время нагрева</th>\n",
       "      <th>Потребленная энергия(кВАч)</th>\n",
       "    </tr>\n",
       "  </thead>\n",
       "  <tbody>\n",
       "    <tr>\n",
       "      <th>0</th>\n",
       "      <td>1</td>\n",
       "      <td>2019-05-03 11:02:14</td>\n",
       "      <td>2019-05-03 11:06:02</td>\n",
       "      <td>0.976059</td>\n",
       "      <td>0.687084</td>\n",
       "      <td>228</td>\n",
       "      <td>75.597154</td>\n",
       "    </tr>\n",
       "    <tr>\n",
       "      <th>1</th>\n",
       "      <td>1</td>\n",
       "      <td>2019-05-03 11:07:28</td>\n",
       "      <td>2019-05-03 11:10:33</td>\n",
       "      <td>0.805607</td>\n",
       "      <td>0.520285</td>\n",
       "      <td>185</td>\n",
       "      <td>49.282440</td>\n",
       "    </tr>\n",
       "    <tr>\n",
       "      <th>2</th>\n",
       "      <td>1</td>\n",
       "      <td>2019-05-03 11:11:44</td>\n",
       "      <td>2019-05-03 11:14:36</td>\n",
       "      <td>0.744363</td>\n",
       "      <td>0.498805</td>\n",
       "      <td>172</td>\n",
       "      <td>42.810695</td>\n",
       "    </tr>\n",
       "    <tr>\n",
       "      <th>3</th>\n",
       "      <td>1</td>\n",
       "      <td>2019-05-03 11:18:14</td>\n",
       "      <td>2019-05-03 11:24:19</td>\n",
       "      <td>1.659363</td>\n",
       "      <td>1.062669</td>\n",
       "      <td>365</td>\n",
       "      <td>199.783720</td>\n",
       "    </tr>\n",
       "    <tr>\n",
       "      <th>4</th>\n",
       "      <td>1</td>\n",
       "      <td>2019-05-03 11:26:09</td>\n",
       "      <td>2019-05-03 11:28:37</td>\n",
       "      <td>0.692755</td>\n",
       "      <td>0.414397</td>\n",
       "      <td>148</td>\n",
       "      <td>33.186477</td>\n",
       "    </tr>\n",
       "  </tbody>\n",
       "</table>\n",
       "</div>"
      ],
      "text/plain": [
       "   key Начало нагрева дугой Конец нагрева дугой  Активная мощность  \\\n",
       "0    1  2019-05-03 11:02:14 2019-05-03 11:06:02           0.976059   \n",
       "1    1  2019-05-03 11:07:28 2019-05-03 11:10:33           0.805607   \n",
       "2    1  2019-05-03 11:11:44 2019-05-03 11:14:36           0.744363   \n",
       "3    1  2019-05-03 11:18:14 2019-05-03 11:24:19           1.659363   \n",
       "4    1  2019-05-03 11:26:09 2019-05-03 11:28:37           0.692755   \n",
       "\n",
       "   Реактивная мощность  Время нагрева  Потребленная энергия(кВАч)  \n",
       "0             0.687084            228                   75.597154  \n",
       "1             0.520285            185                   49.282440  \n",
       "2             0.498805            172                   42.810695  \n",
       "3             1.062669            365                  199.783720  \n",
       "4             0.414397            148                   33.186477  "
      ]
     },
     "execution_count": 31,
     "metadata": {},
     "output_type": "execute_result"
    }
   ],
   "source": [
    "data_arc.head()"
   ]
  },
  {
   "cell_type": "markdown",
   "id": "9564551d",
   "metadata": {},
   "source": [
    "Расчётное значение потреблённой энергии добавилось верно. Теперь выполним группировку значений энергии по номеру партии. Этот шаг пригодится в дальнейшем при объединении таблиц. При группировке просуммируем значения потреблённой энергии. "
   ]
  },
  {
   "cell_type": "code",
   "execution_count": 32,
   "id": "486ac2ff",
   "metadata": {},
   "outputs": [],
   "source": [
    "data_arc_gr = data_arc.groupby(by='key', as_index=False).agg({'Потребленная энергия(кВАч)':'sum'})"
   ]
  },
  {
   "cell_type": "code",
   "execution_count": 33,
   "id": "61464ac7",
   "metadata": {},
   "outputs": [
    {
     "data": {
      "text/html": [
       "<div>\n",
       "<style scoped>\n",
       "    .dataframe tbody tr th:only-of-type {\n",
       "        vertical-align: middle;\n",
       "    }\n",
       "\n",
       "    .dataframe tbody tr th {\n",
       "        vertical-align: top;\n",
       "    }\n",
       "\n",
       "    .dataframe thead th {\n",
       "        text-align: right;\n",
       "    }\n",
       "</style>\n",
       "<table border=\"1\" class=\"dataframe\">\n",
       "  <thead>\n",
       "    <tr style=\"text-align: right;\">\n",
       "      <th></th>\n",
       "      <th>key</th>\n",
       "      <th>Потребленная энергия(кВАч)</th>\n",
       "    </tr>\n",
       "  </thead>\n",
       "  <tbody>\n",
       "    <tr>\n",
       "      <th>0</th>\n",
       "      <td>1</td>\n",
       "      <td>400.660487</td>\n",
       "    </tr>\n",
       "    <tr>\n",
       "      <th>1</th>\n",
       "      <td>2</td>\n",
       "      <td>244.787101</td>\n",
       "    </tr>\n",
       "    <tr>\n",
       "      <th>2</th>\n",
       "      <td>3</td>\n",
       "      <td>145.851882</td>\n",
       "    </tr>\n",
       "    <tr>\n",
       "      <th>3</th>\n",
       "      <td>4</td>\n",
       "      <td>221.364253</td>\n",
       "    </tr>\n",
       "    <tr>\n",
       "      <th>4</th>\n",
       "      <td>5</td>\n",
       "      <td>333.093877</td>\n",
       "    </tr>\n",
       "    <tr>\n",
       "      <th>5</th>\n",
       "      <td>6</td>\n",
       "      <td>391.874227</td>\n",
       "    </tr>\n",
       "    <tr>\n",
       "      <th>6</th>\n",
       "      <td>7</td>\n",
       "      <td>202.716842</td>\n",
       "    </tr>\n",
       "    <tr>\n",
       "      <th>7</th>\n",
       "      <td>8</td>\n",
       "      <td>430.706174</td>\n",
       "    </tr>\n",
       "    <tr>\n",
       "      <th>8</th>\n",
       "      <td>9</td>\n",
       "      <td>112.905735</td>\n",
       "    </tr>\n",
       "    <tr>\n",
       "      <th>9</th>\n",
       "      <td>10</td>\n",
       "      <td>171.489307</td>\n",
       "    </tr>\n",
       "  </tbody>\n",
       "</table>\n",
       "</div>"
      ],
      "text/plain": [
       "   key  Потребленная энергия(кВАч)\n",
       "0    1                  400.660487\n",
       "1    2                  244.787101\n",
       "2    3                  145.851882\n",
       "3    4                  221.364253\n",
       "4    5                  333.093877\n",
       "5    6                  391.874227\n",
       "6    7                  202.716842\n",
       "7    8                  430.706174\n",
       "8    9                  112.905735\n",
       "9   10                  171.489307"
      ]
     },
     "execution_count": 33,
     "metadata": {},
     "output_type": "execute_result"
    }
   ],
   "source": [
    "data_arc_gr.head(10)"
   ]
  },
  {
   "cell_type": "markdown",
   "id": "a55e8b79",
   "metadata": {},
   "source": [
    "Группировка и суммирование прошли успешно. Анализ данных об электродах на этом завершаем."
   ]
  },
  {
   "cell_type": "markdown",
   "id": "2fc30b3e",
   "metadata": {},
   "source": [
    "### Анализ данных о подаче сыпучих материалов (объём)"
   ]
  },
  {
   "cell_type": "markdown",
   "id": "87543861",
   "metadata": {},
   "source": [
    "По общей информации о таблице видно, что сыпучие материалы совершенно по-разному участвуют в процессе. Какие-то добавляются часто во многие партии, какие-то редко. Один из материалов - Bulk 8 - практически не используется и добавляется лишь один раз (в таблице всего одно значение, а остальное пропуски). Поэтому можно удалить его. Строку с партией удалять не будем, так как там ещё добавляются некоторые другие материалы."
   ]
  },
  {
   "cell_type": "code",
   "execution_count": 34,
   "id": "a4a9e645",
   "metadata": {},
   "outputs": [
    {
     "data": {
      "text/html": [
       "<div>\n",
       "<style scoped>\n",
       "    .dataframe tbody tr th:only-of-type {\n",
       "        vertical-align: middle;\n",
       "    }\n",
       "\n",
       "    .dataframe tbody tr th {\n",
       "        vertical-align: top;\n",
       "    }\n",
       "\n",
       "    .dataframe thead th {\n",
       "        text-align: right;\n",
       "    }\n",
       "</style>\n",
       "<table border=\"1\" class=\"dataframe\">\n",
       "  <thead>\n",
       "    <tr style=\"text-align: right;\">\n",
       "      <th></th>\n",
       "      <th>key</th>\n",
       "      <th>Bulk 1</th>\n",
       "      <th>Bulk 2</th>\n",
       "      <th>Bulk 3</th>\n",
       "      <th>Bulk 4</th>\n",
       "      <th>Bulk 5</th>\n",
       "      <th>Bulk 6</th>\n",
       "      <th>Bulk 7</th>\n",
       "      <th>Bulk 8</th>\n",
       "      <th>Bulk 9</th>\n",
       "      <th>Bulk 10</th>\n",
       "      <th>Bulk 11</th>\n",
       "      <th>Bulk 12</th>\n",
       "      <th>Bulk 13</th>\n",
       "      <th>Bulk 14</th>\n",
       "      <th>Bulk 15</th>\n",
       "    </tr>\n",
       "  </thead>\n",
       "  <tbody>\n",
       "    <tr>\n",
       "      <th>1725</th>\n",
       "      <td>1786</td>\n",
       "      <td>NaN</td>\n",
       "      <td>NaN</td>\n",
       "      <td>123.0</td>\n",
       "      <td>NaN</td>\n",
       "      <td>NaN</td>\n",
       "      <td>NaN</td>\n",
       "      <td>NaN</td>\n",
       "      <td>49.0</td>\n",
       "      <td>147.0</td>\n",
       "      <td>NaN</td>\n",
       "      <td>NaN</td>\n",
       "      <td>NaN</td>\n",
       "      <td>NaN</td>\n",
       "      <td>NaN</td>\n",
       "      <td>NaN</td>\n",
       "    </tr>\n",
       "  </tbody>\n",
       "</table>\n",
       "</div>"
      ],
      "text/plain": [
       "       key  Bulk 1  Bulk 2  Bulk 3  Bulk 4  Bulk 5  Bulk 6  Bulk 7  Bulk 8  \\\n",
       "1725  1786     NaN     NaN   123.0     NaN     NaN     NaN     NaN    49.0   \n",
       "\n",
       "      Bulk 9  Bulk 10  Bulk 11  Bulk 12  Bulk 13  Bulk 14  Bulk 15  \n",
       "1725   147.0      NaN      NaN      NaN      NaN      NaN      NaN  "
      ]
     },
     "execution_count": 34,
     "metadata": {},
     "output_type": "execute_result"
    }
   ],
   "source": [
    "data_bulk[data_bulk['Bulk 8'].notna()]"
   ]
  },
  {
   "cell_type": "code",
   "execution_count": 35,
   "id": "ce03e908",
   "metadata": {},
   "outputs": [],
   "source": [
    "data_bulk = data_bulk.drop('Bulk 8', axis=1)"
   ]
  },
  {
   "cell_type": "markdown",
   "id": "54b10291",
   "metadata": {},
   "source": [
    "Теперь посмотрим наличие аномальных значений на диаграммах размаха. Так как в данных есть пропуски, то воспользуемся функцией plot библиотеки pandas, в которой пропуски проигнорируются."
   ]
  },
  {
   "cell_type": "code",
   "execution_count": 36,
   "id": "3d80d4fc",
   "metadata": {},
   "outputs": [
    {
     "data": {
      "text/html": [
       "<div>\n",
       "<style scoped>\n",
       "    .dataframe tbody tr th:only-of-type {\n",
       "        vertical-align: middle;\n",
       "    }\n",
       "\n",
       "    .dataframe tbody tr th {\n",
       "        vertical-align: top;\n",
       "    }\n",
       "\n",
       "    .dataframe thead th {\n",
       "        text-align: right;\n",
       "    }\n",
       "</style>\n",
       "<table border=\"1\" class=\"dataframe\">\n",
       "  <thead>\n",
       "    <tr style=\"text-align: right;\">\n",
       "      <th></th>\n",
       "      <th>key</th>\n",
       "      <th>Bulk 1</th>\n",
       "      <th>Bulk 2</th>\n",
       "      <th>Bulk 3</th>\n",
       "      <th>Bulk 4</th>\n",
       "      <th>Bulk 5</th>\n",
       "      <th>Bulk 6</th>\n",
       "      <th>Bulk 7</th>\n",
       "      <th>Bulk 9</th>\n",
       "      <th>Bulk 10</th>\n",
       "      <th>Bulk 11</th>\n",
       "      <th>Bulk 12</th>\n",
       "      <th>Bulk 13</th>\n",
       "      <th>Bulk 14</th>\n",
       "      <th>Bulk 15</th>\n",
       "    </tr>\n",
       "  </thead>\n",
       "  <tbody>\n",
       "    <tr>\n",
       "      <th>count</th>\n",
       "      <td>3129.000000</td>\n",
       "      <td>252.000000</td>\n",
       "      <td>22.000000</td>\n",
       "      <td>1298.000000</td>\n",
       "      <td>1014.000000</td>\n",
       "      <td>77.000000</td>\n",
       "      <td>576.000000</td>\n",
       "      <td>25.000000</td>\n",
       "      <td>19.000000</td>\n",
       "      <td>176.000000</td>\n",
       "      <td>177.000000</td>\n",
       "      <td>2450.000000</td>\n",
       "      <td>18.000000</td>\n",
       "      <td>2806.000000</td>\n",
       "      <td>2248.000000</td>\n",
       "    </tr>\n",
       "    <tr>\n",
       "      <th>mean</th>\n",
       "      <td>1624.383509</td>\n",
       "      <td>39.242063</td>\n",
       "      <td>253.045455</td>\n",
       "      <td>113.879045</td>\n",
       "      <td>104.394477</td>\n",
       "      <td>107.025974</td>\n",
       "      <td>118.925347</td>\n",
       "      <td>305.600000</td>\n",
       "      <td>76.315789</td>\n",
       "      <td>83.284091</td>\n",
       "      <td>76.819209</td>\n",
       "      <td>260.471020</td>\n",
       "      <td>181.111111</td>\n",
       "      <td>170.284747</td>\n",
       "      <td>160.513345</td>\n",
       "    </tr>\n",
       "    <tr>\n",
       "      <th>std</th>\n",
       "      <td>933.337642</td>\n",
       "      <td>18.277654</td>\n",
       "      <td>21.180578</td>\n",
       "      <td>75.483494</td>\n",
       "      <td>48.184126</td>\n",
       "      <td>81.790646</td>\n",
       "      <td>72.057776</td>\n",
       "      <td>191.022904</td>\n",
       "      <td>21.720581</td>\n",
       "      <td>26.060347</td>\n",
       "      <td>59.655365</td>\n",
       "      <td>120.649269</td>\n",
       "      <td>46.088009</td>\n",
       "      <td>65.868652</td>\n",
       "      <td>51.765319</td>\n",
       "    </tr>\n",
       "    <tr>\n",
       "      <th>min</th>\n",
       "      <td>1.000000</td>\n",
       "      <td>10.000000</td>\n",
       "      <td>228.000000</td>\n",
       "      <td>6.000000</td>\n",
       "      <td>12.000000</td>\n",
       "      <td>11.000000</td>\n",
       "      <td>17.000000</td>\n",
       "      <td>47.000000</td>\n",
       "      <td>63.000000</td>\n",
       "      <td>24.000000</td>\n",
       "      <td>8.000000</td>\n",
       "      <td>53.000000</td>\n",
       "      <td>151.000000</td>\n",
       "      <td>16.000000</td>\n",
       "      <td>1.000000</td>\n",
       "    </tr>\n",
       "    <tr>\n",
       "      <th>25%</th>\n",
       "      <td>816.000000</td>\n",
       "      <td>27.000000</td>\n",
       "      <td>242.000000</td>\n",
       "      <td>58.000000</td>\n",
       "      <td>72.000000</td>\n",
       "      <td>70.000000</td>\n",
       "      <td>69.750000</td>\n",
       "      <td>155.000000</td>\n",
       "      <td>66.000000</td>\n",
       "      <td>64.000000</td>\n",
       "      <td>25.000000</td>\n",
       "      <td>204.000000</td>\n",
       "      <td>153.250000</td>\n",
       "      <td>119.000000</td>\n",
       "      <td>105.000000</td>\n",
       "    </tr>\n",
       "    <tr>\n",
       "      <th>50%</th>\n",
       "      <td>1622.000000</td>\n",
       "      <td>31.000000</td>\n",
       "      <td>251.500000</td>\n",
       "      <td>97.500000</td>\n",
       "      <td>102.000000</td>\n",
       "      <td>86.000000</td>\n",
       "      <td>100.000000</td>\n",
       "      <td>298.000000</td>\n",
       "      <td>68.000000</td>\n",
       "      <td>86.500000</td>\n",
       "      <td>64.000000</td>\n",
       "      <td>208.000000</td>\n",
       "      <td>155.500000</td>\n",
       "      <td>151.000000</td>\n",
       "      <td>160.000000</td>\n",
       "    </tr>\n",
       "    <tr>\n",
       "      <th>75%</th>\n",
       "      <td>2431.000000</td>\n",
       "      <td>46.000000</td>\n",
       "      <td>257.750000</td>\n",
       "      <td>152.000000</td>\n",
       "      <td>133.000000</td>\n",
       "      <td>132.000000</td>\n",
       "      <td>157.000000</td>\n",
       "      <td>406.000000</td>\n",
       "      <td>70.500000</td>\n",
       "      <td>102.000000</td>\n",
       "      <td>106.000000</td>\n",
       "      <td>316.000000</td>\n",
       "      <td>203.500000</td>\n",
       "      <td>205.750000</td>\n",
       "      <td>205.000000</td>\n",
       "    </tr>\n",
       "    <tr>\n",
       "      <th>max</th>\n",
       "      <td>3241.000000</td>\n",
       "      <td>185.000000</td>\n",
       "      <td>325.000000</td>\n",
       "      <td>454.000000</td>\n",
       "      <td>281.000000</td>\n",
       "      <td>603.000000</td>\n",
       "      <td>503.000000</td>\n",
       "      <td>772.000000</td>\n",
       "      <td>147.000000</td>\n",
       "      <td>159.000000</td>\n",
       "      <td>313.000000</td>\n",
       "      <td>1849.000000</td>\n",
       "      <td>305.000000</td>\n",
       "      <td>636.000000</td>\n",
       "      <td>405.000000</td>\n",
       "    </tr>\n",
       "  </tbody>\n",
       "</table>\n",
       "</div>"
      ],
      "text/plain": [
       "               key      Bulk 1      Bulk 2       Bulk 3       Bulk 4  \\\n",
       "count  3129.000000  252.000000   22.000000  1298.000000  1014.000000   \n",
       "mean   1624.383509   39.242063  253.045455   113.879045   104.394477   \n",
       "std     933.337642   18.277654   21.180578    75.483494    48.184126   \n",
       "min       1.000000   10.000000  228.000000     6.000000    12.000000   \n",
       "25%     816.000000   27.000000  242.000000    58.000000    72.000000   \n",
       "50%    1622.000000   31.000000  251.500000    97.500000   102.000000   \n",
       "75%    2431.000000   46.000000  257.750000   152.000000   133.000000   \n",
       "max    3241.000000  185.000000  325.000000   454.000000   281.000000   \n",
       "\n",
       "           Bulk 5      Bulk 6      Bulk 7      Bulk 9     Bulk 10     Bulk 11  \\\n",
       "count   77.000000  576.000000   25.000000   19.000000  176.000000  177.000000   \n",
       "mean   107.025974  118.925347  305.600000   76.315789   83.284091   76.819209   \n",
       "std     81.790646   72.057776  191.022904   21.720581   26.060347   59.655365   \n",
       "min     11.000000   17.000000   47.000000   63.000000   24.000000    8.000000   \n",
       "25%     70.000000   69.750000  155.000000   66.000000   64.000000   25.000000   \n",
       "50%     86.000000  100.000000  298.000000   68.000000   86.500000   64.000000   \n",
       "75%    132.000000  157.000000  406.000000   70.500000  102.000000  106.000000   \n",
       "max    603.000000  503.000000  772.000000  147.000000  159.000000  313.000000   \n",
       "\n",
       "           Bulk 12     Bulk 13      Bulk 14      Bulk 15  \n",
       "count  2450.000000   18.000000  2806.000000  2248.000000  \n",
       "mean    260.471020  181.111111   170.284747   160.513345  \n",
       "std     120.649269   46.088009    65.868652    51.765319  \n",
       "min      53.000000  151.000000    16.000000     1.000000  \n",
       "25%     204.000000  153.250000   119.000000   105.000000  \n",
       "50%     208.000000  155.500000   151.000000   160.000000  \n",
       "75%     316.000000  203.500000   205.750000   205.000000  \n",
       "max    1849.000000  305.000000   636.000000   405.000000  "
      ]
     },
     "execution_count": 36,
     "metadata": {},
     "output_type": "execute_result"
    }
   ],
   "source": [
    "data_bulk.describe()"
   ]
  },
  {
   "cell_type": "code",
   "execution_count": 37,
   "id": "c87fca5d",
   "metadata": {
    "scrolled": false
   },
   "outputs": [
    {
     "data": {
      "image/png": "[encoded data removed]",
      "text/plain": [
       "<Figure size 1152x720 with 1 Axes>"
      ]
     },
     "metadata": {
      "needs_background": "light"
     },
     "output_type": "display_data"
    }
   ],
   "source": [
    "plot_data = data_bulk.loc[:,'Bulk 1':'Bulk 15']\n",
    "plot_data.plot(kind='box', figsize=(16,10), title='Диаграммы размаха объёмов добавляемых сыпучих материалов', patch_artist=True)\n",
    "plt.ylabel('Объём')\n",
    "plt.xlabel('Сыпучие материалы')\n",
    "plt.show()"
   ]
  },
  {
   "cell_type": "markdown",
   "id": "4e331ecc",
   "metadata": {},
   "source": [
    "Выбросы присутствуют у некоторых материалов в большей степени. Но по условиям задачи нет основний считать эти выбросы аномалиями, которые следует удалять. "
   ]
  },
  {
   "cell_type": "markdown",
   "id": "c66a3b11",
   "metadata": {},
   "source": [
    "В данных об объёме подаваемых сыпучих материалов много пропусков. Очевидно, что пропущенные значения означают, что данный материал не добавлялся в определённую партию или не добавлялся на определённой итерации. Поэтому можно заполнить все пропуски нулями."
   ]
  },
  {
   "cell_type": "code",
   "execution_count": 38,
   "id": "ef91e7ae",
   "metadata": {},
   "outputs": [],
   "source": [
    "data_bulk = data_bulk.fillna(0)"
   ]
  },
  {
   "cell_type": "code",
   "execution_count": 39,
   "id": "b7e27088",
   "metadata": {},
   "outputs": [
    {
     "name": "stdout",
     "output_type": "stream",
     "text": [
      "<class 'pandas.core.frame.DataFrame'>\n",
      "RangeIndex: 3129 entries, 0 to 3128\n",
      "Data columns (total 15 columns):\n",
      " #   Column   Non-Null Count  Dtype  \n",
      "---  ------   --------------  -----  \n",
      " 0   key      3129 non-null   int64  \n",
      " 1   Bulk 1   3129 non-null   float64\n",
      " 2   Bulk 2   3129 non-null   float64\n",
      " 3   Bulk 3   3129 non-null   float64\n",
      " 4   Bulk 4   3129 non-null   float64\n",
      " 5   Bulk 5   3129 non-null   float64\n",
      " 6   Bulk 6   3129 non-null   float64\n",
      " 7   Bulk 7   3129 non-null   float64\n",
      " 8   Bulk 9   3129 non-null   float64\n",
      " 9   Bulk 10  3129 non-null   float64\n",
      " 10  Bulk 11  3129 non-null   float64\n",
      " 11  Bulk 12  3129 non-null   float64\n",
      " 12  Bulk 13  3129 non-null   float64\n",
      " 13  Bulk 14  3129 non-null   float64\n",
      " 14  Bulk 15  3129 non-null   float64\n",
      "dtypes: float64(14), int64(1)\n",
      "memory usage: 366.8 KB\n"
     ]
    }
   ],
   "source": [
    "data_bulk.info()"
   ]
  },
  {
   "cell_type": "markdown",
   "id": "63867b84",
   "metadata": {},
   "source": [
    "Пропуски успешно заполнились нулями. Анализ данных об объёме сыпучих материалов на этом завершаем.\n",
    "\n",
    "Таблица с данными о времени подачи сыпучих материалов не представляет интереса в рамках текущей задачи. Рассматривать таблицу подробно не будем."
   ]
  },
  {
   "cell_type": "markdown",
   "id": "52b27c97",
   "metadata": {},
   "source": [
    "### Анализ данных о продувке сплава газом"
   ]
  },
  {
   "cell_type": "markdown",
   "id": "42648e07",
   "metadata": {},
   "source": [
    "В таблице с данными о продувке газом нет пропусков. Посмотрим на распределение значений на гистограмме, а затем отобразим диаграмму размаха."
   ]
  },
  {
   "cell_type": "code",
   "execution_count": 40,
   "id": "859d0d56",
   "metadata": {},
   "outputs": [
    {
     "data": {
      "text/html": [
       "<div>\n",
       "<style scoped>\n",
       "    .dataframe tbody tr th:only-of-type {\n",
       "        vertical-align: middle;\n",
       "    }\n",
       "\n",
       "    .dataframe tbody tr th {\n",
       "        vertical-align: top;\n",
       "    }\n",
       "\n",
       "    .dataframe thead th {\n",
       "        text-align: right;\n",
       "    }\n",
       "</style>\n",
       "<table border=\"1\" class=\"dataframe\">\n",
       "  <thead>\n",
       "    <tr style=\"text-align: right;\">\n",
       "      <th></th>\n",
       "      <th>key</th>\n",
       "      <th>Газ 1</th>\n",
       "    </tr>\n",
       "  </thead>\n",
       "  <tbody>\n",
       "    <tr>\n",
       "      <th>count</th>\n",
       "      <td>3239.000000</td>\n",
       "      <td>3239.000000</td>\n",
       "    </tr>\n",
       "    <tr>\n",
       "      <th>mean</th>\n",
       "      <td>1621.861377</td>\n",
       "      <td>11.002062</td>\n",
       "    </tr>\n",
       "    <tr>\n",
       "      <th>std</th>\n",
       "      <td>935.386334</td>\n",
       "      <td>6.220327</td>\n",
       "    </tr>\n",
       "    <tr>\n",
       "      <th>min</th>\n",
       "      <td>1.000000</td>\n",
       "      <td>0.008399</td>\n",
       "    </tr>\n",
       "    <tr>\n",
       "      <th>25%</th>\n",
       "      <td>812.500000</td>\n",
       "      <td>7.043089</td>\n",
       "    </tr>\n",
       "    <tr>\n",
       "      <th>50%</th>\n",
       "      <td>1622.000000</td>\n",
       "      <td>9.836267</td>\n",
       "    </tr>\n",
       "    <tr>\n",
       "      <th>75%</th>\n",
       "      <td>2431.500000</td>\n",
       "      <td>13.769915</td>\n",
       "    </tr>\n",
       "    <tr>\n",
       "      <th>max</th>\n",
       "      <td>3241.000000</td>\n",
       "      <td>77.995040</td>\n",
       "    </tr>\n",
       "  </tbody>\n",
       "</table>\n",
       "</div>"
      ],
      "text/plain": [
       "               key        Газ 1\n",
       "count  3239.000000  3239.000000\n",
       "mean   1621.861377    11.002062\n",
       "std     935.386334     6.220327\n",
       "min       1.000000     0.008399\n",
       "25%     812.500000     7.043089\n",
       "50%    1622.000000     9.836267\n",
       "75%    2431.500000    13.769915\n",
       "max    3241.000000    77.995040"
      ]
     },
     "execution_count": 40,
     "metadata": {},
     "output_type": "execute_result"
    }
   ],
   "source": [
    "data_gas.describe()"
   ]
  },
  {
   "cell_type": "code",
   "execution_count": 41,
   "id": "2de55f8a",
   "metadata": {},
   "outputs": [
    {
     "data": {
      "image/png": "[encoded data removed]",
      "text/plain": [
       "<Figure size 1008x432 with 1 Axes>"
      ]
     },
     "metadata": {
      "needs_background": "light"
     },
     "output_type": "display_data"
    }
   ],
   "source": [
    "plt.figure(figsize=(14, 6))\n",
    "plt.hist(data_gas['Газ 1'], bins=200)\n",
    "plt.xlabel('Объём газа')\n",
    "plt.ylabel('Частота')\n",
    "plt.title('Распределение значений объёма подаваемого газа')\n",
    "plt.show()"
   ]
  },
  {
   "cell_type": "markdown",
   "id": "dd299bc3",
   "metadata": {},
   "source": [
    "Данные немного скошены вправо."
   ]
  },
  {
   "cell_type": "code",
   "execution_count": 42,
   "id": "6d4992b7",
   "metadata": {},
   "outputs": [
    {
     "data": {
      "image/png": "[encoded data removed]",
      "text/plain": [
       "<Figure size 1080x144 with 1 Axes>"
      ]
     },
     "metadata": {
      "needs_background": "light"
     },
     "output_type": "display_data"
    }
   ],
   "source": [
    "plt.figure(figsize=(15, 2))\n",
    "plt.boxplot(data_gas['Газ 1'], vert=False, widths=0.8, patch_artist=True)\n",
    "plt.xlabel('Объём газа')\n",
    "plt.title('Диаграмма размаха значений объёма подаваемого газа')\n",
    "plt.show()"
   ]
  },
  {
   "cell_type": "markdown",
   "id": "813561da",
   "metadata": {},
   "source": [
    "На диаграмме много выбросов, но по условию задачи нет оснований считать эти значения аномальными. Поэтому оставим их как есть. Вероятно в какие-то партии добавлялось больше газа и это было необходимо в технологическом процессе."
   ]
  },
  {
   "cell_type": "markdown",
   "id": "ea780f53",
   "metadata": {},
   "source": [
    "### Анализ данных о добавлении проволочных материалов"
   ]
  },
  {
   "cell_type": "markdown",
   "id": "b02a04c6",
   "metadata": {},
   "source": [
    "Ситуация с проволочными материалами чем-то схожа с сыпучими. По общей информации о таблице видно, что проволочные материалы по-разному участвуют в процессе. Какие-то добавляются часто во многие партии, какие-то редко. Один из материалов - Wire 5 - практически не используется и добавляется лишь один раз (в таблице всего одно значение, а остальное пропуски). Поэтому можно удалить его. Строку с партией удалять не будем, так как там ещё добавляются некоторые другие материалы."
   ]
  },
  {
   "cell_type": "code",
   "execution_count": 43,
   "id": "1b978574",
   "metadata": {},
   "outputs": [
    {
     "data": {
      "text/html": [
       "<div>\n",
       "<style scoped>\n",
       "    .dataframe tbody tr th:only-of-type {\n",
       "        vertical-align: middle;\n",
       "    }\n",
       "\n",
       "    .dataframe tbody tr th {\n",
       "        vertical-align: top;\n",
       "    }\n",
       "\n",
       "    .dataframe thead th {\n",
       "        text-align: right;\n",
       "    }\n",
       "</style>\n",
       "<table border=\"1\" class=\"dataframe\">\n",
       "  <thead>\n",
       "    <tr style=\"text-align: right;\">\n",
       "      <th></th>\n",
       "      <th>key</th>\n",
       "      <th>Wire 1</th>\n",
       "      <th>Wire 2</th>\n",
       "      <th>Wire 3</th>\n",
       "      <th>Wire 4</th>\n",
       "      <th>Wire 5</th>\n",
       "      <th>Wire 6</th>\n",
       "      <th>Wire 7</th>\n",
       "      <th>Wire 8</th>\n",
       "      <th>Wire 9</th>\n",
       "    </tr>\n",
       "  </thead>\n",
       "  <tbody>\n",
       "    <tr>\n",
       "      <th>2440</th>\n",
       "      <td>2567</td>\n",
       "      <td>18.30192</td>\n",
       "      <td>NaN</td>\n",
       "      <td>96.288193</td>\n",
       "      <td>NaN</td>\n",
       "      <td>15.132</td>\n",
       "      <td>73.307526</td>\n",
       "      <td>NaN</td>\n",
       "      <td>NaN</td>\n",
       "      <td>NaN</td>\n",
       "    </tr>\n",
       "  </tbody>\n",
       "</table>\n",
       "</div>"
      ],
      "text/plain": [
       "       key    Wire 1  Wire 2     Wire 3  Wire 4  Wire 5     Wire 6  Wire 7  \\\n",
       "2440  2567  18.30192     NaN  96.288193     NaN  15.132  73.307526     NaN   \n",
       "\n",
       "      Wire 8  Wire 9  \n",
       "2440     NaN     NaN  "
      ]
     },
     "execution_count": 43,
     "metadata": {},
     "output_type": "execute_result"
    }
   ],
   "source": [
    "data_wire[data_wire['Wire 5'].notna()]"
   ]
  },
  {
   "cell_type": "code",
   "execution_count": 44,
   "id": "de3ee298",
   "metadata": {},
   "outputs": [],
   "source": [
    "data_wire = data_wire.drop('Wire 5', axis=1)"
   ]
  },
  {
   "cell_type": "markdown",
   "id": "83af10c1",
   "metadata": {},
   "source": [
    "Теперь посмотрим наличие аномальных значений на диаграммах размаха. Так как в данных есть пропуски, то воспользуемся функцией plot библиотеки pandas, в которой пропуски проигнорируются."
   ]
  },
  {
   "cell_type": "code",
   "execution_count": 45,
   "id": "8524d39d",
   "metadata": {},
   "outputs": [
    {
     "data": {
      "text/html": [
       "<div>\n",
       "<style scoped>\n",
       "    .dataframe tbody tr th:only-of-type {\n",
       "        vertical-align: middle;\n",
       "    }\n",
       "\n",
       "    .dataframe tbody tr th {\n",
       "        vertical-align: top;\n",
       "    }\n",
       "\n",
       "    .dataframe thead th {\n",
       "        text-align: right;\n",
       "    }\n",
       "</style>\n",
       "<table border=\"1\" class=\"dataframe\">\n",
       "  <thead>\n",
       "    <tr style=\"text-align: right;\">\n",
       "      <th></th>\n",
       "      <th>key</th>\n",
       "      <th>Wire 1</th>\n",
       "      <th>Wire 2</th>\n",
       "      <th>Wire 3</th>\n",
       "      <th>Wire 4</th>\n",
       "      <th>Wire 6</th>\n",
       "      <th>Wire 7</th>\n",
       "      <th>Wire 8</th>\n",
       "      <th>Wire 9</th>\n",
       "    </tr>\n",
       "  </thead>\n",
       "  <tbody>\n",
       "    <tr>\n",
       "      <th>count</th>\n",
       "      <td>3081.000000</td>\n",
       "      <td>3055.000000</td>\n",
       "      <td>1079.000000</td>\n",
       "      <td>63.000000</td>\n",
       "      <td>14.000000</td>\n",
       "      <td>73.000000</td>\n",
       "      <td>11.000000</td>\n",
       "      <td>19.000000</td>\n",
       "      <td>29.000000</td>\n",
       "    </tr>\n",
       "    <tr>\n",
       "      <th>mean</th>\n",
       "      <td>1623.426485</td>\n",
       "      <td>100.895853</td>\n",
       "      <td>50.577323</td>\n",
       "      <td>189.482681</td>\n",
       "      <td>57.442841</td>\n",
       "      <td>48.016974</td>\n",
       "      <td>10.039007</td>\n",
       "      <td>53.625193</td>\n",
       "      <td>34.155752</td>\n",
       "    </tr>\n",
       "    <tr>\n",
       "      <th>std</th>\n",
       "      <td>932.996726</td>\n",
       "      <td>42.012518</td>\n",
       "      <td>39.320216</td>\n",
       "      <td>99.513444</td>\n",
       "      <td>28.824667</td>\n",
       "      <td>33.919845</td>\n",
       "      <td>8.610584</td>\n",
       "      <td>16.881728</td>\n",
       "      <td>19.931616</td>\n",
       "    </tr>\n",
       "    <tr>\n",
       "      <th>min</th>\n",
       "      <td>1.000000</td>\n",
       "      <td>1.918800</td>\n",
       "      <td>0.030160</td>\n",
       "      <td>0.144144</td>\n",
       "      <td>24.148801</td>\n",
       "      <td>0.034320</td>\n",
       "      <td>0.234208</td>\n",
       "      <td>45.076721</td>\n",
       "      <td>4.622800</td>\n",
       "    </tr>\n",
       "    <tr>\n",
       "      <th>25%</th>\n",
       "      <td>823.000000</td>\n",
       "      <td>72.115684</td>\n",
       "      <td>20.193680</td>\n",
       "      <td>95.135044</td>\n",
       "      <td>40.807002</td>\n",
       "      <td>25.053600</td>\n",
       "      <td>6.762756</td>\n",
       "      <td>46.094879</td>\n",
       "      <td>22.058401</td>\n",
       "    </tr>\n",
       "    <tr>\n",
       "      <th>50%</th>\n",
       "      <td>1619.000000</td>\n",
       "      <td>100.158234</td>\n",
       "      <td>40.142956</td>\n",
       "      <td>235.194977</td>\n",
       "      <td>45.234282</td>\n",
       "      <td>42.076324</td>\n",
       "      <td>9.017009</td>\n",
       "      <td>46.279999</td>\n",
       "      <td>30.066399</td>\n",
       "    </tr>\n",
       "    <tr>\n",
       "      <th>75%</th>\n",
       "      <td>2434.000000</td>\n",
       "      <td>126.060483</td>\n",
       "      <td>70.227558</td>\n",
       "      <td>276.252014</td>\n",
       "      <td>76.124619</td>\n",
       "      <td>64.212723</td>\n",
       "      <td>11.886057</td>\n",
       "      <td>48.089603</td>\n",
       "      <td>43.862003</td>\n",
       "    </tr>\n",
       "    <tr>\n",
       "      <th>max</th>\n",
       "      <td>3241.000000</td>\n",
       "      <td>330.314424</td>\n",
       "      <td>282.780152</td>\n",
       "      <td>385.008668</td>\n",
       "      <td>113.231044</td>\n",
       "      <td>180.454575</td>\n",
       "      <td>32.847674</td>\n",
       "      <td>102.762401</td>\n",
       "      <td>90.053604</td>\n",
       "    </tr>\n",
       "  </tbody>\n",
       "</table>\n",
       "</div>"
      ],
      "text/plain": [
       "               key       Wire 1       Wire 2      Wire 3      Wire 4  \\\n",
       "count  3081.000000  3055.000000  1079.000000   63.000000   14.000000   \n",
       "mean   1623.426485   100.895853    50.577323  189.482681   57.442841   \n",
       "std     932.996726    42.012518    39.320216   99.513444   28.824667   \n",
       "min       1.000000     1.918800     0.030160    0.144144   24.148801   \n",
       "25%     823.000000    72.115684    20.193680   95.135044   40.807002   \n",
       "50%    1619.000000   100.158234    40.142956  235.194977   45.234282   \n",
       "75%    2434.000000   126.060483    70.227558  276.252014   76.124619   \n",
       "max    3241.000000   330.314424   282.780152  385.008668  113.231044   \n",
       "\n",
       "           Wire 6     Wire 7      Wire 8     Wire 9  \n",
       "count   73.000000  11.000000   19.000000  29.000000  \n",
       "mean    48.016974  10.039007   53.625193  34.155752  \n",
       "std     33.919845   8.610584   16.881728  19.931616  \n",
       "min      0.034320   0.234208   45.076721   4.622800  \n",
       "25%     25.053600   6.762756   46.094879  22.058401  \n",
       "50%     42.076324   9.017009   46.279999  30.066399  \n",
       "75%     64.212723  11.886057   48.089603  43.862003  \n",
       "max    180.454575  32.847674  102.762401  90.053604  "
      ]
     },
     "execution_count": 45,
     "metadata": {},
     "output_type": "execute_result"
    }
   ],
   "source": [
    "data_wire.describe()"
   ]
  },
  {
   "cell_type": "code",
   "execution_count": 46,
   "id": "4b365cf2",
   "metadata": {
    "scrolled": false
   },
   "outputs": [
    {
     "data": {
      "image/png": "[encoded data removed]",
      "text/plain": [
       "<Figure size 1152x720 with 1 Axes>"
      ]
     },
     "metadata": {
      "needs_background": "light"
     },
     "output_type": "display_data"
    }
   ],
   "source": [
    "plot_data = data_wire.loc[:,'Wire 1':'Wire 9']\n",
    "plot_data.plot(kind='box', figsize=(16,10), title='Диаграммы размаха значений объёма добавляемых проволочных материалов', patch_artist=True)\n",
    "plt.ylabel('Объём')\n",
    "plt.xlabel('Проволочные материалы')\n",
    "plt.show()"
   ]
  },
  {
   "cell_type": "markdown",
   "id": "744abc18",
   "metadata": {},
   "source": [
    "Выбросы присутствуют у некоторых материалов в большей степени. Но по условиям задачи нет основний считать эти выбросы аномалиями, которые следует удалять.\n",
    "\n",
    "В данных об объёме подаваемых проволочных материалов много пропусков. Очевидно, что пропущенные значения означают, что данный материал не добавлялся в определённую партию или не добавлялся на определённой итерации. Поэтому можно заполнить все пропуски нулями."
   ]
  },
  {
   "cell_type": "code",
   "execution_count": 47,
   "id": "e5c0d019",
   "metadata": {},
   "outputs": [],
   "source": [
    "data_wire = data_wire.fillna(0)"
   ]
  },
  {
   "cell_type": "code",
   "execution_count": 48,
   "id": "68ebcd18",
   "metadata": {},
   "outputs": [
    {
     "name": "stdout",
     "output_type": "stream",
     "text": [
      "<class 'pandas.core.frame.DataFrame'>\n",
      "RangeIndex: 3081 entries, 0 to 3080\n",
      "Data columns (total 9 columns):\n",
      " #   Column  Non-Null Count  Dtype  \n",
      "---  ------  --------------  -----  \n",
      " 0   key     3081 non-null   int64  \n",
      " 1   Wire 1  3081 non-null   float64\n",
      " 2   Wire 2  3081 non-null   float64\n",
      " 3   Wire 3  3081 non-null   float64\n",
      " 4   Wire 4  3081 non-null   float64\n",
      " 5   Wire 6  3081 non-null   float64\n",
      " 6   Wire 7  3081 non-null   float64\n",
      " 7   Wire 8  3081 non-null   float64\n",
      " 8   Wire 9  3081 non-null   float64\n",
      "dtypes: float64(8), int64(1)\n",
      "memory usage: 216.8 KB\n"
     ]
    }
   ],
   "source": [
    "data_wire.info()"
   ]
  },
  {
   "cell_type": "markdown",
   "id": "877aef33",
   "metadata": {},
   "source": [
    "Пропуски успешно заполнились нулями. Анализ данных об объёме проволочных материалов на этом завершаем.\n",
    "\n",
    "Таблица с данными о времени подачи проволочных материалов не представляет интереса в рамках текущей задачи. Рассматривать таблицу подробно не будем."
   ]
  },
  {
   "cell_type": "markdown",
   "id": "c3d48b38",
   "metadata": {},
   "source": [
    "### Анализ данных об измерении температуры"
   ]
  },
  {
   "cell_type": "markdown",
   "id": "5202c5c6",
   "metadata": {},
   "source": [
    "Посмотрим описание значений температуры из таблицы, построим гистограмму и диаграмму размаха."
   ]
  },
  {
   "cell_type": "code",
   "execution_count": 49,
   "id": "e0b47e28",
   "metadata": {},
   "outputs": [
    {
     "data": {
      "text/plain": [
       "count    13006.000000\n",
       "mean      1591.840920\n",
       "std         21.375851\n",
       "min       1191.000000\n",
       "25%       1581.000000\n",
       "50%       1591.000000\n",
       "75%       1601.000000\n",
       "max       1705.000000\n",
       "Name: Температура, dtype: float64"
      ]
     },
     "execution_count": 49,
     "metadata": {},
     "output_type": "execute_result"
    }
   ],
   "source": [
    "data_temp['Температура'].describe()"
   ]
  },
  {
   "cell_type": "code",
   "execution_count": 50,
   "id": "8a9c488e",
   "metadata": {},
   "outputs": [
    {
     "data": {
      "image/png": "[encoded data removed]",
      "text/plain": [
       "<Figure size 1008x432 with 1 Axes>"
      ]
     },
     "metadata": {
      "needs_background": "light"
     },
     "output_type": "display_data"
    }
   ],
   "source": [
    "plt.figure(figsize=(14, 6))\n",
    "plt.hist(data_temp['Температура'], bins=200)\n",
    "plt.xlabel('Температура стали')\n",
    "plt.ylabel('Частота')\n",
    "plt.title('Распределение значений измеренной температуры стали')\n",
    "plt.show()"
   ]
  },
  {
   "cell_type": "code",
   "execution_count": 51,
   "id": "6f64aa0b",
   "metadata": {},
   "outputs": [
    {
     "data": {
      "image/png": "[encoded data removed]",
      "text/plain": [
       "<Figure size 1152x144 with 1 Axes>"
      ]
     },
     "metadata": {
      "needs_background": "light"
     },
     "output_type": "display_data"
    }
   ],
   "source": [
    "data_temp['Температура'].plot(kind='box', figsize=(16,2), title='Диаграмма размаха значений температуры стали', \n",
    "                              widths=0.6, vert=False, patch_artist=True)\n",
    "plt.xlabel('Температура стали')\n",
    "plt.show()"
   ]
  },
  {
   "cell_type": "markdown",
   "id": "62933d78",
   "metadata": {},
   "source": [
    "На диаграмме видны очень сильные выбросы значений температуры меньше 1500 градусов. И согласно условиям задачи они как раз считаются аномалиями. Удалим этим значения из таблицы вместе с номерами соответствующих партий, так как иначе могут остаться промежуточные значения замеров температуры. Также в условие для удаления добавим наличие пропуска."
   ]
  },
  {
   "cell_type": "code",
   "execution_count": 52,
   "id": "6bb122b0",
   "metadata": {},
   "outputs": [
    {
     "data": {
      "text/plain": [
       "(2908,)"
      ]
     },
     "execution_count": 52,
     "metadata": {},
     "output_type": "execute_result"
    }
   ],
   "source": [
    "key_out = data_temp[(data_temp['Температура']<1500) | data_temp['Температура'].isna()]['key']\n",
    "key_out.shape"
   ]
  },
  {
   "cell_type": "code",
   "execution_count": 53,
   "id": "16fd94e6",
   "metadata": {},
   "outputs": [
    {
     "name": "stdout",
     "output_type": "stream",
     "text": [
      "Размер таблицы до удаления строк:  (15907, 3)\n",
      "Размер таблицы после удаления строк:  (12223, 3)\n"
     ]
    }
   ],
   "source": [
    "print('Размер таблицы до удаления строк: ', data_temp.shape)\n",
    "data_temp = data_temp[~data_temp['key'].isin(key_out)].reset_index(drop=True)\n",
    "print('Размер таблицы после удаления строк: ', data_temp.shape)"
   ]
  },
  {
   "cell_type": "markdown",
   "id": "0c3e5207",
   "metadata": {},
   "source": [
    "Аномальные значения температуры и пропуски успешно удалились вместе с номерами партий, к которым они относились."
   ]
  },
  {
   "cell_type": "code",
   "execution_count": 54,
   "id": "e2cc4bc7",
   "metadata": {},
   "outputs": [
    {
     "data": {
      "image/png": "[encoded data removed]",
      "text/plain": [
       "<Figure size 1152x144 with 1 Axes>"
      ]
     },
     "metadata": {
      "needs_background": "light"
     },
     "output_type": "display_data"
    }
   ],
   "source": [
    "data_temp['Температура'].plot(kind='box', figsize=(16,2), title='Диаграмма размаха значений температуры стали', \n",
    "                              widths=0.6, vert=False, patch_artist=True)\n",
    "plt.xlabel('Температура стали')\n",
    "plt.show()"
   ]
  },
  {
   "cell_type": "code",
   "execution_count": 55,
   "id": "89fa2048",
   "metadata": {},
   "outputs": [
    {
     "name": "stdout",
     "output_type": "stream",
     "text": [
      "<class 'pandas.core.frame.DataFrame'>\n",
      "RangeIndex: 12223 entries, 0 to 12222\n",
      "Data columns (total 3 columns):\n",
      " #   Column        Non-Null Count  Dtype  \n",
      "---  ------        --------------  -----  \n",
      " 0   key           12223 non-null  int64  \n",
      " 1   Время замера  12223 non-null  object \n",
      " 2   Температура   12223 non-null  float64\n",
      "dtypes: float64(1), int64(1), object(1)\n",
      "memory usage: 286.6+ KB\n"
     ]
    }
   ],
   "source": [
    "data_temp.info()"
   ]
  },
  {
   "cell_type": "markdown",
   "id": "f779dc43",
   "metadata": {},
   "source": [
    "Аномалии удалились успешно. Вместе с аномалиями также отфильтровались и пропущенные значения температуры, которые было невозможно корректно заполнить.\n",
    "\n",
    "Далее следует сгруппировать данные по партиям, а из всех значений температуры в каждой группе необходимо взять первое и последнее, а также посчитать кол-во замеров в группе. Партии с количеством замеров меньше двух удалим из таблицы, так как по тех. процессу должно быть как минимум два измерения.\n",
    "\n",
    "Перед группировкой преобразуем тип данных столбца с временем замера в datetime. Потом выполним сортировку значений времени в пределах каждой партии, чтобы при группировке точно были определены начальное и конечное значение температуры по времени."
   ]
  },
  {
   "cell_type": "code",
   "execution_count": 56,
   "id": "ed4c44b0",
   "metadata": {},
   "outputs": [],
   "source": [
    "data_temp['Время замера'] = pd.to_datetime(data_temp['Время замера'])"
   ]
  },
  {
   "cell_type": "code",
   "execution_count": 57,
   "id": "9553ef81",
   "metadata": {},
   "outputs": [
    {
     "data": {
      "text/plain": [
       "'datetime64[ns]'"
      ]
     },
     "execution_count": 57,
     "metadata": {},
     "output_type": "execute_result"
    }
   ],
   "source": [
    "data_temp['Время замера'].dtype.name"
   ]
  },
  {
   "cell_type": "code",
   "execution_count": 58,
   "id": "94da0208",
   "metadata": {},
   "outputs": [],
   "source": [
    "data_temp = data_temp.sort_values(by=['key','Время замера'])"
   ]
  },
  {
   "cell_type": "code",
   "execution_count": 59,
   "id": "ef186d7a",
   "metadata": {},
   "outputs": [
    {
     "data": {
      "text/html": [
       "<div>\n",
       "<style scoped>\n",
       "    .dataframe tbody tr th:only-of-type {\n",
       "        vertical-align: middle;\n",
       "    }\n",
       "\n",
       "    .dataframe tbody tr th {\n",
       "        vertical-align: top;\n",
       "    }\n",
       "\n",
       "    .dataframe thead th {\n",
       "        text-align: right;\n",
       "    }\n",
       "</style>\n",
       "<table border=\"1\" class=\"dataframe\">\n",
       "  <thead>\n",
       "    <tr style=\"text-align: right;\">\n",
       "      <th></th>\n",
       "      <th>key</th>\n",
       "      <th>Время замера</th>\n",
       "      <th>Температура</th>\n",
       "    </tr>\n",
       "  </thead>\n",
       "  <tbody>\n",
       "    <tr>\n",
       "      <th>0</th>\n",
       "      <td>1</td>\n",
       "      <td>2019-05-03 11:16:18</td>\n",
       "      <td>1571.0</td>\n",
       "    </tr>\n",
       "    <tr>\n",
       "      <th>1</th>\n",
       "      <td>1</td>\n",
       "      <td>2019-05-03 11:25:53</td>\n",
       "      <td>1604.0</td>\n",
       "    </tr>\n",
       "    <tr>\n",
       "      <th>2</th>\n",
       "      <td>1</td>\n",
       "      <td>2019-05-03 11:29:11</td>\n",
       "      <td>1618.0</td>\n",
       "    </tr>\n",
       "    <tr>\n",
       "      <th>3</th>\n",
       "      <td>1</td>\n",
       "      <td>2019-05-03 11:30:01</td>\n",
       "      <td>1601.0</td>\n",
       "    </tr>\n",
       "    <tr>\n",
       "      <th>4</th>\n",
       "      <td>1</td>\n",
       "      <td>2019-05-03 11:30:39</td>\n",
       "      <td>1613.0</td>\n",
       "    </tr>\n",
       "    <tr>\n",
       "      <th>5</th>\n",
       "      <td>2</td>\n",
       "      <td>2019-05-03 11:37:27</td>\n",
       "      <td>1581.0</td>\n",
       "    </tr>\n",
       "    <tr>\n",
       "      <th>6</th>\n",
       "      <td>2</td>\n",
       "      <td>2019-05-03 11:38:00</td>\n",
       "      <td>1577.0</td>\n",
       "    </tr>\n",
       "    <tr>\n",
       "      <th>7</th>\n",
       "      <td>2</td>\n",
       "      <td>2019-05-03 11:49:38</td>\n",
       "      <td>1589.0</td>\n",
       "    </tr>\n",
       "    <tr>\n",
       "      <th>8</th>\n",
       "      <td>2</td>\n",
       "      <td>2019-05-03 11:55:50</td>\n",
       "      <td>1604.0</td>\n",
       "    </tr>\n",
       "    <tr>\n",
       "      <th>9</th>\n",
       "      <td>2</td>\n",
       "      <td>2019-05-03 11:58:24</td>\n",
       "      <td>1608.0</td>\n",
       "    </tr>\n",
       "  </tbody>\n",
       "</table>\n",
       "</div>"
      ],
      "text/plain": [
       "   key        Время замера  Температура\n",
       "0    1 2019-05-03 11:16:18       1571.0\n",
       "1    1 2019-05-03 11:25:53       1604.0\n",
       "2    1 2019-05-03 11:29:11       1618.0\n",
       "3    1 2019-05-03 11:30:01       1601.0\n",
       "4    1 2019-05-03 11:30:39       1613.0\n",
       "5    2 2019-05-03 11:37:27       1581.0\n",
       "6    2 2019-05-03 11:38:00       1577.0\n",
       "7    2 2019-05-03 11:49:38       1589.0\n",
       "8    2 2019-05-03 11:55:50       1604.0\n",
       "9    2 2019-05-03 11:58:24       1608.0"
      ]
     },
     "execution_count": 59,
     "metadata": {},
     "output_type": "execute_result"
    }
   ],
   "source": [
    "data_temp.head(10)"
   ]
  },
  {
   "cell_type": "code",
   "execution_count": 60,
   "id": "b594f8d5",
   "metadata": {},
   "outputs": [],
   "source": [
    "data_temp_gr = data_temp.groupby(by='key', as_index=False).agg({'Температура':['count','first','last']})"
   ]
  },
  {
   "cell_type": "code",
   "execution_count": 61,
   "id": "c4bbb6e8",
   "metadata": {},
   "outputs": [
    {
     "data": {
      "text/html": [
       "<div>\n",
       "<style scoped>\n",
       "    .dataframe tbody tr th:only-of-type {\n",
       "        vertical-align: middle;\n",
       "    }\n",
       "\n",
       "    .dataframe tbody tr th {\n",
       "        vertical-align: top;\n",
       "    }\n",
       "\n",
       "    .dataframe thead tr th {\n",
       "        text-align: left;\n",
       "    }\n",
       "</style>\n",
       "<table border=\"1\" class=\"dataframe\">\n",
       "  <thead>\n",
       "    <tr>\n",
       "      <th></th>\n",
       "      <th>key</th>\n",
       "      <th colspan=\"3\" halign=\"left\">Температура</th>\n",
       "    </tr>\n",
       "    <tr>\n",
       "      <th></th>\n",
       "      <th></th>\n",
       "      <th>count</th>\n",
       "      <th>first</th>\n",
       "      <th>last</th>\n",
       "    </tr>\n",
       "  </thead>\n",
       "  <tbody>\n",
       "    <tr>\n",
       "      <th>0</th>\n",
       "      <td>1</td>\n",
       "      <td>5</td>\n",
       "      <td>1571.0</td>\n",
       "      <td>1613.0</td>\n",
       "    </tr>\n",
       "    <tr>\n",
       "      <th>1</th>\n",
       "      <td>2</td>\n",
       "      <td>6</td>\n",
       "      <td>1581.0</td>\n",
       "      <td>1602.0</td>\n",
       "    </tr>\n",
       "    <tr>\n",
       "      <th>2</th>\n",
       "      <td>3</td>\n",
       "      <td>5</td>\n",
       "      <td>1596.0</td>\n",
       "      <td>1599.0</td>\n",
       "    </tr>\n",
       "    <tr>\n",
       "      <th>3</th>\n",
       "      <td>4</td>\n",
       "      <td>3</td>\n",
       "      <td>1601.0</td>\n",
       "      <td>1625.0</td>\n",
       "    </tr>\n",
       "    <tr>\n",
       "      <th>4</th>\n",
       "      <td>5</td>\n",
       "      <td>2</td>\n",
       "      <td>1576.0</td>\n",
       "      <td>1602.0</td>\n",
       "    </tr>\n",
       "    <tr>\n",
       "      <th>5</th>\n",
       "      <td>6</td>\n",
       "      <td>5</td>\n",
       "      <td>1543.0</td>\n",
       "      <td>1596.0</td>\n",
       "    </tr>\n",
       "    <tr>\n",
       "      <th>6</th>\n",
       "      <td>7</td>\n",
       "      <td>5</td>\n",
       "      <td>1586.0</td>\n",
       "      <td>1599.0</td>\n",
       "    </tr>\n",
       "    <tr>\n",
       "      <th>7</th>\n",
       "      <td>8</td>\n",
       "      <td>4</td>\n",
       "      <td>1577.0</td>\n",
       "      <td>1598.0</td>\n",
       "    </tr>\n",
       "    <tr>\n",
       "      <th>8</th>\n",
       "      <td>9</td>\n",
       "      <td>5</td>\n",
       "      <td>1587.0</td>\n",
       "      <td>1592.0</td>\n",
       "    </tr>\n",
       "    <tr>\n",
       "      <th>9</th>\n",
       "      <td>10</td>\n",
       "      <td>8</td>\n",
       "      <td>1574.0</td>\n",
       "      <td>1593.0</td>\n",
       "    </tr>\n",
       "  </tbody>\n",
       "</table>\n",
       "</div>"
      ],
      "text/plain": [
       "  key Температура                \n",
       "            count   first    last\n",
       "0   1           5  1571.0  1613.0\n",
       "1   2           6  1581.0  1602.0\n",
       "2   3           5  1596.0  1599.0\n",
       "3   4           3  1601.0  1625.0\n",
       "4   5           2  1576.0  1602.0\n",
       "5   6           5  1543.0  1596.0\n",
       "6   7           5  1586.0  1599.0\n",
       "7   8           4  1577.0  1598.0\n",
       "8   9           5  1587.0  1592.0\n",
       "9  10           8  1574.0  1593.0"
      ]
     },
     "execution_count": 61,
     "metadata": {},
     "output_type": "execute_result"
    }
   ],
   "source": [
    "data_temp_gr.head(10)"
   ]
  },
  {
   "cell_type": "markdown",
   "id": "d95e7ebe",
   "metadata": {},
   "source": [
    "Группировка и подсчёт значений выполнены верно. Для удобства переименуем столбцы."
   ]
  },
  {
   "cell_type": "code",
   "execution_count": 62,
   "id": "ba51d385",
   "metadata": {},
   "outputs": [],
   "source": [
    "data_temp_gr.columns = ('key','Кол-во замеров','Начальная температура','Конечная температура')"
   ]
  },
  {
   "cell_type": "markdown",
   "id": "8c1a6397",
   "metadata": {},
   "source": [
    "Теперь следует удалить из таблицы те партии, для которых производился только один замер."
   ]
  },
  {
   "cell_type": "code",
   "execution_count": 63,
   "id": "a7741da7",
   "metadata": {},
   "outputs": [],
   "source": [
    "data_temp_gr = data_temp_gr[data_temp_gr['Кол-во замеров']>1].reset_index(drop=True)"
   ]
  },
  {
   "cell_type": "code",
   "execution_count": 64,
   "id": "7684875b",
   "metadata": {},
   "outputs": [
    {
     "name": "stdout",
     "output_type": "stream",
     "text": [
      "<class 'pandas.core.frame.DataFrame'>\n",
      "RangeIndex: 2470 entries, 0 to 2469\n",
      "Data columns (total 4 columns):\n",
      " #   Column                 Non-Null Count  Dtype  \n",
      "---  ------                 --------------  -----  \n",
      " 0   key                    2470 non-null   int64  \n",
      " 1   Кол-во замеров         2470 non-null   int64  \n",
      " 2   Начальная температура  2470 non-null   float64\n",
      " 3   Конечная температура   2470 non-null   float64\n",
      "dtypes: float64(2), int64(2)\n",
      "memory usage: 77.3 KB\n"
     ]
    }
   ],
   "source": [
    "data_temp_gr.info()"
   ]
  },
  {
   "cell_type": "markdown",
   "id": "7d5b895d",
   "metadata": {},
   "source": [
    "Строки удалились успешно, на этом анализ данных об измерении температуры завершён."
   ]
  },
  {
   "cell_type": "markdown",
   "id": "5da4846b",
   "metadata": {},
   "source": [
    "### Объединение нескольких таблиц в одну"
   ]
  },
  {
   "cell_type": "markdown",
   "id": "91bfda95",
   "metadata": {},
   "source": [
    "Для дальнейшего построения моделей необходимо объединить данные из нескольких таблиц в одну. Таблица с очень важными данными - это таблица с замерами температуры. К ней и будем присоединять сведения из других таблиц. Наличие замеров температуры для каждой партии обязательно, поэтому партий без сведений о температуре в объединенной таблице не будет. Применим функцию *merge* с параметром *how=inner*."
   ]
  },
  {
   "cell_type": "code",
   "execution_count": 65,
   "id": "fb452f80",
   "metadata": {},
   "outputs": [],
   "source": [
    "data_all = data_temp_gr.merge(data_arc_gr, how='inner', on='key')\n",
    "data_all = data_all.merge(data_bulk, how='inner', on='key')\n",
    "data_all = data_all.merge(data_gas, how='inner', on='key')\n",
    "data_all = data_all.merge(data_wire, how='inner', on='key')"
   ]
  },
  {
   "cell_type": "code",
   "execution_count": 66,
   "id": "595125d7",
   "metadata": {},
   "outputs": [
    {
     "name": "stdout",
     "output_type": "stream",
     "text": [
      "<class 'pandas.core.frame.DataFrame'>\n",
      "Int64Index: 2325 entries, 0 to 2324\n",
      "Data columns (total 28 columns):\n",
      " #   Column                      Non-Null Count  Dtype  \n",
      "---  ------                      --------------  -----  \n",
      " 0   key                         2325 non-null   int64  \n",
      " 1   Кол-во замеров              2325 non-null   int64  \n",
      " 2   Начальная температура       2325 non-null   float64\n",
      " 3   Конечная температура        2325 non-null   float64\n",
      " 4   Потребленная энергия(кВАч)  2325 non-null   float64\n",
      " 5   Bulk 1                      2325 non-null   float64\n",
      " 6   Bulk 2                      2325 non-null   float64\n",
      " 7   Bulk 3                      2325 non-null   float64\n",
      " 8   Bulk 4                      2325 non-null   float64\n",
      " 9   Bulk 5                      2325 non-null   float64\n",
      " 10  Bulk 6                      2325 non-null   float64\n",
      " 11  Bulk 7                      2325 non-null   float64\n",
      " 12  Bulk 9                      2325 non-null   float64\n",
      " 13  Bulk 10                     2325 non-null   float64\n",
      " 14  Bulk 11                     2325 non-null   float64\n",
      " 15  Bulk 12                     2325 non-null   float64\n",
      " 16  Bulk 13                     2325 non-null   float64\n",
      " 17  Bulk 14                     2325 non-null   float64\n",
      " 18  Bulk 15                     2325 non-null   float64\n",
      " 19  Газ 1                       2325 non-null   float64\n",
      " 20  Wire 1                      2325 non-null   float64\n",
      " 21  Wire 2                      2325 non-null   float64\n",
      " 22  Wire 3                      2325 non-null   float64\n",
      " 23  Wire 4                      2325 non-null   float64\n",
      " 24  Wire 6                      2325 non-null   float64\n",
      " 25  Wire 7                      2325 non-null   float64\n",
      " 26  Wire 8                      2325 non-null   float64\n",
      " 27  Wire 9                      2325 non-null   float64\n",
      "dtypes: float64(26), int64(2)\n",
      "memory usage: 526.8 KB\n"
     ]
    }
   ],
   "source": [
    "data_all.info()"
   ]
  },
  {
   "cell_type": "markdown",
   "id": "b91ff6e1",
   "metadata": {},
   "source": [
    "Объединение таблиц произошло корректно, пропусков не образовалось."
   ]
  },
  {
   "cell_type": "markdown",
   "id": "a317f6ef",
   "metadata": {},
   "source": [
    "### Вывод по разделу"
   ]
  },
  {
   "cell_type": "markdown",
   "id": "8b1c8dbd",
   "metadata": {},
   "source": [
    "В разделе были исследованы исходные данные с использованием гистограмм и диаграм размаха. Также в некоторых таблицах была выполнена предобработка данных. В результате:\n",
    "- таблицы со временем добавления сыпучих и проволочных материалов признаны неприменимыми для решения задачи;\n",
    "- в таблице с данными об электродах была устранена одна аномалия. Затем добавлен расчётный столбец с временем нагрева. С использованием этого столбца и значений активной и реактивной мощностей была рассчитана потреблённая энергия за каждый этап нагрева. Далее проведена группировка таблицы по партиям с суммированием значений энергии.\n",
    "- в таблице с данными об объеме сыпучих материалов выявлен и удалён практически не используемый в тех. процессе материал Bulk 8. Пропуски в таблице означали неиспользование соответствующего материала в партии и были заполнены нулями;\n",
    "- в таблице с данными об объеме проволочных материалов выявлен и удалён практически не используемый в тех. процессе материал Wire 5. Пропуски в таблице означали неиспользование соответствующего материала в партии и были заполнены нулями;\n",
    "- в таблице с данными об измерении температуры были удалены аномальные значения температуры (менее 1500) и пропуски вместе с соответствующими партиями. Далее проведена группировка таблицы по партиям с сохранением начального, конечного значений температуры и количества замеров для каждой партии. Данные с количеством замером менее двух удалены.\n",
    "- в конце раздела выполнено объединение пяти таблиц так, чтобы в объединённой таблице были сведения только о партиях, имеющих сведения об измеренной температуре, а также отсутствовали пропуски."
   ]
  },
  {
   "cell_type": "markdown",
   "id": "cadb531f",
   "metadata": {},
   "source": [
    "## Построение моделей"
   ]
  },
  {
   "cell_type": "markdown",
   "id": "1417ecd4",
   "metadata": {},
   "source": [
    "### Подготовка признаков и разделение данных на выборки"
   ]
  },
  {
   "cell_type": "markdown",
   "id": "4bad0997",
   "metadata": {},
   "source": [
    "В предыдущем разделе была подготовлена единая таблица с необходимыми данными. Столбцы таблицы теперь станут признаками. Посмотрим на них ещё раз."
   ]
  },
  {
   "cell_type": "code",
   "execution_count": 67,
   "id": "48bcee6d",
   "metadata": {},
   "outputs": [
    {
     "data": {
      "text/html": [
       "<div>\n",
       "<style scoped>\n",
       "    .dataframe tbody tr th:only-of-type {\n",
       "        vertical-align: middle;\n",
       "    }\n",
       "\n",
       "    .dataframe tbody tr th {\n",
       "        vertical-align: top;\n",
       "    }\n",
       "\n",
       "    .dataframe thead th {\n",
       "        text-align: right;\n",
       "    }\n",
       "</style>\n",
       "<table border=\"1\" class=\"dataframe\">\n",
       "  <thead>\n",
       "    <tr style=\"text-align: right;\">\n",
       "      <th></th>\n",
       "      <th>key</th>\n",
       "      <th>Кол-во замеров</th>\n",
       "      <th>Начальная температура</th>\n",
       "      <th>Конечная температура</th>\n",
       "      <th>Потребленная энергия(кВАч)</th>\n",
       "      <th>Bulk 1</th>\n",
       "      <th>Bulk 2</th>\n",
       "      <th>Bulk 3</th>\n",
       "      <th>Bulk 4</th>\n",
       "      <th>Bulk 5</th>\n",
       "      <th>...</th>\n",
       "      <th>Bulk 15</th>\n",
       "      <th>Газ 1</th>\n",
       "      <th>Wire 1</th>\n",
       "      <th>Wire 2</th>\n",
       "      <th>Wire 3</th>\n",
       "      <th>Wire 4</th>\n",
       "      <th>Wire 6</th>\n",
       "      <th>Wire 7</th>\n",
       "      <th>Wire 8</th>\n",
       "      <th>Wire 9</th>\n",
       "    </tr>\n",
       "  </thead>\n",
       "  <tbody>\n",
       "    <tr>\n",
       "      <th>0</th>\n",
       "      <td>1</td>\n",
       "      <td>5</td>\n",
       "      <td>1571.0</td>\n",
       "      <td>1613.0</td>\n",
       "      <td>400.660487</td>\n",
       "      <td>0.0</td>\n",
       "      <td>0.0</td>\n",
       "      <td>0.0</td>\n",
       "      <td>43.0</td>\n",
       "      <td>0.0</td>\n",
       "      <td>...</td>\n",
       "      <td>154.0</td>\n",
       "      <td>29.749986</td>\n",
       "      <td>60.059998</td>\n",
       "      <td>0.00000</td>\n",
       "      <td>0.0</td>\n",
       "      <td>0.0</td>\n",
       "      <td>0.0</td>\n",
       "      <td>0.0</td>\n",
       "      <td>0.0</td>\n",
       "      <td>0.0</td>\n",
       "    </tr>\n",
       "    <tr>\n",
       "      <th>1</th>\n",
       "      <td>2</td>\n",
       "      <td>6</td>\n",
       "      <td>1581.0</td>\n",
       "      <td>1602.0</td>\n",
       "      <td>244.787101</td>\n",
       "      <td>0.0</td>\n",
       "      <td>0.0</td>\n",
       "      <td>0.0</td>\n",
       "      <td>73.0</td>\n",
       "      <td>0.0</td>\n",
       "      <td>...</td>\n",
       "      <td>154.0</td>\n",
       "      <td>12.555561</td>\n",
       "      <td>96.052315</td>\n",
       "      <td>0.00000</td>\n",
       "      <td>0.0</td>\n",
       "      <td>0.0</td>\n",
       "      <td>0.0</td>\n",
       "      <td>0.0</td>\n",
       "      <td>0.0</td>\n",
       "      <td>0.0</td>\n",
       "    </tr>\n",
       "    <tr>\n",
       "      <th>2</th>\n",
       "      <td>3</td>\n",
       "      <td>5</td>\n",
       "      <td>1596.0</td>\n",
       "      <td>1599.0</td>\n",
       "      <td>145.851882</td>\n",
       "      <td>0.0</td>\n",
       "      <td>0.0</td>\n",
       "      <td>0.0</td>\n",
       "      <td>34.0</td>\n",
       "      <td>0.0</td>\n",
       "      <td>...</td>\n",
       "      <td>153.0</td>\n",
       "      <td>28.554793</td>\n",
       "      <td>91.160157</td>\n",
       "      <td>0.00000</td>\n",
       "      <td>0.0</td>\n",
       "      <td>0.0</td>\n",
       "      <td>0.0</td>\n",
       "      <td>0.0</td>\n",
       "      <td>0.0</td>\n",
       "      <td>0.0</td>\n",
       "    </tr>\n",
       "    <tr>\n",
       "      <th>3</th>\n",
       "      <td>4</td>\n",
       "      <td>3</td>\n",
       "      <td>1601.0</td>\n",
       "      <td>1625.0</td>\n",
       "      <td>221.364253</td>\n",
       "      <td>0.0</td>\n",
       "      <td>0.0</td>\n",
       "      <td>0.0</td>\n",
       "      <td>81.0</td>\n",
       "      <td>0.0</td>\n",
       "      <td>...</td>\n",
       "      <td>154.0</td>\n",
       "      <td>18.841219</td>\n",
       "      <td>89.063515</td>\n",
       "      <td>0.00000</td>\n",
       "      <td>0.0</td>\n",
       "      <td>0.0</td>\n",
       "      <td>0.0</td>\n",
       "      <td>0.0</td>\n",
       "      <td>0.0</td>\n",
       "      <td>0.0</td>\n",
       "    </tr>\n",
       "    <tr>\n",
       "      <th>4</th>\n",
       "      <td>5</td>\n",
       "      <td>2</td>\n",
       "      <td>1576.0</td>\n",
       "      <td>1602.0</td>\n",
       "      <td>333.093877</td>\n",
       "      <td>0.0</td>\n",
       "      <td>0.0</td>\n",
       "      <td>0.0</td>\n",
       "      <td>78.0</td>\n",
       "      <td>0.0</td>\n",
       "      <td>...</td>\n",
       "      <td>152.0</td>\n",
       "      <td>5.413692</td>\n",
       "      <td>89.238236</td>\n",
       "      <td>9.11456</td>\n",
       "      <td>0.0</td>\n",
       "      <td>0.0</td>\n",
       "      <td>0.0</td>\n",
       "      <td>0.0</td>\n",
       "      <td>0.0</td>\n",
       "      <td>0.0</td>\n",
       "    </tr>\n",
       "  </tbody>\n",
       "</table>\n",
       "<p>5 rows × 28 columns</p>\n",
       "</div>"
      ],
      "text/plain": [
       "   key  Кол-во замеров  Начальная температура  Конечная температура  \\\n",
       "0    1               5                 1571.0                1613.0   \n",
       "1    2               6                 1581.0                1602.0   \n",
       "2    3               5                 1596.0                1599.0   \n",
       "3    4               3                 1601.0                1625.0   \n",
       "4    5               2                 1576.0                1602.0   \n",
       "\n",
       "   Потребленная энергия(кВАч)  Bulk 1  Bulk 2  Bulk 3  Bulk 4  Bulk 5  ...  \\\n",
       "0                  400.660487     0.0     0.0     0.0    43.0     0.0  ...   \n",
       "1                  244.787101     0.0     0.0     0.0    73.0     0.0  ...   \n",
       "2                  145.851882     0.0     0.0     0.0    34.0     0.0  ...   \n",
       "3                  221.364253     0.0     0.0     0.0    81.0     0.0  ...   \n",
       "4                  333.093877     0.0     0.0     0.0    78.0     0.0  ...   \n",
       "\n",
       "   Bulk 15      Газ 1     Wire 1   Wire 2  Wire 3  Wire 4  Wire 6  Wire 7  \\\n",
       "0    154.0  29.749986  60.059998  0.00000     0.0     0.0     0.0     0.0   \n",
       "1    154.0  12.555561  96.052315  0.00000     0.0     0.0     0.0     0.0   \n",
       "2    153.0  28.554793  91.160157  0.00000     0.0     0.0     0.0     0.0   \n",
       "3    154.0  18.841219  89.063515  0.00000     0.0     0.0     0.0     0.0   \n",
       "4    152.0   5.413692  89.238236  9.11456     0.0     0.0     0.0     0.0   \n",
       "\n",
       "   Wire 8  Wire 9  \n",
       "0     0.0     0.0  \n",
       "1     0.0     0.0  \n",
       "2     0.0     0.0  \n",
       "3     0.0     0.0  \n",
       "4     0.0     0.0  \n",
       "\n",
       "[5 rows x 28 columns]"
      ]
     },
     "execution_count": 67,
     "metadata": {},
     "output_type": "execute_result"
    }
   ],
   "source": [
    "data_all.head(5)"
   ]
  },
  {
   "cell_type": "markdown",
   "id": "e6acadae",
   "metadata": {},
   "source": [
    "Из таблицы следует удалить признак \"Кол-во замеров\", он явным образом никак не влияет на температуру стали."
   ]
  },
  {
   "cell_type": "code",
   "execution_count": 68,
   "id": "b19a8a37",
   "metadata": {},
   "outputs": [
    {
     "data": {
      "text/plain": [
       "(2325, 26)"
      ]
     },
     "execution_count": 68,
     "metadata": {},
     "output_type": "execute_result"
    }
   ],
   "source": [
    "data_all = data_all.drop(['Кол-во замеров', 'key'], axis=1)\n",
    "data_all.shape"
   ]
  },
  {
   "cell_type": "markdown",
   "id": "744cf49f",
   "metadata": {},
   "source": [
    "Признак успешно удалился. \n",
    "\n",
    "Теперь выделим из всех признаков один целевой. Логично в качестве целевого признака взять конечную температуру, ведь все операции и преобразования во время тех. процесса ведут как раз к изменению этого признака."
   ]
  },
  {
   "cell_type": "code",
   "execution_count": 69,
   "id": "fba8bc4f",
   "metadata": {},
   "outputs": [],
   "source": [
    "features = data_all.drop('Конечная температура', axis=1)\n",
    "target = data_all['Конечная температура']"
   ]
  },
  {
   "cell_type": "markdown",
   "id": "994d79a1",
   "metadata": {},
   "source": [
    "Теперь произведём разделение данных на обучающую и тестовую выборки. Размер тестовой выборки установим в 25%."
   ]
  },
  {
   "cell_type": "code",
   "execution_count": 70,
   "id": "477f2483",
   "metadata": {},
   "outputs": [
    {
     "name": "stdout",
     "output_type": "stream",
     "text": [
      "Размер обучающей выборки признаков: (1743, 25)\n",
      "Размер тестовой выборки признаков: (582, 25)\n",
      "Размер обучающей выборки целевых признаков: (1743,)\n",
      "Размер тестовой выборки целевых признаков: (582,)\n"
     ]
    }
   ],
   "source": [
    "train_features, test_features, train_target, test_target = train_test_split(\n",
    "features, target, test_size=0.25, random_state=131222)\n",
    "print('Размер обучающей выборки признаков:', train_features.shape)\n",
    "print('Размер тестовой выборки признаков:', test_features.shape)\n",
    "print('Размер обучающей выборки целевых признаков:', train_target.shape)\n",
    "print('Размер тестовой выборки целевых признаков:', test_target.shape)"
   ]
  },
  {
   "cell_type": "markdown",
   "id": "e5de3b97",
   "metadata": {},
   "source": [
    "Масштабирование признаков производить нет необходимости, так как в дальнейшем не будут использоваться линейные модели.\n",
    "\n",
    "На этом подготовка признаков и разделение данных на выборки завершены."
   ]
  },
  {
   "cell_type": "markdown",
   "id": "3646e517",
   "metadata": {},
   "source": [
    "### Модель \"Случайный лес\""
   ]
  },
  {
   "cell_type": "markdown",
   "id": "26489c62",
   "metadata": {},
   "source": [
    "Рассмотрим модель \"Случайный лес\" и подберём её оптимальные гиперпараметры. Для подбора гиперпараметров воспользуемся функцией GridSearchCV. Функция GridSearchCV самостоятельно разделит выборку для обучения на тренировочные и валидационные наборы данных с учётом значения гиперпараметра cv=5. При работе функции GridSearchCV будет оцениваться метрика MAE.\n",
    "\n",
    "Для ускорения обучения модели применён параметр n_jobs=-1, что означает использование всех ядер и потоков процессора."
   ]
  },
  {
   "cell_type": "code",
   "execution_count": 71,
   "id": "f70c0c9e",
   "metadata": {},
   "outputs": [
    {
     "name": "stdout",
     "output_type": "stream",
     "text": [
      "CPU times: total: 1.14 s\n",
      "Wall time: 8.64 s\n"
     ]
    },
    {
     "data": {
      "text/plain": [
       "GridSearchCV(cv=5, estimator=RandomForestRegressor(random_state=131222),\n",
       "             n_jobs=-1,\n",
       "             param_grid={'max_depth': range(10, 20),\n",
       "                         'n_estimators': [100, 160, 5]},\n",
       "             scoring='neg_mean_absolute_error')"
      ]
     },
     "execution_count": 71,
     "metadata": {},
     "output_type": "execute_result"
    }
   ],
   "source": [
    "%%time\n",
    "\n",
    "estimator = RandomForestRegressor(random_state = 131222)\n",
    "parameters = {'n_estimators': [100, 160, 5],\n",
    "              'max_depth': range(10,20)\n",
    "             }\n",
    "clf = GridSearchCV(estimator, parameters, scoring='neg_mean_absolute_error', cv=5, n_jobs=-1)\n",
    "clf.fit(train_features, train_target)"
   ]
  },
  {
   "cell_type": "code",
   "execution_count": 72,
   "id": "6f12b47d",
   "metadata": {},
   "outputs": [
    {
     "data": {
      "text/plain": [
       "{'max_depth': 11, 'n_estimators': 160}"
      ]
     },
     "metadata": {},
     "output_type": "display_data"
    },
    {
     "data": {
      "text/plain": [
       "RandomForestRegressor(max_depth=11, n_estimators=160, random_state=131222)"
      ]
     },
     "metadata": {},
     "output_type": "display_data"
    },
    {
     "data": {
      "text/plain": [
       "-6.190953256036192"
      ]
     },
     "metadata": {},
     "output_type": "display_data"
    }
   ],
   "source": [
    "display(clf.best_params_)\n",
    "display(clf.best_estimator_)\n",
    "display(clf.best_score_)"
   ]
  },
  {
   "cell_type": "markdown",
   "id": "71c17462",
   "metadata": {},
   "source": [
    "Подбор гиперпараметров окончен. Cоздадим словарь, в который сохраним все параметры модели."
   ]
  },
  {
   "cell_type": "code",
   "execution_count": 73,
   "id": "faa862e2",
   "metadata": {},
   "outputs": [
    {
     "name": "stdout",
     "output_type": "stream",
     "text": [
      "Модель \"Случайный лес\" имеет значение MAE: 6.191\n"
     ]
    }
   ],
   "source": [
    "best_models = {}\n",
    "best_models['forest'] = clf.best_estimator_\n",
    "MAE = abs(clf.best_score_)\n",
    "print(f'Модель \"Случайный лес\" имеет значение MAE: {MAE:.3f}')"
   ]
  },
  {
   "cell_type": "markdown",
   "id": "f4e1a832",
   "metadata": {},
   "source": [
    "Модель показала хорошее значение метрики MAE. Далее рассмотрим другую модель, с которой результаты могут быть лучше."
   ]
  },
  {
   "cell_type": "markdown",
   "id": "9a710fef",
   "metadata": {},
   "source": [
    "### Модель градиентного бустинга CatBoost"
   ]
  },
  {
   "cell_type": "markdown",
   "id": "2088177f",
   "metadata": {},
   "source": [
    "Рассмотрим модель градиентного бустинга CatBoost. Гиперпараметры модели как и ранее подберём с помощью GridSearchCV."
   ]
  },
  {
   "cell_type": "code",
   "execution_count": 74,
   "id": "73b81b82",
   "metadata": {},
   "outputs": [
    {
     "name": "stdout",
     "output_type": "stream",
     "text": [
      "CPU times: total: 11.5 s\n",
      "Wall time: 17.6 s\n"
     ]
    },
    {
     "data": {
      "text/plain": [
       "GridSearchCV(cv=5,\n",
       "             estimator=<catboost.core.CatBoostRegressor object at 0x0000025D3D7CD790>,\n",
       "             n_jobs=-1,\n",
       "             param_grid={'learning_rate': [0.01, 0.03, 0.1],\n",
       "                         'n_estimators': [500, 700, 900]},\n",
       "             scoring='neg_mean_absolute_error')"
      ]
     },
     "execution_count": 74,
     "metadata": {},
     "output_type": "execute_result"
    }
   ],
   "source": [
    "%%time\n",
    "\n",
    "estimator = CatBoostRegressor(verbose=False, loss_function='MAE', random_state = 131222)\n",
    "parameters = {'n_estimators': [500, 700, 900],\n",
    "              'learning_rate':[0.01, 0.03, 0.1],\n",
    "              \n",
    "             }\n",
    "clf = GridSearchCV(estimator, parameters, scoring='neg_mean_absolute_error', cv=5, n_jobs=-1)\n",
    "clf.fit(train_features, train_target)"
   ]
  },
  {
   "cell_type": "code",
   "execution_count": 75,
   "id": "58455370",
   "metadata": {
    "scrolled": true
   },
   "outputs": [
    {
     "data": {
      "text/plain": [
       "{'learning_rate': 0.03, 'n_estimators': 900}"
      ]
     },
     "metadata": {},
     "output_type": "display_data"
    },
    {
     "data": {
      "text/plain": [
       "<catboost.core.CatBoostRegressor at 0x25d3d946640>"
      ]
     },
     "metadata": {},
     "output_type": "display_data"
    },
    {
     "data": {
      "text/plain": [
       "-6.011850887596841"
      ]
     },
     "metadata": {},
     "output_type": "display_data"
    }
   ],
   "source": [
    "display(clf.best_params_)\n",
    "display(clf.best_estimator_)\n",
    "display(clf.best_score_)"
   ]
  },
  {
   "cell_type": "markdown",
   "id": "2ba7383a",
   "metadata": {},
   "source": [
    "Подбор гиперпараметров окончен. Добавим все параметры модели в словарь."
   ]
  },
  {
   "cell_type": "code",
   "execution_count": 76,
   "id": "9baf2a99",
   "metadata": {},
   "outputs": [
    {
     "name": "stdout",
     "output_type": "stream",
     "text": [
      "Модель CatBoost имеет значение MAE: 6.012\n"
     ]
    }
   ],
   "source": [
    "best_models['catboost'] = clf.best_estimator_\n",
    "MAE = abs(clf.best_score_)\n",
    "print(f'Модель CatBoost имеет значение MAE: {MAE:.3f}')"
   ]
  },
  {
   "cell_type": "markdown",
   "id": "5b41baca",
   "metadata": {},
   "source": [
    "Модель CatBoost показала наилучший результат."
   ]
  },
  {
   "cell_type": "markdown",
   "id": "311f4791",
   "metadata": {},
   "source": [
    "### Проверка наилучшей модели на тестовой выборке"
   ]
  },
  {
   "cell_type": "markdown",
   "id": "d87f22d2",
   "metadata": {},
   "source": [
    "На этапе подбора гиперпараметров лучшие результаты показала модель CatBoost. Проверим её работу на тестовой выборке."
   ]
  },
  {
   "cell_type": "code",
   "execution_count": 77,
   "id": "ea18ee19",
   "metadata": {},
   "outputs": [
    {
     "name": "stdout",
     "output_type": "stream",
     "text": [
      "Модель CatBoost на тестовой выборке имеет значение MAE: 6.006\n"
     ]
    }
   ],
   "source": [
    "model = best_models['catboost'] \n",
    "model.fit(train_features, train_target)\n",
    "predictions = model.predict(test_features)\n",
    "MAE = mean_absolute_error(test_target, predictions)\n",
    "print(f'Модель CatBoost на тестовой выборке имеет значение MAE: {MAE:.3f}')"
   ]
  },
  {
   "cell_type": "markdown",
   "id": "b82ec8bb",
   "metadata": {},
   "source": [
    "### Вывод по разделу"
   ]
  },
  {
   "cell_type": "markdown",
   "id": "0af80454",
   "metadata": {},
   "source": [
    "Наилучший результат по метрике MAE на этапе подбора гиперпараметров показала модель градиентного бустинга CatBoost. Так как выборки данных небольшие, то время обучения и предсказания моделей можно не сравнивать, они невелики. В конце раздела работа модели проверена на тестовой выборке. Полученнное значение метрики MAE полностью удовлетворяет требованиям задачи (значение MAE менее 8.7). Модель CatBoost выбираем в качестве основной для решения задачи в проекте."
   ]
  },
  {
   "cell_type": "markdown",
   "id": "c382c5b9",
   "metadata": {},
   "source": [
    "## Общий вывод"
   ]
  },
  {
   "cell_type": "markdown",
   "id": "057d2422",
   "metadata": {},
   "source": [
    "Во втором разделе проекта были загружены данные из файлов, выведена общая информация о таблицах, отображено по несколько строк из каждой таблицы.\n",
    "\n",
    "В третьем разделе проведён исследовательский анализ данных (подробности - в п. 2.7). Исследовано пять таблиц, содержащих полезную информацию для проекта. В некоторых таблицах выполнена предобработка данных - устранены аномалии, заполнены пропуски. Для таблицы с данными об электродах добавлено расчётное поле со значением потреблённой энергии, а затем выполнена группировка по партиям с суммирование значений энергии. В таблице с данными об измерении температуры так же выполнена группировка по партиям, при этом выделены начальная и конечная температуры нагрева. В конце раздела выполнено объединение пяти таблиц так, чтобы в объединённой таблице были сведения только о партиях, имеющих сведения об измеренной температуре, а также отсутствовали пропуски.\n",
    "\n",
    "В четвёртом разделе проекта выполнено построение моделей машинного обучения. Вначале проведено выделение целевого признака - конечной температуры. Далее данные были разделены на тестовую и тренировочную выборки в соотношении 1:3. Следующим этапом были созданы две модели: \"Случайный лес\" и CatBoost. Гиперпараметры моделей подобраны с помощью функции GridSearchCV. Наилучший результат по метрике MAE на этапе подбора гиперпараметров показала модель градиентного бустинга CatBoost. При проверке работы модели на тестовой выборке также удалось получить хорошее значение метрики MAE, которое удовлетворяет требованиям задачи."
   ]
  },
  {
   "cell_type": "markdown",
   "id": "f5f64cc5",
   "metadata": {},
   "source": [
    "## Отчёт по проекту"
   ]
  },
  {
   "cell_type": "markdown",
   "id": "2872faf4",
   "metadata": {},
   "source": [
    "В ходе работы над проектом были выполнены все пункты изначального плана.\n",
    "\n",
    "Трудности, с которыми пришлось столкнуться в процессе работы:\n",
    " - формирование концепции единого датасета, на котором должны обучаться модели. Изначально в проекте были несколько таблиц. Напрямую их объединять не имело смысла. Труднее всего было догадаться какие преобразования в какой таблице надо сделать. Как выяснилось в дальнейшем, два ключевых преобразования - это группировки данных в таблице с данными об электродах и таблице с измерениями температуры. После получения единой таблицы уже стало понятно, что относить к целевому признаку, а что к обычным обучающим признакам;\n",
    " - технические средства pandas, необходимые для реализации преобразований таблиц. Пришлось вспоминать ньюансы выполнения группировки, а также методы применения разных функций к группам;\n",
    " - отображение диаграмм размаха с учётом всех потребностей. Было необходимо дополнительно поразбираться с библиотекой matplotlib, чтобы реализовать некоторые отображаемые особенности диаграмма размаха. А в случае с таблицами, где присутствовали пропуски, пришлось обратиться к методу plot из библиотеки pandas. Исходя из статей в интернете, препочтительнее в будущем пользоваться библиотекой seaborn, она удобнее для работы.\n",
    " \n",
    "Ключевыми шагами при решении задачи являлись (собственно, так были названы разделы): \n",
    "- знакомство с данными, которое включало загрузку данных из файлов и отображение общей информации о таблицах. Более подробную информацию (диаграммы, гистограммы) специально не стал выводить в этом разделе, иначе в нём бы всё смешалось;\n",
    "- исследовательский анализ данных (с графическими построениями). На этом шаге также выполнялась и необходимая предобработка данных и преобразования. Раздел был структурирован по отдельным рассматриваемым таблицам, которые в конце были объединены;\n",
    "- построение моделей машинного обучения. Были подготовлены признаки, выполнено разделение на выборки. Затем построено две разных модели. По лучшему результату выбрана одна модель и проверена на тестовой выборке;\n",
    "- написание общего вывода по проекту, в котором обобщаются все выполненные действия и шаги.\n",
    "\n",
    "В качестве итоговой модели была выбрана модель градиентного бустинга CatBoost. Как и ожидалось, именно она показала наилучший результат. Качество модели оценивалось через метрику MAE, которая на тестовой выборке была равна примерно 6. Т.е. модель в среднем ошибается на 6 градусов при предсказании температуры.\n",
    "\n",
    "Возвращаясь к изначальной поставленной задаче можно ответить на вопрос как конкретно модель поможет уменьшить потребление энергии. Все данные, доступные в проекте, по сути описывают одну часть технологического процесса, который упрощённо включает в себя первоначальный и промежуточные нагревы, добавление легирующих добавок, продувку газом, периодические измерения температуры. Если модель будет уметь предсказывать конечную температуру стали, то технолог сможет изменять параметры тех. процесса, передавать данные в модель и она предскажет, к какой в итоге температуре приведёт этот процесс. Изменить параметры тех. процесса - это, в частности, уменьшить периоды нагрева электродами, а значит сэкономить электроэнергию."
   ]
  }
 ],
 "metadata": {
  "ExecuteTimeLog": [
   {
    "duration": 85,
    "start_time": "2022-12-15T10:05:28.687Z"
   },
   {
    "duration": 2371,
    "start_time": "2022-12-19T12:26:11.619Z"
   },
   {
    "duration": 1101,
    "start_time": "2022-12-19T12:26:13.992Z"
   },
   {
    "duration": 14,
    "start_time": "2022-12-19T12:26:17.152Z"
   },
   {
    "duration": 13,
    "start_time": "2022-12-19T12:26:17.327Z"
   },
   {
    "duration": 13,
    "start_time": "2022-12-19T12:26:17.829Z"
   },
   {
    "duration": 18,
    "start_time": "2022-12-19T12:26:17.993Z"
   },
   {
    "duration": 12,
    "start_time": "2022-12-19T12:26:18.495Z"
   },
   {
    "duration": 14,
    "start_time": "2022-12-19T12:26:18.656Z"
   },
   {
    "duration": 11,
    "start_time": "2022-12-19T12:26:19.005Z"
   },
   {
    "duration": 7,
    "start_time": "2022-12-19T12:26:19.169Z"
   },
   {
    "duration": 13,
    "start_time": "2022-12-19T12:26:19.799Z"
   },
   {
    "duration": 11,
    "start_time": "2022-12-19T12:26:19.973Z"
   },
   {
    "duration": 10,
    "start_time": "2022-12-19T12:26:20.801Z"
   },
   {
    "duration": 13,
    "start_time": "2022-12-19T12:26:21.048Z"
   },
   {
    "duration": 13,
    "start_time": "2022-12-19T12:26:21.836Z"
   },
   {
    "duration": 12,
    "start_time": "2022-12-19T12:26:22.201Z"
   },
   {
    "duration": 5,
    "start_time": "2022-12-19T12:26:24.241Z"
   },
   {
    "duration": 4,
    "start_time": "2022-12-19T12:26:24.498Z"
   },
   {
    "duration": 21,
    "start_time": "2022-12-19T12:26:24.849Z"
   },
   {
    "duration": 11,
    "start_time": "2022-12-19T12:26:25.261Z"
   },
   {
    "duration": 10,
    "start_time": "2022-12-19T12:26:25.640Z"
   },
   {
    "duration": 7,
    "start_time": "2022-12-19T12:26:26.023Z"
   },
   {
    "duration": 12,
    "start_time": "2022-12-19T12:26:26.388Z"
   },
   {
    "duration": 866,
    "start_time": "2022-12-19T12:26:26.751Z"
   },
   {
    "duration": 150,
    "start_time": "2022-12-19T12:26:27.620Z"
   },
   {
    "duration": 11,
    "start_time": "2022-12-19T12:26:29.458Z"
   },
   {
    "duration": 5,
    "start_time": "2022-12-19T12:26:29.851Z"
   },
   {
    "duration": 107,
    "start_time": "2022-12-19T12:26:30.601Z"
   },
   {
    "duration": 13,
    "start_time": "2022-12-19T12:26:30.939Z"
   },
   {
    "duration": 6,
    "start_time": "2022-12-19T12:26:31.721Z"
   },
   {
    "duration": 11,
    "start_time": "2022-12-19T12:26:32.164Z"
   },
   {
    "duration": 8,
    "start_time": "2022-12-19T12:26:32.924Z"
   },
   {
    "duration": 8,
    "start_time": "2022-12-19T12:26:33.446Z"
   },
   {
    "duration": 15,
    "start_time": "2022-12-19T12:26:34.756Z"
   },
   {
    "duration": 4,
    "start_time": "2022-12-19T12:26:35.054Z"
   },
   {
    "duration": 51,
    "start_time": "2022-12-19T12:26:35.904Z"
   },
   {
    "duration": 330,
    "start_time": "2022-12-19T12:26:36.193Z"
   },
   {
    "duration": 3,
    "start_time": "2022-12-19T12:26:38.197Z"
   },
   {
    "duration": 12,
    "start_time": "2022-12-19T12:26:38.514Z"
   },
   {
    "duration": 18,
    "start_time": "2022-12-19T12:26:39.652Z"
   },
   {
    "duration": 440,
    "start_time": "2022-12-19T12:26:39.889Z"
   },
   {
    "duration": 254,
    "start_time": "2022-12-19T12:26:40.355Z"
   },
   {
    "duration": 13,
    "start_time": "2022-12-19T12:26:41.358Z"
   },
   {
    "duration": 4,
    "start_time": "2022-12-19T12:26:41.593Z"
   },
   {
    "duration": 44,
    "start_time": "2022-12-19T12:26:42.293Z"
   },
   {
    "duration": 297,
    "start_time": "2022-12-19T12:26:42.568Z"
   },
   {
    "duration": 4,
    "start_time": "2022-12-19T12:26:43.204Z"
   },
   {
    "duration": 11,
    "start_time": "2022-12-19T12:26:43.463Z"
   },
   {
    "duration": 9,
    "start_time": "2022-12-19T12:26:44.603Z"
   },
   {
    "duration": 455,
    "start_time": "2022-12-19T12:26:44.879Z"
   },
   {
    "duration": 132,
    "start_time": "2022-12-19T12:26:45.337Z"
   },
   {
    "duration": 9,
    "start_time": "2022-12-19T12:26:45.708Z"
   },
   {
    "duration": 6,
    "start_time": "2022-12-19T12:26:45.954Z"
   },
   {
    "duration": 124,
    "start_time": "2022-12-19T12:26:47.653Z"
   },
   {
    "duration": 13,
    "start_time": "2022-12-19T12:26:47.965Z"
   },
   {
    "duration": 6,
    "start_time": "2022-12-19T12:26:48.665Z"
   },
   {
    "duration": 4,
    "start_time": "2022-12-19T12:26:49.001Z"
   },
   {
    "duration": 8,
    "start_time": "2022-12-19T12:26:49.231Z"
   },
   {
    "duration": 11,
    "start_time": "2022-12-19T12:26:50.059Z"
   },
   {
    "duration": 10,
    "start_time": "2022-12-19T12:26:50.346Z"
   },
   {
    "duration": 10,
    "start_time": "2022-12-19T12:26:50.550Z"
   },
   {
    "duration": 4,
    "start_time": "2022-12-19T12:26:51.070Z"
   },
   {
    "duration": 6,
    "start_time": "2022-12-19T12:26:51.967Z"
   },
   {
    "duration": 18,
    "start_time": "2022-12-19T12:26:52.179Z"
   },
   {
    "duration": 15,
    "start_time": "2022-12-19T12:26:55.035Z"
   },
   {
    "duration": 12,
    "start_time": "2022-12-19T12:26:55.220Z"
   },
   {
    "duration": 32,
    "start_time": "2022-12-19T12:27:00.931Z"
   },
   {
    "duration": 94,
    "start_time": "2022-12-19T12:27:05.468Z"
   },
   {
    "duration": 116,
    "start_time": "2022-12-19T12:27:11.839Z"
   },
   {
    "duration": 9,
    "start_time": "2022-12-19T12:27:25.893Z"
   },
   {
    "duration": 5,
    "start_time": "2022-12-19T12:27:29.857Z"
   },
   {
    "duration": 8,
    "start_time": "2022-12-19T12:27:32.501Z"
   },
   {
    "duration": 94463,
    "start_time": "2022-12-19T12:28:30.093Z"
   },
   {
    "duration": 6,
    "start_time": "2022-12-19T12:30:04.558Z"
   },
   {
    "duration": 6,
    "start_time": "2022-12-19T12:30:04.577Z"
   },
   {
    "duration": 79940,
    "start_time": "2022-12-19T12:30:04.587Z"
   },
   {
    "duration": 6,
    "start_time": "2022-12-19T12:31:24.528Z"
   },
   {
    "duration": 4,
    "start_time": "2022-12-19T12:31:24.536Z"
   },
   {
    "duration": 2440,
    "start_time": "2022-12-19T12:31:24.541Z"
   }
  ],
  "kernelspec": {
   "display_name": "Python 3 (ipykernel)",
   "language": "python",
   "name": "python3"
  },
  "language_info": {
   "codemirror_mode": {
    "name": "ipython",
    "version": 3
   },
   "file_extension": ".py",
   "mimetype": "text/x-python",
   "name": "python",
   "nbconvert_exporter": "python",
   "pygments_lexer": "ipython3",
   "version": "3.9.12"
  },
  "toc": {
   "base_numbering": 1,
   "nav_menu": {},
   "number_sections": true,
   "sideBar": true,
   "skip_h1_title": true,
   "title_cell": "Содержание",
   "title_sidebar": "Содержание",
   "toc_cell": true,
   "toc_position": {},
   "toc_section_display": true,
   "toc_window_display": true
  }
 },
 "nbformat": 4,
 "nbformat_minor": 5
}
