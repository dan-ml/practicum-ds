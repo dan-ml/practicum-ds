{
 "cells": [
  {
   "cell_type": "markdown",
   "id": "156c74d8",
   "metadata": {
    "toc": true
   },
   "source": [
    "<h1>Содержание<span class=\"tocSkip\"></span></h1>\n",
    "<div class=\"toc\"><ul class=\"toc-item\"><li><span><a href=\"#Загрузка-и-обзор-данных\" data-toc-modified-id=\"Загрузка-и-обзор-данных-1\"><span class=\"toc-item-num\">1&nbsp;&nbsp;</span>Загрузка и обзор данных</a></span></li><li><span><a href=\"#Предобработка-данных\" data-toc-modified-id=\"Предобработка-данных-2\"><span class=\"toc-item-num\">2&nbsp;&nbsp;</span>Предобработка данных</a></span><ul class=\"toc-item\"><li><span><a href=\"#Заполнение-пропусков\" data-toc-modified-id=\"Заполнение-пропусков-2.1\"><span class=\"toc-item-num\">2.1&nbsp;&nbsp;</span>Заполнение пропусков</a></span></li><li><span><a href=\"#Проверка-данных-на-аномалии-и-исправления\" data-toc-modified-id=\"Проверка-данных-на-аномалии-и-исправления-2.2\"><span class=\"toc-item-num\">2.2&nbsp;&nbsp;</span>Проверка данных на аномалии и исправления</a></span></li><li><span><a href=\"#Изменение-типов-данных\" data-toc-modified-id=\"Изменение-типов-данных-2.3\"><span class=\"toc-item-num\">2.3&nbsp;&nbsp;</span>Изменение типов данных</a></span></li><li><span><a href=\"#Удаление-дубликатов\" data-toc-modified-id=\"Удаление-дубликатов-2.4\"><span class=\"toc-item-num\">2.4&nbsp;&nbsp;</span>Удаление дубликатов</a></span></li><li><span><a href=\"#Формирование-дополнительных-датафреймов-словарей,-декомпозиция-исходного-датафрейма\" data-toc-modified-id=\"Формирование-дополнительных-датафреймов-словарей,-декомпозиция-исходного-датафрейма-2.5\"><span class=\"toc-item-num\">2.5&nbsp;&nbsp;</span>Формирование дополнительных датафреймов словарей, декомпозиция исходного датафрейма</a></span></li><li><span><a href=\"#Категоризация-дохода\" data-toc-modified-id=\"Категоризация-дохода-2.6\"><span class=\"toc-item-num\">2.6&nbsp;&nbsp;</span>Категоризация дохода</a></span></li><li><span><a href=\"#Категоризация-целей-кредита\" data-toc-modified-id=\"Категоризация-целей-кредита-2.7\"><span class=\"toc-item-num\">2.7&nbsp;&nbsp;</span>Категоризация целей кредита</a></span></li></ul></li><li><span><a href=\"#Ответы-на-вопросы\" data-toc-modified-id=\"Ответы-на-вопросы-3\"><span class=\"toc-item-num\">3&nbsp;&nbsp;</span>Ответы на вопросы</a></span><ul class=\"toc-item\"><li><span><a href=\"#Вопрос-1\" data-toc-modified-id=\"Вопрос-1-3.1\"><span class=\"toc-item-num\">3.1&nbsp;&nbsp;</span>Вопрос 1</a></span></li><li><span><a href=\"#Вопрос-2\" data-toc-modified-id=\"Вопрос-2-3.2\"><span class=\"toc-item-num\">3.2&nbsp;&nbsp;</span>Вопрос 2</a></span></li><li><span><a href=\"#Вопрос-3\" data-toc-modified-id=\"Вопрос-3-3.3\"><span class=\"toc-item-num\">3.3&nbsp;&nbsp;</span>Вопрос 3</a></span></li><li><span><a href=\"#Вопрос-4\" data-toc-modified-id=\"Вопрос-4-3.4\"><span class=\"toc-item-num\">3.4&nbsp;&nbsp;</span>Вопрос 4</a></span></li></ul></li><li><span><a href=\"#Общий-вывод\" data-toc-modified-id=\"Общий-вывод-4\"><span class=\"toc-item-num\">4&nbsp;&nbsp;</span>Общий вывод</a></span></li></ul></div>"
   ]
  },
  {
   "cell_type": "markdown",
   "id": "57cbe5b3",
   "metadata": {},
   "source": [
    "# Исследование надежности заемщиков"
   ]
  },
  {
   "cell_type": "markdown",
   "id": "c0654858",
   "metadata": {},
   "source": [
    "В проекте требуется исследовать данные о платёжеспособности клиентов банка, а затем ответить на вопросы: \n",
    "    \n",
    "    1) Есть ли зависимость между количеством детей и возвратом кредита в срок?\n",
    " \n",
    "    2) Есть ли зависимость между семейным положением и возвратом кредита в срок?\n",
    " \n",
    "    3) Есть ли зависимость между уровнем дохода и возвратом кредита в срок?\n",
    " \n",
    "    4) Как разные цели кредита влияют на его возврат в срок?\n",
    "\n",
    "Результаты исследования будут учтены при построении модели кредитного скоринга — специальной системы, которая оценивает способность потенциального заёмщика вернуть кредит банку."
   ]
  },
  {
   "cell_type": "markdown",
   "id": "97964b77",
   "metadata": {},
   "source": [
    "## Загрузка и обзор данных"
   ]
  },
  {
   "cell_type": "markdown",
   "id": "692788a8",
   "metadata": {},
   "source": [
    "Загрузим и посмотрим на весь датасет в целом."
   ]
  },
  {
   "cell_type": "code",
   "execution_count": 1,
   "id": "493e5117",
   "metadata": {},
   "outputs": [],
   "source": [
    "import pandas as pd"
   ]
  },
  {
   "cell_type": "code",
   "execution_count": 2,
   "id": "4efb1a17",
   "metadata": {
    "scrolled": false
   },
   "outputs": [
    {
     "name": "stdout",
     "output_type": "stream",
     "text": [
      "<class 'pandas.core.frame.DataFrame'>\n",
      "RangeIndex: 21525 entries, 0 to 21524\n",
      "Data columns (total 12 columns):\n",
      " #   Column            Non-Null Count  Dtype  \n",
      "---  ------            --------------  -----  \n",
      " 0   children          21525 non-null  int64  \n",
      " 1   days_employed     19351 non-null  float64\n",
      " 2   dob_years         21525 non-null  int64  \n",
      " 3   education         21525 non-null  object \n",
      " 4   education_id      21525 non-null  int64  \n",
      " 5   family_status     21525 non-null  object \n",
      " 6   family_status_id  21525 non-null  int64  \n",
      " 7   gender            21525 non-null  object \n",
      " 8   income_type       21525 non-null  object \n",
      " 9   debt              21525 non-null  int64  \n",
      " 10  total_income      19351 non-null  float64\n",
      " 11  purpose           21525 non-null  object \n",
      "dtypes: float64(2), int64(5), object(5)\n",
      "memory usage: 2.0+ MB\n"
     ]
    }
   ],
   "source": [
    "try:\n",
    "    main_data = pd.read_csv('data.csv')\n",
    "except:\n",
    "    main_data = pd.read_csv('/datasets/data.csv')\n",
    "main_data.info()"
   ]
  },
  {
   "cell_type": "markdown",
   "id": "801c01df",
   "metadata": {},
   "source": [
    "В двух столбцах есть пропуски.\n",
    "Точно не ясно, есть ли лишние пробелы в конце названий колонок. Посмотрим подробно информацию про колонки таблицы."
   ]
  },
  {
   "cell_type": "code",
   "execution_count": 3,
   "id": "0b94864a",
   "metadata": {},
   "outputs": [
    {
     "data": {
      "text/plain": [
       "Index(['children', 'days_employed', 'dob_years', 'education', 'education_id',\n",
       "       'family_status', 'family_status_id', 'gender', 'income_type', 'debt',\n",
       "       'total_income', 'purpose'],\n",
       "      dtype='object')"
      ]
     },
     "execution_count": 3,
     "metadata": {},
     "output_type": "execute_result"
    }
   ],
   "source": [
    "main_data.columns"
   ]
  },
  {
   "cell_type": "markdown",
   "id": "9e20e7ab",
   "metadata": {},
   "source": [
    "С названиями колонок всё хорошо. Посмотрим первые 10 строк данных."
   ]
  },
  {
   "cell_type": "code",
   "execution_count": 4,
   "id": "d370c936",
   "metadata": {},
   "outputs": [
    {
     "data": {
      "text/html": [
       "<div>\n",
       "<style scoped>\n",
       "    .dataframe tbody tr th:only-of-type {\n",
       "        vertical-align: middle;\n",
       "    }\n",
       "\n",
       "    .dataframe tbody tr th {\n",
       "        vertical-align: top;\n",
       "    }\n",
       "\n",
       "    .dataframe thead th {\n",
       "        text-align: right;\n",
       "    }\n",
       "</style>\n",
       "<table border=\"1\" class=\"dataframe\">\n",
       "  <thead>\n",
       "    <tr style=\"text-align: right;\">\n",
       "      <th></th>\n",
       "      <th>children</th>\n",
       "      <th>days_employed</th>\n",
       "      <th>dob_years</th>\n",
       "      <th>education</th>\n",
       "      <th>education_id</th>\n",
       "      <th>family_status</th>\n",
       "      <th>family_status_id</th>\n",
       "      <th>gender</th>\n",
       "      <th>income_type</th>\n",
       "      <th>debt</th>\n",
       "      <th>total_income</th>\n",
       "      <th>purpose</th>\n",
       "    </tr>\n",
       "  </thead>\n",
       "  <tbody>\n",
       "    <tr>\n",
       "      <th>0</th>\n",
       "      <td>1</td>\n",
       "      <td>-8437.673028</td>\n",
       "      <td>42</td>\n",
       "      <td>высшее</td>\n",
       "      <td>0</td>\n",
       "      <td>женат / замужем</td>\n",
       "      <td>0</td>\n",
       "      <td>F</td>\n",
       "      <td>сотрудник</td>\n",
       "      <td>0</td>\n",
       "      <td>253875.639453</td>\n",
       "      <td>покупка жилья</td>\n",
       "    </tr>\n",
       "    <tr>\n",
       "      <th>1</th>\n",
       "      <td>1</td>\n",
       "      <td>-4024.803754</td>\n",
       "      <td>36</td>\n",
       "      <td>среднее</td>\n",
       "      <td>1</td>\n",
       "      <td>женат / замужем</td>\n",
       "      <td>0</td>\n",
       "      <td>F</td>\n",
       "      <td>сотрудник</td>\n",
       "      <td>0</td>\n",
       "      <td>112080.014102</td>\n",
       "      <td>приобретение автомобиля</td>\n",
       "    </tr>\n",
       "    <tr>\n",
       "      <th>2</th>\n",
       "      <td>0</td>\n",
       "      <td>-5623.422610</td>\n",
       "      <td>33</td>\n",
       "      <td>Среднее</td>\n",
       "      <td>1</td>\n",
       "      <td>женат / замужем</td>\n",
       "      <td>0</td>\n",
       "      <td>M</td>\n",
       "      <td>сотрудник</td>\n",
       "      <td>0</td>\n",
       "      <td>145885.952297</td>\n",
       "      <td>покупка жилья</td>\n",
       "    </tr>\n",
       "    <tr>\n",
       "      <th>3</th>\n",
       "      <td>3</td>\n",
       "      <td>-4124.747207</td>\n",
       "      <td>32</td>\n",
       "      <td>среднее</td>\n",
       "      <td>1</td>\n",
       "      <td>женат / замужем</td>\n",
       "      <td>0</td>\n",
       "      <td>M</td>\n",
       "      <td>сотрудник</td>\n",
       "      <td>0</td>\n",
       "      <td>267628.550329</td>\n",
       "      <td>дополнительное образование</td>\n",
       "    </tr>\n",
       "    <tr>\n",
       "      <th>4</th>\n",
       "      <td>0</td>\n",
       "      <td>340266.072047</td>\n",
       "      <td>53</td>\n",
       "      <td>среднее</td>\n",
       "      <td>1</td>\n",
       "      <td>гражданский брак</td>\n",
       "      <td>1</td>\n",
       "      <td>F</td>\n",
       "      <td>пенсионер</td>\n",
       "      <td>0</td>\n",
       "      <td>158616.077870</td>\n",
       "      <td>сыграть свадьбу</td>\n",
       "    </tr>\n",
       "    <tr>\n",
       "      <th>5</th>\n",
       "      <td>0</td>\n",
       "      <td>-926.185831</td>\n",
       "      <td>27</td>\n",
       "      <td>высшее</td>\n",
       "      <td>0</td>\n",
       "      <td>гражданский брак</td>\n",
       "      <td>1</td>\n",
       "      <td>M</td>\n",
       "      <td>компаньон</td>\n",
       "      <td>0</td>\n",
       "      <td>255763.565419</td>\n",
       "      <td>покупка жилья</td>\n",
       "    </tr>\n",
       "    <tr>\n",
       "      <th>6</th>\n",
       "      <td>0</td>\n",
       "      <td>-2879.202052</td>\n",
       "      <td>43</td>\n",
       "      <td>высшее</td>\n",
       "      <td>0</td>\n",
       "      <td>женат / замужем</td>\n",
       "      <td>0</td>\n",
       "      <td>F</td>\n",
       "      <td>компаньон</td>\n",
       "      <td>0</td>\n",
       "      <td>240525.971920</td>\n",
       "      <td>операции с жильем</td>\n",
       "    </tr>\n",
       "    <tr>\n",
       "      <th>7</th>\n",
       "      <td>0</td>\n",
       "      <td>-152.779569</td>\n",
       "      <td>50</td>\n",
       "      <td>СРЕДНЕЕ</td>\n",
       "      <td>1</td>\n",
       "      <td>женат / замужем</td>\n",
       "      <td>0</td>\n",
       "      <td>M</td>\n",
       "      <td>сотрудник</td>\n",
       "      <td>0</td>\n",
       "      <td>135823.934197</td>\n",
       "      <td>образование</td>\n",
       "    </tr>\n",
       "    <tr>\n",
       "      <th>8</th>\n",
       "      <td>2</td>\n",
       "      <td>-6929.865299</td>\n",
       "      <td>35</td>\n",
       "      <td>ВЫСШЕЕ</td>\n",
       "      <td>0</td>\n",
       "      <td>гражданский брак</td>\n",
       "      <td>1</td>\n",
       "      <td>F</td>\n",
       "      <td>сотрудник</td>\n",
       "      <td>0</td>\n",
       "      <td>95856.832424</td>\n",
       "      <td>на проведение свадьбы</td>\n",
       "    </tr>\n",
       "    <tr>\n",
       "      <th>9</th>\n",
       "      <td>0</td>\n",
       "      <td>-2188.756445</td>\n",
       "      <td>41</td>\n",
       "      <td>среднее</td>\n",
       "      <td>1</td>\n",
       "      <td>женат / замужем</td>\n",
       "      <td>0</td>\n",
       "      <td>M</td>\n",
       "      <td>сотрудник</td>\n",
       "      <td>0</td>\n",
       "      <td>144425.938277</td>\n",
       "      <td>покупка жилья для семьи</td>\n",
       "    </tr>\n",
       "  </tbody>\n",
       "</table>\n",
       "</div>"
      ],
      "text/plain": [
       "   children  days_employed  dob_years education  education_id  \\\n",
       "0         1   -8437.673028         42    высшее             0   \n",
       "1         1   -4024.803754         36   среднее             1   \n",
       "2         0   -5623.422610         33   Среднее             1   \n",
       "3         3   -4124.747207         32   среднее             1   \n",
       "4         0  340266.072047         53   среднее             1   \n",
       "5         0    -926.185831         27    высшее             0   \n",
       "6         0   -2879.202052         43    высшее             0   \n",
       "7         0    -152.779569         50   СРЕДНЕЕ             1   \n",
       "8         2   -6929.865299         35    ВЫСШЕЕ             0   \n",
       "9         0   -2188.756445         41   среднее             1   \n",
       "\n",
       "      family_status  family_status_id gender income_type  debt   total_income  \\\n",
       "0   женат / замужем                 0      F   сотрудник     0  253875.639453   \n",
       "1   женат / замужем                 0      F   сотрудник     0  112080.014102   \n",
       "2   женат / замужем                 0      M   сотрудник     0  145885.952297   \n",
       "3   женат / замужем                 0      M   сотрудник     0  267628.550329   \n",
       "4  гражданский брак                 1      F   пенсионер     0  158616.077870   \n",
       "5  гражданский брак                 1      M   компаньон     0  255763.565419   \n",
       "6   женат / замужем                 0      F   компаньон     0  240525.971920   \n",
       "7   женат / замужем                 0      M   сотрудник     0  135823.934197   \n",
       "8  гражданский брак                 1      F   сотрудник     0   95856.832424   \n",
       "9   женат / замужем                 0      M   сотрудник     0  144425.938277   \n",
       "\n",
       "                      purpose  \n",
       "0               покупка жилья  \n",
       "1     приобретение автомобиля  \n",
       "2               покупка жилья  \n",
       "3  дополнительное образование  \n",
       "4             сыграть свадьбу  \n",
       "5               покупка жилья  \n",
       "6           операции с жильем  \n",
       "7                 образование  \n",
       "8       на проведение свадьбы  \n",
       "9     покупка жилья для семьи  "
      ]
     },
     "execution_count": 4,
     "metadata": {},
     "output_type": "execute_result"
    }
   ],
   "source": [
    "main_data.head(10)"
   ]
  },
  {
   "cell_type": "markdown",
   "id": "76a01bd9",
   "metadata": {},
   "source": [
    "Для полноты картины посмотрим последние 10 строк."
   ]
  },
  {
   "cell_type": "code",
   "execution_count": 5,
   "id": "c3253706",
   "metadata": {},
   "outputs": [
    {
     "data": {
      "text/html": [
       "<div>\n",
       "<style scoped>\n",
       "    .dataframe tbody tr th:only-of-type {\n",
       "        vertical-align: middle;\n",
       "    }\n",
       "\n",
       "    .dataframe tbody tr th {\n",
       "        vertical-align: top;\n",
       "    }\n",
       "\n",
       "    .dataframe thead th {\n",
       "        text-align: right;\n",
       "    }\n",
       "</style>\n",
       "<table border=\"1\" class=\"dataframe\">\n",
       "  <thead>\n",
       "    <tr style=\"text-align: right;\">\n",
       "      <th></th>\n",
       "      <th>children</th>\n",
       "      <th>days_employed</th>\n",
       "      <th>dob_years</th>\n",
       "      <th>education</th>\n",
       "      <th>education_id</th>\n",
       "      <th>family_status</th>\n",
       "      <th>family_status_id</th>\n",
       "      <th>gender</th>\n",
       "      <th>income_type</th>\n",
       "      <th>debt</th>\n",
       "      <th>total_income</th>\n",
       "      <th>purpose</th>\n",
       "    </tr>\n",
       "  </thead>\n",
       "  <tbody>\n",
       "    <tr>\n",
       "      <th>21515</th>\n",
       "      <td>1</td>\n",
       "      <td>-467.685130</td>\n",
       "      <td>28</td>\n",
       "      <td>среднее</td>\n",
       "      <td>1</td>\n",
       "      <td>женат / замужем</td>\n",
       "      <td>0</td>\n",
       "      <td>F</td>\n",
       "      <td>сотрудник</td>\n",
       "      <td>1</td>\n",
       "      <td>109486.327999</td>\n",
       "      <td>заняться образованием</td>\n",
       "    </tr>\n",
       "    <tr>\n",
       "      <th>21516</th>\n",
       "      <td>0</td>\n",
       "      <td>-914.391429</td>\n",
       "      <td>42</td>\n",
       "      <td>высшее</td>\n",
       "      <td>0</td>\n",
       "      <td>женат / замужем</td>\n",
       "      <td>0</td>\n",
       "      <td>F</td>\n",
       "      <td>компаньон</td>\n",
       "      <td>0</td>\n",
       "      <td>322807.776603</td>\n",
       "      <td>покупка своего жилья</td>\n",
       "    </tr>\n",
       "    <tr>\n",
       "      <th>21517</th>\n",
       "      <td>0</td>\n",
       "      <td>-404.679034</td>\n",
       "      <td>42</td>\n",
       "      <td>высшее</td>\n",
       "      <td>0</td>\n",
       "      <td>гражданский брак</td>\n",
       "      <td>1</td>\n",
       "      <td>F</td>\n",
       "      <td>компаньон</td>\n",
       "      <td>0</td>\n",
       "      <td>178059.553491</td>\n",
       "      <td>на покупку своего автомобиля</td>\n",
       "    </tr>\n",
       "    <tr>\n",
       "      <th>21518</th>\n",
       "      <td>0</td>\n",
       "      <td>373995.710838</td>\n",
       "      <td>59</td>\n",
       "      <td>СРЕДНЕЕ</td>\n",
       "      <td>1</td>\n",
       "      <td>женат / замужем</td>\n",
       "      <td>0</td>\n",
       "      <td>F</td>\n",
       "      <td>пенсионер</td>\n",
       "      <td>0</td>\n",
       "      <td>153864.650328</td>\n",
       "      <td>сделка с автомобилем</td>\n",
       "    </tr>\n",
       "    <tr>\n",
       "      <th>21519</th>\n",
       "      <td>1</td>\n",
       "      <td>-2351.431934</td>\n",
       "      <td>37</td>\n",
       "      <td>ученая степень</td>\n",
       "      <td>4</td>\n",
       "      <td>в разводе</td>\n",
       "      <td>3</td>\n",
       "      <td>M</td>\n",
       "      <td>сотрудник</td>\n",
       "      <td>0</td>\n",
       "      <td>115949.039788</td>\n",
       "      <td>покупка коммерческой недвижимости</td>\n",
       "    </tr>\n",
       "    <tr>\n",
       "      <th>21520</th>\n",
       "      <td>1</td>\n",
       "      <td>-4529.316663</td>\n",
       "      <td>43</td>\n",
       "      <td>среднее</td>\n",
       "      <td>1</td>\n",
       "      <td>гражданский брак</td>\n",
       "      <td>1</td>\n",
       "      <td>F</td>\n",
       "      <td>компаньон</td>\n",
       "      <td>0</td>\n",
       "      <td>224791.862382</td>\n",
       "      <td>операции с жильем</td>\n",
       "    </tr>\n",
       "    <tr>\n",
       "      <th>21521</th>\n",
       "      <td>0</td>\n",
       "      <td>343937.404131</td>\n",
       "      <td>67</td>\n",
       "      <td>среднее</td>\n",
       "      <td>1</td>\n",
       "      <td>женат / замужем</td>\n",
       "      <td>0</td>\n",
       "      <td>F</td>\n",
       "      <td>пенсионер</td>\n",
       "      <td>0</td>\n",
       "      <td>155999.806512</td>\n",
       "      <td>сделка с автомобилем</td>\n",
       "    </tr>\n",
       "    <tr>\n",
       "      <th>21522</th>\n",
       "      <td>1</td>\n",
       "      <td>-2113.346888</td>\n",
       "      <td>38</td>\n",
       "      <td>среднее</td>\n",
       "      <td>1</td>\n",
       "      <td>гражданский брак</td>\n",
       "      <td>1</td>\n",
       "      <td>M</td>\n",
       "      <td>сотрудник</td>\n",
       "      <td>1</td>\n",
       "      <td>89672.561153</td>\n",
       "      <td>недвижимость</td>\n",
       "    </tr>\n",
       "    <tr>\n",
       "      <th>21523</th>\n",
       "      <td>3</td>\n",
       "      <td>-3112.481705</td>\n",
       "      <td>38</td>\n",
       "      <td>среднее</td>\n",
       "      <td>1</td>\n",
       "      <td>женат / замужем</td>\n",
       "      <td>0</td>\n",
       "      <td>M</td>\n",
       "      <td>сотрудник</td>\n",
       "      <td>1</td>\n",
       "      <td>244093.050500</td>\n",
       "      <td>на покупку своего автомобиля</td>\n",
       "    </tr>\n",
       "    <tr>\n",
       "      <th>21524</th>\n",
       "      <td>2</td>\n",
       "      <td>-1984.507589</td>\n",
       "      <td>40</td>\n",
       "      <td>среднее</td>\n",
       "      <td>1</td>\n",
       "      <td>женат / замужем</td>\n",
       "      <td>0</td>\n",
       "      <td>F</td>\n",
       "      <td>сотрудник</td>\n",
       "      <td>0</td>\n",
       "      <td>82047.418899</td>\n",
       "      <td>на покупку автомобиля</td>\n",
       "    </tr>\n",
       "  </tbody>\n",
       "</table>\n",
       "</div>"
      ],
      "text/plain": [
       "       children  days_employed  dob_years       education  education_id  \\\n",
       "21515         1    -467.685130         28         среднее             1   \n",
       "21516         0    -914.391429         42          высшее             0   \n",
       "21517         0    -404.679034         42          высшее             0   \n",
       "21518         0  373995.710838         59         СРЕДНЕЕ             1   \n",
       "21519         1   -2351.431934         37  ученая степень             4   \n",
       "21520         1   -4529.316663         43         среднее             1   \n",
       "21521         0  343937.404131         67         среднее             1   \n",
       "21522         1   -2113.346888         38         среднее             1   \n",
       "21523         3   -3112.481705         38         среднее             1   \n",
       "21524         2   -1984.507589         40         среднее             1   \n",
       "\n",
       "          family_status  family_status_id gender income_type  debt  \\\n",
       "21515   женат / замужем                 0      F   сотрудник     1   \n",
       "21516   женат / замужем                 0      F   компаньон     0   \n",
       "21517  гражданский брак                 1      F   компаньон     0   \n",
       "21518   женат / замужем                 0      F   пенсионер     0   \n",
       "21519         в разводе                 3      M   сотрудник     0   \n",
       "21520  гражданский брак                 1      F   компаньон     0   \n",
       "21521   женат / замужем                 0      F   пенсионер     0   \n",
       "21522  гражданский брак                 1      M   сотрудник     1   \n",
       "21523   женат / замужем                 0      M   сотрудник     1   \n",
       "21524   женат / замужем                 0      F   сотрудник     0   \n",
       "\n",
       "        total_income                            purpose  \n",
       "21515  109486.327999              заняться образованием  \n",
       "21516  322807.776603               покупка своего жилья  \n",
       "21517  178059.553491       на покупку своего автомобиля  \n",
       "21518  153864.650328               сделка с автомобилем  \n",
       "21519  115949.039788  покупка коммерческой недвижимости  \n",
       "21520  224791.862382                  операции с жильем  \n",
       "21521  155999.806512               сделка с автомобилем  \n",
       "21522   89672.561153                       недвижимость  \n",
       "21523  244093.050500       на покупку своего автомобиля  \n",
       "21524   82047.418899              на покупку автомобиля  "
      ]
     },
     "execution_count": 5,
     "metadata": {},
     "output_type": "execute_result"
    }
   ],
   "source": [
    "main_data.tail(10)"
   ]
  },
  {
   "cell_type": "markdown",
   "id": "92e97177",
   "metadata": {},
   "source": [
    "Уже видны аномалии. Их исправление будет производиться далее в одном из шагов."
   ]
  },
  {
   "cell_type": "markdown",
   "id": "d340b33b",
   "metadata": {},
   "source": [
    "## Предобработка данных"
   ]
  },
  {
   "cell_type": "markdown",
   "id": "9e56d389",
   "metadata": {},
   "source": [
    "### Заполнение пропусков"
   ]
  },
  {
   "cell_type": "markdown",
   "id": "c6a16113",
   "metadata": {},
   "source": [
    "- Пропуски есть в столбцах days_employed и total_income. \n",
    "- Строки с пропусками составляют долю в 10% от всей таблицы, поэтому нельзя просто взять и удалить их, так как это повлияет на возможные выводы в проекте.\n",
    "- Так как в двух столбцах одинаковое количество пропусков, то причина их наличия, скорей всего, технологическая. Но также в строках могут быть указаны клиенты, которые официально безработные (у них нет подтверждённого стажа и дохода). Это как действительно безработные, так и самозанятые, чей доход не фиксируется документами. Но стоит проверить и посмотреть, у кого же имеются пропуски.\n"
   ]
  },
  {
   "cell_type": "code",
   "execution_count": 6,
   "id": "73f72505",
   "metadata": {},
   "outputs": [
    {
     "data": {
      "text/html": [
       "<div>\n",
       "<style scoped>\n",
       "    .dataframe tbody tr th:only-of-type {\n",
       "        vertical-align: middle;\n",
       "    }\n",
       "\n",
       "    .dataframe tbody tr th {\n",
       "        vertical-align: top;\n",
       "    }\n",
       "\n",
       "    .dataframe thead th {\n",
       "        text-align: right;\n",
       "    }\n",
       "</style>\n",
       "<table border=\"1\" class=\"dataframe\">\n",
       "  <thead>\n",
       "    <tr style=\"text-align: right;\">\n",
       "      <th></th>\n",
       "      <th>children</th>\n",
       "      <th>days_employed</th>\n",
       "      <th>dob_years</th>\n",
       "      <th>education</th>\n",
       "      <th>education_id</th>\n",
       "      <th>family_status</th>\n",
       "      <th>family_status_id</th>\n",
       "      <th>gender</th>\n",
       "      <th>income_type</th>\n",
       "      <th>debt</th>\n",
       "      <th>total_income</th>\n",
       "      <th>purpose</th>\n",
       "    </tr>\n",
       "  </thead>\n",
       "  <tbody>\n",
       "    <tr>\n",
       "      <th>12</th>\n",
       "      <td>0</td>\n",
       "      <td>NaN</td>\n",
       "      <td>65</td>\n",
       "      <td>среднее</td>\n",
       "      <td>1</td>\n",
       "      <td>гражданский брак</td>\n",
       "      <td>1</td>\n",
       "      <td>M</td>\n",
       "      <td>пенсионер</td>\n",
       "      <td>0</td>\n",
       "      <td>NaN</td>\n",
       "      <td>сыграть свадьбу</td>\n",
       "    </tr>\n",
       "    <tr>\n",
       "      <th>26</th>\n",
       "      <td>0</td>\n",
       "      <td>NaN</td>\n",
       "      <td>41</td>\n",
       "      <td>среднее</td>\n",
       "      <td>1</td>\n",
       "      <td>женат / замужем</td>\n",
       "      <td>0</td>\n",
       "      <td>M</td>\n",
       "      <td>госслужащий</td>\n",
       "      <td>0</td>\n",
       "      <td>NaN</td>\n",
       "      <td>образование</td>\n",
       "    </tr>\n",
       "    <tr>\n",
       "      <th>29</th>\n",
       "      <td>0</td>\n",
       "      <td>NaN</td>\n",
       "      <td>63</td>\n",
       "      <td>среднее</td>\n",
       "      <td>1</td>\n",
       "      <td>Не женат / не замужем</td>\n",
       "      <td>4</td>\n",
       "      <td>F</td>\n",
       "      <td>пенсионер</td>\n",
       "      <td>0</td>\n",
       "      <td>NaN</td>\n",
       "      <td>строительство жилой недвижимости</td>\n",
       "    </tr>\n",
       "    <tr>\n",
       "      <th>41</th>\n",
       "      <td>0</td>\n",
       "      <td>NaN</td>\n",
       "      <td>50</td>\n",
       "      <td>среднее</td>\n",
       "      <td>1</td>\n",
       "      <td>женат / замужем</td>\n",
       "      <td>0</td>\n",
       "      <td>F</td>\n",
       "      <td>госслужащий</td>\n",
       "      <td>0</td>\n",
       "      <td>NaN</td>\n",
       "      <td>сделка с подержанным автомобилем</td>\n",
       "    </tr>\n",
       "    <tr>\n",
       "      <th>55</th>\n",
       "      <td>0</td>\n",
       "      <td>NaN</td>\n",
       "      <td>54</td>\n",
       "      <td>среднее</td>\n",
       "      <td>1</td>\n",
       "      <td>гражданский брак</td>\n",
       "      <td>1</td>\n",
       "      <td>F</td>\n",
       "      <td>пенсионер</td>\n",
       "      <td>1</td>\n",
       "      <td>NaN</td>\n",
       "      <td>сыграть свадьбу</td>\n",
       "    </tr>\n",
       "    <tr>\n",
       "      <th>...</th>\n",
       "      <td>...</td>\n",
       "      <td>...</td>\n",
       "      <td>...</td>\n",
       "      <td>...</td>\n",
       "      <td>...</td>\n",
       "      <td>...</td>\n",
       "      <td>...</td>\n",
       "      <td>...</td>\n",
       "      <td>...</td>\n",
       "      <td>...</td>\n",
       "      <td>...</td>\n",
       "      <td>...</td>\n",
       "    </tr>\n",
       "    <tr>\n",
       "      <th>21489</th>\n",
       "      <td>2</td>\n",
       "      <td>NaN</td>\n",
       "      <td>47</td>\n",
       "      <td>Среднее</td>\n",
       "      <td>1</td>\n",
       "      <td>женат / замужем</td>\n",
       "      <td>0</td>\n",
       "      <td>M</td>\n",
       "      <td>компаньон</td>\n",
       "      <td>0</td>\n",
       "      <td>NaN</td>\n",
       "      <td>сделка с автомобилем</td>\n",
       "    </tr>\n",
       "    <tr>\n",
       "      <th>21495</th>\n",
       "      <td>1</td>\n",
       "      <td>NaN</td>\n",
       "      <td>50</td>\n",
       "      <td>среднее</td>\n",
       "      <td>1</td>\n",
       "      <td>гражданский брак</td>\n",
       "      <td>1</td>\n",
       "      <td>F</td>\n",
       "      <td>сотрудник</td>\n",
       "      <td>0</td>\n",
       "      <td>NaN</td>\n",
       "      <td>свадьба</td>\n",
       "    </tr>\n",
       "    <tr>\n",
       "      <th>21497</th>\n",
       "      <td>0</td>\n",
       "      <td>NaN</td>\n",
       "      <td>48</td>\n",
       "      <td>ВЫСШЕЕ</td>\n",
       "      <td>0</td>\n",
       "      <td>женат / замужем</td>\n",
       "      <td>0</td>\n",
       "      <td>F</td>\n",
       "      <td>компаньон</td>\n",
       "      <td>0</td>\n",
       "      <td>NaN</td>\n",
       "      <td>строительство недвижимости</td>\n",
       "    </tr>\n",
       "    <tr>\n",
       "      <th>21502</th>\n",
       "      <td>1</td>\n",
       "      <td>NaN</td>\n",
       "      <td>42</td>\n",
       "      <td>среднее</td>\n",
       "      <td>1</td>\n",
       "      <td>женат / замужем</td>\n",
       "      <td>0</td>\n",
       "      <td>F</td>\n",
       "      <td>сотрудник</td>\n",
       "      <td>0</td>\n",
       "      <td>NaN</td>\n",
       "      <td>строительство жилой недвижимости</td>\n",
       "    </tr>\n",
       "    <tr>\n",
       "      <th>21510</th>\n",
       "      <td>2</td>\n",
       "      <td>NaN</td>\n",
       "      <td>28</td>\n",
       "      <td>среднее</td>\n",
       "      <td>1</td>\n",
       "      <td>женат / замужем</td>\n",
       "      <td>0</td>\n",
       "      <td>F</td>\n",
       "      <td>сотрудник</td>\n",
       "      <td>0</td>\n",
       "      <td>NaN</td>\n",
       "      <td>приобретение автомобиля</td>\n",
       "    </tr>\n",
       "  </tbody>\n",
       "</table>\n",
       "<p>2174 rows × 12 columns</p>\n",
       "</div>"
      ],
      "text/plain": [
       "       children  days_employed  dob_years education  education_id  \\\n",
       "12            0            NaN         65   среднее             1   \n",
       "26            0            NaN         41   среднее             1   \n",
       "29            0            NaN         63   среднее             1   \n",
       "41            0            NaN         50   среднее             1   \n",
       "55            0            NaN         54   среднее             1   \n",
       "...         ...            ...        ...       ...           ...   \n",
       "21489         2            NaN         47   Среднее             1   \n",
       "21495         1            NaN         50   среднее             1   \n",
       "21497         0            NaN         48    ВЫСШЕЕ             0   \n",
       "21502         1            NaN         42   среднее             1   \n",
       "21510         2            NaN         28   среднее             1   \n",
       "\n",
       "               family_status  family_status_id gender  income_type  debt  \\\n",
       "12          гражданский брак                 1      M    пенсионер     0   \n",
       "26           женат / замужем                 0      M  госслужащий     0   \n",
       "29     Не женат / не замужем                 4      F    пенсионер     0   \n",
       "41           женат / замужем                 0      F  госслужащий     0   \n",
       "55          гражданский брак                 1      F    пенсионер     1   \n",
       "...                      ...               ...    ...          ...   ...   \n",
       "21489        женат / замужем                 0      M    компаньон     0   \n",
       "21495       гражданский брак                 1      F    сотрудник     0   \n",
       "21497        женат / замужем                 0      F    компаньон     0   \n",
       "21502        женат / замужем                 0      F    сотрудник     0   \n",
       "21510        женат / замужем                 0      F    сотрудник     0   \n",
       "\n",
       "       total_income                           purpose  \n",
       "12              NaN                   сыграть свадьбу  \n",
       "26              NaN                       образование  \n",
       "29              NaN  строительство жилой недвижимости  \n",
       "41              NaN  сделка с подержанным автомобилем  \n",
       "55              NaN                   сыграть свадьбу  \n",
       "...             ...                               ...  \n",
       "21489           NaN              сделка с автомобилем  \n",
       "21495           NaN                           свадьба  \n",
       "21497           NaN        строительство недвижимости  \n",
       "21502           NaN  строительство жилой недвижимости  \n",
       "21510           NaN           приобретение автомобиля  \n",
       "\n",
       "[2174 rows x 12 columns]"
      ]
     },
     "execution_count": 6,
     "metadata": {},
     "output_type": "execute_result"
    }
   ],
   "source": [
    "main_data[main_data['days_employed'].isna()]"
   ]
  },
  {
   "cell_type": "markdown",
   "id": "820ad002",
   "metadata": {},
   "source": [
    "Предположение про самозанятых и безработных не подтвердилось. Причина пропусков явно технологическая. Как-то при создании таблицы потерялись данные.\n",
    "\n",
    "Тогда нужно от пропусков избавиться, заполнив их. Оба столбца с пропусками хранят количественные значения. Пропуски следует заполнять медианными значениями, так как во-первых, могут быть аномалии в значениях, а во-вторых, какие-то значения могут сильно отличаться от других. К примеру, сверхвысокий доход у кого-то из клиентов. Расчёт среднего арифметического для заполнения пропусков будет не корректен.\n",
    "\n",
    "В связи с тем, что столбец days_employed содержит множество аномалий, то пока нельзя производить расчёт медианных значений в этом столбце, они будут искажёнными. Так и вышло на практике. При выполнении проекта я изначально избавился от пропусков, а только потом исправлял аномалии. Но медианные значения для столбца days_employed были некорректными.\n",
    "Поэтому пришлось немного нарушить шаги в проекте и для столбца days_employed сначала выполнить исправление аномалий.\n",
    "\n",
    "В столбце days_employed, во-первых, многие значения отрицательные. Во-вторых, у пенсионеров почему-то указан аномальный стаж, который при переводе в годы превышает 100 лет, что невозможно: "
   ]
  },
  {
   "cell_type": "code",
   "execution_count": 7,
   "id": "bc94ceec",
   "metadata": {
    "scrolled": false
   },
   "outputs": [
    {
     "data": {
      "text/html": [
       "<div>\n",
       "<style scoped>\n",
       "    .dataframe tbody tr th:only-of-type {\n",
       "        vertical-align: middle;\n",
       "    }\n",
       "\n",
       "    .dataframe tbody tr th {\n",
       "        vertical-align: top;\n",
       "    }\n",
       "\n",
       "    .dataframe thead th {\n",
       "        text-align: right;\n",
       "    }\n",
       "</style>\n",
       "<table border=\"1\" class=\"dataframe\">\n",
       "  <thead>\n",
       "    <tr style=\"text-align: right;\">\n",
       "      <th></th>\n",
       "      <th>children</th>\n",
       "      <th>days_employed</th>\n",
       "      <th>dob_years</th>\n",
       "      <th>education</th>\n",
       "      <th>education_id</th>\n",
       "      <th>family_status</th>\n",
       "      <th>family_status_id</th>\n",
       "      <th>gender</th>\n",
       "      <th>income_type</th>\n",
       "      <th>debt</th>\n",
       "      <th>total_income</th>\n",
       "      <th>purpose</th>\n",
       "    </tr>\n",
       "  </thead>\n",
       "  <tbody>\n",
       "    <tr>\n",
       "      <th>4</th>\n",
       "      <td>0</td>\n",
       "      <td>340266.072047</td>\n",
       "      <td>53</td>\n",
       "      <td>среднее</td>\n",
       "      <td>1</td>\n",
       "      <td>гражданский брак</td>\n",
       "      <td>1</td>\n",
       "      <td>F</td>\n",
       "      <td>пенсионер</td>\n",
       "      <td>0</td>\n",
       "      <td>158616.077870</td>\n",
       "      <td>сыграть свадьбу</td>\n",
       "    </tr>\n",
       "    <tr>\n",
       "      <th>12</th>\n",
       "      <td>0</td>\n",
       "      <td>NaN</td>\n",
       "      <td>65</td>\n",
       "      <td>среднее</td>\n",
       "      <td>1</td>\n",
       "      <td>гражданский брак</td>\n",
       "      <td>1</td>\n",
       "      <td>M</td>\n",
       "      <td>пенсионер</td>\n",
       "      <td>0</td>\n",
       "      <td>NaN</td>\n",
       "      <td>сыграть свадьбу</td>\n",
       "    </tr>\n",
       "    <tr>\n",
       "      <th>18</th>\n",
       "      <td>0</td>\n",
       "      <td>400281.136913</td>\n",
       "      <td>53</td>\n",
       "      <td>среднее</td>\n",
       "      <td>1</td>\n",
       "      <td>вдовец / вдова</td>\n",
       "      <td>2</td>\n",
       "      <td>F</td>\n",
       "      <td>пенсионер</td>\n",
       "      <td>0</td>\n",
       "      <td>56823.777243</td>\n",
       "      <td>на покупку подержанного автомобиля</td>\n",
       "    </tr>\n",
       "    <tr>\n",
       "      <th>24</th>\n",
       "      <td>1</td>\n",
       "      <td>338551.952911</td>\n",
       "      <td>57</td>\n",
       "      <td>среднее</td>\n",
       "      <td>1</td>\n",
       "      <td>Не женат / не замужем</td>\n",
       "      <td>4</td>\n",
       "      <td>F</td>\n",
       "      <td>пенсионер</td>\n",
       "      <td>0</td>\n",
       "      <td>290547.235997</td>\n",
       "      <td>операции с коммерческой недвижимостью</td>\n",
       "    </tr>\n",
       "    <tr>\n",
       "      <th>25</th>\n",
       "      <td>0</td>\n",
       "      <td>363548.489348</td>\n",
       "      <td>67</td>\n",
       "      <td>среднее</td>\n",
       "      <td>1</td>\n",
       "      <td>женат / замужем</td>\n",
       "      <td>0</td>\n",
       "      <td>M</td>\n",
       "      <td>пенсионер</td>\n",
       "      <td>0</td>\n",
       "      <td>55112.757732</td>\n",
       "      <td>покупка недвижимости</td>\n",
       "    </tr>\n",
       "  </tbody>\n",
       "</table>\n",
       "</div>"
      ],
      "text/plain": [
       "    children  days_employed  dob_years education  education_id  \\\n",
       "4          0  340266.072047         53   среднее             1   \n",
       "12         0            NaN         65   среднее             1   \n",
       "18         0  400281.136913         53   среднее             1   \n",
       "24         1  338551.952911         57   среднее             1   \n",
       "25         0  363548.489348         67   среднее             1   \n",
       "\n",
       "            family_status  family_status_id gender income_type  debt  \\\n",
       "4        гражданский брак                 1      F   пенсионер     0   \n",
       "12       гражданский брак                 1      M   пенсионер     0   \n",
       "18         вдовец / вдова                 2      F   пенсионер     0   \n",
       "24  Не женат / не замужем                 4      F   пенсионер     0   \n",
       "25        женат / замужем                 0      M   пенсионер     0   \n",
       "\n",
       "     total_income                                purpose  \n",
       "4   158616.077870                        сыграть свадьбу  \n",
       "12            NaN                        сыграть свадьбу  \n",
       "18   56823.777243     на покупку подержанного автомобиля  \n",
       "24  290547.235997  операции с коммерческой недвижимостью  \n",
       "25   55112.757732                   покупка недвижимости  "
      ]
     },
     "execution_count": 7,
     "metadata": {},
     "output_type": "execute_result"
    }
   ],
   "source": [
    "main_data[main_data['income_type']=='пенсионер'].head()"
   ]
  },
  {
   "cell_type": "markdown",
   "id": "a10e1160",
   "metadata": {},
   "source": [
    "Причина аномальных значений неясна. Возможно стаж был посчитан неверно по какой-либо формуле.\n",
    "\n",
    "Решение: отрицательные значения в столбце days_employed сделать положительными (взять значение по модулю). \n",
    "\n",
    "У пенсионеров можно заменить значения стажа на стаж, вычисленный по формуле: *(dob_years - 22)\\*247*. Здесь я делаю допущение, что обычно в 22 года человек заканчивает ВУЗ и идёт работать. 247 - среднее количество рабочих дней в году. Работал ли человек после выхода на пенсию и работает ли сейчас - про это никакой информации нет. В нашей стране многие работают, находясь на пенсии. Поэтому будем считать, что заменяем аномальные значения трудового стажа для работающих по сей день пенсионеров."
   ]
  },
  {
   "cell_type": "code",
   "execution_count": 8,
   "id": "ff73ec6c",
   "metadata": {},
   "outputs": [
    {
     "data": {
      "text/html": [
       "<div>\n",
       "<style scoped>\n",
       "    .dataframe tbody tr th:only-of-type {\n",
       "        vertical-align: middle;\n",
       "    }\n",
       "\n",
       "    .dataframe tbody tr th {\n",
       "        vertical-align: top;\n",
       "    }\n",
       "\n",
       "    .dataframe thead th {\n",
       "        text-align: right;\n",
       "    }\n",
       "</style>\n",
       "<table border=\"1\" class=\"dataframe\">\n",
       "  <thead>\n",
       "    <tr style=\"text-align: right;\">\n",
       "      <th></th>\n",
       "      <th>children</th>\n",
       "      <th>days_employed</th>\n",
       "      <th>dob_years</th>\n",
       "      <th>education</th>\n",
       "      <th>education_id</th>\n",
       "      <th>family_status</th>\n",
       "      <th>family_status_id</th>\n",
       "      <th>gender</th>\n",
       "      <th>income_type</th>\n",
       "      <th>debt</th>\n",
       "      <th>total_income</th>\n",
       "      <th>purpose</th>\n",
       "    </tr>\n",
       "  </thead>\n",
       "  <tbody>\n",
       "    <tr>\n",
       "      <th>4</th>\n",
       "      <td>0</td>\n",
       "      <td>7657.0</td>\n",
       "      <td>53</td>\n",
       "      <td>среднее</td>\n",
       "      <td>1</td>\n",
       "      <td>гражданский брак</td>\n",
       "      <td>1</td>\n",
       "      <td>F</td>\n",
       "      <td>пенсионер</td>\n",
       "      <td>0</td>\n",
       "      <td>158616.077870</td>\n",
       "      <td>сыграть свадьбу</td>\n",
       "    </tr>\n",
       "    <tr>\n",
       "      <th>12</th>\n",
       "      <td>0</td>\n",
       "      <td>10621.0</td>\n",
       "      <td>65</td>\n",
       "      <td>среднее</td>\n",
       "      <td>1</td>\n",
       "      <td>гражданский брак</td>\n",
       "      <td>1</td>\n",
       "      <td>M</td>\n",
       "      <td>пенсионер</td>\n",
       "      <td>0</td>\n",
       "      <td>NaN</td>\n",
       "      <td>сыграть свадьбу</td>\n",
       "    </tr>\n",
       "    <tr>\n",
       "      <th>18</th>\n",
       "      <td>0</td>\n",
       "      <td>7657.0</td>\n",
       "      <td>53</td>\n",
       "      <td>среднее</td>\n",
       "      <td>1</td>\n",
       "      <td>вдовец / вдова</td>\n",
       "      <td>2</td>\n",
       "      <td>F</td>\n",
       "      <td>пенсионер</td>\n",
       "      <td>0</td>\n",
       "      <td>56823.777243</td>\n",
       "      <td>на покупку подержанного автомобиля</td>\n",
       "    </tr>\n",
       "    <tr>\n",
       "      <th>24</th>\n",
       "      <td>1</td>\n",
       "      <td>8645.0</td>\n",
       "      <td>57</td>\n",
       "      <td>среднее</td>\n",
       "      <td>1</td>\n",
       "      <td>Не женат / не замужем</td>\n",
       "      <td>4</td>\n",
       "      <td>F</td>\n",
       "      <td>пенсионер</td>\n",
       "      <td>0</td>\n",
       "      <td>290547.235997</td>\n",
       "      <td>операции с коммерческой недвижимостью</td>\n",
       "    </tr>\n",
       "    <tr>\n",
       "      <th>25</th>\n",
       "      <td>0</td>\n",
       "      <td>11115.0</td>\n",
       "      <td>67</td>\n",
       "      <td>среднее</td>\n",
       "      <td>1</td>\n",
       "      <td>женат / замужем</td>\n",
       "      <td>0</td>\n",
       "      <td>M</td>\n",
       "      <td>пенсионер</td>\n",
       "      <td>0</td>\n",
       "      <td>55112.757732</td>\n",
       "      <td>покупка недвижимости</td>\n",
       "    </tr>\n",
       "    <tr>\n",
       "      <th>29</th>\n",
       "      <td>0</td>\n",
       "      <td>10127.0</td>\n",
       "      <td>63</td>\n",
       "      <td>среднее</td>\n",
       "      <td>1</td>\n",
       "      <td>Не женат / не замужем</td>\n",
       "      <td>4</td>\n",
       "      <td>F</td>\n",
       "      <td>пенсионер</td>\n",
       "      <td>0</td>\n",
       "      <td>NaN</td>\n",
       "      <td>строительство жилой недвижимости</td>\n",
       "    </tr>\n",
       "    <tr>\n",
       "      <th>30</th>\n",
       "      <td>1</td>\n",
       "      <td>9880.0</td>\n",
       "      <td>62</td>\n",
       "      <td>среднее</td>\n",
       "      <td>1</td>\n",
       "      <td>женат / замужем</td>\n",
       "      <td>0</td>\n",
       "      <td>F</td>\n",
       "      <td>пенсионер</td>\n",
       "      <td>0</td>\n",
       "      <td>171456.067993</td>\n",
       "      <td>операции с коммерческой недвижимостью</td>\n",
       "    </tr>\n",
       "    <tr>\n",
       "      <th>35</th>\n",
       "      <td>0</td>\n",
       "      <td>11362.0</td>\n",
       "      <td>68</td>\n",
       "      <td>среднее</td>\n",
       "      <td>1</td>\n",
       "      <td>гражданский брак</td>\n",
       "      <td>1</td>\n",
       "      <td>M</td>\n",
       "      <td>пенсионер</td>\n",
       "      <td>0</td>\n",
       "      <td>77805.677436</td>\n",
       "      <td>на проведение свадьбы</td>\n",
       "    </tr>\n",
       "    <tr>\n",
       "      <th>50</th>\n",
       "      <td>0</td>\n",
       "      <td>10127.0</td>\n",
       "      <td>63</td>\n",
       "      <td>среднее</td>\n",
       "      <td>1</td>\n",
       "      <td>женат / замужем</td>\n",
       "      <td>0</td>\n",
       "      <td>F</td>\n",
       "      <td>пенсионер</td>\n",
       "      <td>0</td>\n",
       "      <td>92342.730612</td>\n",
       "      <td>автомобили</td>\n",
       "    </tr>\n",
       "    <tr>\n",
       "      <th>55</th>\n",
       "      <td>0</td>\n",
       "      <td>7904.0</td>\n",
       "      <td>54</td>\n",
       "      <td>среднее</td>\n",
       "      <td>1</td>\n",
       "      <td>гражданский брак</td>\n",
       "      <td>1</td>\n",
       "      <td>F</td>\n",
       "      <td>пенсионер</td>\n",
       "      <td>1</td>\n",
       "      <td>NaN</td>\n",
       "      <td>сыграть свадьбу</td>\n",
       "    </tr>\n",
       "  </tbody>\n",
       "</table>\n",
       "</div>"
      ],
      "text/plain": [
       "    children  days_employed  dob_years education  education_id  \\\n",
       "4          0         7657.0         53   среднее             1   \n",
       "12         0        10621.0         65   среднее             1   \n",
       "18         0         7657.0         53   среднее             1   \n",
       "24         1         8645.0         57   среднее             1   \n",
       "25         0        11115.0         67   среднее             1   \n",
       "29         0        10127.0         63   среднее             1   \n",
       "30         1         9880.0         62   среднее             1   \n",
       "35         0        11362.0         68   среднее             1   \n",
       "50         0        10127.0         63   среднее             1   \n",
       "55         0         7904.0         54   среднее             1   \n",
       "\n",
       "            family_status  family_status_id gender income_type  debt  \\\n",
       "4        гражданский брак                 1      F   пенсионер     0   \n",
       "12       гражданский брак                 1      M   пенсионер     0   \n",
       "18         вдовец / вдова                 2      F   пенсионер     0   \n",
       "24  Не женат / не замужем                 4      F   пенсионер     0   \n",
       "25        женат / замужем                 0      M   пенсионер     0   \n",
       "29  Не женат / не замужем                 4      F   пенсионер     0   \n",
       "30        женат / замужем                 0      F   пенсионер     0   \n",
       "35       гражданский брак                 1      M   пенсионер     0   \n",
       "50        женат / замужем                 0      F   пенсионер     0   \n",
       "55       гражданский брак                 1      F   пенсионер     1   \n",
       "\n",
       "     total_income                                purpose  \n",
       "4   158616.077870                        сыграть свадьбу  \n",
       "12            NaN                        сыграть свадьбу  \n",
       "18   56823.777243     на покупку подержанного автомобиля  \n",
       "24  290547.235997  операции с коммерческой недвижимостью  \n",
       "25   55112.757732                   покупка недвижимости  \n",
       "29            NaN       строительство жилой недвижимости  \n",
       "30  171456.067993  операции с коммерческой недвижимостью  \n",
       "35   77805.677436                  на проведение свадьбы  \n",
       "50   92342.730612                             автомобили  \n",
       "55            NaN                        сыграть свадьбу  "
      ]
     },
     "execution_count": 8,
     "metadata": {},
     "output_type": "execute_result"
    }
   ],
   "source": [
    "main_data['days_employed'] = main_data['days_employed'].abs()\n",
    "main_data.loc[main_data['income_type']=='пенсионер', 'days_employed'] = (main_data.loc[main_data['income_type']=='пенсионер', 'dob_years'] - 22)*247\n",
    "main_data[main_data['income_type']=='пенсионер'].head(10)"
   ]
  },
  {
   "cell_type": "markdown",
   "id": "baff589f",
   "metadata": {},
   "source": [
    "С виду все значения изменились как и планировалось. \n",
    "\n",
    "Теперь можно непосредственно заняться заполнением пропусков. А затем проверим, действительно ли в столбцах не осталось пропусков."
   ]
  },
  {
   "cell_type": "code",
   "execution_count": 9,
   "id": "ea884d9c",
   "metadata": {
    "scrolled": true
   },
   "outputs": [
    {
     "data": {
      "text/plain": [
       "0"
      ]
     },
     "metadata": {},
     "output_type": "display_data"
    },
    {
     "data": {
      "text/plain": [
       "0"
      ]
     },
     "metadata": {},
     "output_type": "display_data"
    }
   ],
   "source": [
    "median = main_data['days_employed'].median()\n",
    "main_data['days_employed'].fillna(value=median, inplace=True)\n",
    "median = main_data['total_income'].median()\n",
    "main_data['total_income'].fillna(value=median, inplace=True)\n",
    "display(main_data['days_employed'].isna().sum())\n",
    "display(main_data['total_income'].isna().sum())"
   ]
  },
  {
   "cell_type": "markdown",
   "id": "b04c1410",
   "metadata": {},
   "source": [
    "Пропуски успешно заполнились. На всякий случай, посмотрим любую строку, в которой раньше были пропуски. И оценим навскидку, верно ли посчитались медианные значения."
   ]
  },
  {
   "cell_type": "code",
   "execution_count": 10,
   "id": "7e0f4799",
   "metadata": {},
   "outputs": [
    {
     "data": {
      "text/plain": [
       "children                                           0\n",
       "days_employed                            2258.286554\n",
       "dob_years                                         50\n",
       "education                                    среднее\n",
       "education_id                                       1\n",
       "family_status                        женат / замужем\n",
       "family_status_id                                   0\n",
       "gender                                             F\n",
       "income_type                              госслужащий\n",
       "debt                                               0\n",
       "total_income                           145017.937533\n",
       "purpose             сделка с подержанным автомобилем\n",
       "Name: 41, dtype: object"
      ]
     },
     "execution_count": 10,
     "metadata": {},
     "output_type": "execute_result"
    }
   ],
   "source": [
    "main_data.loc[41]"
   ]
  },
  {
   "cell_type": "markdown",
   "id": "76737da4",
   "metadata": {},
   "source": [
    "С виду всё логично. Стаж около девяти лет и доход примерно 145 тысяч денежных единиц (вероятно, выраженных в рублях)."
   ]
  },
  {
   "cell_type": "markdown",
   "id": "e5ab5f2f",
   "metadata": {},
   "source": [
    "### Проверка данных на аномалии и исправления"
   ]
  },
  {
   "cell_type": "markdown",
   "id": "b0d5987b",
   "metadata": {},
   "source": [
    "Аномалии в столбце days_emplyed пришлось исправить заранее. Теперь проверим все ли значения адекватные в столбце total_income. Нет ли там огромных заведомо нереальных чисел. Для этого отсортируем таблицу по этому столбцу в порядке возрастания. И посмотрим последние 10 строк."
   ]
  },
  {
   "cell_type": "code",
   "execution_count": 11,
   "id": "22f0d8f9",
   "metadata": {},
   "outputs": [
    {
     "data": {
      "text/html": [
       "<div>\n",
       "<style scoped>\n",
       "    .dataframe tbody tr th:only-of-type {\n",
       "        vertical-align: middle;\n",
       "    }\n",
       "\n",
       "    .dataframe tbody tr th {\n",
       "        vertical-align: top;\n",
       "    }\n",
       "\n",
       "    .dataframe thead th {\n",
       "        text-align: right;\n",
       "    }\n",
       "</style>\n",
       "<table border=\"1\" class=\"dataframe\">\n",
       "  <thead>\n",
       "    <tr style=\"text-align: right;\">\n",
       "      <th></th>\n",
       "      <th>children</th>\n",
       "      <th>days_employed</th>\n",
       "      <th>dob_years</th>\n",
       "      <th>education</th>\n",
       "      <th>education_id</th>\n",
       "      <th>family_status</th>\n",
       "      <th>family_status_id</th>\n",
       "      <th>gender</th>\n",
       "      <th>income_type</th>\n",
       "      <th>debt</th>\n",
       "      <th>total_income</th>\n",
       "      <th>purpose</th>\n",
       "    </tr>\n",
       "  </thead>\n",
       "  <tbody>\n",
       "    <tr>\n",
       "      <th>11071</th>\n",
       "      <td>1</td>\n",
       "      <td>1851.200013</td>\n",
       "      <td>36</td>\n",
       "      <td>высшее</td>\n",
       "      <td>0</td>\n",
       "      <td>гражданский брак</td>\n",
       "      <td>1</td>\n",
       "      <td>F</td>\n",
       "      <td>сотрудник</td>\n",
       "      <td>0</td>\n",
       "      <td>1.286281e+06</td>\n",
       "      <td>покупка коммерческой недвижимости</td>\n",
       "    </tr>\n",
       "    <tr>\n",
       "      <th>15268</th>\n",
       "      <td>1</td>\n",
       "      <td>10207.448165</td>\n",
       "      <td>64</td>\n",
       "      <td>высшее</td>\n",
       "      <td>0</td>\n",
       "      <td>в разводе</td>\n",
       "      <td>3</td>\n",
       "      <td>M</td>\n",
       "      <td>компаньон</td>\n",
       "      <td>0</td>\n",
       "      <td>1.350246e+06</td>\n",
       "      <td>жилье</td>\n",
       "    </tr>\n",
       "    <tr>\n",
       "      <th>18353</th>\n",
       "      <td>1</td>\n",
       "      <td>3173.282035</td>\n",
       "      <td>41</td>\n",
       "      <td>высшее</td>\n",
       "      <td>0</td>\n",
       "      <td>Не женат / не замужем</td>\n",
       "      <td>4</td>\n",
       "      <td>F</td>\n",
       "      <td>компаньон</td>\n",
       "      <td>0</td>\n",
       "      <td>1.427934e+06</td>\n",
       "      <td>автомобиль</td>\n",
       "    </tr>\n",
       "    <tr>\n",
       "      <th>18368</th>\n",
       "      <td>1</td>\n",
       "      <td>333.935516</td>\n",
       "      <td>41</td>\n",
       "      <td>ВЫСШЕЕ</td>\n",
       "      <td>0</td>\n",
       "      <td>гражданский брак</td>\n",
       "      <td>1</td>\n",
       "      <td>M</td>\n",
       "      <td>компаньон</td>\n",
       "      <td>0</td>\n",
       "      <td>1.551153e+06</td>\n",
       "      <td>свадьба</td>\n",
       "    </tr>\n",
       "    <tr>\n",
       "      <th>17503</th>\n",
       "      <td>0</td>\n",
       "      <td>2285.476482</td>\n",
       "      <td>43</td>\n",
       "      <td>среднее</td>\n",
       "      <td>1</td>\n",
       "      <td>женат / замужем</td>\n",
       "      <td>0</td>\n",
       "      <td>M</td>\n",
       "      <td>компаньон</td>\n",
       "      <td>0</td>\n",
       "      <td>1.597613e+06</td>\n",
       "      <td>операции с недвижимостью</td>\n",
       "    </tr>\n",
       "    <tr>\n",
       "      <th>17178</th>\n",
       "      <td>0</td>\n",
       "      <td>5734.127087</td>\n",
       "      <td>42</td>\n",
       "      <td>высшее</td>\n",
       "      <td>0</td>\n",
       "      <td>гражданский брак</td>\n",
       "      <td>1</td>\n",
       "      <td>M</td>\n",
       "      <td>компаньон</td>\n",
       "      <td>0</td>\n",
       "      <td>1.711309e+06</td>\n",
       "      <td>сыграть свадьбу</td>\n",
       "    </tr>\n",
       "    <tr>\n",
       "      <th>20809</th>\n",
       "      <td>0</td>\n",
       "      <td>4719.273476</td>\n",
       "      <td>61</td>\n",
       "      <td>среднее</td>\n",
       "      <td>1</td>\n",
       "      <td>Не женат / не замужем</td>\n",
       "      <td>4</td>\n",
       "      <td>F</td>\n",
       "      <td>сотрудник</td>\n",
       "      <td>0</td>\n",
       "      <td>1.715018e+06</td>\n",
       "      <td>покупка жилья для семьи</td>\n",
       "    </tr>\n",
       "    <tr>\n",
       "      <th>9169</th>\n",
       "      <td>1</td>\n",
       "      <td>5248.554336</td>\n",
       "      <td>35</td>\n",
       "      <td>среднее</td>\n",
       "      <td>1</td>\n",
       "      <td>гражданский брак</td>\n",
       "      <td>1</td>\n",
       "      <td>M</td>\n",
       "      <td>сотрудник</td>\n",
       "      <td>0</td>\n",
       "      <td>1.726276e+06</td>\n",
       "      <td>дополнительное образование</td>\n",
       "    </tr>\n",
       "    <tr>\n",
       "      <th>19606</th>\n",
       "      <td>1</td>\n",
       "      <td>2577.664662</td>\n",
       "      <td>39</td>\n",
       "      <td>высшее</td>\n",
       "      <td>0</td>\n",
       "      <td>женат / замужем</td>\n",
       "      <td>0</td>\n",
       "      <td>M</td>\n",
       "      <td>компаньон</td>\n",
       "      <td>1</td>\n",
       "      <td>2.200852e+06</td>\n",
       "      <td>строительство недвижимости</td>\n",
       "    </tr>\n",
       "    <tr>\n",
       "      <th>12412</th>\n",
       "      <td>0</td>\n",
       "      <td>1477.438114</td>\n",
       "      <td>44</td>\n",
       "      <td>высшее</td>\n",
       "      <td>0</td>\n",
       "      <td>женат / замужем</td>\n",
       "      <td>0</td>\n",
       "      <td>M</td>\n",
       "      <td>компаньон</td>\n",
       "      <td>0</td>\n",
       "      <td>2.265604e+06</td>\n",
       "      <td>ремонт жилью</td>\n",
       "    </tr>\n",
       "  </tbody>\n",
       "</table>\n",
       "</div>"
      ],
      "text/plain": [
       "       children  days_employed  dob_years education  education_id  \\\n",
       "11071         1    1851.200013         36    высшее             0   \n",
       "15268         1   10207.448165         64    высшее             0   \n",
       "18353         1    3173.282035         41    высшее             0   \n",
       "18368         1     333.935516         41    ВЫСШЕЕ             0   \n",
       "17503         0    2285.476482         43   среднее             1   \n",
       "17178         0    5734.127087         42    высшее             0   \n",
       "20809         0    4719.273476         61   среднее             1   \n",
       "9169          1    5248.554336         35   среднее             1   \n",
       "19606         1    2577.664662         39    высшее             0   \n",
       "12412         0    1477.438114         44    высшее             0   \n",
       "\n",
       "               family_status  family_status_id gender income_type  debt  \\\n",
       "11071       гражданский брак                 1      F   сотрудник     0   \n",
       "15268              в разводе                 3      M   компаньон     0   \n",
       "18353  Не женат / не замужем                 4      F   компаньон     0   \n",
       "18368       гражданский брак                 1      M   компаньон     0   \n",
       "17503        женат / замужем                 0      M   компаньон     0   \n",
       "17178       гражданский брак                 1      M   компаньон     0   \n",
       "20809  Не женат / не замужем                 4      F   сотрудник     0   \n",
       "9169        гражданский брак                 1      M   сотрудник     0   \n",
       "19606        женат / замужем                 0      M   компаньон     1   \n",
       "12412        женат / замужем                 0      M   компаньон     0   \n",
       "\n",
       "       total_income                            purpose  \n",
       "11071  1.286281e+06  покупка коммерческой недвижимости  \n",
       "15268  1.350246e+06                              жилье  \n",
       "18353  1.427934e+06                         автомобиль  \n",
       "18368  1.551153e+06                            свадьба  \n",
       "17503  1.597613e+06           операции с недвижимостью  \n",
       "17178  1.711309e+06                    сыграть свадьбу  \n",
       "20809  1.715018e+06            покупка жилья для семьи  \n",
       "9169   1.726276e+06         дополнительное образование  \n",
       "19606  2.200852e+06         строительство недвижимости  \n",
       "12412  2.265604e+06                       ремонт жилью  "
      ]
     },
     "execution_count": 11,
     "metadata": {},
     "output_type": "execute_result"
    }
   ],
   "source": [
    "main_data.sort_values(by='total_income').tail(10)"
   ]
  },
  {
   "cell_type": "markdown",
   "id": "de983e7c",
   "metadata": {},
   "source": [
    "Значения ежемесячного дохода вполне разумные. \n",
    "\n",
    "Также я посмотрел первые 10 строк отсортированной таблицы (методом head), там тоже значения корректные, каких-либо отрицательных значений нет (здесь не буду приводить эту команду).\n",
    "\n",
    "Далее необходимо посмотреть уникальные значения в столбцах с категориальными значениями. Вдруг встретятся некорректные значения. "
   ]
  },
  {
   "cell_type": "code",
   "execution_count": 12,
   "id": "c117d4d4",
   "metadata": {
    "scrolled": false
   },
   "outputs": [
    {
     "data": {
      "text/plain": [
       " 0     14149\n",
       " 1      4818\n",
       " 2      2055\n",
       " 3       330\n",
       " 20       76\n",
       "-1        47\n",
       " 4        41\n",
       " 5         9\n",
       "Name: children, dtype: int64"
      ]
     },
     "metadata": {},
     "output_type": "display_data"
    },
    {
     "data": {
      "text/plain": [
       "35    617\n",
       "40    609\n",
       "41    607\n",
       "34    603\n",
       "38    598\n",
       "42    597\n",
       "33    581\n",
       "39    573\n",
       "31    560\n",
       "36    555\n",
       "44    547\n",
       "29    545\n",
       "30    540\n",
       "48    538\n",
       "37    537\n",
       "50    514\n",
       "43    513\n",
       "32    510\n",
       "49    508\n",
       "28    503\n",
       "45    497\n",
       "27    493\n",
       "56    487\n",
       "52    484\n",
       "47    480\n",
       "54    479\n",
       "46    475\n",
       "58    461\n",
       "57    460\n",
       "53    459\n",
       "51    448\n",
       "59    444\n",
       "55    443\n",
       "26    408\n",
       "60    377\n",
       "25    357\n",
       "61    355\n",
       "62    352\n",
       "63    269\n",
       "64    265\n",
       "24    264\n",
       "23    254\n",
       "65    194\n",
       "66    183\n",
       "22    183\n",
       "67    167\n",
       "21    111\n",
       "0     101\n",
       "68     99\n",
       "69     85\n",
       "70     65\n",
       "71     58\n",
       "20     51\n",
       "72     33\n",
       "19     14\n",
       "73      8\n",
       "74      6\n",
       "75      1\n",
       "Name: dob_years, dtype: int64"
      ]
     },
     "metadata": {},
     "output_type": "display_data"
    },
    {
     "data": {
      "text/plain": [
       "среднее                13750\n",
       "высшее                  4718\n",
       "СРЕДНЕЕ                  772\n",
       "Среднее                  711\n",
       "неоконченное высшее      668\n",
       "ВЫСШЕЕ                   274\n",
       "Высшее                   268\n",
       "начальное                250\n",
       "Неоконченное высшее       47\n",
       "НЕОКОНЧЕННОЕ ВЫСШЕЕ       29\n",
       "НАЧАЛЬНОЕ                 17\n",
       "Начальное                 15\n",
       "ученая степень             4\n",
       "УЧЕНАЯ СТЕПЕНЬ             1\n",
       "Ученая степень             1\n",
       "Name: education, dtype: int64"
      ]
     },
     "metadata": {},
     "output_type": "display_data"
    },
    {
     "data": {
      "text/plain": [
       "1    15233\n",
       "0     5260\n",
       "2      744\n",
       "3      282\n",
       "4        6\n",
       "Name: education_id, dtype: int64"
      ]
     },
     "metadata": {},
     "output_type": "display_data"
    },
    {
     "data": {
      "text/plain": [
       "женат / замужем          12380\n",
       "гражданский брак          4177\n",
       "Не женат / не замужем     2813\n",
       "в разводе                 1195\n",
       "вдовец / вдова             960\n",
       "Name: family_status, dtype: int64"
      ]
     },
     "metadata": {},
     "output_type": "display_data"
    },
    {
     "data": {
      "text/plain": [
       "0    12380\n",
       "1     4177\n",
       "4     2813\n",
       "3     1195\n",
       "2      960\n",
       "Name: family_status_id, dtype: int64"
      ]
     },
     "metadata": {},
     "output_type": "display_data"
    },
    {
     "data": {
      "text/plain": [
       "F      14236\n",
       "M       7288\n",
       "XNA        1\n",
       "Name: gender, dtype: int64"
      ]
     },
     "metadata": {},
     "output_type": "display_data"
    },
    {
     "data": {
      "text/plain": [
       "сотрудник          11119\n",
       "компаньон           5085\n",
       "пенсионер           3856\n",
       "госслужащий         1459\n",
       "предприниматель        2\n",
       "безработный            2\n",
       "студент                1\n",
       "в декрете              1\n",
       "Name: income_type, dtype: int64"
      ]
     },
     "metadata": {},
     "output_type": "display_data"
    },
    {
     "data": {
      "text/plain": [
       "0    19784\n",
       "1     1741\n",
       "Name: debt, dtype: int64"
      ]
     },
     "metadata": {},
     "output_type": "display_data"
    },
    {
     "data": {
      "text/plain": [
       "свадьба                                   797\n",
       "на проведение свадьбы                     777\n",
       "сыграть свадьбу                           774\n",
       "операции с недвижимостью                  676\n",
       "покупка коммерческой недвижимости         664\n",
       "операции с жильем                         653\n",
       "покупка жилья для сдачи                   653\n",
       "операции с коммерческой недвижимостью     651\n",
       "покупка жилья                             647\n",
       "жилье                                     647\n",
       "покупка жилья для семьи                   641\n",
       "строительство собственной недвижимости    635\n",
       "недвижимость                              634\n",
       "операции со своей недвижимостью           630\n",
       "строительство жилой недвижимости          626\n",
       "покупка недвижимости                      624\n",
       "покупка своего жилья                      620\n",
       "строительство недвижимости                620\n",
       "ремонт жилью                              612\n",
       "покупка жилой недвижимости                607\n",
       "на покупку своего автомобиля              505\n",
       "заняться высшим образованием              496\n",
       "автомобиль                                495\n",
       "сделка с подержанным автомобилем          489\n",
       "свой автомобиль                           480\n",
       "на покупку подержанного автомобиля        479\n",
       "автомобили                                478\n",
       "на покупку автомобиля                     472\n",
       "дополнительное образование                462\n",
       "приобретение автомобиля                   462\n",
       "сделка с автомобилем                      455\n",
       "высшее образование                        453\n",
       "образование                               447\n",
       "получение дополнительного образования     447\n",
       "получение образования                     443\n",
       "профильное образование                    436\n",
       "получение высшего образования             426\n",
       "заняться образованием                     412\n",
       "Name: purpose, dtype: int64"
      ]
     },
     "metadata": {},
     "output_type": "display_data"
    }
   ],
   "source": [
    "display(main_data['children'].value_counts())\n",
    "display(main_data['dob_years'].value_counts())\n",
    "display(main_data['education'].value_counts())\n",
    "display(main_data['education_id'].value_counts())\n",
    "display(main_data['family_status'].value_counts())\n",
    "display(main_data['family_status_id'].value_counts())\n",
    "display(main_data['gender'].value_counts())\n",
    "display(main_data['income_type'].value_counts())\n",
    "display(main_data['debt'].value_counts())\n",
    "display(main_data['purpose'].value_counts())"
   ]
  },
  {
   "cell_type": "markdown",
   "id": "3ec98d04",
   "metadata": {},
   "source": [
    "В столбце children присутствуют аномальные значения -1 и 20. Отрицательного количества детей не бывает, а наличие в таблице 76 человек с 20 детьми это странно. Такое количество детей конечно бывает в восточных странах или в Африке, но в данном случае это аномалия. Есть в таблице люди, у которых 5 детей, а потом только сразу 20. Это нереально. Исправим аномалию, заменив значения -1 и 20 на медианные по столбцу. Значения вычисленной медианы надо привести к целому числу, иначе количество детей будет вещественным."
   ]
  },
  {
   "cell_type": "code",
   "execution_count": 13,
   "id": "0bb06033",
   "metadata": {},
   "outputs": [
    {
     "data": {
      "text/plain": [
       "0    14272\n",
       "1     4818\n",
       "2     2055\n",
       "3      330\n",
       "4       41\n",
       "5        9\n",
       "Name: children, dtype: int64"
      ]
     },
     "execution_count": 13,
     "metadata": {},
     "output_type": "execute_result"
    }
   ],
   "source": [
    "median = int(main_data['children'].median())\n",
    "main_data.loc[(main_data['children']==-1)|(main_data['children']==20), 'children'] = median\n",
    "main_data['children'].value_counts()"
   ]
  },
  {
   "cell_type": "markdown",
   "id": "e76ed0d3",
   "metadata": {},
   "source": [
    "Значения исправились верно.\n",
    "\n",
    "Далее исправим регистр в значениях столбца Education и Family_status"
   ]
  },
  {
   "cell_type": "code",
   "execution_count": 14,
   "id": "515a3cff",
   "metadata": {
    "scrolled": true
   },
   "outputs": [
    {
     "data": {
      "text/plain": [
       "array(['высшее', 'среднее', 'неоконченное высшее', 'начальное',\n",
       "       'ученая степень'], dtype=object)"
      ]
     },
     "metadata": {},
     "output_type": "display_data"
    },
    {
     "data": {
      "text/plain": [
       "array(['женат / замужем', 'гражданский брак', 'вдовец / вдова',\n",
       "       'в разводе', 'не женат / не замужем'], dtype=object)"
      ]
     },
     "metadata": {},
     "output_type": "display_data"
    }
   ],
   "source": [
    "main_data['education'] = main_data['education'].str.lower()\n",
    "main_data['family_status'] = main_data['family_status'].str.lower()\n",
    "display(main_data['education'].unique())\n",
    "display(main_data['family_status'].unique())"
   ]
  },
  {
   "cell_type": "markdown",
   "id": "4300b0b6",
   "metadata": {},
   "source": [
    "Регистр значений теперь верный.\n",
    "\n",
    "В столбце Gender есть одно непонятное значение XNA. Заменим его на преобладающее значение F."
   ]
  },
  {
   "cell_type": "code",
   "execution_count": 15,
   "id": "e82dbab5",
   "metadata": {},
   "outputs": [
    {
     "data": {
      "text/plain": [
       "array(['F', 'M'], dtype=object)"
      ]
     },
     "execution_count": 15,
     "metadata": {},
     "output_type": "execute_result"
    }
   ],
   "source": [
    "main_data.loc[main_data['gender']=='XNA','gender'] = 'F'\n",
    "main_data['gender'].unique()"
   ]
  },
  {
   "cell_type": "markdown",
   "id": "97f713d0",
   "metadata": {},
   "source": [
    " Всё верно. На этом исправление аномалий закончено."
   ]
  },
  {
   "cell_type": "markdown",
   "id": "95162ff8",
   "metadata": {},
   "source": [
    "### Изменение типов данных"
   ]
  },
  {
   "cell_type": "markdown",
   "id": "299bbf45",
   "metadata": {},
   "source": [
    "Изменим вещественный тип данных в столбцах days_employed и total_income на целочисленный.\n",
    "\n",
    "Использовать здесь команды try...except нет смысла, так как перевод происходит из вещественного числа в целое. А пропусков и строковых значений в столбцах нет."
   ]
  },
  {
   "cell_type": "code",
   "execution_count": 16,
   "id": "f711ef18",
   "metadata": {
    "scrolled": false
   },
   "outputs": [
    {
     "data": {
      "text/html": [
       "<div>\n",
       "<style scoped>\n",
       "    .dataframe tbody tr th:only-of-type {\n",
       "        vertical-align: middle;\n",
       "    }\n",
       "\n",
       "    .dataframe tbody tr th {\n",
       "        vertical-align: top;\n",
       "    }\n",
       "\n",
       "    .dataframe thead th {\n",
       "        text-align: right;\n",
       "    }\n",
       "</style>\n",
       "<table border=\"1\" class=\"dataframe\">\n",
       "  <thead>\n",
       "    <tr style=\"text-align: right;\">\n",
       "      <th></th>\n",
       "      <th>children</th>\n",
       "      <th>days_employed</th>\n",
       "      <th>dob_years</th>\n",
       "      <th>education</th>\n",
       "      <th>education_id</th>\n",
       "      <th>family_status</th>\n",
       "      <th>family_status_id</th>\n",
       "      <th>gender</th>\n",
       "      <th>income_type</th>\n",
       "      <th>debt</th>\n",
       "      <th>total_income</th>\n",
       "      <th>purpose</th>\n",
       "    </tr>\n",
       "  </thead>\n",
       "  <tbody>\n",
       "    <tr>\n",
       "      <th>0</th>\n",
       "      <td>1</td>\n",
       "      <td>8437</td>\n",
       "      <td>42</td>\n",
       "      <td>высшее</td>\n",
       "      <td>0</td>\n",
       "      <td>женат / замужем</td>\n",
       "      <td>0</td>\n",
       "      <td>F</td>\n",
       "      <td>сотрудник</td>\n",
       "      <td>0</td>\n",
       "      <td>253875</td>\n",
       "      <td>покупка жилья</td>\n",
       "    </tr>\n",
       "    <tr>\n",
       "      <th>1</th>\n",
       "      <td>1</td>\n",
       "      <td>4024</td>\n",
       "      <td>36</td>\n",
       "      <td>среднее</td>\n",
       "      <td>1</td>\n",
       "      <td>женат / замужем</td>\n",
       "      <td>0</td>\n",
       "      <td>F</td>\n",
       "      <td>сотрудник</td>\n",
       "      <td>0</td>\n",
       "      <td>112080</td>\n",
       "      <td>приобретение автомобиля</td>\n",
       "    </tr>\n",
       "    <tr>\n",
       "      <th>2</th>\n",
       "      <td>0</td>\n",
       "      <td>5623</td>\n",
       "      <td>33</td>\n",
       "      <td>среднее</td>\n",
       "      <td>1</td>\n",
       "      <td>женат / замужем</td>\n",
       "      <td>0</td>\n",
       "      <td>M</td>\n",
       "      <td>сотрудник</td>\n",
       "      <td>0</td>\n",
       "      <td>145885</td>\n",
       "      <td>покупка жилья</td>\n",
       "    </tr>\n",
       "    <tr>\n",
       "      <th>3</th>\n",
       "      <td>3</td>\n",
       "      <td>4124</td>\n",
       "      <td>32</td>\n",
       "      <td>среднее</td>\n",
       "      <td>1</td>\n",
       "      <td>женат / замужем</td>\n",
       "      <td>0</td>\n",
       "      <td>M</td>\n",
       "      <td>сотрудник</td>\n",
       "      <td>0</td>\n",
       "      <td>267628</td>\n",
       "      <td>дополнительное образование</td>\n",
       "    </tr>\n",
       "    <tr>\n",
       "      <th>4</th>\n",
       "      <td>0</td>\n",
       "      <td>7657</td>\n",
       "      <td>53</td>\n",
       "      <td>среднее</td>\n",
       "      <td>1</td>\n",
       "      <td>гражданский брак</td>\n",
       "      <td>1</td>\n",
       "      <td>F</td>\n",
       "      <td>пенсионер</td>\n",
       "      <td>0</td>\n",
       "      <td>158616</td>\n",
       "      <td>сыграть свадьбу</td>\n",
       "    </tr>\n",
       "    <tr>\n",
       "      <th>5</th>\n",
       "      <td>0</td>\n",
       "      <td>926</td>\n",
       "      <td>27</td>\n",
       "      <td>высшее</td>\n",
       "      <td>0</td>\n",
       "      <td>гражданский брак</td>\n",
       "      <td>1</td>\n",
       "      <td>M</td>\n",
       "      <td>компаньон</td>\n",
       "      <td>0</td>\n",
       "      <td>255763</td>\n",
       "      <td>покупка жилья</td>\n",
       "    </tr>\n",
       "    <tr>\n",
       "      <th>6</th>\n",
       "      <td>0</td>\n",
       "      <td>2879</td>\n",
       "      <td>43</td>\n",
       "      <td>высшее</td>\n",
       "      <td>0</td>\n",
       "      <td>женат / замужем</td>\n",
       "      <td>0</td>\n",
       "      <td>F</td>\n",
       "      <td>компаньон</td>\n",
       "      <td>0</td>\n",
       "      <td>240525</td>\n",
       "      <td>операции с жильем</td>\n",
       "    </tr>\n",
       "    <tr>\n",
       "      <th>7</th>\n",
       "      <td>0</td>\n",
       "      <td>152</td>\n",
       "      <td>50</td>\n",
       "      <td>среднее</td>\n",
       "      <td>1</td>\n",
       "      <td>женат / замужем</td>\n",
       "      <td>0</td>\n",
       "      <td>M</td>\n",
       "      <td>сотрудник</td>\n",
       "      <td>0</td>\n",
       "      <td>135823</td>\n",
       "      <td>образование</td>\n",
       "    </tr>\n",
       "    <tr>\n",
       "      <th>8</th>\n",
       "      <td>2</td>\n",
       "      <td>6929</td>\n",
       "      <td>35</td>\n",
       "      <td>высшее</td>\n",
       "      <td>0</td>\n",
       "      <td>гражданский брак</td>\n",
       "      <td>1</td>\n",
       "      <td>F</td>\n",
       "      <td>сотрудник</td>\n",
       "      <td>0</td>\n",
       "      <td>95856</td>\n",
       "      <td>на проведение свадьбы</td>\n",
       "    </tr>\n",
       "    <tr>\n",
       "      <th>9</th>\n",
       "      <td>0</td>\n",
       "      <td>2188</td>\n",
       "      <td>41</td>\n",
       "      <td>среднее</td>\n",
       "      <td>1</td>\n",
       "      <td>женат / замужем</td>\n",
       "      <td>0</td>\n",
       "      <td>M</td>\n",
       "      <td>сотрудник</td>\n",
       "      <td>0</td>\n",
       "      <td>144425</td>\n",
       "      <td>покупка жилья для семьи</td>\n",
       "    </tr>\n",
       "  </tbody>\n",
       "</table>\n",
       "</div>"
      ],
      "text/plain": [
       "   children  days_employed  dob_years education  education_id  \\\n",
       "0         1           8437         42    высшее             0   \n",
       "1         1           4024         36   среднее             1   \n",
       "2         0           5623         33   среднее             1   \n",
       "3         3           4124         32   среднее             1   \n",
       "4         0           7657         53   среднее             1   \n",
       "5         0            926         27    высшее             0   \n",
       "6         0           2879         43    высшее             0   \n",
       "7         0            152         50   среднее             1   \n",
       "8         2           6929         35    высшее             0   \n",
       "9         0           2188         41   среднее             1   \n",
       "\n",
       "      family_status  family_status_id gender income_type  debt  total_income  \\\n",
       "0   женат / замужем                 0      F   сотрудник     0        253875   \n",
       "1   женат / замужем                 0      F   сотрудник     0        112080   \n",
       "2   женат / замужем                 0      M   сотрудник     0        145885   \n",
       "3   женат / замужем                 0      M   сотрудник     0        267628   \n",
       "4  гражданский брак                 1      F   пенсионер     0        158616   \n",
       "5  гражданский брак                 1      M   компаньон     0        255763   \n",
       "6   женат / замужем                 0      F   компаньон     0        240525   \n",
       "7   женат / замужем                 0      M   сотрудник     0        135823   \n",
       "8  гражданский брак                 1      F   сотрудник     0         95856   \n",
       "9   женат / замужем                 0      M   сотрудник     0        144425   \n",
       "\n",
       "                      purpose  \n",
       "0               покупка жилья  \n",
       "1     приобретение автомобиля  \n",
       "2               покупка жилья  \n",
       "3  дополнительное образование  \n",
       "4             сыграть свадьбу  \n",
       "5               покупка жилья  \n",
       "6           операции с жильем  \n",
       "7                 образование  \n",
       "8       на проведение свадьбы  \n",
       "9     покупка жилья для семьи  "
      ]
     },
     "execution_count": 16,
     "metadata": {},
     "output_type": "execute_result"
    }
   ],
   "source": [
    "main_data['days_employed'] = main_data['days_employed'].astype('int64')\n",
    "main_data['total_income'] = main_data['total_income'].astype('int64')\n",
    "main_data.head(10)"
   ]
  },
  {
   "cell_type": "markdown",
   "id": "062b6b29",
   "metadata": {},
   "source": [
    "Изменения типов данных прошли корректно. "
   ]
  },
  {
   "cell_type": "markdown",
   "id": "2218bba8",
   "metadata": {},
   "source": [
    "### Удаление дубликатов"
   ]
  },
  {
   "cell_type": "markdown",
   "id": "0ba3a9e9",
   "metadata": {},
   "source": [
    "Посмотрим количество явных дубликатов в таблице."
   ]
  },
  {
   "cell_type": "code",
   "execution_count": 17,
   "id": "8e5342bd",
   "metadata": {},
   "outputs": [
    {
     "data": {
      "text/plain": [
       "71"
      ]
     },
     "execution_count": 17,
     "metadata": {},
     "output_type": "execute_result"
    }
   ],
   "source": [
    "main_data.duplicated().sum()"
   ]
  },
  {
   "cell_type": "markdown",
   "id": "49355147",
   "metadata": {},
   "source": [
    "Откуда появились дубликаты? Сходу неясно. Посмотрим, какие строки являются дубликатами."
   ]
  },
  {
   "cell_type": "code",
   "execution_count": 18,
   "id": "17842588",
   "metadata": {},
   "outputs": [
    {
     "data": {
      "text/html": [
       "<div>\n",
       "<style scoped>\n",
       "    .dataframe tbody tr th:only-of-type {\n",
       "        vertical-align: middle;\n",
       "    }\n",
       "\n",
       "    .dataframe tbody tr th {\n",
       "        vertical-align: top;\n",
       "    }\n",
       "\n",
       "    .dataframe thead th {\n",
       "        text-align: right;\n",
       "    }\n",
       "</style>\n",
       "<table border=\"1\" class=\"dataframe\">\n",
       "  <thead>\n",
       "    <tr style=\"text-align: right;\">\n",
       "      <th></th>\n",
       "      <th>children</th>\n",
       "      <th>days_employed</th>\n",
       "      <th>dob_years</th>\n",
       "      <th>education</th>\n",
       "      <th>education_id</th>\n",
       "      <th>family_status</th>\n",
       "      <th>family_status_id</th>\n",
       "      <th>gender</th>\n",
       "      <th>income_type</th>\n",
       "      <th>debt</th>\n",
       "      <th>total_income</th>\n",
       "      <th>purpose</th>\n",
       "    </tr>\n",
       "  </thead>\n",
       "  <tbody>\n",
       "    <tr>\n",
       "      <th>2849</th>\n",
       "      <td>0</td>\n",
       "      <td>2258</td>\n",
       "      <td>41</td>\n",
       "      <td>среднее</td>\n",
       "      <td>1</td>\n",
       "      <td>женат / замужем</td>\n",
       "      <td>0</td>\n",
       "      <td>F</td>\n",
       "      <td>сотрудник</td>\n",
       "      <td>0</td>\n",
       "      <td>145017</td>\n",
       "      <td>покупка жилья для семьи</td>\n",
       "    </tr>\n",
       "    <tr>\n",
       "      <th>3290</th>\n",
       "      <td>0</td>\n",
       "      <td>8892</td>\n",
       "      <td>58</td>\n",
       "      <td>среднее</td>\n",
       "      <td>1</td>\n",
       "      <td>гражданский брак</td>\n",
       "      <td>1</td>\n",
       "      <td>F</td>\n",
       "      <td>пенсионер</td>\n",
       "      <td>0</td>\n",
       "      <td>145017</td>\n",
       "      <td>сыграть свадьбу</td>\n",
       "    </tr>\n",
       "    <tr>\n",
       "      <th>4182</th>\n",
       "      <td>1</td>\n",
       "      <td>2258</td>\n",
       "      <td>34</td>\n",
       "      <td>высшее</td>\n",
       "      <td>0</td>\n",
       "      <td>гражданский брак</td>\n",
       "      <td>1</td>\n",
       "      <td>F</td>\n",
       "      <td>сотрудник</td>\n",
       "      <td>0</td>\n",
       "      <td>145017</td>\n",
       "      <td>свадьба</td>\n",
       "    </tr>\n",
       "    <tr>\n",
       "      <th>4851</th>\n",
       "      <td>0</td>\n",
       "      <td>9386</td>\n",
       "      <td>60</td>\n",
       "      <td>среднее</td>\n",
       "      <td>1</td>\n",
       "      <td>гражданский брак</td>\n",
       "      <td>1</td>\n",
       "      <td>F</td>\n",
       "      <td>пенсионер</td>\n",
       "      <td>0</td>\n",
       "      <td>145017</td>\n",
       "      <td>свадьба</td>\n",
       "    </tr>\n",
       "    <tr>\n",
       "      <th>5557</th>\n",
       "      <td>0</td>\n",
       "      <td>8892</td>\n",
       "      <td>58</td>\n",
       "      <td>среднее</td>\n",
       "      <td>1</td>\n",
       "      <td>гражданский брак</td>\n",
       "      <td>1</td>\n",
       "      <td>F</td>\n",
       "      <td>пенсионер</td>\n",
       "      <td>0</td>\n",
       "      <td>145017</td>\n",
       "      <td>сыграть свадьбу</td>\n",
       "    </tr>\n",
       "    <tr>\n",
       "      <th>...</th>\n",
       "      <td>...</td>\n",
       "      <td>...</td>\n",
       "      <td>...</td>\n",
       "      <td>...</td>\n",
       "      <td>...</td>\n",
       "      <td>...</td>\n",
       "      <td>...</td>\n",
       "      <td>...</td>\n",
       "      <td>...</td>\n",
       "      <td>...</td>\n",
       "      <td>...</td>\n",
       "      <td>...</td>\n",
       "    </tr>\n",
       "    <tr>\n",
       "      <th>20702</th>\n",
       "      <td>0</td>\n",
       "      <td>10374</td>\n",
       "      <td>64</td>\n",
       "      <td>среднее</td>\n",
       "      <td>1</td>\n",
       "      <td>женат / замужем</td>\n",
       "      <td>0</td>\n",
       "      <td>F</td>\n",
       "      <td>пенсионер</td>\n",
       "      <td>0</td>\n",
       "      <td>145017</td>\n",
       "      <td>дополнительное образование</td>\n",
       "    </tr>\n",
       "    <tr>\n",
       "      <th>21032</th>\n",
       "      <td>0</td>\n",
       "      <td>9386</td>\n",
       "      <td>60</td>\n",
       "      <td>среднее</td>\n",
       "      <td>1</td>\n",
       "      <td>женат / замужем</td>\n",
       "      <td>0</td>\n",
       "      <td>F</td>\n",
       "      <td>пенсионер</td>\n",
       "      <td>0</td>\n",
       "      <td>145017</td>\n",
       "      <td>заняться образованием</td>\n",
       "    </tr>\n",
       "    <tr>\n",
       "      <th>21132</th>\n",
       "      <td>0</td>\n",
       "      <td>2258</td>\n",
       "      <td>47</td>\n",
       "      <td>среднее</td>\n",
       "      <td>1</td>\n",
       "      <td>женат / замужем</td>\n",
       "      <td>0</td>\n",
       "      <td>F</td>\n",
       "      <td>сотрудник</td>\n",
       "      <td>0</td>\n",
       "      <td>145017</td>\n",
       "      <td>ремонт жилью</td>\n",
       "    </tr>\n",
       "    <tr>\n",
       "      <th>21281</th>\n",
       "      <td>1</td>\n",
       "      <td>2258</td>\n",
       "      <td>30</td>\n",
       "      <td>высшее</td>\n",
       "      <td>0</td>\n",
       "      <td>женат / замужем</td>\n",
       "      <td>0</td>\n",
       "      <td>F</td>\n",
       "      <td>сотрудник</td>\n",
       "      <td>0</td>\n",
       "      <td>145017</td>\n",
       "      <td>покупка коммерческой недвижимости</td>\n",
       "    </tr>\n",
       "    <tr>\n",
       "      <th>21415</th>\n",
       "      <td>0</td>\n",
       "      <td>7904</td>\n",
       "      <td>54</td>\n",
       "      <td>среднее</td>\n",
       "      <td>1</td>\n",
       "      <td>женат / замужем</td>\n",
       "      <td>0</td>\n",
       "      <td>F</td>\n",
       "      <td>пенсионер</td>\n",
       "      <td>0</td>\n",
       "      <td>145017</td>\n",
       "      <td>операции с жильем</td>\n",
       "    </tr>\n",
       "  </tbody>\n",
       "</table>\n",
       "<p>71 rows × 12 columns</p>\n",
       "</div>"
      ],
      "text/plain": [
       "       children  days_employed  dob_years education  education_id  \\\n",
       "2849          0           2258         41   среднее             1   \n",
       "3290          0           8892         58   среднее             1   \n",
       "4182          1           2258         34    высшее             0   \n",
       "4851          0           9386         60   среднее             1   \n",
       "5557          0           8892         58   среднее             1   \n",
       "...         ...            ...        ...       ...           ...   \n",
       "20702         0          10374         64   среднее             1   \n",
       "21032         0           9386         60   среднее             1   \n",
       "21132         0           2258         47   среднее             1   \n",
       "21281         1           2258         30    высшее             0   \n",
       "21415         0           7904         54   среднее             1   \n",
       "\n",
       "          family_status  family_status_id gender income_type  debt  \\\n",
       "2849    женат / замужем                 0      F   сотрудник     0   \n",
       "3290   гражданский брак                 1      F   пенсионер     0   \n",
       "4182   гражданский брак                 1      F   сотрудник     0   \n",
       "4851   гражданский брак                 1      F   пенсионер     0   \n",
       "5557   гражданский брак                 1      F   пенсионер     0   \n",
       "...                 ...               ...    ...         ...   ...   \n",
       "20702   женат / замужем                 0      F   пенсионер     0   \n",
       "21032   женат / замужем                 0      F   пенсионер     0   \n",
       "21132   женат / замужем                 0      F   сотрудник     0   \n",
       "21281   женат / замужем                 0      F   сотрудник     0   \n",
       "21415   женат / замужем                 0      F   пенсионер     0   \n",
       "\n",
       "       total_income                            purpose  \n",
       "2849         145017            покупка жилья для семьи  \n",
       "3290         145017                    сыграть свадьбу  \n",
       "4182         145017                            свадьба  \n",
       "4851         145017                            свадьба  \n",
       "5557         145017                    сыграть свадьбу  \n",
       "...             ...                                ...  \n",
       "20702        145017         дополнительное образование  \n",
       "21032        145017              заняться образованием  \n",
       "21132        145017                       ремонт жилью  \n",
       "21281        145017  покупка коммерческой недвижимости  \n",
       "21415        145017                  операции с жильем  \n",
       "\n",
       "[71 rows x 12 columns]"
      ]
     },
     "execution_count": 18,
     "metadata": {},
     "output_type": "execute_result"
    }
   ],
   "source": [
    "main_data[main_data.duplicated()]"
   ]
  },
  {
   "cell_type": "markdown",
   "id": "9e09c45e",
   "metadata": {},
   "source": [
    "Видно, что дубликатами стали некоторые строки, в которых я ранее устранял пропуски значений. Изначально в таблице эти данные могли быть ошибочно введены с пропуском значений.\n",
    "\n",
    "Удалим явные дубликаты"
   ]
  },
  {
   "cell_type": "code",
   "execution_count": 19,
   "id": "5a5ae28b",
   "metadata": {
    "scrolled": true
   },
   "outputs": [
    {
     "data": {
      "text/plain": [
       "(21454, 12)"
      ]
     },
     "execution_count": 19,
     "metadata": {},
     "output_type": "execute_result"
    }
   ],
   "source": [
    "main_data = main_data.drop_duplicates().reset_index(drop=True)\n",
    "main_data.shape"
   ]
  },
  {
   "cell_type": "code",
   "execution_count": 20,
   "id": "27b0661f",
   "metadata": {},
   "outputs": [
    {
     "data": {
      "text/plain": [
       "(21454, 12)"
      ]
     },
     "execution_count": 20,
     "metadata": {},
     "output_type": "execute_result"
    }
   ],
   "source": [
    "main_data.shape"
   ]
  },
  {
   "cell_type": "markdown",
   "id": "4a212e89",
   "metadata": {},
   "source": [
    "Дубликаты успешно удалились. Было в таблице 21525 строк, а теперь 21454."
   ]
  },
  {
   "cell_type": "markdown",
   "id": "d7ef81d6",
   "metadata": {},
   "source": [
    "### Формирование дополнительных датафреймов словарей, декомпозиция исходного датафрейма"
   ]
  },
  {
   "cell_type": "markdown",
   "id": "73b3435a",
   "metadata": {},
   "source": [
    "Создадим словарь для уровней образования клиентов. Затем удалим дубликаты в этом словаре."
   ]
  },
  {
   "cell_type": "code",
   "execution_count": 21,
   "id": "3ce0722c",
   "metadata": {},
   "outputs": [
    {
     "data": {
      "text/html": [
       "<div>\n",
       "<style scoped>\n",
       "    .dataframe tbody tr th:only-of-type {\n",
       "        vertical-align: middle;\n",
       "    }\n",
       "\n",
       "    .dataframe tbody tr th {\n",
       "        vertical-align: top;\n",
       "    }\n",
       "\n",
       "    .dataframe thead th {\n",
       "        text-align: right;\n",
       "    }\n",
       "</style>\n",
       "<table border=\"1\" class=\"dataframe\">\n",
       "  <thead>\n",
       "    <tr style=\"text-align: right;\">\n",
       "      <th></th>\n",
       "      <th>education</th>\n",
       "      <th>education_id</th>\n",
       "    </tr>\n",
       "  </thead>\n",
       "  <tbody>\n",
       "    <tr>\n",
       "      <th>0</th>\n",
       "      <td>высшее</td>\n",
       "      <td>0</td>\n",
       "    </tr>\n",
       "    <tr>\n",
       "      <th>1</th>\n",
       "      <td>среднее</td>\n",
       "      <td>1</td>\n",
       "    </tr>\n",
       "    <tr>\n",
       "      <th>2</th>\n",
       "      <td>неоконченное высшее</td>\n",
       "      <td>2</td>\n",
       "    </tr>\n",
       "    <tr>\n",
       "      <th>3</th>\n",
       "      <td>начальное</td>\n",
       "      <td>3</td>\n",
       "    </tr>\n",
       "    <tr>\n",
       "      <th>4</th>\n",
       "      <td>ученая степень</td>\n",
       "      <td>4</td>\n",
       "    </tr>\n",
       "  </tbody>\n",
       "</table>\n",
       "</div>"
      ],
      "text/plain": [
       "             education  education_id\n",
       "0               высшее             0\n",
       "1              среднее             1\n",
       "2  неоконченное высшее             2\n",
       "3            начальное             3\n",
       "4       ученая степень             4"
      ]
     },
     "execution_count": 21,
     "metadata": {},
     "output_type": "execute_result"
    }
   ],
   "source": [
    "education_dict = main_data[['education', 'education_id']]\n",
    "education_dict = education_dict.drop_duplicates().reset_index(drop=True)\n",
    "education_dict"
   ]
  },
  {
   "cell_type": "markdown",
   "id": "b0a75ec3",
   "metadata": {},
   "source": [
    "Теперь создадим словарь для семейного статуса и удалим из него дубликаты."
   ]
  },
  {
   "cell_type": "code",
   "execution_count": 22,
   "id": "9aab6247",
   "metadata": {
    "scrolled": true
   },
   "outputs": [
    {
     "data": {
      "text/html": [
       "<div>\n",
       "<style scoped>\n",
       "    .dataframe tbody tr th:only-of-type {\n",
       "        vertical-align: middle;\n",
       "    }\n",
       "\n",
       "    .dataframe tbody tr th {\n",
       "        vertical-align: top;\n",
       "    }\n",
       "\n",
       "    .dataframe thead th {\n",
       "        text-align: right;\n",
       "    }\n",
       "</style>\n",
       "<table border=\"1\" class=\"dataframe\">\n",
       "  <thead>\n",
       "    <tr style=\"text-align: right;\">\n",
       "      <th></th>\n",
       "      <th>family_status</th>\n",
       "      <th>family_status_id</th>\n",
       "    </tr>\n",
       "  </thead>\n",
       "  <tbody>\n",
       "    <tr>\n",
       "      <th>0</th>\n",
       "      <td>женат / замужем</td>\n",
       "      <td>0</td>\n",
       "    </tr>\n",
       "    <tr>\n",
       "      <th>1</th>\n",
       "      <td>гражданский брак</td>\n",
       "      <td>1</td>\n",
       "    </tr>\n",
       "    <tr>\n",
       "      <th>2</th>\n",
       "      <td>вдовец / вдова</td>\n",
       "      <td>2</td>\n",
       "    </tr>\n",
       "    <tr>\n",
       "      <th>3</th>\n",
       "      <td>в разводе</td>\n",
       "      <td>3</td>\n",
       "    </tr>\n",
       "    <tr>\n",
       "      <th>4</th>\n",
       "      <td>не женат / не замужем</td>\n",
       "      <td>4</td>\n",
       "    </tr>\n",
       "  </tbody>\n",
       "</table>\n",
       "</div>"
      ],
      "text/plain": [
       "           family_status  family_status_id\n",
       "0        женат / замужем                 0\n",
       "1       гражданский брак                 1\n",
       "2         вдовец / вдова                 2\n",
       "3              в разводе                 3\n",
       "4  не женат / не замужем                 4"
      ]
     },
     "execution_count": 22,
     "metadata": {},
     "output_type": "execute_result"
    }
   ],
   "source": [
    "family_status_dict = main_data[['family_status', 'family_status_id']]\n",
    "family_status_dict = family_status_dict.drop_duplicates().reset_index(drop=True)\n",
    "family_status_dict"
   ]
  },
  {
   "cell_type": "markdown",
   "id": "d15b9624",
   "metadata": {},
   "source": [
    "Теперь из главной таблицы удалим столбцы education и family_status"
   ]
  },
  {
   "cell_type": "code",
   "execution_count": 23,
   "id": "9a7c7936",
   "metadata": {},
   "outputs": [
    {
     "data": {
      "text/html": [
       "<div>\n",
       "<style scoped>\n",
       "    .dataframe tbody tr th:only-of-type {\n",
       "        vertical-align: middle;\n",
       "    }\n",
       "\n",
       "    .dataframe tbody tr th {\n",
       "        vertical-align: top;\n",
       "    }\n",
       "\n",
       "    .dataframe thead th {\n",
       "        text-align: right;\n",
       "    }\n",
       "</style>\n",
       "<table border=\"1\" class=\"dataframe\">\n",
       "  <thead>\n",
       "    <tr style=\"text-align: right;\">\n",
       "      <th></th>\n",
       "      <th>children</th>\n",
       "      <th>days_employed</th>\n",
       "      <th>dob_years</th>\n",
       "      <th>education_id</th>\n",
       "      <th>family_status_id</th>\n",
       "      <th>gender</th>\n",
       "      <th>income_type</th>\n",
       "      <th>debt</th>\n",
       "      <th>total_income</th>\n",
       "      <th>purpose</th>\n",
       "    </tr>\n",
       "  </thead>\n",
       "  <tbody>\n",
       "    <tr>\n",
       "      <th>0</th>\n",
       "      <td>1</td>\n",
       "      <td>8437</td>\n",
       "      <td>42</td>\n",
       "      <td>0</td>\n",
       "      <td>0</td>\n",
       "      <td>F</td>\n",
       "      <td>сотрудник</td>\n",
       "      <td>0</td>\n",
       "      <td>253875</td>\n",
       "      <td>покупка жилья</td>\n",
       "    </tr>\n",
       "    <tr>\n",
       "      <th>1</th>\n",
       "      <td>1</td>\n",
       "      <td>4024</td>\n",
       "      <td>36</td>\n",
       "      <td>1</td>\n",
       "      <td>0</td>\n",
       "      <td>F</td>\n",
       "      <td>сотрудник</td>\n",
       "      <td>0</td>\n",
       "      <td>112080</td>\n",
       "      <td>приобретение автомобиля</td>\n",
       "    </tr>\n",
       "    <tr>\n",
       "      <th>2</th>\n",
       "      <td>0</td>\n",
       "      <td>5623</td>\n",
       "      <td>33</td>\n",
       "      <td>1</td>\n",
       "      <td>0</td>\n",
       "      <td>M</td>\n",
       "      <td>сотрудник</td>\n",
       "      <td>0</td>\n",
       "      <td>145885</td>\n",
       "      <td>покупка жилья</td>\n",
       "    </tr>\n",
       "    <tr>\n",
       "      <th>3</th>\n",
       "      <td>3</td>\n",
       "      <td>4124</td>\n",
       "      <td>32</td>\n",
       "      <td>1</td>\n",
       "      <td>0</td>\n",
       "      <td>M</td>\n",
       "      <td>сотрудник</td>\n",
       "      <td>0</td>\n",
       "      <td>267628</td>\n",
       "      <td>дополнительное образование</td>\n",
       "    </tr>\n",
       "    <tr>\n",
       "      <th>4</th>\n",
       "      <td>0</td>\n",
       "      <td>7657</td>\n",
       "      <td>53</td>\n",
       "      <td>1</td>\n",
       "      <td>1</td>\n",
       "      <td>F</td>\n",
       "      <td>пенсионер</td>\n",
       "      <td>0</td>\n",
       "      <td>158616</td>\n",
       "      <td>сыграть свадьбу</td>\n",
       "    </tr>\n",
       "  </tbody>\n",
       "</table>\n",
       "</div>"
      ],
      "text/plain": [
       "   children  days_employed  dob_years  education_id  family_status_id gender  \\\n",
       "0         1           8437         42             0                 0      F   \n",
       "1         1           4024         36             1                 0      F   \n",
       "2         0           5623         33             1                 0      M   \n",
       "3         3           4124         32             1                 0      M   \n",
       "4         0           7657         53             1                 1      F   \n",
       "\n",
       "  income_type  debt  total_income                     purpose  \n",
       "0   сотрудник     0        253875               покупка жилья  \n",
       "1   сотрудник     0        112080     приобретение автомобиля  \n",
       "2   сотрудник     0        145885               покупка жилья  \n",
       "3   сотрудник     0        267628  дополнительное образование  \n",
       "4   пенсионер     0        158616             сыграть свадьбу  "
      ]
     },
     "execution_count": 23,
     "metadata": {},
     "output_type": "execute_result"
    }
   ],
   "source": [
    "main_data = main_data.drop(columns=['education', 'family_status'])\n",
    "main_data.head(5)"
   ]
  },
  {
   "cell_type": "markdown",
   "id": "125d0dca",
   "metadata": {},
   "source": [
    "Декомпозиция датафрейма выполнена успешно."
   ]
  },
  {
   "cell_type": "markdown",
   "id": "26ed4048",
   "metadata": {},
   "source": [
    "### Категоризация дохода"
   ]
  },
  {
   "cell_type": "markdown",
   "id": "649eb7e1",
   "metadata": {},
   "source": [
    "Создадим функцию для категоризации клиентов по уровню дохода. Затем протестируем работу функции."
   ]
  },
  {
   "cell_type": "code",
   "execution_count": 24,
   "id": "d68c4e58",
   "metadata": {},
   "outputs": [
    {
     "data": {
      "text/plain": [
       "'E'"
      ]
     },
     "metadata": {},
     "output_type": "display_data"
    },
    {
     "data": {
      "text/plain": [
       "'E'"
      ]
     },
     "metadata": {},
     "output_type": "display_data"
    },
    {
     "data": {
      "text/plain": [
       "'C'"
      ]
     },
     "metadata": {},
     "output_type": "display_data"
    },
    {
     "data": {
      "text/plain": [
       "'A'"
      ]
     },
     "metadata": {},
     "output_type": "display_data"
    }
   ],
   "source": [
    "def income_group(income):\n",
    "    if income<=30000:\n",
    "        return 'E'\n",
    "    elif income<=50000:\n",
    "        return 'D'\n",
    "    elif income<=200000:\n",
    "        return 'C'\n",
    "    elif income<=1000000:\n",
    "        return 'B'\n",
    "    else:\n",
    "        return 'A'\n",
    "\n",
    "display(income_group(0))\n",
    "display(income_group(1008))\n",
    "display(income_group(50002))\n",
    "display(income_group(9999999))"
   ]
  },
  {
   "cell_type": "markdown",
   "id": "da0d2d03",
   "metadata": {},
   "source": [
    "Теперь применим функцию к столбцу total_income и создадим новый столбец с категорией дохода в таблице."
   ]
  },
  {
   "cell_type": "code",
   "execution_count": 25,
   "id": "83de0e03",
   "metadata": {
    "scrolled": false
   },
   "outputs": [
    {
     "data": {
      "text/html": [
       "<div>\n",
       "<style scoped>\n",
       "    .dataframe tbody tr th:only-of-type {\n",
       "        vertical-align: middle;\n",
       "    }\n",
       "\n",
       "    .dataframe tbody tr th {\n",
       "        vertical-align: top;\n",
       "    }\n",
       "\n",
       "    .dataframe thead th {\n",
       "        text-align: right;\n",
       "    }\n",
       "</style>\n",
       "<table border=\"1\" class=\"dataframe\">\n",
       "  <thead>\n",
       "    <tr style=\"text-align: right;\">\n",
       "      <th></th>\n",
       "      <th>children</th>\n",
       "      <th>days_employed</th>\n",
       "      <th>dob_years</th>\n",
       "      <th>education_id</th>\n",
       "      <th>family_status_id</th>\n",
       "      <th>gender</th>\n",
       "      <th>income_type</th>\n",
       "      <th>debt</th>\n",
       "      <th>total_income</th>\n",
       "      <th>purpose</th>\n",
       "      <th>total_income_category</th>\n",
       "    </tr>\n",
       "  </thead>\n",
       "  <tbody>\n",
       "    <tr>\n",
       "      <th>0</th>\n",
       "      <td>1</td>\n",
       "      <td>8437</td>\n",
       "      <td>42</td>\n",
       "      <td>0</td>\n",
       "      <td>0</td>\n",
       "      <td>F</td>\n",
       "      <td>сотрудник</td>\n",
       "      <td>0</td>\n",
       "      <td>253875</td>\n",
       "      <td>покупка жилья</td>\n",
       "      <td>B</td>\n",
       "    </tr>\n",
       "    <tr>\n",
       "      <th>1</th>\n",
       "      <td>1</td>\n",
       "      <td>4024</td>\n",
       "      <td>36</td>\n",
       "      <td>1</td>\n",
       "      <td>0</td>\n",
       "      <td>F</td>\n",
       "      <td>сотрудник</td>\n",
       "      <td>0</td>\n",
       "      <td>112080</td>\n",
       "      <td>приобретение автомобиля</td>\n",
       "      <td>C</td>\n",
       "    </tr>\n",
       "    <tr>\n",
       "      <th>2</th>\n",
       "      <td>0</td>\n",
       "      <td>5623</td>\n",
       "      <td>33</td>\n",
       "      <td>1</td>\n",
       "      <td>0</td>\n",
       "      <td>M</td>\n",
       "      <td>сотрудник</td>\n",
       "      <td>0</td>\n",
       "      <td>145885</td>\n",
       "      <td>покупка жилья</td>\n",
       "      <td>C</td>\n",
       "    </tr>\n",
       "    <tr>\n",
       "      <th>3</th>\n",
       "      <td>3</td>\n",
       "      <td>4124</td>\n",
       "      <td>32</td>\n",
       "      <td>1</td>\n",
       "      <td>0</td>\n",
       "      <td>M</td>\n",
       "      <td>сотрудник</td>\n",
       "      <td>0</td>\n",
       "      <td>267628</td>\n",
       "      <td>дополнительное образование</td>\n",
       "      <td>B</td>\n",
       "    </tr>\n",
       "    <tr>\n",
       "      <th>4</th>\n",
       "      <td>0</td>\n",
       "      <td>7657</td>\n",
       "      <td>53</td>\n",
       "      <td>1</td>\n",
       "      <td>1</td>\n",
       "      <td>F</td>\n",
       "      <td>пенсионер</td>\n",
       "      <td>0</td>\n",
       "      <td>158616</td>\n",
       "      <td>сыграть свадьбу</td>\n",
       "      <td>C</td>\n",
       "    </tr>\n",
       "    <tr>\n",
       "      <th>5</th>\n",
       "      <td>0</td>\n",
       "      <td>926</td>\n",
       "      <td>27</td>\n",
       "      <td>0</td>\n",
       "      <td>1</td>\n",
       "      <td>M</td>\n",
       "      <td>компаньон</td>\n",
       "      <td>0</td>\n",
       "      <td>255763</td>\n",
       "      <td>покупка жилья</td>\n",
       "      <td>B</td>\n",
       "    </tr>\n",
       "    <tr>\n",
       "      <th>6</th>\n",
       "      <td>0</td>\n",
       "      <td>2879</td>\n",
       "      <td>43</td>\n",
       "      <td>0</td>\n",
       "      <td>0</td>\n",
       "      <td>F</td>\n",
       "      <td>компаньон</td>\n",
       "      <td>0</td>\n",
       "      <td>240525</td>\n",
       "      <td>операции с жильем</td>\n",
       "      <td>B</td>\n",
       "    </tr>\n",
       "    <tr>\n",
       "      <th>7</th>\n",
       "      <td>0</td>\n",
       "      <td>152</td>\n",
       "      <td>50</td>\n",
       "      <td>1</td>\n",
       "      <td>0</td>\n",
       "      <td>M</td>\n",
       "      <td>сотрудник</td>\n",
       "      <td>0</td>\n",
       "      <td>135823</td>\n",
       "      <td>образование</td>\n",
       "      <td>C</td>\n",
       "    </tr>\n",
       "    <tr>\n",
       "      <th>8</th>\n",
       "      <td>2</td>\n",
       "      <td>6929</td>\n",
       "      <td>35</td>\n",
       "      <td>0</td>\n",
       "      <td>1</td>\n",
       "      <td>F</td>\n",
       "      <td>сотрудник</td>\n",
       "      <td>0</td>\n",
       "      <td>95856</td>\n",
       "      <td>на проведение свадьбы</td>\n",
       "      <td>C</td>\n",
       "    </tr>\n",
       "    <tr>\n",
       "      <th>9</th>\n",
       "      <td>0</td>\n",
       "      <td>2188</td>\n",
       "      <td>41</td>\n",
       "      <td>1</td>\n",
       "      <td>0</td>\n",
       "      <td>M</td>\n",
       "      <td>сотрудник</td>\n",
       "      <td>0</td>\n",
       "      <td>144425</td>\n",
       "      <td>покупка жилья для семьи</td>\n",
       "      <td>C</td>\n",
       "    </tr>\n",
       "  </tbody>\n",
       "</table>\n",
       "</div>"
      ],
      "text/plain": [
       "   children  days_employed  dob_years  education_id  family_status_id gender  \\\n",
       "0         1           8437         42             0                 0      F   \n",
       "1         1           4024         36             1                 0      F   \n",
       "2         0           5623         33             1                 0      M   \n",
       "3         3           4124         32             1                 0      M   \n",
       "4         0           7657         53             1                 1      F   \n",
       "5         0            926         27             0                 1      M   \n",
       "6         0           2879         43             0                 0      F   \n",
       "7         0            152         50             1                 0      M   \n",
       "8         2           6929         35             0                 1      F   \n",
       "9         0           2188         41             1                 0      M   \n",
       "\n",
       "  income_type  debt  total_income                     purpose  \\\n",
       "0   сотрудник     0        253875               покупка жилья   \n",
       "1   сотрудник     0        112080     приобретение автомобиля   \n",
       "2   сотрудник     0        145885               покупка жилья   \n",
       "3   сотрудник     0        267628  дополнительное образование   \n",
       "4   пенсионер     0        158616             сыграть свадьбу   \n",
       "5   компаньон     0        255763               покупка жилья   \n",
       "6   компаньон     0        240525           операции с жильем   \n",
       "7   сотрудник     0        135823                 образование   \n",
       "8   сотрудник     0         95856       на проведение свадьбы   \n",
       "9   сотрудник     0        144425     покупка жилья для семьи   \n",
       "\n",
       "  total_income_category  \n",
       "0                     B  \n",
       "1                     C  \n",
       "2                     C  \n",
       "3                     B  \n",
       "4                     C  \n",
       "5                     B  \n",
       "6                     B  \n",
       "7                     C  \n",
       "8                     C  \n",
       "9                     C  "
      ]
     },
     "execution_count": 25,
     "metadata": {},
     "output_type": "execute_result"
    }
   ],
   "source": [
    "main_data['total_income_category'] = main_data['total_income'].apply(income_group)\n",
    "main_data.head(10)"
   ]
  },
  {
   "cell_type": "markdown",
   "id": "d4c0c4c4",
   "metadata": {},
   "source": [
    "Столбец добавился успешно."
   ]
  },
  {
   "cell_type": "markdown",
   "id": "efd12048",
   "metadata": {},
   "source": [
    "### Категоризация целей кредита"
   ]
  },
  {
   "cell_type": "markdown",
   "id": "7b035103",
   "metadata": {},
   "source": [
    "Создадим функцию для категоризации целей кредита. \n",
    "Посмотрим ещё раз уникальные значения столбца purpose и на основе них можно прописать условия в создаваемой функции. Ещё посчитаем количество уникальных элементов, чтобы проверить, что в функции прописаны все."
   ]
  },
  {
   "cell_type": "code",
   "execution_count": 26,
   "id": "5ba2d403",
   "metadata": {
    "scrolled": false
   },
   "outputs": [
    {
     "data": {
      "text/plain": [
       "array(['покупка жилья', 'приобретение автомобиля',\n",
       "       'дополнительное образование', 'сыграть свадьбу',\n",
       "       'операции с жильем', 'образование', 'на проведение свадьбы',\n",
       "       'покупка жилья для семьи', 'покупка недвижимости',\n",
       "       'покупка коммерческой недвижимости', 'покупка жилой недвижимости',\n",
       "       'строительство собственной недвижимости', 'недвижимость',\n",
       "       'строительство недвижимости', 'на покупку подержанного автомобиля',\n",
       "       'на покупку своего автомобиля',\n",
       "       'операции с коммерческой недвижимостью',\n",
       "       'строительство жилой недвижимости', 'жилье',\n",
       "       'операции со своей недвижимостью', 'автомобили',\n",
       "       'заняться образованием', 'сделка с подержанным автомобилем',\n",
       "       'получение образования', 'автомобиль', 'свадьба',\n",
       "       'получение дополнительного образования', 'покупка своего жилья',\n",
       "       'операции с недвижимостью', 'получение высшего образования',\n",
       "       'свой автомобиль', 'сделка с автомобилем',\n",
       "       'профильное образование', 'высшее образование',\n",
       "       'покупка жилья для сдачи', 'на покупку автомобиля', 'ремонт жилью',\n",
       "       'заняться высшим образованием'], dtype=object)"
      ]
     },
     "metadata": {},
     "output_type": "display_data"
    },
    {
     "name": "stdout",
     "output_type": "stream",
     "text": [
      "Длина массива: 38\n"
     ]
    }
   ],
   "source": [
    "display(main_data['purpose'].unique())\n",
    "print('Длина массива:',main_data['purpose'].nunique())"
   ]
  },
  {
   "cell_type": "code",
   "execution_count": 27,
   "id": "cd939a2c",
   "metadata": {},
   "outputs": [],
   "source": [
    "def purpose_group(purpose):\n",
    "    if (purpose=='приобретение автомобиля' or purpose=='на покупку подержанного автомобиля' \n",
    "        or purpose=='на покупку своего автомобиля' or purpose=='автомобили'\n",
    "        or purpose=='сделка с подержанным автомобилем' or purpose=='автомобиль' \n",
    "        or purpose=='свой автомобиль' or purpose=='сделка с автомобилем' or purpose=='на покупку автомобиля'):\n",
    "        return 'операции с автомобилем'\n",
    "    elif (purpose=='покупка жилья' or purpose=='операции с жильем' or purpose=='покупка жилья для семьи'\n",
    "        or purpose=='покупка недвижимости' or purpose=='покупка коммерческой недвижимости'\n",
    "        or purpose=='покупка жилой недвижимости' or purpose=='строительство собственной недвижимости' \n",
    "        or purpose=='недвижимость' or purpose=='строительство недвижимости' \n",
    "        or purpose=='операции с коммерческой недвижимостью' or purpose=='строительство жилой недвижимости'\n",
    "        or purpose=='жилье' or purpose=='операции со своей недвижимостью' or purpose=='покупка своего жилья'\n",
    "        or purpose=='операции с недвижимостью' or purpose=='покупка жилья для сдачи' or purpose=='ремонт жилью'):\n",
    "        return 'операции с недвижимостью'\n",
    "    elif purpose=='сыграть свадьбу' or purpose=='на проведение свадьбы' or purpose=='свадьба':\n",
    "        return 'проведение свадьбы'\n",
    "    elif (purpose=='дополнительное образование' or purpose=='образование' or purpose=='заняться образованием'\n",
    "        or purpose=='получение образования' or purpose=='получение дополнительного образования'\n",
    "        or purpose=='получение высшего образования' or purpose=='профильное образование' \n",
    "        or purpose=='высшее образование' or purpose=='заняться высшим образованием'):\n",
    "        return 'получение образования'\n",
    "    else:\n",
    "        return 'не определено'"
   ]
  },
  {
   "cell_type": "markdown",
   "id": "81773ee5",
   "metadata": {},
   "source": [
    "Теперь можно создавать новый столбец в таблице и применить созданную функцию к столбцу purpose."
   ]
  },
  {
   "cell_type": "code",
   "execution_count": 28,
   "id": "03838da3",
   "metadata": {},
   "outputs": [
    {
     "data": {
      "text/html": [
       "<div>\n",
       "<style scoped>\n",
       "    .dataframe tbody tr th:only-of-type {\n",
       "        vertical-align: middle;\n",
       "    }\n",
       "\n",
       "    .dataframe tbody tr th {\n",
       "        vertical-align: top;\n",
       "    }\n",
       "\n",
       "    .dataframe thead th {\n",
       "        text-align: right;\n",
       "    }\n",
       "</style>\n",
       "<table border=\"1\" class=\"dataframe\">\n",
       "  <thead>\n",
       "    <tr style=\"text-align: right;\">\n",
       "      <th></th>\n",
       "      <th>children</th>\n",
       "      <th>days_employed</th>\n",
       "      <th>dob_years</th>\n",
       "      <th>education_id</th>\n",
       "      <th>family_status_id</th>\n",
       "      <th>gender</th>\n",
       "      <th>income_type</th>\n",
       "      <th>debt</th>\n",
       "      <th>total_income</th>\n",
       "      <th>purpose</th>\n",
       "      <th>total_income_category</th>\n",
       "      <th>purpose_category</th>\n",
       "    </tr>\n",
       "  </thead>\n",
       "  <tbody>\n",
       "    <tr>\n",
       "      <th>0</th>\n",
       "      <td>1</td>\n",
       "      <td>8437</td>\n",
       "      <td>42</td>\n",
       "      <td>0</td>\n",
       "      <td>0</td>\n",
       "      <td>F</td>\n",
       "      <td>сотрудник</td>\n",
       "      <td>0</td>\n",
       "      <td>253875</td>\n",
       "      <td>покупка жилья</td>\n",
       "      <td>B</td>\n",
       "      <td>операции с недвижимостью</td>\n",
       "    </tr>\n",
       "    <tr>\n",
       "      <th>1</th>\n",
       "      <td>1</td>\n",
       "      <td>4024</td>\n",
       "      <td>36</td>\n",
       "      <td>1</td>\n",
       "      <td>0</td>\n",
       "      <td>F</td>\n",
       "      <td>сотрудник</td>\n",
       "      <td>0</td>\n",
       "      <td>112080</td>\n",
       "      <td>приобретение автомобиля</td>\n",
       "      <td>C</td>\n",
       "      <td>операции с автомобилем</td>\n",
       "    </tr>\n",
       "    <tr>\n",
       "      <th>2</th>\n",
       "      <td>0</td>\n",
       "      <td>5623</td>\n",
       "      <td>33</td>\n",
       "      <td>1</td>\n",
       "      <td>0</td>\n",
       "      <td>M</td>\n",
       "      <td>сотрудник</td>\n",
       "      <td>0</td>\n",
       "      <td>145885</td>\n",
       "      <td>покупка жилья</td>\n",
       "      <td>C</td>\n",
       "      <td>операции с недвижимостью</td>\n",
       "    </tr>\n",
       "    <tr>\n",
       "      <th>3</th>\n",
       "      <td>3</td>\n",
       "      <td>4124</td>\n",
       "      <td>32</td>\n",
       "      <td>1</td>\n",
       "      <td>0</td>\n",
       "      <td>M</td>\n",
       "      <td>сотрудник</td>\n",
       "      <td>0</td>\n",
       "      <td>267628</td>\n",
       "      <td>дополнительное образование</td>\n",
       "      <td>B</td>\n",
       "      <td>получение образования</td>\n",
       "    </tr>\n",
       "    <tr>\n",
       "      <th>4</th>\n",
       "      <td>0</td>\n",
       "      <td>7657</td>\n",
       "      <td>53</td>\n",
       "      <td>1</td>\n",
       "      <td>1</td>\n",
       "      <td>F</td>\n",
       "      <td>пенсионер</td>\n",
       "      <td>0</td>\n",
       "      <td>158616</td>\n",
       "      <td>сыграть свадьбу</td>\n",
       "      <td>C</td>\n",
       "      <td>проведение свадьбы</td>\n",
       "    </tr>\n",
       "    <tr>\n",
       "      <th>5</th>\n",
       "      <td>0</td>\n",
       "      <td>926</td>\n",
       "      <td>27</td>\n",
       "      <td>0</td>\n",
       "      <td>1</td>\n",
       "      <td>M</td>\n",
       "      <td>компаньон</td>\n",
       "      <td>0</td>\n",
       "      <td>255763</td>\n",
       "      <td>покупка жилья</td>\n",
       "      <td>B</td>\n",
       "      <td>операции с недвижимостью</td>\n",
       "    </tr>\n",
       "    <tr>\n",
       "      <th>6</th>\n",
       "      <td>0</td>\n",
       "      <td>2879</td>\n",
       "      <td>43</td>\n",
       "      <td>0</td>\n",
       "      <td>0</td>\n",
       "      <td>F</td>\n",
       "      <td>компаньон</td>\n",
       "      <td>0</td>\n",
       "      <td>240525</td>\n",
       "      <td>операции с жильем</td>\n",
       "      <td>B</td>\n",
       "      <td>операции с недвижимостью</td>\n",
       "    </tr>\n",
       "    <tr>\n",
       "      <th>7</th>\n",
       "      <td>0</td>\n",
       "      <td>152</td>\n",
       "      <td>50</td>\n",
       "      <td>1</td>\n",
       "      <td>0</td>\n",
       "      <td>M</td>\n",
       "      <td>сотрудник</td>\n",
       "      <td>0</td>\n",
       "      <td>135823</td>\n",
       "      <td>образование</td>\n",
       "      <td>C</td>\n",
       "      <td>получение образования</td>\n",
       "    </tr>\n",
       "    <tr>\n",
       "      <th>8</th>\n",
       "      <td>2</td>\n",
       "      <td>6929</td>\n",
       "      <td>35</td>\n",
       "      <td>0</td>\n",
       "      <td>1</td>\n",
       "      <td>F</td>\n",
       "      <td>сотрудник</td>\n",
       "      <td>0</td>\n",
       "      <td>95856</td>\n",
       "      <td>на проведение свадьбы</td>\n",
       "      <td>C</td>\n",
       "      <td>проведение свадьбы</td>\n",
       "    </tr>\n",
       "    <tr>\n",
       "      <th>9</th>\n",
       "      <td>0</td>\n",
       "      <td>2188</td>\n",
       "      <td>41</td>\n",
       "      <td>1</td>\n",
       "      <td>0</td>\n",
       "      <td>M</td>\n",
       "      <td>сотрудник</td>\n",
       "      <td>0</td>\n",
       "      <td>144425</td>\n",
       "      <td>покупка жилья для семьи</td>\n",
       "      <td>C</td>\n",
       "      <td>операции с недвижимостью</td>\n",
       "    </tr>\n",
       "  </tbody>\n",
       "</table>\n",
       "</div>"
      ],
      "text/plain": [
       "   children  days_employed  dob_years  education_id  family_status_id gender  \\\n",
       "0         1           8437         42             0                 0      F   \n",
       "1         1           4024         36             1                 0      F   \n",
       "2         0           5623         33             1                 0      M   \n",
       "3         3           4124         32             1                 0      M   \n",
       "4         0           7657         53             1                 1      F   \n",
       "5         0            926         27             0                 1      M   \n",
       "6         0           2879         43             0                 0      F   \n",
       "7         0            152         50             1                 0      M   \n",
       "8         2           6929         35             0                 1      F   \n",
       "9         0           2188         41             1                 0      M   \n",
       "\n",
       "  income_type  debt  total_income                     purpose  \\\n",
       "0   сотрудник     0        253875               покупка жилья   \n",
       "1   сотрудник     0        112080     приобретение автомобиля   \n",
       "2   сотрудник     0        145885               покупка жилья   \n",
       "3   сотрудник     0        267628  дополнительное образование   \n",
       "4   пенсионер     0        158616             сыграть свадьбу   \n",
       "5   компаньон     0        255763               покупка жилья   \n",
       "6   компаньон     0        240525           операции с жильем   \n",
       "7   сотрудник     0        135823                 образование   \n",
       "8   сотрудник     0         95856       на проведение свадьбы   \n",
       "9   сотрудник     0        144425     покупка жилья для семьи   \n",
       "\n",
       "  total_income_category          purpose_category  \n",
       "0                     B  операции с недвижимостью  \n",
       "1                     C    операции с автомобилем  \n",
       "2                     C  операции с недвижимостью  \n",
       "3                     B     получение образования  \n",
       "4                     C        проведение свадьбы  \n",
       "5                     B  операции с недвижимостью  \n",
       "6                     B  операции с недвижимостью  \n",
       "7                     C     получение образования  \n",
       "8                     C        проведение свадьбы  \n",
       "9                     C  операции с недвижимостью  "
      ]
     },
     "execution_count": 28,
     "metadata": {},
     "output_type": "execute_result"
    }
   ],
   "source": [
    "main_data['purpose_category'] = main_data['purpose'].apply(purpose_group)\n",
    "main_data.head(10)"
   ]
  },
  {
   "cell_type": "markdown",
   "id": "62bd9e02",
   "metadata": {},
   "source": [
    "Столбец добавился успешно, функция отработала правильно."
   ]
  },
  {
   "cell_type": "markdown",
   "id": "0f0ecfb7",
   "metadata": {},
   "source": [
    "## Ответы на вопросы"
   ]
  },
  {
   "cell_type": "markdown",
   "id": "fd923830",
   "metadata": {},
   "source": [
    "### Вопрос 1\n",
    "**Есть ли зависимость между количеством детей и возвратом кредита в срок?**"
   ]
  },
  {
   "cell_type": "markdown",
   "id": "306ecb6d",
   "metadata": {},
   "source": [
    "Для ответа на вопрос сгруппируем таблицу по количеству детей. Далее следует посчитать общее количество клиентов в группах и количество должников. После этого посчитать процентное соотношение должников к общему числу клиентов в группе. "
   ]
  },
  {
   "cell_type": "code",
   "execution_count": 29,
   "id": "ea340b7c",
   "metadata": {},
   "outputs": [
    {
     "data": {
      "text/plain": [
       "children\n",
       "0    7.54\n",
       "1    9.23\n",
       "2    9.45\n",
       "3    8.18\n",
       "4    9.76\n",
       "5    0.00\n",
       "Name: debt_ratio, dtype: float64"
      ]
     },
     "execution_count": 29,
     "metadata": {},
     "output_type": "execute_result"
    }
   ],
   "source": [
    "total_number = main_data.groupby(by='children')['debt'].count()\n",
    "debtor_number = main_data.groupby(by='children')['debt'].sum()\n",
    "debt_ratio = (debtor_number/total_number*100).rename('debt_ratio')\n",
    "debt_ratio.round(2)"
   ]
  },
  {
   "cell_type": "markdown",
   "id": "603f1d83",
   "metadata": {},
   "source": [
    "**Ответ на вопрос 1:** чёткой зависимости между количеством детей и возвратом кредита в срок нет. Да, среди клиентов без детей количество должников меньше,но незначительно (менее чем на 2%). Среди клиентов с самой многодетной семьёй (5 детей) нет должников, но и таких клиентов совсем немного в сравнении с другими. "
   ]
  },
  {
   "cell_type": "markdown",
   "id": "4716ed77",
   "metadata": {},
   "source": [
    "### Вопрос 2\n",
    "**Есть ли зависимость между семейным положением и возвратом кредита в срок?**"
   ]
  },
  {
   "cell_type": "markdown",
   "id": "89c0fdb0",
   "metadata": {},
   "source": [
    "Для ответа на вопрос сгруппируем таблицу по семейному положению клиентов. Далее посчитаем процентное соотношение должников к общему числу клиентов в группе. Выведем также словарь с семейным статусом."
   ]
  },
  {
   "cell_type": "code",
   "execution_count": 30,
   "id": "1b674633",
   "metadata": {},
   "outputs": [
    {
     "data": {
      "text/html": [
       "<div>\n",
       "<style scoped>\n",
       "    .dataframe tbody tr th:only-of-type {\n",
       "        vertical-align: middle;\n",
       "    }\n",
       "\n",
       "    .dataframe tbody tr th {\n",
       "        vertical-align: top;\n",
       "    }\n",
       "\n",
       "    .dataframe thead th {\n",
       "        text-align: right;\n",
       "    }\n",
       "</style>\n",
       "<table border=\"1\" class=\"dataframe\">\n",
       "  <thead>\n",
       "    <tr style=\"text-align: right;\">\n",
       "      <th></th>\n",
       "      <th>family_status_id</th>\n",
       "      <th>debt_ratio</th>\n",
       "      <th>family_status</th>\n",
       "    </tr>\n",
       "  </thead>\n",
       "  <tbody>\n",
       "    <tr>\n",
       "      <th>0</th>\n",
       "      <td>0</td>\n",
       "      <td>7.55</td>\n",
       "      <td>женат / замужем</td>\n",
       "    </tr>\n",
       "    <tr>\n",
       "      <th>1</th>\n",
       "      <td>1</td>\n",
       "      <td>9.35</td>\n",
       "      <td>гражданский брак</td>\n",
       "    </tr>\n",
       "    <tr>\n",
       "      <th>2</th>\n",
       "      <td>2</td>\n",
       "      <td>6.57</td>\n",
       "      <td>вдовец / вдова</td>\n",
       "    </tr>\n",
       "    <tr>\n",
       "      <th>3</th>\n",
       "      <td>3</td>\n",
       "      <td>7.11</td>\n",
       "      <td>в разводе</td>\n",
       "    </tr>\n",
       "    <tr>\n",
       "      <th>4</th>\n",
       "      <td>4</td>\n",
       "      <td>9.75</td>\n",
       "      <td>не женат / не замужем</td>\n",
       "    </tr>\n",
       "  </tbody>\n",
       "</table>\n",
       "</div>"
      ],
      "text/plain": [
       "   family_status_id  debt_ratio          family_status\n",
       "0                 0        7.55        женат / замужем\n",
       "1                 1        9.35       гражданский брак\n",
       "2                 2        6.57         вдовец / вдова\n",
       "3                 3        7.11              в разводе\n",
       "4                 4        9.75  не женат / не замужем"
      ]
     },
     "execution_count": 30,
     "metadata": {},
     "output_type": "execute_result"
    }
   ],
   "source": [
    "total_number = main_data.groupby(by='family_status_id')['debt'].count()\n",
    "debtor_number = main_data.groupby(by='family_status_id')['debt'].sum()\n",
    "debt_ratio = (debtor_number/total_number*100).rename('debt_ratio')\n",
    "debt_ratio = debt_ratio.round(2)\n",
    "pd.DataFrame(debt_ratio).merge(family_status_dict, on='family_status_id')"
   ]
  },
  {
   "cell_type": "markdown",
   "id": "2d0c08a4",
   "metadata": {},
   "source": [
    "**Ответ на вопрос 2:** явной зависимости опять не прослеживается. Разница в процентном соотношении должников в группах небольшая. Больше всего должников у тех, кто состоит в гражданском браке или не женат/не замужем. В остальных группах должников немного меньше, это объясняется повышенной ответственностью людей (в браке или после развода/смерти супруга)."
   ]
  },
  {
   "cell_type": "markdown",
   "id": "044d81e3",
   "metadata": {},
   "source": [
    "### Вопрос 3\n",
    "**Есть ли зависимость между уровнем дохода и возвратом кредита в срок?**"
   ]
  },
  {
   "cell_type": "markdown",
   "id": "67dd1450",
   "metadata": {},
   "source": [
    "Для ответа на вопрос сгруппируем таблицу по сформированным заранее категориям дохода клиентов. Далее посчитаем процентное соотношение должников к общему числу клиентов в группе."
   ]
  },
  {
   "cell_type": "code",
   "execution_count": 31,
   "id": "d492145e",
   "metadata": {},
   "outputs": [
    {
     "data": {
      "text/plain": [
       "total_income_category\n",
       "A    8.00\n",
       "B    7.06\n",
       "C    8.49\n",
       "D    6.00\n",
       "E    9.09\n",
       "Name: debt_ratio, dtype: float64"
      ]
     },
     "execution_count": 31,
     "metadata": {},
     "output_type": "execute_result"
    }
   ],
   "source": [
    "total_number = main_data.groupby(by='total_income_category')['debt'].count()\n",
    "debtor_number = main_data.groupby(by='total_income_category')['debt'].sum()\n",
    "debt_ratio = (debtor_number/total_number*100).rename('debt_ratio')\n",
    "debt_ratio.round(2)"
   ]
  },
  {
   "cell_type": "markdown",
   "id": "5f767998",
   "metadata": {},
   "source": [
    "**Ответ на вопрос 3:** явной зависимости снова нет. Но можно сделать вывод: наибольшее число должников среди клиентов с самым низким доходом (группа E), а наименьшее - среди клиентов с доходами от 30 до 50 тыс. Самые большие доходы у клиентов из группы A на возврате кредита в срок особенно не сказываются."
   ]
  },
  {
   "cell_type": "markdown",
   "id": "4f139aa5",
   "metadata": {},
   "source": [
    "### Вопрос 4\n",
    "**Как разные цели кредита влияют на его возврат в срок?**"
   ]
  },
  {
   "cell_type": "markdown",
   "id": "7f806bc5",
   "metadata": {},
   "source": [
    "Выполним те же действия, что и при ответе на предыдущие вопросы. Группировать будем по названиям целей кредита."
   ]
  },
  {
   "cell_type": "code",
   "execution_count": 32,
   "id": "7c2d7347",
   "metadata": {},
   "outputs": [
    {
     "data": {
      "text/plain": [
       "purpose_category\n",
       "операции с автомобилем      9.36\n",
       "операции с недвижимостью    7.23\n",
       "получение образования       9.22\n",
       "проведение свадьбы          8.00\n",
       "Name: debt_ratio, dtype: float64"
      ]
     },
     "execution_count": 32,
     "metadata": {},
     "output_type": "execute_result"
    }
   ],
   "source": [
    "total_number = main_data.groupby(by='purpose_category')['debt'].count()\n",
    "debtor_number = main_data.groupby(by='purpose_category')['debt'].sum()\n",
    "debt_ratio = (debtor_number/total_number*100).rename('debt_ratio')\n",
    "debt_ratio.round(2)"
   ]
  },
  {
   "cell_type": "markdown",
   "id": "d055ed19",
   "metadata": {},
   "source": [
    "**Ответ на вопрос 4:** явной зависимости нет. Но можно сделать вывод, что сильнее всего в худшую сторону на возврат кредита в срок влияют цели \"операции с автомобилем\" и \"получение образования\". "
   ]
  },
  {
   "cell_type": "markdown",
   "id": "5b3d7fbc",
   "metadata": {},
   "source": [
    "## Общий вывод"
   ]
  },
  {
   "cell_type": "markdown",
   "id": "2dcf4a0b",
   "metadata": {},
   "source": [
    "Результаты исследования будут учитываться в системе, которая оценивает способность потенциального заёмщика вернуть кредит банку. Так вот, наименьшей способностью вернуть кредит в срок обладают:\n",
    "- семьи с детьми (от 1 ребёнка и более);\n",
    "- клиенты, находящие в гражданском браке или в статусе \"не женат/не замужем\";\n",
    "- клиенты с ежемесячным доходом до 30 000;\n",
    "- заёмщики, взявшие кредит для операций с автомобилем или на получение образования."
   ]
  }
 ],
 "metadata": {
  "ExecuteTimeLog": [
   {
    "duration": 602,
    "start_time": "2022-03-01T20:17:37.051Z"
   },
   {
    "duration": 18,
    "start_time": "2022-03-01T20:18:56.149Z"
   },
   {
    "duration": 3,
    "start_time": "2022-03-01T20:19:38.174Z"
   },
   {
    "duration": 54,
    "start_time": "2022-03-01T20:21:12.372Z"
   },
   {
    "duration": 13,
    "start_time": "2022-03-01T20:33:04.984Z"
   },
   {
    "duration": 20,
    "start_time": "2022-03-01T20:33:47.022Z"
   },
   {
    "duration": 13,
    "start_time": "2022-03-01T20:34:11.800Z"
   },
   {
    "duration": 11,
    "start_time": "2022-03-01T20:34:36.919Z"
   },
   {
    "duration": 12,
    "start_time": "2022-03-01T20:35:17.092Z"
   },
   {
    "duration": 20,
    "start_time": "2022-03-01T21:14:36.877Z"
   },
   {
    "duration": 21,
    "start_time": "2022-03-01T21:17:52.492Z"
   },
   {
    "duration": 258,
    "start_time": "2022-03-01T21:26:27.352Z"
   },
   {
    "duration": 6,
    "start_time": "2022-03-01T21:26:42.710Z"
   },
   {
    "duration": 7,
    "start_time": "2022-03-01T21:27:47.350Z"
   },
   {
    "duration": 14,
    "start_time": "2022-03-01T21:28:07.965Z"
   },
   {
    "duration": 8,
    "start_time": "2022-03-01T21:29:15.596Z"
   },
   {
    "duration": 8,
    "start_time": "2022-03-01T21:30:34.379Z"
   },
   {
    "duration": 8,
    "start_time": "2022-03-01T21:31:40.815Z"
   },
   {
    "duration": 9,
    "start_time": "2022-03-01T21:32:36.259Z"
   },
   {
    "duration": 6,
    "start_time": "2022-03-01T21:34:14.444Z"
   },
   {
    "duration": 6,
    "start_time": "2022-03-01T21:34:20.324Z"
   },
   {
    "duration": 9,
    "start_time": "2022-03-01T21:38:16.928Z"
   },
   {
    "duration": 9,
    "start_time": "2022-03-01T21:38:55.679Z"
   },
   {
    "duration": 5,
    "start_time": "2022-03-01T21:41:34.660Z"
   },
   {
    "duration": 11,
    "start_time": "2022-03-01T21:43:50.735Z"
   },
   {
    "duration": 10,
    "start_time": "2022-03-01T21:44:04.278Z"
   },
   {
    "duration": 5,
    "start_time": "2022-03-01T21:44:29.748Z"
   },
   {
    "duration": 12,
    "start_time": "2022-03-01T21:50:08.150Z"
   },
   {
    "duration": 51,
    "start_time": "2022-03-01T21:54:02.283Z"
   },
   {
    "duration": 4,
    "start_time": "2022-03-01T21:54:02.336Z"
   },
   {
    "duration": 12,
    "start_time": "2022-03-01T21:54:02.358Z"
   },
   {
    "duration": 13,
    "start_time": "2022-03-01T21:54:02.372Z"
   },
   {
    "duration": 20,
    "start_time": "2022-03-01T21:54:02.401Z"
   },
   {
    "duration": 10,
    "start_time": "2022-03-01T21:54:02.432Z"
   },
   {
    "duration": 4,
    "start_time": "2022-03-01T21:54:02.444Z"
   },
   {
    "duration": 54,
    "start_time": "2022-03-01T21:56:32.532Z"
   },
   {
    "duration": 5,
    "start_time": "2022-03-01T21:56:32.588Z"
   },
   {
    "duration": 14,
    "start_time": "2022-03-01T21:56:32.594Z"
   },
   {
    "duration": 24,
    "start_time": "2022-03-01T21:56:32.609Z"
   },
   {
    "duration": 21,
    "start_time": "2022-03-01T21:56:32.634Z"
   },
   {
    "duration": 11,
    "start_time": "2022-03-01T21:56:32.657Z"
   },
   {
    "duration": 15,
    "start_time": "2022-03-01T21:56:32.669Z"
   },
   {
    "duration": 8,
    "start_time": "2022-03-01T21:58:11.151Z"
   },
   {
    "duration": 6,
    "start_time": "2022-03-01T22:00:09.742Z"
   },
   {
    "duration": 56,
    "start_time": "2022-03-01T22:00:16.137Z"
   },
   {
    "duration": 4,
    "start_time": "2022-03-01T22:00:16.195Z"
   },
   {
    "duration": 13,
    "start_time": "2022-03-01T22:00:16.201Z"
   },
   {
    "duration": 22,
    "start_time": "2022-03-01T22:00:16.216Z"
   },
   {
    "duration": 21,
    "start_time": "2022-03-01T22:00:16.240Z"
   },
   {
    "duration": 10,
    "start_time": "2022-03-01T22:00:16.263Z"
   },
   {
    "duration": 6,
    "start_time": "2022-03-01T22:00:16.274Z"
   },
   {
    "duration": 4372,
    "start_time": "2022-03-01T22:01:47.720Z"
   },
   {
    "duration": 4624,
    "start_time": "2022-03-01T22:05:03.051Z"
   },
   {
    "duration": 59,
    "start_time": "2022-03-01T22:05:16.496Z"
   },
   {
    "duration": 4,
    "start_time": "2022-03-01T22:05:16.556Z"
   },
   {
    "duration": 14,
    "start_time": "2022-03-01T22:05:16.561Z"
   },
   {
    "duration": 14,
    "start_time": "2022-03-01T22:05:16.577Z"
   },
   {
    "duration": 20,
    "start_time": "2022-03-01T22:05:16.593Z"
   },
   {
    "duration": 8,
    "start_time": "2022-03-01T22:05:16.633Z"
   },
   {
    "duration": 4378,
    "start_time": "2022-03-01T22:05:16.642Z"
   },
   {
    "duration": 4,
    "start_time": "2022-03-01T22:05:39.865Z"
   },
   {
    "duration": 4,
    "start_time": "2022-03-01T22:06:01.480Z"
   },
   {
    "duration": 6,
    "start_time": "2022-03-01T22:06:08.022Z"
   },
   {
    "duration": 644,
    "start_time": "2022-03-02T20:19:43.018Z"
   },
   {
    "duration": 8,
    "start_time": "2022-03-02T20:19:43.664Z"
   },
   {
    "duration": 15,
    "start_time": "2022-03-02T20:19:43.674Z"
   },
   {
    "duration": 13,
    "start_time": "2022-03-02T20:19:43.691Z"
   },
   {
    "duration": 39,
    "start_time": "2022-03-02T20:19:43.706Z"
   },
   {
    "duration": 10,
    "start_time": "2022-03-02T20:19:43.747Z"
   },
   {
    "duration": 4,
    "start_time": "2022-03-02T20:19:43.759Z"
   },
   {
    "duration": 8,
    "start_time": "2022-03-02T20:19:43.765Z"
   },
   {
    "duration": 28,
    "start_time": "2022-03-02T20:19:58.348Z"
   },
   {
    "duration": 7,
    "start_time": "2022-03-02T20:20:21.292Z"
   },
   {
    "duration": 9,
    "start_time": "2022-03-02T20:20:37.474Z"
   },
   {
    "duration": 12,
    "start_time": "2022-03-02T20:20:53.465Z"
   },
   {
    "duration": 10,
    "start_time": "2022-03-02T20:35:50.867Z"
   },
   {
    "duration": 32,
    "start_time": "2022-03-02T20:36:17.845Z"
   },
   {
    "duration": 38,
    "start_time": "2022-03-02T20:53:23.401Z"
   },
   {
    "duration": 52,
    "start_time": "2022-03-02T20:53:36.465Z"
   },
   {
    "duration": 4,
    "start_time": "2022-03-02T20:53:36.519Z"
   },
   {
    "duration": 16,
    "start_time": "2022-03-02T20:53:36.525Z"
   },
   {
    "duration": 20,
    "start_time": "2022-03-02T20:53:36.543Z"
   },
   {
    "duration": 35,
    "start_time": "2022-03-02T20:53:36.565Z"
   },
   {
    "duration": 10,
    "start_time": "2022-03-02T20:53:36.602Z"
   },
   {
    "duration": 24,
    "start_time": "2022-03-02T20:53:36.614Z"
   },
   {
    "duration": 21,
    "start_time": "2022-03-02T20:53:36.640Z"
   },
   {
    "duration": 50,
    "start_time": "2022-03-02T21:06:16.935Z"
   },
   {
    "duration": 4,
    "start_time": "2022-03-02T21:06:16.987Z"
   },
   {
    "duration": 16,
    "start_time": "2022-03-02T21:06:16.993Z"
   },
   {
    "duration": 28,
    "start_time": "2022-03-02T21:06:17.011Z"
   },
   {
    "duration": 27,
    "start_time": "2022-03-02T21:06:17.040Z"
   },
   {
    "duration": 9,
    "start_time": "2022-03-02T21:06:17.069Z"
   },
   {
    "duration": 5,
    "start_time": "2022-03-02T21:06:17.079Z"
   },
   {
    "duration": 29,
    "start_time": "2022-03-02T21:06:17.085Z"
   },
   {
    "duration": 244,
    "start_time": "2022-03-02T21:15:21.012Z"
   },
   {
    "duration": 4,
    "start_time": "2022-03-02T21:15:34.839Z"
   },
   {
    "duration": 30,
    "start_time": "2022-03-02T21:15:52.709Z"
   },
   {
    "duration": 1377,
    "start_time": "2022-03-02T21:26:03.377Z"
   },
   {
    "duration": 25,
    "start_time": "2022-03-02T21:27:58.494Z"
   },
   {
    "duration": 19,
    "start_time": "2022-03-02T21:28:23.460Z"
   },
   {
    "duration": 16,
    "start_time": "2022-03-02T21:28:44.435Z"
   },
   {
    "duration": 54,
    "start_time": "2022-03-02T21:29:02.928Z"
   },
   {
    "duration": 4,
    "start_time": "2022-03-02T21:29:02.984Z"
   },
   {
    "duration": 19,
    "start_time": "2022-03-02T21:29:02.990Z"
   },
   {
    "duration": 28,
    "start_time": "2022-03-02T21:29:03.011Z"
   },
   {
    "duration": 19,
    "start_time": "2022-03-02T21:29:03.041Z"
   },
   {
    "duration": 9,
    "start_time": "2022-03-02T21:29:03.062Z"
   },
   {
    "duration": 5,
    "start_time": "2022-03-02T21:29:03.072Z"
   },
   {
    "duration": 19,
    "start_time": "2022-03-02T21:29:03.079Z"
   },
   {
    "duration": 50,
    "start_time": "2022-03-02T21:29:03.101Z"
   },
   {
    "duration": 20,
    "start_time": "2022-03-02T21:32:35.779Z"
   },
   {
    "duration": 20,
    "start_time": "2022-03-02T21:32:51.922Z"
   },
   {
    "duration": 21,
    "start_time": "2022-03-02T21:40:06.662Z"
   },
   {
    "duration": 20,
    "start_time": "2022-03-02T21:40:42.327Z"
   },
   {
    "duration": 19,
    "start_time": "2022-03-02T21:44:31.687Z"
   },
   {
    "duration": 12,
    "start_time": "2022-03-02T21:46:38.107Z"
   },
   {
    "duration": 19,
    "start_time": "2022-03-02T21:47:26.873Z"
   },
   {
    "duration": 7,
    "start_time": "2022-03-02T21:52:55.254Z"
   },
   {
    "duration": 5,
    "start_time": "2022-03-02T21:53:55.679Z"
   },
   {
    "duration": 5,
    "start_time": "2022-03-02T21:54:23.997Z"
   },
   {
    "duration": 4,
    "start_time": "2022-03-02T21:54:38.086Z"
   },
   {
    "duration": 203,
    "start_time": "2022-03-02T21:55:26.792Z"
   },
   {
    "duration": 174,
    "start_time": "2022-03-02T21:55:32.625Z"
   },
   {
    "duration": 178,
    "start_time": "2022-03-02T21:56:03.622Z"
   },
   {
    "duration": 6,
    "start_time": "2022-03-02T21:56:23.453Z"
   },
   {
    "duration": 7,
    "start_time": "2022-03-02T21:58:14.486Z"
   },
   {
    "duration": 6,
    "start_time": "2022-03-02T21:59:33.712Z"
   },
   {
    "duration": 799,
    "start_time": "2022-03-04T21:43:23.616Z"
   },
   {
    "duration": 15,
    "start_time": "2022-03-04T21:43:24.418Z"
   },
   {
    "duration": 33,
    "start_time": "2022-03-04T21:43:24.436Z"
   },
   {
    "duration": 18,
    "start_time": "2022-03-04T21:43:24.473Z"
   },
   {
    "duration": 60,
    "start_time": "2022-03-04T21:43:24.493Z"
   },
   {
    "duration": 15,
    "start_time": "2022-03-04T21:43:24.555Z"
   },
   {
    "duration": 6,
    "start_time": "2022-03-04T21:43:24.572Z"
   },
   {
    "duration": 28,
    "start_time": "2022-03-04T21:43:24.581Z"
   },
   {
    "duration": 73,
    "start_time": "2022-03-04T21:43:24.612Z"
   },
   {
    "duration": 34,
    "start_time": "2022-03-04T21:43:24.687Z"
   },
   {
    "duration": 32,
    "start_time": "2022-03-04T21:43:24.724Z"
   },
   {
    "duration": 66,
    "start_time": "2022-03-04T21:44:14.746Z"
   },
   {
    "duration": 6,
    "start_time": "2022-03-04T21:44:14.815Z"
   },
   {
    "duration": 36,
    "start_time": "2022-03-04T21:44:14.826Z"
   },
   {
    "duration": 22,
    "start_time": "2022-03-04T21:44:14.865Z"
   },
   {
    "duration": 71,
    "start_time": "2022-03-04T21:44:14.890Z"
   },
   {
    "duration": 15,
    "start_time": "2022-03-04T21:44:14.964Z"
   },
   {
    "duration": 7,
    "start_time": "2022-03-04T21:44:14.982Z"
   },
   {
    "duration": 74,
    "start_time": "2022-03-04T21:44:14.992Z"
   },
   {
    "duration": 29,
    "start_time": "2022-03-04T21:44:15.071Z"
   },
   {
    "duration": 57,
    "start_time": "2022-03-04T21:44:15.103Z"
   },
   {
    "duration": 23,
    "start_time": "2022-03-04T21:44:15.163Z"
   },
   {
    "duration": 18,
    "start_time": "2022-03-04T21:56:35.952Z"
   },
   {
    "duration": 44,
    "start_time": "2022-03-04T21:58:54.736Z"
   },
   {
    "duration": 628,
    "start_time": "2022-03-05T20:26:32.065Z"
   },
   {
    "duration": 7,
    "start_time": "2022-03-05T20:26:32.695Z"
   },
   {
    "duration": 12,
    "start_time": "2022-03-05T20:26:32.704Z"
   },
   {
    "duration": 10,
    "start_time": "2022-03-05T20:26:32.718Z"
   },
   {
    "duration": 18,
    "start_time": "2022-03-05T20:26:32.730Z"
   },
   {
    "duration": 8,
    "start_time": "2022-03-05T20:26:32.749Z"
   },
   {
    "duration": 4,
    "start_time": "2022-03-05T20:26:32.759Z"
   },
   {
    "duration": 49,
    "start_time": "2022-03-05T20:26:32.764Z"
   },
   {
    "duration": 18,
    "start_time": "2022-03-05T20:26:32.815Z"
   },
   {
    "duration": 28,
    "start_time": "2022-03-05T20:26:32.834Z"
   },
   {
    "duration": 48,
    "start_time": "2022-03-05T20:26:32.863Z"
   },
   {
    "duration": 23,
    "start_time": "2022-03-05T20:35:36.019Z"
   },
   {
    "duration": 11,
    "start_time": "2022-03-05T20:37:56.843Z"
   },
   {
    "duration": 22,
    "start_time": "2022-03-05T20:38:11.847Z"
   },
   {
    "duration": 16,
    "start_time": "2022-03-05T20:40:05.885Z"
   },
   {
    "duration": 18,
    "start_time": "2022-03-05T20:40:12.564Z"
   },
   {
    "duration": 17,
    "start_time": "2022-03-05T20:40:26.052Z"
   },
   {
    "duration": 17,
    "start_time": "2022-03-05T20:40:36.555Z"
   },
   {
    "duration": 18,
    "start_time": "2022-03-05T20:42:58.618Z"
   },
   {
    "duration": 18,
    "start_time": "2022-03-05T20:43:06.994Z"
   },
   {
    "duration": 13,
    "start_time": "2022-03-05T20:51:48.100Z"
   },
   {
    "duration": 9,
    "start_time": "2022-03-05T20:54:49.151Z"
   },
   {
    "duration": 4,
    "start_time": "2022-03-05T20:55:10.337Z"
   },
   {
    "duration": 4,
    "start_time": "2022-03-05T20:55:20.608Z"
   },
   {
    "duration": 17,
    "start_time": "2022-03-05T20:55:42.591Z"
   },
   {
    "duration": 16,
    "start_time": "2022-03-05T20:55:59.918Z"
   },
   {
    "duration": 4,
    "start_time": "2022-03-05T20:58:10.980Z"
   },
   {
    "duration": 5,
    "start_time": "2022-03-05T20:58:21.076Z"
   },
   {
    "duration": 56,
    "start_time": "2022-03-05T20:58:33.061Z"
   },
   {
    "duration": 3,
    "start_time": "2022-03-05T20:58:33.119Z"
   },
   {
    "duration": 15,
    "start_time": "2022-03-05T20:58:33.123Z"
   },
   {
    "duration": 12,
    "start_time": "2022-03-05T20:58:33.140Z"
   },
   {
    "duration": 20,
    "start_time": "2022-03-05T20:58:33.153Z"
   },
   {
    "duration": 7,
    "start_time": "2022-03-05T20:58:33.174Z"
   },
   {
    "duration": 20,
    "start_time": "2022-03-05T20:58:33.183Z"
   },
   {
    "duration": 13,
    "start_time": "2022-03-05T20:58:33.204Z"
   },
   {
    "duration": 16,
    "start_time": "2022-03-05T20:58:33.219Z"
   },
   {
    "duration": 15,
    "start_time": "2022-03-05T20:58:33.236Z"
   },
   {
    "duration": 56,
    "start_time": "2022-03-05T20:58:33.252Z"
   },
   {
    "duration": 3,
    "start_time": "2022-03-05T20:58:33.309Z"
   },
   {
    "duration": 4,
    "start_time": "2022-03-05T21:01:32.168Z"
   },
   {
    "duration": 8,
    "start_time": "2022-03-05T21:08:51.111Z"
   },
   {
    "duration": 10,
    "start_time": "2022-03-05T21:09:18.345Z"
   },
   {
    "duration": 52,
    "start_time": "2022-03-05T21:09:39.605Z"
   },
   {
    "duration": 3,
    "start_time": "2022-03-05T21:09:39.659Z"
   },
   {
    "duration": 12,
    "start_time": "2022-03-05T21:09:39.664Z"
   },
   {
    "duration": 13,
    "start_time": "2022-03-05T21:09:39.677Z"
   },
   {
    "duration": 22,
    "start_time": "2022-03-05T21:09:39.691Z"
   },
   {
    "duration": 8,
    "start_time": "2022-03-05T21:09:39.714Z"
   },
   {
    "duration": 4,
    "start_time": "2022-03-05T21:09:39.723Z"
   },
   {
    "duration": 13,
    "start_time": "2022-03-05T21:09:39.729Z"
   },
   {
    "duration": 16,
    "start_time": "2022-03-05T21:09:39.744Z"
   },
   {
    "duration": 51,
    "start_time": "2022-03-05T21:09:39.761Z"
   },
   {
    "duration": 26,
    "start_time": "2022-03-05T21:09:39.813Z"
   },
   {
    "duration": 9,
    "start_time": "2022-03-05T21:09:39.840Z"
   },
   {
    "duration": 11,
    "start_time": "2022-03-05T21:09:56.470Z"
   },
   {
    "duration": 10,
    "start_time": "2022-03-05T21:10:12.485Z"
   },
   {
    "duration": 10,
    "start_time": "2022-03-05T21:10:19.997Z"
   },
   {
    "duration": 27,
    "start_time": "2022-03-05T21:27:16.054Z"
   },
   {
    "duration": 28,
    "start_time": "2022-03-05T21:27:35.177Z"
   },
   {
    "duration": 8,
    "start_time": "2022-03-05T21:47:11.823Z"
   },
   {
    "duration": 14,
    "start_time": "2022-03-05T21:47:28.026Z"
   },
   {
    "duration": 14,
    "start_time": "2022-03-05T21:49:17.047Z"
   },
   {
    "duration": 13,
    "start_time": "2022-03-05T21:49:48.041Z"
   },
   {
    "duration": 62,
    "start_time": "2022-03-05T21:50:11.558Z"
   },
   {
    "duration": 3,
    "start_time": "2022-03-05T21:50:11.622Z"
   },
   {
    "duration": 12,
    "start_time": "2022-03-05T21:50:11.627Z"
   },
   {
    "duration": 11,
    "start_time": "2022-03-05T21:50:11.641Z"
   },
   {
    "duration": 20,
    "start_time": "2022-03-05T21:50:11.654Z"
   },
   {
    "duration": 29,
    "start_time": "2022-03-05T21:50:11.675Z"
   },
   {
    "duration": 6,
    "start_time": "2022-03-05T21:50:11.706Z"
   },
   {
    "duration": 14,
    "start_time": "2022-03-05T21:50:11.714Z"
   },
   {
    "duration": 26,
    "start_time": "2022-03-05T21:50:11.731Z"
   },
   {
    "duration": 55,
    "start_time": "2022-03-05T21:50:11.759Z"
   },
   {
    "duration": 39,
    "start_time": "2022-03-05T21:50:11.816Z"
   },
   {
    "duration": 12,
    "start_time": "2022-03-05T21:50:11.857Z"
   },
   {
    "duration": 69,
    "start_time": "2022-03-05T21:50:11.871Z"
   },
   {
    "duration": 21,
    "start_time": "2022-03-05T21:50:11.942Z"
   },
   {
    "duration": 710,
    "start_time": "2022-03-06T11:10:00.907Z"
   },
   {
    "duration": 10,
    "start_time": "2022-03-06T11:10:01.619Z"
   },
   {
    "duration": 47,
    "start_time": "2022-03-06T11:10:01.631Z"
   },
   {
    "duration": 24,
    "start_time": "2022-03-06T11:10:01.680Z"
   },
   {
    "duration": 38,
    "start_time": "2022-03-06T11:10:01.706Z"
   },
   {
    "duration": 24,
    "start_time": "2022-03-06T11:10:01.746Z"
   },
   {
    "duration": 10,
    "start_time": "2022-03-06T11:10:01.778Z"
   },
   {
    "duration": 60,
    "start_time": "2022-03-06T11:10:06.794Z"
   },
   {
    "duration": 4,
    "start_time": "2022-03-06T11:10:06.856Z"
   },
   {
    "duration": 15,
    "start_time": "2022-03-06T11:10:06.862Z"
   },
   {
    "duration": 16,
    "start_time": "2022-03-06T11:10:06.879Z"
   },
   {
    "duration": 24,
    "start_time": "2022-03-06T11:10:06.896Z"
   },
   {
    "duration": 21,
    "start_time": "2022-03-06T11:10:06.922Z"
   },
   {
    "duration": 34,
    "start_time": "2022-03-06T11:10:06.944Z"
   },
   {
    "duration": 7,
    "start_time": "2022-03-06T11:10:06.980Z"
   },
   {
    "duration": 17,
    "start_time": "2022-03-06T11:26:17.841Z"
   },
   {
    "duration": 58,
    "start_time": "2022-03-06T11:34:41.478Z"
   },
   {
    "duration": 4,
    "start_time": "2022-03-06T11:34:41.538Z"
   },
   {
    "duration": 16,
    "start_time": "2022-03-06T11:34:41.544Z"
   },
   {
    "duration": 26,
    "start_time": "2022-03-06T11:34:41.562Z"
   },
   {
    "duration": 25,
    "start_time": "2022-03-06T11:34:41.590Z"
   },
   {
    "duration": 16,
    "start_time": "2022-03-06T11:34:41.616Z"
   },
   {
    "duration": 47,
    "start_time": "2022-03-06T11:34:41.634Z"
   },
   {
    "duration": 10,
    "start_time": "2022-03-06T11:34:41.683Z"
   },
   {
    "duration": 5,
    "start_time": "2022-03-06T11:34:41.695Z"
   },
   {
    "duration": 20,
    "start_time": "2022-03-06T11:34:41.702Z"
   },
   {
    "duration": 66,
    "start_time": "2022-03-06T11:34:41.724Z"
   },
   {
    "duration": 11,
    "start_time": "2022-03-06T11:34:41.792Z"
   },
   {
    "duration": 34,
    "start_time": "2022-03-06T11:34:41.805Z"
   },
   {
    "duration": 45,
    "start_time": "2022-03-06T11:34:41.841Z"
   },
   {
    "duration": 37,
    "start_time": "2022-03-06T11:41:18.514Z"
   },
   {
    "duration": 58,
    "start_time": "2022-03-06T11:41:31.948Z"
   },
   {
    "duration": 4,
    "start_time": "2022-03-06T11:41:32.008Z"
   },
   {
    "duration": 26,
    "start_time": "2022-03-06T11:41:32.014Z"
   },
   {
    "duration": 29,
    "start_time": "2022-03-06T11:41:32.042Z"
   },
   {
    "duration": 28,
    "start_time": "2022-03-06T11:41:32.072Z"
   },
   {
    "duration": 16,
    "start_time": "2022-03-06T11:41:32.102Z"
   },
   {
    "duration": 347,
    "start_time": "2022-03-06T11:41:32.119Z"
   },
   {
    "duration": 510,
    "start_time": "2022-03-06T11:41:31.959Z"
   },
   {
    "duration": 511,
    "start_time": "2022-03-06T11:41:31.959Z"
   },
   {
    "duration": 464,
    "start_time": "2022-03-06T11:41:32.007Z"
   },
   {
    "duration": 464,
    "start_time": "2022-03-06T11:41:32.008Z"
   },
   {
    "duration": 465,
    "start_time": "2022-03-06T11:41:32.009Z"
   },
   {
    "duration": 465,
    "start_time": "2022-03-06T11:41:32.010Z"
   },
   {
    "duration": 58,
    "start_time": "2022-03-06T11:42:00.082Z"
   },
   {
    "duration": 5,
    "start_time": "2022-03-06T11:42:00.142Z"
   },
   {
    "duration": 16,
    "start_time": "2022-03-06T11:42:00.149Z"
   },
   {
    "duration": 21,
    "start_time": "2022-03-06T11:42:00.166Z"
   },
   {
    "duration": 29,
    "start_time": "2022-03-06T11:42:00.189Z"
   },
   {
    "duration": 16,
    "start_time": "2022-03-06T11:42:00.220Z"
   },
   {
    "duration": 50,
    "start_time": "2022-03-06T11:42:00.237Z"
   },
   {
    "duration": 10,
    "start_time": "2022-03-06T11:42:00.290Z"
   },
   {
    "duration": 8,
    "start_time": "2022-03-06T11:42:00.302Z"
   },
   {
    "duration": 32,
    "start_time": "2022-03-06T11:42:00.312Z"
   },
   {
    "duration": 59,
    "start_time": "2022-03-06T11:42:00.346Z"
   },
   {
    "duration": 11,
    "start_time": "2022-03-06T11:42:00.407Z"
   },
   {
    "duration": 78,
    "start_time": "2022-03-06T11:42:00.420Z"
   },
   {
    "duration": 37,
    "start_time": "2022-03-06T11:43:00.595Z"
   },
   {
    "duration": 40,
    "start_time": "2022-03-06T11:43:35.128Z"
   },
   {
    "duration": 70,
    "start_time": "2022-03-06T11:46:37.540Z"
   },
   {
    "duration": 4,
    "start_time": "2022-03-06T11:46:37.612Z"
   },
   {
    "duration": 17,
    "start_time": "2022-03-06T11:46:37.618Z"
   },
   {
    "duration": 16,
    "start_time": "2022-03-06T11:46:37.637Z"
   },
   {
    "duration": 39,
    "start_time": "2022-03-06T11:46:37.655Z"
   },
   {
    "duration": 17,
    "start_time": "2022-03-06T11:46:37.695Z"
   },
   {
    "duration": 23,
    "start_time": "2022-03-06T11:46:37.714Z"
   },
   {
    "duration": 9,
    "start_time": "2022-03-06T11:46:37.739Z"
   },
   {
    "duration": 5,
    "start_time": "2022-03-06T11:46:37.778Z"
   },
   {
    "duration": 21,
    "start_time": "2022-03-06T11:46:37.785Z"
   },
   {
    "duration": 70,
    "start_time": "2022-03-06T11:46:37.808Z"
   },
   {
    "duration": 5,
    "start_time": "2022-03-06T11:47:44.013Z"
   },
   {
    "duration": 6972,
    "start_time": "2022-03-06T11:54:09.088Z"
   },
   {
    "duration": 9,
    "start_time": "2022-03-06T11:54:42.159Z"
   },
   {
    "duration": 58,
    "start_time": "2022-03-06T11:55:49.754Z"
   },
   {
    "duration": 4,
    "start_time": "2022-03-06T11:55:49.814Z"
   },
   {
    "duration": 15,
    "start_time": "2022-03-06T11:55:49.821Z"
   },
   {
    "duration": 15,
    "start_time": "2022-03-06T11:55:49.838Z"
   },
   {
    "duration": 40,
    "start_time": "2022-03-06T11:55:49.855Z"
   },
   {
    "duration": 16,
    "start_time": "2022-03-06T11:55:49.896Z"
   },
   {
    "duration": 21,
    "start_time": "2022-03-06T11:55:49.914Z"
   },
   {
    "duration": 9,
    "start_time": "2022-03-06T11:55:49.937Z"
   },
   {
    "duration": 33,
    "start_time": "2022-03-06T11:55:49.948Z"
   },
   {
    "duration": 21,
    "start_time": "2022-03-06T11:55:49.983Z"
   },
   {
    "duration": 73,
    "start_time": "2022-03-06T11:55:50.005Z"
   },
   {
    "duration": 10,
    "start_time": "2022-03-06T11:55:50.080Z"
   },
   {
    "duration": 31,
    "start_time": "2022-03-06T11:55:50.092Z"
   },
   {
    "duration": 9,
    "start_time": "2022-03-06T11:55:50.125Z"
   },
   {
    "duration": 5,
    "start_time": "2022-03-06T12:01:19.268Z"
   },
   {
    "duration": 5,
    "start_time": "2022-03-06T12:01:26.988Z"
   },
   {
    "duration": 12,
    "start_time": "2022-03-06T12:19:46.699Z"
   },
   {
    "duration": 66,
    "start_time": "2022-03-06T12:20:37.061Z"
   },
   {
    "duration": 3,
    "start_time": "2022-03-06T12:20:37.129Z"
   },
   {
    "duration": 18,
    "start_time": "2022-03-06T12:20:37.134Z"
   },
   {
    "duration": 24,
    "start_time": "2022-03-06T12:20:37.154Z"
   },
   {
    "duration": 23,
    "start_time": "2022-03-06T12:20:37.179Z"
   },
   {
    "duration": 10,
    "start_time": "2022-03-06T12:20:37.203Z"
   },
   {
    "duration": 29,
    "start_time": "2022-03-06T12:34:05.160Z"
   },
   {
    "duration": 23,
    "start_time": "2022-03-06T12:36:26.019Z"
   },
   {
    "duration": 58,
    "start_time": "2022-03-06T12:37:16.193Z"
   },
   {
    "duration": 5,
    "start_time": "2022-03-06T12:37:16.254Z"
   },
   {
    "duration": 16,
    "start_time": "2022-03-06T12:37:16.261Z"
   },
   {
    "duration": 21,
    "start_time": "2022-03-06T12:37:16.279Z"
   },
   {
    "duration": 31,
    "start_time": "2022-03-06T12:37:16.302Z"
   },
   {
    "duration": 12,
    "start_time": "2022-03-06T12:37:16.335Z"
   },
   {
    "duration": 45,
    "start_time": "2022-03-06T12:37:16.349Z"
   },
   {
    "duration": 11,
    "start_time": "2022-03-06T12:37:16.398Z"
   },
   {
    "duration": 7,
    "start_time": "2022-03-06T12:37:16.411Z"
   },
   {
    "duration": 18,
    "start_time": "2022-03-06T12:40:49.033Z"
   },
   {
    "duration": 23,
    "start_time": "2022-03-06T12:41:14.776Z"
   },
   {
    "duration": 57,
    "start_time": "2022-03-06T12:47:45.492Z"
   },
   {
    "duration": 3,
    "start_time": "2022-03-06T12:47:45.551Z"
   },
   {
    "duration": 16,
    "start_time": "2022-03-06T12:47:45.557Z"
   },
   {
    "duration": 17,
    "start_time": "2022-03-06T12:47:45.575Z"
   },
   {
    "duration": 25,
    "start_time": "2022-03-06T12:47:45.593Z"
   },
   {
    "duration": 10,
    "start_time": "2022-03-06T12:47:45.620Z"
   },
   {
    "duration": 45,
    "start_time": "2022-03-06T12:47:45.632Z"
   },
   {
    "duration": 9,
    "start_time": "2022-03-06T12:47:45.679Z"
   },
   {
    "duration": 4,
    "start_time": "2022-03-06T12:47:45.691Z"
   },
   {
    "duration": 22,
    "start_time": "2022-03-06T12:47:45.697Z"
   },
   {
    "duration": 90,
    "start_time": "2022-03-06T12:47:45.721Z"
   },
   {
    "duration": 16,
    "start_time": "2022-03-06T12:47:45.813Z"
   },
   {
    "duration": 60,
    "start_time": "2022-03-06T12:47:45.831Z"
   },
   {
    "duration": 10,
    "start_time": "2022-03-06T12:47:45.893Z"
   },
   {
    "duration": 16,
    "start_time": "2022-03-06T12:47:45.905Z"
   },
   {
    "duration": 13,
    "start_time": "2022-03-06T12:48:07.700Z"
   },
   {
    "duration": 57,
    "start_time": "2022-03-06T12:48:52.142Z"
   },
   {
    "duration": 3,
    "start_time": "2022-03-06T12:48:52.202Z"
   },
   {
    "duration": 14,
    "start_time": "2022-03-06T12:48:52.208Z"
   },
   {
    "duration": 15,
    "start_time": "2022-03-06T12:48:52.223Z"
   },
   {
    "duration": 43,
    "start_time": "2022-03-06T12:48:52.239Z"
   },
   {
    "duration": 10,
    "start_time": "2022-03-06T12:48:52.283Z"
   },
   {
    "duration": 23,
    "start_time": "2022-03-06T12:48:52.294Z"
   },
   {
    "duration": 9,
    "start_time": "2022-03-06T12:48:52.318Z"
   },
   {
    "duration": 4,
    "start_time": "2022-03-06T12:48:52.330Z"
   },
   {
    "duration": 56,
    "start_time": "2022-03-06T12:48:52.336Z"
   },
   {
    "duration": 37,
    "start_time": "2022-03-06T12:48:52.393Z"
   },
   {
    "duration": 12,
    "start_time": "2022-03-06T12:48:52.432Z"
   },
   {
    "duration": 5,
    "start_time": "2022-03-06T12:49:22.512Z"
   },
   {
    "duration": 5,
    "start_time": "2022-03-06T12:49:55.613Z"
   },
   {
    "duration": 7,
    "start_time": "2022-03-06T12:50:26.795Z"
   },
   {
    "duration": 12,
    "start_time": "2022-03-06T12:52:08.317Z"
   },
   {
    "duration": 57,
    "start_time": "2022-03-06T12:52:21.630Z"
   },
   {
    "duration": 5,
    "start_time": "2022-03-06T12:52:21.689Z"
   },
   {
    "duration": 16,
    "start_time": "2022-03-06T12:52:21.696Z"
   },
   {
    "duration": 18,
    "start_time": "2022-03-06T12:52:21.715Z"
   },
   {
    "duration": 47,
    "start_time": "2022-03-06T12:52:21.735Z"
   },
   {
    "duration": 12,
    "start_time": "2022-03-06T12:52:21.784Z"
   },
   {
    "duration": 23,
    "start_time": "2022-03-06T12:52:21.798Z"
   },
   {
    "duration": 11,
    "start_time": "2022-03-06T12:52:21.824Z"
   },
   {
    "duration": 43,
    "start_time": "2022-03-06T12:52:21.838Z"
   },
   {
    "duration": 29,
    "start_time": "2022-03-06T12:52:21.882Z"
   },
   {
    "duration": 66,
    "start_time": "2022-03-06T12:52:21.912Z"
   },
   {
    "duration": 11,
    "start_time": "2022-03-06T12:52:21.981Z"
   },
   {
    "duration": 57,
    "start_time": "2022-03-06T12:52:32.871Z"
   },
   {
    "duration": 4,
    "start_time": "2022-03-06T12:52:32.930Z"
   },
   {
    "duration": 22,
    "start_time": "2022-03-06T12:52:32.936Z"
   },
   {
    "duration": 28,
    "start_time": "2022-03-06T12:52:32.960Z"
   },
   {
    "duration": 26,
    "start_time": "2022-03-06T12:52:32.990Z"
   },
   {
    "duration": 10,
    "start_time": "2022-03-06T12:52:33.018Z"
   },
   {
    "duration": 28,
    "start_time": "2022-03-06T12:52:33.029Z"
   },
   {
    "duration": 25,
    "start_time": "2022-03-06T12:52:33.059Z"
   },
   {
    "duration": 10,
    "start_time": "2022-03-06T12:52:33.086Z"
   },
   {
    "duration": 24,
    "start_time": "2022-03-06T12:52:33.098Z"
   },
   {
    "duration": 68,
    "start_time": "2022-03-06T12:52:33.124Z"
   },
   {
    "duration": 9,
    "start_time": "2022-03-06T12:52:33.194Z"
   },
   {
    "duration": 43,
    "start_time": "2022-03-06T12:52:33.205Z"
   },
   {
    "duration": 33,
    "start_time": "2022-03-06T12:52:33.250Z"
   },
   {
    "duration": 16,
    "start_time": "2022-03-06T12:52:33.285Z"
   },
   {
    "duration": 22,
    "start_time": "2022-03-06T12:54:49.786Z"
   },
   {
    "duration": 20,
    "start_time": "2022-03-06T13:06:37.571Z"
   },
   {
    "duration": 12,
    "start_time": "2022-03-06T13:07:57.101Z"
   },
   {
    "duration": 286,
    "start_time": "2022-03-06T13:09:25.383Z"
   },
   {
    "duration": 22,
    "start_time": "2022-03-06T13:09:47.174Z"
   },
   {
    "duration": 58,
    "start_time": "2022-03-06T13:09:53.114Z"
   },
   {
    "duration": 4,
    "start_time": "2022-03-06T13:09:53.173Z"
   },
   {
    "duration": 19,
    "start_time": "2022-03-06T13:09:53.179Z"
   },
   {
    "duration": 14,
    "start_time": "2022-03-06T13:09:53.200Z"
   },
   {
    "duration": 24,
    "start_time": "2022-03-06T13:09:53.216Z"
   },
   {
    "duration": 10,
    "start_time": "2022-03-06T13:09:53.241Z"
   },
   {
    "duration": 46,
    "start_time": "2022-03-06T13:09:53.253Z"
   },
   {
    "duration": 10,
    "start_time": "2022-03-06T13:09:53.300Z"
   },
   {
    "duration": 5,
    "start_time": "2022-03-06T13:09:53.312Z"
   },
   {
    "duration": 21,
    "start_time": "2022-03-06T13:09:53.319Z"
   },
   {
    "duration": 70,
    "start_time": "2022-03-06T13:09:53.342Z"
   },
   {
    "duration": 11,
    "start_time": "2022-03-06T13:09:53.414Z"
   },
   {
    "duration": 68,
    "start_time": "2022-03-06T13:09:53.426Z"
   },
   {
    "duration": 9,
    "start_time": "2022-03-06T13:09:53.495Z"
   },
   {
    "duration": 18,
    "start_time": "2022-03-06T13:09:53.505Z"
   },
   {
    "duration": 18,
    "start_time": "2022-03-06T13:09:53.525Z"
   },
   {
    "duration": 53,
    "start_time": "2022-03-06T13:09:53.544Z"
   },
   {
    "duration": 11,
    "start_time": "2022-03-06T13:09:53.598Z"
   },
   {
    "duration": 19,
    "start_time": "2022-03-06T13:16:09.857Z"
   },
   {
    "duration": 63,
    "start_time": "2022-03-06T13:16:31.138Z"
   },
   {
    "duration": 4,
    "start_time": "2022-03-06T13:16:31.203Z"
   },
   {
    "duration": 19,
    "start_time": "2022-03-06T13:16:31.210Z"
   },
   {
    "duration": 18,
    "start_time": "2022-03-06T13:16:31.231Z"
   },
   {
    "duration": 44,
    "start_time": "2022-03-06T13:16:31.251Z"
   },
   {
    "duration": 12,
    "start_time": "2022-03-06T13:16:31.297Z"
   },
   {
    "duration": 24,
    "start_time": "2022-03-06T13:16:31.311Z"
   },
   {
    "duration": 42,
    "start_time": "2022-03-06T13:16:31.337Z"
   },
   {
    "duration": 5,
    "start_time": "2022-03-06T13:16:31.382Z"
   },
   {
    "duration": 23,
    "start_time": "2022-03-06T13:16:31.389Z"
   },
   {
    "duration": 68,
    "start_time": "2022-03-06T13:16:31.413Z"
   },
   {
    "duration": 9,
    "start_time": "2022-03-06T13:16:31.483Z"
   },
   {
    "duration": 33,
    "start_time": "2022-03-06T13:16:31.494Z"
   },
   {
    "duration": 9,
    "start_time": "2022-03-06T13:16:31.528Z"
   },
   {
    "duration": 45,
    "start_time": "2022-03-06T13:16:31.539Z"
   },
   {
    "duration": 17,
    "start_time": "2022-03-06T13:16:31.586Z"
   },
   {
    "duration": 30,
    "start_time": "2022-03-06T13:16:31.605Z"
   },
   {
    "duration": 5,
    "start_time": "2022-03-06T13:22:51.126Z"
   },
   {
    "duration": 67,
    "start_time": "2022-03-06T13:23:00.067Z"
   },
   {
    "duration": 4,
    "start_time": "2022-03-06T13:23:00.136Z"
   },
   {
    "duration": 17,
    "start_time": "2022-03-06T13:23:00.142Z"
   },
   {
    "duration": 17,
    "start_time": "2022-03-06T13:23:00.161Z"
   },
   {
    "duration": 10,
    "start_time": "2022-03-06T13:23:00.179Z"
   },
   {
    "duration": 5,
    "start_time": "2022-03-06T13:23:54.511Z"
   },
   {
    "duration": 56,
    "start_time": "2022-03-06T13:24:00.234Z"
   },
   {
    "duration": 3,
    "start_time": "2022-03-06T13:24:00.292Z"
   },
   {
    "duration": 17,
    "start_time": "2022-03-06T13:24:00.297Z"
   },
   {
    "duration": 17,
    "start_time": "2022-03-06T13:24:00.315Z"
   },
   {
    "duration": 9,
    "start_time": "2022-03-06T13:24:00.334Z"
   },
   {
    "duration": 291,
    "start_time": "2022-03-06T13:28:00.431Z"
   },
   {
    "duration": 4,
    "start_time": "2022-03-06T13:28:04.334Z"
   },
   {
    "duration": 54,
    "start_time": "2022-03-06T13:28:07.892Z"
   },
   {
    "duration": 4,
    "start_time": "2022-03-06T13:28:07.948Z"
   },
   {
    "duration": 22,
    "start_time": "2022-03-06T13:28:07.954Z"
   },
   {
    "duration": 19,
    "start_time": "2022-03-06T13:28:07.978Z"
   },
   {
    "duration": 24,
    "start_time": "2022-03-06T13:28:07.999Z"
   },
   {
    "duration": 10,
    "start_time": "2022-03-06T13:28:08.026Z"
   },
   {
    "duration": 43,
    "start_time": "2022-03-06T13:28:08.038Z"
   },
   {
    "duration": 10,
    "start_time": "2022-03-06T13:28:08.082Z"
   },
   {
    "duration": 5,
    "start_time": "2022-03-06T13:28:08.095Z"
   },
   {
    "duration": 20,
    "start_time": "2022-03-06T13:28:08.102Z"
   },
   {
    "duration": 82,
    "start_time": "2022-03-06T13:28:08.125Z"
   },
   {
    "duration": 11,
    "start_time": "2022-03-06T13:28:08.209Z"
   },
   {
    "duration": 66,
    "start_time": "2022-03-06T13:28:08.223Z"
   },
   {
    "duration": 8,
    "start_time": "2022-03-06T13:28:08.290Z"
   },
   {
    "duration": 26,
    "start_time": "2022-03-06T13:28:08.300Z"
   },
   {
    "duration": 17,
    "start_time": "2022-03-06T13:28:08.327Z"
   },
   {
    "duration": 45,
    "start_time": "2022-03-06T13:28:08.346Z"
   },
   {
    "duration": 20,
    "start_time": "2022-03-06T13:28:08.393Z"
   },
   {
    "duration": 3,
    "start_time": "2022-03-06T13:28:08.415Z"
   },
   {
    "duration": 8,
    "start_time": "2022-03-06T13:43:19.342Z"
   },
   {
    "duration": 60,
    "start_time": "2022-03-06T13:43:25.053Z"
   },
   {
    "duration": 3,
    "start_time": "2022-03-06T13:43:25.115Z"
   },
   {
    "duration": 19,
    "start_time": "2022-03-06T13:43:25.121Z"
   },
   {
    "duration": 15,
    "start_time": "2022-03-06T13:43:25.142Z"
   },
   {
    "duration": 31,
    "start_time": "2022-03-06T13:43:25.159Z"
   },
   {
    "duration": 10,
    "start_time": "2022-03-06T13:43:25.192Z"
   },
   {
    "duration": 24,
    "start_time": "2022-03-06T13:43:25.204Z"
   },
   {
    "duration": 9,
    "start_time": "2022-03-06T13:43:25.229Z"
   },
   {
    "duration": 8,
    "start_time": "2022-03-06T13:43:25.241Z"
   },
   {
    "duration": 19,
    "start_time": "2022-03-06T13:43:25.278Z"
   },
   {
    "duration": 39,
    "start_time": "2022-03-06T13:43:25.298Z"
   },
   {
    "duration": 45,
    "start_time": "2022-03-06T13:43:25.339Z"
   },
   {
    "duration": 47,
    "start_time": "2022-03-06T13:43:25.387Z"
   },
   {
    "duration": 8,
    "start_time": "2022-03-06T13:43:25.436Z"
   },
   {
    "duration": 43,
    "start_time": "2022-03-06T13:43:25.446Z"
   },
   {
    "duration": 18,
    "start_time": "2022-03-06T13:43:25.491Z"
   },
   {
    "duration": 33,
    "start_time": "2022-03-06T13:43:25.511Z"
   },
   {
    "duration": 46,
    "start_time": "2022-03-06T13:43:25.546Z"
   },
   {
    "duration": 4,
    "start_time": "2022-03-06T13:43:25.594Z"
   },
   {
    "duration": 11,
    "start_time": "2022-03-06T13:43:25.599Z"
   },
   {
    "duration": 14,
    "start_time": "2022-03-06T13:43:34.632Z"
   },
   {
    "duration": 12,
    "start_time": "2022-03-06T13:49:45.080Z"
   },
   {
    "duration": 12,
    "start_time": "2022-03-06T13:50:04.651Z"
   },
   {
    "duration": 6,
    "start_time": "2022-03-06T13:56:19.577Z"
   },
   {
    "duration": 6,
    "start_time": "2022-03-06T13:56:26.766Z"
   },
   {
    "duration": 14,
    "start_time": "2022-03-06T13:56:53.404Z"
   },
   {
    "duration": 14,
    "start_time": "2022-03-06T13:56:59.079Z"
   },
   {
    "duration": 3,
    "start_time": "2022-03-06T14:10:24.386Z"
   },
   {
    "duration": 4,
    "start_time": "2022-03-06T14:10:53.028Z"
   },
   {
    "duration": 8,
    "start_time": "2022-03-06T14:14:13.131Z"
   },
   {
    "duration": 10,
    "start_time": "2022-03-06T14:17:27.793Z"
   },
   {
    "duration": 20,
    "start_time": "2022-03-06T14:17:42.272Z"
   },
   {
    "duration": 8,
    "start_time": "2022-03-06T14:20:26.149Z"
   },
   {
    "duration": 115,
    "start_time": "2022-03-06T14:20:41.429Z"
   },
   {
    "duration": 7,
    "start_time": "2022-03-06T14:20:48.132Z"
   },
   {
    "duration": 7,
    "start_time": "2022-03-06T14:20:52.883Z"
   },
   {
    "duration": 8,
    "start_time": "2022-03-06T14:21:14.290Z"
   },
   {
    "duration": 85,
    "start_time": "2022-03-06T14:21:52.584Z"
   },
   {
    "duration": 6369,
    "start_time": "2022-03-06T15:53:41.121Z"
   },
   {
    "duration": 69,
    "start_time": "2022-03-06T15:54:46.836Z"
   },
   {
    "duration": 4,
    "start_time": "2022-03-06T15:54:46.907Z"
   },
   {
    "duration": 14,
    "start_time": "2022-03-06T15:54:46.913Z"
   },
   {
    "duration": 15,
    "start_time": "2022-03-06T15:54:46.929Z"
   },
   {
    "duration": 43,
    "start_time": "2022-03-06T15:54:46.946Z"
   },
   {
    "duration": 11,
    "start_time": "2022-03-06T15:54:46.991Z"
   },
   {
    "duration": 25,
    "start_time": "2022-03-06T15:54:47.003Z"
   },
   {
    "duration": 11,
    "start_time": "2022-03-06T15:54:47.030Z"
   },
   {
    "duration": 6,
    "start_time": "2022-03-06T15:54:47.076Z"
   },
   {
    "duration": 21,
    "start_time": "2022-03-06T15:54:47.085Z"
   },
   {
    "duration": 76,
    "start_time": "2022-03-06T15:54:47.108Z"
   },
   {
    "duration": 37,
    "start_time": "2022-03-06T15:55:12.830Z"
   },
   {
    "duration": 6,
    "start_time": "2022-03-06T15:55:49.987Z"
   },
   {
    "duration": 5,
    "start_time": "2022-03-06T15:57:30.645Z"
   },
   {
    "duration": 87,
    "start_time": "2022-03-06T16:12:48.069Z"
   },
   {
    "duration": 90,
    "start_time": "2022-03-06T16:13:03.103Z"
   },
   {
    "duration": 3,
    "start_time": "2022-03-06T16:16:05.806Z"
   },
   {
    "duration": 6,
    "start_time": "2022-03-06T16:18:01.506Z"
   },
   {
    "duration": 5,
    "start_time": "2022-03-06T16:31:13.739Z"
   },
   {
    "duration": 6,
    "start_time": "2022-03-06T16:35:44.170Z"
   },
   {
    "duration": 439,
    "start_time": "2022-03-06T16:36:06.932Z"
   },
   {
    "duration": 6,
    "start_time": "2022-03-06T16:36:54.320Z"
   },
   {
    "duration": 8,
    "start_time": "2022-03-06T16:37:03.144Z"
   },
   {
    "duration": 93,
    "start_time": "2022-03-06T16:37:35.702Z"
   },
   {
    "duration": 11,
    "start_time": "2022-03-06T16:37:43.759Z"
   },
   {
    "duration": 10,
    "start_time": "2022-03-06T16:38:05.940Z"
   },
   {
    "duration": 12,
    "start_time": "2022-03-06T16:38:30.771Z"
   },
   {
    "duration": 10,
    "start_time": "2022-03-06T16:38:57.569Z"
   },
   {
    "duration": 9,
    "start_time": "2022-03-06T16:39:34.830Z"
   },
   {
    "duration": 67,
    "start_time": "2022-03-06T16:40:56.296Z"
   },
   {
    "duration": 4,
    "start_time": "2022-03-06T16:40:56.366Z"
   },
   {
    "duration": 16,
    "start_time": "2022-03-06T16:40:56.373Z"
   },
   {
    "duration": 16,
    "start_time": "2022-03-06T16:40:56.391Z"
   },
   {
    "duration": 25,
    "start_time": "2022-03-06T16:40:56.408Z"
   },
   {
    "duration": 10,
    "start_time": "2022-03-06T16:40:56.436Z"
   },
   {
    "duration": 51,
    "start_time": "2022-03-06T16:40:56.448Z"
   },
   {
    "duration": 11,
    "start_time": "2022-03-06T16:40:56.501Z"
   },
   {
    "duration": 5,
    "start_time": "2022-03-06T16:40:56.516Z"
   },
   {
    "duration": 54,
    "start_time": "2022-03-06T16:40:56.524Z"
   },
   {
    "duration": 41,
    "start_time": "2022-03-06T16:40:56.580Z"
   },
   {
    "duration": 10,
    "start_time": "2022-03-06T16:40:56.623Z"
   },
   {
    "duration": 70,
    "start_time": "2022-03-06T16:40:56.635Z"
   },
   {
    "duration": 9,
    "start_time": "2022-03-06T16:40:56.707Z"
   },
   {
    "duration": 15,
    "start_time": "2022-03-06T16:40:56.718Z"
   },
   {
    "duration": 43,
    "start_time": "2022-03-06T16:40:56.735Z"
   },
   {
    "duration": 32,
    "start_time": "2022-03-06T16:40:56.780Z"
   },
   {
    "duration": 22,
    "start_time": "2022-03-06T16:40:56.814Z"
   },
   {
    "duration": 3,
    "start_time": "2022-03-06T16:40:56.838Z"
   },
   {
    "duration": 40,
    "start_time": "2022-03-06T16:40:56.843Z"
   },
   {
    "duration": 13,
    "start_time": "2022-03-06T16:40:56.884Z"
   },
   {
    "duration": 12,
    "start_time": "2022-03-06T16:40:56.899Z"
   },
   {
    "duration": 8,
    "start_time": "2022-03-06T16:40:56.913Z"
   },
   {
    "duration": 56,
    "start_time": "2022-03-06T16:40:56.922Z"
   },
   {
    "duration": 29,
    "start_time": "2022-03-06T16:42:45.410Z"
   },
   {
    "duration": 26,
    "start_time": "2022-03-06T16:43:25.635Z"
   },
   {
    "duration": 289,
    "start_time": "2022-03-06T17:18:18.605Z"
   },
   {
    "duration": 260,
    "start_time": "2022-03-06T17:18:26.749Z"
   },
   {
    "duration": 9,
    "start_time": "2022-03-06T17:18:48.459Z"
   },
   {
    "duration": 6,
    "start_time": "2022-03-06T17:21:01.476Z"
   },
   {
    "duration": 7,
    "start_time": "2022-03-06T17:21:10.314Z"
   },
   {
    "duration": 6,
    "start_time": "2022-03-06T17:21:23.625Z"
   },
   {
    "duration": 6,
    "start_time": "2022-03-06T17:23:43.203Z"
   },
   {
    "duration": 7,
    "start_time": "2022-03-06T17:23:49.833Z"
   },
   {
    "duration": 5,
    "start_time": "2022-03-06T17:29:38.857Z"
   },
   {
    "duration": 9,
    "start_time": "2022-03-06T17:31:52.534Z"
   },
   {
    "duration": 11,
    "start_time": "2022-03-06T17:32:35.220Z"
   },
   {
    "duration": 61,
    "start_time": "2022-03-06T17:32:41.367Z"
   },
   {
    "duration": 4,
    "start_time": "2022-03-06T17:32:41.430Z"
   },
   {
    "duration": 14,
    "start_time": "2022-03-06T17:32:41.436Z"
   },
   {
    "duration": 13,
    "start_time": "2022-03-06T17:32:41.478Z"
   },
   {
    "duration": 23,
    "start_time": "2022-03-06T17:32:41.493Z"
   },
   {
    "duration": 10,
    "start_time": "2022-03-06T17:32:41.518Z"
   },
   {
    "duration": 52,
    "start_time": "2022-03-06T17:32:41.529Z"
   },
   {
    "duration": 9,
    "start_time": "2022-03-06T17:32:41.583Z"
   },
   {
    "duration": 5,
    "start_time": "2022-03-06T17:32:41.595Z"
   },
   {
    "duration": 20,
    "start_time": "2022-03-06T17:32:41.602Z"
   },
   {
    "duration": 71,
    "start_time": "2022-03-06T17:32:41.623Z"
   },
   {
    "duration": 9,
    "start_time": "2022-03-06T17:32:41.696Z"
   },
   {
    "duration": 34,
    "start_time": "2022-03-06T17:32:41.707Z"
   },
   {
    "duration": 35,
    "start_time": "2022-03-06T17:32:41.743Z"
   },
   {
    "duration": 17,
    "start_time": "2022-03-06T17:32:41.780Z"
   },
   {
    "duration": 18,
    "start_time": "2022-03-06T17:32:41.798Z"
   },
   {
    "duration": 29,
    "start_time": "2022-03-06T17:32:41.817Z"
   },
   {
    "duration": 50,
    "start_time": "2022-03-06T17:32:41.848Z"
   },
   {
    "duration": 4,
    "start_time": "2022-03-06T17:32:41.900Z"
   },
   {
    "duration": 14,
    "start_time": "2022-03-06T17:32:41.906Z"
   },
   {
    "duration": 13,
    "start_time": "2022-03-06T17:32:41.922Z"
   },
   {
    "duration": 42,
    "start_time": "2022-03-06T17:32:41.936Z"
   },
   {
    "duration": 9,
    "start_time": "2022-03-06T17:32:41.980Z"
   },
   {
    "duration": 21,
    "start_time": "2022-03-06T17:32:41.990Z"
   },
   {
    "duration": 9,
    "start_time": "2022-03-06T17:32:42.013Z"
   },
   {
    "duration": 6,
    "start_time": "2022-03-06T17:32:42.024Z"
   },
   {
    "duration": 67,
    "start_time": "2022-03-06T17:32:42.033Z"
   },
   {
    "duration": 13,
    "start_time": "2022-03-06T17:32:42.102Z"
   },
   {
    "duration": 10,
    "start_time": "2022-03-06T17:38:10.855Z"
   },
   {
    "duration": 373,
    "start_time": "2022-03-06T17:40:45.276Z"
   },
   {
    "duration": 10,
    "start_time": "2022-03-06T17:42:22.590Z"
   },
   {
    "duration": 9,
    "start_time": "2022-03-06T17:42:32.766Z"
   },
   {
    "duration": 10,
    "start_time": "2022-03-06T17:43:12.466Z"
   },
   {
    "duration": 9,
    "start_time": "2022-03-06T17:47:13.798Z"
   },
   {
    "duration": 13,
    "start_time": "2022-03-06T17:47:32.617Z"
   },
   {
    "duration": 12,
    "start_time": "2022-03-06T17:54:30.830Z"
   },
   {
    "duration": 7,
    "start_time": "2022-03-06T17:55:50.548Z"
   },
   {
    "duration": 62,
    "start_time": "2022-03-06T17:56:16.878Z"
   },
   {
    "duration": 4,
    "start_time": "2022-03-06T17:56:16.943Z"
   },
   {
    "duration": 38,
    "start_time": "2022-03-06T17:56:16.950Z"
   },
   {
    "duration": 16,
    "start_time": "2022-03-06T17:56:16.991Z"
   },
   {
    "duration": 24,
    "start_time": "2022-03-06T17:56:17.009Z"
   },
   {
    "duration": 12,
    "start_time": "2022-03-06T17:56:17.035Z"
   },
   {
    "duration": 49,
    "start_time": "2022-03-06T17:56:17.049Z"
   },
   {
    "duration": 11,
    "start_time": "2022-03-06T17:56:17.100Z"
   },
   {
    "duration": 9,
    "start_time": "2022-03-06T17:56:17.114Z"
   },
   {
    "duration": 30,
    "start_time": "2022-03-06T17:56:17.125Z"
   },
   {
    "duration": 47,
    "start_time": "2022-03-06T17:56:17.177Z"
   },
   {
    "duration": 9,
    "start_time": "2022-03-06T17:56:17.226Z"
   },
   {
    "duration": 65,
    "start_time": "2022-03-06T17:56:17.236Z"
   },
   {
    "duration": 9,
    "start_time": "2022-03-06T17:56:17.303Z"
   },
   {
    "duration": 16,
    "start_time": "2022-03-06T17:56:17.313Z"
   },
   {
    "duration": 18,
    "start_time": "2022-03-06T17:56:17.330Z"
   },
   {
    "duration": 32,
    "start_time": "2022-03-06T17:56:17.378Z"
   },
   {
    "duration": 22,
    "start_time": "2022-03-06T17:56:17.412Z"
   },
   {
    "duration": 3,
    "start_time": "2022-03-06T17:56:17.436Z"
   },
   {
    "duration": 42,
    "start_time": "2022-03-06T17:56:17.441Z"
   },
   {
    "duration": 13,
    "start_time": "2022-03-06T17:56:17.484Z"
   },
   {
    "duration": 12,
    "start_time": "2022-03-06T17:56:17.498Z"
   },
   {
    "duration": 8,
    "start_time": "2022-03-06T17:56:17.512Z"
   },
   {
    "duration": 19,
    "start_time": "2022-03-06T17:56:17.522Z"
   },
   {
    "duration": 9,
    "start_time": "2022-03-06T17:56:17.577Z"
   },
   {
    "duration": 7,
    "start_time": "2022-03-06T17:56:17.588Z"
   },
   {
    "duration": 37,
    "start_time": "2022-03-06T17:56:17.598Z"
   },
   {
    "duration": 9,
    "start_time": "2022-03-06T17:56:17.637Z"
   },
   {
    "duration": 7,
    "start_time": "2022-03-06T17:56:24.702Z"
   },
   {
    "duration": 14,
    "start_time": "2022-03-06T17:59:44.097Z"
   },
   {
    "duration": 10,
    "start_time": "2022-03-06T18:12:10.385Z"
   },
   {
    "duration": 10,
    "start_time": "2022-03-06T18:12:39.552Z"
   },
   {
    "duration": 9,
    "start_time": "2022-03-06T18:14:24.847Z"
   },
   {
    "duration": 13,
    "start_time": "2022-03-06T18:16:08.089Z"
   },
   {
    "duration": 67,
    "start_time": "2022-03-06T18:20:57.794Z"
   },
   {
    "duration": 4,
    "start_time": "2022-03-06T18:20:57.862Z"
   },
   {
    "duration": 15,
    "start_time": "2022-03-06T18:20:57.868Z"
   },
   {
    "duration": 15,
    "start_time": "2022-03-06T18:20:57.885Z"
   },
   {
    "duration": 23,
    "start_time": "2022-03-06T18:20:57.901Z"
   },
   {
    "duration": 10,
    "start_time": "2022-03-06T18:20:57.926Z"
   },
   {
    "duration": 49,
    "start_time": "2022-03-06T18:20:57.939Z"
   },
   {
    "duration": 9,
    "start_time": "2022-03-06T18:20:57.990Z"
   },
   {
    "duration": 4,
    "start_time": "2022-03-06T18:20:58.002Z"
   },
   {
    "duration": 20,
    "start_time": "2022-03-06T18:20:58.008Z"
   },
   {
    "duration": 69,
    "start_time": "2022-03-06T18:20:58.030Z"
   },
   {
    "duration": 10,
    "start_time": "2022-03-06T18:20:58.101Z"
   },
   {
    "duration": 31,
    "start_time": "2022-03-06T18:20:58.113Z"
   },
   {
    "duration": 9,
    "start_time": "2022-03-06T18:20:58.177Z"
   },
   {
    "duration": 15,
    "start_time": "2022-03-06T18:20:58.188Z"
   },
   {
    "duration": 18,
    "start_time": "2022-03-06T18:20:58.204Z"
   },
   {
    "duration": 58,
    "start_time": "2022-03-06T18:20:58.223Z"
   },
   {
    "duration": 22,
    "start_time": "2022-03-06T18:20:58.283Z"
   },
   {
    "duration": 4,
    "start_time": "2022-03-06T18:20:58.308Z"
   },
   {
    "duration": 13,
    "start_time": "2022-03-06T18:20:58.314Z"
   },
   {
    "duration": 49,
    "start_time": "2022-03-06T18:20:58.329Z"
   },
   {
    "duration": 14,
    "start_time": "2022-03-06T18:20:58.380Z"
   },
   {
    "duration": 11,
    "start_time": "2022-03-06T18:20:58.399Z"
   },
   {
    "duration": 36,
    "start_time": "2022-03-06T18:20:58.412Z"
   },
   {
    "duration": 31,
    "start_time": "2022-03-06T18:20:58.450Z"
   },
   {
    "duration": 6,
    "start_time": "2022-03-06T18:20:58.483Z"
   },
   {
    "duration": 40,
    "start_time": "2022-03-06T18:20:58.491Z"
   },
   {
    "duration": 11,
    "start_time": "2022-03-06T18:20:58.533Z"
   },
   {
    "duration": 12,
    "start_time": "2022-03-06T18:20:58.545Z"
   },
   {
    "duration": 10,
    "start_time": "2022-03-06T18:29:20.781Z"
   },
   {
    "duration": 269,
    "start_time": "2022-03-06T18:47:01.437Z"
   },
   {
    "duration": 273,
    "start_time": "2022-03-06T18:47:14.333Z"
   },
   {
    "duration": 27,
    "start_time": "2022-03-06T18:48:12.818Z"
   },
   {
    "duration": 9,
    "start_time": "2022-03-06T18:49:27.324Z"
   },
   {
    "duration": 12,
    "start_time": "2022-03-06T18:51:19.299Z"
   },
   {
    "duration": 13,
    "start_time": "2022-03-06T18:54:05.065Z"
   },
   {
    "duration": 60,
    "start_time": "2022-03-06T18:54:23.391Z"
   },
   {
    "duration": 4,
    "start_time": "2022-03-06T18:54:23.453Z"
   },
   {
    "duration": 21,
    "start_time": "2022-03-06T18:54:23.459Z"
   },
   {
    "duration": 14,
    "start_time": "2022-03-06T18:54:23.482Z"
   },
   {
    "duration": 29,
    "start_time": "2022-03-06T18:54:23.498Z"
   },
   {
    "duration": 11,
    "start_time": "2022-03-06T18:54:23.529Z"
   },
   {
    "duration": 44,
    "start_time": "2022-03-06T18:54:23.542Z"
   },
   {
    "duration": 9,
    "start_time": "2022-03-06T18:54:23.587Z"
   },
   {
    "duration": 4,
    "start_time": "2022-03-06T18:54:23.599Z"
   },
   {
    "duration": 19,
    "start_time": "2022-03-06T18:54:23.605Z"
   },
   {
    "duration": 75,
    "start_time": "2022-03-06T18:54:23.626Z"
   },
   {
    "duration": 10,
    "start_time": "2022-03-06T18:54:23.703Z"
   },
   {
    "duration": 63,
    "start_time": "2022-03-06T18:54:23.715Z"
   },
   {
    "duration": 9,
    "start_time": "2022-03-06T18:54:23.780Z"
   },
   {
    "duration": 17,
    "start_time": "2022-03-06T18:54:23.790Z"
   },
   {
    "duration": 17,
    "start_time": "2022-03-06T18:54:23.808Z"
   },
   {
    "duration": 60,
    "start_time": "2022-03-06T18:54:23.827Z"
   },
   {
    "duration": 21,
    "start_time": "2022-03-06T18:54:23.889Z"
   },
   {
    "duration": 4,
    "start_time": "2022-03-06T18:54:23.911Z"
   },
   {
    "duration": 14,
    "start_time": "2022-03-06T18:54:23.917Z"
   },
   {
    "duration": 44,
    "start_time": "2022-03-06T18:54:23.933Z"
   },
   {
    "duration": 14,
    "start_time": "2022-03-06T18:54:23.979Z"
   },
   {
    "duration": 10,
    "start_time": "2022-03-06T18:54:23.996Z"
   },
   {
    "duration": 21,
    "start_time": "2022-03-06T18:54:24.008Z"
   },
   {
    "duration": 51,
    "start_time": "2022-03-06T18:54:24.031Z"
   },
   {
    "duration": 7,
    "start_time": "2022-03-06T18:54:24.084Z"
   },
   {
    "duration": 33,
    "start_time": "2022-03-06T18:54:24.095Z"
   },
   {
    "duration": 12,
    "start_time": "2022-03-06T18:54:24.131Z"
   },
   {
    "duration": 44,
    "start_time": "2022-03-06T18:54:24.145Z"
   },
   {
    "duration": 11,
    "start_time": "2022-03-06T18:54:24.191Z"
   },
   {
    "duration": 13,
    "start_time": "2022-03-06T18:54:24.204Z"
   },
   {
    "duration": 691,
    "start_time": "2022-03-06T19:03:04.847Z"
   },
   {
    "duration": 9,
    "start_time": "2022-03-06T19:03:05.540Z"
   },
   {
    "duration": 21,
    "start_time": "2022-03-06T19:03:05.552Z"
   },
   {
    "duration": 13,
    "start_time": "2022-03-06T19:03:05.575Z"
   },
   {
    "duration": 27,
    "start_time": "2022-03-06T19:03:05.590Z"
   },
   {
    "duration": 10,
    "start_time": "2022-03-06T19:03:05.619Z"
   },
   {
    "duration": 23,
    "start_time": "2022-03-06T19:03:05.631Z"
   },
   {
    "duration": 30,
    "start_time": "2022-03-06T19:03:05.656Z"
   },
   {
    "duration": 5,
    "start_time": "2022-03-06T19:03:05.689Z"
   },
   {
    "duration": 19,
    "start_time": "2022-03-06T19:03:05.696Z"
   },
   {
    "duration": 80,
    "start_time": "2022-03-06T19:03:05.717Z"
   },
   {
    "duration": 11,
    "start_time": "2022-03-06T19:03:05.799Z"
   },
   {
    "duration": 66,
    "start_time": "2022-03-06T19:03:05.812Z"
   },
   {
    "duration": 8,
    "start_time": "2022-03-06T19:03:05.880Z"
   },
   {
    "duration": 18,
    "start_time": "2022-03-06T19:03:05.890Z"
   },
   {
    "duration": 18,
    "start_time": "2022-03-06T19:03:05.910Z"
   },
   {
    "duration": 61,
    "start_time": "2022-03-06T19:03:05.930Z"
   },
   {
    "duration": 22,
    "start_time": "2022-03-06T19:03:05.993Z"
   },
   {
    "duration": 4,
    "start_time": "2022-03-06T19:03:06.017Z"
   },
   {
    "duration": 16,
    "start_time": "2022-03-06T19:03:06.022Z"
   },
   {
    "duration": 38,
    "start_time": "2022-03-06T19:03:06.040Z"
   },
   {
    "duration": 14,
    "start_time": "2022-03-06T19:03:06.080Z"
   },
   {
    "duration": 9,
    "start_time": "2022-03-06T19:03:06.096Z"
   },
   {
    "duration": 21,
    "start_time": "2022-03-06T19:03:06.107Z"
   },
   {
    "duration": 8,
    "start_time": "2022-03-06T19:03:06.130Z"
   },
   {
    "duration": 5,
    "start_time": "2022-03-06T19:03:06.177Z"
   },
   {
    "duration": 31,
    "start_time": "2022-03-06T19:03:06.185Z"
   },
   {
    "duration": 11,
    "start_time": "2022-03-06T19:03:06.217Z"
   },
   {
    "duration": 12,
    "start_time": "2022-03-06T19:03:06.230Z"
   },
   {
    "duration": 39,
    "start_time": "2022-03-06T19:03:06.244Z"
   },
   {
    "duration": 13,
    "start_time": "2022-03-06T19:03:06.284Z"
   },
   {
    "duration": 95,
    "start_time": "2022-03-14T20:59:07.415Z"
   },
   {
    "duration": 346,
    "start_time": "2022-03-14T23:29:39.425Z"
   },
   {
    "duration": 860,
    "start_time": "2022-03-14T23:29:53.829Z"
   },
   {
    "duration": 14,
    "start_time": "2022-03-14T23:29:54.692Z"
   },
   {
    "duration": 24,
    "start_time": "2022-03-14T23:29:54.709Z"
   },
   {
    "duration": 44,
    "start_time": "2022-03-14T23:29:54.736Z"
   },
   {
    "duration": 42,
    "start_time": "2022-03-14T23:29:54.782Z"
   },
   {
    "duration": 14,
    "start_time": "2022-03-14T23:29:54.827Z"
   },
   {
    "duration": 85,
    "start_time": "2022-03-14T23:29:54.843Z"
   },
   {
    "duration": 13,
    "start_time": "2022-03-14T23:29:54.932Z"
   },
   {
    "duration": 7,
    "start_time": "2022-03-14T23:29:54.948Z"
   },
   {
    "duration": 42,
    "start_time": "2022-03-14T23:29:54.957Z"
   },
   {
    "duration": 98,
    "start_time": "2022-03-14T23:29:55.001Z"
   },
   {
    "duration": 19,
    "start_time": "2022-03-14T23:29:55.102Z"
   },
   {
    "duration": 99,
    "start_time": "2022-03-14T23:29:55.124Z"
   },
   {
    "duration": 17,
    "start_time": "2022-03-14T23:29:55.225Z"
   },
   {
    "duration": 55,
    "start_time": "2022-03-14T23:29:55.245Z"
   },
   {
    "duration": 36,
    "start_time": "2022-03-14T23:29:55.303Z"
   },
   {
    "duration": 75,
    "start_time": "2022-03-14T23:29:55.342Z"
   },
   {
    "duration": 32,
    "start_time": "2022-03-14T23:29:55.420Z"
   },
   {
    "duration": 7,
    "start_time": "2022-03-14T23:29:55.474Z"
   },
   {
    "duration": 18,
    "start_time": "2022-03-14T23:29:55.484Z"
   },
   {
    "duration": 18,
    "start_time": "2022-03-14T23:29:55.505Z"
   },
   {
    "duration": 62,
    "start_time": "2022-03-14T23:29:55.526Z"
   },
   {
    "duration": 11,
    "start_time": "2022-03-14T23:29:55.595Z"
   },
   {
    "duration": 71,
    "start_time": "2022-03-14T23:29:55.609Z"
   },
   {
    "duration": 11,
    "start_time": "2022-03-14T23:29:55.682Z"
   },
   {
    "duration": 7,
    "start_time": "2022-03-14T23:29:55.696Z"
   },
   {
    "duration": 67,
    "start_time": "2022-03-14T23:29:55.706Z"
   },
   {
    "duration": 16,
    "start_time": "2022-03-14T23:29:55.775Z"
   },
   {
    "duration": 312,
    "start_time": "2022-03-14T23:29:55.793Z"
   },
   {
    "duration": 2210,
    "start_time": "2022-03-14T23:29:53.898Z"
   },
   {
    "duration": 2210,
    "start_time": "2022-03-14T23:29:53.899Z"
   },
   {
    "duration": 2210,
    "start_time": "2022-03-14T23:29:53.900Z"
   },
   {
    "duration": 317,
    "start_time": "2022-03-14T23:30:38.217Z"
   },
   {
    "duration": 72,
    "start_time": "2022-03-14T23:30:55.755Z"
   },
   {
    "duration": 6,
    "start_time": "2022-03-14T23:30:55.831Z"
   },
   {
    "duration": 52,
    "start_time": "2022-03-14T23:30:55.841Z"
   },
   {
    "duration": 21,
    "start_time": "2022-03-14T23:30:55.896Z"
   },
   {
    "duration": 56,
    "start_time": "2022-03-14T23:30:55.920Z"
   },
   {
    "duration": 14,
    "start_time": "2022-03-14T23:30:55.979Z"
   },
   {
    "duration": 33,
    "start_time": "2022-03-14T23:30:55.996Z"
   },
   {
    "duration": 46,
    "start_time": "2022-03-14T23:30:56.031Z"
   },
   {
    "duration": 7,
    "start_time": "2022-03-14T23:30:56.081Z"
   },
   {
    "duration": 32,
    "start_time": "2022-03-14T23:30:56.091Z"
   },
   {
    "duration": 99,
    "start_time": "2022-03-14T23:30:56.126Z"
   },
   {
    "duration": 57,
    "start_time": "2022-03-14T23:30:56.228Z"
   },
   {
    "duration": 86,
    "start_time": "2022-03-14T23:30:56.288Z"
   },
   {
    "duration": 16,
    "start_time": "2022-03-14T23:30:56.377Z"
   },
   {
    "duration": 36,
    "start_time": "2022-03-14T23:30:56.396Z"
   },
   {
    "duration": 61,
    "start_time": "2022-03-14T23:30:56.436Z"
   },
   {
    "duration": 83,
    "start_time": "2022-03-14T23:30:56.500Z"
   },
   {
    "duration": 43,
    "start_time": "2022-03-14T23:30:56.586Z"
   },
   {
    "duration": 6,
    "start_time": "2022-03-14T23:30:56.632Z"
   },
   {
    "duration": 44,
    "start_time": "2022-03-14T23:30:56.641Z"
   },
   {
    "duration": 17,
    "start_time": "2022-03-14T23:30:56.688Z"
   },
   {
    "duration": 19,
    "start_time": "2022-03-14T23:30:56.707Z"
   },
   {
    "duration": 51,
    "start_time": "2022-03-14T23:30:56.728Z"
   },
   {
    "duration": 31,
    "start_time": "2022-03-14T23:30:56.782Z"
   },
   {
    "duration": 12,
    "start_time": "2022-03-14T23:30:56.816Z"
   },
   {
    "duration": 45,
    "start_time": "2022-03-14T23:30:56.831Z"
   },
   {
    "duration": 57,
    "start_time": "2022-03-14T23:30:56.881Z"
   },
   {
    "duration": 15,
    "start_time": "2022-03-14T23:30:56.941Z"
   },
   {
    "duration": 308,
    "start_time": "2022-03-14T23:30:56.958Z"
   },
   {
    "duration": 2204,
    "start_time": "2022-03-14T23:30:55.066Z"
   },
   {
    "duration": 2203,
    "start_time": "2022-03-14T23:30:55.068Z"
   },
   {
    "duration": 2202,
    "start_time": "2022-03-14T23:30:55.072Z"
   },
   {
    "duration": 766,
    "start_time": "2022-03-14T23:41:00.728Z"
   },
   {
    "duration": 25,
    "start_time": "2022-03-14T23:51:17.742Z"
   },
   {
    "duration": 73,
    "start_time": "2022-03-15T00:08:25.258Z"
   },
   {
    "duration": 6,
    "start_time": "2022-03-15T00:08:25.334Z"
   },
   {
    "duration": 45,
    "start_time": "2022-03-15T00:08:25.344Z"
   },
   {
    "duration": 31,
    "start_time": "2022-03-15T00:08:25.392Z"
   },
   {
    "duration": 49,
    "start_time": "2022-03-15T00:08:25.426Z"
   },
   {
    "duration": 15,
    "start_time": "2022-03-15T00:08:25.478Z"
   },
   {
    "duration": 34,
    "start_time": "2022-03-15T00:08:25.496Z"
   },
   {
    "duration": 47,
    "start_time": "2022-03-15T00:08:25.532Z"
   },
   {
    "duration": 7,
    "start_time": "2022-03-15T00:08:25.583Z"
   },
   {
    "duration": 30,
    "start_time": "2022-03-15T00:08:25.592Z"
   },
   {
    "duration": 90,
    "start_time": "2022-03-15T00:08:25.625Z"
   },
   {
    "duration": 15,
    "start_time": "2022-03-15T00:08:25.718Z"
   },
   {
    "duration": 80,
    "start_time": "2022-03-15T00:08:25.735Z"
   },
   {
    "duration": 12,
    "start_time": "2022-03-15T00:08:25.817Z"
   },
   {
    "duration": 55,
    "start_time": "2022-03-15T00:08:25.831Z"
   },
   {
    "duration": 26,
    "start_time": "2022-03-15T00:08:25.889Z"
   },
   {
    "duration": 74,
    "start_time": "2022-03-15T00:08:25.917Z"
   },
   {
    "duration": 30,
    "start_time": "2022-03-15T00:08:25.994Z"
   },
   {
    "duration": 4,
    "start_time": "2022-03-15T00:08:26.027Z"
   },
   {
    "duration": 45,
    "start_time": "2022-03-15T00:08:26.033Z"
   },
   {
    "duration": 16,
    "start_time": "2022-03-15T00:08:26.081Z"
   },
   {
    "duration": 105,
    "start_time": "2022-03-15T00:08:26.099Z"
   },
   {
    "duration": 11,
    "start_time": "2022-03-15T00:11:03.423Z"
   },
   {
    "duration": 78,
    "start_time": "2022-03-15T00:12:29.947Z"
   },
   {
    "duration": 6,
    "start_time": "2022-03-15T00:12:30.027Z"
   },
   {
    "duration": 45,
    "start_time": "2022-03-15T00:12:30.036Z"
   },
   {
    "duration": 28,
    "start_time": "2022-03-15T00:12:30.084Z"
   },
   {
    "duration": 46,
    "start_time": "2022-03-15T00:12:30.114Z"
   },
   {
    "duration": 14,
    "start_time": "2022-03-15T00:12:30.174Z"
   },
   {
    "duration": 41,
    "start_time": "2022-03-15T00:12:30.191Z"
   },
   {
    "duration": 39,
    "start_time": "2022-03-15T00:12:30.234Z"
   },
   {
    "duration": 7,
    "start_time": "2022-03-15T00:12:30.277Z"
   },
   {
    "duration": 33,
    "start_time": "2022-03-15T00:12:30.287Z"
   },
   {
    "duration": 88,
    "start_time": "2022-03-15T00:12:30.322Z"
   },
   {
    "duration": 15,
    "start_time": "2022-03-15T00:12:30.412Z"
   },
   {
    "duration": 82,
    "start_time": "2022-03-15T00:12:30.429Z"
   },
   {
    "duration": 27,
    "start_time": "2022-03-15T00:12:30.514Z"
   },
   {
    "duration": 38,
    "start_time": "2022-03-15T00:12:30.544Z"
   },
   {
    "duration": 26,
    "start_time": "2022-03-15T00:12:30.585Z"
   },
   {
    "duration": 77,
    "start_time": "2022-03-15T00:12:30.614Z"
   },
   {
    "duration": 33,
    "start_time": "2022-03-15T00:12:30.693Z"
   },
   {
    "duration": 5,
    "start_time": "2022-03-15T00:12:30.728Z"
   },
   {
    "duration": 50,
    "start_time": "2022-03-15T00:12:30.735Z"
   },
   {
    "duration": 22,
    "start_time": "2022-03-15T00:12:30.788Z"
   },
   {
    "duration": 23,
    "start_time": "2022-03-15T00:12:30.813Z"
   },
   {
    "duration": 37,
    "start_time": "2022-03-15T00:12:30.839Z"
   },
   {
    "duration": 122,
    "start_time": "2022-03-15T00:15:04.160Z"
   },
   {
    "duration": 11,
    "start_time": "2022-03-15T00:15:13.927Z"
   },
   {
    "duration": 76,
    "start_time": "2022-03-15T00:16:28.532Z"
   },
   {
    "duration": 6,
    "start_time": "2022-03-15T00:16:28.610Z"
   },
   {
    "duration": 20,
    "start_time": "2022-03-15T00:16:28.619Z"
   },
   {
    "duration": 42,
    "start_time": "2022-03-15T00:16:28.643Z"
   },
   {
    "duration": 34,
    "start_time": "2022-03-15T00:16:28.688Z"
   },
   {
    "duration": 14,
    "start_time": "2022-03-15T00:16:28.724Z"
   },
   {
    "duration": 64,
    "start_time": "2022-03-15T00:16:28.741Z"
   },
   {
    "duration": 14,
    "start_time": "2022-03-15T00:16:28.811Z"
   },
   {
    "duration": 46,
    "start_time": "2022-03-15T00:16:28.829Z"
   },
   {
    "duration": 31,
    "start_time": "2022-03-15T00:16:28.879Z"
   },
   {
    "duration": 99,
    "start_time": "2022-03-15T00:16:28.913Z"
   },
   {
    "duration": 17,
    "start_time": "2022-03-15T00:16:29.015Z"
   },
   {
    "duration": 48,
    "start_time": "2022-03-15T00:16:29.074Z"
   },
   {
    "duration": 13,
    "start_time": "2022-03-15T00:16:29.125Z"
   },
   {
    "duration": 22,
    "start_time": "2022-03-15T00:16:29.174Z"
   },
   {
    "duration": 27,
    "start_time": "2022-03-15T00:16:29.198Z"
   },
   {
    "duration": 77,
    "start_time": "2022-03-15T00:16:29.227Z"
   },
   {
    "duration": 31,
    "start_time": "2022-03-15T00:16:29.307Z"
   },
   {
    "duration": 5,
    "start_time": "2022-03-15T00:16:29.340Z"
   },
   {
    "duration": 42,
    "start_time": "2022-03-15T00:16:29.347Z"
   },
   {
    "duration": 17,
    "start_time": "2022-03-15T00:16:29.391Z"
   },
   {
    "duration": 19,
    "start_time": "2022-03-15T00:16:29.410Z"
   },
   {
    "duration": 46,
    "start_time": "2022-03-15T00:16:29.433Z"
   },
   {
    "duration": 30,
    "start_time": "2022-03-15T00:16:29.482Z"
   },
   {
    "duration": 16,
    "start_time": "2022-03-15T00:16:29.515Z"
   },
   {
    "duration": 7,
    "start_time": "2022-03-15T00:20:15.516Z"
   },
   {
    "duration": 72,
    "start_time": "2022-03-15T00:20:22.696Z"
   },
   {
    "duration": 5,
    "start_time": "2022-03-15T00:20:22.774Z"
   },
   {
    "duration": 20,
    "start_time": "2022-03-15T00:20:22.782Z"
   },
   {
    "duration": 21,
    "start_time": "2022-03-15T00:20:22.805Z"
   },
   {
    "duration": 67,
    "start_time": "2022-03-15T00:20:22.829Z"
   },
   {
    "duration": 14,
    "start_time": "2022-03-15T00:20:22.898Z"
   },
   {
    "duration": 33,
    "start_time": "2022-03-15T00:20:22.914Z"
   },
   {
    "duration": 13,
    "start_time": "2022-03-15T00:20:22.975Z"
   },
   {
    "duration": 8,
    "start_time": "2022-03-15T00:20:22.992Z"
   },
   {
    "duration": 30,
    "start_time": "2022-03-15T00:20:23.004Z"
   },
   {
    "duration": 108,
    "start_time": "2022-03-15T00:20:23.074Z"
   },
   {
    "duration": 17,
    "start_time": "2022-03-15T00:20:23.185Z"
   },
   {
    "duration": 77,
    "start_time": "2022-03-15T00:20:23.205Z"
   },
   {
    "duration": 12,
    "start_time": "2022-03-15T00:20:23.284Z"
   },
   {
    "duration": 22,
    "start_time": "2022-03-15T00:20:23.298Z"
   },
   {
    "duration": 62,
    "start_time": "2022-03-15T00:20:23.323Z"
   },
   {
    "duration": 49,
    "start_time": "2022-03-15T00:20:23.388Z"
   },
   {
    "duration": 52,
    "start_time": "2022-03-15T00:20:23.439Z"
   },
   {
    "duration": 5,
    "start_time": "2022-03-15T00:20:23.493Z"
   },
   {
    "duration": 19,
    "start_time": "2022-03-15T00:20:23.500Z"
   },
   {
    "duration": 16,
    "start_time": "2022-03-15T00:20:23.521Z"
   },
   {
    "duration": 20,
    "start_time": "2022-03-15T00:20:23.573Z"
   },
   {
    "duration": 12,
    "start_time": "2022-03-15T00:20:23.597Z"
   },
   {
    "duration": 64,
    "start_time": "2022-03-15T00:20:23.612Z"
   },
   {
    "duration": 13,
    "start_time": "2022-03-15T00:20:23.679Z"
   },
   {
    "duration": 8,
    "start_time": "2022-03-15T00:20:23.695Z"
   },
   {
    "duration": 78,
    "start_time": "2022-03-15T00:20:23.705Z"
   },
   {
    "duration": 23,
    "start_time": "2022-03-15T00:29:31.719Z"
   },
   {
    "duration": 295,
    "start_time": "2022-03-15T00:32:05.932Z"
   },
   {
    "duration": 12,
    "start_time": "2022-03-15T00:34:37.163Z"
   },
   {
    "duration": 21,
    "start_time": "2022-03-15T00:34:54.825Z"
   },
   {
    "duration": 17,
    "start_time": "2022-03-15T00:35:16.369Z"
   },
   {
    "duration": 20,
    "start_time": "2022-03-15T00:35:46.302Z"
   },
   {
    "duration": 28,
    "start_time": "2022-03-15T00:37:36.239Z"
   },
   {
    "duration": 23,
    "start_time": "2022-03-15T00:38:32.987Z"
   },
   {
    "duration": 22,
    "start_time": "2022-03-15T00:39:32.056Z"
   },
   {
    "duration": 70,
    "start_time": "2022-03-15T00:40:15.719Z"
   },
   {
    "duration": 5,
    "start_time": "2022-03-15T00:40:15.792Z"
   },
   {
    "duration": 26,
    "start_time": "2022-03-15T00:40:15.800Z"
   },
   {
    "duration": 45,
    "start_time": "2022-03-15T00:40:15.828Z"
   },
   {
    "duration": 36,
    "start_time": "2022-03-15T00:40:15.876Z"
   },
   {
    "duration": 14,
    "start_time": "2022-03-15T00:40:15.914Z"
   },
   {
    "duration": 65,
    "start_time": "2022-03-15T00:40:15.931Z"
   },
   {
    "duration": 13,
    "start_time": "2022-03-15T00:40:15.998Z"
   },
   {
    "duration": 6,
    "start_time": "2022-03-15T00:40:16.015Z"
   },
   {
    "duration": 61,
    "start_time": "2022-03-15T00:40:16.024Z"
   },
   {
    "duration": 87,
    "start_time": "2022-03-15T00:40:16.088Z"
   },
   {
    "duration": 15,
    "start_time": "2022-03-15T00:40:16.178Z"
   },
   {
    "duration": 44,
    "start_time": "2022-03-15T00:40:16.195Z"
   },
   {
    "duration": 41,
    "start_time": "2022-03-15T00:40:16.242Z"
   },
   {
    "duration": 26,
    "start_time": "2022-03-15T00:40:16.286Z"
   },
   {
    "duration": 26,
    "start_time": "2022-03-15T00:40:16.315Z"
   },
   {
    "duration": 76,
    "start_time": "2022-03-15T00:40:16.343Z"
   },
   {
    "duration": 59,
    "start_time": "2022-03-15T00:40:16.422Z"
   },
   {
    "duration": 7,
    "start_time": "2022-03-15T00:40:16.484Z"
   },
   {
    "duration": 19,
    "start_time": "2022-03-15T00:40:16.494Z"
   },
   {
    "duration": 59,
    "start_time": "2022-03-15T00:40:16.516Z"
   },
   {
    "duration": 20,
    "start_time": "2022-03-15T00:40:16.578Z"
   },
   {
    "duration": 16,
    "start_time": "2022-03-15T00:40:16.601Z"
   },
   {
    "duration": 71,
    "start_time": "2022-03-15T00:40:16.620Z"
   },
   {
    "duration": 14,
    "start_time": "2022-03-15T00:40:16.694Z"
   },
   {
    "duration": 13,
    "start_time": "2022-03-15T00:40:16.711Z"
   },
   {
    "duration": 70,
    "start_time": "2022-03-15T00:40:16.730Z"
   },
   {
    "duration": 16,
    "start_time": "2022-03-15T00:40:16.803Z"
   },
   {
    "duration": 24,
    "start_time": "2022-03-15T00:40:16.822Z"
   },
   {
    "duration": 25,
    "start_time": "2022-03-15T00:40:16.874Z"
   },
   {
    "duration": 15,
    "start_time": "2022-03-15T00:40:16.902Z"
   },
   {
    "duration": 56,
    "start_time": "2022-03-15T00:40:16.919Z"
   },
   {
    "duration": 832,
    "start_time": "2022-03-15T00:42:30.891Z"
   },
   {
    "duration": 14,
    "start_time": "2022-03-15T00:42:31.726Z"
   },
   {
    "duration": 37,
    "start_time": "2022-03-15T00:42:31.742Z"
   },
   {
    "duration": 22,
    "start_time": "2022-03-15T00:42:31.782Z"
   },
   {
    "duration": 35,
    "start_time": "2022-03-15T00:42:31.807Z"
   },
   {
    "duration": 38,
    "start_time": "2022-03-15T00:42:31.845Z"
   },
   {
    "duration": 42,
    "start_time": "2022-03-15T00:42:31.886Z"
   },
   {
    "duration": 13,
    "start_time": "2022-03-15T00:42:31.930Z"
   },
   {
    "duration": 32,
    "start_time": "2022-03-15T00:42:31.947Z"
   },
   {
    "duration": 49,
    "start_time": "2022-03-15T00:42:31.982Z"
   },
   {
    "duration": 74,
    "start_time": "2022-03-15T00:42:32.033Z"
   },
   {
    "duration": 15,
    "start_time": "2022-03-15T00:42:32.109Z"
   },
   {
    "duration": 76,
    "start_time": "2022-03-15T00:42:32.126Z"
   },
   {
    "duration": 11,
    "start_time": "2022-03-15T00:42:32.205Z"
   },
   {
    "duration": 24,
    "start_time": "2022-03-15T00:42:32.218Z"
   },
   {
    "duration": 51,
    "start_time": "2022-03-15T00:42:32.244Z"
   },
   {
    "duration": 48,
    "start_time": "2022-03-15T00:42:32.298Z"
   },
   {
    "duration": 53,
    "start_time": "2022-03-15T00:42:32.348Z"
   },
   {
    "duration": 5,
    "start_time": "2022-03-15T00:42:32.403Z"
   },
   {
    "duration": 24,
    "start_time": "2022-03-15T00:42:32.410Z"
   },
   {
    "duration": 50,
    "start_time": "2022-03-15T00:42:32.437Z"
   },
   {
    "duration": 20,
    "start_time": "2022-03-15T00:42:32.489Z"
   },
   {
    "duration": 15,
    "start_time": "2022-03-15T00:42:32.511Z"
   },
   {
    "duration": 72,
    "start_time": "2022-03-15T00:42:32.528Z"
   },
   {
    "duration": 16,
    "start_time": "2022-03-15T00:42:32.602Z"
   },
   {
    "duration": 8,
    "start_time": "2022-03-15T00:42:32.620Z"
   },
   {
    "duration": 73,
    "start_time": "2022-03-15T00:42:32.633Z"
   },
   {
    "duration": 15,
    "start_time": "2022-03-15T00:42:32.709Z"
   },
   {
    "duration": 777,
    "start_time": "2022-03-15T00:42:32.726Z"
   },
   {
    "duration": 27,
    "start_time": "2022-03-15T00:42:33.506Z"
   },
   {
    "duration": 15,
    "start_time": "2022-03-15T00:42:33.535Z"
   },
   {
    "duration": 17,
    "start_time": "2022-03-15T00:42:33.572Z"
   }
  ],
  "kernelspec": {
   "display_name": "Python 3 (ipykernel)",
   "language": "python",
   "name": "python3"
  },
  "language_info": {
   "codemirror_mode": {
    "name": "ipython",
    "version": 3
   },
   "file_extension": ".py",
   "mimetype": "text/x-python",
   "name": "python",
   "nbconvert_exporter": "python",
   "pygments_lexer": "ipython3",
   "version": "3.9.12"
  },
  "toc": {
   "base_numbering": 1,
   "nav_menu": {},
   "number_sections": true,
   "sideBar": true,
   "skip_h1_title": true,
   "title_cell": "Содержание",
   "title_sidebar": "Содержание",
   "toc_cell": true,
   "toc_position": {
    "height": "calc(100% - 180px)",
    "left": "10px",
    "top": "150px",
    "width": "649px"
   },
   "toc_section_display": true,
   "toc_window_display": true
  }
 },
 "nbformat": 4,
 "nbformat_minor": 5
}
