{
 "cells": [
  {
   "cell_type": "markdown",
   "metadata": {
    "toc": true
   },
   "source": [
    "<h1>Содержание<span class=\"tocSkip\"></span></h1>\n",
    "<div class=\"toc\"><ul class=\"toc-item\"><li><span><a href=\"#Загрузка,-изучение-и-предобработка-данных\" data-toc-modified-id=\"Загрузка,-изучение-и-предобработка-данных-1\"><span class=\"toc-item-num\">1&nbsp;&nbsp;</span>Загрузка, изучение и предобработка данных</a></span></li><li><span><a href=\"#Умножение-матриц\" data-toc-modified-id=\"Умножение-матриц-2\"><span class=\"toc-item-num\">2&nbsp;&nbsp;</span>Умножение матриц</a></span></li><li><span><a href=\"#Алгоритм-преобразования\" data-toc-modified-id=\"Алгоритм-преобразования-3\"><span class=\"toc-item-num\">3&nbsp;&nbsp;</span>Алгоритм преобразования</a></span></li><li><span><a href=\"#Проверка-алгоритма\" data-toc-modified-id=\"Проверка-алгоритма-4\"><span class=\"toc-item-num\">4&nbsp;&nbsp;</span>Проверка алгоритма</a></span></li><li><span><a href=\"#Общий-вывод\" data-toc-modified-id=\"Общий-вывод-5\"><span class=\"toc-item-num\">5&nbsp;&nbsp;</span>Общий вывод</a></span></li></ul></div>"
   ]
  },
  {
   "cell_type": "markdown",
   "metadata": {},
   "source": [
    "# Защита персональных данных клиентов"
   ]
  },
  {
   "cell_type": "markdown",
   "metadata": {},
   "source": [
    "В страховой компании «Хоть потоп» нужно защитить данные клиентов. В проекте необходимо разработать такой метод преобразования данных, чтобы по ним было сложно восстановить персональную информацию. При этом следует обосновать корректность работы метода преобразования. Защитить персональную информацию нужно так, чтобы при преобразовании качество модели машинного обучения (линейной регрессии) не ухудшилось. Подбирать наилучшую модель не требуется."
   ]
  },
  {
   "cell_type": "markdown",
   "metadata": {},
   "source": [
    "## Загрузка, изучение и предобработка данных"
   ]
  },
  {
   "cell_type": "code",
   "execution_count": 1,
   "metadata": {},
   "outputs": [],
   "source": [
    "import pandas as pd\n",
    "import numpy as np\n",
    "from sklearn.linear_model import LinearRegression\n",
    "from sklearn.metrics import r2_score"
   ]
  },
  {
   "cell_type": "markdown",
   "metadata": {},
   "source": [
    "Загрузим данные из файла и ознакомимся с таблицей."
   ]
  },
  {
   "cell_type": "code",
   "execution_count": 2,
   "metadata": {},
   "outputs": [
    {
     "name": "stdout",
     "output_type": "stream",
     "text": [
      "<class 'pandas.core.frame.DataFrame'>\n",
      "RangeIndex: 5000 entries, 0 to 4999\n",
      "Data columns (total 5 columns):\n",
      " #   Column             Non-Null Count  Dtype  \n",
      "---  ------             --------------  -----  \n",
      " 0   Пол                5000 non-null   int64  \n",
      " 1   Возраст            5000 non-null   float64\n",
      " 2   Зарплата           5000 non-null   float64\n",
      " 3   Члены семьи        5000 non-null   int64  \n",
      " 4   Страховые выплаты  5000 non-null   int64  \n",
      "dtypes: float64(2), int64(3)\n",
      "memory usage: 195.4 KB\n"
     ]
    }
   ],
   "source": [
    "try:\n",
    "    main_data = pd.read_csv('insurance.csv')\n",
    "except:\n",
    "    main_data = pd.read_csv('/datasets/insurance.csv')\n",
    "main_data.info()"
   ]
  },
  {
   "cell_type": "code",
   "execution_count": 3,
   "metadata": {},
   "outputs": [
    {
     "data": {
      "text/html": [
       "<div>\n",
       "<style scoped>\n",
       "    .dataframe tbody tr th:only-of-type {\n",
       "        vertical-align: middle;\n",
       "    }\n",
       "\n",
       "    .dataframe tbody tr th {\n",
       "        vertical-align: top;\n",
       "    }\n",
       "\n",
       "    .dataframe thead th {\n",
       "        text-align: right;\n",
       "    }\n",
       "</style>\n",
       "<table border=\"1\" class=\"dataframe\">\n",
       "  <thead>\n",
       "    <tr style=\"text-align: right;\">\n",
       "      <th></th>\n",
       "      <th>Пол</th>\n",
       "      <th>Возраст</th>\n",
       "      <th>Зарплата</th>\n",
       "      <th>Члены семьи</th>\n",
       "      <th>Страховые выплаты</th>\n",
       "    </tr>\n",
       "  </thead>\n",
       "  <tbody>\n",
       "    <tr>\n",
       "      <th>0</th>\n",
       "      <td>1</td>\n",
       "      <td>41.0</td>\n",
       "      <td>49600.0</td>\n",
       "      <td>1</td>\n",
       "      <td>0</td>\n",
       "    </tr>\n",
       "    <tr>\n",
       "      <th>1</th>\n",
       "      <td>0</td>\n",
       "      <td>46.0</td>\n",
       "      <td>38000.0</td>\n",
       "      <td>1</td>\n",
       "      <td>1</td>\n",
       "    </tr>\n",
       "    <tr>\n",
       "      <th>2</th>\n",
       "      <td>0</td>\n",
       "      <td>29.0</td>\n",
       "      <td>21000.0</td>\n",
       "      <td>0</td>\n",
       "      <td>0</td>\n",
       "    </tr>\n",
       "    <tr>\n",
       "      <th>3</th>\n",
       "      <td>0</td>\n",
       "      <td>21.0</td>\n",
       "      <td>41700.0</td>\n",
       "      <td>2</td>\n",
       "      <td>0</td>\n",
       "    </tr>\n",
       "    <tr>\n",
       "      <th>4</th>\n",
       "      <td>1</td>\n",
       "      <td>28.0</td>\n",
       "      <td>26100.0</td>\n",
       "      <td>0</td>\n",
       "      <td>0</td>\n",
       "    </tr>\n",
       "  </tbody>\n",
       "</table>\n",
       "</div>"
      ],
      "text/plain": [
       "   Пол  Возраст  Зарплата  Члены семьи  Страховые выплаты\n",
       "0    1     41.0   49600.0            1                  0\n",
       "1    0     46.0   38000.0            1                  1\n",
       "2    0     29.0   21000.0            0                  0\n",
       "3    0     21.0   41700.0            2                  0\n",
       "4    1     28.0   26100.0            0                  0"
      ]
     },
     "execution_count": 3,
     "metadata": {},
     "output_type": "execute_result"
    }
   ],
   "source": [
    "main_data.head(5)"
   ]
  },
  {
   "cell_type": "markdown",
   "metadata": {},
   "source": [
    "Пропуски в таблице отсутствуют, типы данных верные. Имена столбцов указаны кириллицей и не имеют \"змеиного\" регистра, но в данной задаче не будем их изменять, так как в этом нет необходимости.\n",
    "\n",
    "Теперь посмотрим на таблицу с точки зрения описательной статистики."
   ]
  },
  {
   "cell_type": "code",
   "execution_count": 4,
   "metadata": {},
   "outputs": [
    {
     "data": {
      "text/html": [
       "<div>\n",
       "<style scoped>\n",
       "    .dataframe tbody tr th:only-of-type {\n",
       "        vertical-align: middle;\n",
       "    }\n",
       "\n",
       "    .dataframe tbody tr th {\n",
       "        vertical-align: top;\n",
       "    }\n",
       "\n",
       "    .dataframe thead th {\n",
       "        text-align: right;\n",
       "    }\n",
       "</style>\n",
       "<table border=\"1\" class=\"dataframe\">\n",
       "  <thead>\n",
       "    <tr style=\"text-align: right;\">\n",
       "      <th></th>\n",
       "      <th>Пол</th>\n",
       "      <th>Возраст</th>\n",
       "      <th>Зарплата</th>\n",
       "      <th>Члены семьи</th>\n",
       "      <th>Страховые выплаты</th>\n",
       "    </tr>\n",
       "  </thead>\n",
       "  <tbody>\n",
       "    <tr>\n",
       "      <th>count</th>\n",
       "      <td>5000.000000</td>\n",
       "      <td>5000.000000</td>\n",
       "      <td>5000.000000</td>\n",
       "      <td>5000.000000</td>\n",
       "      <td>5000.000000</td>\n",
       "    </tr>\n",
       "    <tr>\n",
       "      <th>mean</th>\n",
       "      <td>0.499000</td>\n",
       "      <td>30.952800</td>\n",
       "      <td>39916.360000</td>\n",
       "      <td>1.194200</td>\n",
       "      <td>0.148000</td>\n",
       "    </tr>\n",
       "    <tr>\n",
       "      <th>std</th>\n",
       "      <td>0.500049</td>\n",
       "      <td>8.440807</td>\n",
       "      <td>9900.083569</td>\n",
       "      <td>1.091387</td>\n",
       "      <td>0.463183</td>\n",
       "    </tr>\n",
       "    <tr>\n",
       "      <th>min</th>\n",
       "      <td>0.000000</td>\n",
       "      <td>18.000000</td>\n",
       "      <td>5300.000000</td>\n",
       "      <td>0.000000</td>\n",
       "      <td>0.000000</td>\n",
       "    </tr>\n",
       "    <tr>\n",
       "      <th>25%</th>\n",
       "      <td>0.000000</td>\n",
       "      <td>24.000000</td>\n",
       "      <td>33300.000000</td>\n",
       "      <td>0.000000</td>\n",
       "      <td>0.000000</td>\n",
       "    </tr>\n",
       "    <tr>\n",
       "      <th>50%</th>\n",
       "      <td>0.000000</td>\n",
       "      <td>30.000000</td>\n",
       "      <td>40200.000000</td>\n",
       "      <td>1.000000</td>\n",
       "      <td>0.000000</td>\n",
       "    </tr>\n",
       "    <tr>\n",
       "      <th>75%</th>\n",
       "      <td>1.000000</td>\n",
       "      <td>37.000000</td>\n",
       "      <td>46600.000000</td>\n",
       "      <td>2.000000</td>\n",
       "      <td>0.000000</td>\n",
       "    </tr>\n",
       "    <tr>\n",
       "      <th>max</th>\n",
       "      <td>1.000000</td>\n",
       "      <td>65.000000</td>\n",
       "      <td>79000.000000</td>\n",
       "      <td>6.000000</td>\n",
       "      <td>5.000000</td>\n",
       "    </tr>\n",
       "  </tbody>\n",
       "</table>\n",
       "</div>"
      ],
      "text/plain": [
       "               Пол      Возраст      Зарплата  Члены семьи  Страховые выплаты\n",
       "count  5000.000000  5000.000000   5000.000000  5000.000000        5000.000000\n",
       "mean      0.499000    30.952800  39916.360000     1.194200           0.148000\n",
       "std       0.500049     8.440807   9900.083569     1.091387           0.463183\n",
       "min       0.000000    18.000000   5300.000000     0.000000           0.000000\n",
       "25%       0.000000    24.000000  33300.000000     0.000000           0.000000\n",
       "50%       0.000000    30.000000  40200.000000     1.000000           0.000000\n",
       "75%       1.000000    37.000000  46600.000000     2.000000           0.000000\n",
       "max       1.000000    65.000000  79000.000000     6.000000           5.000000"
      ]
     },
     "execution_count": 4,
     "metadata": {},
     "output_type": "execute_result"
    }
   ],
   "source": [
    "main_data.describe()"
   ]
  },
  {
   "cell_type": "markdown",
   "metadata": {},
   "source": [
    "Аномальных значений и выбросов нет, что с точки зрения здравого смысла подтверждается по максимальным и минимальным значениям.\n",
    "\n",
    "Теперь проверим таблицу на наличие строк дубликатов."
   ]
  },
  {
   "cell_type": "code",
   "execution_count": 5,
   "metadata": {},
   "outputs": [
    {
     "data": {
      "text/plain": [
       "153"
      ]
     },
     "execution_count": 5,
     "metadata": {},
     "output_type": "execute_result"
    }
   ],
   "source": [
    "main_data.duplicated().sum()"
   ]
  },
  {
   "cell_type": "markdown",
   "metadata": {},
   "source": [
    "В таблице имеются дубликаты, но удалять их не будем. Причина в том, что в таблице нет столбца, который мог бы мог однозначно идентифицировать клиентов (к примеру id). А значит найденные дубликаты могут быть вполне реальными данными, а не лишними копиями строк.\n",
    "\n",
    "Проверим теперь признаки, которые будут использоваться для обучения модели, на мультиколлинеарность (наличие линейной зависимости). Для этого построим матрицу корреляции. Через настройки визуализации pandas изменим внешний вид итоговой таблицы корреляции."
   ]
  },
  {
   "cell_type": "code",
   "execution_count": 6,
   "metadata": {},
   "outputs": [
    {
     "data": {
      "text/html": [
       "<style  type=\"text/css\" >\n",
       "#T_36d4a_row0_col0,#T_36d4a_row1_col1,#T_36d4a_row2_col2,#T_36d4a_row3_col3{\n",
       "            background-color:  #b40426;\n",
       "            color:  #f1f1f1;\n",
       "        }#T_36d4a_row0_col1,#T_36d4a_row0_col3,#T_36d4a_row1_col3{\n",
       "            background-color:  #4055c8;\n",
       "            color:  #f1f1f1;\n",
       "        }#T_36d4a_row0_col2{\n",
       "            background-color:  #485fd1;\n",
       "            color:  #f1f1f1;\n",
       "        }#T_36d4a_row1_col0,#T_36d4a_row1_col2{\n",
       "            background-color:  #3d50c3;\n",
       "            color:  #f1f1f1;\n",
       "        }#T_36d4a_row2_col0{\n",
       "            background-color:  #4257c9;\n",
       "            color:  #f1f1f1;\n",
       "        }#T_36d4a_row2_col1,#T_36d4a_row2_col3,#T_36d4a_row3_col0,#T_36d4a_row3_col2{\n",
       "            background-color:  #3b4cc0;\n",
       "            color:  #f1f1f1;\n",
       "        }#T_36d4a_row3_col1{\n",
       "            background-color:  #3e51c5;\n",
       "            color:  #f1f1f1;\n",
       "        }</style><table id=\"T_36d4a_\" ><thead>    <tr>        <th class=\"blank level0\" ></th>        <th class=\"col_heading level0 col0\" >Пол</th>        <th class=\"col_heading level0 col1\" >Возраст</th>        <th class=\"col_heading level0 col2\" >Зарплата</th>        <th class=\"col_heading level0 col3\" >Члены семьи</th>    </tr></thead><tbody>\n",
       "                <tr>\n",
       "                        <th id=\"T_36d4a_level0_row0\" class=\"row_heading level0 row0\" >Пол</th>\n",
       "                        <td id=\"T_36d4a_row0_col0\" class=\"data row0 col0\" >1.000000</td>\n",
       "                        <td id=\"T_36d4a_row0_col1\" class=\"data row0 col1\" >0.002074</td>\n",
       "                        <td id=\"T_36d4a_row0_col2\" class=\"data row0 col2\" >0.014910</td>\n",
       "                        <td id=\"T_36d4a_row0_col3\" class=\"data row0 col3\" >-0.008991</td>\n",
       "            </tr>\n",
       "            <tr>\n",
       "                        <th id=\"T_36d4a_level0_row1\" class=\"row_heading level0 row1\" >Возраст</th>\n",
       "                        <td id=\"T_36d4a_row1_col0\" class=\"data row1 col0\" >0.002074</td>\n",
       "                        <td id=\"T_36d4a_row1_col1\" class=\"data row1 col1\" >1.000000</td>\n",
       "                        <td id=\"T_36d4a_row1_col2\" class=\"data row1 col2\" >-0.019093</td>\n",
       "                        <td id=\"T_36d4a_row1_col3\" class=\"data row1 col3\" >-0.006692</td>\n",
       "            </tr>\n",
       "            <tr>\n",
       "                        <th id=\"T_36d4a_level0_row2\" class=\"row_heading level0 row2\" >Зарплата</th>\n",
       "                        <td id=\"T_36d4a_row2_col0\" class=\"data row2 col0\" >0.014910</td>\n",
       "                        <td id=\"T_36d4a_row2_col1\" class=\"data row2 col1\" >-0.019093</td>\n",
       "                        <td id=\"T_36d4a_row2_col2\" class=\"data row2 col2\" >1.000000</td>\n",
       "                        <td id=\"T_36d4a_row2_col3\" class=\"data row2 col3\" >-0.030296</td>\n",
       "            </tr>\n",
       "            <tr>\n",
       "                        <th id=\"T_36d4a_level0_row3\" class=\"row_heading level0 row3\" >Члены семьи</th>\n",
       "                        <td id=\"T_36d4a_row3_col0\" class=\"data row3 col0\" >-0.008991</td>\n",
       "                        <td id=\"T_36d4a_row3_col1\" class=\"data row3 col1\" >-0.006692</td>\n",
       "                        <td id=\"T_36d4a_row3_col2\" class=\"data row3 col2\" >-0.030296</td>\n",
       "                        <td id=\"T_36d4a_row3_col3\" class=\"data row3 col3\" >1.000000</td>\n",
       "            </tr>\n",
       "    </tbody></table>"
      ],
      "text/plain": [
       "<pandas.io.formats.style.Styler at 0x14d26eaee80>"
      ]
     },
     "execution_count": 6,
     "metadata": {},
     "output_type": "execute_result"
    }
   ],
   "source": [
    "corr = main_data.loc[:,'Пол':'Члены семьи'].corr()\n",
    "corr.style.background_gradient(cmap='coolwarm')"
   ]
  },
  {
   "cell_type": "markdown",
   "metadata": {},
   "source": [
    "Каких-либо зависимостей между обучающими признаками не выявлено.\n",
    "\n",
    "На этом предобработка и изучение данных завершены."
   ]
  },
  {
   "cell_type": "markdown",
   "metadata": {},
   "source": [
    "## Умножение матриц"
   ]
  },
  {
   "cell_type": "markdown",
   "metadata": {},
   "source": [
    "**Вопрос:** если матрицу признаков умножить на какую-либо обратимую матрицу, то изменится ли качество линейной регрессии?"
   ]
  },
  {
   "cell_type": "markdown",
   "metadata": {},
   "source": [
    "**Ответ:** качество линейной регрессии не изменится."
   ]
  },
  {
   "cell_type": "markdown",
   "metadata": {},
   "source": [
    "**Обоснование:** \n",
    "\n",
    "Обозначения:\n",
    "\n",
    "- $X$ — матрица признаков (нулевой столбец состоит из единиц)\n",
    "\n",
    "- $y$ — вектор целевого признака\n",
    "\n",
    "- $P$ — матрица, на которую умножаются признаки\n",
    "\n",
    "- $w$ — вектор весов линейной регрессии (нулевой элемент равен сдвигу)"
   ]
  },
  {
   "cell_type": "markdown",
   "metadata": {},
   "source": [
    "Формула вычисления вектора предсказаний при использовании линейной регрессии:\n",
    "\n",
    "$$\n",
    "a = Xw\n",
    "$$\n",
    "\n",
    "где $w$ определяется решением задачи обучения:\n",
    "\n",
    "$$\n",
    "w = \\arg\\min_w MSE(Xw, y)\n",
    "$$\n",
    "\n",
    "Результирующая формула обучения для вектора $w$:\n",
    "\n",
    "$$\n",
    "w = (X^T X)^{-1} X^T y\n",
    "$$\n",
    "\n",
    "Полная запись формулы вычисления вектора предсказаний:\n",
    "\n",
    "$$\n",
    "a = X (X^T X)^{-1} X^T y \n",
    "$$"
   ]
  },
  {
   "cell_type": "markdown",
   "metadata": {},
   "source": [
    "Умножим исходную матрицу признаков на **квадратную обратимую** матрицу $P$. Размер матрицы $P$ (количество строк или столбцов) будет равен числу столбцов матрицы $X$. Получим преобразованную матрицу признаков  $X'$:\n",
    "\n",
    "$$ X' = XP $$"
   ]
  },
  {
   "cell_type": "markdown",
   "metadata": {},
   "source": [
    "Подставим значение этой матрицы в полную запись формулы вычисления предсказаний и получим вектор предсказаний $a'$:\n",
    "\n",
    "$$ a' = XP ((XP)^T XP)^{-1} (XP)^T y $$"
   ]
  },
  {
   "cell_type": "markdown",
   "metadata": {},
   "source": [
    "Обратимся к свойствам обратных, транспонированных и единичных матриц:\n",
    "\n",
    "<ol>\n",
    "    <li> $(A B)^{-1} =B^{-1} A^{-1}$ ;</li>\n",
    "    <li>$(A B)^{T} =B^{T} A^{T}$ ;</li>\n",
    "    <li>$A (BС) =(AB)C$ ;</li>\n",
    "    <li>$A E=E A=A$ ;</li>\n",
    "    <li>$A A^{-1}=E$ ;</li>\n",
    "</ol>\n",
    "где $E$ - единичная матрица."
   ]
  },
  {
   "cell_type": "markdown",
   "metadata": {},
   "source": [
    "Важно учесть, что свойство №1 применимо только для квадратных матриц. \n",
    "\n",
    "Применим свойство №2 для вектора предсказаний $a'$:\n",
    "\n",
    "$ a' = XP (P^TX^TXP)^{-1} P^TX^T y $"
   ]
  },
  {
   "cell_type": "markdown",
   "metadata": {},
   "source": [
    "Применим свойства №3 и №1, учитывая тот факт, что матрицы $(P^TX^TX)$ и $P$ являются квадратными:\n",
    "\n",
    "$ a' = XP P^{-1}(P^TX^TX)^{-1} P^TX^T y $"
   ]
  },
  {
   "cell_type": "markdown",
   "metadata": {},
   "source": [
    "Снова воспользуемся свойством №1 для квадратных матриц $P^T$ и $(X^TX)$:\n",
    "\n",
    "$ a' = XP P^{-1}(X^TX)^{-1}(P^T)^{-1} P^TX^T y $"
   ]
  },
  {
   "cell_type": "markdown",
   "metadata": {},
   "source": [
    "Последовательно применим свойство №5, затем свойство №4:\n",
    "\n",
    "$ a' = XE(X^TX)^{-1}EX^T y $\n",
    "\n",
    "$ a' = X(X^TX)^{-1}X^T y $"
   ]
  },
  {
   "cell_type": "markdown",
   "metadata": {},
   "source": [
    "Полученное выражение полностью соответствует выражению для вектора предсказаний $a$:"
   ]
  },
  {
   "cell_type": "markdown",
   "metadata": {},
   "source": [
    "$$a' = a$$"
   ]
  },
  {
   "cell_type": "markdown",
   "metadata": {},
   "source": [
    "Следовательно, умножение матрицы признаков на обратимую матрицу никак не влияет на качество линейной регрессии, ч. т. д."
   ]
  },
  {
   "cell_type": "markdown",
   "metadata": {},
   "source": [
    "## Алгоритм преобразования"
   ]
  },
  {
   "cell_type": "markdown",
   "metadata": {},
   "source": [
    "**Описание алгоритма:** \n",
    "<ol>\n",
    "    <li>сгенерировать случайную квадратную матрицу размером $n*n$, где $n$ - количество столбцов матрицы признаков. Случайные значения матрицы получить на основе равномерного распределения;\n",
    "    <li>проверить полученную матрицу на обратимость. Для этого проверить, равен ли нулю её определитель. Если равен, то вернуться к шагу 1, если не равен, то перейти к шагу 3;\n",
    "    <li>умножить исходную матрицу признаков на сгенерированную матрицу. Должна получиться преобразованная матрица признаков;\n",
    "    <li> создать модель линейной регрессии и обучить её на преобразованной матрице признаков;\n",
    "    <li> получить предсказания модели (на основе преобразованных признаков) и рассчитать метрику R2;\n",
    "    <li> заново обучить модель линейной регрессии на исходной матрице признаков без преобразования;\n",
    "    <li> получить предсказания модели (на основе исходных признаков без преобразования) и рассчитать метрику R2; \n",
    "    <li> сравнить значения метрик R2, полученные на шагах 5 и 7.\n",
    "</ol>\n",
    "    \n",
    "**Обоснование алгоритма:** обоснование приведено в п. 2 проекта. Отметим, что в п. 2 использовалась сокращённая запись формулы вычисления предсказаний, и подразумевалось, что исходная матрица признаков содержит также нулевой столбец с единицами. В данном случае предлагается в качестве исходной матрицы признаков использовать матрицу без нулевого столбца (т.е. количество столбцов в матрице будет меньше на единицу). Это действие никак не опровергает доказательства из п. 2, так как обратимая матрица для умножения в алгоритме тоже будет иметь размерность на единицу меньше. При этом все математические выкладки, приведённые в п. 2 будут верны."
   ]
  },
  {
   "cell_type": "markdown",
   "metadata": {},
   "source": [
    "## Проверка алгоритма"
   ]
  },
  {
   "cell_type": "markdown",
   "metadata": {},
   "source": [
    "Для проверки алгоритма следует создать и обучить модель линейной регрессии сначала на матрице признаков без преобразования, а затем на преобразованной матрице. И сравнить результаты качества предсказаний модели. Для оценки качества будем использовать метрику R2 (коэффициент детерминации).\n",
    "\n",
    "Для начала подготовим обычные и целевые признаки для обучения. Использовать данные с типом np.array необязательно, для обучения модели линейной регрессии подходят и данные типа Dataframe или Series. Матрицы и вектора из них будут получены автоматически в самой модели."
   ]
  },
  {
   "cell_type": "code",
   "execution_count": 7,
   "metadata": {},
   "outputs": [
    {
     "name": "stdout",
     "output_type": "stream",
     "text": [
      "(5000, 4)\n",
      "(5000,)\n"
     ]
    }
   ],
   "source": [
    "features = main_data.drop('Страховые выплаты', axis=1)\n",
    "target = main_data['Страховые выплаты']\n",
    "print(features.shape)\n",
    "print(target.shape)"
   ]
  },
  {
   "cell_type": "markdown",
   "metadata": {},
   "source": [
    "Обычные и целевые признаки подготовлены. Обратим внимание, что всего у объектов имеется 4 признака, которые будут использоваться в обучении. Именно такого размера будет создаваться квадратная матрица для преобразования.\n",
    "\n",
    "Теперь создадим непосредственно матрицу, которая будет использована в алгоритме преобразования. Для решения этой задачи используем функцию random.uniform библиотеки numpy, которая создаст матрицу нужного размера и заполнит её случайными значениями на основе равномерного распределения (по умолчанию это числа от 0 до 1). После создания матрицы необходимо убедиться, что она точно является обратимой. Для этого проверим, не является ли она вырожденной (её определитель будет равен нулю). Если вдруг равен, то сгенерируем матрицу заново."
   ]
  },
  {
   "cell_type": "code",
   "execution_count": 8,
   "metadata": {
    "scrolled": true
   },
   "outputs": [
    {
     "name": "stdout",
     "output_type": "stream",
     "text": [
      "[[0.3070947  0.42771067 0.84936632 0.5064532 ]\n",
      " [0.23508564 0.28324128 0.63894454 0.43594383]\n",
      " [0.752579   0.82525619 0.75530689 0.45088223]\n",
      " [0.80193374 0.41150981 0.7295975  0.08875838]]\n"
     ]
    }
   ],
   "source": [
    "P = 0\n",
    "det = 0\n",
    "while det==0:\n",
    "    P = np.random.uniform(size=(4,4))\n",
    "    det = np.linalg.det(P)\n",
    "print(P)"
   ]
  },
  {
   "cell_type": "markdown",
   "metadata": {},
   "source": [
    "Матрица успешно создана. Теперь выполним преобразование исходных признаков по предложенному алгоритму (умножим исходные признаки на созданную матрицу). Можно не обращаться к атрибуту values у объекта Dataframe. Корректное умножение матриц произойдёт автоматически. В результате объект будет по-прежнему иметь тип Dataframe."
   ]
  },
  {
   "cell_type": "code",
   "execution_count": 9,
   "metadata": {},
   "outputs": [
    {
     "data": {
      "text/html": [
       "<div>\n",
       "<style scoped>\n",
       "    .dataframe tbody tr th:only-of-type {\n",
       "        vertical-align: middle;\n",
       "    }\n",
       "\n",
       "    .dataframe tbody tr th {\n",
       "        vertical-align: top;\n",
       "    }\n",
       "\n",
       "    .dataframe thead th {\n",
       "        text-align: right;\n",
       "    }\n",
       "</style>\n",
       "<table border=\"1\" class=\"dataframe\">\n",
       "  <thead>\n",
       "    <tr style=\"text-align: right;\">\n",
       "      <th></th>\n",
       "      <th>0</th>\n",
       "      <th>1</th>\n",
       "      <th>2</th>\n",
       "      <th>3</th>\n",
       "    </tr>\n",
       "  </thead>\n",
       "  <tbody>\n",
       "    <tr>\n",
       "      <th>0</th>\n",
       "      <td>37338.665968</td>\n",
       "      <td>40945.159368</td>\n",
       "      <td>37490.997479</td>\n",
       "      <td>22382.227284</td>\n",
       "    </tr>\n",
       "    <tr>\n",
       "      <th>1</th>\n",
       "      <td>28609.617895</td>\n",
       "      <td>31373.176005</td>\n",
       "      <td>28731.782901</td>\n",
       "      <td>17153.666736</td>\n",
       "    </tr>\n",
       "    <tr>\n",
       "      <th>2</th>\n",
       "      <td>15810.976495</td>\n",
       "      <td>17338.594085</td>\n",
       "      <td>15879.974101</td>\n",
       "      <td>9481.169102</td>\n",
       "    </tr>\n",
       "    <tr>\n",
       "      <th>3</th>\n",
       "      <td>31389.084989</td>\n",
       "      <td>34419.954403</td>\n",
       "      <td>31511.174381</td>\n",
       "      <td>18811.121132</td>\n",
       "    </tr>\n",
       "    <tr>\n",
       "      <th>4</th>\n",
       "      <td>19649.201407</td>\n",
       "      <td>21547.545147</td>\n",
       "      <td>19732.249666</td>\n",
       "      <td>11780.738961</td>\n",
       "    </tr>\n",
       "  </tbody>\n",
       "</table>\n",
       "</div>"
      ],
      "text/plain": [
       "              0             1             2             3\n",
       "0  37338.665968  40945.159368  37490.997479  22382.227284\n",
       "1  28609.617895  31373.176005  28731.782901  17153.666736\n",
       "2  15810.976495  17338.594085  15879.974101   9481.169102\n",
       "3  31389.084989  34419.954403  31511.174381  18811.121132\n",
       "4  19649.201407  21547.545147  19732.249666  11780.738961"
      ]
     },
     "execution_count": 9,
     "metadata": {},
     "output_type": "execute_result"
    }
   ],
   "source": [
    "features_secured = features @ P\n",
    "features_secured.head()"
   ]
  },
  {
   "cell_type": "markdown",
   "metadata": {},
   "source": [
    "Преобразование исходных признаков прошло успешно. Разобрать персональную информацию клиентов без дешифровки не представляется возможным.\n",
    "\n",
    "Теперь создадим модель линейной регресиии, попробуем сначала обучить её на исходных данных без преобразования и получить предсказания. Посчитаем метрику R2. Затем заново обучим модель, но уже на преобразованных данных. Сравним результаты."
   ]
  },
  {
   "cell_type": "code",
   "execution_count": 10,
   "metadata": {},
   "outputs": [
    {
     "name": "stdout",
     "output_type": "stream",
     "text": [
      "Значение метрики R2 на основе данных без преобразования:    0.42494550286668\n",
      "Значение метрики R2 на основе преобразованных данных:       0.4249455028666801\n"
     ]
    }
   ],
   "source": [
    "model = LinearRegression()\n",
    "model.fit(features, target)\n",
    "predictions = model.predict(features)\n",
    "r2_result = r2_score(target, predictions)\n",
    "print(f\"{'Значение метрики R2 на основе данных без преобразования: ':<60}{r2_result}\")\n",
    "\n",
    "model.fit(features_secured, target)\n",
    "predictions = model.predict(features_secured)\n",
    "r2_result = r2_score(target, predictions)\n",
    "print(f\"{'Значение метрики R2 на основе преобразованных данных: ':<60}{r2_result}\")"
   ]
  },
  {
   "cell_type": "markdown",
   "metadata": {},
   "source": [
    "Значения метрик R2 практически идентичны. Различие проявляется лишь на уровне погрешности. Таким образом, правильность предложенного алгоритма преобразования успешно проверена опытным путём."
   ]
  },
  {
   "cell_type": "markdown",
   "metadata": {},
   "source": [
    "## Общий вывод"
   ]
  },
  {
   "cell_type": "markdown",
   "metadata": {},
   "source": [
    "В проекте был исследован вопрос о влиянии преобразования исходной матрицы признаков на качество линейной регрессии. В качестве преобразования рассматривалось умножение на какую-либо обратимую матрицу. С помощью математических выкладок и преобразований формулы вычисления предсказаний линейной регрессии было доказано, что умножение матрицы признаков на обратимую квадратную матрицу никак не влияет на качество линейной регрессии.\n",
    "\n",
    "Далее был предложен конкретный алгоритм преобразования - умножение исходной матрицы признаков на квадратную обратимую матрицу размерностью $n*n$, где $n$ - количество столбцов матрицы признаков. В качестве квадратной матрицы предложено использовать матрицу со случайными значениями на основе равномерного распределения. В исходных данных после преобразования невозможно определить персональную информацию о клиентах без дешифровки.\n",
    "\n",
    "Алгоритм преобразования затем был успешно проверен на работе реальной модели линейной регрессии. Сначала модель обучалась на матрице признаков без преобразования, а затем на преобразованной матрице. По предсказаниям модели в первом и втором случаях были посчитаны метрики качества R2, которые оказались идентичными."
   ]
  }
 ],
 "metadata": {
  "ExecuteTimeLog": [
   {
    "duration": 1142,
    "start_time": "2022-08-15T03:57:15.440Z"
   },
   {
    "duration": 138,
    "start_time": "2022-08-15T03:57:16.585Z"
   },
   {
    "duration": 14,
    "start_time": "2022-08-15T03:57:16.725Z"
   },
   {
    "duration": 8,
    "start_time": "2022-08-15T03:57:16.741Z"
   },
   {
    "duration": 9,
    "start_time": "2022-08-15T03:57:16.751Z"
   },
   {
    "duration": 16,
    "start_time": "2022-08-15T03:57:16.762Z"
   },
   {
    "duration": 37,
    "start_time": "2022-08-15T03:57:16.780Z"
   },
   {
    "duration": 1143,
    "start_time": "2022-08-16T11:24:43.619Z"
   },
   {
    "duration": 74,
    "start_time": "2022-08-16T11:24:44.764Z"
   },
   {
    "duration": 15,
    "start_time": "2022-08-16T11:24:44.839Z"
   },
   {
    "duration": 23,
    "start_time": "2022-08-16T11:24:44.855Z"
   },
   {
    "duration": 6,
    "start_time": "2022-08-16T11:24:44.880Z"
   },
   {
    "duration": 16,
    "start_time": "2022-08-16T11:24:44.887Z"
   },
   {
    "duration": 310,
    "start_time": "2022-08-16T11:24:44.904Z"
   },
   {
    "duration": 5,
    "start_time": "2022-08-16T11:24:45.216Z"
   },
   {
    "duration": 9,
    "start_time": "2022-08-16T11:24:45.223Z"
   },
   {
    "duration": 17,
    "start_time": "2022-08-16T11:24:45.233Z"
   },
   {
    "duration": 52,
    "start_time": "2022-08-16T11:24:45.252Z"
   }
  ],
  "kernelspec": {
   "display_name": "Python 3 (ipykernel)",
   "language": "python",
   "name": "python3"
  },
  "language_info": {
   "codemirror_mode": {
    "name": "ipython",
    "version": 3
   },
   "file_extension": ".py",
   "mimetype": "text/x-python",
   "name": "python",
   "nbconvert_exporter": "python",
   "pygments_lexer": "ipython3",
   "version": "3.9.12"
  },
  "toc": {
   "base_numbering": 1,
   "nav_menu": {},
   "number_sections": true,
   "sideBar": true,
   "skip_h1_title": true,
   "title_cell": "Содержание",
   "title_sidebar": "Содержание",
   "toc_cell": true,
   "toc_position": {
    "height": "calc(100% - 180px)",
    "left": "10px",
    "top": "150px",
    "width": "300.594px"
   },
   "toc_section_display": true,
   "toc_window_display": true
  }
 },
 "nbformat": 4,
 "nbformat_minor": 2
}
