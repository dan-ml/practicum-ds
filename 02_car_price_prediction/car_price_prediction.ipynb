{
 "cells": [
  {
   "cell_type": "markdown",
   "metadata": {
    "toc": true
   },
   "source": [
    "<h1>Содержание<span class=\"tocSkip\"></span></h1>\n",
    "<div class=\"toc\"><ul class=\"toc-item\"><li><span><a href=\"#Подготовка-данных\" data-toc-modified-id=\"Подготовка-данных-1\"><span class=\"toc-item-num\">1&nbsp;&nbsp;</span>Подготовка данных</a></span><ul class=\"toc-item\"><li><span><a href=\"#Загрузка-и-импорт-библиотек-и-функций\" data-toc-modified-id=\"Загрузка-и-импорт-библиотек-и-функций-1.1\"><span class=\"toc-item-num\">1.1&nbsp;&nbsp;</span>Загрузка и импорт библиотек и функций</a></span></li><li><span><a href=\"#Загрузка-и-изучение-данных-из-файла\" data-toc-modified-id=\"Загрузка-и-изучение-данных-из-файла-1.2\"><span class=\"toc-item-num\">1.2&nbsp;&nbsp;</span>Загрузка и изучение данных из файла</a></span></li><li><span><a href=\"#Предобработка-данных\" data-toc-modified-id=\"Предобработка-данных-1.3\"><span class=\"toc-item-num\">1.3&nbsp;&nbsp;</span>Предобработка данных</a></span><ul class=\"toc-item\"><li><span><a href=\"#Разные-операции\" data-toc-modified-id=\"Разные-операции-1.3.1\"><span class=\"toc-item-num\">1.3.1&nbsp;&nbsp;</span>Разные операции</a></span></li><li><span><a href=\"#Заполнение-пропусков\" data-toc-modified-id=\"Заполнение-пропусков-1.3.2\"><span class=\"toc-item-num\">1.3.2&nbsp;&nbsp;</span>Заполнение пропусков</a></span></li><li><span><a href=\"#Исследование-и-исправление-аномалий\" data-toc-modified-id=\"Исследование-и-исправление-аномалий-1.3.3\"><span class=\"toc-item-num\">1.3.3&nbsp;&nbsp;</span>Исследование и исправление аномалий</a></span></li><li><span><a href=\"#Проверка-признаков-на-мультиколлинеарность\" data-toc-modified-id=\"Проверка-признаков-на-мультиколлинеарность-1.3.4\"><span class=\"toc-item-num\">1.3.4&nbsp;&nbsp;</span>Проверка признаков на мультиколлинеарность</a></span></li></ul></li><li><span><a href=\"#Подготовка-признаков\" data-toc-modified-id=\"Подготовка-признаков-1.4\"><span class=\"toc-item-num\">1.4&nbsp;&nbsp;</span>Подготовка признаков</a></span><ul class=\"toc-item\"><li><span><a href=\"#Кодирование-и-преобразование-типов-признаков\" data-toc-modified-id=\"Кодирование-и-преобразование-типов-признаков-1.4.1\"><span class=\"toc-item-num\">1.4.1&nbsp;&nbsp;</span>Кодирование и преобразование типов признаков</a></span></li><li><span><a href=\"#Разделение-на-выборки\" data-toc-modified-id=\"Разделение-на-выборки-1.4.2\"><span class=\"toc-item-num\">1.4.2&nbsp;&nbsp;</span>Разделение на выборки</a></span></li><li><span><a href=\"#Масштабирование-признаков\" data-toc-modified-id=\"Масштабирование-признаков-1.4.3\"><span class=\"toc-item-num\">1.4.3&nbsp;&nbsp;</span>Масштабирование признаков</a></span></li></ul></li></ul></li><li><span><a href=\"#Построение-моделей\" data-toc-modified-id=\"Построение-моделей-2\"><span class=\"toc-item-num\">2&nbsp;&nbsp;</span>Построение моделей</a></span><ul class=\"toc-item\"><li><span><a href=\"#Функции-расчёта-метрики,-времени-и-scorer\" data-toc-modified-id=\"Функции-расчёта-метрики,-времени-и-scorer-2.1\"><span class=\"toc-item-num\">2.1&nbsp;&nbsp;</span>Функции расчёта метрики, времени и scorer</a></span></li><li><span><a href=\"#Константная-модель\" data-toc-modified-id=\"Константная-модель-2.2\"><span class=\"toc-item-num\">2.2&nbsp;&nbsp;</span>Константная модель</a></span></li><li><span><a href=\"#Модель-линейной-регрессии\" data-toc-modified-id=\"Модель-линейной-регрессии-2.3\"><span class=\"toc-item-num\">2.3&nbsp;&nbsp;</span>Модель линейной регрессии</a></span></li><li><span><a href=\"#Модель-&quot;Дерево-решений&quot;\" data-toc-modified-id=\"Модель-&quot;Дерево-решений&quot;-2.4\"><span class=\"toc-item-num\">2.4&nbsp;&nbsp;</span>Модель \"Дерево решений\"</a></span></li><li><span><a href=\"#Модель-&quot;Случайный-лес&quot;\" data-toc-modified-id=\"Модель-&quot;Случайный-лес&quot;-2.5\"><span class=\"toc-item-num\">2.5&nbsp;&nbsp;</span>Модель \"Случайный лес\"</a></span></li><li><span><a href=\"#Модель-LightGBM\" data-toc-modified-id=\"Модель-LightGBM-2.6\"><span class=\"toc-item-num\">2.6&nbsp;&nbsp;</span>Модель LightGBM</a></span></li><li><span><a href=\"#Модель-CatBoost\" data-toc-modified-id=\"Модель-CatBoost-2.7\"><span class=\"toc-item-num\">2.7&nbsp;&nbsp;</span>Модель CatBoost</a></span></li></ul></li><li><span><a href=\"#Анализ-моделей\" data-toc-modified-id=\"Анализ-моделей-3\"><span class=\"toc-item-num\">3&nbsp;&nbsp;</span>Анализ моделей</a></span><ul class=\"toc-item\"><li><span><a href=\"#Сравнение-результатов-и-выбор-лучшей-модели\" data-toc-modified-id=\"Сравнение-результатов-и-выбор-лучшей-модели-3.1\"><span class=\"toc-item-num\">3.1&nbsp;&nbsp;</span>Сравнение результатов и выбор лучшей модели</a></span></li><li><span><a href=\"#Проверка-модели-на-тестовой-выборке\" data-toc-modified-id=\"Проверка-модели-на-тестовой-выборке-3.2\"><span class=\"toc-item-num\">3.2&nbsp;&nbsp;</span>Проверка модели на тестовой выборке</a></span></li></ul></li><li><span><a href=\"#Общий-вывод\" data-toc-modified-id=\"Общий-вывод-4\"><span class=\"toc-item-num\">4&nbsp;&nbsp;</span>Общий вывод</a></span></li></ul></div>"
   ]
  },
  {
   "cell_type": "markdown",
   "metadata": {},
   "source": [
    "# Определение стоимости автомобилей"
   ]
  },
  {
   "cell_type": "markdown",
   "metadata": {},
   "source": [
    "Сервис по продаже автомобилей с пробегом «Не бит, не крашен» разрабатывает приложение для привлечения новых клиентов. В нём можно быстро узнать рыночную стоимость своего автомобиля. \n",
    "\n",
    "В проекте требуется построить модель для определения стоимости подержанных автомобилей на основе исторических данных: технических характеристик, комплектации и цены.\n",
    "Заказчику важны:\n",
    "- качество предсказания;\n",
    "- скорость предсказания;\n",
    "- время обучения.\n",
    "\n",
    "Чтобы усилить исследование, не стоит ограничиваться градиентным бустингом. Нужно поэкспериментировать и с другими более простыми моделями и сравнить значения их метрик качества. Значение метрики RMSE должно быть меньше 2500."
   ]
  },
  {
   "cell_type": "markdown",
   "metadata": {},
   "source": [
    "## Подготовка данных"
   ]
  },
  {
   "cell_type": "markdown",
   "metadata": {},
   "source": [
    "### Загрузка и импорт библиотек и функций"
   ]
  },
  {
   "cell_type": "markdown",
   "metadata": {},
   "source": [
    "В последней версии окружения *ds_practicum_env.yml* не было установлено библиотеки *lightgbm*, поэтому принудительно выполним её установку. При уже установленной библиотеке установщик *pip* попытается обновить её версию."
   ]
  },
  {
   "cell_type": "code",
   "execution_count": 1,
   "metadata": {},
   "outputs": [
    {
     "name": "stdout",
     "output_type": "stream",
     "text": [
      "Requirement already satisfied: lightgbm in c:\\programdata\\anaconda3\\envs\\practicum\\lib\\site-packages (4.0.0)\n",
      "Requirement already satisfied: numpy in c:\\programdata\\anaconda3\\envs\\practicum\\lib\\site-packages (from lightgbm) (1.20.1)\n",
      "Requirement already satisfied: scipy in c:\\programdata\\anaconda3\\envs\\practicum\\lib\\site-packages (from lightgbm) (1.8.0)\n"
     ]
    }
   ],
   "source": [
    "!pip install lightgbm -U"
   ]
  },
  {
   "cell_type": "code",
   "execution_count": 2,
   "metadata": {},
   "outputs": [],
   "source": [
    "import pandas as pd\n",
    "import numpy as np\n",
    "import matplotlib.pyplot as plt\n",
    "import time\n",
    "from sklearn.tree import DecisionTreeRegressor\n",
    "from sklearn.ensemble import RandomForestRegressor\n",
    "from sklearn.linear_model import LinearRegression\n",
    "from sklearn.dummy import DummyRegressor\n",
    "from sklearn.model_selection import GridSearchCV\n",
    "from sklearn.model_selection import cross_val_score\n",
    "from sklearn.model_selection import train_test_split\n",
    "from sklearn.preprocessing import OrdinalEncoder\n",
    "from sklearn.preprocessing import StandardScaler \n",
    "from sklearn.metrics import mean_squared_error\n",
    "from sklearn.metrics import make_scorer\n",
    "from lightgbm import LGBMRegressor\n",
    "from catboost import CatBoostRegressor"
   ]
  },
  {
   "cell_type": "markdown",
   "metadata": {},
   "source": [
    "### Загрузка и изучение данных из файла"
   ]
  },
  {
   "cell_type": "markdown",
   "metadata": {},
   "source": [
    "Загрузим данные из файла и ознакомимся с таблицей."
   ]
  },
  {
   "cell_type": "code",
   "execution_count": 3,
   "metadata": {},
   "outputs": [
    {
     "name": "stdout",
     "output_type": "stream",
     "text": [
      "<class 'pandas.core.frame.DataFrame'>\n",
      "RangeIndex: 354369 entries, 0 to 354368\n",
      "Data columns (total 16 columns):\n",
      " #   Column             Non-Null Count   Dtype \n",
      "---  ------             --------------   ----- \n",
      " 0   DateCrawled        354369 non-null  object\n",
      " 1   Price              354369 non-null  int64 \n",
      " 2   VehicleType        316879 non-null  object\n",
      " 3   RegistrationYear   354369 non-null  int64 \n",
      " 4   Gearbox            334536 non-null  object\n",
      " 5   Power              354369 non-null  int64 \n",
      " 6   Model              334664 non-null  object\n",
      " 7   Kilometer          354369 non-null  int64 \n",
      " 8   RegistrationMonth  354369 non-null  int64 \n",
      " 9   FuelType           321474 non-null  object\n",
      " 10  Brand              354369 non-null  object\n",
      " 11  NotRepaired        283215 non-null  object\n",
      " 12  DateCreated        354369 non-null  object\n",
      " 13  NumberOfPictures   354369 non-null  int64 \n",
      " 14  PostalCode         354369 non-null  int64 \n",
      " 15  LastSeen           354369 non-null  object\n",
      "dtypes: int64(7), object(9)\n",
      "memory usage: 43.3+ MB\n"
     ]
    }
   ],
   "source": [
    "try:\n",
    "    main_data = pd.read_csv('autos.csv')\n",
    "except:\n",
    "    main_data = pd.read_csv('/datasets/autos.csv')\n",
    "main_data.info()"
   ]
  },
  {
   "cell_type": "markdown",
   "metadata": {},
   "source": [
    "В некоторых столбцах таблицы присутствуют пропуски. В следующем подразделе рассмотрим тему заполнения пропусков отдельно. Названия столбцов находятся не в змеином регистре.\n",
    "\n",
    "Посмотрим непосредственно на сами данные. "
   ]
  },
  {
   "cell_type": "code",
   "execution_count": 4,
   "metadata": {
    "scrolled": false
   },
   "outputs": [
    {
     "data": {
      "text/html": [
       "<div>\n",
       "<style scoped>\n",
       "    .dataframe tbody tr th:only-of-type {\n",
       "        vertical-align: middle;\n",
       "    }\n",
       "\n",
       "    .dataframe tbody tr th {\n",
       "        vertical-align: top;\n",
       "    }\n",
       "\n",
       "    .dataframe thead th {\n",
       "        text-align: right;\n",
       "    }\n",
       "</style>\n",
       "<table border=\"1\" class=\"dataframe\">\n",
       "  <thead>\n",
       "    <tr style=\"text-align: right;\">\n",
       "      <th></th>\n",
       "      <th>DateCrawled</th>\n",
       "      <th>Price</th>\n",
       "      <th>VehicleType</th>\n",
       "      <th>RegistrationYear</th>\n",
       "      <th>Gearbox</th>\n",
       "      <th>Power</th>\n",
       "      <th>Model</th>\n",
       "      <th>Kilometer</th>\n",
       "      <th>RegistrationMonth</th>\n",
       "      <th>FuelType</th>\n",
       "      <th>Brand</th>\n",
       "      <th>NotRepaired</th>\n",
       "      <th>DateCreated</th>\n",
       "      <th>NumberOfPictures</th>\n",
       "      <th>PostalCode</th>\n",
       "      <th>LastSeen</th>\n",
       "    </tr>\n",
       "  </thead>\n",
       "  <tbody>\n",
       "    <tr>\n",
       "      <th>0</th>\n",
       "      <td>2016-03-24 11:52:17</td>\n",
       "      <td>480</td>\n",
       "      <td>NaN</td>\n",
       "      <td>1993</td>\n",
       "      <td>manual</td>\n",
       "      <td>0</td>\n",
       "      <td>golf</td>\n",
       "      <td>150000</td>\n",
       "      <td>0</td>\n",
       "      <td>petrol</td>\n",
       "      <td>volkswagen</td>\n",
       "      <td>NaN</td>\n",
       "      <td>2016-03-24 00:00:00</td>\n",
       "      <td>0</td>\n",
       "      <td>70435</td>\n",
       "      <td>2016-04-07 03:16:57</td>\n",
       "    </tr>\n",
       "    <tr>\n",
       "      <th>1</th>\n",
       "      <td>2016-03-24 10:58:45</td>\n",
       "      <td>18300</td>\n",
       "      <td>coupe</td>\n",
       "      <td>2011</td>\n",
       "      <td>manual</td>\n",
       "      <td>190</td>\n",
       "      <td>NaN</td>\n",
       "      <td>125000</td>\n",
       "      <td>5</td>\n",
       "      <td>gasoline</td>\n",
       "      <td>audi</td>\n",
       "      <td>yes</td>\n",
       "      <td>2016-03-24 00:00:00</td>\n",
       "      <td>0</td>\n",
       "      <td>66954</td>\n",
       "      <td>2016-04-07 01:46:50</td>\n",
       "    </tr>\n",
       "    <tr>\n",
       "      <th>2</th>\n",
       "      <td>2016-03-14 12:52:21</td>\n",
       "      <td>9800</td>\n",
       "      <td>suv</td>\n",
       "      <td>2004</td>\n",
       "      <td>auto</td>\n",
       "      <td>163</td>\n",
       "      <td>grand</td>\n",
       "      <td>125000</td>\n",
       "      <td>8</td>\n",
       "      <td>gasoline</td>\n",
       "      <td>jeep</td>\n",
       "      <td>NaN</td>\n",
       "      <td>2016-03-14 00:00:00</td>\n",
       "      <td>0</td>\n",
       "      <td>90480</td>\n",
       "      <td>2016-04-05 12:47:46</td>\n",
       "    </tr>\n",
       "    <tr>\n",
       "      <th>3</th>\n",
       "      <td>2016-03-17 16:54:04</td>\n",
       "      <td>1500</td>\n",
       "      <td>small</td>\n",
       "      <td>2001</td>\n",
       "      <td>manual</td>\n",
       "      <td>75</td>\n",
       "      <td>golf</td>\n",
       "      <td>150000</td>\n",
       "      <td>6</td>\n",
       "      <td>petrol</td>\n",
       "      <td>volkswagen</td>\n",
       "      <td>no</td>\n",
       "      <td>2016-03-17 00:00:00</td>\n",
       "      <td>0</td>\n",
       "      <td>91074</td>\n",
       "      <td>2016-03-17 17:40:17</td>\n",
       "    </tr>\n",
       "    <tr>\n",
       "      <th>4</th>\n",
       "      <td>2016-03-31 17:25:20</td>\n",
       "      <td>3600</td>\n",
       "      <td>small</td>\n",
       "      <td>2008</td>\n",
       "      <td>manual</td>\n",
       "      <td>69</td>\n",
       "      <td>fabia</td>\n",
       "      <td>90000</td>\n",
       "      <td>7</td>\n",
       "      <td>gasoline</td>\n",
       "      <td>skoda</td>\n",
       "      <td>no</td>\n",
       "      <td>2016-03-31 00:00:00</td>\n",
       "      <td>0</td>\n",
       "      <td>60437</td>\n",
       "      <td>2016-04-06 10:17:21</td>\n",
       "    </tr>\n",
       "  </tbody>\n",
       "</table>\n",
       "</div>"
      ],
      "text/plain": [
       "           DateCrawled  Price VehicleType  RegistrationYear Gearbox  Power  \\\n",
       "0  2016-03-24 11:52:17    480         NaN              1993  manual      0   \n",
       "1  2016-03-24 10:58:45  18300       coupe              2011  manual    190   \n",
       "2  2016-03-14 12:52:21   9800         suv              2004    auto    163   \n",
       "3  2016-03-17 16:54:04   1500       small              2001  manual     75   \n",
       "4  2016-03-31 17:25:20   3600       small              2008  manual     69   \n",
       "\n",
       "   Model  Kilometer  RegistrationMonth  FuelType       Brand NotRepaired  \\\n",
       "0   golf     150000                  0    petrol  volkswagen         NaN   \n",
       "1    NaN     125000                  5  gasoline        audi         yes   \n",
       "2  grand     125000                  8  gasoline        jeep         NaN   \n",
       "3   golf     150000                  6    petrol  volkswagen          no   \n",
       "4  fabia      90000                  7  gasoline       skoda          no   \n",
       "\n",
       "           DateCreated  NumberOfPictures  PostalCode             LastSeen  \n",
       "0  2016-03-24 00:00:00                 0       70435  2016-04-07 03:16:57  \n",
       "1  2016-03-24 00:00:00                 0       66954  2016-04-07 01:46:50  \n",
       "2  2016-03-14 00:00:00                 0       90480  2016-04-05 12:47:46  \n",
       "3  2016-03-17 00:00:00                 0       91074  2016-03-17 17:40:17  \n",
       "4  2016-03-31 00:00:00                 0       60437  2016-04-06 10:17:21  "
      ]
     },
     "execution_count": 4,
     "metadata": {},
     "output_type": "execute_result"
    }
   ],
   "source": [
    "main_data.head()"
   ]
  },
  {
   "cell_type": "markdown",
   "metadata": {},
   "source": [
    "Сразу видны столбцы, которые можно будет удалить при подготовке признаков для модели. Они не могут никак влиять на цену. Это *DateCrowled, RegistrationMonth, DateCreated, PostalCode и LastSeen*. Иcследовать подробно эти столбцы не будем.\n",
    "\n",
    "Посмотрим на данные с точки зрения описательной статистики."
   ]
  },
  {
   "cell_type": "code",
   "execution_count": 5,
   "metadata": {
    "scrolled": true
   },
   "outputs": [
    {
     "data": {
      "text/html": [
       "<style  type=\"text/css\" >\n",
       "</style><table id=\"T_115fe_\" ><thead>    <tr>        <th class=\"blank level0\" ></th>        <th class=\"col_heading level0 col0\" >Price</th>        <th class=\"col_heading level0 col1\" >RegistrationYear</th>        <th class=\"col_heading level0 col2\" >Power</th>        <th class=\"col_heading level0 col3\" >Kilometer</th>        <th class=\"col_heading level0 col4\" >RegistrationMonth</th>        <th class=\"col_heading level0 col5\" >NumberOfPictures</th>        <th class=\"col_heading level0 col6\" >PostalCode</th>    </tr></thead><tbody>\n",
       "                <tr>\n",
       "                        <th id=\"T_115fe_level0_row0\" class=\"row_heading level0 row0\" >count</th>\n",
       "                        <td id=\"T_115fe_row0_col0\" class=\"data row0 col0\" >354369</td>\n",
       "                        <td id=\"T_115fe_row0_col1\" class=\"data row0 col1\" >354369</td>\n",
       "                        <td id=\"T_115fe_row0_col2\" class=\"data row0 col2\" >354369</td>\n",
       "                        <td id=\"T_115fe_row0_col3\" class=\"data row0 col3\" >354369</td>\n",
       "                        <td id=\"T_115fe_row0_col4\" class=\"data row0 col4\" >354369</td>\n",
       "                        <td id=\"T_115fe_row0_col5\" class=\"data row0 col5\" >354369</td>\n",
       "                        <td id=\"T_115fe_row0_col6\" class=\"data row0 col6\" >354369</td>\n",
       "            </tr>\n",
       "            <tr>\n",
       "                        <th id=\"T_115fe_level0_row1\" class=\"row_heading level0 row1\" >mean</th>\n",
       "                        <td id=\"T_115fe_row1_col0\" class=\"data row1 col0\" >4417</td>\n",
       "                        <td id=\"T_115fe_row1_col1\" class=\"data row1 col1\" >2004</td>\n",
       "                        <td id=\"T_115fe_row1_col2\" class=\"data row1 col2\" >110</td>\n",
       "                        <td id=\"T_115fe_row1_col3\" class=\"data row1 col3\" >128211</td>\n",
       "                        <td id=\"T_115fe_row1_col4\" class=\"data row1 col4\" >6</td>\n",
       "                        <td id=\"T_115fe_row1_col5\" class=\"data row1 col5\" >0</td>\n",
       "                        <td id=\"T_115fe_row1_col6\" class=\"data row1 col6\" >50509</td>\n",
       "            </tr>\n",
       "            <tr>\n",
       "                        <th id=\"T_115fe_level0_row2\" class=\"row_heading level0 row2\" >std</th>\n",
       "                        <td id=\"T_115fe_row2_col0\" class=\"data row2 col0\" >4514</td>\n",
       "                        <td id=\"T_115fe_row2_col1\" class=\"data row2 col1\" >90</td>\n",
       "                        <td id=\"T_115fe_row2_col2\" class=\"data row2 col2\" >190</td>\n",
       "                        <td id=\"T_115fe_row2_col3\" class=\"data row2 col3\" >37905</td>\n",
       "                        <td id=\"T_115fe_row2_col4\" class=\"data row2 col4\" >4</td>\n",
       "                        <td id=\"T_115fe_row2_col5\" class=\"data row2 col5\" >0</td>\n",
       "                        <td id=\"T_115fe_row2_col6\" class=\"data row2 col6\" >25783</td>\n",
       "            </tr>\n",
       "            <tr>\n",
       "                        <th id=\"T_115fe_level0_row3\" class=\"row_heading level0 row3\" >min</th>\n",
       "                        <td id=\"T_115fe_row3_col0\" class=\"data row3 col0\" >0</td>\n",
       "                        <td id=\"T_115fe_row3_col1\" class=\"data row3 col1\" >1000</td>\n",
       "                        <td id=\"T_115fe_row3_col2\" class=\"data row3 col2\" >0</td>\n",
       "                        <td id=\"T_115fe_row3_col3\" class=\"data row3 col3\" >5000</td>\n",
       "                        <td id=\"T_115fe_row3_col4\" class=\"data row3 col4\" >0</td>\n",
       "                        <td id=\"T_115fe_row3_col5\" class=\"data row3 col5\" >0</td>\n",
       "                        <td id=\"T_115fe_row3_col6\" class=\"data row3 col6\" >1067</td>\n",
       "            </tr>\n",
       "            <tr>\n",
       "                        <th id=\"T_115fe_level0_row4\" class=\"row_heading level0 row4\" >25%</th>\n",
       "                        <td id=\"T_115fe_row4_col0\" class=\"data row4 col0\" >1050</td>\n",
       "                        <td id=\"T_115fe_row4_col1\" class=\"data row4 col1\" >1999</td>\n",
       "                        <td id=\"T_115fe_row4_col2\" class=\"data row4 col2\" >69</td>\n",
       "                        <td id=\"T_115fe_row4_col3\" class=\"data row4 col3\" >125000</td>\n",
       "                        <td id=\"T_115fe_row4_col4\" class=\"data row4 col4\" >3</td>\n",
       "                        <td id=\"T_115fe_row4_col5\" class=\"data row4 col5\" >0</td>\n",
       "                        <td id=\"T_115fe_row4_col6\" class=\"data row4 col6\" >30165</td>\n",
       "            </tr>\n",
       "            <tr>\n",
       "                        <th id=\"T_115fe_level0_row5\" class=\"row_heading level0 row5\" >50%</th>\n",
       "                        <td id=\"T_115fe_row5_col0\" class=\"data row5 col0\" >2700</td>\n",
       "                        <td id=\"T_115fe_row5_col1\" class=\"data row5 col1\" >2003</td>\n",
       "                        <td id=\"T_115fe_row5_col2\" class=\"data row5 col2\" >105</td>\n",
       "                        <td id=\"T_115fe_row5_col3\" class=\"data row5 col3\" >150000</td>\n",
       "                        <td id=\"T_115fe_row5_col4\" class=\"data row5 col4\" >6</td>\n",
       "                        <td id=\"T_115fe_row5_col5\" class=\"data row5 col5\" >0</td>\n",
       "                        <td id=\"T_115fe_row5_col6\" class=\"data row5 col6\" >49413</td>\n",
       "            </tr>\n",
       "            <tr>\n",
       "                        <th id=\"T_115fe_level0_row6\" class=\"row_heading level0 row6\" >75%</th>\n",
       "                        <td id=\"T_115fe_row6_col0\" class=\"data row6 col0\" >6400</td>\n",
       "                        <td id=\"T_115fe_row6_col1\" class=\"data row6 col1\" >2008</td>\n",
       "                        <td id=\"T_115fe_row6_col2\" class=\"data row6 col2\" >143</td>\n",
       "                        <td id=\"T_115fe_row6_col3\" class=\"data row6 col3\" >150000</td>\n",
       "                        <td id=\"T_115fe_row6_col4\" class=\"data row6 col4\" >9</td>\n",
       "                        <td id=\"T_115fe_row6_col5\" class=\"data row6 col5\" >0</td>\n",
       "                        <td id=\"T_115fe_row6_col6\" class=\"data row6 col6\" >71083</td>\n",
       "            </tr>\n",
       "            <tr>\n",
       "                        <th id=\"T_115fe_level0_row7\" class=\"row_heading level0 row7\" >max</th>\n",
       "                        <td id=\"T_115fe_row7_col0\" class=\"data row7 col0\" >20000</td>\n",
       "                        <td id=\"T_115fe_row7_col1\" class=\"data row7 col1\" >9999</td>\n",
       "                        <td id=\"T_115fe_row7_col2\" class=\"data row7 col2\" >20000</td>\n",
       "                        <td id=\"T_115fe_row7_col3\" class=\"data row7 col3\" >150000</td>\n",
       "                        <td id=\"T_115fe_row7_col4\" class=\"data row7 col4\" >12</td>\n",
       "                        <td id=\"T_115fe_row7_col5\" class=\"data row7 col5\" >0</td>\n",
       "                        <td id=\"T_115fe_row7_col6\" class=\"data row7 col6\" >99998</td>\n",
       "            </tr>\n",
       "    </tbody></table>"
      ],
      "text/plain": [
       "<pandas.io.formats.style.Styler at 0x1f3d636cc40>"
      ]
     },
     "execution_count": 5,
     "metadata": {},
     "output_type": "execute_result"
    }
   ],
   "source": [
    "main_data.describe().style.format('{:.0f}')"
   ]
  },
  {
   "cell_type": "markdown",
   "metadata": {},
   "source": [
    "По результату функции *describe* можно сделать следующие выводы:\n",
    "- в столбцах *Price, RegistrationYear, Power* присутствуют выбросы и аномальные значения;\n",
    "- столбец *NumberOfPictures* содержит одни нули. Столбец следует исключить из таблицы."
   ]
  },
  {
   "cell_type": "markdown",
   "metadata": {},
   "source": [
    "Проверим теперь столбцы с категориальными значениями."
   ]
  },
  {
   "cell_type": "code",
   "execution_count": 6,
   "metadata": {},
   "outputs": [
    {
     "data": {
      "text/plain": [
       "sedan          91457\n",
       "small          79831\n",
       "wagon          65166\n",
       "bus            28775\n",
       "convertible    20203\n",
       "coupe          16163\n",
       "suv            11996\n",
       "other           3288\n",
       "Name: VehicleType, dtype: int64"
      ]
     },
     "execution_count": 6,
     "metadata": {},
     "output_type": "execute_result"
    }
   ],
   "source": [
    "main_data['VehicleType'].value_counts()"
   ]
  },
  {
   "cell_type": "code",
   "execution_count": 7,
   "metadata": {},
   "outputs": [
    {
     "data": {
      "text/plain": [
       "manual    268251\n",
       "auto       66285\n",
       "Name: Gearbox, dtype: int64"
      ]
     },
     "execution_count": 7,
     "metadata": {},
     "output_type": "execute_result"
    }
   ],
   "source": [
    "main_data['Gearbox'].value_counts()"
   ]
  },
  {
   "cell_type": "markdown",
   "metadata": {},
   "source": [
    "Столбец с моделями автомобилей отсортируем для удобства восприятия."
   ]
  },
  {
   "cell_type": "code",
   "execution_count": 8,
   "metadata": {
    "scrolled": false
   },
   "outputs": [
    {
     "data": {
      "text/plain": [
       "array(['100', '145', '147', '156', '159', '1_reihe', '1er', '200',\n",
       "       '2_reihe', '300c', '3_reihe', '3er', '4_reihe', '500', '5_reihe',\n",
       "       '5er', '601', '6_reihe', '6er', '7er', '80', '850', '90', '900',\n",
       "       '9000', '911', 'a1', 'a2', 'a3', 'a4', 'a5', 'a6', 'a8',\n",
       "       'a_klasse', 'accord', 'agila', 'alhambra', 'almera', 'altea',\n",
       "       'amarok', 'antara', 'arosa', 'astra', 'auris', 'avensis', 'aveo',\n",
       "       'aygo', 'b_klasse', 'b_max', 'beetle', 'berlingo', 'bora',\n",
       "       'boxster', 'bravo', 'c1', 'c2', 'c3', 'c4', 'c5', 'c_klasse',\n",
       "       'c_max', 'c_reihe', 'caddy', 'calibra', 'captiva', 'carisma',\n",
       "       'carnival', 'cayenne', 'cc', 'ceed', 'charade', 'cherokee',\n",
       "       'citigo', 'civic', 'cl', 'clio', 'clk', 'clubman', 'colt', 'combo',\n",
       "       'cooper', 'cordoba', 'corolla', 'corsa', 'cr_reihe', 'croma',\n",
       "       'crossfire', 'cuore', 'cx_reihe', 'defender', 'delta', 'discovery',\n",
       "       'doblo', 'ducato', 'duster', 'e_klasse', 'elefantino', 'eos',\n",
       "       'escort', 'espace', 'exeo', 'fabia', 'fiesta', 'focus', 'forester',\n",
       "       'forfour', 'fortwo', 'fox', 'freelander', 'fusion', 'g_klasse',\n",
       "       'galant', 'galaxy', 'getz', 'gl', 'glk', 'golf', 'grand', 'i3',\n",
       "       'i_reihe', 'ibiza', 'impreza', 'insignia', 'jazz', 'jetta',\n",
       "       'jimny', 'juke', 'justy', 'ka', 'kadett', 'kaefer', 'kalina',\n",
       "       'kalos', 'kangoo', 'kappa', 'kuga', 'laguna', 'lancer', 'lanos',\n",
       "       'legacy', 'leon', 'lodgy', 'logan', 'lupo', 'lybra', 'm_klasse',\n",
       "       'm_reihe', 'materia', 'matiz', 'megane', 'meriva', 'micra', 'mii',\n",
       "       'modus', 'mondeo', 'move', 'musa', 'mustang', 'mx_reihe', 'nan',\n",
       "       'navara', 'niva', 'note', 'nubira', 'octavia', 'omega', 'one',\n",
       "       'other', 'outlander', 'pajero', 'panda', 'passat', 'phaeton',\n",
       "       'picanto', 'polo', 'primera', 'ptcruiser', 'punto', 'q3', 'q5',\n",
       "       'q7', 'qashqai', 'r19', 'range_rover', 'range_rover_evoque',\n",
       "       'range_rover_sport', 'rangerover', 'rav', 'rio', 'roadster',\n",
       "       'roomster', 'rx_reihe', 's60', 's_klasse', 's_max', 's_type',\n",
       "       'samara', 'sandero', 'santa', 'scenic', 'scirocco', 'seicento',\n",
       "       'serie_1', 'serie_2', 'serie_3', 'sharan', 'signum', 'sirion',\n",
       "       'sl', 'slk', 'sorento', 'spark', 'spider', 'sportage', 'sprinter',\n",
       "       'stilo', 'superb', 'swift', 'terios', 'tigra', 'tiguan', 'toledo',\n",
       "       'touareg', 'touran', 'transit', 'transporter', 'tt', 'tucson',\n",
       "       'twingo', 'up', 'v40', 'v50', 'v60', 'v70', 'v_klasse', 'vectra',\n",
       "       'verso', 'viano', 'vito', 'vivaro', 'voyager', 'wrangler',\n",
       "       'x_reihe', 'x_trail', 'x_type', 'xc_reihe', 'yaris', 'yeti',\n",
       "       'ypsilon', 'z_reihe', 'zafira'], dtype='<U18')"
      ]
     },
     "execution_count": 8,
     "metadata": {},
     "output_type": "execute_result"
    }
   ],
   "source": [
    "np.sort(main_data['Model'].unique().astype('str'))"
   ]
  },
  {
   "cell_type": "code",
   "execution_count": 9,
   "metadata": {},
   "outputs": [
    {
     "data": {
      "text/plain": [
       "petrol      216352\n",
       "gasoline     98720\n",
       "lpg           5310\n",
       "cng            565\n",
       "hybrid         233\n",
       "other          204\n",
       "electric        90\n",
       "Name: FuelType, dtype: int64"
      ]
     },
     "execution_count": 9,
     "metadata": {},
     "output_type": "execute_result"
    }
   ],
   "source": [
    "main_data['FuelType'].value_counts()"
   ]
  },
  {
   "cell_type": "code",
   "execution_count": 10,
   "metadata": {},
   "outputs": [
    {
     "data": {
      "text/plain": [
       "array(['volkswagen', 'audi', 'jeep', 'skoda', 'bmw', 'peugeot', 'ford',\n",
       "       'mazda', 'nissan', 'renault', 'mercedes_benz', 'opel', 'seat',\n",
       "       'citroen', 'honda', 'fiat', 'mini', 'smart', 'hyundai',\n",
       "       'sonstige_autos', 'alfa_romeo', 'subaru', 'volvo', 'mitsubishi',\n",
       "       'kia', 'suzuki', 'lancia', 'toyota', 'chevrolet', 'dacia',\n",
       "       'daihatsu', 'trabant', 'saab', 'chrysler', 'jaguar', 'daewoo',\n",
       "       'porsche', 'rover', 'land_rover', 'lada'], dtype=object)"
      ]
     },
     "execution_count": 10,
     "metadata": {},
     "output_type": "execute_result"
    }
   ],
   "source": [
    "main_data['Brand'].unique()"
   ]
  },
  {
   "cell_type": "code",
   "execution_count": 11,
   "metadata": {},
   "outputs": [
    {
     "data": {
      "text/plain": [
       "no     247161\n",
       "yes     36054\n",
       "Name: NotRepaired, dtype: int64"
      ]
     },
     "execution_count": 11,
     "metadata": {},
     "output_type": "execute_result"
    }
   ],
   "source": [
    "main_data['NotRepaired'].value_counts()"
   ]
  },
  {
   "cell_type": "markdown",
   "metadata": {},
   "source": [
    "Все рассмотренные столбцы с категориальными значениями не содержат аномалий. \n",
    "\n",
    "На этом изучение данных закончено. Далее исправим обозначенные выше проблемы."
   ]
  },
  {
   "cell_type": "markdown",
   "metadata": {},
   "source": [
    "### Предобработка данных"
   ]
  },
  {
   "cell_type": "markdown",
   "metadata": {},
   "source": [
    "#### Разные операции"
   ]
  },
  {
   "cell_type": "markdown",
   "metadata": {},
   "source": [
    "Для начала приведём имена столбцов таблицы к змеиному регистру. Воспользуемся для этого регулярными выражениями. Дополнительное условие добавлено для того, чтобы названия столбцов не теряли первую букву при попытке переименования уже преобразованных имён столбцов."
   ]
  },
  {
   "cell_type": "code",
   "execution_count": 12,
   "metadata": {},
   "outputs": [
    {
     "data": {
      "text/plain": [
       "Index(['date_crawled', 'price', 'vehicle_type', 'registration_year', 'gearbox',\n",
       "       'power', 'model', 'kilometer', 'registration_month', 'fuel_type',\n",
       "       'brand', 'not_repaired', 'date_created', 'number_of_pictures',\n",
       "       'postal_code', 'last_seen'],\n",
       "      dtype='object')"
      ]
     },
     "execution_count": 12,
     "metadata": {},
     "output_type": "execute_result"
    }
   ],
   "source": [
    "main_data.columns = main_data.columns.str.replace(r\"([A-Z])\", r\" \\1\", regex=True).str.lower().str.replace(' ', '_')\n",
    "if (main_data.columns.str[0]=='_').all():\n",
    "    main_data.columns = main_data.columns.str[1:]\n",
    "main_data.columns"
   ]
  },
  {
   "cell_type": "markdown",
   "metadata": {},
   "source": [
    "Имена столбцов изменились корректно. \n",
    "\n",
    "Теперь проверим таблицу на наличие дубликатов. Сделать это нужно до удаления ненужных столбцов (*DateCrowled, RegistrationMonth, DateCreated, PostalCode и LastSeen*), так как они однозначно определят что дубликат действительно является лишней копией строки, а не полезной информацией."
   ]
  },
  {
   "cell_type": "code",
   "execution_count": 13,
   "metadata": {},
   "outputs": [
    {
     "data": {
      "text/plain": [
       "4"
      ]
     },
     "execution_count": 13,
     "metadata": {},
     "output_type": "execute_result"
    }
   ],
   "source": [
    "main_data.duplicated().sum()"
   ]
  },
  {
   "cell_type": "markdown",
   "metadata": {},
   "source": [
    "Определилось 4 дубликата. Удалим их."
   ]
  },
  {
   "cell_type": "code",
   "execution_count": 14,
   "metadata": {
    "scrolled": true
   },
   "outputs": [
    {
     "data": {
      "text/plain": [
       "(354365, 16)"
      ]
     },
     "execution_count": 14,
     "metadata": {},
     "output_type": "execute_result"
    }
   ],
   "source": [
    "main_data.drop_duplicates(inplace=True)\n",
    "main_data.shape"
   ]
  },
  {
   "cell_type": "markdown",
   "metadata": {},
   "source": [
    "Дубликаты успешно удалились. Далее следует удалить ненужные столбцы, но перед этим посмотрим полезную информацию в них. Она пригодится при обработке аномалий. Определим самый поздний год выгрузки анкет."
   ]
  },
  {
   "cell_type": "code",
   "execution_count": 15,
   "metadata": {},
   "outputs": [
    {
     "data": {
      "text/plain": [
       "90713    2016-04-07 14:36:58\n",
       "Name: date_crawled, dtype: object"
      ]
     },
     "execution_count": 15,
     "metadata": {},
     "output_type": "execute_result"
    }
   ],
   "source": [
    "main_data['date_crawled'].sort_values(ascending=False).head(1)"
   ]
  },
  {
   "cell_type": "markdown",
   "metadata": {},
   "source": [
    "Самые последние данные были выгружены в 2016 году. Запомним этот год.\n",
    "\n",
    "Теперь можно удалить ненужные для будущего обучения моделей столбцы *DateCrowled, RegistrationMonth, DateCreated, PostalCode, LastSeen*, а также столбец *NumberOfPictures*."
   ]
  },
  {
   "cell_type": "code",
   "execution_count": 16,
   "metadata": {},
   "outputs": [
    {
     "data": {
      "text/plain": [
       "(354365, 10)"
      ]
     },
     "execution_count": 16,
     "metadata": {},
     "output_type": "execute_result"
    }
   ],
   "source": [
    "main_data.drop(['date_crawled','registration_month','date_created','postal_code','last_seen',\n",
    "                'number_of_pictures'], axis=1, inplace=True)\n",
    "main_data.shape"
   ]
  },
  {
   "cell_type": "markdown",
   "metadata": {},
   "source": [
    "Лишние столбцы успешно удалились."
   ]
  },
  {
   "cell_type": "markdown",
   "metadata": {},
   "source": [
    "#### Заполнение пропусков"
   ]
  },
  {
   "cell_type": "markdown",
   "metadata": {},
   "source": [
    "Теперь займёмся заполнением пропусков. Для удобства повторно выведем информацию о таблице."
   ]
  },
  {
   "cell_type": "code",
   "execution_count": 17,
   "metadata": {},
   "outputs": [
    {
     "name": "stdout",
     "output_type": "stream",
     "text": [
      "<class 'pandas.core.frame.DataFrame'>\n",
      "Int64Index: 354365 entries, 0 to 354368\n",
      "Data columns (total 10 columns):\n",
      " #   Column             Non-Null Count   Dtype \n",
      "---  ------             --------------   ----- \n",
      " 0   price              354365 non-null  int64 \n",
      " 1   vehicle_type       316875 non-null  object\n",
      " 2   registration_year  354365 non-null  int64 \n",
      " 3   gearbox            334532 non-null  object\n",
      " 4   power              354365 non-null  int64 \n",
      " 5   model              334660 non-null  object\n",
      " 6   kilometer          354365 non-null  int64 \n",
      " 7   fuel_type          321470 non-null  object\n",
      " 8   brand              354365 non-null  object\n",
      " 9   not_repaired       283211 non-null  object\n",
      "dtypes: int64(4), object(6)\n",
      "memory usage: 29.7+ MB\n"
     ]
    }
   ],
   "source": [
    "main_data.info()"
   ]
  },
  {
   "cell_type": "markdown",
   "metadata": {},
   "source": [
    "Начнём со столбца *vehicle_type* (тип кузова). В нём имеются значения *other*. Ими и логично заполнить пропуски. Аналогичная ситуация со столбцами *model* и *fuel_type*."
   ]
  },
  {
   "cell_type": "code",
   "execution_count": 18,
   "metadata": {},
   "outputs": [],
   "source": [
    "main_data['vehicle_type'].fillna(value='other',inplace=True)\n",
    "main_data['model'].fillna(value='other',inplace=True)\n",
    "main_data['fuel_type'].fillna(value='other',inplace=True)"
   ]
  },
  {
   "cell_type": "markdown",
   "metadata": {},
   "source": [
    "Рассмотрим теперь столбец *gearbox*. Заполнять пропуски значением \"other\" (другой) не совсем логично, так как в реальности у автомобилей с пропусками могут быть ручные или автоматические коробки передач, а не \"другие\". Заполним пропуски в столбце значением \"unknown\"."
   ]
  },
  {
   "cell_type": "code",
   "execution_count": 19,
   "metadata": {},
   "outputs": [],
   "source": [
    "main_data['gearbox'].fillna(value='unknown',inplace=True)"
   ]
  },
  {
   "cell_type": "markdown",
   "metadata": {},
   "source": [
    "Далее рассмотрим последний столбец с пропусками not_repaired. Он сообщает о том, была ли машина в ремонте или нет. Если машина была в ремонте, то возможно она участвовала в аварии. Это крайне важный параметр, влияющий на цену. Пропуски в этом столбце могли быть как случайными, так и сознательными (продавец решил не указывать, что машина ремонтировалась). Поэтому нельзя заполнять пропуски каким-то одним из значений \"да\" или \"нет\". Заполним пропуски значением \"unknown\". А в идеале нужно посоветовать коллегам по подготовке данных принять меры, чтобы значения столбца заполнялись на 100% (к примеру, нельзя сохранить и отправить анкету автомобиля, пока не будет заполнено поле о его ремонте)."
   ]
  },
  {
   "cell_type": "code",
   "execution_count": 20,
   "metadata": {},
   "outputs": [],
   "source": [
    "main_data['not_repaired'].fillna(value='unknown',inplace=True)"
   ]
  },
  {
   "cell_type": "markdown",
   "metadata": {},
   "source": [
    "Теперь проверим насколько удачно произошло заполнение пропусков в таблице."
   ]
  },
  {
   "cell_type": "code",
   "execution_count": 21,
   "metadata": {},
   "outputs": [
    {
     "name": "stdout",
     "output_type": "stream",
     "text": [
      "<class 'pandas.core.frame.DataFrame'>\n",
      "Int64Index: 354365 entries, 0 to 354368\n",
      "Data columns (total 10 columns):\n",
      " #   Column             Non-Null Count   Dtype \n",
      "---  ------             --------------   ----- \n",
      " 0   price              354365 non-null  int64 \n",
      " 1   vehicle_type       354365 non-null  object\n",
      " 2   registration_year  354365 non-null  int64 \n",
      " 3   gearbox            354365 non-null  object\n",
      " 4   power              354365 non-null  int64 \n",
      " 5   model              354365 non-null  object\n",
      " 6   kilometer          354365 non-null  int64 \n",
      " 7   fuel_type          354365 non-null  object\n",
      " 8   brand              354365 non-null  object\n",
      " 9   not_repaired       354365 non-null  object\n",
      "dtypes: int64(4), object(6)\n",
      "memory usage: 29.7+ MB\n"
     ]
    }
   ],
   "source": [
    "main_data.info()"
   ]
  },
  {
   "cell_type": "markdown",
   "metadata": {},
   "source": [
    "Все пропуски успешно заполнены."
   ]
  },
  {
   "cell_type": "markdown",
   "metadata": {},
   "source": [
    "#### Исследование и исправление аномалий"
   ]
  },
  {
   "cell_type": "markdown",
   "metadata": {},
   "source": [
    "Теперь исследуем аномальные значения в столбцах. Начнём со столбца *price*, который содержит целевой признак. Построим гистограмму значений."
   ]
  },
  {
   "cell_type": "code",
   "execution_count": 22,
   "metadata": {
    "scrolled": false
   },
   "outputs": [
    {
     "data": {
      "image/png": "[encoded data removed]",
      "text/plain": [
       "<Figure size 1008x432 with 1 Axes>"
      ]
     },
     "metadata": {
      "needs_background": "light"
     },
     "output_type": "display_data"
    }
   ],
   "source": [
    "plt.figure(figsize=(14, 6))\n",
    "plt.hist(main_data['price'], bins=50)\n",
    "plt.xlabel('Цена автомобиля')\n",
    "plt.ylabel('Частота')\n",
    "plt.title('Распределение цены автомобилей')\n",
    "plt.show()"
   ]
  },
  {
   "cell_type": "markdown",
   "metadata": {},
   "source": [
    "Определим интервал значений, не являющихся выбросами, по правилу \"трёх сигм\". Левая граница этого интервала совпадает с нулём. А правая граница равна:"
   ]
  },
  {
   "cell_type": "code",
   "execution_count": 23,
   "metadata": {},
   "outputs": [
    {
     "data": {
      "text/plain": [
       "17959.208876853452"
      ]
     },
     "execution_count": 23,
     "metadata": {},
     "output_type": "execute_result"
    }
   ],
   "source": [
    "main_data['price'].mean() + 3*main_data['price'].std()"
   ]
  },
  {
   "cell_type": "markdown",
   "metadata": {},
   "source": [
    "Посмотрим, какие автомобили в таблице имеют цену выше 17960."
   ]
  },
  {
   "cell_type": "code",
   "execution_count": 24,
   "metadata": {},
   "outputs": [
    {
     "data": {
      "text/html": [
       "<div>\n",
       "<style scoped>\n",
       "    .dataframe tbody tr th:only-of-type {\n",
       "        vertical-align: middle;\n",
       "    }\n",
       "\n",
       "    .dataframe tbody tr th {\n",
       "        vertical-align: top;\n",
       "    }\n",
       "\n",
       "    .dataframe thead th {\n",
       "        text-align: right;\n",
       "    }\n",
       "</style>\n",
       "<table border=\"1\" class=\"dataframe\">\n",
       "  <thead>\n",
       "    <tr style=\"text-align: right;\">\n",
       "      <th></th>\n",
       "      <th>price</th>\n",
       "      <th>vehicle_type</th>\n",
       "      <th>registration_year</th>\n",
       "      <th>gearbox</th>\n",
       "      <th>power</th>\n",
       "      <th>model</th>\n",
       "      <th>kilometer</th>\n",
       "      <th>fuel_type</th>\n",
       "      <th>brand</th>\n",
       "      <th>not_repaired</th>\n",
       "    </tr>\n",
       "  </thead>\n",
       "  <tbody>\n",
       "    <tr>\n",
       "      <th>1</th>\n",
       "      <td>18300</td>\n",
       "      <td>coupe</td>\n",
       "      <td>2011</td>\n",
       "      <td>manual</td>\n",
       "      <td>190</td>\n",
       "      <td>other</td>\n",
       "      <td>125000</td>\n",
       "      <td>gasoline</td>\n",
       "      <td>audi</td>\n",
       "      <td>yes</td>\n",
       "    </tr>\n",
       "    <tr>\n",
       "      <th>14</th>\n",
       "      <td>17999</td>\n",
       "      <td>suv</td>\n",
       "      <td>2011</td>\n",
       "      <td>manual</td>\n",
       "      <td>190</td>\n",
       "      <td>navara</td>\n",
       "      <td>70000</td>\n",
       "      <td>gasoline</td>\n",
       "      <td>nissan</td>\n",
       "      <td>no</td>\n",
       "    </tr>\n",
       "    <tr>\n",
       "      <th>33</th>\n",
       "      <td>18000</td>\n",
       "      <td>sedan</td>\n",
       "      <td>2007</td>\n",
       "      <td>auto</td>\n",
       "      <td>218</td>\n",
       "      <td>3er</td>\n",
       "      <td>20000</td>\n",
       "      <td>petrol</td>\n",
       "      <td>bmw</td>\n",
       "      <td>no</td>\n",
       "    </tr>\n",
       "    <tr>\n",
       "      <th>172</th>\n",
       "      <td>19750</td>\n",
       "      <td>convertible</td>\n",
       "      <td>2006</td>\n",
       "      <td>manual</td>\n",
       "      <td>305</td>\n",
       "      <td>mustang</td>\n",
       "      <td>50000</td>\n",
       "      <td>petrol</td>\n",
       "      <td>ford</td>\n",
       "      <td>no</td>\n",
       "    </tr>\n",
       "    <tr>\n",
       "      <th>204</th>\n",
       "      <td>18400</td>\n",
       "      <td>wagon</td>\n",
       "      <td>2011</td>\n",
       "      <td>auto</td>\n",
       "      <td>313</td>\n",
       "      <td>5er</td>\n",
       "      <td>150000</td>\n",
       "      <td>gasoline</td>\n",
       "      <td>bmw</td>\n",
       "      <td>no</td>\n",
       "    </tr>\n",
       "    <tr>\n",
       "      <th>282</th>\n",
       "      <td>18700</td>\n",
       "      <td>coupe</td>\n",
       "      <td>2009</td>\n",
       "      <td>auto</td>\n",
       "      <td>213</td>\n",
       "      <td>mustang</td>\n",
       "      <td>80000</td>\n",
       "      <td>petrol</td>\n",
       "      <td>ford</td>\n",
       "      <td>no</td>\n",
       "    </tr>\n",
       "    <tr>\n",
       "      <th>337</th>\n",
       "      <td>18880</td>\n",
       "      <td>bus</td>\n",
       "      <td>2014</td>\n",
       "      <td>manual</td>\n",
       "      <td>116</td>\n",
       "      <td>5_reihe</td>\n",
       "      <td>20000</td>\n",
       "      <td>gasoline</td>\n",
       "      <td>mazda</td>\n",
       "      <td>no</td>\n",
       "    </tr>\n",
       "    <tr>\n",
       "      <th>484</th>\n",
       "      <td>19900</td>\n",
       "      <td>bus</td>\n",
       "      <td>2009</td>\n",
       "      <td>manual</td>\n",
       "      <td>150</td>\n",
       "      <td>viano</td>\n",
       "      <td>90000</td>\n",
       "      <td>gasoline</td>\n",
       "      <td>mercedes_benz</td>\n",
       "      <td>no</td>\n",
       "    </tr>\n",
       "    <tr>\n",
       "      <th>521</th>\n",
       "      <td>18300</td>\n",
       "      <td>suv</td>\n",
       "      <td>2013</td>\n",
       "      <td>manual</td>\n",
       "      <td>122</td>\n",
       "      <td>tiguan</td>\n",
       "      <td>40000</td>\n",
       "      <td>petrol</td>\n",
       "      <td>volkswagen</td>\n",
       "      <td>no</td>\n",
       "    </tr>\n",
       "    <tr>\n",
       "      <th>742</th>\n",
       "      <td>18000</td>\n",
       "      <td>convertible</td>\n",
       "      <td>2012</td>\n",
       "      <td>manual</td>\n",
       "      <td>122</td>\n",
       "      <td>golf</td>\n",
       "      <td>20000</td>\n",
       "      <td>petrol</td>\n",
       "      <td>volkswagen</td>\n",
       "      <td>no</td>\n",
       "    </tr>\n",
       "    <tr>\n",
       "      <th>1040</th>\n",
       "      <td>18500</td>\n",
       "      <td>wagon</td>\n",
       "      <td>2013</td>\n",
       "      <td>manual</td>\n",
       "      <td>150</td>\n",
       "      <td>octavia</td>\n",
       "      <td>50000</td>\n",
       "      <td>gasoline</td>\n",
       "      <td>skoda</td>\n",
       "      <td>no</td>\n",
       "    </tr>\n",
       "    <tr>\n",
       "      <th>1232</th>\n",
       "      <td>18500</td>\n",
       "      <td>wagon</td>\n",
       "      <td>2014</td>\n",
       "      <td>manual</td>\n",
       "      <td>140</td>\n",
       "      <td>passat</td>\n",
       "      <td>50000</td>\n",
       "      <td>gasoline</td>\n",
       "      <td>volkswagen</td>\n",
       "      <td>no</td>\n",
       "    </tr>\n",
       "    <tr>\n",
       "      <th>1291</th>\n",
       "      <td>18000</td>\n",
       "      <td>wagon</td>\n",
       "      <td>2008</td>\n",
       "      <td>manual</td>\n",
       "      <td>200</td>\n",
       "      <td>a3</td>\n",
       "      <td>70000</td>\n",
       "      <td>petrol</td>\n",
       "      <td>audi</td>\n",
       "      <td>no</td>\n",
       "    </tr>\n",
       "    <tr>\n",
       "      <th>1339</th>\n",
       "      <td>18000</td>\n",
       "      <td>sedan</td>\n",
       "      <td>2008</td>\n",
       "      <td>auto</td>\n",
       "      <td>232</td>\n",
       "      <td>a8</td>\n",
       "      <td>125000</td>\n",
       "      <td>gasoline</td>\n",
       "      <td>audi</td>\n",
       "      <td>no</td>\n",
       "    </tr>\n",
       "    <tr>\n",
       "      <th>1360</th>\n",
       "      <td>19850</td>\n",
       "      <td>sedan</td>\n",
       "      <td>2013</td>\n",
       "      <td>auto</td>\n",
       "      <td>150</td>\n",
       "      <td>golf</td>\n",
       "      <td>60000</td>\n",
       "      <td>gasoline</td>\n",
       "      <td>volkswagen</td>\n",
       "      <td>no</td>\n",
       "    </tr>\n",
       "    <tr>\n",
       "      <th>1451</th>\n",
       "      <td>18600</td>\n",
       "      <td>sedan</td>\n",
       "      <td>2013</td>\n",
       "      <td>manual</td>\n",
       "      <td>140</td>\n",
       "      <td>leon</td>\n",
       "      <td>30000</td>\n",
       "      <td>petrol</td>\n",
       "      <td>seat</td>\n",
       "      <td>no</td>\n",
       "    </tr>\n",
       "    <tr>\n",
       "      <th>1515</th>\n",
       "      <td>20000</td>\n",
       "      <td>sedan</td>\n",
       "      <td>2010</td>\n",
       "      <td>auto</td>\n",
       "      <td>239</td>\n",
       "      <td>a6</td>\n",
       "      <td>150000</td>\n",
       "      <td>gasoline</td>\n",
       "      <td>audi</td>\n",
       "      <td>no</td>\n",
       "    </tr>\n",
       "    <tr>\n",
       "      <th>1549</th>\n",
       "      <td>18999</td>\n",
       "      <td>sedan</td>\n",
       "      <td>2003</td>\n",
       "      <td>manual</td>\n",
       "      <td>241</td>\n",
       "      <td>golf</td>\n",
       "      <td>80000</td>\n",
       "      <td>petrol</td>\n",
       "      <td>volkswagen</td>\n",
       "      <td>no</td>\n",
       "    </tr>\n",
       "    <tr>\n",
       "      <th>1581</th>\n",
       "      <td>18000</td>\n",
       "      <td>sedan</td>\n",
       "      <td>2010</td>\n",
       "      <td>auto</td>\n",
       "      <td>245</td>\n",
       "      <td>7er</td>\n",
       "      <td>60000</td>\n",
       "      <td>gasoline</td>\n",
       "      <td>bmw</td>\n",
       "      <td>no</td>\n",
       "    </tr>\n",
       "    <tr>\n",
       "      <th>1586</th>\n",
       "      <td>20000</td>\n",
       "      <td>sedan</td>\n",
       "      <td>2014</td>\n",
       "      <td>auto</td>\n",
       "      <td>184</td>\n",
       "      <td>leon</td>\n",
       "      <td>40000</td>\n",
       "      <td>gasoline</td>\n",
       "      <td>seat</td>\n",
       "      <td>no</td>\n",
       "    </tr>\n",
       "  </tbody>\n",
       "</table>\n",
       "</div>"
      ],
      "text/plain": [
       "      price vehicle_type  registration_year gearbox  power    model  \\\n",
       "1     18300        coupe               2011  manual    190    other   \n",
       "14    17999          suv               2011  manual    190   navara   \n",
       "33    18000        sedan               2007    auto    218      3er   \n",
       "172   19750  convertible               2006  manual    305  mustang   \n",
       "204   18400        wagon               2011    auto    313      5er   \n",
       "282   18700        coupe               2009    auto    213  mustang   \n",
       "337   18880          bus               2014  manual    116  5_reihe   \n",
       "484   19900          bus               2009  manual    150    viano   \n",
       "521   18300          suv               2013  manual    122   tiguan   \n",
       "742   18000  convertible               2012  manual    122     golf   \n",
       "1040  18500        wagon               2013  manual    150  octavia   \n",
       "1232  18500        wagon               2014  manual    140   passat   \n",
       "1291  18000        wagon               2008  manual    200       a3   \n",
       "1339  18000        sedan               2008    auto    232       a8   \n",
       "1360  19850        sedan               2013    auto    150     golf   \n",
       "1451  18600        sedan               2013  manual    140     leon   \n",
       "1515  20000        sedan               2010    auto    239       a6   \n",
       "1549  18999        sedan               2003  manual    241     golf   \n",
       "1581  18000        sedan               2010    auto    245      7er   \n",
       "1586  20000        sedan               2014    auto    184     leon   \n",
       "\n",
       "      kilometer fuel_type          brand not_repaired  \n",
       "1        125000  gasoline           audi          yes  \n",
       "14        70000  gasoline         nissan           no  \n",
       "33        20000    petrol            bmw           no  \n",
       "172       50000    petrol           ford           no  \n",
       "204      150000  gasoline            bmw           no  \n",
       "282       80000    petrol           ford           no  \n",
       "337       20000  gasoline          mazda           no  \n",
       "484       90000  gasoline  mercedes_benz           no  \n",
       "521       40000    petrol     volkswagen           no  \n",
       "742       20000    petrol     volkswagen           no  \n",
       "1040      50000  gasoline          skoda           no  \n",
       "1232      50000  gasoline     volkswagen           no  \n",
       "1291      70000    petrol           audi           no  \n",
       "1339     125000  gasoline           audi           no  \n",
       "1360      60000  gasoline     volkswagen           no  \n",
       "1451      30000    petrol           seat           no  \n",
       "1515     150000  gasoline           audi           no  \n",
       "1549      80000    petrol     volkswagen           no  \n",
       "1581      60000  gasoline            bmw           no  \n",
       "1586      40000  gasoline           seat           no  "
      ]
     },
     "execution_count": 24,
     "metadata": {},
     "output_type": "execute_result"
    }
   ],
   "source": [
    "main_data[main_data['price']>=17960].head(20)"
   ]
  },
  {
   "cell_type": "markdown",
   "metadata": {},
   "source": [
    "Видно, что большую цену имеют, в основном, автомобили из действительно высокого ценового сегмента. Поэтому высокие цены не будем считать аномальными. Теперь рассмотрим ситуацию с низкими ценами. Нулевые значения цены явно далеки от реальности."
   ]
  },
  {
   "cell_type": "code",
   "execution_count": 25,
   "metadata": {},
   "outputs": [
    {
     "data": {
      "text/html": [
       "<div>\n",
       "<style scoped>\n",
       "    .dataframe tbody tr th:only-of-type {\n",
       "        vertical-align: middle;\n",
       "    }\n",
       "\n",
       "    .dataframe tbody tr th {\n",
       "        vertical-align: top;\n",
       "    }\n",
       "\n",
       "    .dataframe thead th {\n",
       "        text-align: right;\n",
       "    }\n",
       "</style>\n",
       "<table border=\"1\" class=\"dataframe\">\n",
       "  <thead>\n",
       "    <tr style=\"text-align: right;\">\n",
       "      <th></th>\n",
       "      <th>price</th>\n",
       "      <th>vehicle_type</th>\n",
       "      <th>registration_year</th>\n",
       "      <th>gearbox</th>\n",
       "      <th>power</th>\n",
       "      <th>model</th>\n",
       "      <th>kilometer</th>\n",
       "      <th>fuel_type</th>\n",
       "      <th>brand</th>\n",
       "      <th>not_repaired</th>\n",
       "    </tr>\n",
       "  </thead>\n",
       "  <tbody>\n",
       "    <tr>\n",
       "      <th>7</th>\n",
       "      <td>0</td>\n",
       "      <td>sedan</td>\n",
       "      <td>1980</td>\n",
       "      <td>manual</td>\n",
       "      <td>50</td>\n",
       "      <td>other</td>\n",
       "      <td>40000</td>\n",
       "      <td>petrol</td>\n",
       "      <td>volkswagen</td>\n",
       "      <td>no</td>\n",
       "    </tr>\n",
       "    <tr>\n",
       "      <th>40</th>\n",
       "      <td>0</td>\n",
       "      <td>other</td>\n",
       "      <td>1990</td>\n",
       "      <td>unknown</td>\n",
       "      <td>0</td>\n",
       "      <td>corsa</td>\n",
       "      <td>150000</td>\n",
       "      <td>petrol</td>\n",
       "      <td>opel</td>\n",
       "      <td>unknown</td>\n",
       "    </tr>\n",
       "    <tr>\n",
       "      <th>111</th>\n",
       "      <td>0</td>\n",
       "      <td>other</td>\n",
       "      <td>2017</td>\n",
       "      <td>manual</td>\n",
       "      <td>0</td>\n",
       "      <td>golf</td>\n",
       "      <td>5000</td>\n",
       "      <td>petrol</td>\n",
       "      <td>volkswagen</td>\n",
       "      <td>unknown</td>\n",
       "    </tr>\n",
       "    <tr>\n",
       "      <th>115</th>\n",
       "      <td>0</td>\n",
       "      <td>small</td>\n",
       "      <td>1999</td>\n",
       "      <td>unknown</td>\n",
       "      <td>0</td>\n",
       "      <td>other</td>\n",
       "      <td>5000</td>\n",
       "      <td>petrol</td>\n",
       "      <td>volkswagen</td>\n",
       "      <td>unknown</td>\n",
       "    </tr>\n",
       "    <tr>\n",
       "      <th>152</th>\n",
       "      <td>0</td>\n",
       "      <td>bus</td>\n",
       "      <td>2004</td>\n",
       "      <td>manual</td>\n",
       "      <td>101</td>\n",
       "      <td>meriva</td>\n",
       "      <td>150000</td>\n",
       "      <td>lpg</td>\n",
       "      <td>opel</td>\n",
       "      <td>yes</td>\n",
       "    </tr>\n",
       "    <tr>\n",
       "      <th>154</th>\n",
       "      <td>0</td>\n",
       "      <td>other</td>\n",
       "      <td>2006</td>\n",
       "      <td>unknown</td>\n",
       "      <td>0</td>\n",
       "      <td>other</td>\n",
       "      <td>5000</td>\n",
       "      <td>other</td>\n",
       "      <td>fiat</td>\n",
       "      <td>unknown</td>\n",
       "    </tr>\n",
       "    <tr>\n",
       "      <th>231</th>\n",
       "      <td>0</td>\n",
       "      <td>wagon</td>\n",
       "      <td>2001</td>\n",
       "      <td>manual</td>\n",
       "      <td>115</td>\n",
       "      <td>mondeo</td>\n",
       "      <td>150000</td>\n",
       "      <td>other</td>\n",
       "      <td>ford</td>\n",
       "      <td>unknown</td>\n",
       "    </tr>\n",
       "    <tr>\n",
       "      <th>334</th>\n",
       "      <td>0</td>\n",
       "      <td>other</td>\n",
       "      <td>2005</td>\n",
       "      <td>unknown</td>\n",
       "      <td>0</td>\n",
       "      <td>polo</td>\n",
       "      <td>150000</td>\n",
       "      <td>petrol</td>\n",
       "      <td>volkswagen</td>\n",
       "      <td>unknown</td>\n",
       "    </tr>\n",
       "    <tr>\n",
       "      <th>415</th>\n",
       "      <td>0</td>\n",
       "      <td>other</td>\n",
       "      <td>1985</td>\n",
       "      <td>unknown</td>\n",
       "      <td>0</td>\n",
       "      <td>3er</td>\n",
       "      <td>150000</td>\n",
       "      <td>other</td>\n",
       "      <td>bmw</td>\n",
       "      <td>unknown</td>\n",
       "    </tr>\n",
       "    <tr>\n",
       "      <th>466</th>\n",
       "      <td>0</td>\n",
       "      <td>other</td>\n",
       "      <td>2016</td>\n",
       "      <td>auto</td>\n",
       "      <td>197</td>\n",
       "      <td>3er</td>\n",
       "      <td>150000</td>\n",
       "      <td>gasoline</td>\n",
       "      <td>bmw</td>\n",
       "      <td>no</td>\n",
       "    </tr>\n",
       "    <tr>\n",
       "      <th>471</th>\n",
       "      <td>0</td>\n",
       "      <td>other</td>\n",
       "      <td>1990</td>\n",
       "      <td>unknown</td>\n",
       "      <td>0</td>\n",
       "      <td>3er</td>\n",
       "      <td>5000</td>\n",
       "      <td>other</td>\n",
       "      <td>bmw</td>\n",
       "      <td>unknown</td>\n",
       "    </tr>\n",
       "    <tr>\n",
       "      <th>478</th>\n",
       "      <td>0</td>\n",
       "      <td>other</td>\n",
       "      <td>2000</td>\n",
       "      <td>manual</td>\n",
       "      <td>0</td>\n",
       "      <td>other</td>\n",
       "      <td>150000</td>\n",
       "      <td>other</td>\n",
       "      <td>audi</td>\n",
       "      <td>yes</td>\n",
       "    </tr>\n",
       "    <tr>\n",
       "      <th>522</th>\n",
       "      <td>0</td>\n",
       "      <td>other</td>\n",
       "      <td>2000</td>\n",
       "      <td>unknown</td>\n",
       "      <td>0</td>\n",
       "      <td>other</td>\n",
       "      <td>150000</td>\n",
       "      <td>other</td>\n",
       "      <td>volvo</td>\n",
       "      <td>unknown</td>\n",
       "    </tr>\n",
       "    <tr>\n",
       "      <th>524</th>\n",
       "      <td>0</td>\n",
       "      <td>other</td>\n",
       "      <td>2005</td>\n",
       "      <td>manual</td>\n",
       "      <td>136</td>\n",
       "      <td>other</td>\n",
       "      <td>100000</td>\n",
       "      <td>other</td>\n",
       "      <td>toyota</td>\n",
       "      <td>unknown</td>\n",
       "    </tr>\n",
       "    <tr>\n",
       "      <th>563</th>\n",
       "      <td>0</td>\n",
       "      <td>sedan</td>\n",
       "      <td>1998</td>\n",
       "      <td>auto</td>\n",
       "      <td>230</td>\n",
       "      <td>other</td>\n",
       "      <td>150000</td>\n",
       "      <td>petrol</td>\n",
       "      <td>saab</td>\n",
       "      <td>unknown</td>\n",
       "    </tr>\n",
       "    <tr>\n",
       "      <th>579</th>\n",
       "      <td>0</td>\n",
       "      <td>sedan</td>\n",
       "      <td>1996</td>\n",
       "      <td>manual</td>\n",
       "      <td>170</td>\n",
       "      <td>5er</td>\n",
       "      <td>150000</td>\n",
       "      <td>petrol</td>\n",
       "      <td>bmw</td>\n",
       "      <td>no</td>\n",
       "    </tr>\n",
       "    <tr>\n",
       "      <th>590</th>\n",
       "      <td>0</td>\n",
       "      <td>sedan</td>\n",
       "      <td>1997</td>\n",
       "      <td>manual</td>\n",
       "      <td>0</td>\n",
       "      <td>3er</td>\n",
       "      <td>150000</td>\n",
       "      <td>petrol</td>\n",
       "      <td>bmw</td>\n",
       "      <td>unknown</td>\n",
       "    </tr>\n",
       "    <tr>\n",
       "      <th>615</th>\n",
       "      <td>0</td>\n",
       "      <td>sedan</td>\n",
       "      <td>1998</td>\n",
       "      <td>manual</td>\n",
       "      <td>75</td>\n",
       "      <td>polo</td>\n",
       "      <td>150000</td>\n",
       "      <td>petrol</td>\n",
       "      <td>volkswagen</td>\n",
       "      <td>yes</td>\n",
       "    </tr>\n",
       "    <tr>\n",
       "      <th>622</th>\n",
       "      <td>0</td>\n",
       "      <td>other</td>\n",
       "      <td>1111</td>\n",
       "      <td>unknown</td>\n",
       "      <td>0</td>\n",
       "      <td>other</td>\n",
       "      <td>5000</td>\n",
       "      <td>other</td>\n",
       "      <td>opel</td>\n",
       "      <td>unknown</td>\n",
       "    </tr>\n",
       "    <tr>\n",
       "      <th>730</th>\n",
       "      <td>0</td>\n",
       "      <td>small</td>\n",
       "      <td>2005</td>\n",
       "      <td>manual</td>\n",
       "      <td>75</td>\n",
       "      <td>2_reihe</td>\n",
       "      <td>150000</td>\n",
       "      <td>petrol</td>\n",
       "      <td>peugeot</td>\n",
       "      <td>unknown</td>\n",
       "    </tr>\n",
       "  </tbody>\n",
       "</table>\n",
       "</div>"
      ],
      "text/plain": [
       "     price vehicle_type  registration_year  gearbox  power    model  \\\n",
       "7        0        sedan               1980   manual     50    other   \n",
       "40       0        other               1990  unknown      0    corsa   \n",
       "111      0        other               2017   manual      0     golf   \n",
       "115      0        small               1999  unknown      0    other   \n",
       "152      0          bus               2004   manual    101   meriva   \n",
       "154      0        other               2006  unknown      0    other   \n",
       "231      0        wagon               2001   manual    115   mondeo   \n",
       "334      0        other               2005  unknown      0     polo   \n",
       "415      0        other               1985  unknown      0      3er   \n",
       "466      0        other               2016     auto    197      3er   \n",
       "471      0        other               1990  unknown      0      3er   \n",
       "478      0        other               2000   manual      0    other   \n",
       "522      0        other               2000  unknown      0    other   \n",
       "524      0        other               2005   manual    136    other   \n",
       "563      0        sedan               1998     auto    230    other   \n",
       "579      0        sedan               1996   manual    170      5er   \n",
       "590      0        sedan               1997   manual      0      3er   \n",
       "615      0        sedan               1998   manual     75     polo   \n",
       "622      0        other               1111  unknown      0    other   \n",
       "730      0        small               2005   manual     75  2_reihe   \n",
       "\n",
       "     kilometer fuel_type       brand not_repaired  \n",
       "7        40000    petrol  volkswagen           no  \n",
       "40      150000    petrol        opel      unknown  \n",
       "111       5000    petrol  volkswagen      unknown  \n",
       "115       5000    petrol  volkswagen      unknown  \n",
       "152     150000       lpg        opel          yes  \n",
       "154       5000     other        fiat      unknown  \n",
       "231     150000     other        ford      unknown  \n",
       "334     150000    petrol  volkswagen      unknown  \n",
       "415     150000     other         bmw      unknown  \n",
       "466     150000  gasoline         bmw           no  \n",
       "471       5000     other         bmw      unknown  \n",
       "478     150000     other        audi          yes  \n",
       "522     150000     other       volvo      unknown  \n",
       "524     100000     other      toyota      unknown  \n",
       "563     150000    petrol        saab      unknown  \n",
       "579     150000    petrol         bmw           no  \n",
       "590     150000    petrol         bmw      unknown  \n",
       "615     150000    petrol  volkswagen          yes  \n",
       "622       5000     other        opel      unknown  \n",
       "730     150000    petrol     peugeot      unknown  "
      ]
     },
     "execution_count": 25,
     "metadata": {},
     "output_type": "execute_result"
    }
   ],
   "source": [
    "main_data[main_data['price']==0].head(20)"
   ]
  },
  {
   "cell_type": "markdown",
   "metadata": {},
   "source": [
    "Видно, что по нулевой цене продаются довольно старые машины. Но есть и машины после 2000 года. Возможно кто-то хочет избавиться от старой машины, указывая нулевую цену. Но какие-то значения нулевых цен явно ошибочные. Чтобы обучение моделей в будущем не искажалось, удалим объекты с нулевой ценой."
   ]
  },
  {
   "cell_type": "code",
   "execution_count": 26,
   "metadata": {},
   "outputs": [
    {
     "data": {
      "text/plain": [
       "(343593, 10)"
      ]
     },
     "execution_count": 26,
     "metadata": {},
     "output_type": "execute_result"
    }
   ],
   "source": [
    "main_data = main_data[main_data['price']>0]\n",
    "main_data.shape"
   ]
  },
  {
   "cell_type": "markdown",
   "metadata": {},
   "source": [
    "Удаление строк прошло успешно. Посмотрим теперь на автомобили с подозрительно низкой ценой, ниже 100 евро."
   ]
  },
  {
   "cell_type": "code",
   "execution_count": 27,
   "metadata": {
    "scrolled": false
   },
   "outputs": [
    {
     "data": {
      "text/html": [
       "<div>\n",
       "<style scoped>\n",
       "    .dataframe tbody tr th:only-of-type {\n",
       "        vertical-align: middle;\n",
       "    }\n",
       "\n",
       "    .dataframe tbody tr th {\n",
       "        vertical-align: top;\n",
       "    }\n",
       "\n",
       "    .dataframe thead th {\n",
       "        text-align: right;\n",
       "    }\n",
       "</style>\n",
       "<table border=\"1\" class=\"dataframe\">\n",
       "  <thead>\n",
       "    <tr style=\"text-align: right;\">\n",
       "      <th></th>\n",
       "      <th>price</th>\n",
       "      <th>vehicle_type</th>\n",
       "      <th>registration_year</th>\n",
       "      <th>gearbox</th>\n",
       "      <th>power</th>\n",
       "      <th>model</th>\n",
       "      <th>kilometer</th>\n",
       "      <th>fuel_type</th>\n",
       "      <th>brand</th>\n",
       "      <th>not_repaired</th>\n",
       "    </tr>\n",
       "  </thead>\n",
       "  <tbody>\n",
       "    <tr>\n",
       "      <th>59</th>\n",
       "      <td>1</td>\n",
       "      <td>suv</td>\n",
       "      <td>1994</td>\n",
       "      <td>manual</td>\n",
       "      <td>286</td>\n",
       "      <td>other</td>\n",
       "      <td>150000</td>\n",
       "      <td>other</td>\n",
       "      <td>sonstige_autos</td>\n",
       "      <td>unknown</td>\n",
       "    </tr>\n",
       "    <tr>\n",
       "      <th>89</th>\n",
       "      <td>1</td>\n",
       "      <td>sedan</td>\n",
       "      <td>1995</td>\n",
       "      <td>manual</td>\n",
       "      <td>113</td>\n",
       "      <td>e_klasse</td>\n",
       "      <td>150000</td>\n",
       "      <td>gasoline</td>\n",
       "      <td>mercedes_benz</td>\n",
       "      <td>no</td>\n",
       "    </tr>\n",
       "    <tr>\n",
       "      <th>268</th>\n",
       "      <td>1</td>\n",
       "      <td>sedan</td>\n",
       "      <td>1990</td>\n",
       "      <td>manual</td>\n",
       "      <td>90</td>\n",
       "      <td>80</td>\n",
       "      <td>70000</td>\n",
       "      <td>petrol</td>\n",
       "      <td>audi</td>\n",
       "      <td>no</td>\n",
       "    </tr>\n",
       "    <tr>\n",
       "      <th>408</th>\n",
       "      <td>1</td>\n",
       "      <td>other</td>\n",
       "      <td>2000</td>\n",
       "      <td>unknown</td>\n",
       "      <td>75</td>\n",
       "      <td>golf</td>\n",
       "      <td>90000</td>\n",
       "      <td>petrol</td>\n",
       "      <td>volkswagen</td>\n",
       "      <td>unknown</td>\n",
       "    </tr>\n",
       "    <tr>\n",
       "      <th>552</th>\n",
       "      <td>50</td>\n",
       "      <td>other</td>\n",
       "      <td>1985</td>\n",
       "      <td>unknown</td>\n",
       "      <td>0</td>\n",
       "      <td>other</td>\n",
       "      <td>150000</td>\n",
       "      <td>other</td>\n",
       "      <td>trabant</td>\n",
       "      <td>unknown</td>\n",
       "    </tr>\n",
       "    <tr>\n",
       "      <th>901</th>\n",
       "      <td>1</td>\n",
       "      <td>other</td>\n",
       "      <td>1990</td>\n",
       "      <td>manual</td>\n",
       "      <td>0</td>\n",
       "      <td>other</td>\n",
       "      <td>150000</td>\n",
       "      <td>other</td>\n",
       "      <td>porsche</td>\n",
       "      <td>unknown</td>\n",
       "    </tr>\n",
       "    <tr>\n",
       "      <th>943</th>\n",
       "      <td>98</td>\n",
       "      <td>small</td>\n",
       "      <td>1997</td>\n",
       "      <td>manual</td>\n",
       "      <td>53</td>\n",
       "      <td>swift</td>\n",
       "      <td>150000</td>\n",
       "      <td>petrol</td>\n",
       "      <td>suzuki</td>\n",
       "      <td>no</td>\n",
       "    </tr>\n",
       "    <tr>\n",
       "      <th>967</th>\n",
       "      <td>1</td>\n",
       "      <td>wagon</td>\n",
       "      <td>1998</td>\n",
       "      <td>manual</td>\n",
       "      <td>136</td>\n",
       "      <td>omega</td>\n",
       "      <td>150000</td>\n",
       "      <td>petrol</td>\n",
       "      <td>opel</td>\n",
       "      <td>no</td>\n",
       "    </tr>\n",
       "    <tr>\n",
       "      <th>1025</th>\n",
       "      <td>3</td>\n",
       "      <td>convertible</td>\n",
       "      <td>1998</td>\n",
       "      <td>manual</td>\n",
       "      <td>110</td>\n",
       "      <td>mx_reihe</td>\n",
       "      <td>150000</td>\n",
       "      <td>other</td>\n",
       "      <td>mazda</td>\n",
       "      <td>yes</td>\n",
       "    </tr>\n",
       "    <tr>\n",
       "      <th>1076</th>\n",
       "      <td>45</td>\n",
       "      <td>other</td>\n",
       "      <td>2015</td>\n",
       "      <td>unknown</td>\n",
       "      <td>0</td>\n",
       "      <td>other</td>\n",
       "      <td>5000</td>\n",
       "      <td>other</td>\n",
       "      <td>mini</td>\n",
       "      <td>unknown</td>\n",
       "    </tr>\n",
       "    <tr>\n",
       "      <th>1247</th>\n",
       "      <td>1</td>\n",
       "      <td>sedan</td>\n",
       "      <td>1983</td>\n",
       "      <td>manual</td>\n",
       "      <td>0</td>\n",
       "      <td>other</td>\n",
       "      <td>150000</td>\n",
       "      <td>petrol</td>\n",
       "      <td>mercedes_benz</td>\n",
       "      <td>no</td>\n",
       "    </tr>\n",
       "    <tr>\n",
       "      <th>1340</th>\n",
       "      <td>1</td>\n",
       "      <td>other</td>\n",
       "      <td>2016</td>\n",
       "      <td>manual</td>\n",
       "      <td>0</td>\n",
       "      <td>golf</td>\n",
       "      <td>150000</td>\n",
       "      <td>gasoline</td>\n",
       "      <td>volkswagen</td>\n",
       "      <td>yes</td>\n",
       "    </tr>\n",
       "    <tr>\n",
       "      <th>1459</th>\n",
       "      <td>30</td>\n",
       "      <td>other</td>\n",
       "      <td>2015</td>\n",
       "      <td>unknown</td>\n",
       "      <td>0</td>\n",
       "      <td>other</td>\n",
       "      <td>5000</td>\n",
       "      <td>other</td>\n",
       "      <td>seat</td>\n",
       "      <td>unknown</td>\n",
       "    </tr>\n",
       "    <tr>\n",
       "      <th>1542</th>\n",
       "      <td>1</td>\n",
       "      <td>other</td>\n",
       "      <td>2000</td>\n",
       "      <td>unknown</td>\n",
       "      <td>0</td>\n",
       "      <td>astra</td>\n",
       "      <td>150000</td>\n",
       "      <td>other</td>\n",
       "      <td>opel</td>\n",
       "      <td>unknown</td>\n",
       "    </tr>\n",
       "    <tr>\n",
       "      <th>1634</th>\n",
       "      <td>2</td>\n",
       "      <td>bus</td>\n",
       "      <td>2004</td>\n",
       "      <td>manual</td>\n",
       "      <td>135</td>\n",
       "      <td>scenic</td>\n",
       "      <td>150000</td>\n",
       "      <td>petrol</td>\n",
       "      <td>renault</td>\n",
       "      <td>unknown</td>\n",
       "    </tr>\n",
       "    <tr>\n",
       "      <th>1788</th>\n",
       "      <td>80</td>\n",
       "      <td>other</td>\n",
       "      <td>2016</td>\n",
       "      <td>unknown</td>\n",
       "      <td>0</td>\n",
       "      <td>fiesta</td>\n",
       "      <td>5000</td>\n",
       "      <td>other</td>\n",
       "      <td>ford</td>\n",
       "      <td>yes</td>\n",
       "    </tr>\n",
       "    <tr>\n",
       "      <th>1907</th>\n",
       "      <td>1</td>\n",
       "      <td>sedan</td>\n",
       "      <td>2013</td>\n",
       "      <td>auto</td>\n",
       "      <td>241</td>\n",
       "      <td>x_type</td>\n",
       "      <td>30000</td>\n",
       "      <td>gasoline</td>\n",
       "      <td>jaguar</td>\n",
       "      <td>no</td>\n",
       "    </tr>\n",
       "    <tr>\n",
       "      <th>2179</th>\n",
       "      <td>1</td>\n",
       "      <td>small</td>\n",
       "      <td>2002</td>\n",
       "      <td>manual</td>\n",
       "      <td>150</td>\n",
       "      <td>3er</td>\n",
       "      <td>150000</td>\n",
       "      <td>gasoline</td>\n",
       "      <td>bmw</td>\n",
       "      <td>unknown</td>\n",
       "    </tr>\n",
       "    <tr>\n",
       "      <th>2204</th>\n",
       "      <td>1</td>\n",
       "      <td>other</td>\n",
       "      <td>2006</td>\n",
       "      <td>unknown</td>\n",
       "      <td>0</td>\n",
       "      <td>other</td>\n",
       "      <td>5000</td>\n",
       "      <td>other</td>\n",
       "      <td>jaguar</td>\n",
       "      <td>unknown</td>\n",
       "    </tr>\n",
       "    <tr>\n",
       "      <th>2503</th>\n",
       "      <td>99</td>\n",
       "      <td>other</td>\n",
       "      <td>2008</td>\n",
       "      <td>unknown</td>\n",
       "      <td>0</td>\n",
       "      <td>other</td>\n",
       "      <td>20000</td>\n",
       "      <td>other</td>\n",
       "      <td>sonstige_autos</td>\n",
       "      <td>unknown</td>\n",
       "    </tr>\n",
       "  </tbody>\n",
       "</table>\n",
       "</div>"
      ],
      "text/plain": [
       "      price vehicle_type  registration_year  gearbox  power     model  \\\n",
       "59        1          suv               1994   manual    286     other   \n",
       "89        1        sedan               1995   manual    113  e_klasse   \n",
       "268       1        sedan               1990   manual     90        80   \n",
       "408       1        other               2000  unknown     75      golf   \n",
       "552      50        other               1985  unknown      0     other   \n",
       "901       1        other               1990   manual      0     other   \n",
       "943      98        small               1997   manual     53     swift   \n",
       "967       1        wagon               1998   manual    136     omega   \n",
       "1025      3  convertible               1998   manual    110  mx_reihe   \n",
       "1076     45        other               2015  unknown      0     other   \n",
       "1247      1        sedan               1983   manual      0     other   \n",
       "1340      1        other               2016   manual      0      golf   \n",
       "1459     30        other               2015  unknown      0     other   \n",
       "1542      1        other               2000  unknown      0     astra   \n",
       "1634      2          bus               2004   manual    135    scenic   \n",
       "1788     80        other               2016  unknown      0    fiesta   \n",
       "1907      1        sedan               2013     auto    241    x_type   \n",
       "2179      1        small               2002   manual    150       3er   \n",
       "2204      1        other               2006  unknown      0     other   \n",
       "2503     99        other               2008  unknown      0     other   \n",
       "\n",
       "      kilometer fuel_type           brand not_repaired  \n",
       "59       150000     other  sonstige_autos      unknown  \n",
       "89       150000  gasoline   mercedes_benz           no  \n",
       "268       70000    petrol            audi           no  \n",
       "408       90000    petrol      volkswagen      unknown  \n",
       "552      150000     other         trabant      unknown  \n",
       "901      150000     other         porsche      unknown  \n",
       "943      150000    petrol          suzuki           no  \n",
       "967      150000    petrol            opel           no  \n",
       "1025     150000     other           mazda          yes  \n",
       "1076       5000     other            mini      unknown  \n",
       "1247     150000    petrol   mercedes_benz           no  \n",
       "1340     150000  gasoline      volkswagen          yes  \n",
       "1459       5000     other            seat      unknown  \n",
       "1542     150000     other            opel      unknown  \n",
       "1634     150000    petrol         renault      unknown  \n",
       "1788       5000     other            ford          yes  \n",
       "1907      30000  gasoline          jaguar           no  \n",
       "2179     150000  gasoline             bmw      unknown  \n",
       "2204       5000     other          jaguar      unknown  \n",
       "2503      20000     other  sonstige_autos      unknown  "
      ]
     },
     "execution_count": 27,
     "metadata": {},
     "output_type": "execute_result"
    }
   ],
   "source": [
    "main_data[main_data['price']<100].head(20)"
   ]
  },
  {
   "cell_type": "markdown",
   "metadata": {},
   "source": [
    "Крайне низкую цену для потенциально битого автомобиля хоть как-то можно объяснить. Но если автомобиль не был в ремонте, а стоит как пачка чипсов, то тут явно что-то не так. Такие данные искажены и их нужно удалить."
   ]
  },
  {
   "cell_type": "code",
   "execution_count": 28,
   "metadata": {},
   "outputs": [
    {
     "data": {
      "text/plain": [
       "(343036, 10)"
      ]
     },
     "execution_count": 28,
     "metadata": {},
     "output_type": "execute_result"
    }
   ],
   "source": [
    "main_data.drop(main_data[(main_data['price']<100)&(main_data['not_repaired']=='yes')].index, inplace=True)\n",
    "main_data.shape"
   ]
  },
  {
   "cell_type": "markdown",
   "metadata": {},
   "source": [
    "Также удалим любые объявления с ценой ниже 10 евро. Даже если машина битая, то автовладельцу проще её сдать в утилизацию, чем обращаться в автосалон и пытаться продать остатки машины по цене ниже 10 евро. Если в анкете указаны такие цены, то они явно не отражают действительность."
   ]
  },
  {
   "cell_type": "code",
   "execution_count": 29,
   "metadata": {},
   "outputs": [
    {
     "data": {
      "text/plain": [
       "(342035, 10)"
      ]
     },
     "execution_count": 29,
     "metadata": {},
     "output_type": "execute_result"
    }
   ],
   "source": [
    "main_data.drop(main_data[main_data['price']<10].index, inplace=True)\n",
    "main_data.shape"
   ]
  },
  {
   "cell_type": "markdown",
   "metadata": {},
   "source": [
    "Удаление строк прошло успешно. Разбор значений столбца *price* закончен. Теперь исследуем столбец *registration_year*."
   ]
  },
  {
   "cell_type": "code",
   "execution_count": 30,
   "metadata": {},
   "outputs": [
    {
     "data": {
      "text/plain": [
       "array([1000, 1001, 1039, 1111, 1234, 1255, 1300, 1400, 1500, 1600, 1602,\n",
       "       1800, 1910, 1923, 1925, 1927, 1928, 1929, 1930, 1931, 1932, 1933,\n",
       "       1934, 1935, 1936, 1937, 1938, 1940, 1941, 1942, 1943, 1944, 1945,\n",
       "       1946, 1947, 1948, 1949, 1950, 1951, 1952, 1953, 1954, 1955, 1956,\n",
       "       1957, 1958, 1959, 1960, 1961, 1962, 1963, 1964, 1965, 1966, 1967,\n",
       "       1968, 1969, 1970, 1971, 1972, 1973, 1974, 1975, 1976, 1977, 1978,\n",
       "       1979, 1980, 1981, 1982, 1983, 1984, 1985, 1986, 1987, 1988, 1989,\n",
       "       1990, 1991, 1992, 1993, 1994, 1995, 1996, 1997, 1998, 1999, 2000,\n",
       "       2001, 2002, 2003, 2004, 2005, 2006, 2007, 2008, 2009, 2010, 2011,\n",
       "       2012, 2013, 2014, 2015, 2016, 2017, 2018, 2019, 2066, 2200, 2222,\n",
       "       2290, 2500, 2800, 2900, 3000, 3200, 3700, 3800, 4000, 4100, 4500,\n",
       "       4800, 5000, 5300, 5555, 5600, 5900, 5911, 6000, 7000, 7100, 7800,\n",
       "       8000, 8200, 8500, 8888, 9000, 9450, 9999], dtype=int64)"
      ]
     },
     "execution_count": 30,
     "metadata": {},
     "output_type": "execute_result"
    }
   ],
   "source": [
    "np.sort(main_data['registration_year'].unique())"
   ]
  },
  {
   "cell_type": "markdown",
   "metadata": {},
   "source": [
    "Аномальные значения определим из следующих соображений:\n",
    "- крайний год выгрузки анкет - 2016. Поэтому все значения года регистрации автомобиля более 2016 - аномальные;\n",
    "- нижнее значение года регистрации автомобиля можно трактовать по-разному. Для его точного определения нужна дополнительная информация о том, с какими автомобилями работает автосервис. Работает ли с музейными экспонатами. Если да, то на музейные  или раритетные автомобили должно происходить отдельное ценообразование. Вероятно, сервис \"Не бит, не крашен\" работает с относительно современными автомобилями. Более подробную информацию на данном этапе получить невозможно, поэтому будем считать, что нижнее значение года для автомобиля - 1980.\n",
    "\n",
    "Посмотрим как много значений будут являться аномальными по вышеописанными критериям."
   ]
  },
  {
   "cell_type": "code",
   "execution_count": 31,
   "metadata": {},
   "outputs": [
    {
     "data": {
      "text/plain": [
       "(16819, 10)"
      ]
     },
     "execution_count": 31,
     "metadata": {},
     "output_type": "execute_result"
    }
   ],
   "source": [
    "main_data[(main_data['registration_year']>2016)|(main_data['registration_year']<1980)].shape"
   ]
  },
  {
   "cell_type": "markdown",
   "metadata": {},
   "source": [
    "Значений не слишком много, их количество не превышает 5 % от размера выборки, поэтому удалим соответствующие объекты из таблицы."
   ]
  },
  {
   "cell_type": "code",
   "execution_count": 32,
   "metadata": {},
   "outputs": [
    {
     "data": {
      "text/plain": [
       "(325216, 10)"
      ]
     },
     "execution_count": 32,
     "metadata": {},
     "output_type": "execute_result"
    }
   ],
   "source": [
    "main_data.drop(main_data[(main_data['registration_year']>2016)|(main_data['registration_year']<1980)].index, inplace=True)\n",
    "main_data.shape"
   ]
  },
  {
   "cell_type": "markdown",
   "metadata": {},
   "source": [
    "Удаление прошло успешно. Теперь рассмотрим столбец *power*. В нём много разных значений, поэтому ограничимся здравым смыслом. Будем считать аномальными значения мощности двигателя: меньшие 50 и больше 1500 л.с. Посмотрим насколько много таких объектов в таблице. Если немного, то просто их удалим."
   ]
  },
  {
   "cell_type": "code",
   "execution_count": 33,
   "metadata": {},
   "outputs": [
    {
     "data": {
      "text/plain": [
       "(36509, 10)"
      ]
     },
     "execution_count": 33,
     "metadata": {},
     "output_type": "execute_result"
    }
   ],
   "source": [
    "main_data[(main_data['power']>1500)|(main_data['power']<50)].shape"
   ]
  },
  {
   "cell_type": "markdown",
   "metadata": {},
   "source": [
    "Значений много, более 10% от оставшегося числа строк. Удалять их не стоит. Заполним эти значения случайными целыми числами в интервале от 69 до 143 (это границы межквартильного размаха)."
   ]
  },
  {
   "cell_type": "code",
   "execution_count": 34,
   "metadata": {
    "scrolled": true
   },
   "outputs": [
    {
     "data": {
      "text/plain": [
       "(0, 10)"
      ]
     },
     "execution_count": 34,
     "metadata": {},
     "output_type": "execute_result"
    }
   ],
   "source": [
    "main_data.loc[(main_data['power']>1500)|(main_data['power']<50),'power'] = np.random.randint(69,144) \n",
    "main_data[(main_data['power']>1500)|(main_data['power']<50)].shape"
   ]
  },
  {
   "cell_type": "markdown",
   "metadata": {},
   "source": [
    "Аномальные значения мощности двигателя успешно заполнились случайными числами. В любом случае, следует поговорить с коллегами по подготовке данных. Нельзя было допускать наличие такого большого числа аномальных значений.\n",
    "\n",
    "Посмотрим ещё раз на статистическое описание количественных значений таблицы."
   ]
  },
  {
   "cell_type": "code",
   "execution_count": 35,
   "metadata": {},
   "outputs": [
    {
     "data": {
      "text/html": [
       "<style  type=\"text/css\" >\n",
       "</style><table id=\"T_c24d8_\" ><thead>    <tr>        <th class=\"blank level0\" ></th>        <th class=\"col_heading level0 col0\" >price</th>        <th class=\"col_heading level0 col1\" >registration_year</th>        <th class=\"col_heading level0 col2\" >power</th>        <th class=\"col_heading level0 col3\" >kilometer</th>    </tr></thead><tbody>\n",
       "                <tr>\n",
       "                        <th id=\"T_c24d8_level0_row0\" class=\"row_heading level0 row0\" >count</th>\n",
       "                        <td id=\"T_c24d8_row0_col0\" class=\"data row0 col0\" >325216</td>\n",
       "                        <td id=\"T_c24d8_row0_col1\" class=\"data row0 col1\" >325216</td>\n",
       "                        <td id=\"T_c24d8_row0_col2\" class=\"data row0 col2\" >325216</td>\n",
       "                        <td id=\"T_c24d8_row0_col3\" class=\"data row0 col3\" >325216</td>\n",
       "            </tr>\n",
       "            <tr>\n",
       "                        <th id=\"T_c24d8_level0_row1\" class=\"row_heading level0 row1\" >mean</th>\n",
       "                        <td id=\"T_c24d8_row1_col0\" class=\"data row1 col0\" >4600</td>\n",
       "                        <td id=\"T_c24d8_row1_col1\" class=\"data row1 col1\" >2003</td>\n",
       "                        <td id=\"T_c24d8_row1_col2\" class=\"data row1 col2\" >119</td>\n",
       "                        <td id=\"T_c24d8_row1_col3\" class=\"data row1 col3\" >128636</td>\n",
       "            </tr>\n",
       "            <tr>\n",
       "                        <th id=\"T_c24d8_level0_row2\" class=\"row_heading level0 row2\" >std</th>\n",
       "                        <td id=\"T_c24d8_row2_col0\" class=\"data row2 col0\" >4527</td>\n",
       "                        <td id=\"T_c24d8_row2_col1\" class=\"data row2 col1\" >6</td>\n",
       "                        <td id=\"T_c24d8_row2_col2\" class=\"data row2 col2\" >55</td>\n",
       "                        <td id=\"T_c24d8_row2_col3\" class=\"data row2 col3\" >37052</td>\n",
       "            </tr>\n",
       "            <tr>\n",
       "                        <th id=\"T_c24d8_level0_row3\" class=\"row_heading level0 row3\" >min</th>\n",
       "                        <td id=\"T_c24d8_row3_col0\" class=\"data row3 col0\" >10</td>\n",
       "                        <td id=\"T_c24d8_row3_col1\" class=\"data row3 col1\" >1980</td>\n",
       "                        <td id=\"T_c24d8_row3_col2\" class=\"data row3 col2\" >50</td>\n",
       "                        <td id=\"T_c24d8_row3_col3\" class=\"data row3 col3\" >5000</td>\n",
       "            </tr>\n",
       "            <tr>\n",
       "                        <th id=\"T_c24d8_level0_row4\" class=\"row_heading level0 row4\" >25%</th>\n",
       "                        <td id=\"T_c24d8_row4_col0\" class=\"data row4 col0\" >1200</td>\n",
       "                        <td id=\"T_c24d8_row4_col1\" class=\"data row4 col1\" >1999</td>\n",
       "                        <td id=\"T_c24d8_row4_col2\" class=\"data row4 col2\" >88</td>\n",
       "                        <td id=\"T_c24d8_row4_col3\" class=\"data row4 col3\" >125000</td>\n",
       "            </tr>\n",
       "            <tr>\n",
       "                        <th id=\"T_c24d8_level0_row5\" class=\"row_heading level0 row5\" >50%</th>\n",
       "                        <td id=\"T_c24d8_row5_col0\" class=\"data row5 col0\" >2900</td>\n",
       "                        <td id=\"T_c24d8_row5_col1\" class=\"data row5 col1\" >2003</td>\n",
       "                        <td id=\"T_c24d8_row5_col2\" class=\"data row5 col2\" >105</td>\n",
       "                        <td id=\"T_c24d8_row5_col3\" class=\"data row5 col3\" >150000</td>\n",
       "            </tr>\n",
       "            <tr>\n",
       "                        <th id=\"T_c24d8_level0_row6\" class=\"row_heading level0 row6\" >75%</th>\n",
       "                        <td id=\"T_c24d8_row6_col0\" class=\"data row6 col0\" >6599</td>\n",
       "                        <td id=\"T_c24d8_row6_col1\" class=\"data row6 col1\" >2007</td>\n",
       "                        <td id=\"T_c24d8_row6_col2\" class=\"data row6 col2\" >143</td>\n",
       "                        <td id=\"T_c24d8_row6_col3\" class=\"data row6 col3\" >150000</td>\n",
       "            </tr>\n",
       "            <tr>\n",
       "                        <th id=\"T_c24d8_level0_row7\" class=\"row_heading level0 row7\" >max</th>\n",
       "                        <td id=\"T_c24d8_row7_col0\" class=\"data row7 col0\" >20000</td>\n",
       "                        <td id=\"T_c24d8_row7_col1\" class=\"data row7 col1\" >2016</td>\n",
       "                        <td id=\"T_c24d8_row7_col2\" class=\"data row7 col2\" >1500</td>\n",
       "                        <td id=\"T_c24d8_row7_col3\" class=\"data row7 col3\" >150000</td>\n",
       "            </tr>\n",
       "    </tbody></table>"
      ],
      "text/plain": [
       "<pandas.io.formats.style.Styler at 0x1f398634490>"
      ]
     },
     "execution_count": 35,
     "metadata": {},
     "output_type": "execute_result"
    }
   ],
   "source": [
    "main_data.describe().style.format('{:.0f}')"
   ]
  },
  {
   "cell_type": "markdown",
   "metadata": {},
   "source": [
    "Видно, что проведённые выше преобразования выполнены верно. Разбор аномальных значений закончен. Выполним перезагрузку индексов в таблице после разных удалений строк."
   ]
  },
  {
   "cell_type": "code",
   "execution_count": 36,
   "metadata": {
    "scrolled": true
   },
   "outputs": [
    {
     "name": "stdout",
     "output_type": "stream",
     "text": [
      "<class 'pandas.core.frame.DataFrame'>\n",
      "RangeIndex: 325216 entries, 0 to 325215\n",
      "Data columns (total 10 columns):\n",
      " #   Column             Non-Null Count   Dtype \n",
      "---  ------             --------------   ----- \n",
      " 0   price              325216 non-null  int64 \n",
      " 1   vehicle_type       325216 non-null  object\n",
      " 2   registration_year  325216 non-null  int64 \n",
      " 3   gearbox            325216 non-null  object\n",
      " 4   power              325216 non-null  int64 \n",
      " 5   model              325216 non-null  object\n",
      " 6   kilometer          325216 non-null  int64 \n",
      " 7   fuel_type          325216 non-null  object\n",
      " 8   brand              325216 non-null  object\n",
      " 9   not_repaired       325216 non-null  object\n",
      "dtypes: int64(4), object(6)\n",
      "memory usage: 24.8+ MB\n"
     ]
    }
   ],
   "source": [
    "main_data.reset_index(drop=True, inplace=True)\n",
    "main_data.info()"
   ]
  },
  {
   "cell_type": "markdown",
   "metadata": {},
   "source": [
    "#### Проверка признаков на мультиколлинеарность"
   ]
  },
  {
   "cell_type": "markdown",
   "metadata": {},
   "source": [
    "Проверим теперь признаки, которые будут использоваться для обучения модели, на мультиколлинеарность (наличие линейной зависимости). При наличии сильной зависимости может потребоваться удаление какого-либо признака. Построим матрицу корреляции. Через настройки визуализации pandas изменим внешний вид итоговой таблицы корреляции. В матрице корреляции будут отображаться только количественные признаки."
   ]
  },
  {
   "cell_type": "code",
   "execution_count": 37,
   "metadata": {},
   "outputs": [
    {
     "data": {
      "text/html": [
       "<style  type=\"text/css\" >\n",
       "#T_a4d60_row0_col0,#T_a4d60_row1_col1,#T_a4d60_row2_col2{\n",
       "            background-color:  #b40426;\n",
       "            color:  #f1f1f1;\n",
       "        }#T_a4d60_row0_col1{\n",
       "            background-color:  #445acc;\n",
       "            color:  #f1f1f1;\n",
       "        }#T_a4d60_row0_col2,#T_a4d60_row2_col0,#T_a4d60_row2_col1{\n",
       "            background-color:  #3b4cc0;\n",
       "            color:  #f1f1f1;\n",
       "        }#T_a4d60_row1_col0{\n",
       "            background-color:  #a9c6fd;\n",
       "            color:  #000000;\n",
       "        }#T_a4d60_row1_col2{\n",
       "            background-color:  #a1c0ff;\n",
       "            color:  #000000;\n",
       "        }</style><table id=\"T_a4d60_\" ><thead>    <tr>        <th class=\"blank level0\" ></th>        <th class=\"col_heading level0 col0\" >registration_year</th>        <th class=\"col_heading level0 col1\" >power</th>        <th class=\"col_heading level0 col2\" >kilometer</th>    </tr></thead><tbody>\n",
       "                <tr>\n",
       "                        <th id=\"T_a4d60_level0_row0\" class=\"row_heading level0 row0\" >registration_year</th>\n",
       "                        <td id=\"T_a4d60_row0_col0\" class=\"data row0 col0\" >1.000000</td>\n",
       "                        <td id=\"T_a4d60_row0_col1\" class=\"data row0 col1\" >0.114588</td>\n",
       "                        <td id=\"T_a4d60_row0_col2\" class=\"data row0 col2\" >-0.323346</td>\n",
       "            </tr>\n",
       "            <tr>\n",
       "                        <th id=\"T_a4d60_level0_row1\" class=\"row_heading level0 row1\" >power</th>\n",
       "                        <td id=\"T_a4d60_row1_col0\" class=\"data row1 col0\" >0.114588</td>\n",
       "                        <td id=\"T_a4d60_row1_col1\" class=\"data row1 col1\" >1.000000</td>\n",
       "                        <td id=\"T_a4d60_row1_col2\" class=\"data row1 col2\" >0.083656</td>\n",
       "            </tr>\n",
       "            <tr>\n",
       "                        <th id=\"T_a4d60_level0_row2\" class=\"row_heading level0 row2\" >kilometer</th>\n",
       "                        <td id=\"T_a4d60_row2_col0\" class=\"data row2 col0\" >-0.323346</td>\n",
       "                        <td id=\"T_a4d60_row2_col1\" class=\"data row2 col1\" >0.083656</td>\n",
       "                        <td id=\"T_a4d60_row2_col2\" class=\"data row2 col2\" >1.000000</td>\n",
       "            </tr>\n",
       "    </tbody></table>"
      ],
      "text/plain": [
       "<pandas.io.formats.style.Styler at 0x1f39862fe50>"
      ]
     },
     "execution_count": 37,
     "metadata": {},
     "output_type": "execute_result"
    }
   ],
   "source": [
    "corr = main_data.loc[:,'vehicle_type':'not_repaired'].corr()\n",
    "corr.style.background_gradient(cmap='coolwarm')"
   ]
  },
  {
   "cell_type": "markdown",
   "metadata": {},
   "source": [
    "Сильных зависимостей между обучающими признаками не выявлено.\n",
    "\n",
    "Предобработка данных на этом завершена."
   ]
  },
  {
   "cell_type": "markdown",
   "metadata": {},
   "source": [
    "### Подготовка признаков"
   ]
  },
  {
   "cell_type": "markdown",
   "metadata": {},
   "source": [
    "#### Кодирование и преобразование типов признаков"
   ]
  },
  {
   "cell_type": "markdown",
   "metadata": {},
   "source": [
    "В таблице имеются столбцы с категориальными признаками. Необходимо их преобразовать с помощью техники прямого кодирования (one-hot encoding). При этом не стоит забывать про дамми-ловушку. Преобразованные таким образом признаки подойдут для обучения разных моделей, кроме моделей градиентного бустинга. Для тех моделей необходимо преобразовать тип категориальных признаков из object в category.\n",
    "\n",
    "В процессе работы над проектом также выяснилось, что прямое кодирование для моделей \"дерево решений\" и \"случайный лес\" приводит к очень долгому подбору параметров моделей. Поэтому для этих моделей отдельно произведём порядковое кодирование признаков."
   ]
  },
  {
   "cell_type": "code",
   "execution_count": 38,
   "metadata": {},
   "outputs": [
    {
     "name": "stdout",
     "output_type": "stream",
     "text": [
      "<class 'pandas.core.frame.DataFrame'>\n",
      "RangeIndex: 325216 entries, 0 to 325215\n",
      "Columns: 307 entries, price to not_repaired_yes\n",
      "dtypes: int64(4), uint8(303)\n",
      "memory usage: 103.9 MB\n"
     ]
    }
   ],
   "source": [
    "data_ohe = pd.get_dummies(main_data, drop_first=True)\n",
    "data_ohe.info()"
   ]
  },
  {
   "cell_type": "code",
   "execution_count": 39,
   "metadata": {},
   "outputs": [
    {
     "data": {
      "text/html": [
       "<div>\n",
       "<style scoped>\n",
       "    .dataframe tbody tr th:only-of-type {\n",
       "        vertical-align: middle;\n",
       "    }\n",
       "\n",
       "    .dataframe tbody tr th {\n",
       "        vertical-align: top;\n",
       "    }\n",
       "\n",
       "    .dataframe thead th {\n",
       "        text-align: right;\n",
       "    }\n",
       "</style>\n",
       "<table border=\"1\" class=\"dataframe\">\n",
       "  <thead>\n",
       "    <tr style=\"text-align: right;\">\n",
       "      <th></th>\n",
       "      <th>price</th>\n",
       "      <th>registration_year</th>\n",
       "      <th>power</th>\n",
       "      <th>kilometer</th>\n",
       "      <th>vehicle_type_convertible</th>\n",
       "      <th>vehicle_type_coupe</th>\n",
       "      <th>vehicle_type_other</th>\n",
       "      <th>vehicle_type_sedan</th>\n",
       "      <th>vehicle_type_small</th>\n",
       "      <th>vehicle_type_suv</th>\n",
       "      <th>...</th>\n",
       "      <th>brand_smart</th>\n",
       "      <th>brand_sonstige_autos</th>\n",
       "      <th>brand_subaru</th>\n",
       "      <th>brand_suzuki</th>\n",
       "      <th>brand_toyota</th>\n",
       "      <th>brand_trabant</th>\n",
       "      <th>brand_volkswagen</th>\n",
       "      <th>brand_volvo</th>\n",
       "      <th>not_repaired_unknown</th>\n",
       "      <th>not_repaired_yes</th>\n",
       "    </tr>\n",
       "  </thead>\n",
       "  <tbody>\n",
       "    <tr>\n",
       "      <th>0</th>\n",
       "      <td>480</td>\n",
       "      <td>1993</td>\n",
       "      <td>93</td>\n",
       "      <td>150000</td>\n",
       "      <td>0</td>\n",
       "      <td>0</td>\n",
       "      <td>1</td>\n",
       "      <td>0</td>\n",
       "      <td>0</td>\n",
       "      <td>0</td>\n",
       "      <td>...</td>\n",
       "      <td>0</td>\n",
       "      <td>0</td>\n",
       "      <td>0</td>\n",
       "      <td>0</td>\n",
       "      <td>0</td>\n",
       "      <td>0</td>\n",
       "      <td>1</td>\n",
       "      <td>0</td>\n",
       "      <td>1</td>\n",
       "      <td>0</td>\n",
       "    </tr>\n",
       "    <tr>\n",
       "      <th>1</th>\n",
       "      <td>18300</td>\n",
       "      <td>2011</td>\n",
       "      <td>190</td>\n",
       "      <td>125000</td>\n",
       "      <td>0</td>\n",
       "      <td>1</td>\n",
       "      <td>0</td>\n",
       "      <td>0</td>\n",
       "      <td>0</td>\n",
       "      <td>0</td>\n",
       "      <td>...</td>\n",
       "      <td>0</td>\n",
       "      <td>0</td>\n",
       "      <td>0</td>\n",
       "      <td>0</td>\n",
       "      <td>0</td>\n",
       "      <td>0</td>\n",
       "      <td>0</td>\n",
       "      <td>0</td>\n",
       "      <td>0</td>\n",
       "      <td>1</td>\n",
       "    </tr>\n",
       "    <tr>\n",
       "      <th>2</th>\n",
       "      <td>9800</td>\n",
       "      <td>2004</td>\n",
       "      <td>163</td>\n",
       "      <td>125000</td>\n",
       "      <td>0</td>\n",
       "      <td>0</td>\n",
       "      <td>0</td>\n",
       "      <td>0</td>\n",
       "      <td>0</td>\n",
       "      <td>1</td>\n",
       "      <td>...</td>\n",
       "      <td>0</td>\n",
       "      <td>0</td>\n",
       "      <td>0</td>\n",
       "      <td>0</td>\n",
       "      <td>0</td>\n",
       "      <td>0</td>\n",
       "      <td>0</td>\n",
       "      <td>0</td>\n",
       "      <td>1</td>\n",
       "      <td>0</td>\n",
       "    </tr>\n",
       "    <tr>\n",
       "      <th>3</th>\n",
       "      <td>1500</td>\n",
       "      <td>2001</td>\n",
       "      <td>75</td>\n",
       "      <td>150000</td>\n",
       "      <td>0</td>\n",
       "      <td>0</td>\n",
       "      <td>0</td>\n",
       "      <td>0</td>\n",
       "      <td>1</td>\n",
       "      <td>0</td>\n",
       "      <td>...</td>\n",
       "      <td>0</td>\n",
       "      <td>0</td>\n",
       "      <td>0</td>\n",
       "      <td>0</td>\n",
       "      <td>0</td>\n",
       "      <td>0</td>\n",
       "      <td>1</td>\n",
       "      <td>0</td>\n",
       "      <td>0</td>\n",
       "      <td>0</td>\n",
       "    </tr>\n",
       "    <tr>\n",
       "      <th>4</th>\n",
       "      <td>3600</td>\n",
       "      <td>2008</td>\n",
       "      <td>69</td>\n",
       "      <td>90000</td>\n",
       "      <td>0</td>\n",
       "      <td>0</td>\n",
       "      <td>0</td>\n",
       "      <td>0</td>\n",
       "      <td>1</td>\n",
       "      <td>0</td>\n",
       "      <td>...</td>\n",
       "      <td>0</td>\n",
       "      <td>0</td>\n",
       "      <td>0</td>\n",
       "      <td>0</td>\n",
       "      <td>0</td>\n",
       "      <td>0</td>\n",
       "      <td>0</td>\n",
       "      <td>0</td>\n",
       "      <td>0</td>\n",
       "      <td>0</td>\n",
       "    </tr>\n",
       "    <tr>\n",
       "      <th>...</th>\n",
       "      <td>...</td>\n",
       "      <td>...</td>\n",
       "      <td>...</td>\n",
       "      <td>...</td>\n",
       "      <td>...</td>\n",
       "      <td>...</td>\n",
       "      <td>...</td>\n",
       "      <td>...</td>\n",
       "      <td>...</td>\n",
       "      <td>...</td>\n",
       "      <td>...</td>\n",
       "      <td>...</td>\n",
       "      <td>...</td>\n",
       "      <td>...</td>\n",
       "      <td>...</td>\n",
       "      <td>...</td>\n",
       "      <td>...</td>\n",
       "      <td>...</td>\n",
       "      <td>...</td>\n",
       "      <td>...</td>\n",
       "      <td>...</td>\n",
       "    </tr>\n",
       "    <tr>\n",
       "      <th>325211</th>\n",
       "      <td>1150</td>\n",
       "      <td>2000</td>\n",
       "      <td>93</td>\n",
       "      <td>150000</td>\n",
       "      <td>0</td>\n",
       "      <td>0</td>\n",
       "      <td>0</td>\n",
       "      <td>0</td>\n",
       "      <td>0</td>\n",
       "      <td>0</td>\n",
       "      <td>...</td>\n",
       "      <td>0</td>\n",
       "      <td>0</td>\n",
       "      <td>0</td>\n",
       "      <td>0</td>\n",
       "      <td>0</td>\n",
       "      <td>0</td>\n",
       "      <td>0</td>\n",
       "      <td>0</td>\n",
       "      <td>0</td>\n",
       "      <td>0</td>\n",
       "    </tr>\n",
       "    <tr>\n",
       "      <th>325212</th>\n",
       "      <td>2200</td>\n",
       "      <td>2005</td>\n",
       "      <td>93</td>\n",
       "      <td>20000</td>\n",
       "      <td>0</td>\n",
       "      <td>0</td>\n",
       "      <td>1</td>\n",
       "      <td>0</td>\n",
       "      <td>0</td>\n",
       "      <td>0</td>\n",
       "      <td>...</td>\n",
       "      <td>0</td>\n",
       "      <td>1</td>\n",
       "      <td>0</td>\n",
       "      <td>0</td>\n",
       "      <td>0</td>\n",
       "      <td>0</td>\n",
       "      <td>0</td>\n",
       "      <td>0</td>\n",
       "      <td>1</td>\n",
       "      <td>0</td>\n",
       "    </tr>\n",
       "    <tr>\n",
       "      <th>325213</th>\n",
       "      <td>1199</td>\n",
       "      <td>2000</td>\n",
       "      <td>101</td>\n",
       "      <td>125000</td>\n",
       "      <td>1</td>\n",
       "      <td>0</td>\n",
       "      <td>0</td>\n",
       "      <td>0</td>\n",
       "      <td>0</td>\n",
       "      <td>0</td>\n",
       "      <td>...</td>\n",
       "      <td>1</td>\n",
       "      <td>0</td>\n",
       "      <td>0</td>\n",
       "      <td>0</td>\n",
       "      <td>0</td>\n",
       "      <td>0</td>\n",
       "      <td>0</td>\n",
       "      <td>0</td>\n",
       "      <td>0</td>\n",
       "      <td>0</td>\n",
       "    </tr>\n",
       "    <tr>\n",
       "      <th>325214</th>\n",
       "      <td>9200</td>\n",
       "      <td>1996</td>\n",
       "      <td>102</td>\n",
       "      <td>150000</td>\n",
       "      <td>0</td>\n",
       "      <td>0</td>\n",
       "      <td>0</td>\n",
       "      <td>0</td>\n",
       "      <td>0</td>\n",
       "      <td>0</td>\n",
       "      <td>...</td>\n",
       "      <td>0</td>\n",
       "      <td>0</td>\n",
       "      <td>0</td>\n",
       "      <td>0</td>\n",
       "      <td>0</td>\n",
       "      <td>0</td>\n",
       "      <td>1</td>\n",
       "      <td>0</td>\n",
       "      <td>0</td>\n",
       "      <td>0</td>\n",
       "    </tr>\n",
       "    <tr>\n",
       "      <th>325215</th>\n",
       "      <td>3400</td>\n",
       "      <td>2002</td>\n",
       "      <td>100</td>\n",
       "      <td>150000</td>\n",
       "      <td>0</td>\n",
       "      <td>0</td>\n",
       "      <td>0</td>\n",
       "      <td>0</td>\n",
       "      <td>0</td>\n",
       "      <td>0</td>\n",
       "      <td>...</td>\n",
       "      <td>0</td>\n",
       "      <td>0</td>\n",
       "      <td>0</td>\n",
       "      <td>0</td>\n",
       "      <td>0</td>\n",
       "      <td>0</td>\n",
       "      <td>1</td>\n",
       "      <td>0</td>\n",
       "      <td>1</td>\n",
       "      <td>0</td>\n",
       "    </tr>\n",
       "  </tbody>\n",
       "</table>\n",
       "<p>325216 rows × 307 columns</p>\n",
       "</div>"
      ],
      "text/plain": [
       "        price  registration_year  power  kilometer  vehicle_type_convertible  \\\n",
       "0         480               1993     93     150000                         0   \n",
       "1       18300               2011    190     125000                         0   \n",
       "2        9800               2004    163     125000                         0   \n",
       "3        1500               2001     75     150000                         0   \n",
       "4        3600               2008     69      90000                         0   \n",
       "...       ...                ...    ...        ...                       ...   \n",
       "325211   1150               2000     93     150000                         0   \n",
       "325212   2200               2005     93      20000                         0   \n",
       "325213   1199               2000    101     125000                         1   \n",
       "325214   9200               1996    102     150000                         0   \n",
       "325215   3400               2002    100     150000                         0   \n",
       "\n",
       "        vehicle_type_coupe  vehicle_type_other  vehicle_type_sedan  \\\n",
       "0                        0                   1                   0   \n",
       "1                        1                   0                   0   \n",
       "2                        0                   0                   0   \n",
       "3                        0                   0                   0   \n",
       "4                        0                   0                   0   \n",
       "...                    ...                 ...                 ...   \n",
       "325211                   0                   0                   0   \n",
       "325212                   0                   1                   0   \n",
       "325213                   0                   0                   0   \n",
       "325214                   0                   0                   0   \n",
       "325215                   0                   0                   0   \n",
       "\n",
       "        vehicle_type_small  vehicle_type_suv  ...  brand_smart  \\\n",
       "0                        0                 0  ...            0   \n",
       "1                        0                 0  ...            0   \n",
       "2                        0                 1  ...            0   \n",
       "3                        1                 0  ...            0   \n",
       "4                        1                 0  ...            0   \n",
       "...                    ...               ...  ...          ...   \n",
       "325211                   0                 0  ...            0   \n",
       "325212                   0                 0  ...            0   \n",
       "325213                   0                 0  ...            1   \n",
       "325214                   0                 0  ...            0   \n",
       "325215                   0                 0  ...            0   \n",
       "\n",
       "        brand_sonstige_autos  brand_subaru  brand_suzuki  brand_toyota  \\\n",
       "0                          0             0             0             0   \n",
       "1                          0             0             0             0   \n",
       "2                          0             0             0             0   \n",
       "3                          0             0             0             0   \n",
       "4                          0             0             0             0   \n",
       "...                      ...           ...           ...           ...   \n",
       "325211                     0             0             0             0   \n",
       "325212                     1             0             0             0   \n",
       "325213                     0             0             0             0   \n",
       "325214                     0             0             0             0   \n",
       "325215                     0             0             0             0   \n",
       "\n",
       "        brand_trabant  brand_volkswagen  brand_volvo  not_repaired_unknown  \\\n",
       "0                   0                 1            0                     1   \n",
       "1                   0                 0            0                     0   \n",
       "2                   0                 0            0                     1   \n",
       "3                   0                 1            0                     0   \n",
       "4                   0                 0            0                     0   \n",
       "...               ...               ...          ...                   ...   \n",
       "325211              0                 0            0                     0   \n",
       "325212              0                 0            0                     1   \n",
       "325213              0                 0            0                     0   \n",
       "325214              0                 1            0                     0   \n",
       "325215              0                 1            0                     1   \n",
       "\n",
       "        not_repaired_yes  \n",
       "0                      0  \n",
       "1                      1  \n",
       "2                      0  \n",
       "3                      0  \n",
       "4                      0  \n",
       "...                  ...  \n",
       "325211                 0  \n",
       "325212                 0  \n",
       "325213                 0  \n",
       "325214                 0  \n",
       "325215                 0  \n",
       "\n",
       "[325216 rows x 307 columns]"
      ]
     },
     "execution_count": 39,
     "metadata": {},
     "output_type": "execute_result"
    }
   ],
   "source": [
    "data_ohe"
   ]
  },
  {
   "cell_type": "markdown",
   "metadata": {},
   "source": [
    "Прямое кодирование прошло успешно. В таблице теперь большое число столбцов.\n",
    "\n",
    "Теперь выполним отдельно порядковое кодирование."
   ]
  },
  {
   "cell_type": "code",
   "execution_count": 40,
   "metadata": {},
   "outputs": [
    {
     "data": {
      "text/html": [
       "<div>\n",
       "<style scoped>\n",
       "    .dataframe tbody tr th:only-of-type {\n",
       "        vertical-align: middle;\n",
       "    }\n",
       "\n",
       "    .dataframe tbody tr th {\n",
       "        vertical-align: top;\n",
       "    }\n",
       "\n",
       "    .dataframe thead th {\n",
       "        text-align: right;\n",
       "    }\n",
       "</style>\n",
       "<table border=\"1\" class=\"dataframe\">\n",
       "  <thead>\n",
       "    <tr style=\"text-align: right;\">\n",
       "      <th></th>\n",
       "      <th>price</th>\n",
       "      <th>vehicle_type</th>\n",
       "      <th>registration_year</th>\n",
       "      <th>gearbox</th>\n",
       "      <th>power</th>\n",
       "      <th>model</th>\n",
       "      <th>kilometer</th>\n",
       "      <th>fuel_type</th>\n",
       "      <th>brand</th>\n",
       "      <th>not_repaired</th>\n",
       "    </tr>\n",
       "  </thead>\n",
       "  <tbody>\n",
       "    <tr>\n",
       "      <th>0</th>\n",
       "      <td>480</td>\n",
       "      <td>3.0</td>\n",
       "      <td>1993</td>\n",
       "      <td>1.0</td>\n",
       "      <td>93</td>\n",
       "      <td>116.0</td>\n",
       "      <td>150000</td>\n",
       "      <td>6.0</td>\n",
       "      <td>38.0</td>\n",
       "      <td>1.0</td>\n",
       "    </tr>\n",
       "    <tr>\n",
       "      <th>1</th>\n",
       "      <td>18300</td>\n",
       "      <td>2.0</td>\n",
       "      <td>2011</td>\n",
       "      <td>1.0</td>\n",
       "      <td>190</td>\n",
       "      <td>166.0</td>\n",
       "      <td>125000</td>\n",
       "      <td>2.0</td>\n",
       "      <td>1.0</td>\n",
       "      <td>2.0</td>\n",
       "    </tr>\n",
       "    <tr>\n",
       "      <th>2</th>\n",
       "      <td>9800</td>\n",
       "      <td>6.0</td>\n",
       "      <td>2004</td>\n",
       "      <td>0.0</td>\n",
       "      <td>163</td>\n",
       "      <td>117.0</td>\n",
       "      <td>125000</td>\n",
       "      <td>2.0</td>\n",
       "      <td>14.0</td>\n",
       "      <td>1.0</td>\n",
       "    </tr>\n",
       "    <tr>\n",
       "      <th>3</th>\n",
       "      <td>1500</td>\n",
       "      <td>5.0</td>\n",
       "      <td>2001</td>\n",
       "      <td>1.0</td>\n",
       "      <td>75</td>\n",
       "      <td>116.0</td>\n",
       "      <td>150000</td>\n",
       "      <td>6.0</td>\n",
       "      <td>38.0</td>\n",
       "      <td>0.0</td>\n",
       "    </tr>\n",
       "    <tr>\n",
       "      <th>4</th>\n",
       "      <td>3600</td>\n",
       "      <td>5.0</td>\n",
       "      <td>2008</td>\n",
       "      <td>1.0</td>\n",
       "      <td>69</td>\n",
       "      <td>101.0</td>\n",
       "      <td>90000</td>\n",
       "      <td>2.0</td>\n",
       "      <td>31.0</td>\n",
       "      <td>0.0</td>\n",
       "    </tr>\n",
       "  </tbody>\n",
       "</table>\n",
       "</div>"
      ],
      "text/plain": [
       "   price  vehicle_type  registration_year  gearbox  power  model  kilometer  \\\n",
       "0    480           3.0               1993      1.0     93  116.0     150000   \n",
       "1  18300           2.0               2011      1.0    190  166.0     125000   \n",
       "2   9800           6.0               2004      0.0    163  117.0     125000   \n",
       "3   1500           5.0               2001      1.0     75  116.0     150000   \n",
       "4   3600           5.0               2008      1.0     69  101.0      90000   \n",
       "\n",
       "   fuel_type  brand  not_repaired  \n",
       "0        6.0   38.0           1.0  \n",
       "1        2.0    1.0           2.0  \n",
       "2        2.0   14.0           1.0  \n",
       "3        6.0   38.0           0.0  \n",
       "4        2.0   31.0           0.0  "
      ]
     },
     "execution_count": 40,
     "metadata": {},
     "output_type": "execute_result"
    }
   ],
   "source": [
    "categorical = ['vehicle_type', 'gearbox', 'model', 'fuel_type', 'brand', 'not_repaired']\n",
    "data_ord = main_data.copy()\n",
    "encoder = OrdinalEncoder()\n",
    "data_ord[categorical] = encoder.fit_transform(data_ord[categorical])\n",
    "data_ord.head(5)"
   ]
  },
  {
   "cell_type": "markdown",
   "metadata": {},
   "source": [
    "Порядковое кодирование прошло успешно.\n",
    "\n",
    "Теперь проведём преобразование типов категориальных признаков из object в category для моделей градиентного бустинга."
   ]
  },
  {
   "cell_type": "code",
   "execution_count": 41,
   "metadata": {},
   "outputs": [
    {
     "name": "stdout",
     "output_type": "stream",
     "text": [
      "<class 'pandas.core.frame.DataFrame'>\n",
      "RangeIndex: 325216 entries, 0 to 325215\n",
      "Data columns (total 10 columns):\n",
      " #   Column             Non-Null Count   Dtype   \n",
      "---  ------             --------------   -----   \n",
      " 0   price              325216 non-null  int64   \n",
      " 1   vehicle_type       325216 non-null  category\n",
      " 2   registration_year  325216 non-null  int64   \n",
      " 3   gearbox            325216 non-null  category\n",
      " 4   power              325216 non-null  int64   \n",
      " 5   model              325216 non-null  category\n",
      " 6   kilometer          325216 non-null  int64   \n",
      " 7   fuel_type          325216 non-null  category\n",
      " 8   brand              325216 non-null  category\n",
      " 9   not_repaired       325216 non-null  category\n",
      "dtypes: category(6), int64(4)\n",
      "memory usage: 12.1 MB\n"
     ]
    }
   ],
   "source": [
    "for c in categorical:\n",
    "    main_data[c] = main_data[c].astype('category')\n",
    "main_data.info()"
   ]
  },
  {
   "cell_type": "markdown",
   "metadata": {},
   "source": [
    "Преобразование типов object в category прошло успешно."
   ]
  },
  {
   "cell_type": "markdown",
   "metadata": {},
   "source": [
    "#### Разделение на выборки"
   ]
  },
  {
   "cell_type": "markdown",
   "metadata": {},
   "source": [
    "Разделим теперь даннные на обучающую и тестовую выборки. Валидационную выборку создавать не нужно, она будет автоматически создаваться далее при работе функции GridSearchCV. Произведём отдельно разделение датасета после прямого кодирования, после порядкового кодирования и разделение датасета без кодирования.\n",
    "\n",
    "Так как далее будут идти схожие блоки действий, то создадим функцию для разделения на выборки."
   ]
  },
  {
   "cell_type": "code",
   "execution_count": 42,
   "metadata": {},
   "outputs": [],
   "source": [
    "def split_samples(data):\n",
    "    features = data.drop(['price'], axis=1)\n",
    "    target = data['price']\n",
    "    train_features, test_features, train_target, test_target = train_test_split(\n",
    "    features, target, test_size=0.2, random_state=123)\n",
    "    print('Размер обучающей выборки признаков:', train_features.shape)\n",
    "    print('Размер тестовой выборки признаков:', test_features.shape)\n",
    "    print('Размер обучающей выборки целевых признаков:', train_target.shape)\n",
    "    print('Размер тестовой выборки целевых признаков:', test_target.shape)\n",
    "    return train_features, test_features, train_target, test_target"
   ]
  },
  {
   "cell_type": "code",
   "execution_count": 43,
   "metadata": {
    "scrolled": true
   },
   "outputs": [
    {
     "name": "stdout",
     "output_type": "stream",
     "text": [
      "Размер обучающей выборки признаков: (260172, 306)\n",
      "Размер тестовой выборки признаков: (65044, 306)\n",
      "Размер обучающей выборки целевых признаков: (260172,)\n",
      "Размер тестовой выборки целевых признаков: (65044,)\n"
     ]
    }
   ],
   "source": [
    "# выборки на основе датасета с прямым кодированием\n",
    "train_features_ohe, test_features_ohe, train_target_ohe, test_target_ohe = split_samples(data_ohe)"
   ]
  },
  {
   "cell_type": "code",
   "execution_count": 44,
   "metadata": {},
   "outputs": [
    {
     "name": "stdout",
     "output_type": "stream",
     "text": [
      "Размер обучающей выборки признаков: (260172, 9)\n",
      "Размер тестовой выборки признаков: (65044, 9)\n",
      "Размер обучающей выборки целевых признаков: (260172,)\n",
      "Размер тестовой выборки целевых признаков: (65044,)\n"
     ]
    }
   ],
   "source": [
    "# выборки на основе датасета с порядковым кодированием\n",
    "train_features_ord, test_features_ord, train_target_ord, test_target_ord = split_samples(data_ord)"
   ]
  },
  {
   "cell_type": "code",
   "execution_count": 45,
   "metadata": {},
   "outputs": [
    {
     "name": "stdout",
     "output_type": "stream",
     "text": [
      "Размер обучающей выборки признаков: (260172, 9)\n",
      "Размер тестовой выборки признаков: (65044, 9)\n",
      "Размер обучающей выборки целевых признаков: (260172,)\n",
      "Размер тестовой выборки целевых признаков: (65044,)\n"
     ]
    }
   ],
   "source": [
    "# выборки на основе датасета без кодирования (но с преобразованным типом категориальных признаков)\n",
    "train_features, test_features, train_target, test_target = split_samples(main_data)"
   ]
  },
  {
   "cell_type": "markdown",
   "metadata": {},
   "source": [
    "Разделения на выборки прошли успешно."
   ]
  },
  {
   "cell_type": "markdown",
   "metadata": {},
   "source": [
    "#### Масштабирование признаков"
   ]
  },
  {
   "cell_type": "markdown",
   "metadata": {},
   "source": [
    "Теперь выполним масштабирование количественных признаков. Эта операция нужна только для линейных моделей. В нашем случае это линейная регрессия. Поэтому масштабирование выполним только для выборок с прямым кодированием, подготовленных для модели линейной регрессии."
   ]
  },
  {
   "cell_type": "code",
   "execution_count": 46,
   "metadata": {},
   "outputs": [
    {
     "data": {
      "text/html": [
       "<div>\n",
       "<style scoped>\n",
       "    .dataframe tbody tr th:only-of-type {\n",
       "        vertical-align: middle;\n",
       "    }\n",
       "\n",
       "    .dataframe tbody tr th {\n",
       "        vertical-align: top;\n",
       "    }\n",
       "\n",
       "    .dataframe thead th {\n",
       "        text-align: right;\n",
       "    }\n",
       "</style>\n",
       "<table border=\"1\" class=\"dataframe\">\n",
       "  <thead>\n",
       "    <tr style=\"text-align: right;\">\n",
       "      <th></th>\n",
       "      <th>registration_year</th>\n",
       "      <th>power</th>\n",
       "      <th>kilometer</th>\n",
       "      <th>vehicle_type_convertible</th>\n",
       "      <th>vehicle_type_coupe</th>\n",
       "      <th>vehicle_type_other</th>\n",
       "      <th>vehicle_type_sedan</th>\n",
       "      <th>vehicle_type_small</th>\n",
       "      <th>vehicle_type_suv</th>\n",
       "      <th>vehicle_type_wagon</th>\n",
       "      <th>...</th>\n",
       "      <th>brand_smart</th>\n",
       "      <th>brand_sonstige_autos</th>\n",
       "      <th>brand_subaru</th>\n",
       "      <th>brand_suzuki</th>\n",
       "      <th>brand_toyota</th>\n",
       "      <th>brand_trabant</th>\n",
       "      <th>brand_volkswagen</th>\n",
       "      <th>brand_volvo</th>\n",
       "      <th>not_repaired_unknown</th>\n",
       "      <th>not_repaired_yes</th>\n",
       "    </tr>\n",
       "  </thead>\n",
       "  <tbody>\n",
       "    <tr>\n",
       "      <th>105839</th>\n",
       "      <td>-0.653098</td>\n",
       "      <td>-0.481399</td>\n",
       "      <td>0.576054</td>\n",
       "      <td>0</td>\n",
       "      <td>0</td>\n",
       "      <td>0</td>\n",
       "      <td>0</td>\n",
       "      <td>0</td>\n",
       "      <td>0</td>\n",
       "      <td>1</td>\n",
       "      <td>...</td>\n",
       "      <td>0</td>\n",
       "      <td>0</td>\n",
       "      <td>0</td>\n",
       "      <td>0</td>\n",
       "      <td>0</td>\n",
       "      <td>0</td>\n",
       "      <td>0</td>\n",
       "      <td>0</td>\n",
       "      <td>0</td>\n",
       "      <td>0</td>\n",
       "    </tr>\n",
       "    <tr>\n",
       "      <th>314072</th>\n",
       "      <td>-0.320824</td>\n",
       "      <td>-0.334642</td>\n",
       "      <td>0.576054</td>\n",
       "      <td>0</td>\n",
       "      <td>0</td>\n",
       "      <td>0</td>\n",
       "      <td>0</td>\n",
       "      <td>0</td>\n",
       "      <td>0</td>\n",
       "      <td>1</td>\n",
       "      <td>...</td>\n",
       "      <td>0</td>\n",
       "      <td>0</td>\n",
       "      <td>0</td>\n",
       "      <td>0</td>\n",
       "      <td>0</td>\n",
       "      <td>0</td>\n",
       "      <td>0</td>\n",
       "      <td>0</td>\n",
       "      <td>0</td>\n",
       "      <td>0</td>\n",
       "    </tr>\n",
       "    <tr>\n",
       "      <th>247969</th>\n",
       "      <td>0.509860</td>\n",
       "      <td>-0.187885</td>\n",
       "      <td>0.576054</td>\n",
       "      <td>0</td>\n",
       "      <td>0</td>\n",
       "      <td>0</td>\n",
       "      <td>0</td>\n",
       "      <td>0</td>\n",
       "      <td>0</td>\n",
       "      <td>0</td>\n",
       "      <td>...</td>\n",
       "      <td>0</td>\n",
       "      <td>0</td>\n",
       "      <td>0</td>\n",
       "      <td>0</td>\n",
       "      <td>0</td>\n",
       "      <td>0</td>\n",
       "      <td>0</td>\n",
       "      <td>0</td>\n",
       "      <td>0</td>\n",
       "      <td>0</td>\n",
       "    </tr>\n",
       "  </tbody>\n",
       "</table>\n",
       "<p>3 rows × 306 columns</p>\n",
       "</div>"
      ],
      "text/plain": [
       "        registration_year     power  kilometer  vehicle_type_convertible  \\\n",
       "105839          -0.653098 -0.481399   0.576054                         0   \n",
       "314072          -0.320824 -0.334642   0.576054                         0   \n",
       "247969           0.509860 -0.187885   0.576054                         0   \n",
       "\n",
       "        vehicle_type_coupe  vehicle_type_other  vehicle_type_sedan  \\\n",
       "105839                   0                   0                   0   \n",
       "314072                   0                   0                   0   \n",
       "247969                   0                   0                   0   \n",
       "\n",
       "        vehicle_type_small  vehicle_type_suv  vehicle_type_wagon  ...  \\\n",
       "105839                   0                 0                   1  ...   \n",
       "314072                   0                 0                   1  ...   \n",
       "247969                   0                 0                   0  ...   \n",
       "\n",
       "        brand_smart  brand_sonstige_autos  brand_subaru  brand_suzuki  \\\n",
       "105839            0                     0             0             0   \n",
       "314072            0                     0             0             0   \n",
       "247969            0                     0             0             0   \n",
       "\n",
       "        brand_toyota  brand_trabant  brand_volkswagen  brand_volvo  \\\n",
       "105839             0              0                 0            0   \n",
       "314072             0              0                 0            0   \n",
       "247969             0              0                 0            0   \n",
       "\n",
       "        not_repaired_unknown  not_repaired_yes  \n",
       "105839                     0                 0  \n",
       "314072                     0                 0  \n",
       "247969                     0                 0  \n",
       "\n",
       "[3 rows x 306 columns]"
      ]
     },
     "metadata": {},
     "output_type": "display_data"
    },
    {
     "data": {
      "text/html": [
       "<div>\n",
       "<style scoped>\n",
       "    .dataframe tbody tr th:only-of-type {\n",
       "        vertical-align: middle;\n",
       "    }\n",
       "\n",
       "    .dataframe tbody tr th {\n",
       "        vertical-align: top;\n",
       "    }\n",
       "\n",
       "    .dataframe thead th {\n",
       "        text-align: right;\n",
       "    }\n",
       "</style>\n",
       "<table border=\"1\" class=\"dataframe\">\n",
       "  <thead>\n",
       "    <tr style=\"text-align: right;\">\n",
       "      <th></th>\n",
       "      <th>registration_year</th>\n",
       "      <th>power</th>\n",
       "      <th>kilometer</th>\n",
       "      <th>vehicle_type_convertible</th>\n",
       "      <th>vehicle_type_coupe</th>\n",
       "      <th>vehicle_type_other</th>\n",
       "      <th>vehicle_type_sedan</th>\n",
       "      <th>vehicle_type_small</th>\n",
       "      <th>vehicle_type_suv</th>\n",
       "      <th>vehicle_type_wagon</th>\n",
       "      <th>...</th>\n",
       "      <th>brand_smart</th>\n",
       "      <th>brand_sonstige_autos</th>\n",
       "      <th>brand_subaru</th>\n",
       "      <th>brand_suzuki</th>\n",
       "      <th>brand_toyota</th>\n",
       "      <th>brand_trabant</th>\n",
       "      <th>brand_volkswagen</th>\n",
       "      <th>brand_volvo</th>\n",
       "      <th>not_repaired_unknown</th>\n",
       "      <th>not_repaired_yes</th>\n",
       "    </tr>\n",
       "  </thead>\n",
       "  <tbody>\n",
       "    <tr>\n",
       "      <th>130218</th>\n",
       "      <td>0.011449</td>\n",
       "      <td>-1.270217</td>\n",
       "      <td>0.576054</td>\n",
       "      <td>0</td>\n",
       "      <td>0</td>\n",
       "      <td>0</td>\n",
       "      <td>0</td>\n",
       "      <td>1</td>\n",
       "      <td>0</td>\n",
       "      <td>0</td>\n",
       "      <td>...</td>\n",
       "      <td>0</td>\n",
       "      <td>0</td>\n",
       "      <td>0</td>\n",
       "      <td>0</td>\n",
       "      <td>0</td>\n",
       "      <td>0</td>\n",
       "      <td>1</td>\n",
       "      <td>0</td>\n",
       "      <td>0</td>\n",
       "      <td>0</td>\n",
       "    </tr>\n",
       "    <tr>\n",
       "      <th>122122</th>\n",
       "      <td>0.343723</td>\n",
       "      <td>0.380797</td>\n",
       "      <td>0.576054</td>\n",
       "      <td>0</td>\n",
       "      <td>0</td>\n",
       "      <td>0</td>\n",
       "      <td>1</td>\n",
       "      <td>0</td>\n",
       "      <td>0</td>\n",
       "      <td>0</td>\n",
       "      <td>...</td>\n",
       "      <td>0</td>\n",
       "      <td>0</td>\n",
       "      <td>0</td>\n",
       "      <td>0</td>\n",
       "      <td>0</td>\n",
       "      <td>0</td>\n",
       "      <td>1</td>\n",
       "      <td>0</td>\n",
       "      <td>0</td>\n",
       "      <td>0</td>\n",
       "    </tr>\n",
       "    <tr>\n",
       "      <th>169669</th>\n",
       "      <td>0.509860</td>\n",
       "      <td>1.004514</td>\n",
       "      <td>0.576054</td>\n",
       "      <td>0</td>\n",
       "      <td>0</td>\n",
       "      <td>0</td>\n",
       "      <td>0</td>\n",
       "      <td>0</td>\n",
       "      <td>0</td>\n",
       "      <td>0</td>\n",
       "      <td>...</td>\n",
       "      <td>0</td>\n",
       "      <td>0</td>\n",
       "      <td>0</td>\n",
       "      <td>0</td>\n",
       "      <td>0</td>\n",
       "      <td>0</td>\n",
       "      <td>1</td>\n",
       "      <td>0</td>\n",
       "      <td>1</td>\n",
       "      <td>0</td>\n",
       "    </tr>\n",
       "  </tbody>\n",
       "</table>\n",
       "<p>3 rows × 306 columns</p>\n",
       "</div>"
      ],
      "text/plain": [
       "        registration_year     power  kilometer  vehicle_type_convertible  \\\n",
       "130218           0.011449 -1.270217   0.576054                         0   \n",
       "122122           0.343723  0.380797   0.576054                         0   \n",
       "169669           0.509860  1.004514   0.576054                         0   \n",
       "\n",
       "        vehicle_type_coupe  vehicle_type_other  vehicle_type_sedan  \\\n",
       "130218                   0                   0                   0   \n",
       "122122                   0                   0                   1   \n",
       "169669                   0                   0                   0   \n",
       "\n",
       "        vehicle_type_small  vehicle_type_suv  vehicle_type_wagon  ...  \\\n",
       "130218                   1                 0                   0  ...   \n",
       "122122                   0                 0                   0  ...   \n",
       "169669                   0                 0                   0  ...   \n",
       "\n",
       "        brand_smart  brand_sonstige_autos  brand_subaru  brand_suzuki  \\\n",
       "130218            0                     0             0             0   \n",
       "122122            0                     0             0             0   \n",
       "169669            0                     0             0             0   \n",
       "\n",
       "        brand_toyota  brand_trabant  brand_volkswagen  brand_volvo  \\\n",
       "130218             0              0                 1            0   \n",
       "122122             0              0                 1            0   \n",
       "169669             0              0                 1            0   \n",
       "\n",
       "        not_repaired_unknown  not_repaired_yes  \n",
       "130218                     0                 0  \n",
       "122122                     0                 0  \n",
       "169669                     1                 0  \n",
       "\n",
       "[3 rows x 306 columns]"
      ]
     },
     "metadata": {},
     "output_type": "display_data"
    }
   ],
   "source": [
    "numeric = ['registration_year','power', 'kilometer']\n",
    "scaler = StandardScaler()\n",
    "scaler.fit(train_features_ohe[numeric])\n",
    "train_features_ohe[numeric] = scaler.transform(train_features_ohe[numeric])\n",
    "test_features_ohe[numeric] = scaler.transform(test_features_ohe[numeric])\n",
    "display(train_features_ohe.head(3))\n",
    "display(test_features_ohe.head(3))"
   ]
  },
  {
   "cell_type": "markdown",
   "metadata": {},
   "source": [
    "Масштабирование признаков прошло успешно только для выборок с прямым кодированием."
   ]
  },
  {
   "cell_type": "markdown",
   "metadata": {},
   "source": [
    "## Построение моделей"
   ]
  },
  {
   "cell_type": "markdown",
   "metadata": {},
   "source": [
    "### Функции расчёта метрики, времени и scorer"
   ]
  },
  {
   "cell_type": "markdown",
   "metadata": {},
   "source": [
    "Так как в проекте требуется оценивать метрику RMSE, то создадим отдельную функцию для расчёта этой метрики и scorer, который потом будем использовать как параметр в функциях cross_val_score и GridSearchCV. Также не забудем про параметр greater_is_better, указывающий какое значение метрики лучше - большое или маленькое."
   ]
  },
  {
   "cell_type": "code",
   "execution_count": 47,
   "metadata": {},
   "outputs": [],
   "source": [
    "def rmse_score(target, predictions):\n",
    "    return mean_squared_error(target, predictions)**0.5\n",
    "\n",
    "scorer_rmse = make_scorer(rmse_score, greater_is_better=False)"
   ]
  },
  {
   "cell_type": "markdown",
   "metadata": {},
   "source": [
    "В процессе работы над проектом был выявлен повторяющийся участок программного кода, связанный с обучением модели и подсчётом времени и метрики качества. Поэтому создадим функцию, которая будет обучать модель, получать предсказания и рассчитывать время этих операций."
   ]
  },
  {
   "cell_type": "code",
   "execution_count": 48,
   "metadata": {},
   "outputs": [],
   "source": [
    "def times_calculations(model, train_features, train_target):\n",
    "    time1 = time.time()\n",
    "    model.fit(train_features, train_target)\n",
    "    time2 = time.time()\n",
    "    fit_time = time2 - time1\n",
    "\n",
    "    time1 = time.time()\n",
    "    predictions = model.predict(train_features)\n",
    "    time2 = time.time()\n",
    "    predict_time = time2 - time1 \n",
    "    \n",
    "    return fit_time, predict_time"
   ]
  },
  {
   "cell_type": "markdown",
   "metadata": {},
   "source": [
    "### Константная модель"
   ]
  },
  {
   "cell_type": "markdown",
   "metadata": {},
   "source": [
    "Построим константную модель, которая будет предсказывать всегда средние значения. Посчитанная метрика качества данной модели позволит в дальнейшем лучше оценить результаты реальных моделей. Качество модели будем оценивать метрикой RMSE c помощью кросс-валидации. Для константной модели применение кросс-валидации не обязательно. Но всё равно применим её для чистоты эксперимента, так как в дальнейшем метрика RMSE будет определяться через кросс-валидацию (и непосредственно через функцию cross_val_score, и через функцию GridSearchCV)."
   ]
  },
  {
   "cell_type": "code",
   "execution_count": 49,
   "metadata": {},
   "outputs": [
    {
     "name": "stdout",
     "output_type": "stream",
     "text": [
      "Константная модель имеет значение RMSE: 4527\n"
     ]
    }
   ],
   "source": [
    "model = DummyRegressor()\n",
    "scores = cross_val_score(model, train_features, train_target, cv=5, scoring=scorer_rmse)\n",
    "RMSE = abs(np.mean(scores))\n",
    "print(f'Константная модель имеет значение RMSE: {RMSE:.0f}')"
   ]
  },
  {
   "cell_type": "markdown",
   "metadata": {},
   "source": [
    "**Вывод:** качество предсказания крайне низкое, но для константной модели вполне ожидаемое. Планируемые к построению в дальнейшем реальные модели должны значительно превысить полученное значение RMSE."
   ]
  },
  {
   "cell_type": "markdown",
   "metadata": {},
   "source": [
    "### Модель линейной регрессии"
   ]
  },
  {
   "cell_type": "markdown",
   "metadata": {},
   "source": [
    "Построим теперь модель линейной регрессии и посмотрим на результат. Для расчёта метрики RMSE применим технику кросс-валидации.\n",
    "\n",
    "Так как в конце проекта потребуется сравнивать результаты работы моделей, то начнём заполнять таблицу с результатами работы модели (значение метрики RMSE, время обучения и время предсказания). Для наглядности назовём столбцы таблицы кириллическими именами и не в змеином регистре. Укажем также в каких единицах измеряется время.\n",
    "\n",
    "Для расчёта времени обучения или предсказания воспользуемся функцией *time* из одноименной библиотеки. С помощью этой функции можно определить время до выполнения операции и время после, а затем найти их разность. Результат будет соотвтествовать времени *wall time*, если бы использовалась магическая команда `%%time`."
   ]
  },
  {
   "cell_type": "code",
   "execution_count": 50,
   "metadata": {},
   "outputs": [],
   "source": [
    "# создание пустой таблицы для хранения результатов работы моделей\n",
    "model_results = pd.DataFrame({'Модель': [], 'RMSE':[], 'Время обучения, с': [], 'Время предсказания, с':[]})"
   ]
  },
  {
   "cell_type": "code",
   "execution_count": 51,
   "metadata": {},
   "outputs": [
    {
     "name": "stdout",
     "output_type": "stream",
     "text": [
      "Модель линейной регрессии имеет значение RMSE: 2519\n"
     ]
    }
   ],
   "source": [
    "model = LinearRegression(n_jobs=-1)\n",
    "fit_time, predict_time = times_calculations(model, train_features_ohe, train_target_ohe)\n",
    "\n",
    "scores = cross_val_score(model, train_features_ohe, train_target_ohe, cv=5, scoring=scorer_rmse)\n",
    "RMSE = abs(np.mean(scores))\n",
    "print(f'Модель линейной регрессии имеет значение RMSE: {RMSE:.0f}')\n",
    "\n",
    "#заполняем первую строку таблицы с результатами\n",
    "model_results.loc[0] = ['Linear Regression', RMSE, fit_time, predict_time]"
   ]
  },
  {
   "cell_type": "markdown",
   "metadata": {},
   "source": [
    "**Вывод:** при использовании модели линейной регрессии значение метрики RMSE намного лучше, чем у константной модели, но всё ещё неудовлетворительное. По условиям задачи значение RMSE должно быть ниже 2500."
   ]
  },
  {
   "cell_type": "markdown",
   "metadata": {},
   "source": [
    "### Модель \"Дерево решений\""
   ]
  },
  {
   "cell_type": "markdown",
   "metadata": {},
   "source": [
    "Построим модель \"Дерево решений\", в которой необходимо сначала подобрать оптимальные гиперпараметры. Для подбора гиперпараметров воспользуемся функцией GridSearchCV. Функция GridSearchCV самостоятельно разделит выборку для обучения на тренировочные и валидационные наборы данных с учётом значения гиперпараметра cv=5. Для модели \"Дерево решений\" будем применять выборки с порядковым кодированием.\n",
    "\n",
    "Используем для подбора три разных параметра модели. Сохранять значения времени будем уже после подбора гиперпараметров. А в ячейке ниже чисто для информативности воспользуемся магической командой `%%time`."
   ]
  },
  {
   "cell_type": "code",
   "execution_count": 52,
   "metadata": {},
   "outputs": [
    {
     "name": "stdout",
     "output_type": "stream",
     "text": [
      "CPU times: total: 6.73 s\n",
      "Wall time: 24.4 s\n"
     ]
    },
    {
     "data": {
      "text/plain": [
       "GridSearchCV(cv=5, estimator=DecisionTreeRegressor(random_state=123), n_jobs=-1,\n",
       "             param_grid={'max_depth': range(1, 12, 2),\n",
       "                         'min_samples_leaf': range(1, 12, 2),\n",
       "                         'min_samples_split': range(2, 7, 2)},\n",
       "             scoring=make_scorer(rmse_score, greater_is_better=False))"
      ]
     },
     "execution_count": 52,
     "metadata": {},
     "output_type": "execute_result"
    }
   ],
   "source": [
    "%%time\n",
    "\n",
    "estimator = DecisionTreeRegressor(random_state = 123)\n",
    "parameters = {'max_depth': range(1,12,2),\n",
    "              'min_samples_split': range(2,7,2),\n",
    "              'min_samples_leaf': range (1,12,2)\n",
    "             }\n",
    "clf1 = GridSearchCV(estimator, parameters, scoring=scorer_rmse, cv=5, n_jobs=-1)\n",
    "clf1.fit(train_features_ord, train_target_ord)"
   ]
  },
  {
   "cell_type": "code",
   "execution_count": 53,
   "metadata": {},
   "outputs": [
    {
     "data": {
      "text/plain": [
       "{'max_depth': 11, 'min_samples_leaf': 11, 'min_samples_split': 2}"
      ]
     },
     "metadata": {},
     "output_type": "display_data"
    },
    {
     "data": {
      "text/plain": [
       "DecisionTreeRegressor(max_depth=11, min_samples_leaf=11, random_state=123)"
      ]
     },
     "metadata": {},
     "output_type": "display_data"
    },
    {
     "data": {
      "text/plain": [
       "-1904.7751438540568"
      ]
     },
     "metadata": {},
     "output_type": "display_data"
    }
   ],
   "source": [
    "display(clf1.best_params_)\n",
    "display(clf1.best_estimator_)\n",
    "display(clf1.best_score_)"
   ]
  },
  {
   "cell_type": "markdown",
   "metadata": {},
   "source": [
    "Теперь создадим модель \"Дерево решений\" с подобранными гиперпараметрами и получим значение RMSE."
   ]
  },
  {
   "cell_type": "code",
   "execution_count": 54,
   "metadata": {
    "scrolled": true
   },
   "outputs": [
    {
     "name": "stdout",
     "output_type": "stream",
     "text": [
      "Модель \"Дерево решений\" имеет значение RMSE: 1905\n"
     ]
    }
   ],
   "source": [
    "model = clf1.best_estimator_ \n",
    "\n",
    "fit_time, predict_time = times_calculations(model, train_features_ord, train_target_ord)\n",
    "\n",
    "RMSE = abs(clf1.best_score_)\n",
    "print(f'Модель \"Дерево решений\" имеет значение RMSE: {RMSE:.0f}')\n",
    "\n",
    "#заполняем следующую строку таблицы с результатами\n",
    "model_results.loc[1] = ['Decision Tree Regressor', RMSE, fit_time, predict_time]"
   ]
  },
  {
   "cell_type": "markdown",
   "metadata": {},
   "source": [
    "**Вывод:** результат отличный. Значение RMSE сильно уменьшилось. Рассмотренную модель можно использовать в задаче, но рассмотрим далее другие модели, возможно результаты будут ещё лучше."
   ]
  },
  {
   "cell_type": "markdown",
   "metadata": {},
   "source": [
    "### Модель \"Случайный лес\""
   ]
  },
  {
   "cell_type": "markdown",
   "metadata": {},
   "source": [
    "Рассмотрим модель \"Случайный лес\" и подберём её оптимальные гиперпараметры. К сожалению, ввиду долгого времени поиска оптимальных гиперпараметров, пришлось сократить их подбираемый набор. Были выбраны наиболее важные гиперпараметры, а также сокращены интервалы их поиска. При работе функции GridSearchCV будет оцениваться метрика RMSE через созданную функцию rmse_score.\n",
    "\n",
    "Для ускорения обучения модели применён параметр n_jobs=-1, что означает использование всех ядер и потоков процессора."
   ]
  },
  {
   "cell_type": "code",
   "execution_count": 55,
   "metadata": {},
   "outputs": [
    {
     "name": "stdout",
     "output_type": "stream",
     "text": [
      "CPU times: total: 1min 47s\n",
      "Wall time: 2min 15s\n"
     ]
    },
    {
     "data": {
      "text/plain": [
       "GridSearchCV(cv=5, estimator=RandomForestRegressor(n_jobs=-1, random_state=123),\n",
       "             param_grid={'max_depth': range(7, 16, 2),\n",
       "                         'n_estimators': [100, 120]},\n",
       "             scoring=make_scorer(rmse_score, greater_is_better=False))"
      ]
     },
     "execution_count": 55,
     "metadata": {},
     "output_type": "execute_result"
    }
   ],
   "source": [
    "%%time\n",
    "\n",
    "estimator = RandomForestRegressor(random_state = 123, n_jobs=-1)\n",
    "parameters = {'n_estimators': [100, 120],\n",
    "              'max_depth': range(7,16,2)\n",
    "             }\n",
    "clf2 = GridSearchCV(estimator, parameters, scoring=scorer_rmse, cv=5)\n",
    "clf2.fit(train_features_ord, train_target_ord)"
   ]
  },
  {
   "cell_type": "code",
   "execution_count": 56,
   "metadata": {},
   "outputs": [
    {
     "data": {
      "text/plain": [
       "{'max_depth': 15, 'n_estimators': 120}"
      ]
     },
     "metadata": {},
     "output_type": "display_data"
    },
    {
     "data": {
      "text/plain": [
       "RandomForestRegressor(max_depth=15, n_estimators=120, n_jobs=-1,\n",
       "                      random_state=123)"
      ]
     },
     "metadata": {},
     "output_type": "display_data"
    },
    {
     "data": {
      "text/plain": [
       "-1608.9655434508493"
      ]
     },
     "metadata": {},
     "output_type": "display_data"
    }
   ],
   "source": [
    "display(clf2.best_params_)\n",
    "display(clf2.best_estimator_)\n",
    "display(clf2.best_score_)"
   ]
  },
  {
   "cell_type": "markdown",
   "metadata": {},
   "source": [
    "Теперь создадим модель \"Случайный лес\" с подобранными гиперпараметрами и получим значение RMSE."
   ]
  },
  {
   "cell_type": "code",
   "execution_count": 57,
   "metadata": {},
   "outputs": [
    {
     "name": "stdout",
     "output_type": "stream",
     "text": [
      "Модель \"Случайный лес\" имеет значение RMSE: 1609\n"
     ]
    }
   ],
   "source": [
    "model = clf2.best_estimator_\n",
    "\n",
    "fit_time, predict_time = times_calculations(model, train_features_ord, train_target_ord)\n",
    "\n",
    "RMSE = abs(clf2.best_score_)\n",
    "print(f'Модель \"Случайный лес\" имеет значение RMSE: {RMSE:.0f}')\n",
    "\n",
    "#заполняем следующую строку таблицы с результатами\n",
    "model_results.loc[2] = ['Random Forest Regressor', RMSE, fit_time, predict_time]"
   ]
  },
  {
   "cell_type": "markdown",
   "metadata": {},
   "source": [
    "**Вывод:** модель \"Случайный лес\" показала ожидаемо ещё более высокий результат, чем \"Дерево решений\". Данную модель можно брать на вооружение, но необходимо далее ещё рассмотреть модели градиентного бустинга."
   ]
  },
  {
   "cell_type": "markdown",
   "metadata": {},
   "source": [
    "### Модель LightGBM"
   ]
  },
  {
   "cell_type": "markdown",
   "metadata": {},
   "source": [
    "Построим модель Light Gradient Boosted Machine (LightGBM) - эффективную реализацию ансамбля стохастического градиентного бустинга с открытым исходным кодом. Гиперпараметры модели как и ранее подберём с помощью GridSearchCV. Ввиду длительного времени подбора опять вынужденно сократим набор перебираемых гиперпараметров и их значений.\n",
    "\n",
    "Модель не требует кодирования признаков, но категориальные признаки должны иметь тип category. Преобразование признаков в этот тип было выполнено в п. 1.4.1.\n",
    "\n",
    "Примечание: при подборе параметров выяснилось, что параметр *max_depth* лучше не трогать и оставить со значением по умолчанию, а именно - без ограничений на глубину дерева. В этом случае результаты метрики качества получаются в разы лучше."
   ]
  },
  {
   "cell_type": "code",
   "execution_count": 58,
   "metadata": {
    "scrolled": true
   },
   "outputs": [
    {
     "name": "stdout",
     "output_type": "stream",
     "text": [
      "CPU times: total: 26min 50s\n",
      "Wall time: 1min 43s\n"
     ]
    },
    {
     "data": {
      "text/plain": [
       "GridSearchCV(cv=5,\n",
       "             estimator=LGBMRegressor(force_row_wise=True, n_jobs=-1,\n",
       "                                     random_state=123, verbosity=0),\n",
       "             param_grid={'learning_rate': [0.001, 0.01, 0.1],\n",
       "                         'n_estimators': [100, 300, 500],\n",
       "                         'num_leaves': [21, 31, 51]},\n",
       "             scoring=make_scorer(rmse_score, greater_is_better=False))"
      ]
     },
     "execution_count": 58,
     "metadata": {},
     "output_type": "execute_result"
    }
   ],
   "source": [
    "%%time\n",
    "\n",
    "estimator = LGBMRegressor(verbosity = 0, force_row_wise=True, n_jobs=-1, random_state = 123)\n",
    "parameters = {'n_estimators': [100, 300, 500],\n",
    "              'num_leaves': [21,31,51],\n",
    "              'learning_rate':[0.001, 0.01, 0.1]\n",
    "             }\n",
    "clf3 = GridSearchCV(estimator, parameters, scoring=scorer_rmse, cv=5)\n",
    "clf3.fit(train_features, train_target)"
   ]
  },
  {
   "cell_type": "code",
   "execution_count": 59,
   "metadata": {},
   "outputs": [
    {
     "data": {
      "text/plain": [
       "{'learning_rate': 0.1, 'n_estimators': 500, 'num_leaves': 51}"
      ]
     },
     "metadata": {},
     "output_type": "display_data"
    },
    {
     "data": {
      "text/plain": [
       "LGBMRegressor(force_row_wise=True, n_estimators=500, n_jobs=-1, num_leaves=51,\n",
       "              random_state=123, verbosity=0)"
      ]
     },
     "metadata": {},
     "output_type": "display_data"
    },
    {
     "data": {
      "text/plain": [
       "-1501.2399908293223"
      ]
     },
     "metadata": {},
     "output_type": "display_data"
    }
   ],
   "source": [
    "display(clf3.best_params_)\n",
    "display(clf3.best_estimator_)\n",
    "display(clf3.best_score_)"
   ]
  },
  {
   "cell_type": "code",
   "execution_count": 60,
   "metadata": {},
   "outputs": [
    {
     "name": "stdout",
     "output_type": "stream",
     "text": [
      "Модель LightGBM имеет значение RMSE: 1501\n"
     ]
    }
   ],
   "source": [
    "model = clf3.best_estimator_\n",
    "\n",
    "fit_time, predict_time = times_calculations(model, train_features, train_target)\n",
    "RMSE = abs(clf3.best_score_)\n",
    "print(f'Модель LightGBM имеет значение RMSE: {RMSE:.0f}')\n",
    "\n",
    "#заполняем следующую строку таблицы с результатами\n",
    "model_results.loc[3] = ['LightGBM', RMSE, fit_time, predict_time]"
   ]
  },
  {
   "cell_type": "markdown",
   "metadata": {},
   "source": [
    "**Вывод:** у модели градиентного бустинга LightGBM значение метрики RMSE стало ещё меньше, чем у модели \"Случайный лес\". Это очень хорошо, учитывая что подбор параметров модели LightGBM был ограничен. Далее имеет смысл рассмотреть ещё одну модель градиентного бустинга."
   ]
  },
  {
   "cell_type": "markdown",
   "metadata": {},
   "source": [
    "### Модель CatBoost"
   ]
  },
  {
   "cell_type": "markdown",
   "metadata": {},
   "source": [
    "Рассмотрим модель градиентного бустинга CatBoost. Гиперпараметры модели как и ранее подберём с помощью GridSearchCV. Ввиду длительного времени подбора опять вынужденно сократим набор перебираемых гиперпараметров и их значений.\n",
    "\n",
    "Модель не требует кодирования признаков, поэтому будем использовать выборки без кодирования. Используем для обучения модели ранее созданную выборку без кодирования признаков, но с преобразованным типом категориальных признаков в тип *category*.\n",
    "\n",
    "Примечание: выяснилось, что многие гиперпараметры у модели CatBoost имеют псевдонимы (aliases). И один и тот же параметр может называться несколькими именами. К примеру iterations и n_estimators - это один и тот же параметр. Воспользуемся теми именами, которые применялись в ранее рассмотренных моделях."
   ]
  },
  {
   "cell_type": "code",
   "execution_count": 61,
   "metadata": {},
   "outputs": [
    {
     "name": "stdout",
     "output_type": "stream",
     "text": [
      "CPU times: total: 5min 59s\n",
      "Wall time: 5min 16s\n"
     ]
    },
    {
     "data": {
      "text/plain": [
       "GridSearchCV(cv=5,\n",
       "             estimator=<catboost.core.CatBoostRegressor object at 0x000001F3986B9EB0>,\n",
       "             n_jobs=-1,\n",
       "             param_grid={'learning_rate': [0.03, 0.1, 0.3],\n",
       "                         'n_estimators': [100, 500]},\n",
       "             scoring=make_scorer(rmse_score, greater_is_better=False))"
      ]
     },
     "execution_count": 61,
     "metadata": {},
     "output_type": "execute_result"
    }
   ],
   "source": [
    "%%time\n",
    "\n",
    "estimator = CatBoostRegressor(cat_features=categorical, verbose=False, random_state = 123)\n",
    "parameters = {'n_estimators': [100, 500],\n",
    "              'learning_rate':[0.03, 0.1, 0.3]\n",
    "             }\n",
    "clf4 = GridSearchCV(estimator, parameters, scoring=scorer_rmse, cv=5, n_jobs=-1)\n",
    "clf4.fit(train_features, train_target)"
   ]
  },
  {
   "cell_type": "code",
   "execution_count": 62,
   "metadata": {},
   "outputs": [
    {
     "data": {
      "text/plain": [
       "{'learning_rate': 0.3, 'n_estimators': 500}"
      ]
     },
     "metadata": {},
     "output_type": "display_data"
    },
    {
     "data": {
      "text/plain": [
       "<catboost.core.CatBoostRegressor at 0x1f398f9cb80>"
      ]
     },
     "metadata": {},
     "output_type": "display_data"
    },
    {
     "data": {
      "text/plain": [
       "-1559.4221379686383"
      ]
     },
     "metadata": {},
     "output_type": "display_data"
    }
   ],
   "source": [
    "display(clf4.best_params_)\n",
    "display(clf4.best_estimator_)\n",
    "display(clf4.best_score_)"
   ]
  },
  {
   "cell_type": "code",
   "execution_count": 63,
   "metadata": {},
   "outputs": [
    {
     "name": "stdout",
     "output_type": "stream",
     "text": [
      "Модель CatBoost имеет значение RMSE: 1559\n"
     ]
    }
   ],
   "source": [
    "model = clf4.best_estimator_\n",
    "\n",
    "fit_time, predict_time = times_calculations(model, train_features, train_target)\n",
    "RMSE = abs(clf4.best_score_)\n",
    "print(f'Модель CatBoost имеет значение RMSE: {RMSE:.0f}')\n",
    "\n",
    "#заполняем следующую строку таблицы с результатами\n",
    "model_results.loc[4] = ['CatBoost', RMSE, fit_time, predict_time]"
   ]
  },
  {
   "cell_type": "markdown",
   "metadata": {},
   "source": [
    "**Вывод:** модель CatBoost показала хорошие результаты, учитывая тот факт, что пришлось значительно сократить набор и интервалы подбираемых гиперпараметров. Значение метрики RMSE меньше, чем у модели \"Случайный лес\", но больше чем у LightGBM. "
   ]
  },
  {
   "cell_type": "markdown",
   "metadata": {},
   "source": [
    "## Анализ моделей"
   ]
  },
  {
   "cell_type": "markdown",
   "metadata": {},
   "source": [
    "### Сравнение результатов и выбор лучшей модели"
   ]
  },
  {
   "cell_type": "markdown",
   "metadata": {},
   "source": [
    "Построение моделей в предыдущем разделе успешно выполнено, при этом была заполнена таблица с результатами работы моделей. Посмотрим, какие получились результаты. Сразу отсортируем таблицу по значению метрики RMSE."
   ]
  },
  {
   "cell_type": "code",
   "execution_count": 64,
   "metadata": {},
   "outputs": [
    {
     "data": {
      "text/html": [
       "<div>\n",
       "<style scoped>\n",
       "    .dataframe tbody tr th:only-of-type {\n",
       "        vertical-align: middle;\n",
       "    }\n",
       "\n",
       "    .dataframe tbody tr th {\n",
       "        vertical-align: top;\n",
       "    }\n",
       "\n",
       "    .dataframe thead th {\n",
       "        text-align: right;\n",
       "    }\n",
       "</style>\n",
       "<table border=\"1\" class=\"dataframe\">\n",
       "  <thead>\n",
       "    <tr style=\"text-align: right;\">\n",
       "      <th></th>\n",
       "      <th>Модель</th>\n",
       "      <th>RMSE</th>\n",
       "      <th>Время обучения, с</th>\n",
       "      <th>Время предсказания, с</th>\n",
       "    </tr>\n",
       "  </thead>\n",
       "  <tbody>\n",
       "    <tr>\n",
       "      <th>3</th>\n",
       "      <td>LightGBM</td>\n",
       "      <td>1501.239991</td>\n",
       "      <td>1.074446</td>\n",
       "      <td>0.505898</td>\n",
       "    </tr>\n",
       "    <tr>\n",
       "      <th>4</th>\n",
       "      <td>CatBoost</td>\n",
       "      <td>1559.422138</td>\n",
       "      <td>45.087523</td>\n",
       "      <td>0.174382</td>\n",
       "    </tr>\n",
       "    <tr>\n",
       "      <th>2</th>\n",
       "      <td>Random Forest Regressor</td>\n",
       "      <td>1608.965543</td>\n",
       "      <td>4.519890</td>\n",
       "      <td>0.325653</td>\n",
       "    </tr>\n",
       "    <tr>\n",
       "      <th>1</th>\n",
       "      <td>Decision Tree Regressor</td>\n",
       "      <td>1904.775144</td>\n",
       "      <td>0.352723</td>\n",
       "      <td>0.023007</td>\n",
       "    </tr>\n",
       "    <tr>\n",
       "      <th>0</th>\n",
       "      <td>Linear Regression</td>\n",
       "      <td>2518.721471</td>\n",
       "      <td>3.188063</td>\n",
       "      <td>0.228774</td>\n",
       "    </tr>\n",
       "  </tbody>\n",
       "</table>\n",
       "</div>"
      ],
      "text/plain": [
       "                    Модель         RMSE  Время обучения, с  \\\n",
       "3                 LightGBM  1501.239991           1.074446   \n",
       "4                 CatBoost  1559.422138          45.087523   \n",
       "2  Random Forest Regressor  1608.965543           4.519890   \n",
       "1  Decision Tree Regressor  1904.775144           0.352723   \n",
       "0        Linear Regression  2518.721471           3.188063   \n",
       "\n",
       "   Время предсказания, с  \n",
       "3               0.505898  \n",
       "4               0.174382  \n",
       "2               0.325653  \n",
       "1               0.023007  \n",
       "0               0.228774  "
      ]
     },
     "execution_count": 64,
     "metadata": {},
     "output_type": "execute_result"
    }
   ],
   "source": [
    "model_results.sort_values(by='RMSE')"
   ]
  },
  {
   "cell_type": "markdown",
   "metadata": {},
   "source": [
    "**Вывод:** однозначно, наилучшие результаты по качеству предсказания показала модель LightGBM. При этом у неё относительно небольшое время обучения, благодаря использованию процессора на 100%. Время предсказания у модели - на предпоследнем месте в сравнении с другими моделями. Но так как это время не превышает 1 с, то можно судить, что значение этого критерия удовлетворительное.\n",
    "\n",
    "Близкие результаты показали модели CatBoost и \"Случайный лес\". Но у них наблюдается значительное время обучения. По времени обучения выигрывает модель \"Дерево решений\", но это преимущество спадает на фоне невысокого качества предсказания.\n",
    "\n",
    "По условию задачи значение метрики RMSE должно быть не более 2500. По этому критерию подходят все модели кроме линейной регрессии. Но по совокупности характеристик для решения задачи выберем модель градиентного бустинга **LightGBM**."
   ]
  },
  {
   "cell_type": "markdown",
   "metadata": {},
   "source": [
    "### Проверка модели на тестовой выборке"
   ]
  },
  {
   "cell_type": "markdown",
   "metadata": {},
   "source": [
    "Проверим теперь качество выбранной модели на тестовой выборке: посчитаем метрику RMSE и определим время обучения и предсказания."
   ]
  },
  {
   "cell_type": "code",
   "execution_count": 65,
   "metadata": {},
   "outputs": [
    {
     "name": "stdout",
     "output_type": "stream",
     "text": [
      "Показатели качества модели LightGBM на тестовой выборке:\n",
      "    RMSE:                1506\n",
      "    Время обучения:      1.063 c\n",
      "    Время предсказания:  0.139 c\n"
     ]
    }
   ],
   "source": [
    "model = clf3.best_estimator_\n",
    "\n",
    "time1 = time.time()\n",
    "model.fit(train_features, train_target)\n",
    "time2 = time.time()\n",
    "fit_time = time2 - time1\n",
    "\n",
    "time1 = time.time()\n",
    "predictions = model.predict(test_features)\n",
    "time2 = time.time()\n",
    "predict_time = time2 - time1 \n",
    "\n",
    "RMSE = mean_squared_error(test_target, predictions)**0.5\n",
    "\n",
    "print('Показатели качества модели LightGBM на тестовой выборке:')\n",
    "print(f'{\"    RMSE: \":<25}{RMSE:.0f}')\n",
    "print(f'{\"    Время обучения: \":<25}{fit_time:.3f} c')\n",
    "print(f'{\"    Время предсказания: \":<25}{predict_time:.3f} c')"
   ]
  },
  {
   "cell_type": "markdown",
   "metadata": {},
   "source": [
    "**Вывод**: выбранная модель LihtGBM показала хорошее качество предсказания на тестовой выборке. Имеется лишь незначительное ухудшение значения RMSE в сравнении со значением после кросс-валидации в GridSearch. Времена обучения и предсказания при этом уменьшились."
   ]
  },
  {
   "cell_type": "markdown",
   "metadata": {},
   "source": [
    "## Общий вывод"
   ]
  },
  {
   "cell_type": "markdown",
   "metadata": {},
   "source": [
    "В проекте была выполнена загрузка даннных из источника и их предварительное изучение. На основе найденных проблем выполнена предобработка данных:\n",
    "- переименованы столбцы таблицы, удалены явные дубликаты, удалены столбцы, которые не нужны для обучения моделей;\n",
    "- заполнены пропуски в данных; \n",
    "- исследованы и исправлены аномалии в данных;\n",
    "- признаки проверены на мультиколлинеарность. Проверка не показала наличие сильных зависимостей между признаками.\n",
    "\n",
    "Следующим шагом выполнена подготовка признаков для дальнейшего обучения моделей: \n",
    "- выполнено кодирование категориальных признаков двумя видами кодирования: прямым и порядковым (создано два отдельных датасета); \n",
    "- данные разделены на тренировочную и тестовую выборки. Разделение выполнено для датасетов с разными видами кодирования, а также для исходного датасета без кодирования;\n",
    "- произведено масштабирование обучающих признаков для выборок с прямым кодированием (для линейной регрессии).\n",
    "\n",
    "Далее было произведено построение шести моделей, одна из которых константная, а остальные реальные. Результаты работы константной модели позволили лучше оценить в дальнейшем результаты работы реальных моделей. Из реальных моделей были построены: модель линейной регрессии, модель \"Дерево решений\", модель \"Случайный лес\" и две модели градиентного бустинга LightGBM и CatBoost. Предсказания моделей выполнялись на обучающей выборке, а метрика RMSE считалась на основе кросс-валидации.\n",
    "\n",
    "По условию задачи значение метрики RMSE должно быть не более 2500. По этому критерию подходят все реальные модели кроме линейной регрессии. Наилучшие результаты по качеству предсказания показала модель LightGBM. При этом у неё относительно небольшое время обучения. Для решения поставленной в проекте задачи выбрана именно эта модель. Качество предсказания выбранной модели LightGBM проверено на тестовой выборке. Результаты не имеют существенных различий cо значениями на этапе валидации модели."
   ]
  }
 ],
 "metadata": {
  "ExecuteTimeLog": [
   {
    "duration": 1884,
    "start_time": "2022-09-03T16:11:40.189Z"
   },
   {
    "duration": 1201,
    "start_time": "2022-09-03T16:11:42.075Z"
   },
   {
    "duration": 15,
    "start_time": "2022-09-03T16:11:43.278Z"
   },
   {
    "duration": 127,
    "start_time": "2022-09-03T16:11:43.295Z"
   },
   {
    "duration": 41,
    "start_time": "2022-09-03T16:11:43.423Z"
   },
   {
    "duration": 34,
    "start_time": "2022-09-03T16:11:43.466Z"
   },
   {
    "duration": 28,
    "start_time": "2022-09-03T16:11:43.502Z"
   },
   {
    "duration": 39,
    "start_time": "2022-09-03T16:11:43.537Z"
   },
   {
    "duration": 28,
    "start_time": "2022-09-03T16:11:43.577Z"
   },
   {
    "duration": 34,
    "start_time": "2022-09-03T16:11:43.651Z"
   },
   {
    "duration": 7,
    "start_time": "2022-09-03T16:11:44.731Z"
   },
   {
    "duration": 391,
    "start_time": "2022-09-03T16:11:45.041Z"
   },
   {
    "duration": 432,
    "start_time": "2022-09-03T16:11:45.439Z"
   },
   {
    "duration": 31,
    "start_time": "2022-09-03T16:11:45.873Z"
   },
   {
    "duration": 85,
    "start_time": "2022-09-03T16:11:46.840Z"
   },
   {
    "duration": 57,
    "start_time": "2022-09-03T16:11:47.552Z"
   },
   {
    "duration": 17,
    "start_time": "2022-09-03T16:11:47.930Z"
   },
   {
    "duration": 18,
    "start_time": "2022-09-03T16:11:48.449Z"
   },
   {
    "duration": 82,
    "start_time": "2022-09-03T16:11:49.026Z"
   },
   {
    "duration": 205,
    "start_time": "2022-09-03T16:11:50.051Z"
   },
   {
    "duration": 6,
    "start_time": "2022-09-03T16:11:50.385Z"
   },
   {
    "duration": 18,
    "start_time": "2022-09-03T16:11:50.696Z"
   },
   {
    "duration": 15,
    "start_time": "2022-09-03T16:11:51.286Z"
   },
   {
    "duration": 26,
    "start_time": "2022-09-03T16:11:51.866Z"
   },
   {
    "duration": 16,
    "start_time": "2022-09-03T16:11:52.229Z"
   },
   {
    "duration": 61,
    "start_time": "2022-09-03T16:11:52.538Z"
   },
   {
    "duration": 6,
    "start_time": "2022-09-03T16:11:53.253Z"
   },
   {
    "duration": 6,
    "start_time": "2022-09-03T16:11:53.877Z"
   },
   {
    "duration": 41,
    "start_time": "2022-09-03T16:11:54.350Z"
   },
   {
    "duration": 15,
    "start_time": "2022-09-03T16:11:54.724Z"
   },
   {
    "duration": 10,
    "start_time": "2022-09-03T16:11:55.087Z"
   },
   {
    "duration": 50,
    "start_time": "2022-09-03T16:11:55.589Z"
   },
   {
    "duration": 125,
    "start_time": "2022-09-03T16:11:55.941Z"
   },
   {
    "duration": 39,
    "start_time": "2022-09-03T16:11:57.726Z"
   },
   {
    "duration": 71,
    "start_time": "2022-09-03T16:11:58.885Z"
   }
  ],
  "kernelspec": {
   "display_name": "Python 3 (ipykernel)",
   "language": "python",
   "name": "python3"
  },
  "language_info": {
   "codemirror_mode": {
    "name": "ipython",
    "version": 3
   },
   "file_extension": ".py",
   "mimetype": "text/x-python",
   "name": "python",
   "nbconvert_exporter": "python",
   "pygments_lexer": "ipython3",
   "version": "3.9.12"
  },
  "toc": {
   "base_numbering": 1,
   "nav_menu": {},
   "number_sections": true,
   "sideBar": true,
   "skip_h1_title": true,
   "title_cell": "Содержание",
   "title_sidebar": "Содержание",
   "toc_cell": true,
   "toc_position": {
    "height": "calc(100% - 180px)",
    "left": "10px",
    "top": "150px",
    "width": "384px"
   },
   "toc_section_display": true,
   "toc_window_display": true
  }
 },
 "nbformat": 4,
 "nbformat_minor": 2
}
